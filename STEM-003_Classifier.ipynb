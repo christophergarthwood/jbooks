{
  "cells": [
    {
      "cell_type": "markdown",
      "metadata": {
        "id": "Jg3iJooMQjWA"
      },
      "source": [
        "# Artificial Intelligence\n",
        "## Classifier\n",
        "### Clothing\n",
        "\n",
        "Basic classification: Classify images of clothing.\n",
        "\n",
        "Classification is the process of predicting the class of given data points. Classes are sometimes called as targets/ labels or categories. Classification predictive modeling is the task of approximating a mapping function (f) from input variables (X) to discrete output variables (y).\n",
        "\n",
        "Said another way...\n",
        "\n",
        "A classifier in machine learning is an algorithm that automatically orders or categorizes data into one or more of a set of “classes.” The process of categorizing or classifying information based on certain characteristics is known as classification.\n",
        "\n",
        "For example, spam detection in email service providers can be identified as a classification problem. This is s binary classification since there are only 2 classes as spam and not spam. A classifier utilizes some training data to understand how given input variables relate to the class. In this case, known spam and non-spam emails have to be used as the training data. When the classifier is trained accurately, it can be used to detect an unknown email.\n",
        "\n",
        "Classification belongs to the category of supervised learning where the targets also provided with the input data. There are many applications in classification in many domains such as in credit approval, medical diagnosis, target marketing etc.\n",
        "\n",
        "\n",
        "Types of Classifiers:\n",
        "+ Binary Classifiers: These are used when there are only two possible classes. For example, an email classifier might be designed to detect spam and non-spam emails.\n",
        "+ Multiclass Classifiers: These handle situations where there are more than two classes. For instance, a classifier that categorizes news articles into topics like sports, politics, and technology.\n",
        "+ Multilabel Classifiers: These can assign multiple labels to each instance. For example, a movie could be classified into multiple genres like comedy,drama, and action simultaneously.\n",
        "\n",
        "\n",
        "\n",
        "### Reference:\n",
        "+ https://www.tensorflow.org/tutorials/keras/classification\n",
        "+ https://towardsdatascience.com/machine-learning-classifiers-a5cc4e1b0623"
      ]
    },
    {
      "cell_type": "markdown",
      "source": [
        "## Environment Check"
      ],
      "metadata": {
        "id": "Zramkw-P93C-"
      }
    },
    {
      "cell_type": "code",
      "execution_count": 1,
      "metadata": {
        "colab": {
          "base_uri": "https://localhost:8080/"
        },
        "id": "shY7a4DVQjWB",
        "executionInfo": {
          "status": "ok",
          "timestamp": 1717373071456,
          "user_tz": 300,
          "elapsed": 31,
          "user": {
            "displayName": "",
            "userId": ""
          }
        },
        "outputId": "bad348b0-8887-42f4-f685-2056c6a18a09"
      },
      "outputs": [
        {
          "output_type": "stream",
          "name": "stdout",
          "text": [
            "You are running this notebook in Google Colab.\n"
          ]
        }
      ],
      "source": [
        "# +++++++++++++++++++++++++++++++++++++++++++++++++++++++++++++++++++++++\n",
        "#- Google Colab Check\n",
        "# +++++++++++++++++++++++++++++++++++++++++++++++++++++++++++++++++++++++\n",
        "RunningInCOLAB = False\n",
        "RunningInCOLAB = 'google.colab' in str(get_ipython())\n",
        "\n",
        "if RunningInCOLAB:\n",
        "    print(\"You are running this notebook in Google Colab.\")\n",
        "else:\n",
        "    print(\"You are running this notebook with Jupyter iPython runtime.\")"
      ]
    },
    {
      "cell_type": "markdown",
      "source": [
        "## Library Management"
      ],
      "metadata": {
        "id": "nO_Hq5eq9joH"
      }
    },
    {
      "cell_type": "code",
      "source": [
        "############################################\n",
        "# INCLUDES\n",
        "############################################\n",
        "#libraries specific to this example\n",
        "## Imports\n",
        "import tensorflow as tf\n",
        "from tensorflow import keras\n",
        "\n",
        "import glob\n",
        "import imageio\n",
        "import matplotlib as matplt\n",
        "import matplotlib.pyplot as plt\n",
        "import numpy as np\n",
        "import os\n",
        "import PIL\n",
        "import time\n",
        "\n",
        "from IPython import display\n",
        "\n",
        "#a set of libraries that perhaps should always be in Python source\n",
        "import os\n",
        "import datetime\n",
        "import sys\n",
        "import gc\n",
        "import getopt\n",
        "import inspect\n",
        "import math\n",
        "import warnings\n",
        "\n",
        "#a darn useful library for creating paths and one I recommend you load to your environment\n",
        "from pathlib import Path\n",
        "\n",
        "from pydoc import help                          # can type in the python console `help(name of function)` to get the documentation\n",
        "\n",
        "warnings.filterwarnings('ignore')               # don't print out warnings"
      ],
      "metadata": {
        "id": "PJuXEPlkSo9p",
        "executionInfo": {
          "status": "ok",
          "timestamp": 1717373071456,
          "user_tz": 300,
          "elapsed": 28,
          "user": {
            "displayName": "",
            "userId": ""
          }
        }
      },
      "execution_count": 2,
      "outputs": []
    },
    {
      "cell_type": "markdown",
      "source": [
        "## Variables"
      ],
      "metadata": {
        "id": "Q9gpU3zJ9l9H"
      }
    },
    {
      "cell_type": "code",
      "source": [
        "############################################\n",
        "# GLOBAL VARIABLES\n",
        "############################################\n",
        "DEBUG = 1\n",
        "DEBUG_DATA = 0\n",
        "\n",
        "# CODE CONSTRAINTS\n",
        "VERSION_NAME    = \"MLCLASSIFIER\"\n",
        "VERSION_MAJOR   = 0\n",
        "VERSION_MINOR   = 0\n",
        "VERSION_RELEASE = 1\n",
        "\n",
        "#used for values outside standard ASCII, just do it, you'll need it\n",
        "ENCODING  =\"utf-8\"\n",
        "\n",
        "############################################\n",
        "# GLOBAL CONSTANTS\n",
        "############################################\n",
        "BUFFER_SIZE = 60000\n",
        "BATCH_SIZE = 256\n",
        "\n",
        "############################################\n",
        "# APPLICATION VARIABLES\n",
        "############################################\n",
        "\n",
        "############################################\n",
        "# GLOBAL CONFIGURATION\n",
        "############################################\n",
        "os.environ['PYTHONIOENCODING']=ENCODING\n"
      ],
      "metadata": {
        "id": "DoQDWB9s9n7H",
        "executionInfo": {
          "status": "ok",
          "timestamp": 1717373071456,
          "user_tz": 300,
          "elapsed": 28,
          "user": {
            "displayName": "",
            "userId": ""
          }
        }
      },
      "execution_count": 3,
      "outputs": []
    },
    {
      "cell_type": "markdown",
      "source": [
        "## Function"
      ],
      "metadata": {
        "id": "7FUa8QJT9tw_"
      }
    },
    {
      "cell_type": "code",
      "source": [
        "def lib_diagnostics():\n",
        "\n",
        "    try:\n",
        "        print(\"System version    #:{:>12}\".format(sys.version))\n",
        "    except Exception as e:\n",
        "        pass\n",
        "\n",
        "    try:\n",
        "        print(\"  NLTK version    #:{:>12}\".format(nltk.__version__))\n",
        "    except Exception as e:\n",
        "        pass\n",
        "\n",
        "    try:\n",
        "        netcdf4_version_info = nc.getlibversion().split(\" \")\n",
        "        print(\"netCDF4 version   #:{:>12}\".format(netcdf4_version_info[0]))\n",
        "    except Exception as e:\n",
        "        pass\n",
        "\n",
        "    try:\n",
        "        print(\"Matplotlib version#:{:>12}\".format(matplt.__version__))\n",
        "    except Exception as e:\n",
        "        pass\n",
        "\n",
        "    try:\n",
        "        print(\"Numpy version     #:{:>12}\".format(np.__version__))\n",
        "    except Exception as e:\n",
        "        pass\n",
        "\n",
        "    try:\n",
        "        print(\"Xarray version    #:{:>12}\".format(xr.__version__))\n",
        "    except Exception as e:\n",
        "        pass\n",
        "\n",
        "    try:\n",
        "        print(\"Pandas version    #:{:>12}\".format(pd.__version__))\n",
        "    except Exception as e:\n",
        "        pass\n",
        "\n",
        "    try:\n",
        "        print(\"TensorFlow version    #:{:>12}\".format(tf.version))\n",
        "    except Exception as e:\n",
        "        pass\n",
        "\n",
        "    try:\n",
        "        print(\"Geopandas version #:{:>12}\".format(gd.__version__))\n",
        "    except Exception as e:\n",
        "        pass\n",
        "\n",
        "    try:\n",
        "        print(\"SciPy version     #:{:>12}\".format(sp.__version__))\n",
        "    except Exception as e:\n",
        "        pass\n",
        "\n",
        "    return\n"
      ],
      "metadata": {
        "id": "v_CqUVLZ98Mz",
        "executionInfo": {
          "status": "ok",
          "timestamp": 1717373071456,
          "user_tz": 300,
          "elapsed": 27,
          "user": {
            "displayName": "",
            "userId": ""
          }
        }
      },
      "execution_count": 4,
      "outputs": []
    },
    {
      "cell_type": "markdown",
      "source": [
        "## Function Call"
      ],
      "metadata": {
        "id": "RG0mFzUX-DV1"
      }
    },
    {
      "cell_type": "code",
      "source": [
        "lib_diagnostics()"
      ],
      "metadata": {
        "colab": {
          "base_uri": "https://localhost:8080/"
        },
        "id": "SSOOEwn8-FKg",
        "executionInfo": {
          "status": "ok",
          "timestamp": 1717373071456,
          "user_tz": 300,
          "elapsed": 27,
          "user": {
            "displayName": "",
            "userId": ""
          }
        },
        "outputId": "b7ffc926-0e30-4524-e439-38b998a9330f"
      },
      "execution_count": 5,
      "outputs": [
        {
          "output_type": "stream",
          "name": "stdout",
          "text": [
            "System version    #:3.10.12 (main, Nov 20 2023, 15:14:05) [GCC 11.4.0]\n",
            "Matplotlib version#:       3.7.1\n",
            "Numpy version     #:      1.25.2\n"
          ]
        }
      ]
    },
    {
      "cell_type": "markdown",
      "metadata": {
        "id": "46JMSTY2QjWD"
      },
      "source": [
        "## Input Sources\n",
        "\n",
        "### Load and prepare the dataset\n",
        "\n",
        "You will use the MNIST dataset to obtain data.\n",
        "\n",
        "*Note*:\n",
        "MNIST database (Modified National Institute of Standards and Technology database) is a large database of handwritten digits that is commonly used for training various image processing systems.  Reference: https://en.wikipedia.org/wiki/MNIST_database\n",
        "\n",
        "This example uses the Fashion MNIST: https://github.com/zalandoresearch/fashion-mnist\n",
        "\n",
        "Fashion MNIST is intended as a drop-in replacement for the classic MNIST dataset—often used as the \"Hello, World\" of machine learning programs for computer vision. The MNIST dataset contains images of handwritten digits (0, 1, 2, etc.) in a format identical to that of the articles of clothing you'll use here.\n",
        "\n",
        "This guide uses Fashion MNIST for variety, and because it's a slightly more challenging problem than regular MNIST. Both datasets are relatively small and are used to verify that an algorithm works as expected. They're good starting points to test and debug code.\n",
        "\n",
        "Here, 60,000 images are used to train the network and 10,000 images to evaluate how accurately the network learned to classify images. You can access the Fashion MNIST directly from TensorFlow."
      ]
    },
    {
      "cell_type": "code",
      "source": [
        "#create reference to dataset\n",
        "fashion_mnist = keras.datasets.fashion_mnist\n",
        "\n",
        "#load the data and split into train/test datasets\n",
        "(train_images, train_labels), (test_images, test_labels) = fashion_mnist.load_data()"
      ],
      "metadata": {
        "id": "zVDRXgc1-UZo",
        "executionInfo": {
          "status": "ok",
          "timestamp": 1717373071457,
          "user_tz": 300,
          "elapsed": 27,
          "user": {
            "displayName": "",
            "userId": ""
          }
        }
      },
      "execution_count": 6,
      "outputs": []
    },
    {
      "cell_type": "code",
      "source": [
        "#Train variable details\n",
        "print(\"Your training data:\")\n",
        "print(\"{} shape is {}.\".format(\"Train images \", train_images.shape) )\n",
        "print(\"{} shape is {}.\".format(\"Train labels \", train_labels.shape) )\n",
        "print(\"{} sample structure is {}\".format(\"Train labels\", train_labels))\n",
        "print(\"These images and thier corresponding labels represent trusted data to train the model on.\")\n",
        "print(\"\")\n",
        "\n",
        "#Test variable details\n",
        "print(\"Your test data:\")\n",
        "print(\"{} shape is {}.\".format(\"Test images \", test_images.shape) )\n",
        "print(\"{} shape is {}.\".format(\"Test labels \", test_labels.shape) )\n",
        "print(\"{} sample structure is {}\".format(\"Test labels\", test_labels))\n",
        "print(\"These images and thier corresponding labels represent trusted data to test the model on.  How does the model know if it's performing well?\")\n",
        "print(\"By using the test data per iteration to check itself.\")"
      ],
      "metadata": {
        "colab": {
          "base_uri": "https://localhost:8080/"
        },
        "id": "ooY_0D7N-Yuo",
        "executionInfo": {
          "status": "ok",
          "timestamp": 1717373071457,
          "user_tz": 300,
          "elapsed": 27,
          "user": {
            "displayName": "",
            "userId": ""
          }
        },
        "outputId": "af2bf74e-9e5d-4689-f5f0-fbda7372fc18"
      },
      "execution_count": 7,
      "outputs": [
        {
          "output_type": "stream",
          "name": "stdout",
          "text": [
            "Your training data:\n",
            "Train images  shape is (60000, 28, 28).\n",
            "Train labels  shape is (60000,).\n",
            "Train labels sample structure is [9 0 0 ... 3 0 5]\n",
            "These images and thier corresponding labels represent trusted data to train the model on.\n",
            "\n",
            "Your test data:\n",
            "Test images  shape is (10000, 28, 28).\n",
            "Test labels  shape is (10000,).\n",
            "Test labels sample structure is [9 2 1 ... 8 1 5]\n",
            "These images and thier corresponding labels represent trusted data to test the model on.  How does the model know if it's performing well?\n",
            "By using the test data per iteration to check itself.\n"
          ]
        }
      ]
    },
    {
      "cell_type": "markdown",
      "source": [
        "### Dataset Definition\n",
        "\n",
        "The images are 28x28 NumPy arrays, with pixel values ranging from 0 to 255. The labels are an array of integers, ranging from 0 to 9. These correspond to the class of clothing the image represents:\n",
        "\n",
        "Label \tClass\n",
        "\n",
        "+ 0 \tT-shirt/top\n",
        "+ 1 \tTrouser\n",
        "+ 2 \tPullover\n",
        "+ 3 \tDress\n",
        "+ 4 \tCoat\n",
        "+ 5 \tSandal\n",
        "+ 6 \tShirt\n",
        "+ 7 \tSneaker\n",
        "+ 8 \tBag\n",
        "+ 9 \tAnkle boot\n",
        "\n",
        "Each image is mapped to a single label. Since the class names are not included with the dataset, store them here to use later when plotting the images:"
      ],
      "metadata": {
        "id": "fjHVk42F-lVq"
      }
    },
    {
      "cell_type": "code",
      "source": [
        "#associate \"human legible\" labels to the actual dataset\n",
        "class_names = ['T-shirt/top', 'Trouser', 'Pullover', 'Dress', 'Coat', 'Sandal', 'Shirt', 'Sneaker', 'Bag', 'Ankle boot']"
      ],
      "metadata": {
        "id": "9jTKLszX-o8A",
        "executionInfo": {
          "status": "ok",
          "timestamp": 1717373071457,
          "user_tz": 300,
          "elapsed": 27,
          "user": {
            "displayName": "",
            "userId": ""
          }
        }
      },
      "execution_count": 8,
      "outputs": []
    },
    {
      "cell_type": "markdown",
      "source": [
        "## Example Image from Dataset"
      ],
      "metadata": {
        "id": "aaILuoePQNmj"
      }
    },
    {
      "cell_type": "code",
      "source": [
        "#show the first image from the training dataset\n",
        "plt.figure()\n",
        "plt.imshow(train_images[1])\n",
        "plt.colorbar()\n",
        "plt.grid(False)\n",
        "plt.show()"
      ],
      "metadata": {
        "colab": {
          "base_uri": "https://localhost:8080/",
          "height": 430
        },
        "id": "PCTjK9jR_F93",
        "executionInfo": {
          "status": "ok",
          "timestamp": 1717373071457,
          "user_tz": 300,
          "elapsed": 26,
          "user": {
            "displayName": "",
            "userId": ""
          }
        },
        "outputId": "dd9da742-93e7-4f84-b71f-97da644e533d"
      },
      "execution_count": 9,
      "outputs": [
        {
          "output_type": "display_data",
          "data": {
            "text/plain": [
              "<Figure size 640x480 with 2 Axes>"
            ],
            "image/png": "[encoded data removed]"
          },
          "metadata": {}
        }
      ]
    },
    {
      "cell_type": "markdown",
      "source": [
        "## Preprocess the data\n",
        "\n",
        "The data must be preprocessed before training the network. If you inspect the first image in the training set, you will see that the pixel values fall in the range of 0 to 255:"
      ],
      "metadata": {
        "id": "oPMjfihG_CnA"
      }
    },
    {
      "cell_type": "markdown",
      "source": [
        "Scale these values to a range of 0 to 1 before feeding them to the neural network model. To do so, divide the values by 255. It's important that the training set and the testing set be preprocessed in the same way.  Ultimately your inference / prediction of data will follow the same method of scaling.\n",
        "\n",
        "If you don't make your inference inputs align to the same method(s) you used during training, you cannot expect the same level of quality result obtained during training."
      ],
      "metadata": {
        "id": "lxuYBu_T_Mnp"
      }
    },
    {
      "cell_type": "code",
      "source": [
        "#scale the images between 0 - 1\n",
        "train_images = train_images / 255.0\n",
        "test_images = test_images / 255.0"
      ],
      "metadata": {
        "id": "fdBgQHkF_Roe",
        "executionInfo": {
          "status": "ok",
          "timestamp": 1717373071457,
          "user_tz": 300,
          "elapsed": 25,
          "user": {
            "displayName": "",
            "userId": ""
          }
        }
      },
      "execution_count": 10,
      "outputs": []
    },
    {
      "cell_type": "markdown",
      "source": [
        "## Show Sample Data\n",
        "Show the first 25 images from the training dataset and display the classification name with each."
      ],
      "metadata": {
        "id": "oa3V9P3H_ZMH"
      }
    },
    {
      "cell_type": "code",
      "source": [
        "#sneak peek of the data\n",
        "#Did you notice a difference in the output of the data?  What's the difference between the first image seen and these images?\n",
        "plt.figure(figsize=(10,10))\n",
        "for i in range(25):\n",
        "    plt.subplot(5,5,i+1)\n",
        "    plt.xticks([])\n",
        "    plt.yticks([])\n",
        "    plt.grid(False)\n",
        "    plt.imshow(train_images[i], cmap=plt.cm.binary)\n",
        "    plt.xlabel(class_names[train_labels[i]])\n",
        "plt.show()"
      ],
      "metadata": {
        "colab": {
          "base_uri": "https://localhost:8080/",
          "height": 826
        },
        "id": "4ogHRMro_cqp",
        "executionInfo": {
          "status": "ok",
          "timestamp": 1717373071457,
          "user_tz": 300,
          "elapsed": 25,
          "user": {
            "displayName": "",
            "userId": ""
          }
        },
        "outputId": "104de850-a566-4394-96be-c209e6aaa2a6"
      },
      "execution_count": 11,
      "outputs": [
        {
          "output_type": "display_data",
          "data": {
            "text/plain": [
              "<Figure size 1000x1000 with 25 Axes>"
            ],
            "image/png": "[encoded data removed]"
          },
          "metadata": {}
        }
      ]
    },
    {
      "cell_type": "markdown",
      "source": [
        "## Build the model\n",
        "\n",
        "Building the neural network requires configuring the layers of the model, then compiling the model.\n",
        "\n",
        "### Set up the layers\n",
        "\n",
        "The basic building block of a neural network is the layer. Layers extract representations from the data fed into them.\n",
        "\n",
        "Most of deep learning consists of chaining together simple layers. Most layers, such as tf.keras.layers.Dense, have parameters that are learned during training.\n",
        "\n",
        "Rectified linear unit (ReLU), is an activation function which means, this is how the neuron determines if it's going to fire (weighting of probabilities). See: https://en.wikipedia.org/wiki/Rectifier_(neural_networks) The short version is that ReLU is considered an excellent tool and using a vanishing gradient to determine probabilities always making sure any value less than zero is set to 0.\n",
        "\n",
        "Your output layer must equal the number of questions you're seeking to ask.  In this case we have ten (10) categories of clothing so we need 10 neurons to represent those different potential answers.\n",
        "\n",
        "Notice that the \"shape\" of the first layer corresponds to the shape of the input image."
      ],
      "metadata": {
        "id": "spqo9lXN_hKo"
      }
    },
    {
      "cell_type": "code",
      "source": [
        "#capture the function calls return into a variable, this encapsulate a complex object that defines the entire neural model\n",
        "model = keras.Sequential([\n",
        "    #one-D array are preferred for all processing\n",
        "    #The first layer in this network, tf.keras.layers.Flatten, transforms the format of the images from a two-dimensional array\n",
        "    #(of 28 by 28 pixels) to a one-dimensional array (of 28 * 28 = 784 pixels). Think of this layer as unstacking rows of pixels\n",
        "    #in the image and lining them up. This layer has no parameters to learn; it only reformats the data.\n",
        "    keras.layers.Flatten(input_shape=(28, 28)),\n",
        "\n",
        "    #first layer is 128 neurons and a ReLU activation function.\n",
        "    keras.layers.Dense(128, activation='relu'),\n",
        "\n",
        "    #output layer defined\n",
        "    keras.layers.Dense(10)\n",
        "])"
      ],
      "metadata": {
        "id": "y61jBamv_kQu",
        "executionInfo": {
          "status": "ok",
          "timestamp": 1717373071457,
          "user_tz": 300,
          "elapsed": 24,
          "user": {
            "displayName": "",
            "userId": ""
          }
        }
      },
      "execution_count": 12,
      "outputs": []
    },
    {
      "cell_type": "markdown",
      "source": [
        "## Compile the model\n",
        "\n",
        "Before the model is ready for training, it needs a few more settings. These are added during the model's compile step:\n",
        "\n",
        "+ Loss function —This measures how accurate the model is during training. You want to minimize this function to \"steer\" the model in the right direction.\n",
        "\n",
        "+ Optimizer —This is how the model is updated based on the data it sees and its loss function.\n",
        "\n",
        "+ Metrics —Used to monitor the training and testing steps. The following example uses accuracy, the fraction of the images that are correctly classified.\n"
      ],
      "metadata": {
        "id": "nWtT5s9z_oer"
      }
    },
    {
      "cell_type": "code",
      "source": [
        "model.compile(optimizer='adam',\n",
        "              #v2.1 accepts this activation method but previous versions DO NOT\n",
        "              loss=tf.keras.losses.SparseCategoricalCrossentropy(from_logits=True),\n",
        "              metrics=['accuracy'])\n"
      ],
      "metadata": {
        "id": "N6gLEOLW_r8L",
        "executionInfo": {
          "status": "ok",
          "timestamp": 1717373071458,
          "user_tz": 300,
          "elapsed": 24,
          "user": {
            "displayName": "",
            "userId": ""
          }
        }
      },
      "execution_count": 13,
      "outputs": []
    },
    {
      "cell_type": "markdown",
      "source": [
        "## Train the model\n",
        "\n",
        "### Training the neural network model requires the following steps:\n",
        "\n",
        "    1. Feed the training data to the model. In this example, the training data is in the train_images and train_labels arrays.\n",
        "    2. The model learns to associate images and labels.\n",
        "    3. You ask the model to make predictions about a test set—in this example, the test_images array.\n",
        "    4. Verify that the predictions match the labels from the test_labels array.\n",
        "\n",
        "## Train the model\n",
        "\n",
        "### Training the neural network model requires the following steps:\n",
        "\n",
        "    1. Feed the training data to the model. In this example, the training data is in the train_images and train_labels arrays.\n",
        "    2. The model learns to associate images and labels.\n",
        "    3. You ask the model to make predictions about a test set—in this example, the test_images array.\n",
        "    4. Verify that the predictions match the labels from the test_labels array."
      ],
      "metadata": {
        "id": "l3K60Ov0_w-C"
      }
    },
    {
      "cell_type": "code",
      "source": [
        "#given the images and labels begin learning from the train_* dataset for 10 \"iterations\".\n",
        "#note that you are ACTIVELY training a neural layer (AI) solution now.\n",
        "model.fit(train_images, train_labels, epochs=10)"
      ],
      "metadata": {
        "colab": {
          "base_uri": "https://localhost:8080/"
        },
        "id": "HvRy77TQ_5rE",
        "executionInfo": {
          "status": "ok",
          "timestamp": 1717373159197,
          "user_tz": 300,
          "elapsed": 87763,
          "user": {
            "displayName": "",
            "userId": ""
          }
        },
        "outputId": "6554aa3b-013e-430c-b5de-4d629c405287"
      },
      "execution_count": 14,
      "outputs": [
        {
          "output_type": "stream",
          "name": "stdout",
          "text": [
            "Epoch 1/10\n",
            "1875/1875 [==============================] - 11s 5ms/step - loss: 0.4941 - accuracy: 0.8251\n",
            "Epoch 2/10\n",
            "1875/1875 [==============================] - 10s 5ms/step - loss: 0.3706 - accuracy: 0.8660\n",
            "Epoch 3/10\n",
            "1875/1875 [==============================] - 7s 4ms/step - loss: 0.3348 - accuracy: 0.8784\n",
            "Epoch 4/10\n",
            "1875/1875 [==============================] - 7s 4ms/step - loss: 0.3114 - accuracy: 0.8862\n",
            "Epoch 5/10\n",
            "1875/1875 [==============================] - 7s 4ms/step - loss: 0.2942 - accuracy: 0.8910\n",
            "Epoch 6/10\n",
            "1875/1875 [==============================] - 10s 5ms/step - loss: 0.2779 - accuracy: 0.8974\n",
            "Epoch 7/10\n",
            "1875/1875 [==============================] - 9s 5ms/step - loss: 0.2654 - accuracy: 0.9011\n",
            "Epoch 8/10\n",
            "1875/1875 [==============================] - 8s 4ms/step - loss: 0.2566 - accuracy: 0.9044\n",
            "Epoch 9/10\n",
            "1875/1875 [==============================] - 7s 4ms/step - loss: 0.2466 - accuracy: 0.9082\n",
            "Epoch 10/10\n",
            "1875/1875 [==============================] - 6s 3ms/step - loss: 0.2384 - accuracy: 0.9108\n"
          ]
        },
        {
          "output_type": "execute_result",
          "data": {
            "text/plain": [
              "<keras.src.callbacks.History at 0x7e720ff3b5e0>"
            ]
          },
          "metadata": {},
          "execution_count": 14
        }
      ]
    },
    {
      "cell_type": "markdown",
      "source": [
        "## Epochs\n",
        "\n",
        "Notice each epoc completion demonstrates an accuracy improvement.  You can add a *patience* function to drop out when your training reaches an optimal level to avoid overfitting.  Additional *drop out* functions are available as well.\n",
        "\n",
        "***Ask the instructor what other drop out functions are available.***\n",
        "\n",
        "## Evaluate accuracy\n",
        "\n",
        "Now we see how well the model performs.  The `evaluate()` function performs a prediction by taking the test_* inputs and and performing a diff between actual data and predicted data."
      ],
      "metadata": {
        "id": "AvscSmDkAARI"
      }
    },
    {
      "cell_type": "code",
      "source": [
        "test_loss, test_acc = model.evaluate(test_images,  test_labels, verbose=2)\n",
        "\n",
        "print('\\nTest accuracy:', test_acc)"
      ],
      "metadata": {
        "colab": {
          "base_uri": "https://localhost:8080/"
        },
        "id": "EpjzICjlABCl",
        "executionInfo": {
          "status": "ok",
          "timestamp": 1717373159197,
          "user_tz": 300,
          "elapsed": 32,
          "user": {
            "displayName": "",
            "userId": ""
          }
        },
        "outputId": "eed68230-96ea-4593-b5f8-5a466a9e19ab"
      },
      "execution_count": 15,
      "outputs": [
        {
          "output_type": "stream",
          "name": "stdout",
          "text": [
            "313/313 - 1s - loss: 0.3275 - accuracy: 0.8834 - 622ms/epoch - 2ms/step\n",
            "\n",
            "Test accuracy: 0.883400022983551\n"
          ]
        }
      ]
    },
    {
      "cell_type": "markdown",
      "source": [
        "As previously discussed overfitting is a concern.  Notes from the demonstration code:\n",
        "\n",
        "It turns out that the accuracy on the test dataset is a little less than the accuracy on the training dataset. This gap between training accuracy and test accuracy represents overfitting. Overfitting happens when a machine learning model performs worse on new, previously unseen inputs than it does on the training data. An overfitted model \"memorizes\" the noise and details in the training dataset to a point where it negatively impacts the performance of the model on the new data. For more information, see the following:\n",
        "\n",
        "1.  Demonstration of overfitting - https://www.tensorflow.org/tutorials/keras/overfit_and_underfit#demonstrate_overfitting\n",
        "2.  Strategies to prevent overfitting - https://www.tensorflow.org/tutorials/keras/overfit_and_underfit#strategies_to_prevent_overfitting\n",
        "\n",
        "## Make Predictions\n",
        "\n",
        "With the model trained, you can use it to make predictions about some images. The model's linear outputs, logits. Attach a softmax layer to convert the logits to probabilities, which are easier to interpret.\n",
        "\n",
        "### Logits\n",
        "\n",
        "The vector of raw (non-normalized) predictions that a classification model generates, which is ordinarily then passed to a normalization function. If the model is solving a multi-class classification problem, logits typically become an input to the softmax function. The softmax function then generates a vector of (normalized) probabilities with one value for each possible class.\n",
        "\n",
        "In addition, logits sometimes refer to the element-wise inverse of the sigmoid function. For more information, see tf.nn.sigmoid_cross_entropy_with_logits."
      ],
      "metadata": {
        "id": "teG2v-OjAR-g"
      }
    },
    {
      "cell_type": "code",
      "source": [
        "#define another model designed to help identify classes\n",
        "probability_model = tf.keras.Sequential([model,\n",
        "                                         tf.keras.layers.Softmax()])\n",
        "\n",
        "#given the test images what labels have precipitated out?\n",
        "predictions = probability_model.predict(test_images)"
      ],
      "metadata": {
        "colab": {
          "base_uri": "https://localhost:8080/"
        },
        "id": "V1qIb9l0AS58",
        "executionInfo": {
          "status": "ok",
          "timestamp": 1717373159197,
          "user_tz": 300,
          "elapsed": 31,
          "user": {
            "displayName": "",
            "userId": ""
          }
        },
        "outputId": "e9af2d29-e3c1-45f4-8696-001d50c516f6"
      },
      "execution_count": 16,
      "outputs": [
        {
          "output_type": "stream",
          "name": "stdout",
          "text": [
            "313/313 [==============================] - 1s 2ms/step\n"
          ]
        }
      ]
    },
    {
      "cell_type": "code",
      "source": [
        "#let's see what the predictions resulting data structure looks like on the inside.\n",
        "predictions\n",
        "\n",
        "#the resultant is an array of arrays [][]\n",
        "# each row represents each image predicted against\n",
        "#   each column in each row are the probabilities for each \"class\""
      ],
      "metadata": {
        "colab": {
          "base_uri": "https://localhost:8080/"
        },
        "id": "mmr5ALYlAYb5",
        "executionInfo": {
          "status": "ok",
          "timestamp": 1717373159198,
          "user_tz": 300,
          "elapsed": 30,
          "user": {
            "displayName": "",
            "userId": ""
          }
        },
        "outputId": "4eb4d23b-69f9-4c85-b421-fe8b8fc67e0b"
      },
      "execution_count": 17,
      "outputs": [
        {
          "output_type": "execute_result",
          "data": {
            "text/plain": [
              "array([[3.5505471e-07, 2.6721028e-09, 1.0762943e-09, ..., 6.8128137e-03,\n",
              "        6.3967529e-09, 9.8463553e-01],\n",
              "       [3.3918339e-05, 9.7255815e-12, 9.9744427e-01, ..., 2.8609530e-17,\n",
              "        5.7086624e-10, 2.2883369e-13],\n",
              "       [3.8095230e-10, 9.9999994e-01, 1.9542848e-12, ..., 1.6756466e-26,\n",
              "        5.8766558e-16, 3.3412475e-23],\n",
              "       ...,\n",
              "       [5.8758575e-05, 1.3268449e-08, 3.0395184e-05, ..., 8.3772884e-11,\n",
              "        9.9932271e-01, 2.5777454e-13],\n",
              "       [5.5620986e-10, 9.9999434e-01, 5.0193287e-12, ..., 2.5634887e-13,\n",
              "        1.4289421e-10, 1.8533893e-11],\n",
              "       [6.5315121e-06, 8.9953350e-11, 2.2904849e-05, ..., 5.7750603e-04,\n",
              "        1.0652150e-05, 4.5054644e-06]], dtype=float32)"
            ]
          },
          "metadata": {},
          "execution_count": 17
        }
      ]
    },
    {
      "cell_type": "markdown",
      "source": [
        "#let's see what the predictions resulting data structure looks like on the inside.\n",
        "\n",
        "Predictions for the first input (image) submitted."
      ],
      "metadata": {
        "id": "4tnwTd4AAfxh"
      }
    },
    {
      "cell_type": "code",
      "source": [
        "predictions[0]"
      ],
      "metadata": {
        "colab": {
          "base_uri": "https://localhost:8080/"
        },
        "id": "mL4lkSKPAggd",
        "executionInfo": {
          "status": "ok",
          "timestamp": 1717373159198,
          "user_tz": 300,
          "elapsed": 29,
          "user": {
            "displayName": "",
            "userId": ""
          }
        },
        "outputId": "338660ab-3af4-4a67-89dc-5faf5067a137"
      },
      "execution_count": 18,
      "outputs": [
        {
          "output_type": "execute_result",
          "data": {
            "text/plain": [
              "array([3.5505471e-07, 2.6721028e-09, 1.0762943e-09, 1.5096300e-09,\n",
              "       9.3478413e-08, 8.5508935e-03, 1.9495251e-07, 6.8128137e-03,\n",
              "       6.3967529e-09, 9.8463553e-01], dtype=float32)"
            ]
          },
          "metadata": {},
          "execution_count": 18
        }
      ]
    },
    {
      "cell_type": "code",
      "source": [
        "#numpy magic, obtain the highest value of the array\n",
        "the_answer=np.argmax(predictions[0])\n",
        "\n",
        "#so for the first test image the most likely candidate for a class is element 9 in the array (remember, arrays go from 0..9)\n",
        "#what does element 9 in the classes array defined earlier represent?  what class?"
      ],
      "metadata": {
        "id": "aFIkYri6AiIK",
        "executionInfo": {
          "status": "ok",
          "timestamp": 1717373159198,
          "user_tz": 300,
          "elapsed": 29,
          "user": {
            "displayName": "",
            "userId": ""
          }
        }
      },
      "execution_count": 19,
      "outputs": []
    },
    {
      "cell_type": "markdown",
      "source": [
        "So, the model is most confident that this image is an ankle boot, or class_names[9]. Examining the test label shows that this classification is correct:"
      ],
      "metadata": {
        "id": "6Yle-wTgAoxg"
      }
    },
    {
      "cell_type": "code",
      "source": [
        "print(\"Label {} relates to a {}.\".format(the_answer,class_names[np.argmax(predictions[0])]))"
      ],
      "metadata": {
        "colab": {
          "base_uri": "https://localhost:8080/"
        },
        "id": "8IC1_sl3AmvW",
        "executionInfo": {
          "status": "ok",
          "timestamp": 1717373159198,
          "user_tz": 300,
          "elapsed": 29,
          "user": {
            "displayName": "",
            "userId": ""
          }
        },
        "outputId": "f71674d9-36dd-4c28-bbc8-b4bd2c2e2ca4"
      },
      "execution_count": 20,
      "outputs": [
        {
          "output_type": "stream",
          "name": "stdout",
          "text": [
            "Label 9 relates to a Ankle boot.\n"
          ]
        }
      ]
    },
    {
      "cell_type": "markdown",
      "source": [
        "Graph this to look at the full set of 10 class predictions."
      ],
      "metadata": {
        "id": "v0Bj-6h7A41S"
      }
    },
    {
      "cell_type": "code",
      "source": [
        "#functions defined to show the item and relevance of the prediction\n",
        "\n",
        "def plot_image(i, predictions_array, true_label, img):\n",
        "  predictions_array, true_label, img = predictions_array, true_label[i], img[i]\n",
        "  plt.grid(False)\n",
        "  plt.xticks([])\n",
        "  plt.yticks([])\n",
        "\n",
        "  plt.imshow(img, cmap=plt.cm.binary)\n",
        "\n",
        "  predicted_label = np.argmax(predictions_array)\n",
        "  if predicted_label == true_label:\n",
        "    color = 'blue'\n",
        "  else:\n",
        "    color = 'red'\n",
        "\n",
        "  plt.xlabel(\"{} {:2.0f}% ({})\".format(class_names[predicted_label],\n",
        "                                100*np.max(predictions_array),\n",
        "                                class_names[true_label]),\n",
        "                                color=color)\n",
        "\n",
        "def plot_value_array(i, predictions_array, true_label):\n",
        "  predictions_array, true_label = predictions_array, true_label[i]\n",
        "  plt.grid(False)\n",
        "  plt.xticks(range(10))\n",
        "  plt.yticks([])\n",
        "  thisplot = plt.bar(range(10), predictions_array, color=\"#777777\")\n",
        "  plt.ylim([0, 1])\n",
        "  predicted_label = np.argmax(predictions_array)\n",
        "\n",
        "  thisplot[predicted_label].set_color('red')\n",
        "  thisplot[true_label].set_color('blue')\n"
      ],
      "metadata": {
        "id": "0MsE2JLBAt3r",
        "executionInfo": {
          "status": "ok",
          "timestamp": 1717373159198,
          "user_tz": 300,
          "elapsed": 29,
          "user": {
            "displayName": "",
            "userId": ""
          }
        }
      },
      "execution_count": 21,
      "outputs": []
    },
    {
      "cell_type": "markdown",
      "source": [
        "Let's plot several images with their predictions. Note that the model can be wrong even when very confident."
      ],
      "metadata": {
        "id": "ZFx6OGloA-E6"
      }
    },
    {
      "cell_type": "code",
      "source": [
        "# Plot the first X test images, their predicted labels, and the true labels.\n",
        "# Color correct predictions in blue and incorrect predictions in red.\n",
        "num_rows = 5\n",
        "num_cols = 3\n",
        "num_images = num_rows*num_cols\n",
        "plt.figure(figsize=(2*2*num_cols, 2*num_rows))\n",
        "for i in range(num_images):\n",
        "  plt.subplot(num_rows, 2*num_cols, 2*i+1)\n",
        "  plot_image(i, predictions[i], test_labels, test_images)\n",
        "  plt.subplot(num_rows, 2*num_cols, 2*i+2)\n",
        "  plot_value_array(i, predictions[i], test_labels)\n",
        "plt.tight_layout()\n",
        "plt.show()\n"
      ],
      "metadata": {
        "colab": {
          "base_uri": "https://localhost:8080/",
          "height": 1000
        },
        "id": "JnDI7RqwA7YR",
        "executionInfo": {
          "status": "ok",
          "timestamp": 1717373159198,
          "user_tz": 300,
          "elapsed": 28,
          "user": {
            "displayName": "",
            "userId": ""
          }
        },
        "outputId": "7868370d-31a7-4c68-aba0-12774f628833"
      },
      "execution_count": 22,
      "outputs": [
        {
          "output_type": "display_data",
          "data": {
            "text/plain": [
              "<Figure size 1200x1000 with 30 Axes>"
            ],
            "image/png": "[encoded data removed]"
          },
          "metadata": {}
        }
      ]
    },
    {
      "cell_type": "markdown",
      "source": [
        "## Use the trained model\n",
        "\n",
        "Use the trained model to make a prediction about a single image.  We will generate a random number selected out of the domain of values.\n",
        "\n",
        "### *Note*\n",
        "tf.keras models are optimized to make predictions on a batch, or collection, of examples at once. Accordingly, even though you're using a single image, you need to add it to a list:\n"
      ],
      "metadata": {
        "id": "nZPQ22zsBETp"
      }
    },
    {
      "cell_type": "code",
      "source": [
        "# seed the pseudorandom number generator\n",
        "from random import seed\n",
        "from random import random\n",
        "\n",
        "# seed random number generator\n",
        "seed(1)\n",
        "\n",
        "#lowest array position\n",
        "min=0\n",
        "#highest array position (note that the returned shape is 1000x28x28)\n",
        "max=test_images.shape[0]-1\n",
        "\n",
        "#generate a random value\n",
        "value = random()\n",
        "\n",
        "#scale that value to the range we have available\n",
        "scaled_value = min + (value * (max - min))\n",
        "scaled_value = int(scaled_value)\n",
        "\n",
        "\n",
        "#take the an image from the test dataset, normally a 28x28 matrix\n",
        "img = test_images[scaled_value]\n",
        "\n",
        "# Add the image to a batch where it's the only member, now a 1x28x28 matrix.\n",
        "img = (np.expand_dims(img,0))\n",
        "\n",
        "#predict the correct label for this image\n",
        "predictions_single = probability_model.predict(img)\n",
        "\n",
        "print(predictions_single)"
      ],
      "metadata": {
        "colab": {
          "base_uri": "https://localhost:8080/"
        },
        "id": "aAwXPO2XBA70",
        "executionInfo": {
          "status": "ok",
          "timestamp": 1717373159198,
          "user_tz": 300,
          "elapsed": 24,
          "user": {
            "displayName": "",
            "userId": ""
          }
        },
        "outputId": "ea874903-db7c-4ac6-ccb1-0a66f3681a7e"
      },
      "execution_count": 23,
      "outputs": [
        {
          "output_type": "stream",
          "name": "stdout",
          "text": [
            "1/1 [==============================] - 0s 22ms/step\n",
            "[[7.1451518e-07 1.0324527e-05 6.5999359e-01 5.4873267e-10 3.3811235e-01\n",
            "  6.6878812e-12 1.8822609e-03 1.2807623e-12 7.9666762e-07 3.2339851e-09]]\n"
          ]
        }
      ]
    },
    {
      "cell_type": "code",
      "source": [
        "plot_value_array(1, predictions_single[0], test_labels)\n",
        "_ = plt.xticks(range(10), class_names, rotation=45)"
      ],
      "metadata": {
        "colab": {
          "base_uri": "https://localhost:8080/",
          "height": 478
        },
        "id": "lP78ehnQBGo4",
        "executionInfo": {
          "status": "ok",
          "timestamp": 1717373159199,
          "user_tz": 300,
          "elapsed": 24,
          "user": {
            "displayName": "",
            "userId": ""
          }
        },
        "outputId": "f331729c-db75-423c-ca70-136abffbcff8"
      },
      "execution_count": 24,
      "outputs": [
        {
          "output_type": "display_data",
          "data": {
            "text/plain": [
              "<Figure size 640x480 with 1 Axes>"
            ],
            "image/png": "[encoded data removed]"
          },
          "metadata": {}
        }
      ]
    },
    {
      "cell_type": "code",
      "source": [
        "#keras.Model.predict returns a list of lists—one list for each image in the batch of data. Grab the predictions for our (only) image in the batch\n",
        "np.argmax(predictions_single[0])"
      ],
      "metadata": {
        "colab": {
          "base_uri": "https://localhost:8080/"
        },
        "id": "b-Qt8MuiBNOp",
        "executionInfo": {
          "status": "ok",
          "timestamp": 1717373159199,
          "user_tz": 300,
          "elapsed": 23,
          "user": {
            "displayName": "",
            "userId": ""
          }
        },
        "outputId": "bdb68375-b5d5-4723-f8f2-008337c0f1ea"
      },
      "execution_count": 25,
      "outputs": [
        {
          "output_type": "execute_result",
          "data": {
            "text/plain": [
              "2"
            ]
          },
          "metadata": {},
          "execution_count": 25
        }
      ]
    },
    {
      "cell_type": "markdown",
      "source": [
        "### Which means..."
      ],
      "metadata": {
        "id": "EhWaj6PqBRZu"
      }
    },
    {
      "cell_type": "code",
      "source": [
        "print(\"Prediction is label {} which is a {}.\".format(np.argmax(predictions_single[0]),class_names[np.argmax(predictions_single[0])]))\n",
        "print(\"Reality suggests label {} which is a {}.\".format(test_labels[scaled_value],class_names[test_labels[scaled_value]] ))"
      ],
      "metadata": {
        "colab": {
          "base_uri": "https://localhost:8080/"
        },
        "id": "oj4t4EXaBPcc",
        "executionInfo": {
          "status": "ok",
          "timestamp": 1717373159199,
          "user_tz": 300,
          "elapsed": 22,
          "user": {
            "displayName": "",
            "userId": ""
          }
        },
        "outputId": "03ee51b6-d278-460b-ba68-73c65fa4703a"
      },
      "execution_count": 26,
      "outputs": [
        {
          "output_type": "stream",
          "name": "stdout",
          "text": [
            "Prediction is label 2 which is a Pullover.\n",
            "Reality suggests label 4 which is a Coat.\n"
          ]
        }
      ]
    },
    {
      "cell_type": "code",
      "source": [
        "plt.figure(figsize=(1,1))\n",
        "plot_image(scaled_value,np.argmax(predictions_single[0]), test_labels, test_images)\n",
        "plt.tight_layout()\n",
        "plt.show()\n"
      ],
      "metadata": {
        "colab": {
          "base_uri": "https://localhost:8080/",
          "height": 106
        },
        "id": "dJm3RPsLBURs",
        "executionInfo": {
          "status": "ok",
          "timestamp": 1717373159199,
          "user_tz": 300,
          "elapsed": 22,
          "user": {
            "displayName": "",
            "userId": ""
          }
        },
        "outputId": "43a20f28-7008-49be-a8e8-941ceda8d689"
      },
      "execution_count": 27,
      "outputs": [
        {
          "output_type": "display_data",
          "data": {
            "text/plain": [
              "<Figure size 100x100 with 1 Axes>"
            ],
            "image/png": "[encoded data removed]"
          },
          "metadata": {}
        }
      ]
    },
    {
      "cell_type": "code",
      "source": [
        "#let's try another one\n",
        "#generate a random value\n",
        "value = random()\n",
        "\n",
        "#scale that value to the range we have available\n",
        "scaled_value = min + (value * (max - min))\n",
        "scaled_value = int(scaled_value)\n",
        "#take the an image from the test dataset, normally a 28x28 matrix\n",
        "img = test_images[scaled_value]\n",
        "\n",
        "# Add the image to a batch where it's the only member, now a 1x28x28 matrix.\n",
        "img = (np.expand_dims(img,0))\n",
        "#predict the correct label for this image\n",
        "predictions_single = probability_model.predict(img)\n",
        "\n",
        "print(predictions_single)\n",
        "plot_value_array(1, predictions_single[0], test_labels)\n",
        "_ = plt.xticks(range(10), class_names, rotation=45)\n",
        "np.argmax(predictions_single[0])\n",
        "print(\"Prediction is label {} which is a {}.\".format(np.argmax(predictions_single[0]),class_names[np.argmax(predictions_single[0])]))\n",
        "print(\"Reality suggests label {} which is a {}.\".format(test_labels[scaled_value],class_names[test_labels[scaled_value]] ))\n",
        "plt.figure(figsize=(1,1))\n",
        "plot_image(scaled_value,np.argmax(predictions_single[0]), test_labels, test_images)\n",
        "plt.tight_layout()\n",
        "plt.show()"
      ],
      "metadata": {
        "colab": {
          "base_uri": "https://localhost:8080/",
          "height": 654
        },
        "id": "dHrSY6KLBVvM",
        "executionInfo": {
          "status": "ok",
          "timestamp": 1717373159199,
          "user_tz": 300,
          "elapsed": 21,
          "user": {
            "displayName": "",
            "userId": ""
          }
        },
        "outputId": "22ca9bc7-e5c9-4b84-967b-146468a31d1b"
      },
      "execution_count": 28,
      "outputs": [
        {
          "output_type": "stream",
          "name": "stdout",
          "text": [
            "1/1 [==============================] - 0s 21ms/step\n",
            "[[1.9782124e-07 1.1143065e-11 1.1371473e-07 1.9217948e-10 4.5079352e-07\n",
            "  9.9997675e-01 2.2008139e-08 2.1958194e-05 3.9632698e-07 8.9864351e-08]]\n",
            "Prediction is label 5 which is a Sandal.\n",
            "Reality suggests label 5 which is a Sandal.\n"
          ]
        },
        {
          "output_type": "display_data",
          "data": {
            "text/plain": [
              "<Figure size 640x480 with 1 Axes>"
            ],
            "image/png": "[encoded data removed]"
          },
          "metadata": {}
        },
        {
          "output_type": "display_data",
          "data": {
            "text/plain": [
              "<Figure size 100x100 with 1 Axes>"
            ],
            "image/png": "[encoded data removed]"
          },
          "metadata": {}
        }
      ]
    }
  ],
  "metadata": {
    "kernelspec": {
      "display_name": "Python 3",
      "name": "python3"
    },
    "language_info": {
      "codemirror_mode": {
        "name": "ipython",
        "version": 3
      },
      "file_extension": ".py",
      "mimetype": "text/x-python",
      "name": "python",
      "nbconvert_exporter": "python",
      "pygments_lexer": "ipython3",
      "version": "3.9.18"
    },
    "colab": {
      "provenance": [
        {
          "file_id": "https://github.com/christophergarthwood/jbooks/blob/main/STEM-001_WordClouds.ipynb",
          "timestamp": 1716214402332
        }
      ],
      "gpuType": "T4",
      "name": "STEM-003_Classifier.ipynb"
    },
    "accelerator": "GPU"
  },
  "nbformat": 4,
  "nbformat_minor": 0
}