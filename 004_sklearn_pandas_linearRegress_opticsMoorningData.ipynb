{
  "cells": [
    {
      "cell_type": "markdown",
      "metadata": {
        "id": "ckJnTUy8voRV"
      },
      "source": [
        "# Jupyter Notebook with SkLearn and Linear Regression\n",
        "\n",
        "In statistics, linear regression is a model that estimates the linear relationship between a dependent variable, what you're trying to figure out, and one or more explanatory variables (regressor or independent variable). A model with exactly one explanatory variable is a simple linear regression; a model with two or more explanatory variables is a multiple linear regression.  This term is distinct from multivariate linear regression, which predicts multiple correlated dependent variables rather than a single dependent variable.\n",
        "\n",
        "Scikit-learn is an open source machine learning library that supports supervised and unsupervised learning. It also provides various tools for model fitting, data preprocessing, model selection, model evaluation, and many other utilities.\n",
        "\n",
        "**References:**\n",
        "\n",
        "+ https://en.wikipedia.org/wiki/Linear_regression\n",
        "\n",
        "+ https://scikit-learn.org/stable/"
      ]
    },
    {
      "cell_type": "code",
      "source": [
        "# Let's define some variables (information holders) for our project overall\n",
        "\n",
        "global PROJECT_ID, BUCKET_NAME, LOCATION\n",
        "BUCKET_NAME =\"\"\n",
        "PROJECT_ID  =\"\"\n",
        "LOCATION    =\"\"\n",
        "\n",
        "BOLD_START=\"\\033[1m\"\n",
        "BOLD_END=\"\\033[0m\""
      ],
      "metadata": {
        "id": "o8bjTzrE1_xo",
        "executionInfo": {
          "status": "ok",
          "timestamp": 1738706031767,
          "user_tz": 360,
          "elapsed": 153,
          "user": {
            "displayName": "",
            "userId": ""
          }
        }
      },
      "execution_count": 1,
      "outputs": []
    },
    {
      "cell_type": "code",
      "execution_count": 5,
      "metadata": {
        "id": "kpxArxv4voRW",
        "executionInfo": {
          "status": "ok",
          "timestamp": 1738706045783,
          "user_tz": 360,
          "elapsed": 171,
          "user": {
            "displayName": "",
            "userId": ""
          }
        }
      },
      "outputs": [],
      "source": [
        "# Import key libraries necessary to support dynamic installation of additional libraries\n",
        "# Use subprocess to support running operating system commands from the program, using the \"bang\" (!)\n",
        "# symbology is supported, however that does not translate to an actual python script, this is a more\n",
        "# agnostic approach.\n",
        "###########################################\n",
        "#- Minimal imports to start\n",
        "###########################################\n",
        "try:\n",
        "    import sys\n",
        "    import subprocess\n",
        "    import importlib.util\n",
        "    import atexit\n",
        "    import os\n",
        "except ImportError as e:\n",
        "    print(\"There was a problem importing the most basic libraries necessary for this code.\")\n",
        "    print(repr(e))\n",
        "    raise SystemExit(\"Stop right there!\")\n",
        "\n",
        "###########################################\n",
        "#- Final Exit Routine\n",
        "###########################################\n",
        "@atexit.register\n",
        "def goodbye():\n",
        "    print(\"GOODBYE\")"
      ]
    },
    {
      "cell_type": "code",
      "source": [
        "target_folder=\"/content/folderOnColab\"\n",
        "target_repo=\"https://raw.githubusercontent.com//christophergarthwood/jbooks/main\"\n",
        "target_files=[\"debug.py\"]\n",
        "print(f\"Creating a folder ({target_folder}) to store project data.\")\n",
        "subprocess.run([\"mkdir\", \"-p\" , target_folder])\n",
        "if os.path.isdir(target_folder):\n",
        "  print(\"Performing wget on:\")\n",
        "  for idx, filename in enumerate(target_files):\n",
        "    print(f\"...{filename} to target folder: {target_folder}\")\n",
        "    try:\n",
        "      subprocess.run([\"wget\", f\"--directory-prefix={target_folder}\", f\"{target_repo}/{filename}\"])\n",
        "    except Exception as e:\n",
        "      print(\"\")\n",
        "      print(f\"ERROR: There was a problem performing wget on the target file ({filename}), see Exception: {str(e)}\")\n",
        "      print(\"...talk to the instructor.\")\n",
        "    if os.path.isfile(target_folder+os.sep+filename):\n",
        "      print(\"...verified copy.\")\n",
        "      print(\"...importing code.\")\n",
        "      target_filename=f\"{target_folder+os.sep+filename}\"\n",
        "      os.environ[\"target_filename\"]=target_filename\n",
        "      %run $target_filename\n",
        "    else:\n",
        "      print(f\"...copy NOT verified, check the {target_folder} for the existence of {filename}\")\n",
        "else:\n",
        "    print(\"ERROR: Local folder not found/created.  Check the output to ensure your folder is created.\")\n",
        "    print(f\"...target folder: {target_folder}\")\n",
        "    print(\"...if you can't find the problem contact the instructor.\")"
      ],
      "metadata": {
        "colab": {
          "base_uri": "https://localhost:8080/"
        },
        "id": "BCVWutt77AXU",
        "executionInfo": {
          "status": "ok",
          "timestamp": 1738706111101,
          "user_tz": 360,
          "elapsed": 145,
          "user": {
            "displayName": "",
            "userId": ""
          }
        },
        "outputId": "65d2b838-4d60-4a85-8559-51327c4e6cde"
      },
      "execution_count": 8,
      "outputs": [
        {
          "output_type": "stream",
          "name": "stdout",
          "text": [
            "Creating a folder (/content/folderOnColab) to store project data.\n",
            "Performing wget on:\n",
            "...debug.py to target folder: /content/folderOnColab\n",
            "...verified copy.\n",
            "...importing code.\n"
          ]
        }
      ]
    },
    {
      "cell_type": "code",
      "source": [
        "###########################################\n",
        "#- Import External Libraries\n",
        "###########################################\n",
        "from pathlib import Path\n",
        "debug_lib_location = Path(target_folder)\n",
        "sys.path.append(str(debug_lib_location))\n",
        "\n",
        "try:\n",
        "  import debug\n",
        "  debug.msg_debug(\"...debug library loaded.\")\n",
        "except ImportError as e:\n",
        "  rprint(\"There was a problem importing the debug library.\")\n",
        "  rprint(repr(e))\n",
        "  raise SystemExit(\"Without the debug library this code will not run.\")"
      ],
      "metadata": {
        "colab": {
          "base_uri": "https://localhost:8080/"
        },
        "id": "6mD-cV-q7FAI",
        "executionInfo": {
          "status": "ok",
          "timestamp": 1738706185568,
          "user_tz": 360,
          "elapsed": 203,
          "user": {
            "displayName": "",
            "userId": ""
          }
        },
        "outputId": "806d27c7-0443-4b6e-abaa-65d732e0d60f"
      },
      "execution_count": 13,
      "outputs": [
        {
          "output_type": "stream",
          "name": "stdout",
          "text": [
            "[2025-02-04 21:56:25 UTC]   DEBUG: ...debug library loaded. \n",
            "[2025-02-04 21:56:25 UTC]   DEBUG: ...debug library loaded. \n",
            "[2025-02-04 21:56:25 UTC]   DEBUG: ...debug library loaded. \n"
          ]
        },
        {
          "output_type": "stream",
          "name": "stderr",
          "text": [
            "DEBUG:msg_logs:...debug library loaded.\n"
          ]
        }
      ]
    },
    {
      "cell_type": "code",
      "execution_count": 14,
      "metadata": {
        "tags": [],
        "id": "skhODzv1voRW",
        "colab": {
          "base_uri": "https://localhost:8080/"
        },
        "executionInfo": {
          "status": "ok",
          "timestamp": 1738706189152,
          "user_tz": 360,
          "elapsed": 183,
          "user": {
            "displayName": "",
            "userId": ""
          }
        },
        "outputId": "d79cd08f-17fe-4925-abdc-330b3652f048"
      },
      "outputs": [
        {
          "output_type": "stream",
          "name": "stdout",
          "text": [
            "You are running this notebook in  Google Colab  at \u001b[1m2025-02-04 21:56:28.960957\u001b[0m on \u001b[1mLinux\u001b[0m in the \u001b[1m\u001b[0m lab.\n"
          ]
        }
      ],
      "source": [
        "#- Environment Check\n",
        "import datetime\n",
        "import platform\n",
        "\n",
        "RunningInCOLAB = False\n",
        "RunningInCOLAB = 'google.colab' in str(get_ipython())\n",
        "current_time   = datetime.datetime.now()\n",
        "operating_system=platform.system()\n",
        "\n",
        "if RunningInCOLAB:\n",
        "    python_environment=\" Google Colab \"\n",
        "    from IPython.core.interactiveshell import InteractiveShell\n",
        "    InteractiveShell.ast_node_interactivity = \"all\"\n",
        "else:\n",
        "    python_environment=\" Python command-line \"\n",
        "\n",
        "print(f\"You are running this notebook in {python_environment} at {BOLD_START}{current_time}{BOLD_END} on {BOLD_START}{operating_system}{BOLD_END} in the {BOLD_START}{PROJECT_ID}{BOLD_END} lab.\")"
      ]
    },
    {
      "cell_type": "code",
      "execution_count": 15,
      "metadata": {
        "tags": [],
        "id": "7zY2A4GevoRX",
        "colab": {
          "base_uri": "https://localhost:8080/"
        },
        "executionInfo": {
          "status": "ok",
          "timestamp": 1738706207422,
          "user_tz": 360,
          "elapsed": 15469,
          "user": {
            "displayName": "",
            "userId": ""
          }
        },
        "outputId": "29348702-4b6c-41d2-d8df-26c3d1c71440"
      },
      "outputs": [
        {
          "output_type": "stream",
          "name": "stdout",
          "text": [
            "Library numpy already installed.\n",
            "Library pandas already installed.\n",
            "Library scipy already installed.\n",
            "Library sklearn already installed.\n",
            "Library matplotlib already installed.\n",
            "Library rich already installed.\n",
            "Installing library rich[jupyter]\n"
          ]
        },
        {
          "output_type": "execute_result",
          "data": {
            "text/plain": [
              "CompletedProcess(args=['pip', 'install', 'rich[jupyter]', '--quiet'], returncode=0)"
            ]
          },
          "metadata": {},
          "execution_count": 15
        },
        {
          "output_type": "stream",
          "name": "stdout",
          "text": [
            "Library unidecode already installed.\n",
            "Library icecream already installed.\n",
            "Installing library polars[all]\n"
          ]
        },
        {
          "output_type": "execute_result",
          "data": {
            "text/plain": [
              "CompletedProcess(args=['pip', 'install', 'polars[all]', '--quiet'], returncode=0)"
            ]
          },
          "metadata": {},
          "execution_count": 15
        },
        {
          "output_type": "stream",
          "name": "stdout",
          "text": [
            "Installing library dask[complete]\n"
          ]
        },
        {
          "output_type": "execute_result",
          "data": {
            "text/plain": [
              "CompletedProcess(args=['pip', 'install', 'dask[complete]', '--quiet'], returncode=0)"
            ]
          },
          "metadata": {},
          "execution_count": 15
        },
        {
          "output_type": "stream",
          "name": "stdout",
          "text": [
            "Library xarray already installed.\n",
            "Library tqdm already installed.\n",
            "Library watermark already installed.\n"
          ]
        }
      ],
      "source": [
        "libraries=[\"numpy\", \"pandas\", \"scipy\", \"sklearn\", \"matplotlib\",\n",
        "           \"rich\", \"rich[jupyter]\", \"unidecode\", \"icecream\",\n",
        "           \"polars[all]\", \"dask[complete]\", \"xarray\",\n",
        "           \"tqdm\", \"watermark\",\n",
        "           \"Pillow\",]\n",
        "\n",
        "import importlib.util\n",
        "\n",
        "for library in libraries:\n",
        "    if library == \"Pillow\":\n",
        "      spec = importlib.util.find_spec(\"PIL\")\n",
        "    else:\n",
        "      spec = importlib.util.find_spec(library)\n",
        "    if spec is None:\n",
        "      print(\"Installing library \" + library)\n",
        "      subprocess.run([\"pip\", \"install\" , library, \"--quiet\"])\n",
        "    else:\n",
        "      print(\"Library \" + library + \" already installed.\")"
      ]
    },
    {
      "cell_type": "markdown",
      "metadata": {
        "id": "qqFV6NyNvoRX"
      },
      "source": [
        "## Includes and Libraries"
      ]
    },
    {
      "cell_type": "code",
      "execution_count": 43,
      "metadata": {
        "tags": [],
        "id": "4g4klBWIvoRX",
        "executionInfo": {
          "status": "ok",
          "timestamp": 1738706684261,
          "user_tz": 360,
          "elapsed": 301,
          "user": {
            "displayName": "",
            "userId": ""
          }
        }
      },
      "outputs": [],
      "source": [
        "############################################\n",
        "# INCLUDES\n",
        "############################################\n",
        "#Generally useful / common libraries\n",
        "import os\n",
        "import subprocess\n",
        "import datetime\n",
        "import sys\n",
        "import gc\n",
        "import getopt\n",
        "import inspect\n",
        "import math\n",
        "import warnings\n",
        "from pathlib import Path\n",
        "\n",
        "#Data Science\n",
        "import numpy as np\n",
        "import pandas as pd\n",
        "import polars as pl\n",
        "import dask as da\n",
        "import xarray as xr\n",
        "\n",
        "#Pretty Print\n",
        "from rich import print as rprint\n",
        "from icecream import ic\n",
        "from tqdm.notebook import trange, tqdm\n",
        "from watermark import watermark as the_watermark\n",
        "\n",
        "#libraries specific to this example\n",
        "import scipy as sp\n",
        "from sklearn.linear_model import LinearRegression\n",
        "\n",
        "#- Graphics\n",
        "import matplotlib.pyplot as plt\n",
        "import matplotlib as matplt\n",
        "import matplotlib\n",
        "from matplotlib.cbook import get_sample_data\n",
        "from matplotlib.offsetbox import (AnnotationBbox, DrawingArea, OffsetImage,\n",
        "                                  TextArea)\n",
        "from matplotlib.pyplot import imshow\n",
        "from matplotlib.patches import Circle\n",
        "from PIL import Image as PIL_Image\n",
        "import PIL.ImageOps\n",
        "\n",
        "#- Image meta-data for Section 508 compliance\n",
        "import piexif\n",
        "from piexif.helper import UserComment\n",
        "\n",
        "#- Additional libraries for this work\n",
        "import math\n",
        "from base64 import b64decode\n",
        "#from IPython.display import Image, Markdown\n",
        "from IPython.display import Image, Markdown\n",
        "import pandas, IPython.display as display, io, jinja2, base64\n",
        "import requests\n",
        "import unidecode"
      ]
    },
    {
      "cell_type": "markdown",
      "source": [
        "## Functions"
      ],
      "metadata": {
        "id": "qpNLiiMj2oZ-"
      }
    },
    {
      "cell_type": "code",
      "source": [
        "# Functions are like legos that do one thing, this function outputs library version history of effort.\n",
        "def lib_diagnostics() -> None:\n",
        "\n",
        "    import pkg_resources\n",
        "\n",
        "    package_name_length=20\n",
        "    package_version_length=10\n",
        "\n",
        "    data_version_release=\"-\".join([str(VERSION_NAME),str(VERSION_MAJOR), str(VERSION_MINOR), str(VERSION_RELEASE)])\n",
        "    rprint(f\"Software Version Information: {data_version_release}\")\n",
        "    rprint(\"\\n\")\n",
        "    # Show notebook details\n",
        "    #%watermark?\n",
        "    #%watermark --github_username christophergwood --email christopher.g.wood@gmail.com --date --time --iso8601 --updated --python --conda --hostname --machine --githash --gitrepo --gitbranch --iversions --gpu\n",
        "    # Watermark\n",
        "    rprint(the_watermark(author=f\"{AUTHOR_NAME}\", github_username=f\"GITHUB_USERNAME\", email=f\"{AUTHOR_EMAIL}\",iso8601=True, datename=True, current_time=True, python=True, updated=True, hostname=True, machine=True, gitrepo=True, gitbranch=True, githash=True))\n",
        "\n",
        "\n",
        "    print(f\"{BOLD_START}Packages:{BOLD_END}\")\n",
        "    print(\"\")\n",
        "    # Get installed packages\n",
        "    the_packages=[\"nltk\", \"numpy\", \"os\", \"pandas\", \"seaborn\"]\n",
        "    installed = {pkg.key: pkg.version for pkg in pkg_resources.working_set}\n",
        "    for package_idx, package_name in enumerate(installed):\n",
        "         if package_name in the_packages:\n",
        "             installed_version = installed[package_name]\n",
        "             rprint(f\"{package_name:<40}#: {str(pkg_resources.parse_version(installed_version)):<20}\")\n",
        "\n",
        "    try:\n",
        "        rprint(f\"{'TensorFlow version':<40}#: {str(tf.__version__):<20}\")\n",
        "        rprint(f\"{'     gpu.count:':<40}#: {str(len(tf.config.experimental.list_physical_devices('GPU')))}\")\n",
        "        rprint(f\"{'     cpu.count:':<40}#: {str(len(tf.config.experimental.list_physical_devices('CPU')))}\")\n",
        "    except Exception as e:\n",
        "        pass\n",
        "\n",
        "    try:\n",
        "        rprint(f\"{'Torch version':<40}#: {str(torch.__version__):<20}\")\n",
        "        rprint(f\"{'     GPUs available?':<40}#: {torch.cuda.is_available()}\")\n",
        "        rprint(f\"{'     count':<40}#: {torch.cuda.device_count()}\")\n",
        "        rprint(f\"{'     current':<40}#: {torch.cuda.current_device()}\")\n",
        "    except Exception as e:\n",
        "        pass\n",
        "\n",
        "\n",
        "    try:\n",
        "      print(f\"{'OpenAI Azure Version':<40}#: {str(the_openai_version):<20}\")\n",
        "    except Exception as e:\n",
        "      pass\n",
        "\n",
        "    return"
      ],
      "metadata": {
        "id": "gutGYDQd2uTy",
        "executionInfo": {
          "status": "ok",
          "timestamp": 1738706687949,
          "user_tz": 360,
          "elapsed": 171,
          "user": {
            "displayName": "",
            "userId": ""
          }
        }
      },
      "execution_count": 44,
      "outputs": []
    },
    {
      "cell_type": "code",
      "source": [
        "# Routines designed to support adding ALT text to an image generated through Matplotlib.\n",
        "\n",
        "def capture(figure):\n",
        "   buffer = io.BytesIO()\n",
        "   figure.savefig(buffer)\n",
        "   #return F\"data:image/png;base64,{base64.b64encode(buffer.getvalue()).decode()}\"\n",
        "   return F\"data:image/jpg;base64,{base64.b64encode(buffer.getvalue()).decode()}\"\n",
        "\n",
        "def make_accessible(figure, template, **kwargs):\n",
        "   return display.Markdown(F\"\"\"![]({capture(figure)} \"{template.render(**globals(), **kwargs)}\")\"\"\")\n",
        "\n",
        "\n",
        "# requires JPG's or TIFFs\n",
        "def add_alt_text(image_path, alt_text):\n",
        "    try:\n",
        "        if os.path.isfile(image_path):\n",
        "          img = PIL_Image.open(image_path)\n",
        "          if \"exif\" in img.info:\n",
        "              exif_dict = piexif.load(img.info[\"exif\"])\n",
        "          else:\n",
        "              exif_dict={}\n",
        "\n",
        "          w, h = img.size\n",
        "          if \"0th\" not in exif_dict:\n",
        "            exif_dict[\"0th\"]={}\n",
        "          exif_dict[\"0th\"][piexif.ImageIFD.XResolution] = (w, 1)\n",
        "          exif_dict[\"0th\"][piexif.ImageIFD.YResolution] = (h, 1)\n",
        "\n",
        "          software_version=\" \".join([\"STEM-001 with Python v\", str(sys.version).split(\" \")[0]])\n",
        "          exif_dict[\"0th\"][piexif.ImageIFD.Software]=software_version.encode(\"utf-8\")\n",
        "\n",
        "          if \"Exif\" not in exif_dict:\n",
        "            exif_dict[\"Exif\"]={}\n",
        "          exif_dict[\"Exif\"][piexif.ExifIFD.UserComment] = UserComment.dump(alt_text, encoding=\"unicode\")\n",
        "\n",
        "          exif_bytes = piexif.dump(exif_dict)\n",
        "          img.save(image_path, \"jpeg\", exif=exif_bytes)\n",
        "        else:\n",
        "          rprint(f\"Cound not fine {image_path} for ALT text modification, please check your paths.\")\n",
        "\n",
        "    except (FileExistsError, FileNotFoundError, Exception) as e:\n",
        "        process_exception(e)\n",
        "\n",
        "# Appears to solve a problem associated with GPU use on Colab, see: https://github.com/explosion/spaCy/issues/11909\n",
        "def getpreferredencoding(do_setlocale = True):\n",
        "    return \"UTF-8\"\n"
      ],
      "metadata": {
        "id": "_iQZ0-_12xVz",
        "executionInfo": {
          "status": "ok",
          "timestamp": 1738706688170,
          "user_tz": 360,
          "elapsed": 1,
          "user": {
            "displayName": "",
            "userId": ""
          }
        }
      },
      "execution_count": 45,
      "outputs": []
    },
    {
      "cell_type": "code",
      "source": [
        "# this function displays the stack trace on errors from a central location making adjustments to the display on an error easier to manage\n",
        "# functions perform useful solutions for highly repetitive code\n",
        "def process_exception(inc_exception: Exception) -> None:\n",
        "  try:\n",
        "    if DEBUG_STACKTRACE==1:\n",
        "      traceback.print_exc()\n",
        "      console.print_exception(show_locals=True)\n",
        "    else:\n",
        "      rprint(repr(inc_exception))\n",
        "  except Exception as e:\n",
        "    rprint(repr(inc_exception))"
      ],
      "metadata": {
        "id": "Trn3qxCi204z",
        "executionInfo": {
          "status": "ok",
          "timestamp": 1738706688171,
          "user_tz": 360,
          "elapsed": 2,
          "user": {
            "displayName": "",
            "userId": ""
          }
        }
      },
      "execution_count": 46,
      "outputs": []
    },
    {
      "cell_type": "code",
      "execution_count": 47,
      "metadata": {
        "tags": [],
        "id": "SdRxQ1jQvoRX",
        "executionInfo": {
          "status": "ok",
          "timestamp": 1738706688363,
          "user_tz": 360,
          "elapsed": 1,
          "user": {
            "displayName": "",
            "userId": ""
          }
        }
      },
      "outputs": [],
      "source": [
        "#library configurations examples using Pandas\n",
        "def setup_libary_configuration() -> None:\n",
        "    options = {\n",
        "        'display': {\n",
        "            'max_columns': None,\n",
        "            'max_colwidth': 25,\n",
        "            'expand_frame_repr': False,  # Don't wrap to multiple pages\n",
        "            'max_rows': 14,\n",
        "            'max_seq_items': 50,         # Max length of printed sequence\n",
        "            'precision': 4,\n",
        "            'show_dimensions': False\n",
        "        },\n",
        "        'mode': {\n",
        "            'chained_assignment': None   # Controls SettingWithCopyWarning\n",
        "        }\n",
        "    }\n",
        "\n",
        "    for category, option in options.items():\n",
        "        for op, value in option.items():\n",
        "            pd.set_option(f'{category}.{op}', value)  # Python 3.6+\n",
        "\n",
        "    #nump equivalent\n",
        "    np.set_printoptions(precision=4)"
      ]
    },
    {
      "cell_type": "markdown",
      "metadata": {
        "id": "-83x2x6AvoRX"
      },
      "source": [
        "# Variable declaration"
      ]
    },
    {
      "cell_type": "code",
      "execution_count": 48,
      "metadata": {
        "tags": [],
        "id": "Xh3sjeb2voRX",
        "executionInfo": {
          "status": "ok",
          "timestamp": 1738706688696,
          "user_tz": 360,
          "elapsed": 1,
          "user": {
            "displayName": "",
            "userId": ""
          }
        }
      },
      "outputs": [],
      "source": [
        "############################################\n",
        "# GLOBAL VARIABLES\n",
        "############################################\n",
        "DEBUG = 1\n",
        "DEBUG_DATA = 0\n",
        "\n",
        "# CODE CONSTRAINTS\n",
        "VERSION_NAME    = \"SKLearn\"\n",
        "VERSION_MAJOR   = 0\n",
        "VERSION_MINOR   = 0\n",
        "VERSION_RELEASE = 1\n",
        "\n",
        "# API Parameters for things like WordCloud, variables help hold information for later use\n",
        "# The \"constants\" represent variables that we don't anticipate changing over the course of the program.\n",
        "IMG_BACKGROUND=\"black\"     #options are black, white, another color or None\n",
        "IMG_FONT_SIZE_MIN=10\n",
        "IMG_WIDTH=1024\n",
        "IMG_HEIGHT=768\n",
        "IMG_INTERP=\"bilinear\"\n",
        "IMG_ALPHA=0.8\n",
        "IMG_ASPECT=\"equal\"\n",
        "FIGURE_WIDTH=11\n",
        "FIGURE_HEIGHT=8.5\n",
        "WORD_FREQ=10\n",
        "\n",
        "# specify how image formats will be saved\n",
        "IMG_EXT=\".jpg\"\n",
        "\n",
        "# used to fully display the error stack, set to 1 if you want to see a ridiculous amount of debugging information\n",
        "DEBUG_STACKTRACE=0\n",
        "\n",
        "# location of our working files\n",
        "WORKING_FOLDER=\"/content/folderOnColab\"\n",
        "\n",
        "# Notebook Author details\n",
        "AUTHOR_NAME=\"Christopher G Wood\"\n",
        "GITHUB_USERNAME=\"christophergarthwood\"\n",
        "AUTHOR_EMAIL=\"christopher.g.wood@gmail.com\"\n",
        "\n",
        "# Encoding\n",
        "ENCODING  =\"utf-8\"\n",
        "os.environ['PYTHONIOENCODING']=ENCODING\n",
        "\n",
        "############################################\n",
        "# GLOBAL CONSTANTS\n",
        "############################################\n",
        "TEMPERATURE=\"Temp(C)\"\n",
        "SALINITY=\"Sal(PSU)\"\n",
        "\n",
        "############################################\n",
        "# APPLICATION VARIABLES\n",
        "############################################\n",
        "\n",
        "############################################\n",
        "# GLOBAL CONFIGURATION\n",
        "############################################\n",
        "os.environ['PYTHONIOENCODING']=ENCODING"
      ]
    },
    {
      "cell_type": "markdown",
      "metadata": {
        "id": "SAG6s3aZvoRX"
      },
      "source": [
        "# Library Invocation\n",
        "### Note that it's also useful to use this code so that you carry around a list of version dependencies and know how you did something (version)"
      ]
    },
    {
      "cell_type": "code",
      "execution_count": 49,
      "metadata": {
        "tags": [],
        "id": "HNd5B89pvoRX",
        "colab": {
          "base_uri": "https://localhost:8080/",
          "height": 608
        },
        "executionInfo": {
          "status": "ok",
          "timestamp": 1738706689014,
          "user_tz": 360,
          "elapsed": 164,
          "user": {
            "displayName": "",
            "userId": ""
          }
        },
        "outputId": "9c8605d3-ac84-47af-d7f4-52bffa3dde67"
      },
      "outputs": [
        {
          "output_type": "display_data",
          "data": {
            "text/plain": [
              "Software Version Information: SKLearn-\u001b[1;36m0\u001b[0m-\u001b[1;36m0\u001b[0m-\u001b[1;36m1\u001b[0m\n"
            ],
            "text/html": [
              "<pre style=\"white-space:pre;overflow-x:auto;line-height:normal;font-family:Menlo,'DejaVu Sans Mono',consolas,'Courier New',monospace\">Software Version Information: SKLearn-<span style=\"color: #008080; text-decoration-color: #008080; font-weight: bold\">0</span>-<span style=\"color: #008080; text-decoration-color: #008080; font-weight: bold\">0</span>-<span style=\"color: #008080; text-decoration-color: #008080; font-weight: bold\">1</span>\n",
              "</pre>\n"
            ]
          },
          "metadata": {}
        },
        {
          "output_type": "display_data",
          "data": {
            "text/plain": [
              "\n",
              "\n"
            ],
            "text/html": [
              "<pre style=\"white-space:pre;overflow-x:auto;line-height:normal;font-family:Menlo,'DejaVu Sans Mono',consolas,'Courier New',monospace\">\n",
              "\n",
              "</pre>\n"
            ]
          },
          "metadata": {}
        },
        {
          "output_type": "display_data",
          "data": {
            "text/plain": [
              "Author: Christopher G Wood\n",
              "\n",
              "Github username: GITHUB_USERNAME\n",
              "\n",
              "Email: christopher.g.wood@gmail.com\n",
              "\n",
              "Last updated: \u001b[1;36m2025\u001b[0m-\u001b[1;36m02\u001b[0m-04T\u001b[1;92m22:04:48\u001b[0m.\u001b[1;36m825428\u001b[0m+\u001b[1;92m00:00\u001b[0m\n",
              "\n",
              "Python implementation: CPython\n",
              "Python version       : \u001b[1;36m3.10\u001b[0m.\u001b[1;36m12\u001b[0m\n",
              "IPython version      : \u001b[1;36m7.34\u001b[0m.\u001b[1;36m0\u001b[0m\n",
              "\n",
              "Compiler    : GCC \u001b[1;36m11.4\u001b[0m.\u001b[1;36m0\u001b[0m\n",
              "OS          : Linux\n",
              "Release     : \u001b[1;36m5.15\u001b[0m.\u001b[1;36m167\u001b[0m+\n",
              "Machine     : x86_64\n",
              "Processor   : x86_64\n",
              "CPU cores   : \u001b[1;36m4\u001b[0m\n",
              "Architecture: 64bit\n",
              "\n",
              "Hostname: dffc3f077cb0\n",
              "\n",
              "Git hash: \n",
              "\n",
              "Git repo: \n",
              "\n",
              "Git branch: \n",
              "\n"
            ],
            "text/html": [
              "<pre style=\"white-space:pre;overflow-x:auto;line-height:normal;font-family:Menlo,'DejaVu Sans Mono',consolas,'Courier New',monospace\">Author: Christopher G Wood\n",
              "\n",
              "Github username: GITHUB_USERNAME\n",
              "\n",
              "Email: christopher.g.wood@gmail.com\n",
              "\n",
              "Last updated: <span style=\"color: #008080; text-decoration-color: #008080; font-weight: bold\">2025</span>-<span style=\"color: #008080; text-decoration-color: #008080; font-weight: bold\">02</span>-04T<span style=\"color: #00ff00; text-decoration-color: #00ff00; font-weight: bold\">22:04:48</span>.<span style=\"color: #008080; text-decoration-color: #008080; font-weight: bold\">825428</span>+<span style=\"color: #00ff00; text-decoration-color: #00ff00; font-weight: bold\">00:00</span>\n",
              "\n",
              "Python implementation: CPython\n",
              "Python version       : <span style=\"color: #008080; text-decoration-color: #008080; font-weight: bold\">3.10</span>.<span style=\"color: #008080; text-decoration-color: #008080; font-weight: bold\">12</span>\n",
              "IPython version      : <span style=\"color: #008080; text-decoration-color: #008080; font-weight: bold\">7.34</span>.<span style=\"color: #008080; text-decoration-color: #008080; font-weight: bold\">0</span>\n",
              "\n",
              "Compiler    : GCC <span style=\"color: #008080; text-decoration-color: #008080; font-weight: bold\">11.4</span>.<span style=\"color: #008080; text-decoration-color: #008080; font-weight: bold\">0</span>\n",
              "OS          : Linux\n",
              "Release     : <span style=\"color: #008080; text-decoration-color: #008080; font-weight: bold\">5.15</span>.<span style=\"color: #008080; text-decoration-color: #008080; font-weight: bold\">167</span>+\n",
              "Machine     : x86_64\n",
              "Processor   : x86_64\n",
              "CPU cores   : <span style=\"color: #008080; text-decoration-color: #008080; font-weight: bold\">4</span>\n",
              "Architecture: 64bit\n",
              "\n",
              "Hostname: dffc3f077cb0\n",
              "\n",
              "Git hash: \n",
              "\n",
              "Git repo: \n",
              "\n",
              "Git branch: \n",
              "\n",
              "</pre>\n"
            ]
          },
          "metadata": {}
        },
        {
          "output_type": "stream",
          "name": "stdout",
          "text": [
            "\u001b[1mPackages:\u001b[0m\n",
            "\n"
          ]
        },
        {
          "output_type": "display_data",
          "data": {
            "text/plain": [
              "nltk                                    #: \u001b[1;36m3.9\u001b[0m.\u001b[1;36m1\u001b[0m               \n"
            ],
            "text/html": [
              "<pre style=\"white-space:pre;overflow-x:auto;line-height:normal;font-family:Menlo,'DejaVu Sans Mono',consolas,'Courier New',monospace\">nltk                                    #: <span style=\"color: #008080; text-decoration-color: #008080; font-weight: bold\">3.9</span>.<span style=\"color: #008080; text-decoration-color: #008080; font-weight: bold\">1</span>               \n",
              "</pre>\n"
            ]
          },
          "metadata": {}
        },
        {
          "output_type": "display_data",
          "data": {
            "text/plain": [
              "numpy                                   #: \u001b[1;36m1.26\u001b[0m.\u001b[1;36m4\u001b[0m              \n"
            ],
            "text/html": [
              "<pre style=\"white-space:pre;overflow-x:auto;line-height:normal;font-family:Menlo,'DejaVu Sans Mono',consolas,'Courier New',monospace\">numpy                                   #: <span style=\"color: #008080; text-decoration-color: #008080; font-weight: bold\">1.26</span>.<span style=\"color: #008080; text-decoration-color: #008080; font-weight: bold\">4</span>              \n",
              "</pre>\n"
            ]
          },
          "metadata": {}
        },
        {
          "output_type": "display_data",
          "data": {
            "text/plain": [
              "pandas                                  #: \u001b[1;36m2.2\u001b[0m.\u001b[1;36m2\u001b[0m               \n"
            ],
            "text/html": [
              "<pre style=\"white-space:pre;overflow-x:auto;line-height:normal;font-family:Menlo,'DejaVu Sans Mono',consolas,'Courier New',monospace\">pandas                                  #: <span style=\"color: #008080; text-decoration-color: #008080; font-weight: bold\">2.2</span>.<span style=\"color: #008080; text-decoration-color: #008080; font-weight: bold\">2</span>               \n",
              "</pre>\n"
            ]
          },
          "metadata": {}
        },
        {
          "output_type": "display_data",
          "data": {
            "text/plain": [
              "seaborn                                 #: \u001b[1;36m0.13\u001b[0m.\u001b[1;36m2\u001b[0m              \n"
            ],
            "text/html": [
              "<pre style=\"white-space:pre;overflow-x:auto;line-height:normal;font-family:Menlo,'DejaVu Sans Mono',consolas,'Courier New',monospace\">seaborn                                 #: <span style=\"color: #008080; text-decoration-color: #008080; font-weight: bold\">0.13</span>.<span style=\"color: #008080; text-decoration-color: #008080; font-weight: bold\">2</span>              \n",
              "</pre>\n"
            ]
          },
          "metadata": {}
        }
      ],
      "source": [
        "setup_libary_configuration()\n",
        "lib_diagnostics()"
      ]
    },
    {
      "cell_type": "markdown",
      "metadata": {
        "id": "96WCtVS6voRX"
      },
      "source": [
        "# Data Read\n",
        "### Using pandas read in a data file and establish a log for output."
      ]
    },
    {
      "cell_type": "code",
      "source": [
        "# Create the folder that will hold our content.\n",
        "target_folder=WORKING_FOLDER\n",
        "\n",
        "debug.msg_info(f\"Creating a folder ({target_folder}) to store project data.\")\n",
        "\n",
        "try:\n",
        "  if os.path.isfile(target_folder):\n",
        "    raise OSError(\"Cannot create your folder a file of the same name already exists there, work with your instructor or remove it yourself.\")\n",
        "  elif os.path.isdir(target_folder):\n",
        "    debug.msg_debug(f\"The folder named ({target_folder}) {BOLD_START}already exists{BOLD_END}, we won't try to create a new folder.\")\n",
        "  else:\n",
        "    subprocess.run([\"mkdir\", \"-p\" , target_folder], check=True)\n",
        "except (subprocess.CalledProcessError, Exception) as e:\n",
        "  process_exception(e)"
      ],
      "metadata": {
        "colab": {
          "base_uri": "https://localhost:8080/"
        },
        "id": "RHo61Fuq3u6m",
        "executionInfo": {
          "status": "ok",
          "timestamp": 1738706689339,
          "user_tz": 360,
          "elapsed": 2,
          "user": {
            "displayName": "",
            "userId": ""
          }
        },
        "outputId": "1f13cd79-a26d-4d36-b074-974e461ae437"
      },
      "execution_count": 50,
      "outputs": [
        {
          "output_type": "stream",
          "name": "stdout",
          "text": [
            "[2025-02-04 22:04:49 UTC]    INFO: Creating a folder (/content/folderOnColab) to store project data. \n",
            "[2025-02-04 22:04:49 UTC]    INFO: Creating a folder (/content/folderOnColab) to store project data. \n",
            "[2025-02-04 22:04:49 UTC]    INFO: Creating a folder (/content/folderOnColab) to store project data. \n"
          ]
        },
        {
          "output_type": "stream",
          "name": "stderr",
          "text": [
            "INFO:msg_logs:Creating a folder (/content/folderOnColab) to store project data.\n"
          ]
        },
        {
          "output_type": "stream",
          "name": "stdout",
          "text": [
            "[2025-02-04 22:04:49 UTC]   DEBUG: The folder named (/content/folderOnColab) \u001b[1malready exists\u001b[0m, we won't try to create a new folder. \n",
            "[2025-02-04 22:04:49 UTC]   DEBUG: The folder named (/content/folderOnColab) \u001b[1malready exists\u001b[0m, we won't try to create a new folder. \n",
            "[2025-02-04 22:04:49 UTC]   DEBUG: The folder named (/content/folderOnColab) \u001b[1malready exists\u001b[0m, we won't try to create a new folder. \n"
          ]
        },
        {
          "output_type": "stream",
          "name": "stderr",
          "text": [
            "DEBUG:msg_logs:The folder named (/content/folderOnColab) \u001b[1malready exists\u001b[0m, we won't try to create a new folder.\n"
          ]
        }
      ]
    },
    {
      "cell_type": "code",
      "source": [
        "# Download a data file to support the next exercise\n",
        "# https://drive.google.com/file/d/1CZ_UDQwmQzsowYRSrR3i3LANG2unxvgL/view?usp=share_link\n",
        "\n",
        "target_files=[\"1CZ_UDQwmQzsowYRSrR3i3LANG2unxvgL\"]\n",
        "target_filenames=[\"mooring_data.txt\"]\n",
        "for idx, the_name in enumerate(target_files):\n",
        "  try:\n",
        "    debug.msg_debug(f\"...downloading {target_filenames[idx]}.\")\n",
        "    subprocess.run([\"gdown\", f\"{the_name}\", \"--no-check-certificate\",  \"--continue\", \"-O\", f\"{target_folder}{os.sep}{target_filenames[idx]}\"], check=True)\n",
        "  except (subprocess.CalledProcessError, Exception) as e:\n",
        "    process_exception(e)\n",
        "    raise SystemError"
      ],
      "metadata": {
        "colab": {
          "base_uri": "https://localhost:8080/"
        },
        "id": "__LpFDkg324W",
        "executionInfo": {
          "status": "ok",
          "timestamp": 1738706694784,
          "user_tz": 360,
          "elapsed": 5312,
          "user": {
            "displayName": "",
            "userId": ""
          }
        },
        "outputId": "b4b8dcb1-2ea1-4481-ddf1-ffd2ccbf6cba"
      },
      "execution_count": 51,
      "outputs": [
        {
          "output_type": "stream",
          "name": "stdout",
          "text": [
            "[2025-02-04 22:04:49 UTC]   DEBUG: ...downloading mooring_data.txt. \n",
            "[2025-02-04 22:04:49 UTC]   DEBUG: ...downloading mooring_data.txt. \n",
            "[2025-02-04 22:04:49 UTC]   DEBUG: ...downloading mooring_data.txt. \n"
          ]
        },
        {
          "output_type": "stream",
          "name": "stderr",
          "text": [
            "DEBUG:msg_logs:...downloading mooring_data.txt.\n"
          ]
        },
        {
          "output_type": "execute_result",
          "data": {
            "text/plain": [
              "CompletedProcess(args=['gdown', '1CZ_UDQwmQzsowYRSrR3i3LANG2unxvgL', '--no-check-certificate', '--continue', '-O', '/content/folderOnColab/mooring_data.txt'], returncode=0)"
            ]
          },
          "metadata": {},
          "execution_count": 51
        }
      ]
    },
    {
      "cell_type": "code",
      "source": [
        "debug.msg_info(\"Files downloaded:\")\n",
        "cmd=[\"ls \", \"-al\", f\"{target_folder}{os.sep}*.txt\",]\n",
        "completed_process=subprocess.run(cmd, check=True, shell=True, capture_output=True, text=True)\n",
        "if (completed_process.returncode==0):\n",
        "  debug.msg_debug(completed_process.stdout)\n",
        "else:\n",
        "  debug.msg_warning(f\"Command failed with error code of: {completed_process.returncode}\")"
      ],
      "metadata": {
        "colab": {
          "base_uri": "https://localhost:8080/"
        },
        "id": "FrflNbYn37lN",
        "executionInfo": {
          "status": "ok",
          "timestamp": 1738706694784,
          "user_tz": 360,
          "elapsed": 3,
          "user": {
            "displayName": "",
            "userId": ""
          }
        },
        "outputId": "73af129b-4988-4623-9014-2cbdaf44a224"
      },
      "execution_count": 52,
      "outputs": [
        {
          "output_type": "stream",
          "name": "stdout",
          "text": [
            "[2025-02-04 22:04:54 UTC]    INFO: Files downloaded: \n",
            "[2025-02-04 22:04:54 UTC]    INFO: Files downloaded: \n",
            "[2025-02-04 22:04:54 UTC]    INFO: Files downloaded: \n"
          ]
        },
        {
          "output_type": "stream",
          "name": "stderr",
          "text": [
            "INFO:msg_logs:Files downloaded:\n"
          ]
        },
        {
          "output_type": "stream",
          "name": "stdout",
          "text": [
            "[2025-02-04 22:04:54 UTC]   DEBUG: All_flo-thru.dat\n",
            "folderOnColab\n",
            " \n",
            "[2025-02-04 22:04:54 UTC]   DEBUG: All_flo-thru.dat\n",
            "folderOnColab\n",
            " \n",
            "[2025-02-04 22:04:54 UTC]   DEBUG: All_flo-thru.dat\n",
            "folderOnColab\n",
            " \n"
          ]
        },
        {
          "output_type": "stream",
          "name": "stderr",
          "text": [
            "DEBUG:msg_logs:All_flo-thru.dat\n",
            "folderOnColab\n",
            "\n"
          ]
        }
      ]
    },
    {
      "cell_type": "code",
      "execution_count": 72,
      "metadata": {
        "id": "u1u4_BJPvoRX",
        "colab": {
          "base_uri": "https://localhost:8080/"
        },
        "executionInfo": {
          "status": "ok",
          "timestamp": 1738706846070,
          "user_tz": 360,
          "elapsed": 604,
          "user": {
            "displayName": "",
            "userId": ""
          }
        },
        "outputId": "f9caa444-6a37-4cba-d857-7869ded1d439"
      },
      "outputs": [
        {
          "output_type": "stream",
          "name": "stdout",
          "text": [
            "[2025-02-04 22:07:25 UTC]   DEBUG: It appears your data file was read, your data file has 54,225 elements of data. \n",
            "[2025-02-04 22:07:25 UTC]   DEBUG: It appears your data file was read, your data file has 54,225 elements of data. \n",
            "[2025-02-04 22:07:25 UTC]   DEBUG: It appears your data file was read, your data file has 54,225 elements of data. \n"
          ]
        },
        {
          "output_type": "stream",
          "name": "stderr",
          "text": [
            "DEBUG:msg_logs:It appears your data file was read, your data file has 54,225 elements of data.\n",
            "ic| len(df): 54225\n"
          ]
        },
        {
          "output_type": "execute_result",
          "data": {
            "text/plain": [
              "54225"
            ]
          },
          "metadata": {},
          "execution_count": 72
        }
      ],
      "source": [
        "# Now, setup a variable to store the actual content in the file\n",
        "data=pd.DataFrame()\n",
        "target_filename=target_folder+os.sep+\"mooring_data.txt\"\n",
        "data_filename=target_filename\n",
        "\n",
        "# check for the file's existence\n",
        "if os.path.isfile(target_filename):\n",
        "  #open the file, read the contents and close the file\n",
        "  try:\n",
        "    with open(target_filename, 'r') as file:\n",
        "        df = pd.read_csv(target_filename, delimiter='^')\n",
        "        log_file = target_folder+os.sep+\"feature_1_batch_1.log\"\n",
        "  except (FileNotFoundError,PermissionError,IOError,UnicodeDecodeError, Exception) as e:\n",
        "    process_exception(e)\n",
        "else:\n",
        "    debug.msg_warning(\"ERROR: File not found.  Check the previous code block to ensure you file copied.\")\n",
        "    debug.msg_warning(f\"...target file: {target_filename}\")\n",
        "    debug.msg_warning(\"...if you can't find the problem contact the instructor.\")\n",
        "    raise SystemError\n",
        "\n",
        "if len(df)<1:\n",
        "    debug.msg_warning(\"ERROR: There is no content in your data variable.\")\n",
        "    debug.msg_warning(\"...Verify you copied the input file correctly.\")\n",
        "    debug.msg_warning(\"...if you can't find the problem contact the instructor.\")\n",
        "else:\n",
        "    debug.msg_debug(f\"It appears your data file was read, your data file has {len(df):,} elements of data.\")\n",
        "    ic(len(df))"
      ]
    },
    {
      "cell_type": "code",
      "execution_count": 54,
      "metadata": {
        "id": "xAKvP5q_voRY",
        "colab": {
          "base_uri": "https://localhost:8080/",
          "height": 414
        },
        "executionInfo": {
          "status": "ok",
          "timestamp": 1738706695429,
          "user_tz": 360,
          "elapsed": 165,
          "user": {
            "displayName": "",
            "userId": ""
          }
        },
        "outputId": "68db3ab3-c380-4ed9-f7d7-7c4ebaca2a27"
      },
      "outputs": [
        {
          "output_type": "execute_result",
          "data": {
            "text/plain": [
              "        Time(ms)  Depth(m)  Pres(dbar)  Temp(C)  Cond(S/m)  Sal(PSU)  a650__  a676__  a715__  c510__  c532__  c555__  a412__  a440__  a488__  c650__  c676__  c715__  a510__  a532__  a555__  c412__  c440__  c488__  Beta(470)  BetaP(470)  bbP(470)  bb(470)  Beta(532)  BetaP(532)  bbP(532)  bb(532)  Beta(650)  BetaP(650)  bbP(650)  bb(650)  CHL(ug/l)  PE(ppb)  CDOM(ppb)\n",
              "0           2040     2.412       2.429  20.2413     3.0704   21.2229  0.4937  0.6243  1.1033  3.5300  3.3201  3.1844  1.4887  1.0134  0.5575  2.8008  2.8194  3.1858  0.4455  0.3645  0.2978  5.1486  4.4695  3.7681     0.0069      0.0066    0.0458   0.0477     0.0064      0.0063    0.0434   0.0446     0.0056      0.0056    0.0384   0.0389      0.026   6.5550      14.25\n",
              "1           2040     2.412       2.429  20.2413     3.0704   21.2229  0.4980  0.6304  1.1030  3.5090  3.2850  3.1376  1.4929  1.0101  0.5514  2.7883  2.8088  3.1958  0.4524  0.3785  0.3112  5.1644  4.4873  3.7736     0.0069      0.0066    0.0458   0.0477     0.0064      0.0063    0.0434   0.0446     0.0056      0.0056    0.0384   0.0389      0.026   6.5550      14.25\n",
              "2           2040     2.412       2.429  20.2413     3.0704   21.2229  0.4928  0.6280  1.1028  3.5117  3.2873  3.1304  1.4931  1.0112  0.5544  2.7846  2.7906  3.1749  0.4440  0.3678  0.3091  5.1374  4.4634  3.7422     0.0069      0.0066    0.0458   0.0477     0.0064      0.0063    0.0434   0.0446     0.0056      0.0056    0.0384   0.0389      0.026   6.5550      14.25\n",
              "3           2040     2.412       2.429  20.2413     3.0704   21.2229  0.4971  0.6335  1.1029  3.4770  3.2759  3.1041  1.4878  1.0115  0.5573  2.7509  2.7710  3.1591  0.4454  0.3646  0.3054  5.1009  4.4448  3.7302     0.0069      0.0066    0.0458   0.0477     0.0064      0.0063    0.0434   0.0446     0.0056      0.0056    0.0384   0.0389      0.026   6.5550      14.25\n",
              "4           2040     2.412       2.429  20.2413     3.0704   21.2229  0.4967  0.6282  1.1030  3.4634  3.2572  3.1007  1.4938  1.0085  0.5575  2.7412  2.7642  3.1495  0.4489  0.3762  0.3159  5.0973  4.4279  3.7267     0.0069      0.0066    0.0458   0.0477     0.0064      0.0063    0.0434   0.0446     0.0056      0.0056    0.0384   0.0389      0.026   6.5550      14.25\n",
              "...          ...       ...         ...      ...        ...       ...     ...     ...     ...     ...     ...     ...     ...     ...     ...     ...     ...     ...     ...     ...     ...     ...     ...     ...        ...         ...       ...      ...        ...         ...       ...      ...        ...         ...       ...      ...        ...      ...        ...\n",
              "54220  284457140     0.229       0.231  14.3813     0.0098    0.0601  0.9913  0.9685  0.8631  2.3599  2.2621  2.2948  1.1631  1.1353  1.0944  2.2366  2.1823  2.1723  1.0586  1.0248  1.0254  2.4536  2.4732  2.4244     0.0289      0.0287    0.1981   0.2000     0.0333      0.0331    0.2288   0.2300     0.0134      0.0133    0.0919   0.0924      0.260   1.0051      12.50\n",
              "54221  284457140     0.229       0.231  14.3813     0.0098    0.0601  0.9876  0.9696  0.8609  2.3624  2.2611  2.2881  1.1690  1.1442  1.1110  2.2254  2.1738  2.1644  1.0807  1.0397  1.0331  2.4503  2.4730  2.4286     0.0289      0.0287    0.1981   0.2000     0.0333      0.0331    0.2288   0.2300     0.0134      0.0133    0.0919   0.0924      0.260   1.0051      12.50\n",
              "54222  284457140     0.229       0.231  14.3813     0.0098    0.0601  0.9801  0.9617  0.8573  2.3703  2.2693  2.2966  1.1508  1.1282  1.0959  2.2297  2.1742  2.1628  1.0771  1.0435  1.0429  2.4417  2.4616  2.4161     0.0289      0.0287    0.1981   0.2000     0.0333      0.0331    0.2288   0.2300     0.0134      0.0133    0.0919   0.0924      0.260   1.0051      12.50\n",
              "54223  284457140     0.229       0.231  14.3813     0.0098    0.0601  0.9703  0.9556  0.8595  2.3600  2.2597  2.2874  1.1691  1.1414  1.1019  2.2253  2.1725  2.1642  1.0676  1.0275  1.0254  2.4457  2.4659  2.4177     0.0289      0.0287    0.1981   0.2000     0.0333      0.0331    0.2288   0.2300     0.0134      0.0133    0.0919   0.0924      0.260   1.0051      12.50\n",
              "54224  284457140     0.229       0.231  14.3813     0.0098    0.0601  0.9896  0.9661  0.8559  2.3573  2.2545  2.2835  1.1714  1.1453  1.1119  2.2169  2.1644  2.1533  1.0951  1.0603  1.0575  2.4329  2.4551  2.4124     0.0289      0.0287    0.1981   0.2000     0.0333      0.0331    0.2288   0.2300     0.0134      0.0133    0.0919   0.0924      0.260   1.0051      12.50"
            ],
            "text/html": [
              "\n",
              "  <div id=\"df-4f38abca-4e60-4374-ac8c-944f68eabb69\" class=\"colab-df-container\">\n",
              "    <div>\n",
              "<style scoped>\n",
              "    .dataframe tbody tr th:only-of-type {\n",
              "        vertical-align: middle;\n",
              "    }\n",
              "\n",
              "    .dataframe tbody tr th {\n",
              "        vertical-align: top;\n",
              "    }\n",
              "\n",
              "    .dataframe thead th {\n",
              "        text-align: right;\n",
              "    }\n",
              "</style>\n",
              "<table border=\"1\" class=\"dataframe\">\n",
              "  <thead>\n",
              "    <tr style=\"text-align: right;\">\n",
              "      <th></th>\n",
              "      <th>Time(ms)</th>\n",
              "      <th>Depth(m)</th>\n",
              "      <th>Pres(dbar)</th>\n",
              "      <th>Temp(C)</th>\n",
              "      <th>Cond(S/m)</th>\n",
              "      <th>Sal(PSU)</th>\n",
              "      <th>a650__</th>\n",
              "      <th>a676__</th>\n",
              "      <th>a715__</th>\n",
              "      <th>c510__</th>\n",
              "      <th>c532__</th>\n",
              "      <th>c555__</th>\n",
              "      <th>a412__</th>\n",
              "      <th>a440__</th>\n",
              "      <th>a488__</th>\n",
              "      <th>c650__</th>\n",
              "      <th>c676__</th>\n",
              "      <th>c715__</th>\n",
              "      <th>a510__</th>\n",
              "      <th>a532__</th>\n",
              "      <th>a555__</th>\n",
              "      <th>c412__</th>\n",
              "      <th>c440__</th>\n",
              "      <th>c488__</th>\n",
              "      <th>Beta(470)</th>\n",
              "      <th>BetaP(470)</th>\n",
              "      <th>bbP(470)</th>\n",
              "      <th>bb(470)</th>\n",
              "      <th>Beta(532)</th>\n",
              "      <th>BetaP(532)</th>\n",
              "      <th>bbP(532)</th>\n",
              "      <th>bb(532)</th>\n",
              "      <th>Beta(650)</th>\n",
              "      <th>BetaP(650)</th>\n",
              "      <th>bbP(650)</th>\n",
              "      <th>bb(650)</th>\n",
              "      <th>CHL(ug/l)</th>\n",
              "      <th>PE(ppb)</th>\n",
              "      <th>CDOM(ppb)</th>\n",
              "    </tr>\n",
              "  </thead>\n",
              "  <tbody>\n",
              "    <tr>\n",
              "      <th>0</th>\n",
              "      <td>2040</td>\n",
              "      <td>2.412</td>\n",
              "      <td>2.429</td>\n",
              "      <td>20.2413</td>\n",
              "      <td>3.0704</td>\n",
              "      <td>21.2229</td>\n",
              "      <td>0.4937</td>\n",
              "      <td>0.6243</td>\n",
              "      <td>1.1033</td>\n",
              "      <td>3.5300</td>\n",
              "      <td>3.3201</td>\n",
              "      <td>3.1844</td>\n",
              "      <td>1.4887</td>\n",
              "      <td>1.0134</td>\n",
              "      <td>0.5575</td>\n",
              "      <td>2.8008</td>\n",
              "      <td>2.8194</td>\n",
              "      <td>3.1858</td>\n",
              "      <td>0.4455</td>\n",
              "      <td>0.3645</td>\n",
              "      <td>0.2978</td>\n",
              "      <td>5.1486</td>\n",
              "      <td>4.4695</td>\n",
              "      <td>3.7681</td>\n",
              "      <td>0.0069</td>\n",
              "      <td>0.0066</td>\n",
              "      <td>0.0458</td>\n",
              "      <td>0.0477</td>\n",
              "      <td>0.0064</td>\n",
              "      <td>0.0063</td>\n",
              "      <td>0.0434</td>\n",
              "      <td>0.0446</td>\n",
              "      <td>0.0056</td>\n",
              "      <td>0.0056</td>\n",
              "      <td>0.0384</td>\n",
              "      <td>0.0389</td>\n",
              "      <td>0.026</td>\n",
              "      <td>6.5550</td>\n",
              "      <td>14.25</td>\n",
              "    </tr>\n",
              "    <tr>\n",
              "      <th>1</th>\n",
              "      <td>2040</td>\n",
              "      <td>2.412</td>\n",
              "      <td>2.429</td>\n",
              "      <td>20.2413</td>\n",
              "      <td>3.0704</td>\n",
              "      <td>21.2229</td>\n",
              "      <td>0.4980</td>\n",
              "      <td>0.6304</td>\n",
              "      <td>1.1030</td>\n",
              "      <td>3.5090</td>\n",
              "      <td>3.2850</td>\n",
              "      <td>3.1376</td>\n",
              "      <td>1.4929</td>\n",
              "      <td>1.0101</td>\n",
              "      <td>0.5514</td>\n",
              "      <td>2.7883</td>\n",
              "      <td>2.8088</td>\n",
              "      <td>3.1958</td>\n",
              "      <td>0.4524</td>\n",
              "      <td>0.3785</td>\n",
              "      <td>0.3112</td>\n",
              "      <td>5.1644</td>\n",
              "      <td>4.4873</td>\n",
              "      <td>3.7736</td>\n",
              "      <td>0.0069</td>\n",
              "      <td>0.0066</td>\n",
              "      <td>0.0458</td>\n",
              "      <td>0.0477</td>\n",
              "      <td>0.0064</td>\n",
              "      <td>0.0063</td>\n",
              "      <td>0.0434</td>\n",
              "      <td>0.0446</td>\n",
              "      <td>0.0056</td>\n",
              "      <td>0.0056</td>\n",
              "      <td>0.0384</td>\n",
              "      <td>0.0389</td>\n",
              "      <td>0.026</td>\n",
              "      <td>6.5550</td>\n",
              "      <td>14.25</td>\n",
              "    </tr>\n",
              "    <tr>\n",
              "      <th>2</th>\n",
              "      <td>2040</td>\n",
              "      <td>2.412</td>\n",
              "      <td>2.429</td>\n",
              "      <td>20.2413</td>\n",
              "      <td>3.0704</td>\n",
              "      <td>21.2229</td>\n",
              "      <td>0.4928</td>\n",
              "      <td>0.6280</td>\n",
              "      <td>1.1028</td>\n",
              "      <td>3.5117</td>\n",
              "      <td>3.2873</td>\n",
              "      <td>3.1304</td>\n",
              "      <td>1.4931</td>\n",
              "      <td>1.0112</td>\n",
              "      <td>0.5544</td>\n",
              "      <td>2.7846</td>\n",
              "      <td>2.7906</td>\n",
              "      <td>3.1749</td>\n",
              "      <td>0.4440</td>\n",
              "      <td>0.3678</td>\n",
              "      <td>0.3091</td>\n",
              "      <td>5.1374</td>\n",
              "      <td>4.4634</td>\n",
              "      <td>3.7422</td>\n",
              "      <td>0.0069</td>\n",
              "      <td>0.0066</td>\n",
              "      <td>0.0458</td>\n",
              "      <td>0.0477</td>\n",
              "      <td>0.0064</td>\n",
              "      <td>0.0063</td>\n",
              "      <td>0.0434</td>\n",
              "      <td>0.0446</td>\n",
              "      <td>0.0056</td>\n",
              "      <td>0.0056</td>\n",
              "      <td>0.0384</td>\n",
              "      <td>0.0389</td>\n",
              "      <td>0.026</td>\n",
              "      <td>6.5550</td>\n",
              "      <td>14.25</td>\n",
              "    </tr>\n",
              "    <tr>\n",
              "      <th>3</th>\n",
              "      <td>2040</td>\n",
              "      <td>2.412</td>\n",
              "      <td>2.429</td>\n",
              "      <td>20.2413</td>\n",
              "      <td>3.0704</td>\n",
              "      <td>21.2229</td>\n",
              "      <td>0.4971</td>\n",
              "      <td>0.6335</td>\n",
              "      <td>1.1029</td>\n",
              "      <td>3.4770</td>\n",
              "      <td>3.2759</td>\n",
              "      <td>3.1041</td>\n",
              "      <td>1.4878</td>\n",
              "      <td>1.0115</td>\n",
              "      <td>0.5573</td>\n",
              "      <td>2.7509</td>\n",
              "      <td>2.7710</td>\n",
              "      <td>3.1591</td>\n",
              "      <td>0.4454</td>\n",
              "      <td>0.3646</td>\n",
              "      <td>0.3054</td>\n",
              "      <td>5.1009</td>\n",
              "      <td>4.4448</td>\n",
              "      <td>3.7302</td>\n",
              "      <td>0.0069</td>\n",
              "      <td>0.0066</td>\n",
              "      <td>0.0458</td>\n",
              "      <td>0.0477</td>\n",
              "      <td>0.0064</td>\n",
              "      <td>0.0063</td>\n",
              "      <td>0.0434</td>\n",
              "      <td>0.0446</td>\n",
              "      <td>0.0056</td>\n",
              "      <td>0.0056</td>\n",
              "      <td>0.0384</td>\n",
              "      <td>0.0389</td>\n",
              "      <td>0.026</td>\n",
              "      <td>6.5550</td>\n",
              "      <td>14.25</td>\n",
              "    </tr>\n",
              "    <tr>\n",
              "      <th>4</th>\n",
              "      <td>2040</td>\n",
              "      <td>2.412</td>\n",
              "      <td>2.429</td>\n",
              "      <td>20.2413</td>\n",
              "      <td>3.0704</td>\n",
              "      <td>21.2229</td>\n",
              "      <td>0.4967</td>\n",
              "      <td>0.6282</td>\n",
              "      <td>1.1030</td>\n",
              "      <td>3.4634</td>\n",
              "      <td>3.2572</td>\n",
              "      <td>3.1007</td>\n",
              "      <td>1.4938</td>\n",
              "      <td>1.0085</td>\n",
              "      <td>0.5575</td>\n",
              "      <td>2.7412</td>\n",
              "      <td>2.7642</td>\n",
              "      <td>3.1495</td>\n",
              "      <td>0.4489</td>\n",
              "      <td>0.3762</td>\n",
              "      <td>0.3159</td>\n",
              "      <td>5.0973</td>\n",
              "      <td>4.4279</td>\n",
              "      <td>3.7267</td>\n",
              "      <td>0.0069</td>\n",
              "      <td>0.0066</td>\n",
              "      <td>0.0458</td>\n",
              "      <td>0.0477</td>\n",
              "      <td>0.0064</td>\n",
              "      <td>0.0063</td>\n",
              "      <td>0.0434</td>\n",
              "      <td>0.0446</td>\n",
              "      <td>0.0056</td>\n",
              "      <td>0.0056</td>\n",
              "      <td>0.0384</td>\n",
              "      <td>0.0389</td>\n",
              "      <td>0.026</td>\n",
              "      <td>6.5550</td>\n",
              "      <td>14.25</td>\n",
              "    </tr>\n",
              "    <tr>\n",
              "      <th>...</th>\n",
              "      <td>...</td>\n",
              "      <td>...</td>\n",
              "      <td>...</td>\n",
              "      <td>...</td>\n",
              "      <td>...</td>\n",
              "      <td>...</td>\n",
              "      <td>...</td>\n",
              "      <td>...</td>\n",
              "      <td>...</td>\n",
              "      <td>...</td>\n",
              "      <td>...</td>\n",
              "      <td>...</td>\n",
              "      <td>...</td>\n",
              "      <td>...</td>\n",
              "      <td>...</td>\n",
              "      <td>...</td>\n",
              "      <td>...</td>\n",
              "      <td>...</td>\n",
              "      <td>...</td>\n",
              "      <td>...</td>\n",
              "      <td>...</td>\n",
              "      <td>...</td>\n",
              "      <td>...</td>\n",
              "      <td>...</td>\n",
              "      <td>...</td>\n",
              "      <td>...</td>\n",
              "      <td>...</td>\n",
              "      <td>...</td>\n",
              "      <td>...</td>\n",
              "      <td>...</td>\n",
              "      <td>...</td>\n",
              "      <td>...</td>\n",
              "      <td>...</td>\n",
              "      <td>...</td>\n",
              "      <td>...</td>\n",
              "      <td>...</td>\n",
              "      <td>...</td>\n",
              "      <td>...</td>\n",
              "      <td>...</td>\n",
              "    </tr>\n",
              "    <tr>\n",
              "      <th>54220</th>\n",
              "      <td>284457140</td>\n",
              "      <td>0.229</td>\n",
              "      <td>0.231</td>\n",
              "      <td>14.3813</td>\n",
              "      <td>0.0098</td>\n",
              "      <td>0.0601</td>\n",
              "      <td>0.9913</td>\n",
              "      <td>0.9685</td>\n",
              "      <td>0.8631</td>\n",
              "      <td>2.3599</td>\n",
              "      <td>2.2621</td>\n",
              "      <td>2.2948</td>\n",
              "      <td>1.1631</td>\n",
              "      <td>1.1353</td>\n",
              "      <td>1.0944</td>\n",
              "      <td>2.2366</td>\n",
              "      <td>2.1823</td>\n",
              "      <td>2.1723</td>\n",
              "      <td>1.0586</td>\n",
              "      <td>1.0248</td>\n",
              "      <td>1.0254</td>\n",
              "      <td>2.4536</td>\n",
              "      <td>2.4732</td>\n",
              "      <td>2.4244</td>\n",
              "      <td>0.0289</td>\n",
              "      <td>0.0287</td>\n",
              "      <td>0.1981</td>\n",
              "      <td>0.2000</td>\n",
              "      <td>0.0333</td>\n",
              "      <td>0.0331</td>\n",
              "      <td>0.2288</td>\n",
              "      <td>0.2300</td>\n",
              "      <td>0.0134</td>\n",
              "      <td>0.0133</td>\n",
              "      <td>0.0919</td>\n",
              "      <td>0.0924</td>\n",
              "      <td>0.260</td>\n",
              "      <td>1.0051</td>\n",
              "      <td>12.50</td>\n",
              "    </tr>\n",
              "    <tr>\n",
              "      <th>54221</th>\n",
              "      <td>284457140</td>\n",
              "      <td>0.229</td>\n",
              "      <td>0.231</td>\n",
              "      <td>14.3813</td>\n",
              "      <td>0.0098</td>\n",
              "      <td>0.0601</td>\n",
              "      <td>0.9876</td>\n",
              "      <td>0.9696</td>\n",
              "      <td>0.8609</td>\n",
              "      <td>2.3624</td>\n",
              "      <td>2.2611</td>\n",
              "      <td>2.2881</td>\n",
              "      <td>1.1690</td>\n",
              "      <td>1.1442</td>\n",
              "      <td>1.1110</td>\n",
              "      <td>2.2254</td>\n",
              "      <td>2.1738</td>\n",
              "      <td>2.1644</td>\n",
              "      <td>1.0807</td>\n",
              "      <td>1.0397</td>\n",
              "      <td>1.0331</td>\n",
              "      <td>2.4503</td>\n",
              "      <td>2.4730</td>\n",
              "      <td>2.4286</td>\n",
              "      <td>0.0289</td>\n",
              "      <td>0.0287</td>\n",
              "      <td>0.1981</td>\n",
              "      <td>0.2000</td>\n",
              "      <td>0.0333</td>\n",
              "      <td>0.0331</td>\n",
              "      <td>0.2288</td>\n",
              "      <td>0.2300</td>\n",
              "      <td>0.0134</td>\n",
              "      <td>0.0133</td>\n",
              "      <td>0.0919</td>\n",
              "      <td>0.0924</td>\n",
              "      <td>0.260</td>\n",
              "      <td>1.0051</td>\n",
              "      <td>12.50</td>\n",
              "    </tr>\n",
              "    <tr>\n",
              "      <th>54222</th>\n",
              "      <td>284457140</td>\n",
              "      <td>0.229</td>\n",
              "      <td>0.231</td>\n",
              "      <td>14.3813</td>\n",
              "      <td>0.0098</td>\n",
              "      <td>0.0601</td>\n",
              "      <td>0.9801</td>\n",
              "      <td>0.9617</td>\n",
              "      <td>0.8573</td>\n",
              "      <td>2.3703</td>\n",
              "      <td>2.2693</td>\n",
              "      <td>2.2966</td>\n",
              "      <td>1.1508</td>\n",
              "      <td>1.1282</td>\n",
              "      <td>1.0959</td>\n",
              "      <td>2.2297</td>\n",
              "      <td>2.1742</td>\n",
              "      <td>2.1628</td>\n",
              "      <td>1.0771</td>\n",
              "      <td>1.0435</td>\n",
              "      <td>1.0429</td>\n",
              "      <td>2.4417</td>\n",
              "      <td>2.4616</td>\n",
              "      <td>2.4161</td>\n",
              "      <td>0.0289</td>\n",
              "      <td>0.0287</td>\n",
              "      <td>0.1981</td>\n",
              "      <td>0.2000</td>\n",
              "      <td>0.0333</td>\n",
              "      <td>0.0331</td>\n",
              "      <td>0.2288</td>\n",
              "      <td>0.2300</td>\n",
              "      <td>0.0134</td>\n",
              "      <td>0.0133</td>\n",
              "      <td>0.0919</td>\n",
              "      <td>0.0924</td>\n",
              "      <td>0.260</td>\n",
              "      <td>1.0051</td>\n",
              "      <td>12.50</td>\n",
              "    </tr>\n",
              "    <tr>\n",
              "      <th>54223</th>\n",
              "      <td>284457140</td>\n",
              "      <td>0.229</td>\n",
              "      <td>0.231</td>\n",
              "      <td>14.3813</td>\n",
              "      <td>0.0098</td>\n",
              "      <td>0.0601</td>\n",
              "      <td>0.9703</td>\n",
              "      <td>0.9556</td>\n",
              "      <td>0.8595</td>\n",
              "      <td>2.3600</td>\n",
              "      <td>2.2597</td>\n",
              "      <td>2.2874</td>\n",
              "      <td>1.1691</td>\n",
              "      <td>1.1414</td>\n",
              "      <td>1.1019</td>\n",
              "      <td>2.2253</td>\n",
              "      <td>2.1725</td>\n",
              "      <td>2.1642</td>\n",
              "      <td>1.0676</td>\n",
              "      <td>1.0275</td>\n",
              "      <td>1.0254</td>\n",
              "      <td>2.4457</td>\n",
              "      <td>2.4659</td>\n",
              "      <td>2.4177</td>\n",
              "      <td>0.0289</td>\n",
              "      <td>0.0287</td>\n",
              "      <td>0.1981</td>\n",
              "      <td>0.2000</td>\n",
              "      <td>0.0333</td>\n",
              "      <td>0.0331</td>\n",
              "      <td>0.2288</td>\n",
              "      <td>0.2300</td>\n",
              "      <td>0.0134</td>\n",
              "      <td>0.0133</td>\n",
              "      <td>0.0919</td>\n",
              "      <td>0.0924</td>\n",
              "      <td>0.260</td>\n",
              "      <td>1.0051</td>\n",
              "      <td>12.50</td>\n",
              "    </tr>\n",
              "    <tr>\n",
              "      <th>54224</th>\n",
              "      <td>284457140</td>\n",
              "      <td>0.229</td>\n",
              "      <td>0.231</td>\n",
              "      <td>14.3813</td>\n",
              "      <td>0.0098</td>\n",
              "      <td>0.0601</td>\n",
              "      <td>0.9896</td>\n",
              "      <td>0.9661</td>\n",
              "      <td>0.8559</td>\n",
              "      <td>2.3573</td>\n",
              "      <td>2.2545</td>\n",
              "      <td>2.2835</td>\n",
              "      <td>1.1714</td>\n",
              "      <td>1.1453</td>\n",
              "      <td>1.1119</td>\n",
              "      <td>2.2169</td>\n",
              "      <td>2.1644</td>\n",
              "      <td>2.1533</td>\n",
              "      <td>1.0951</td>\n",
              "      <td>1.0603</td>\n",
              "      <td>1.0575</td>\n",
              "      <td>2.4329</td>\n",
              "      <td>2.4551</td>\n",
              "      <td>2.4124</td>\n",
              "      <td>0.0289</td>\n",
              "      <td>0.0287</td>\n",
              "      <td>0.1981</td>\n",
              "      <td>0.2000</td>\n",
              "      <td>0.0333</td>\n",
              "      <td>0.0331</td>\n",
              "      <td>0.2288</td>\n",
              "      <td>0.2300</td>\n",
              "      <td>0.0134</td>\n",
              "      <td>0.0133</td>\n",
              "      <td>0.0919</td>\n",
              "      <td>0.0924</td>\n",
              "      <td>0.260</td>\n",
              "      <td>1.0051</td>\n",
              "      <td>12.50</td>\n",
              "    </tr>\n",
              "  </tbody>\n",
              "</table>\n",
              "</div>\n",
              "    <div class=\"colab-df-buttons\">\n",
              "\n",
              "  <div class=\"colab-df-container\">\n",
              "    <button class=\"colab-df-convert\" onclick=\"convertToInteractive('df-4f38abca-4e60-4374-ac8c-944f68eabb69')\"\n",
              "            title=\"Convert this dataframe to an interactive table.\"\n",
              "            style=\"display:none;\">\n",
              "\n",
              "  <svg xmlns=\"http://www.w3.org/2000/svg\" height=\"24px\" viewBox=\"0 -960 960 960\">\n",
              "    <path d=\"M120-120v-720h720v720H120Zm60-500h600v-160H180v160Zm220 220h160v-160H400v160Zm0 220h160v-160H400v160ZM180-400h160v-160H180v160Zm440 0h160v-160H620v160ZM180-180h160v-160H180v160Zm440 0h160v-160H620v160Z\"/>\n",
              "  </svg>\n",
              "    </button>\n",
              "\n",
              "  <style>\n",
              "    .colab-df-container {\n",
              "      display:flex;\n",
              "      gap: 12px;\n",
              "    }\n",
              "\n",
              "    .colab-df-convert {\n",
              "      background-color: #E8F0FE;\n",
              "      border: none;\n",
              "      border-radius: 50%;\n",
              "      cursor: pointer;\n",
              "      display: none;\n",
              "      fill: #1967D2;\n",
              "      height: 32px;\n",
              "      padding: 0 0 0 0;\n",
              "      width: 32px;\n",
              "    }\n",
              "\n",
              "    .colab-df-convert:hover {\n",
              "      background-color: #E2EBFA;\n",
              "      box-shadow: 0px 1px 2px rgba(60, 64, 67, 0.3), 0px 1px 3px 1px rgba(60, 64, 67, 0.15);\n",
              "      fill: #174EA6;\n",
              "    }\n",
              "\n",
              "    .colab-df-buttons div {\n",
              "      margin-bottom: 4px;\n",
              "    }\n",
              "\n",
              "    [theme=dark] .colab-df-convert {\n",
              "      background-color: #3B4455;\n",
              "      fill: #D2E3FC;\n",
              "    }\n",
              "\n",
              "    [theme=dark] .colab-df-convert:hover {\n",
              "      background-color: #434B5C;\n",
              "      box-shadow: 0px 1px 3px 1px rgba(0, 0, 0, 0.15);\n",
              "      filter: drop-shadow(0px 1px 2px rgba(0, 0, 0, 0.3));\n",
              "      fill: #FFFFFF;\n",
              "    }\n",
              "  </style>\n",
              "\n",
              "    <script>\n",
              "      const buttonEl =\n",
              "        document.querySelector('#df-4f38abca-4e60-4374-ac8c-944f68eabb69 button.colab-df-convert');\n",
              "      buttonEl.style.display =\n",
              "        google.colab.kernel.accessAllowed ? 'block' : 'none';\n",
              "\n",
              "      async function convertToInteractive(key) {\n",
              "        const element = document.querySelector('#df-4f38abca-4e60-4374-ac8c-944f68eabb69');\n",
              "        const dataTable =\n",
              "          await google.colab.kernel.invokeFunction('convertToInteractive',\n",
              "                                                    [key], {});\n",
              "        if (!dataTable) return;\n",
              "\n",
              "        const docLinkHtml = 'Like what you see? Visit the ' +\n",
              "          '<a target=\"_blank\" href=https://colab.research.google.com/notebooks/data_table.ipynb>data table notebook</a>'\n",
              "          + ' to learn more about interactive tables.';\n",
              "        element.innerHTML = '';\n",
              "        dataTable['output_type'] = 'display_data';\n",
              "        await google.colab.output.renderOutput(dataTable, element);\n",
              "        const docLink = document.createElement('div');\n",
              "        docLink.innerHTML = docLinkHtml;\n",
              "        element.appendChild(docLink);\n",
              "      }\n",
              "    </script>\n",
              "  </div>\n",
              "\n",
              "\n",
              "<div id=\"df-b47aaebc-e99e-4376-a05f-63621719a479\">\n",
              "  <button class=\"colab-df-quickchart\" onclick=\"quickchart('df-b47aaebc-e99e-4376-a05f-63621719a479')\"\n",
              "            title=\"Suggest charts\"\n",
              "            style=\"display:none;\">\n",
              "\n",
              "<svg xmlns=\"http://www.w3.org/2000/svg\" height=\"24px\"viewBox=\"0 0 24 24\"\n",
              "     width=\"24px\">\n",
              "    <g>\n",
              "        <path d=\"M19 3H5c-1.1 0-2 .9-2 2v14c0 1.1.9 2 2 2h14c1.1 0 2-.9 2-2V5c0-1.1-.9-2-2-2zM9 17H7v-7h2v7zm4 0h-2V7h2v10zm4 0h-2v-4h2v4z\"/>\n",
              "    </g>\n",
              "</svg>\n",
              "  </button>\n",
              "\n",
              "<style>\n",
              "  .colab-df-quickchart {\n",
              "      --bg-color: #E8F0FE;\n",
              "      --fill-color: #1967D2;\n",
              "      --hover-bg-color: #E2EBFA;\n",
              "      --hover-fill-color: #174EA6;\n",
              "      --disabled-fill-color: #AAA;\n",
              "      --disabled-bg-color: #DDD;\n",
              "  }\n",
              "\n",
              "  [theme=dark] .colab-df-quickchart {\n",
              "      --bg-color: #3B4455;\n",
              "      --fill-color: #D2E3FC;\n",
              "      --hover-bg-color: #434B5C;\n",
              "      --hover-fill-color: #FFFFFF;\n",
              "      --disabled-bg-color: #3B4455;\n",
              "      --disabled-fill-color: #666;\n",
              "  }\n",
              "\n",
              "  .colab-df-quickchart {\n",
              "    background-color: var(--bg-color);\n",
              "    border: none;\n",
              "    border-radius: 50%;\n",
              "    cursor: pointer;\n",
              "    display: none;\n",
              "    fill: var(--fill-color);\n",
              "    height: 32px;\n",
              "    padding: 0;\n",
              "    width: 32px;\n",
              "  }\n",
              "\n",
              "  .colab-df-quickchart:hover {\n",
              "    background-color: var(--hover-bg-color);\n",
              "    box-shadow: 0 1px 2px rgba(60, 64, 67, 0.3), 0 1px 3px 1px rgba(60, 64, 67, 0.15);\n",
              "    fill: var(--button-hover-fill-color);\n",
              "  }\n",
              "\n",
              "  .colab-df-quickchart-complete:disabled,\n",
              "  .colab-df-quickchart-complete:disabled:hover {\n",
              "    background-color: var(--disabled-bg-color);\n",
              "    fill: var(--disabled-fill-color);\n",
              "    box-shadow: none;\n",
              "  }\n",
              "\n",
              "  .colab-df-spinner {\n",
              "    border: 2px solid var(--fill-color);\n",
              "    border-color: transparent;\n",
              "    border-bottom-color: var(--fill-color);\n",
              "    animation:\n",
              "      spin 1s steps(1) infinite;\n",
              "  }\n",
              "\n",
              "  @keyframes spin {\n",
              "    0% {\n",
              "      border-color: transparent;\n",
              "      border-bottom-color: var(--fill-color);\n",
              "      border-left-color: var(--fill-color);\n",
              "    }\n",
              "    20% {\n",
              "      border-color: transparent;\n",
              "      border-left-color: var(--fill-color);\n",
              "      border-top-color: var(--fill-color);\n",
              "    }\n",
              "    30% {\n",
              "      border-color: transparent;\n",
              "      border-left-color: var(--fill-color);\n",
              "      border-top-color: var(--fill-color);\n",
              "      border-right-color: var(--fill-color);\n",
              "    }\n",
              "    40% {\n",
              "      border-color: transparent;\n",
              "      border-right-color: var(--fill-color);\n",
              "      border-top-color: var(--fill-color);\n",
              "    }\n",
              "    60% {\n",
              "      border-color: transparent;\n",
              "      border-right-color: var(--fill-color);\n",
              "    }\n",
              "    80% {\n",
              "      border-color: transparent;\n",
              "      border-right-color: var(--fill-color);\n",
              "      border-bottom-color: var(--fill-color);\n",
              "    }\n",
              "    90% {\n",
              "      border-color: transparent;\n",
              "      border-bottom-color: var(--fill-color);\n",
              "    }\n",
              "  }\n",
              "</style>\n",
              "\n",
              "  <script>\n",
              "    async function quickchart(key) {\n",
              "      const quickchartButtonEl =\n",
              "        document.querySelector('#' + key + ' button');\n",
              "      quickchartButtonEl.disabled = true;  // To prevent multiple clicks.\n",
              "      quickchartButtonEl.classList.add('colab-df-spinner');\n",
              "      try {\n",
              "        const charts = await google.colab.kernel.invokeFunction(\n",
              "            'suggestCharts', [key], {});\n",
              "      } catch (error) {\n",
              "        console.error('Error during call to suggestCharts:', error);\n",
              "      }\n",
              "      quickchartButtonEl.classList.remove('colab-df-spinner');\n",
              "      quickchartButtonEl.classList.add('colab-df-quickchart-complete');\n",
              "    }\n",
              "    (() => {\n",
              "      let quickchartButtonEl =\n",
              "        document.querySelector('#df-b47aaebc-e99e-4376-a05f-63621719a479 button');\n",
              "      quickchartButtonEl.style.display =\n",
              "        google.colab.kernel.accessAllowed ? 'block' : 'none';\n",
              "    })();\n",
              "  </script>\n",
              "</div>\n",
              "\n",
              "  <div id=\"id_512440c2-ab77-4480-b203-4c4acde922d9\">\n",
              "    <style>\n",
              "      .colab-df-generate {\n",
              "        background-color: #E8F0FE;\n",
              "        border: none;\n",
              "        border-radius: 50%;\n",
              "        cursor: pointer;\n",
              "        display: none;\n",
              "        fill: #1967D2;\n",
              "        height: 32px;\n",
              "        padding: 0 0 0 0;\n",
              "        width: 32px;\n",
              "      }\n",
              "\n",
              "      .colab-df-generate:hover {\n",
              "        background-color: #E2EBFA;\n",
              "        box-shadow: 0px 1px 2px rgba(60, 64, 67, 0.3), 0px 1px 3px 1px rgba(60, 64, 67, 0.15);\n",
              "        fill: #174EA6;\n",
              "      }\n",
              "\n",
              "      [theme=dark] .colab-df-generate {\n",
              "        background-color: #3B4455;\n",
              "        fill: #D2E3FC;\n",
              "      }\n",
              "\n",
              "      [theme=dark] .colab-df-generate:hover {\n",
              "        background-color: #434B5C;\n",
              "        box-shadow: 0px 1px 3px 1px rgba(0, 0, 0, 0.15);\n",
              "        filter: drop-shadow(0px 1px 2px rgba(0, 0, 0, 0.3));\n",
              "        fill: #FFFFFF;\n",
              "      }\n",
              "    </style>\n",
              "    <button class=\"colab-df-generate\" onclick=\"generateWithVariable('df')\"\n",
              "            title=\"Generate code using this dataframe.\"\n",
              "            style=\"display:none;\">\n",
              "\n",
              "  <svg xmlns=\"http://www.w3.org/2000/svg\" height=\"24px\"viewBox=\"0 0 24 24\"\n",
              "       width=\"24px\">\n",
              "    <path d=\"M7,19H8.4L18.45,9,17,7.55,7,17.6ZM5,21V16.75L18.45,3.32a2,2,0,0,1,2.83,0l1.4,1.43a1.91,1.91,0,0,1,.58,1.4,1.91,1.91,0,0,1-.58,1.4L9.25,21ZM18.45,9,17,7.55Zm-12,3A5.31,5.31,0,0,0,4.9,8.1,5.31,5.31,0,0,0,1,6.5,5.31,5.31,0,0,0,4.9,4.9,5.31,5.31,0,0,0,6.5,1,5.31,5.31,0,0,0,8.1,4.9,5.31,5.31,0,0,0,12,6.5,5.46,5.46,0,0,0,6.5,12Z\"/>\n",
              "  </svg>\n",
              "    </button>\n",
              "    <script>\n",
              "      (() => {\n",
              "      const buttonEl =\n",
              "        document.querySelector('#id_512440c2-ab77-4480-b203-4c4acde922d9 button.colab-df-generate');\n",
              "      buttonEl.style.display =\n",
              "        google.colab.kernel.accessAllowed ? 'block' : 'none';\n",
              "\n",
              "      buttonEl.onclick = () => {\n",
              "        google.colab.notebook.generateWithVariable('df');\n",
              "      }\n",
              "      })();\n",
              "    </script>\n",
              "  </div>\n",
              "\n",
              "    </div>\n",
              "  </div>\n"
            ]
          },
          "metadata": {},
          "execution_count": 54
        }
      ],
      "source": [
        "df"
      ]
    },
    {
      "cell_type": "code",
      "execution_count": 55,
      "metadata": {
        "id": "romlDOVqvoRY",
        "colab": {
          "base_uri": "https://localhost:8080/"
        },
        "executionInfo": {
          "status": "ok",
          "timestamp": 1738706695429,
          "user_tz": 360,
          "elapsed": 5,
          "user": {
            "displayName": "",
            "userId": ""
          }
        },
        "outputId": "a44bdf59-2301-4559-9212-9cf63fab2239"
      },
      "outputs": [
        {
          "output_type": "stream",
          "name": "stdout",
          "text": [
            "Index([' Time(ms)', 'Depth(m)', 'Pres(dbar)', 'Temp(C)', 'Cond(S/m)',\n",
            "       'Sal(PSU)', 'a650__', 'a676__', 'a715__', 'c510__', 'c532__', 'c555__',\n",
            "       'a412__', 'a440__', 'a488__', 'c650__', 'c676__', 'c715__', 'a510__',\n",
            "       'a532__', 'a555__', 'c412__', 'c440__', 'c488__', 'Beta(470)',\n",
            "       'BetaP(470)', 'bbP(470)', 'bb(470)', 'Beta(532)', 'BetaP(532)',\n",
            "       'bbP(532)', 'bb(532)', 'Beta(650)', 'BetaP(650)', 'bbP(650)', 'bb(650)',\n",
            "       'CHL(ug/l)', 'PE(ppb)', 'CDOM(ppb)'],\n",
            "      dtype='object')\n"
          ]
        }
      ],
      "source": [
        "#what does the data domain look like?\n",
        "print(df.columns)"
      ]
    },
    {
      "cell_type": "code",
      "execution_count": 56,
      "metadata": {
        "id": "lAntgN10voRY",
        "colab": {
          "base_uri": "https://localhost:8080/"
        },
        "executionInfo": {
          "status": "ok",
          "timestamp": 1738706695429,
          "user_tz": 360,
          "elapsed": 4,
          "user": {
            "displayName": "",
            "userId": ""
          }
        },
        "outputId": "0164fdd9-d67c-4e43-d8aa-cfc8517a11b3"
      },
      "outputs": [
        {
          "output_type": "stream",
          "name": "stdout",
          "text": [
            "<class 'pandas.core.frame.DataFrame'>\n",
            "RangeIndex: 54225 entries, 0 to 54224\n",
            "Data columns (total 39 columns):\n",
            " #   Column      Non-Null Count  Dtype  \n",
            "---  ------      --------------  -----  \n",
            " 0    Time(ms)   54225 non-null  int64  \n",
            " 1   Depth(m)    54225 non-null  float64\n",
            " 2   Pres(dbar)  54225 non-null  float64\n",
            " 3   Temp(C)     54225 non-null  float64\n",
            " 4   Cond(S/m)   54225 non-null  float64\n",
            " 5   Sal(PSU)    54225 non-null  float64\n",
            " 6   a650__      54225 non-null  float64\n",
            " 7   a676__      54225 non-null  float64\n",
            " 8   a715__      54225 non-null  float64\n",
            " 9   c510__      54221 non-null  float64\n",
            " 10  c532__      54224 non-null  float64\n",
            " 11  c555__      54225 non-null  float64\n",
            " 12  a412__      54191 non-null  float64\n",
            " 13  a440__      54196 non-null  float64\n",
            " 14  a488__      54213 non-null  float64\n",
            " 15  c650__      54225 non-null  float64\n",
            " 16  c676__      54225 non-null  float64\n",
            " 17  c715__      54225 non-null  float64\n",
            " 18  a510__      54221 non-null  float64\n",
            " 19  a532__      54224 non-null  float64\n",
            " 20  a555__      54225 non-null  float64\n",
            " 21  c412__      54191 non-null  float64\n",
            " 22  c440__      54196 non-null  float64\n",
            " 23  c488__      54213 non-null  float64\n",
            " 24  Beta(470)   54225 non-null  float64\n",
            " 25  BetaP(470)  54225 non-null  float64\n",
            " 26  bbP(470)    54225 non-null  float64\n",
            " 27  bb(470)     54225 non-null  float64\n",
            " 28  Beta(532)   54225 non-null  float64\n",
            " 29  BetaP(532)  54225 non-null  float64\n",
            " 30  bbP(532)    54225 non-null  float64\n",
            " 31  bb(532)     54225 non-null  float64\n",
            " 32  Beta(650)   54225 non-null  float64\n",
            " 33  BetaP(650)  54225 non-null  float64\n",
            " 34  bbP(650)    54225 non-null  float64\n",
            " 35  bb(650)     54225 non-null  float64\n",
            " 36  CHL(ug/l)   54225 non-null  float64\n",
            " 37  PE(ppb)     54225 non-null  float64\n",
            " 38  CDOM(ppb)   54225 non-null  float64\n",
            "dtypes: float64(38), int64(1)\n",
            "memory usage: 16.1 MB\n"
          ]
        }
      ],
      "source": [
        "#learn pandas\n",
        "df.info()"
      ]
    },
    {
      "cell_type": "code",
      "execution_count": 57,
      "metadata": {
        "id": "8uO9_XgZvoRY",
        "colab": {
          "base_uri": "https://localhost:8080/",
          "height": 320
        },
        "executionInfo": {
          "status": "ok",
          "timestamp": 1738706695745,
          "user_tz": 360,
          "elapsed": 319,
          "user": {
            "displayName": "",
            "userId": ""
          }
        },
        "outputId": "86005324-e5ae-4aff-f049-4256febe6d99"
      },
      "outputs": [
        {
          "output_type": "execute_result",
          "data": {
            "text/plain": [
              "         Time(ms)    Depth(m)  Pres(dbar)     Temp(C)   Cond(S/m)    Sal(PSU)      a650__      a676__      a715__      c510__      c532__      c555__      a412__      a440__      a488__      c650__      c676__      c715__      a510__      a532__      a555__      c412__      c440__      c488__   Beta(470)  BetaP(470)    bbP(470)     bb(470)   Beta(532)  BetaP(532)    bbP(532)     bb(532)   Beta(650)  BetaP(650)    bbP(650)     bb(650)   CHL(ug/l)     PE(ppb)   CDOM(ppb)\n",
              "count  5.4225e+04  54225.0000  54225.0000  54225.0000  54225.0000  54225.0000  54225.0000  54225.0000  54225.0000  54221.0000  54224.0000  54225.0000  54191.0000  54196.0000  54213.0000  54225.0000  54225.0000  54225.0000  54221.0000  54224.0000  54225.0000  54191.0000  54196.0000  54213.0000  54225.0000  54225.0000  54225.0000  54225.0000  54225.0000  54225.0000  54225.0000  5.4225e+04  5.4225e+04  54225.0000  54225.0000  54225.0000  54225.0000  54225.0000  54225.0000\n",
              "mean   1.4227e+08      2.4052      2.4217     20.4734      3.3244     23.0135      0.8114      0.9437      1.3253      9.5783      9.2298      8.9078      2.6291      1.9385      1.2406      7.9972      7.8911      8.0785      1.0437      0.8942      0.7655     11.9528     11.0601      9.9888      0.0192      0.0190      0.1311      0.1330      0.0198      0.0196      0.1354  1.3657e-01  1.0438e-02      0.0104      0.0717      0.0722      0.0559      9.7436     15.9809\n",
              "std    8.2600e+07      0.2680      0.2698      1.0591      0.4264      2.9027      0.3246      0.3143      0.2478      6.6257      6.4534      6.2585      1.2619      0.9932      0.7120      5.6439      5.5148      5.3098      0.6155      0.5377      0.4690      7.5336      7.2587      6.8097      0.0140      0.0140      0.0965      0.0965      0.0146      0.0146      0.1012  1.0118e-01  3.3884e-03      0.0034      0.0234      0.0234      0.0470      2.3775      3.8851\n",
              "min    2.0400e+03      0.2290      0.2310     11.7240      0.0078      0.0504      0.4563      0.5952      0.8372      1.4566      1.5006      1.4971      1.1315      0.8825      0.4856      1.4898      1.4563      1.4207      0.3870      0.3195      0.2645      1.6440      1.5628      1.5090      0.0038      0.0035      0.0242      0.0261      0.0000     -0.0002     -0.0011  5.0000e-05 -4.3000e-05     -0.0001     -0.0007     -0.0003     -0.2990      0.1311      1.2500\n",
              "25%    7.0246e+07      2.3610      2.3770     20.2524      3.1963     22.3201      0.5177      0.6567      1.1140      3.7241      3.5308      3.3853      1.5077      1.0601      0.6071      3.0417      3.0598      3.4457      0.4949      0.4126      0.3447      5.2797      4.6340      3.9649      0.0070      0.0068      0.0467      0.0486      0.0071      0.0070      0.0481  4.9204e-02  6.7370e-03      0.0067      0.0461      0.0466      0.0260      8.0845     13.0000\n",
              "50%    1.4223e+08      2.4360      2.4530     20.6635      3.3494     23.1836      0.7607      0.9061      1.2581      7.6110      7.3485      7.1147      2.2561      1.6576      1.1207      6.4864      6.4372      6.7186      0.9416      0.8064      0.6852      9.4410      8.7325      7.9165      0.0159      0.0156      0.1079      0.1098      0.0160      0.0159      0.1097  1.1084e-01  1.3359e-02      0.0133      0.0919      0.0924      0.0520      9.5703     15.2500\n",
              "75%    2.1421e+08      2.5050      2.5220     21.0876      3.5465     24.3282      0.9888      1.1141      1.4475     13.3235     12.8400     12.3631      3.4218      2.5158      1.6022     10.9789     10.7714     10.8128      1.3490      1.1719      1.0171     16.6472     15.4271     13.9145      0.0256      0.0253      0.1750      0.1769      0.0256      0.0255      0.1762  1.7732e-01  1.3359e-02      0.0133      0.0919      0.0924      0.0910     11.7553     18.5000\n",
              "max    2.8446e+08      2.8280      2.8470     21.3571      4.0005     28.3290      2.8148      2.7860      2.7880     38.2055     38.0095     37.4525     10.7763      7.3083      5.3478     35.3903     34.6212     33.8259      4.9868      4.3927      3.7886     38.2229     37.9593     38.1613      0.0588      0.0585      0.4045      0.4064      0.0577      0.0575      0.3977  3.9880e-01  1.3359e-02      0.0133      0.0919      0.0924      0.3900     15.4261     29.0000"
            ],
            "text/html": [
              "\n",
              "  <div id=\"df-8241ec77-7a11-4372-8959-82993d460ef5\" class=\"colab-df-container\">\n",
              "    <div>\n",
              "<style scoped>\n",
              "    .dataframe tbody tr th:only-of-type {\n",
              "        vertical-align: middle;\n",
              "    }\n",
              "\n",
              "    .dataframe tbody tr th {\n",
              "        vertical-align: top;\n",
              "    }\n",
              "\n",
              "    .dataframe thead th {\n",
              "        text-align: right;\n",
              "    }\n",
              "</style>\n",
              "<table border=\"1\" class=\"dataframe\">\n",
              "  <thead>\n",
              "    <tr style=\"text-align: right;\">\n",
              "      <th></th>\n",
              "      <th>Time(ms)</th>\n",
              "      <th>Depth(m)</th>\n",
              "      <th>Pres(dbar)</th>\n",
              "      <th>Temp(C)</th>\n",
              "      <th>Cond(S/m)</th>\n",
              "      <th>Sal(PSU)</th>\n",
              "      <th>a650__</th>\n",
              "      <th>a676__</th>\n",
              "      <th>a715__</th>\n",
              "      <th>c510__</th>\n",
              "      <th>c532__</th>\n",
              "      <th>c555__</th>\n",
              "      <th>a412__</th>\n",
              "      <th>a440__</th>\n",
              "      <th>a488__</th>\n",
              "      <th>c650__</th>\n",
              "      <th>c676__</th>\n",
              "      <th>c715__</th>\n",
              "      <th>a510__</th>\n",
              "      <th>a532__</th>\n",
              "      <th>a555__</th>\n",
              "      <th>c412__</th>\n",
              "      <th>c440__</th>\n",
              "      <th>c488__</th>\n",
              "      <th>Beta(470)</th>\n",
              "      <th>BetaP(470)</th>\n",
              "      <th>bbP(470)</th>\n",
              "      <th>bb(470)</th>\n",
              "      <th>Beta(532)</th>\n",
              "      <th>BetaP(532)</th>\n",
              "      <th>bbP(532)</th>\n",
              "      <th>bb(532)</th>\n",
              "      <th>Beta(650)</th>\n",
              "      <th>BetaP(650)</th>\n",
              "      <th>bbP(650)</th>\n",
              "      <th>bb(650)</th>\n",
              "      <th>CHL(ug/l)</th>\n",
              "      <th>PE(ppb)</th>\n",
              "      <th>CDOM(ppb)</th>\n",
              "    </tr>\n",
              "  </thead>\n",
              "  <tbody>\n",
              "    <tr>\n",
              "      <th>count</th>\n",
              "      <td>5.4225e+04</td>\n",
              "      <td>54225.0000</td>\n",
              "      <td>54225.0000</td>\n",
              "      <td>54225.0000</td>\n",
              "      <td>54225.0000</td>\n",
              "      <td>54225.0000</td>\n",
              "      <td>54225.0000</td>\n",
              "      <td>54225.0000</td>\n",
              "      <td>54225.0000</td>\n",
              "      <td>54221.0000</td>\n",
              "      <td>54224.0000</td>\n",
              "      <td>54225.0000</td>\n",
              "      <td>54191.0000</td>\n",
              "      <td>54196.0000</td>\n",
              "      <td>54213.0000</td>\n",
              "      <td>54225.0000</td>\n",
              "      <td>54225.0000</td>\n",
              "      <td>54225.0000</td>\n",
              "      <td>54221.0000</td>\n",
              "      <td>54224.0000</td>\n",
              "      <td>54225.0000</td>\n",
              "      <td>54191.0000</td>\n",
              "      <td>54196.0000</td>\n",
              "      <td>54213.0000</td>\n",
              "      <td>54225.0000</td>\n",
              "      <td>54225.0000</td>\n",
              "      <td>54225.0000</td>\n",
              "      <td>54225.0000</td>\n",
              "      <td>54225.0000</td>\n",
              "      <td>54225.0000</td>\n",
              "      <td>54225.0000</td>\n",
              "      <td>5.4225e+04</td>\n",
              "      <td>5.4225e+04</td>\n",
              "      <td>54225.0000</td>\n",
              "      <td>54225.0000</td>\n",
              "      <td>54225.0000</td>\n",
              "      <td>54225.0000</td>\n",
              "      <td>54225.0000</td>\n",
              "      <td>54225.0000</td>\n",
              "    </tr>\n",
              "    <tr>\n",
              "      <th>mean</th>\n",
              "      <td>1.4227e+08</td>\n",
              "      <td>2.4052</td>\n",
              "      <td>2.4217</td>\n",
              "      <td>20.4734</td>\n",
              "      <td>3.3244</td>\n",
              "      <td>23.0135</td>\n",
              "      <td>0.8114</td>\n",
              "      <td>0.9437</td>\n",
              "      <td>1.3253</td>\n",
              "      <td>9.5783</td>\n",
              "      <td>9.2298</td>\n",
              "      <td>8.9078</td>\n",
              "      <td>2.6291</td>\n",
              "      <td>1.9385</td>\n",
              "      <td>1.2406</td>\n",
              "      <td>7.9972</td>\n",
              "      <td>7.8911</td>\n",
              "      <td>8.0785</td>\n",
              "      <td>1.0437</td>\n",
              "      <td>0.8942</td>\n",
              "      <td>0.7655</td>\n",
              "      <td>11.9528</td>\n",
              "      <td>11.0601</td>\n",
              "      <td>9.9888</td>\n",
              "      <td>0.0192</td>\n",
              "      <td>0.0190</td>\n",
              "      <td>0.1311</td>\n",
              "      <td>0.1330</td>\n",
              "      <td>0.0198</td>\n",
              "      <td>0.0196</td>\n",
              "      <td>0.1354</td>\n",
              "      <td>1.3657e-01</td>\n",
              "      <td>1.0438e-02</td>\n",
              "      <td>0.0104</td>\n",
              "      <td>0.0717</td>\n",
              "      <td>0.0722</td>\n",
              "      <td>0.0559</td>\n",
              "      <td>9.7436</td>\n",
              "      <td>15.9809</td>\n",
              "    </tr>\n",
              "    <tr>\n",
              "      <th>std</th>\n",
              "      <td>8.2600e+07</td>\n",
              "      <td>0.2680</td>\n",
              "      <td>0.2698</td>\n",
              "      <td>1.0591</td>\n",
              "      <td>0.4264</td>\n",
              "      <td>2.9027</td>\n",
              "      <td>0.3246</td>\n",
              "      <td>0.3143</td>\n",
              "      <td>0.2478</td>\n",
              "      <td>6.6257</td>\n",
              "      <td>6.4534</td>\n",
              "      <td>6.2585</td>\n",
              "      <td>1.2619</td>\n",
              "      <td>0.9932</td>\n",
              "      <td>0.7120</td>\n",
              "      <td>5.6439</td>\n",
              "      <td>5.5148</td>\n",
              "      <td>5.3098</td>\n",
              "      <td>0.6155</td>\n",
              "      <td>0.5377</td>\n",
              "      <td>0.4690</td>\n",
              "      <td>7.5336</td>\n",
              "      <td>7.2587</td>\n",
              "      <td>6.8097</td>\n",
              "      <td>0.0140</td>\n",
              "      <td>0.0140</td>\n",
              "      <td>0.0965</td>\n",
              "      <td>0.0965</td>\n",
              "      <td>0.0146</td>\n",
              "      <td>0.0146</td>\n",
              "      <td>0.1012</td>\n",
              "      <td>1.0118e-01</td>\n",
              "      <td>3.3884e-03</td>\n",
              "      <td>0.0034</td>\n",
              "      <td>0.0234</td>\n",
              "      <td>0.0234</td>\n",
              "      <td>0.0470</td>\n",
              "      <td>2.3775</td>\n",
              "      <td>3.8851</td>\n",
              "    </tr>\n",
              "    <tr>\n",
              "      <th>min</th>\n",
              "      <td>2.0400e+03</td>\n",
              "      <td>0.2290</td>\n",
              "      <td>0.2310</td>\n",
              "      <td>11.7240</td>\n",
              "      <td>0.0078</td>\n",
              "      <td>0.0504</td>\n",
              "      <td>0.4563</td>\n",
              "      <td>0.5952</td>\n",
              "      <td>0.8372</td>\n",
              "      <td>1.4566</td>\n",
              "      <td>1.5006</td>\n",
              "      <td>1.4971</td>\n",
              "      <td>1.1315</td>\n",
              "      <td>0.8825</td>\n",
              "      <td>0.4856</td>\n",
              "      <td>1.4898</td>\n",
              "      <td>1.4563</td>\n",
              "      <td>1.4207</td>\n",
              "      <td>0.3870</td>\n",
              "      <td>0.3195</td>\n",
              "      <td>0.2645</td>\n",
              "      <td>1.6440</td>\n",
              "      <td>1.5628</td>\n",
              "      <td>1.5090</td>\n",
              "      <td>0.0038</td>\n",
              "      <td>0.0035</td>\n",
              "      <td>0.0242</td>\n",
              "      <td>0.0261</td>\n",
              "      <td>0.0000</td>\n",
              "      <td>-0.0002</td>\n",
              "      <td>-0.0011</td>\n",
              "      <td>5.0000e-05</td>\n",
              "      <td>-4.3000e-05</td>\n",
              "      <td>-0.0001</td>\n",
              "      <td>-0.0007</td>\n",
              "      <td>-0.0003</td>\n",
              "      <td>-0.2990</td>\n",
              "      <td>0.1311</td>\n",
              "      <td>1.2500</td>\n",
              "    </tr>\n",
              "    <tr>\n",
              "      <th>25%</th>\n",
              "      <td>7.0246e+07</td>\n",
              "      <td>2.3610</td>\n",
              "      <td>2.3770</td>\n",
              "      <td>20.2524</td>\n",
              "      <td>3.1963</td>\n",
              "      <td>22.3201</td>\n",
              "      <td>0.5177</td>\n",
              "      <td>0.6567</td>\n",
              "      <td>1.1140</td>\n",
              "      <td>3.7241</td>\n",
              "      <td>3.5308</td>\n",
              "      <td>3.3853</td>\n",
              "      <td>1.5077</td>\n",
              "      <td>1.0601</td>\n",
              "      <td>0.6071</td>\n",
              "      <td>3.0417</td>\n",
              "      <td>3.0598</td>\n",
              "      <td>3.4457</td>\n",
              "      <td>0.4949</td>\n",
              "      <td>0.4126</td>\n",
              "      <td>0.3447</td>\n",
              "      <td>5.2797</td>\n",
              "      <td>4.6340</td>\n",
              "      <td>3.9649</td>\n",
              "      <td>0.0070</td>\n",
              "      <td>0.0068</td>\n",
              "      <td>0.0467</td>\n",
              "      <td>0.0486</td>\n",
              "      <td>0.0071</td>\n",
              "      <td>0.0070</td>\n",
              "      <td>0.0481</td>\n",
              "      <td>4.9204e-02</td>\n",
              "      <td>6.7370e-03</td>\n",
              "      <td>0.0067</td>\n",
              "      <td>0.0461</td>\n",
              "      <td>0.0466</td>\n",
              "      <td>0.0260</td>\n",
              "      <td>8.0845</td>\n",
              "      <td>13.0000</td>\n",
              "    </tr>\n",
              "    <tr>\n",
              "      <th>50%</th>\n",
              "      <td>1.4223e+08</td>\n",
              "      <td>2.4360</td>\n",
              "      <td>2.4530</td>\n",
              "      <td>20.6635</td>\n",
              "      <td>3.3494</td>\n",
              "      <td>23.1836</td>\n",
              "      <td>0.7607</td>\n",
              "      <td>0.9061</td>\n",
              "      <td>1.2581</td>\n",
              "      <td>7.6110</td>\n",
              "      <td>7.3485</td>\n",
              "      <td>7.1147</td>\n",
              "      <td>2.2561</td>\n",
              "      <td>1.6576</td>\n",
              "      <td>1.1207</td>\n",
              "      <td>6.4864</td>\n",
              "      <td>6.4372</td>\n",
              "      <td>6.7186</td>\n",
              "      <td>0.9416</td>\n",
              "      <td>0.8064</td>\n",
              "      <td>0.6852</td>\n",
              "      <td>9.4410</td>\n",
              "      <td>8.7325</td>\n",
              "      <td>7.9165</td>\n",
              "      <td>0.0159</td>\n",
              "      <td>0.0156</td>\n",
              "      <td>0.1079</td>\n",
              "      <td>0.1098</td>\n",
              "      <td>0.0160</td>\n",
              "      <td>0.0159</td>\n",
              "      <td>0.1097</td>\n",
              "      <td>1.1084e-01</td>\n",
              "      <td>1.3359e-02</td>\n",
              "      <td>0.0133</td>\n",
              "      <td>0.0919</td>\n",
              "      <td>0.0924</td>\n",
              "      <td>0.0520</td>\n",
              "      <td>9.5703</td>\n",
              "      <td>15.2500</td>\n",
              "    </tr>\n",
              "    <tr>\n",
              "      <th>75%</th>\n",
              "      <td>2.1421e+08</td>\n",
              "      <td>2.5050</td>\n",
              "      <td>2.5220</td>\n",
              "      <td>21.0876</td>\n",
              "      <td>3.5465</td>\n",
              "      <td>24.3282</td>\n",
              "      <td>0.9888</td>\n",
              "      <td>1.1141</td>\n",
              "      <td>1.4475</td>\n",
              "      <td>13.3235</td>\n",
              "      <td>12.8400</td>\n",
              "      <td>12.3631</td>\n",
              "      <td>3.4218</td>\n",
              "      <td>2.5158</td>\n",
              "      <td>1.6022</td>\n",
              "      <td>10.9789</td>\n",
              "      <td>10.7714</td>\n",
              "      <td>10.8128</td>\n",
              "      <td>1.3490</td>\n",
              "      <td>1.1719</td>\n",
              "      <td>1.0171</td>\n",
              "      <td>16.6472</td>\n",
              "      <td>15.4271</td>\n",
              "      <td>13.9145</td>\n",
              "      <td>0.0256</td>\n",
              "      <td>0.0253</td>\n",
              "      <td>0.1750</td>\n",
              "      <td>0.1769</td>\n",
              "      <td>0.0256</td>\n",
              "      <td>0.0255</td>\n",
              "      <td>0.1762</td>\n",
              "      <td>1.7732e-01</td>\n",
              "      <td>1.3359e-02</td>\n",
              "      <td>0.0133</td>\n",
              "      <td>0.0919</td>\n",
              "      <td>0.0924</td>\n",
              "      <td>0.0910</td>\n",
              "      <td>11.7553</td>\n",
              "      <td>18.5000</td>\n",
              "    </tr>\n",
              "    <tr>\n",
              "      <th>max</th>\n",
              "      <td>2.8446e+08</td>\n",
              "      <td>2.8280</td>\n",
              "      <td>2.8470</td>\n",
              "      <td>21.3571</td>\n",
              "      <td>4.0005</td>\n",
              "      <td>28.3290</td>\n",
              "      <td>2.8148</td>\n",
              "      <td>2.7860</td>\n",
              "      <td>2.7880</td>\n",
              "      <td>38.2055</td>\n",
              "      <td>38.0095</td>\n",
              "      <td>37.4525</td>\n",
              "      <td>10.7763</td>\n",
              "      <td>7.3083</td>\n",
              "      <td>5.3478</td>\n",
              "      <td>35.3903</td>\n",
              "      <td>34.6212</td>\n",
              "      <td>33.8259</td>\n",
              "      <td>4.9868</td>\n",
              "      <td>4.3927</td>\n",
              "      <td>3.7886</td>\n",
              "      <td>38.2229</td>\n",
              "      <td>37.9593</td>\n",
              "      <td>38.1613</td>\n",
              "      <td>0.0588</td>\n",
              "      <td>0.0585</td>\n",
              "      <td>0.4045</td>\n",
              "      <td>0.4064</td>\n",
              "      <td>0.0577</td>\n",
              "      <td>0.0575</td>\n",
              "      <td>0.3977</td>\n",
              "      <td>3.9880e-01</td>\n",
              "      <td>1.3359e-02</td>\n",
              "      <td>0.0133</td>\n",
              "      <td>0.0919</td>\n",
              "      <td>0.0924</td>\n",
              "      <td>0.3900</td>\n",
              "      <td>15.4261</td>\n",
              "      <td>29.0000</td>\n",
              "    </tr>\n",
              "  </tbody>\n",
              "</table>\n",
              "</div>\n",
              "    <div class=\"colab-df-buttons\">\n",
              "\n",
              "  <div class=\"colab-df-container\">\n",
              "    <button class=\"colab-df-convert\" onclick=\"convertToInteractive('df-8241ec77-7a11-4372-8959-82993d460ef5')\"\n",
              "            title=\"Convert this dataframe to an interactive table.\"\n",
              "            style=\"display:none;\">\n",
              "\n",
              "  <svg xmlns=\"http://www.w3.org/2000/svg\" height=\"24px\" viewBox=\"0 -960 960 960\">\n",
              "    <path d=\"M120-120v-720h720v720H120Zm60-500h600v-160H180v160Zm220 220h160v-160H400v160Zm0 220h160v-160H400v160ZM180-400h160v-160H180v160Zm440 0h160v-160H620v160ZM180-180h160v-160H180v160Zm440 0h160v-160H620v160Z\"/>\n",
              "  </svg>\n",
              "    </button>\n",
              "\n",
              "  <style>\n",
              "    .colab-df-container {\n",
              "      display:flex;\n",
              "      gap: 12px;\n",
              "    }\n",
              "\n",
              "    .colab-df-convert {\n",
              "      background-color: #E8F0FE;\n",
              "      border: none;\n",
              "      border-radius: 50%;\n",
              "      cursor: pointer;\n",
              "      display: none;\n",
              "      fill: #1967D2;\n",
              "      height: 32px;\n",
              "      padding: 0 0 0 0;\n",
              "      width: 32px;\n",
              "    }\n",
              "\n",
              "    .colab-df-convert:hover {\n",
              "      background-color: #E2EBFA;\n",
              "      box-shadow: 0px 1px 2px rgba(60, 64, 67, 0.3), 0px 1px 3px 1px rgba(60, 64, 67, 0.15);\n",
              "      fill: #174EA6;\n",
              "    }\n",
              "\n",
              "    .colab-df-buttons div {\n",
              "      margin-bottom: 4px;\n",
              "    }\n",
              "\n",
              "    [theme=dark] .colab-df-convert {\n",
              "      background-color: #3B4455;\n",
              "      fill: #D2E3FC;\n",
              "    }\n",
              "\n",
              "    [theme=dark] .colab-df-convert:hover {\n",
              "      background-color: #434B5C;\n",
              "      box-shadow: 0px 1px 3px 1px rgba(0, 0, 0, 0.15);\n",
              "      filter: drop-shadow(0px 1px 2px rgba(0, 0, 0, 0.3));\n",
              "      fill: #FFFFFF;\n",
              "    }\n",
              "  </style>\n",
              "\n",
              "    <script>\n",
              "      const buttonEl =\n",
              "        document.querySelector('#df-8241ec77-7a11-4372-8959-82993d460ef5 button.colab-df-convert');\n",
              "      buttonEl.style.display =\n",
              "        google.colab.kernel.accessAllowed ? 'block' : 'none';\n",
              "\n",
              "      async function convertToInteractive(key) {\n",
              "        const element = document.querySelector('#df-8241ec77-7a11-4372-8959-82993d460ef5');\n",
              "        const dataTable =\n",
              "          await google.colab.kernel.invokeFunction('convertToInteractive',\n",
              "                                                    [key], {});\n",
              "        if (!dataTable) return;\n",
              "\n",
              "        const docLinkHtml = 'Like what you see? Visit the ' +\n",
              "          '<a target=\"_blank\" href=https://colab.research.google.com/notebooks/data_table.ipynb>data table notebook</a>'\n",
              "          + ' to learn more about interactive tables.';\n",
              "        element.innerHTML = '';\n",
              "        dataTable['output_type'] = 'display_data';\n",
              "        await google.colab.output.renderOutput(dataTable, element);\n",
              "        const docLink = document.createElement('div');\n",
              "        docLink.innerHTML = docLinkHtml;\n",
              "        element.appendChild(docLink);\n",
              "      }\n",
              "    </script>\n",
              "  </div>\n",
              "\n",
              "\n",
              "<div id=\"df-941aa91b-e001-49fd-987b-5a15cf40f617\">\n",
              "  <button class=\"colab-df-quickchart\" onclick=\"quickchart('df-941aa91b-e001-49fd-987b-5a15cf40f617')\"\n",
              "            title=\"Suggest charts\"\n",
              "            style=\"display:none;\">\n",
              "\n",
              "<svg xmlns=\"http://www.w3.org/2000/svg\" height=\"24px\"viewBox=\"0 0 24 24\"\n",
              "     width=\"24px\">\n",
              "    <g>\n",
              "        <path d=\"M19 3H5c-1.1 0-2 .9-2 2v14c0 1.1.9 2 2 2h14c1.1 0 2-.9 2-2V5c0-1.1-.9-2-2-2zM9 17H7v-7h2v7zm4 0h-2V7h2v10zm4 0h-2v-4h2v4z\"/>\n",
              "    </g>\n",
              "</svg>\n",
              "  </button>\n",
              "\n",
              "<style>\n",
              "  .colab-df-quickchart {\n",
              "      --bg-color: #E8F0FE;\n",
              "      --fill-color: #1967D2;\n",
              "      --hover-bg-color: #E2EBFA;\n",
              "      --hover-fill-color: #174EA6;\n",
              "      --disabled-fill-color: #AAA;\n",
              "      --disabled-bg-color: #DDD;\n",
              "  }\n",
              "\n",
              "  [theme=dark] .colab-df-quickchart {\n",
              "      --bg-color: #3B4455;\n",
              "      --fill-color: #D2E3FC;\n",
              "      --hover-bg-color: #434B5C;\n",
              "      --hover-fill-color: #FFFFFF;\n",
              "      --disabled-bg-color: #3B4455;\n",
              "      --disabled-fill-color: #666;\n",
              "  }\n",
              "\n",
              "  .colab-df-quickchart {\n",
              "    background-color: var(--bg-color);\n",
              "    border: none;\n",
              "    border-radius: 50%;\n",
              "    cursor: pointer;\n",
              "    display: none;\n",
              "    fill: var(--fill-color);\n",
              "    height: 32px;\n",
              "    padding: 0;\n",
              "    width: 32px;\n",
              "  }\n",
              "\n",
              "  .colab-df-quickchart:hover {\n",
              "    background-color: var(--hover-bg-color);\n",
              "    box-shadow: 0 1px 2px rgba(60, 64, 67, 0.3), 0 1px 3px 1px rgba(60, 64, 67, 0.15);\n",
              "    fill: var(--button-hover-fill-color);\n",
              "  }\n",
              "\n",
              "  .colab-df-quickchart-complete:disabled,\n",
              "  .colab-df-quickchart-complete:disabled:hover {\n",
              "    background-color: var(--disabled-bg-color);\n",
              "    fill: var(--disabled-fill-color);\n",
              "    box-shadow: none;\n",
              "  }\n",
              "\n",
              "  .colab-df-spinner {\n",
              "    border: 2px solid var(--fill-color);\n",
              "    border-color: transparent;\n",
              "    border-bottom-color: var(--fill-color);\n",
              "    animation:\n",
              "      spin 1s steps(1) infinite;\n",
              "  }\n",
              "\n",
              "  @keyframes spin {\n",
              "    0% {\n",
              "      border-color: transparent;\n",
              "      border-bottom-color: var(--fill-color);\n",
              "      border-left-color: var(--fill-color);\n",
              "    }\n",
              "    20% {\n",
              "      border-color: transparent;\n",
              "      border-left-color: var(--fill-color);\n",
              "      border-top-color: var(--fill-color);\n",
              "    }\n",
              "    30% {\n",
              "      border-color: transparent;\n",
              "      border-left-color: var(--fill-color);\n",
              "      border-top-color: var(--fill-color);\n",
              "      border-right-color: var(--fill-color);\n",
              "    }\n",
              "    40% {\n",
              "      border-color: transparent;\n",
              "      border-right-color: var(--fill-color);\n",
              "      border-top-color: var(--fill-color);\n",
              "    }\n",
              "    60% {\n",
              "      border-color: transparent;\n",
              "      border-right-color: var(--fill-color);\n",
              "    }\n",
              "    80% {\n",
              "      border-color: transparent;\n",
              "      border-right-color: var(--fill-color);\n",
              "      border-bottom-color: var(--fill-color);\n",
              "    }\n",
              "    90% {\n",
              "      border-color: transparent;\n",
              "      border-bottom-color: var(--fill-color);\n",
              "    }\n",
              "  }\n",
              "</style>\n",
              "\n",
              "  <script>\n",
              "    async function quickchart(key) {\n",
              "      const quickchartButtonEl =\n",
              "        document.querySelector('#' + key + ' button');\n",
              "      quickchartButtonEl.disabled = true;  // To prevent multiple clicks.\n",
              "      quickchartButtonEl.classList.add('colab-df-spinner');\n",
              "      try {\n",
              "        const charts = await google.colab.kernel.invokeFunction(\n",
              "            'suggestCharts', [key], {});\n",
              "      } catch (error) {\n",
              "        console.error('Error during call to suggestCharts:', error);\n",
              "      }\n",
              "      quickchartButtonEl.classList.remove('colab-df-spinner');\n",
              "      quickchartButtonEl.classList.add('colab-df-quickchart-complete');\n",
              "    }\n",
              "    (() => {\n",
              "      let quickchartButtonEl =\n",
              "        document.querySelector('#df-941aa91b-e001-49fd-987b-5a15cf40f617 button');\n",
              "      quickchartButtonEl.style.display =\n",
              "        google.colab.kernel.accessAllowed ? 'block' : 'none';\n",
              "    })();\n",
              "  </script>\n",
              "</div>\n",
              "\n",
              "    </div>\n",
              "  </div>\n"
            ]
          },
          "metadata": {},
          "execution_count": 57
        }
      ],
      "source": [
        "#learn MORE pandas\n",
        "df.describe()"
      ]
    },
    {
      "cell_type": "markdown",
      "metadata": {
        "id": "e0qoAC2zvoRY"
      },
      "source": [
        "# Prep the data"
      ]
    },
    {
      "cell_type": "code",
      "execution_count": 58,
      "metadata": {
        "id": "wkw7PbJWvoRY",
        "colab": {
          "base_uri": "https://localhost:8080/"
        },
        "executionInfo": {
          "status": "ok",
          "timestamp": 1738706695745,
          "user_tz": 360,
          "elapsed": 7,
          "user": {
            "displayName": "",
            "userId": ""
          }
        },
        "outputId": "11520b43-d7b0-4f25-b6cd-49986d618ae8"
      },
      "outputs": [
        {
          "output_type": "stream",
          "name": "stdout",
          "text": [
            "[2025-02-04 22:04:55 UTC]    INFO: Data scrub and prep \n",
            "[2025-02-04 22:04:55 UTC]    INFO: Data scrub and prep \n",
            "[2025-02-04 22:04:55 UTC]    INFO: Data scrub and prep \n"
          ]
        },
        {
          "output_type": "stream",
          "name": "stderr",
          "text": [
            "INFO:msg_logs:Data scrub and prep\n"
          ]
        },
        {
          "output_type": "stream",
          "name": "stdout",
          "text": [
            "[2025-02-04 22:04:55 UTC]   DEBUG: XS array from Temp(C) is 54225 \n",
            "[2025-02-04 22:04:55 UTC]   DEBUG: XS array from Temp(C) is 54225 \n",
            "[2025-02-04 22:04:55 UTC]   DEBUG: XS array from Temp(C) is 54225 \n"
          ]
        },
        {
          "output_type": "stream",
          "name": "stderr",
          "text": [
            "DEBUG:msg_logs:XS array from Temp(C) is 54225\n"
          ]
        },
        {
          "output_type": "stream",
          "name": "stdout",
          "text": [
            "[2025-02-04 22:04:55 UTC]   DEBUG: YS array from Sal(PSU) is 54225 \n",
            "[2025-02-04 22:04:55 UTC]   DEBUG: YS array from Sal(PSU) is 54225 \n",
            "[2025-02-04 22:04:55 UTC]   DEBUG: YS array from Sal(PSU) is 54225 \n"
          ]
        },
        {
          "output_type": "stream",
          "name": "stderr",
          "text": [
            "DEBUG:msg_logs:YS array from Sal(PSU) is 54225\n"
          ]
        },
        {
          "output_type": "stream",
          "name": "stdout",
          "text": [
            "[2025-02-04 22:04:55 UTC]   DEBUG:  \n",
            "[2025-02-04 22:04:55 UTC]   DEBUG:  \n",
            "[2025-02-04 22:04:55 UTC]   DEBUG:  \n"
          ]
        },
        {
          "output_type": "stream",
          "name": "stderr",
          "text": [
            "DEBUG:msg_logs:\n"
          ]
        },
        {
          "output_type": "stream",
          "name": "stdout",
          "text": [
            "[2025-02-04 22:04:55 UTC]   DEBUG: Performing Y mask cleaning \n",
            "[2025-02-04 22:04:55 UTC]   DEBUG: Performing Y mask cleaning \n",
            "[2025-02-04 22:04:55 UTC]   DEBUG: Performing Y mask cleaning \n"
          ]
        },
        {
          "output_type": "stream",
          "name": "stderr",
          "text": [
            "DEBUG:msg_logs:Performing Y mask cleaning\n"
          ]
        },
        {
          "output_type": "stream",
          "name": "stdout",
          "text": [
            "[2025-02-04 22:04:55 UTC]   DEBUG:  \n",
            "[2025-02-04 22:04:55 UTC]   DEBUG:  \n",
            "[2025-02-04 22:04:55 UTC]   DEBUG:  \n"
          ]
        },
        {
          "output_type": "stream",
          "name": "stderr",
          "text": [
            "DEBUG:msg_logs:\n"
          ]
        },
        {
          "output_type": "stream",
          "name": "stdout",
          "text": [
            "[2025-02-04 22:04:55 UTC]   DEBUG: all_xs (> 1) array from Temp(C) is 53550 \n",
            "[2025-02-04 22:04:55 UTC]   DEBUG: all_xs (> 1) array from Temp(C) is 53550 \n",
            "[2025-02-04 22:04:55 UTC]   DEBUG: all_xs (> 1) array from Temp(C) is 53550 \n"
          ]
        },
        {
          "output_type": "stream",
          "name": "stderr",
          "text": [
            "DEBUG:msg_logs:all_xs (> 1) array from Temp(C) is 53550\n"
          ]
        },
        {
          "output_type": "stream",
          "name": "stdout",
          "text": [
            "[2025-02-04 22:04:55 UTC]   DEBUG: all_ys (> 1) array from Sal(PSU) is 53550 \n",
            "[2025-02-04 22:04:55 UTC]   DEBUG: all_ys (> 1) array from Sal(PSU) is 53550 \n",
            "[2025-02-04 22:04:55 UTC]   DEBUG: all_ys (> 1) array from Sal(PSU) is 53550 \n"
          ]
        },
        {
          "output_type": "stream",
          "name": "stderr",
          "text": [
            "DEBUG:msg_logs:all_ys (> 1) array from Sal(PSU) is 53550\n"
          ]
        }
      ],
      "source": [
        "from ctypes import DEFAULT_MODE\n",
        "#PURGE DATA\n",
        "debug.msg_info(\"Data scrub and prep\")\n",
        "#load teperature (referenced by name) for all values (y, x); (all rows, column=Temp)\n",
        "#into a single dimensional array that is Numpy based (means you got lots of free powerful tools)\n",
        "\n",
        "try:\n",
        "    xs=df.loc[:,TEMPERATURE].values\n",
        "    debug.msg_debug(\"XS array from \" + str(TEMPERATURE) + \" is \" + str(xs.size))\n",
        "except (KeyError, Exception) as e:\n",
        "    debug.msg_warning(f\"Exception found\")\n",
        "    debug.msg_error(\"'TEMPERATURE' key values were not found, please check your file.\")\n",
        "    process_exception(e)\n",
        "\n",
        "try:\n",
        "    ys=df.loc[:,SALINITY].values\n",
        "    debug.msg_debug(\"YS array from \" + SALINITY + \" is \" + str(ys.size))\n",
        "except (KeyError, Exception) as e:\n",
        "    debug.msg_warning(f\"Exception found\")\n",
        "    debug.msg_error(\"'SALINITY' key values were not found, please check your file.\")\n",
        "    process_exception(e)\n",
        "\n",
        "\n",
        "#machine learning doesn't like negative numbers, there are multiple ways of doing this\n",
        "#pd.DataFrame().query() or np.where() are some options\n",
        "#LEARN PANDAS!!!!\n",
        "debug.msg_debug(\"\")\n",
        "debug.msg_debug(\"Performing Y mask cleaning\")\n",
        "y_mask=np.where(ys < 1)\n",
        "debug.msg_debug(\"\")\n",
        "\n",
        "#clear out the values that should be scrubbed.  Again, any technique to clean the data is viable.\n",
        "all_xs = np.delete(xs, y_mask)\n",
        "debug.msg_debug(\"all_xs (> 1) array from \" + TEMPERATURE + \" is \" + str(all_xs.size))\n",
        "all_ys = np.delete(ys, y_mask)\n",
        "debug.msg_debug(\"all_ys (> 1) array from \" + SALINITY + \" is \" + str(all_ys.size))"
      ]
    },
    {
      "cell_type": "code",
      "execution_count": 59,
      "metadata": {
        "id": "EJdUMvV6voRY",
        "colab": {
          "base_uri": "https://localhost:8080/",
          "height": 33
        },
        "executionInfo": {
          "status": "ok",
          "timestamp": 1738706695745,
          "user_tz": 360,
          "elapsed": 5,
          "user": {
            "displayName": "",
            "userId": ""
          }
        },
        "outputId": "7d472bad-565e-4a52-81af-49800cf6ed0a"
      },
      "outputs": [
        {
          "output_type": "display_data",
          "data": {
            "text/plain": [
              "\u001b[1m[\u001b[0m\u001b[1;36m20.2413\u001b[0m \u001b[1;36m20.2413\u001b[0m \u001b[1;36m20.2413\u001b[0m \u001b[33m...\u001b[0m \u001b[1;36m18.7201\u001b[0m \u001b[1;36m18.7201\u001b[0m \u001b[1;36m18.7201\u001b[0m\u001b[1m]\u001b[0m\n"
            ],
            "text/html": [
              "<pre style=\"white-space:pre;overflow-x:auto;line-height:normal;font-family:Menlo,'DejaVu Sans Mono',consolas,'Courier New',monospace\"><span style=\"font-weight: bold\">[</span><span style=\"color: #008080; text-decoration-color: #008080; font-weight: bold\">20.2413</span> <span style=\"color: #008080; text-decoration-color: #008080; font-weight: bold\">20.2413</span> <span style=\"color: #008080; text-decoration-color: #008080; font-weight: bold\">20.2413</span> <span style=\"color: #808000; text-decoration-color: #808000\">...</span> <span style=\"color: #008080; text-decoration-color: #008080; font-weight: bold\">18.7201</span> <span style=\"color: #008080; text-decoration-color: #008080; font-weight: bold\">18.7201</span> <span style=\"color: #008080; text-decoration-color: #008080; font-weight: bold\">18.7201</span><span style=\"font-weight: bold\">]</span>\n",
              "</pre>\n"
            ]
          },
          "metadata": {}
        }
      ],
      "source": [
        "#example of all_xs output (temperature)\n",
        "rprint(all_xs)"
      ]
    },
    {
      "cell_type": "code",
      "execution_count": 60,
      "metadata": {
        "id": "BXwB7Nt-voRY",
        "colab": {
          "base_uri": "https://localhost:8080/"
        },
        "executionInfo": {
          "status": "ok",
          "timestamp": 1738706695745,
          "user_tz": 360,
          "elapsed": 4,
          "user": {
            "displayName": "",
            "userId": ""
          }
        },
        "outputId": "e3ca5312-98b9-47b2-e48e-8f1f907bbb5e"
      },
      "outputs": [
        {
          "output_type": "stream",
          "name": "stdout",
          "text": [
            "[2025-02-04 22:04:55 UTC]   DEBUG: all_xs (transposed) array from Temp(C) is 53550 \n",
            "[2025-02-04 22:04:55 UTC]   DEBUG: all_xs (transposed) array from Temp(C) is 53550 \n",
            "[2025-02-04 22:04:55 UTC]   DEBUG: all_xs (transposed) array from Temp(C) is 53550 \n"
          ]
        },
        {
          "output_type": "stream",
          "name": "stderr",
          "text": [
            "DEBUG:msg_logs:all_xs (transposed) array from Temp(C) is 53550\n"
          ]
        },
        {
          "output_type": "stream",
          "name": "stdout",
          "text": [
            "[2025-02-04 22:04:55 UTC]   DEBUG: all_ys (transposed) array from Sal(PSU) is 53550 \n",
            "[2025-02-04 22:04:55 UTC]   DEBUG: all_ys (transposed) array from Sal(PSU) is 53550 \n",
            "[2025-02-04 22:04:55 UTC]   DEBUG: all_ys (transposed) array from Sal(PSU) is 53550 \n"
          ]
        },
        {
          "output_type": "stream",
          "name": "stderr",
          "text": [
            "DEBUG:msg_logs:all_ys (transposed) array from Sal(PSU) is 53550\n"
          ]
        }
      ],
      "source": [
        "#transpose the data, the API expects it\n",
        "all_xs = np.transpose([all_xs])\n",
        "debug.msg_debug(\"all_xs (transposed) array from \" +  TEMPERATURE + \" is \" + str(all_xs.size))\n",
        "\n",
        "all_ys = np.transpose([all_ys])\n",
        "debug.msg_debug(\"all_ys (transposed) array from \" +  SALINITY + \" is \" + str(all_ys.size))\n"
      ]
    },
    {
      "cell_type": "code",
      "execution_count": 61,
      "metadata": {
        "id": "JUsSiZEkvoRY",
        "colab": {
          "base_uri": "https://localhost:8080/"
        },
        "executionInfo": {
          "status": "ok",
          "timestamp": 1738706695745,
          "user_tz": 360,
          "elapsed": 3,
          "user": {
            "displayName": "",
            "userId": ""
          }
        },
        "outputId": "c5037b92-a731-4b72-acef-e962f784f00f"
      },
      "outputs": [
        {
          "output_type": "stream",
          "name": "stdout",
          "text": [
            "[[20.2413]\n",
            " [20.2413]\n",
            " [20.2413]\n",
            " ...\n",
            " [18.7201]\n",
            " [18.7201]\n",
            " [18.7201]]\n"
          ]
        }
      ],
      "source": [
        "#example of all_xs output now (tafter transpose)\n",
        "print(all_xs)"
      ]
    },
    {
      "cell_type": "markdown",
      "metadata": {
        "id": "n4ykuWTXvoRY"
      },
      "source": [
        "# Statistics\n",
        "### Lots of statistics at your fingertips with Numpy\n",
        "### Also useful as it helps with quick operations for other functions (plotting, data smoothing, etc.)"
      ]
    },
    {
      "cell_type": "code",
      "execution_count": 62,
      "metadata": {
        "id": "BimZ-FHrvoRY",
        "executionInfo": {
          "status": "ok",
          "timestamp": 1738706700533,
          "user_tz": 360,
          "elapsed": 4625,
          "user": {
            "displayName": "",
            "userId": ""
          }
        }
      },
      "outputs": [],
      "source": [
        "#STATISTICS\n",
        "x_mean=df[TEMPERATURE].apply(np.mean)\n",
        "x_std=df[TEMPERATURE].apply(np.std)\n",
        "x_mean_max=np.max(x_mean)\n",
        "x_std_max=np.max(x_std)\n",
        "x_range_limit=x_mean_max + (x_std_max * 5)\n",
        "\n",
        "y_mean=df[SALINITY].apply(np.mean)\n",
        "y_std=df[SALINITY].apply(np.std)\n",
        "y_mean_max=np.max(y_mean)\n",
        "y_std_max=np.max(y_std)\n",
        "y_range_limit=y_mean_max + (y_std_max * 5)"
      ]
    },
    {
      "cell_type": "markdown",
      "metadata": {
        "id": "YDPMDhCnvoRY"
      },
      "source": [
        "# Plots"
      ]
    },
    {
      "cell_type": "code",
      "execution_count": 84,
      "metadata": {
        "id": "GSl3MMV2voRY",
        "colab": {
          "base_uri": "https://localhost:8080/",
          "height": 50
        },
        "executionInfo": {
          "status": "ok",
          "timestamp": 1738707178326,
          "user_tz": 360,
          "elapsed": 2183,
          "user": {
            "displayName": "",
            "userId": ""
          }
        },
        "outputId": "21850341-79cd-446b-d887-7dda3ea1782a"
      },
      "outputs": [
        {
          "output_type": "display_data",
          "data": {
            "text/plain": [
              "Next display is a Scatter plot of Salinity on the Y axis versus Temperature on the X axis using data from the \n",
              "datafile \u001b[35m/content/folderOnColab/\u001b[0m\u001b[95mmooring_data.txt\u001b[0m, saving results to \u001b[35m/content/folderOnColab/\u001b[0m\u001b[95m004_sklearn.jpg.\u001b[0m\n"
            ],
            "text/html": [
              "<pre style=\"white-space:pre;overflow-x:auto;line-height:normal;font-family:Menlo,'DejaVu Sans Mono',consolas,'Courier New',monospace\">Next display is a Scatter plot of Salinity on the Y axis versus Temperature on the X axis using data from the \n",
              "datafile <span style=\"color: #800080; text-decoration-color: #800080\">/content/folderOnColab/</span><span style=\"color: #ff00ff; text-decoration-color: #ff00ff\">mooring_data.txt</span>, saving results to <span style=\"color: #800080; text-decoration-color: #800080\">/content/folderOnColab/</span><span style=\"color: #ff00ff; text-decoration-color: #ff00ff\">004_sklearn.jpg.</span>\n",
              "</pre>\n"
            ]
          },
          "metadata": {}
        }
      ],
      "source": [
        "#create the image in the background and render with 508 compliance taken into account\n",
        "# Use the 'Agg' backend for non-interactive environments\n",
        "matplt.use('Agg')\n",
        "\n",
        "#show the image inline\n",
        "#%matplotlib inline\n",
        "PLT_LGD_X_OFFSET=1\n",
        "PLT_LGD_Y_OFFSET=0.5\n",
        "\n",
        "#establish the initial figure dimensions and configuration (purposely made large 20x10 inches)\n",
        "fig = plt.figure(1,figsize=(FIGURE_WIDTH,FIGURE_HEIGHT));\n",
        "\n",
        "#this is where you could have multiple plots side by side\n",
        "axes = plt.subplot(111);\n",
        "axes.set_title('X, Y Plot');\n",
        "axes.set_ylabel(SALINITY);\n",
        "axes.set_xlabel(TEMPERATURE);\n",
        "\n",
        "labels=axes.get_xticklabels();\n",
        "plt.setp(labels,rotation=45,horizontalalignment='right');\n",
        "\n",
        "axes.scatter(all_xs, all_ys, label='x vs. y');\n",
        "axes.legend(loc='center left', bbox_to_anchor=(PLT_LGD_X_OFFSET,PLT_LGD_Y_OFFSET));\n",
        "\n",
        "# Save the plot to a file that can be pulled up at a later date.\n",
        "target_filename=target_folder+os.sep+f\"004_sklearn{IMG_EXT}\";\n",
        "\n",
        "# Create ALT text describing the image.\n",
        "caption_text=f\"Scatter plot of Salinity on the Y axis versus Temperature on the X axis using data from the datafile {data_filename}, saving results to {target_filename}.\";\n",
        "\n",
        "bit_bucket=plt.text(0.5,\n",
        "                   0.7,\n",
        "                  caption_text,\n",
        "                  rotation=0.0,\n",
        "                  ha=\"left\",\n",
        "                  va=\"center\",\n",
        "                  fontsize=IMG_FONT_SIZE_MIN,\n",
        "                  family='serif',\n",
        "                  style='oblique',\n",
        "                  wrap=True,\n",
        "                  bbox=dict(boxstyle=\"round\",\n",
        "                            ec=(1., 0.5, 0.5),\n",
        "                            fc=(1., 0.8, 0.8),\n",
        "                            ),\n",
        "                  transform=fig.transFigure\n",
        "                  );\n",
        "\n",
        "#Save\n",
        "plt.savefig(target_filename);\n",
        "add_alt_text(target_folder+os.sep+f\"004_sklearn{IMG_EXT}\", caption_text);\n",
        "rprint(\"Next display is a \" + caption_text);"
      ]
    },
    {
      "cell_type": "code",
      "source": [
        "# Display Section 508 compliant image on the scrren with ALT text\n",
        "try:\n",
        "  make_accessible(plt, jinja2.Template(caption_text), len=len)\n",
        "except (NameError, Exception) as e:\n",
        "  process_exception(e)"
      ],
      "metadata": {
        "colab": {
          "base_uri": "https://localhost:8080/",
          "height": 904
        },
        "id": "IGvFtJuC_NFv",
        "executionInfo": {
          "status": "ok",
          "timestamp": 1738707182666,
          "user_tz": 360,
          "elapsed": 2391,
          "user": {
            "displayName": "",
            "userId": ""
          }
        },
        "outputId": "0519027e-bcd0-4f7b-9bb8-98e9eab0d3d3"
      },
      "execution_count": 85,
      "outputs": [
        {
          "output_type": "execute_result",
          "data": {
            "text/plain": [
              "<IPython.core.display.Markdown object>"
            ],
            "text/markdown": "![](data:image/jpg;base64,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 \"Scatter plot of Salinity on the Y axis versus Temperature on the X axis using data from the datafile /content/folderOnColab/mooring_data.txt, saving results to /content/folderOnColab/004_sklearn.jpg.\")"
          },
          "metadata": {},
          "execution_count": 85
        }
      ]
    },
    {
      "cell_type": "markdown",
      "metadata": {
        "id": "TGzB9_8svoRY"
      },
      "source": [
        "# Linear Regression (SKlearn)"
      ]
    },
    {
      "cell_type": "code",
      "execution_count": 76,
      "metadata": {
        "id": "QFF3oPxEvoRY",
        "colab": {
          "base_uri": "https://localhost:8080/",
          "height": 80
        },
        "executionInfo": {
          "status": "ok",
          "timestamp": 1738706889305,
          "user_tz": 360,
          "elapsed": 4,
          "user": {
            "displayName": "",
            "userId": ""
          }
        },
        "outputId": "e4588296-b9ec-4fa8-a6dc-aa49f903b690"
      },
      "outputs": [
        {
          "output_type": "execute_result",
          "data": {
            "text/plain": [
              "LinearRegression()"
            ],
            "text/html": [
              "<style>#sk-container-id-2 {\n",
              "  /* Definition of color scheme common for light and dark mode */\n",
              "  --sklearn-color-text: #000;\n",
              "  --sklearn-color-text-muted: #666;\n",
              "  --sklearn-color-line: gray;\n",
              "  /* Definition of color scheme for unfitted estimators */\n",
              "  --sklearn-color-unfitted-level-0: #fff5e6;\n",
              "  --sklearn-color-unfitted-level-1: #f6e4d2;\n",
              "  --sklearn-color-unfitted-level-2: #ffe0b3;\n",
              "  --sklearn-color-unfitted-level-3: chocolate;\n",
              "  /* Definition of color scheme for fitted estimators */\n",
              "  --sklearn-color-fitted-level-0: #f0f8ff;\n",
              "  --sklearn-color-fitted-level-1: #d4ebff;\n",
              "  --sklearn-color-fitted-level-2: #b3dbfd;\n",
              "  --sklearn-color-fitted-level-3: cornflowerblue;\n",
              "\n",
              "  /* Specific color for light theme */\n",
              "  --sklearn-color-text-on-default-background: var(--sg-text-color, var(--theme-code-foreground, var(--jp-content-font-color1, black)));\n",
              "  --sklearn-color-background: var(--sg-background-color, var(--theme-background, var(--jp-layout-color0, white)));\n",
              "  --sklearn-color-border-box: var(--sg-text-color, var(--theme-code-foreground, var(--jp-content-font-color1, black)));\n",
              "  --sklearn-color-icon: #696969;\n",
              "\n",
              "  @media (prefers-color-scheme: dark) {\n",
              "    /* Redefinition of color scheme for dark theme */\n",
              "    --sklearn-color-text-on-default-background: var(--sg-text-color, var(--theme-code-foreground, var(--jp-content-font-color1, white)));\n",
              "    --sklearn-color-background: var(--sg-background-color, var(--theme-background, var(--jp-layout-color0, #111)));\n",
              "    --sklearn-color-border-box: var(--sg-text-color, var(--theme-code-foreground, var(--jp-content-font-color1, white)));\n",
              "    --sklearn-color-icon: #878787;\n",
              "  }\n",
              "}\n",
              "\n",
              "#sk-container-id-2 {\n",
              "  color: var(--sklearn-color-text);\n",
              "}\n",
              "\n",
              "#sk-container-id-2 pre {\n",
              "  padding: 0;\n",
              "}\n",
              "\n",
              "#sk-container-id-2 input.sk-hidden--visually {\n",
              "  border: 0;\n",
              "  clip: rect(1px 1px 1px 1px);\n",
              "  clip: rect(1px, 1px, 1px, 1px);\n",
              "  height: 1px;\n",
              "  margin: -1px;\n",
              "  overflow: hidden;\n",
              "  padding: 0;\n",
              "  position: absolute;\n",
              "  width: 1px;\n",
              "}\n",
              "\n",
              "#sk-container-id-2 div.sk-dashed-wrapped {\n",
              "  border: 1px dashed var(--sklearn-color-line);\n",
              "  margin: 0 0.4em 0.5em 0.4em;\n",
              "  box-sizing: border-box;\n",
              "  padding-bottom: 0.4em;\n",
              "  background-color: var(--sklearn-color-background);\n",
              "}\n",
              "\n",
              "#sk-container-id-2 div.sk-container {\n",
              "  /* jupyter's `normalize.less` sets `[hidden] { display: none; }`\n",
              "     but bootstrap.min.css set `[hidden] { display: none !important; }`\n",
              "     so we also need the `!important` here to be able to override the\n",
              "     default hidden behavior on the sphinx rendered scikit-learn.org.\n",
              "     See: https://github.com/scikit-learn/scikit-learn/issues/21755 */\n",
              "  display: inline-block !important;\n",
              "  position: relative;\n",
              "}\n",
              "\n",
              "#sk-container-id-2 div.sk-text-repr-fallback {\n",
              "  display: none;\n",
              "}\n",
              "\n",
              "div.sk-parallel-item,\n",
              "div.sk-serial,\n",
              "div.sk-item {\n",
              "  /* draw centered vertical line to link estimators */\n",
              "  background-image: linear-gradient(var(--sklearn-color-text-on-default-background), var(--sklearn-color-text-on-default-background));\n",
              "  background-size: 2px 100%;\n",
              "  background-repeat: no-repeat;\n",
              "  background-position: center center;\n",
              "}\n",
              "\n",
              "/* Parallel-specific style estimator block */\n",
              "\n",
              "#sk-container-id-2 div.sk-parallel-item::after {\n",
              "  content: \"\";\n",
              "  width: 100%;\n",
              "  border-bottom: 2px solid var(--sklearn-color-text-on-default-background);\n",
              "  flex-grow: 1;\n",
              "}\n",
              "\n",
              "#sk-container-id-2 div.sk-parallel {\n",
              "  display: flex;\n",
              "  align-items: stretch;\n",
              "  justify-content: center;\n",
              "  background-color: var(--sklearn-color-background);\n",
              "  position: relative;\n",
              "}\n",
              "\n",
              "#sk-container-id-2 div.sk-parallel-item {\n",
              "  display: flex;\n",
              "  flex-direction: column;\n",
              "}\n",
              "\n",
              "#sk-container-id-2 div.sk-parallel-item:first-child::after {\n",
              "  align-self: flex-end;\n",
              "  width: 50%;\n",
              "}\n",
              "\n",
              "#sk-container-id-2 div.sk-parallel-item:last-child::after {\n",
              "  align-self: flex-start;\n",
              "  width: 50%;\n",
              "}\n",
              "\n",
              "#sk-container-id-2 div.sk-parallel-item:only-child::after {\n",
              "  width: 0;\n",
              "}\n",
              "\n",
              "/* Serial-specific style estimator block */\n",
              "\n",
              "#sk-container-id-2 div.sk-serial {\n",
              "  display: flex;\n",
              "  flex-direction: column;\n",
              "  align-items: center;\n",
              "  background-color: var(--sklearn-color-background);\n",
              "  padding-right: 1em;\n",
              "  padding-left: 1em;\n",
              "}\n",
              "\n",
              "\n",
              "/* Toggleable style: style used for estimator/Pipeline/ColumnTransformer box that is\n",
              "clickable and can be expanded/collapsed.\n",
              "- Pipeline and ColumnTransformer use this feature and define the default style\n",
              "- Estimators will overwrite some part of the style using the `sk-estimator` class\n",
              "*/\n",
              "\n",
              "/* Pipeline and ColumnTransformer style (default) */\n",
              "\n",
              "#sk-container-id-2 div.sk-toggleable {\n",
              "  /* Default theme specific background. It is overwritten whether we have a\n",
              "  specific estimator or a Pipeline/ColumnTransformer */\n",
              "  background-color: var(--sklearn-color-background);\n",
              "}\n",
              "\n",
              "/* Toggleable label */\n",
              "#sk-container-id-2 label.sk-toggleable__label {\n",
              "  cursor: pointer;\n",
              "  display: flex;\n",
              "  width: 100%;\n",
              "  margin-bottom: 0;\n",
              "  padding: 0.5em;\n",
              "  box-sizing: border-box;\n",
              "  text-align: center;\n",
              "  align-items: start;\n",
              "  justify-content: space-between;\n",
              "  gap: 0.5em;\n",
              "}\n",
              "\n",
              "#sk-container-id-2 label.sk-toggleable__label .caption {\n",
              "  font-size: 0.6rem;\n",
              "  font-weight: lighter;\n",
              "  color: var(--sklearn-color-text-muted);\n",
              "}\n",
              "\n",
              "#sk-container-id-2 label.sk-toggleable__label-arrow:before {\n",
              "  /* Arrow on the left of the label */\n",
              "  content: \"▸\";\n",
              "  float: left;\n",
              "  margin-right: 0.25em;\n",
              "  color: var(--sklearn-color-icon);\n",
              "}\n",
              "\n",
              "#sk-container-id-2 label.sk-toggleable__label-arrow:hover:before {\n",
              "  color: var(--sklearn-color-text);\n",
              "}\n",
              "\n",
              "/* Toggleable content - dropdown */\n",
              "\n",
              "#sk-container-id-2 div.sk-toggleable__content {\n",
              "  max-height: 0;\n",
              "  max-width: 0;\n",
              "  overflow: hidden;\n",
              "  text-align: left;\n",
              "  /* unfitted */\n",
              "  background-color: var(--sklearn-color-unfitted-level-0);\n",
              "}\n",
              "\n",
              "#sk-container-id-2 div.sk-toggleable__content.fitted {\n",
              "  /* fitted */\n",
              "  background-color: var(--sklearn-color-fitted-level-0);\n",
              "}\n",
              "\n",
              "#sk-container-id-2 div.sk-toggleable__content pre {\n",
              "  margin: 0.2em;\n",
              "  border-radius: 0.25em;\n",
              "  color: var(--sklearn-color-text);\n",
              "  /* unfitted */\n",
              "  background-color: var(--sklearn-color-unfitted-level-0);\n",
              "}\n",
              "\n",
              "#sk-container-id-2 div.sk-toggleable__content.fitted pre {\n",
              "  /* unfitted */\n",
              "  background-color: var(--sklearn-color-fitted-level-0);\n",
              "}\n",
              "\n",
              "#sk-container-id-2 input.sk-toggleable__control:checked~div.sk-toggleable__content {\n",
              "  /* Expand drop-down */\n",
              "  max-height: 200px;\n",
              "  max-width: 100%;\n",
              "  overflow: auto;\n",
              "}\n",
              "\n",
              "#sk-container-id-2 input.sk-toggleable__control:checked~label.sk-toggleable__label-arrow:before {\n",
              "  content: \"▾\";\n",
              "}\n",
              "\n",
              "/* Pipeline/ColumnTransformer-specific style */\n",
              "\n",
              "#sk-container-id-2 div.sk-label input.sk-toggleable__control:checked~label.sk-toggleable__label {\n",
              "  color: var(--sklearn-color-text);\n",
              "  background-color: var(--sklearn-color-unfitted-level-2);\n",
              "}\n",
              "\n",
              "#sk-container-id-2 div.sk-label.fitted input.sk-toggleable__control:checked~label.sk-toggleable__label {\n",
              "  background-color: var(--sklearn-color-fitted-level-2);\n",
              "}\n",
              "\n",
              "/* Estimator-specific style */\n",
              "\n",
              "/* Colorize estimator box */\n",
              "#sk-container-id-2 div.sk-estimator input.sk-toggleable__control:checked~label.sk-toggleable__label {\n",
              "  /* unfitted */\n",
              "  background-color: var(--sklearn-color-unfitted-level-2);\n",
              "}\n",
              "\n",
              "#sk-container-id-2 div.sk-estimator.fitted input.sk-toggleable__control:checked~label.sk-toggleable__label {\n",
              "  /* fitted */\n",
              "  background-color: var(--sklearn-color-fitted-level-2);\n",
              "}\n",
              "\n",
              "#sk-container-id-2 div.sk-label label.sk-toggleable__label,\n",
              "#sk-container-id-2 div.sk-label label {\n",
              "  /* The background is the default theme color */\n",
              "  color: var(--sklearn-color-text-on-default-background);\n",
              "}\n",
              "\n",
              "/* On hover, darken the color of the background */\n",
              "#sk-container-id-2 div.sk-label:hover label.sk-toggleable__label {\n",
              "  color: var(--sklearn-color-text);\n",
              "  background-color: var(--sklearn-color-unfitted-level-2);\n",
              "}\n",
              "\n",
              "/* Label box, darken color on hover, fitted */\n",
              "#sk-container-id-2 div.sk-label.fitted:hover label.sk-toggleable__label.fitted {\n",
              "  color: var(--sklearn-color-text);\n",
              "  background-color: var(--sklearn-color-fitted-level-2);\n",
              "}\n",
              "\n",
              "/* Estimator label */\n",
              "\n",
              "#sk-container-id-2 div.sk-label label {\n",
              "  font-family: monospace;\n",
              "  font-weight: bold;\n",
              "  display: inline-block;\n",
              "  line-height: 1.2em;\n",
              "}\n",
              "\n",
              "#sk-container-id-2 div.sk-label-container {\n",
              "  text-align: center;\n",
              "}\n",
              "\n",
              "/* Estimator-specific */\n",
              "#sk-container-id-2 div.sk-estimator {\n",
              "  font-family: monospace;\n",
              "  border: 1px dotted var(--sklearn-color-border-box);\n",
              "  border-radius: 0.25em;\n",
              "  box-sizing: border-box;\n",
              "  margin-bottom: 0.5em;\n",
              "  /* unfitted */\n",
              "  background-color: var(--sklearn-color-unfitted-level-0);\n",
              "}\n",
              "\n",
              "#sk-container-id-2 div.sk-estimator.fitted {\n",
              "  /* fitted */\n",
              "  background-color: var(--sklearn-color-fitted-level-0);\n",
              "}\n",
              "\n",
              "/* on hover */\n",
              "#sk-container-id-2 div.sk-estimator:hover {\n",
              "  /* unfitted */\n",
              "  background-color: var(--sklearn-color-unfitted-level-2);\n",
              "}\n",
              "\n",
              "#sk-container-id-2 div.sk-estimator.fitted:hover {\n",
              "  /* fitted */\n",
              "  background-color: var(--sklearn-color-fitted-level-2);\n",
              "}\n",
              "\n",
              "/* Specification for estimator info (e.g. \"i\" and \"?\") */\n",
              "\n",
              "/* Common style for \"i\" and \"?\" */\n",
              "\n",
              ".sk-estimator-doc-link,\n",
              "a:link.sk-estimator-doc-link,\n",
              "a:visited.sk-estimator-doc-link {\n",
              "  float: right;\n",
              "  font-size: smaller;\n",
              "  line-height: 1em;\n",
              "  font-family: monospace;\n",
              "  background-color: var(--sklearn-color-background);\n",
              "  border-radius: 1em;\n",
              "  height: 1em;\n",
              "  width: 1em;\n",
              "  text-decoration: none !important;\n",
              "  margin-left: 0.5em;\n",
              "  text-align: center;\n",
              "  /* unfitted */\n",
              "  border: var(--sklearn-color-unfitted-level-1) 1pt solid;\n",
              "  color: var(--sklearn-color-unfitted-level-1);\n",
              "}\n",
              "\n",
              ".sk-estimator-doc-link.fitted,\n",
              "a:link.sk-estimator-doc-link.fitted,\n",
              "a:visited.sk-estimator-doc-link.fitted {\n",
              "  /* fitted */\n",
              "  border: var(--sklearn-color-fitted-level-1) 1pt solid;\n",
              "  color: var(--sklearn-color-fitted-level-1);\n",
              "}\n",
              "\n",
              "/* On hover */\n",
              "div.sk-estimator:hover .sk-estimator-doc-link:hover,\n",
              ".sk-estimator-doc-link:hover,\n",
              "div.sk-label-container:hover .sk-estimator-doc-link:hover,\n",
              ".sk-estimator-doc-link:hover {\n",
              "  /* unfitted */\n",
              "  background-color: var(--sklearn-color-unfitted-level-3);\n",
              "  color: var(--sklearn-color-background);\n",
              "  text-decoration: none;\n",
              "}\n",
              "\n",
              "div.sk-estimator.fitted:hover .sk-estimator-doc-link.fitted:hover,\n",
              ".sk-estimator-doc-link.fitted:hover,\n",
              "div.sk-label-container:hover .sk-estimator-doc-link.fitted:hover,\n",
              ".sk-estimator-doc-link.fitted:hover {\n",
              "  /* fitted */\n",
              "  background-color: var(--sklearn-color-fitted-level-3);\n",
              "  color: var(--sklearn-color-background);\n",
              "  text-decoration: none;\n",
              "}\n",
              "\n",
              "/* Span, style for the box shown on hovering the info icon */\n",
              ".sk-estimator-doc-link span {\n",
              "  display: none;\n",
              "  z-index: 9999;\n",
              "  position: relative;\n",
              "  font-weight: normal;\n",
              "  right: .2ex;\n",
              "  padding: .5ex;\n",
              "  margin: .5ex;\n",
              "  width: min-content;\n",
              "  min-width: 20ex;\n",
              "  max-width: 50ex;\n",
              "  color: var(--sklearn-color-text);\n",
              "  box-shadow: 2pt 2pt 4pt #999;\n",
              "  /* unfitted */\n",
              "  background: var(--sklearn-color-unfitted-level-0);\n",
              "  border: .5pt solid var(--sklearn-color-unfitted-level-3);\n",
              "}\n",
              "\n",
              ".sk-estimator-doc-link.fitted span {\n",
              "  /* fitted */\n",
              "  background: var(--sklearn-color-fitted-level-0);\n",
              "  border: var(--sklearn-color-fitted-level-3);\n",
              "}\n",
              "\n",
              ".sk-estimator-doc-link:hover span {\n",
              "  display: block;\n",
              "}\n",
              "\n",
              "/* \"?\"-specific style due to the `<a>` HTML tag */\n",
              "\n",
              "#sk-container-id-2 a.estimator_doc_link {\n",
              "  float: right;\n",
              "  font-size: 1rem;\n",
              "  line-height: 1em;\n",
              "  font-family: monospace;\n",
              "  background-color: var(--sklearn-color-background);\n",
              "  border-radius: 1rem;\n",
              "  height: 1rem;\n",
              "  width: 1rem;\n",
              "  text-decoration: none;\n",
              "  /* unfitted */\n",
              "  color: var(--sklearn-color-unfitted-level-1);\n",
              "  border: var(--sklearn-color-unfitted-level-1) 1pt solid;\n",
              "}\n",
              "\n",
              "#sk-container-id-2 a.estimator_doc_link.fitted {\n",
              "  /* fitted */\n",
              "  border: var(--sklearn-color-fitted-level-1) 1pt solid;\n",
              "  color: var(--sklearn-color-fitted-level-1);\n",
              "}\n",
              "\n",
              "/* On hover */\n",
              "#sk-container-id-2 a.estimator_doc_link:hover {\n",
              "  /* unfitted */\n",
              "  background-color: var(--sklearn-color-unfitted-level-3);\n",
              "  color: var(--sklearn-color-background);\n",
              "  text-decoration: none;\n",
              "}\n",
              "\n",
              "#sk-container-id-2 a.estimator_doc_link.fitted:hover {\n",
              "  /* fitted */\n",
              "  background-color: var(--sklearn-color-fitted-level-3);\n",
              "}\n",
              "</style><div id=\"sk-container-id-2\" class=\"sk-top-container\"><div class=\"sk-text-repr-fallback\"><pre>LinearRegression()</pre><b>In a Jupyter environment, please rerun this cell to show the HTML representation or trust the notebook. <br />On GitHub, the HTML representation is unable to render, please try loading this page with nbviewer.org.</b></div><div class=\"sk-container\" hidden><div class=\"sk-item\"><div class=\"sk-estimator fitted sk-toggleable\"><input class=\"sk-toggleable__control sk-hidden--visually\" id=\"sk-estimator-id-2\" type=\"checkbox\" checked><label for=\"sk-estimator-id-2\" class=\"sk-toggleable__label fitted sk-toggleable__label-arrow\"><div><div>LinearRegression</div></div><div><a class=\"sk-estimator-doc-link fitted\" rel=\"noreferrer\" target=\"_blank\" href=\"https://scikit-learn.org/1.6/modules/generated/sklearn.linear_model.LinearRegression.html\">?<span>Documentation for LinearRegression</span></a><span class=\"sk-estimator-doc-link fitted\">i<span>Fitted</span></span></div></label><div class=\"sk-toggleable__content fitted\"><pre>LinearRegression()</pre></div> </div></div></div></div>"
            ]
          },
          "metadata": {},
          "execution_count": 76
        }
      ],
      "source": [
        "#instantiate the model\n",
        "lm = LinearRegression()\n",
        "\n",
        "#fit values with the clean data\n",
        "lm.fit(all_xs, all_ys)\n",
        "\n",
        "#run a prediction given the calculation (yeah...that easy)\n",
        "new_y=lm.predict(all_xs)"
      ]
    },
    {
      "cell_type": "code",
      "execution_count": 86,
      "metadata": {
        "id": "oz4w4MY-voRY",
        "colab": {
          "base_uri": "https://localhost:8080/"
        },
        "executionInfo": {
          "status": "ok",
          "timestamp": 1738707186490,
          "user_tz": 360,
          "elapsed": 146,
          "user": {
            "displayName": "",
            "userId": ""
          }
        },
        "outputId": "be664fbd-2bd8-412f-83ac-2a82ae079444"
      },
      "outputs": [
        {
          "output_type": "stream",
          "name": "stdout",
          "text": [
            "[2025-02-04 22:13:06 UTC]   DEBUG:              Intercept:[-6.4635]. \n",
            "[2025-02-04 22:13:06 UTC]   DEBUG:              Intercept:[-6.4635]. \n",
            "[2025-02-04 22:13:06 UTC]   DEBUG:              Intercept:[-6.4635]. \n"
          ]
        },
        {
          "output_type": "stream",
          "name": "stderr",
          "text": [
            "DEBUG:msg_logs:             Intercept:[-6.4635].\n"
          ]
        },
        {
          "output_type": "stream",
          "name": "stdout",
          "text": [
            "[2025-02-04 22:13:06 UTC]   DEBUG: Number of Coefficients:1. \n",
            "[2025-02-04 22:13:06 UTC]   DEBUG: Number of Coefficients:1. \n",
            "[2025-02-04 22:13:06 UTC]   DEBUG: Number of Coefficients:1. \n"
          ]
        },
        {
          "output_type": "stream",
          "name": "stderr",
          "text": [
            "DEBUG:msg_logs:Number of Coefficients:1.\n"
          ]
        }
      ],
      "source": [
        "debug.msg_debug(f\"             Intercept:{lm.intercept_}.\")\n",
        "debug.msg_debug(f\"Number of Coefficients:{len(lm.coef_)}.\" )"
      ]
    },
    {
      "cell_type": "code",
      "execution_count": 87,
      "metadata": {
        "id": "ZTFpy8TFvoRY",
        "colab": {
          "base_uri": "https://localhost:8080/",
          "height": 50
        },
        "executionInfo": {
          "status": "ok",
          "timestamp": 1738707189855,
          "user_tz": 360,
          "elapsed": 2746,
          "user": {
            "displayName": "",
            "userId": ""
          }
        },
        "outputId": "768d99c8-e242-463f-cc21-807082494f6e"
      },
      "outputs": [
        {
          "output_type": "display_data",
          "data": {
            "text/plain": [
              "Next display is a Scatter plot of Y \u001b[3;92mTrue\u001b[0m versus Y Inference from the datafile \n",
              "\u001b[35m/content/folderOnColab/\u001b[0m\u001b[95mmooring_data.txt\u001b[0m, saving results to \u001b[35m/content/folderOnColab/\u001b[0m\u001b[95m004_sklearn_inference.jpg.\u001b[0m\n"
            ],
            "text/html": [
              "<pre style=\"white-space:pre;overflow-x:auto;line-height:normal;font-family:Menlo,'DejaVu Sans Mono',consolas,'Courier New',monospace\">Next display is a Scatter plot of Y <span style=\"color: #00ff00; text-decoration-color: #00ff00; font-style: italic\">True</span> versus Y Inference from the datafile \n",
              "<span style=\"color: #800080; text-decoration-color: #800080\">/content/folderOnColab/</span><span style=\"color: #ff00ff; text-decoration-color: #ff00ff\">mooring_data.txt</span>, saving results to <span style=\"color: #800080; text-decoration-color: #800080\">/content/folderOnColab/</span><span style=\"color: #ff00ff; text-decoration-color: #ff00ff\">004_sklearn_inference.jpg.</span>\n",
              "</pre>\n"
            ]
          },
          "metadata": {}
        }
      ],
      "source": [
        "#create the image in the background and render with 508 compliance taken into account\n",
        "# Use the 'Agg' backend for non-interactive environments\n",
        "matplt.use('Agg')\n",
        "\n",
        "#show the image inline\n",
        "#%matplotlib inline\n",
        "PLT_LGD_X_OFFSET=1\n",
        "PLT_LGD_Y_OFFSET=0.5\n",
        "\n",
        "#establish the initial figure dimensions and configuration (purposely made large 20x10 inches)\n",
        "fig = plt.figure(1,figsize=(FIGURE_WIDTH,FIGURE_HEIGHT));\n",
        "\n",
        "#this is where you could have multiple plots side by side\n",
        "axes = plt.subplot(111)\n",
        "axes.set_title('Y vs New Y Plot')\n",
        "axes.set_ylabel(SALINITY)\n",
        "axes.set_xlabel('Time')\n",
        "\n",
        "labels=axes.get_xticklabels();\n",
        "plt.setp(labels,rotation=45,horizontalalignment='right');\n",
        "\n",
        "axes.scatter(range(0,all_ys.size),all_ys, label='old Y')\n",
        "axes.scatter(range(0,new_y.size),new_y, label='new Y')\n",
        "axes.legend(loc='center left', bbox_to_anchor=(PLT_LGD_X_OFFSET,PLT_LGD_Y_OFFSET))\n",
        "\n",
        "# Save the plot to a file that can be pulled up at a later date.\n",
        "target_filename=target_folder+os.sep+f\"004_sklearn_inference{IMG_EXT}\";\n",
        "\n",
        "# Create ALT text describing the image.\n",
        "caption_text=f\"Scatter plot of Y True versus Y Inference from the datafile {data_filename}, saving results to {target_filename}.\";\n",
        "\n",
        "\n",
        "bit_bucket=plt.text(0.5,\n",
        "                   0.7,\n",
        "                  caption_text,\n",
        "                  rotation=0.0,\n",
        "                  ha=\"left\",\n",
        "                  va=\"center\",\n",
        "                  fontsize=IMG_FONT_SIZE_MIN,\n",
        "                  family='serif',\n",
        "                  style='oblique',\n",
        "                  wrap=True,\n",
        "                  bbox=dict(boxstyle=\"round\",\n",
        "                            ec=(1., 0.5, 0.5),\n",
        "                            fc=(1., 0.8, 0.8),\n",
        "                            ),\n",
        "                  transform=fig.transFigure\n",
        "                  );\n",
        "\n",
        "\n",
        "#Save\n",
        "plt.savefig(target_filename);\n",
        "add_alt_text(target_folder+os.sep+f\"004_sklearn_inference{IMG_EXT}\", caption_text);\n",
        "rprint(\"Next display is a \" + caption_text);"
      ]
    },
    {
      "cell_type": "code",
      "execution_count": 88,
      "metadata": {
        "id": "trnq2O9LvoRZ",
        "colab": {
          "base_uri": "https://localhost:8080/",
          "height": 904
        },
        "executionInfo": {
          "status": "ok",
          "timestamp": 1738707215087,
          "user_tz": 360,
          "elapsed": 3537,
          "user": {
            "displayName": "",
            "userId": ""
          }
        },
        "outputId": "0044e51b-063b-4fe6-ce69-1f77b57baddb"
      },
      "outputs": [
        {
          "output_type": "execute_result",
          "data": {
            "text/plain": [
              "<IPython.core.display.Markdown object>"
            ],
            "text/markdown": "![](data:image/jpg;base64,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 \"Scatter plot of Y True versus Y Inference from the datafile /content/folderOnColab/mooring_data.txt, saving results to /content/folderOnColab/004_sklearn_inference.jpg.\")"
          },
          "metadata": {},
          "execution_count": 88
        }
      ],
      "source": [
        "# Display Section 508 compliant image on the scrren with ALT text\n",
        "try:\n",
        "  make_accessible(plt, jinja2.Template(caption_text), len=len)\n",
        "except (NameError, Exception) as e:\n",
        "  process_exception(e)"
      ]
    }
  ],
  "metadata": {
    "environment": {
      "kernel": "conda-base-py",
      "name": "workbench-notebooks.m123",
      "type": "gcloud",
      "uri": "us-docker.pkg.dev/deeplearning-platform-release/gcr.io/workbench-notebooks:m123"
    },
    "kernelspec": {
      "display_name": "Python 3 (ipykernel) (Local)",
      "language": "python",
      "name": "conda-base-py"
    },
    "language_info": {
      "codemirror_mode": {
        "name": "ipython",
        "version": 3
      },
      "file_extension": ".py",
      "mimetype": "text/x-python",
      "name": "python",
      "nbconvert_exporter": "python",
      "pygments_lexer": "ipython3",
      "version": "3.10.14"
    },
    "colab": {
      "provenance": [],
      "name": "004_sklearn_pandas_linearRegress_opticsMoorningData.ipynb"
    }
  },
  "nbformat": 4,
  "nbformat_minor": 0
}