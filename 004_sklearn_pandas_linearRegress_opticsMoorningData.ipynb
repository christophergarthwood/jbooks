{
  "cells": [
    {
      "cell_type": "markdown",
      "metadata": {
        "id": "ckJnTUy8voRV"
      },
      "source": [
        "# Jupyter Notebook with SkLearn and Linear Regression\n",
        "## This notebook represents the \"basics\" with Data Science work"
      ]
    },
    {
      "cell_type": "code",
      "execution_count": null,
      "metadata": {
        "id": "kpxArxv4voRW"
      },
      "outputs": [],
      "source": [
        "BUCKET_NAME     = \"ai-training-2024-08-09-bucket\"\n",
        "PROJECT_ID      = \"ai-training-2024-08-09\"\n",
        "LOCATION        = \"us-central1\"\n",
        "secret_name     = \"ai-training-key-secret\"\n",
        "secret_version  = \"latest\"\n",
        "project_id      = \"usfs-tf-admin\"\n",
        "resource_name   = f\"projects/{project_id}/secrets/{secret_name}/versions/{secret_version}\""
      ]
    },
    {
      "cell_type": "code",
      "execution_count": null,
      "metadata": {
        "tags": [],
        "id": "skhODzv1voRW"
      },
      "outputs": [],
      "source": [
        "# +++++++++++++++++++++++++++++++++++++++++++++++++++++++++++++++++++++++\n",
        "#- Google Colab Check\n",
        "# +++++++++++++++++++++++++++++++++++++++++++++++++++++++++++++++++++++++\n",
        "RunningInCOLAB = False\n",
        "RunningInCOLAB = 'google.colab' in str(get_ipython())\n",
        "\n",
        "if RunningInCOLAB:\n",
        "    print(\"You are running this notebook in Google Colab.\")\n",
        "else:\n",
        "    print(\"You are running this notebook with Jupyter iPython runtime.\")\n",
        "    print(\"Assumption is you have the required libraries to execute this notebook.\")"
      ]
    },
    {
      "cell_type": "code",
      "execution_count": null,
      "metadata": {
        "tags": [],
        "id": "kAvHS-lbvoRW"
      },
      "outputs": [],
      "source": [
        "import sys\n",
        "import subprocess\n",
        "import importlib.util"
      ]
    },
    {
      "cell_type": "code",
      "execution_count": null,
      "metadata": {
        "tags": [],
        "id": "7zY2A4GevoRX"
      },
      "outputs": [],
      "source": [
        "libraries=[\"numpy\", \"pandas\", \"scipy\", \"sklearn\", \"matplotlib\"]\n",
        "import importlib.util\n",
        "\n",
        "for library in libraries:\n",
        "    if library == \"Pillow\":\n",
        "      spec = importlib.util.find_spec(\"PIL\")\n",
        "    else:\n",
        "      spec = importlib.util.find_spec(library)\n",
        "    if spec is None:\n",
        "      print(\"Installing library \" + library)\n",
        "      subprocess.run([\"pip\", \"install\" , library, \"--quiet\"])\n",
        "    else:\n",
        "      print(\"Library \" + library + \" already installed.\")"
      ]
    },
    {
      "cell_type": "markdown",
      "metadata": {
        "id": "CBlKraXwvoRX"
      },
      "source": [
        "# Pull in Debugging Library"
      ]
    },
    {
      "cell_type": "code",
      "execution_count": null,
      "metadata": {
        "tags": [],
        "id": "6hAuX_bNvoRX"
      },
      "outputs": [],
      "source": [
        "library_list = ['./support_debug.ipynb', './support_functions.ipynb']\n",
        "\n",
        "for library in library_list:\n",
        "    %run $library"
      ]
    },
    {
      "cell_type": "markdown",
      "metadata": {
        "id": "qqFV6NyNvoRX"
      },
      "source": [
        "# Includes and Libraries"
      ]
    },
    {
      "cell_type": "code",
      "execution_count": null,
      "metadata": {
        "tags": [],
        "id": "4g4klBWIvoRX"
      },
      "outputs": [],
      "source": [
        "############################################\n",
        "# INCLUDES\n",
        "############################################\n",
        "#libraries specific to this example\n",
        "import numpy as np\n",
        "import pandas as pd\n",
        "import scipy as sp\n",
        "from sklearn.linear_model import LinearRegression\n",
        "import matplotlib as matplt\n",
        "import matplotlib.pyplot as plt\n",
        "\n",
        "#a set of libraries that perhaps should always be in Python source\n",
        "import os\n",
        "import datetime\n",
        "import sys\n",
        "import gc\n",
        "import getopt\n",
        "import inspect\n",
        "import math\n",
        "import warnings\n",
        "\n",
        "#a darn useful library for creating paths and one I recommend you load to your environment\n",
        "from pathlib import Path"
      ]
    },
    {
      "cell_type": "code",
      "execution_count": null,
      "metadata": {
        "tags": [],
        "id": "SdRxQ1jQvoRX"
      },
      "outputs": [],
      "source": [
        "msg_info(\"Setting Library Configuration\")\n",
        "set_library_configuration()"
      ]
    },
    {
      "cell_type": "markdown",
      "metadata": {
        "id": "-83x2x6AvoRX"
      },
      "source": [
        "# Variable declaration"
      ]
    },
    {
      "cell_type": "code",
      "execution_count": null,
      "metadata": {
        "tags": [],
        "id": "Xh3sjeb2voRX"
      },
      "outputs": [],
      "source": [
        "############################################\n",
        "# GLOBAL VARIABLES\n",
        "############################################\n",
        "DEBUG = 1\n",
        "DEBUG_DATA = 0\n",
        "\n",
        "# CODE CONSTRAINTS\n",
        "VERSION_NAME    = \"SKLearn\"\n",
        "VERSION_MAJOR   = 0\n",
        "VERSION_MINOR   = 0\n",
        "VERSION_RELEASE = 1\n",
        "\n",
        "#used for values outside standard ASCII, just do it, you'll need it\n",
        "ENCODING  =\"utf-8\"\n",
        "\n",
        "############################################\n",
        "# GLOBAL CONSTANTS\n",
        "############################################\n",
        "TEMPERATURE=\"Temp(C)\"\n",
        "SALINITY=\"Sal(PSU)\"\n",
        "\n",
        "############################################\n",
        "# APPLICATION VARIABLES\n",
        "############################################\n",
        "\n",
        "############################################\n",
        "# GLOBAL CONFIGURATION\n",
        "############################################\n",
        "os.environ['PYTHONIOENCODING']=ENCODING\n"
      ]
    },
    {
      "cell_type": "markdown",
      "metadata": {
        "id": "SAG6s3aZvoRX"
      },
      "source": [
        "# Library Invocation\n",
        "### Note that it's also useful to use this code so that you carry around a list of version dependencies and know how you did something (version)"
      ]
    },
    {
      "cell_type": "code",
      "execution_count": null,
      "metadata": {
        "tags": [],
        "id": "HNd5B89pvoRX"
      },
      "outputs": [],
      "source": [
        "msg_info(\"Library Diagnostics\")\n",
        "lib_diagnostics()"
      ]
    },
    {
      "cell_type": "markdown",
      "metadata": {
        "id": "96WCtVS6voRX"
      },
      "source": [
        "# Data Read\n",
        "### Using pandas read in a data file and establish a log for output."
      ]
    },
    {
      "cell_type": "code",
      "execution_count": null,
      "metadata": {
        "id": "u1u4_BJPvoRX"
      },
      "outputs": [],
      "source": [
        "#READ DATA IN\n",
        "\n",
        "filename = os.path.join(root_location, \"mooring_data.txt\")\n",
        "\n",
        "\n",
        "if os.path.isfile(filename):\n",
        "\n",
        "    try:\n",
        "\n",
        "        data=pd.read_csv(filename, delimiter='^', engine='python')\n",
        "\n",
        "        log_file = \".\"+os.sep+\"data\"+os.sep+\"feature_1_batch_1.log\"\n",
        "\n",
        "    except OSError as e:\n",
        "\n",
        "        debug.msg_error(f\"Exception found: {e}\")\n",
        "\n",
        "        debug.msg_error(f\"Unable to filename ({fname}) in code at {__name__}.{inspect.stack()[0][3]}.\")  #note fname provided by Exception OSError\n",
        "\n",
        "        debug.msg_error(\"Please check your paths and restart.\")\n",
        "\n",
        "else:\n",
        "\n",
        "    debug.msg_error(f\"Unable to filename ({filename}) in code at {__name__}.{inspect.stack()[0][3]}.\")\n",
        "\n",
        "    debug.msg_error(\"Please check your paths and restart.\")\n"
      ]
    },
    {
      "cell_type": "code",
      "execution_count": null,
      "metadata": {
        "id": "xAKvP5q_voRY"
      },
      "outputs": [],
      "source": [
        "data"
      ]
    },
    {
      "cell_type": "code",
      "execution_count": null,
      "metadata": {
        "id": "romlDOVqvoRY"
      },
      "outputs": [],
      "source": [
        "#what does the data domain look like?\n",
        "print(data.columns)"
      ]
    },
    {
      "cell_type": "code",
      "execution_count": null,
      "metadata": {
        "id": "lAntgN10voRY"
      },
      "outputs": [],
      "source": [
        "#learn pandas\n",
        "data.info()"
      ]
    },
    {
      "cell_type": "code",
      "execution_count": null,
      "metadata": {
        "id": "8uO9_XgZvoRY"
      },
      "outputs": [],
      "source": [
        "#learn MORE pandas\n",
        "data.describe()"
      ]
    },
    {
      "cell_type": "markdown",
      "metadata": {
        "id": "e0qoAC2zvoRY"
      },
      "source": [
        "# Prep the data"
      ]
    },
    {
      "cell_type": "code",
      "execution_count": null,
      "metadata": {
        "id": "wkw7PbJWvoRY"
      },
      "outputs": [],
      "source": [
        "#PURGE DATA\n",
        "debug.msg_info(\"Data scrub and prep\")\n",
        "#load teperature (referenced by name) for all values (y, x); (all rows, column=Temp)\n",
        "#into a single dimensional array that is Numpy based (means you got lots of free powerful tools)\n",
        "\n",
        "try:\n",
        "\n",
        "    xs=data.loc[:,TEMPERATURE].values\n",
        "    debug.msg_debug(\"XS array from \" + str(TEMPERATURE) + \" is \" + str(xs.size))\n",
        "\n",
        "except KeyError as e:#Missing values check\n",
        "\n",
        "    debug.msg_error(f\"Exception found: {e}\")\n",
        "\n",
        "    debug.msg_error(\"'TEMPERATURE' key values were not found, please check your file\")\n",
        "\n",
        "except IndexingError as e:#Indexing misalignment check\n",
        "\n",
        "    debug.msg_error(f\"Exception found: {e}\")\n",
        "\n",
        "    debug.msg_error(\"'TEMPERATURE' index values appear to be incorrect, please check your file\")\n",
        "\n",
        "\n",
        "try:\n",
        "\n",
        "    ys=data.loc[:,SALINITY].values\n",
        "    debug.msg_debug(\"YS array from \" + SALINITY + \" is \" + str(ys.size))\n",
        "\n",
        "except KeyError as e:#Missing values check\n",
        "\n",
        "    debug.msg_error(f\"Exception found: {e}\")\n",
        "\n",
        "    debug.msg_error(\"'SALINITY' key values were not found, please check your file\")\n",
        "\n",
        "except IndexingError as e:#Indexing misalignment check\n",
        "\n",
        "    debug.msg_error(f\"Exception found: {e}\")\n",
        "\n",
        "    debug.msg_error(\"'SALINITY' index values appear to be incorrect, please check your file\")\n",
        "\n",
        "\n",
        "#machine learning doesn't like negative numbers, there are multiple ways of doing this\n",
        "#pd.DataFrame().query() or np.where() are some options\n",
        "#LEARN PANDAS!!!!\n",
        "debug.msg_debug(\"\")\n",
        "debug.msg_debug(\"Performing Y mask cleaning\")\n",
        "y_mask=np.where(ys < 1)\n",
        "debug.msg_debug(\"\")\n",
        "\n",
        "#clear out the values that should be scrubbed.  Again, any technique to clean the data is viable.\n",
        "all_xs = np.delete(xs, y_mask)\n",
        "debug.msg_debug(\"all_xs (> 1) array from \" + TEMPERATURE + \" is \" + str(all_xs.size))\n",
        "all_ys = np.delete(ys, y_mask)\n",
        "debug.msg_debug(\"all_ys (> 1) array from \" + SALINITY + \" is \" + str(all_ys.size))"
      ]
    },
    {
      "cell_type": "code",
      "execution_count": null,
      "metadata": {
        "id": "EJdUMvV6voRY"
      },
      "outputs": [],
      "source": [
        "#example of all_xs output (temperature)\n",
        "all_xs"
      ]
    },
    {
      "cell_type": "code",
      "execution_count": null,
      "metadata": {
        "id": "BXwB7Nt-voRY"
      },
      "outputs": [],
      "source": [
        "#transpose the data, the API expects it\n",
        "all_xs = np.transpose([all_xs])\n",
        "debug.msg_debug(\"all_xs (transposed) array from \" +  TEMPERATURE + \" is \" + str(all_xs.size))\n",
        "\n",
        "all_ys = np.transpose([all_ys])\n",
        "debug.msg_debug(\"all_ys (transposed) array from \" +  SALINITY + \" is \" + str(all_ys.size))\n"
      ]
    },
    {
      "cell_type": "code",
      "execution_count": null,
      "metadata": {
        "id": "JUsSiZEkvoRY"
      },
      "outputs": [],
      "source": [
        "#example of all_xs output now (tafter transpose)\n",
        "all_xs"
      ]
    },
    {
      "cell_type": "markdown",
      "metadata": {
        "id": "n4ykuWTXvoRY"
      },
      "source": [
        "# Statistics\n",
        "### Lots of statistics at your fingertips with Numpy\n",
        "### Also useful as it helps with quick operations for other functions (plotting, data smoothing, etc.)"
      ]
    },
    {
      "cell_type": "code",
      "execution_count": null,
      "metadata": {
        "id": "BimZ-FHrvoRY"
      },
      "outputs": [],
      "source": [
        "#STATISTICS\n",
        "x_mean=data[TEMPERATURE].apply(np.mean)\n",
        "x_std=data[TEMPERATURE].apply(np.std)\n",
        "x_mean_max=np.max(x_mean)\n",
        "x_std_max=np.max(x_std)\n",
        "x_range_limit=x_mean_max + (x_std_max * 5)\n",
        "\n",
        "y_mean=data[SALINITY].apply(np.mean)\n",
        "y_std=data[SALINITY].apply(np.std)\n",
        "y_mean_max=np.max(y_mean)\n",
        "y_std_max=np.max(y_std)\n",
        "y_range_limit=y_mean_max + (y_std_max * 5)"
      ]
    },
    {
      "cell_type": "markdown",
      "metadata": {
        "id": "YDPMDhCnvoRY"
      },
      "source": [
        "# Plots"
      ]
    },
    {
      "cell_type": "code",
      "execution_count": null,
      "metadata": {
        "id": "GSl3MMV2voRY"
      },
      "outputs": [],
      "source": [
        "#show the image inline\n",
        "%matplotlib inline\n",
        "PLT_X_SIZE=20\n",
        "PLT_Y_SIZE=10\n",
        "PLT_LGD_X_OFFSET=1\n",
        "PLT_LGD_Y_OFFSET=0.5\n",
        "\n",
        "#establish the initial figure dimensions and configuration (purposely made large 20x10 inches)\n",
        "fig = plt.figure(1,figsize=(PLT_X_SIZE, PLT_Y_SIZE))\n",
        "\n",
        "#this is where you could have multiple plots side by side\n",
        "axes = plt.subplot(111)\n",
        "axes.set_title('X, Y Plot')\n",
        "axes.set_ylabel(SALINITY)\n",
        "axes.set_xlabel(TEMPERATURE)\n",
        "\n",
        "labels=axes.get_xticklabels()\n",
        "plt.setp(labels,rotation=45,horizontalalignment='right')\n",
        "\n",
        "axes.scatter(all_xs, all_ys, label='x vs. y')\n",
        "axes.legend(loc='center left', bbox_to_anchor=(PLT_LGD_X_OFFSET,PLT_LGD_Y_OFFSET))\n"
      ]
    },
    {
      "cell_type": "markdown",
      "metadata": {
        "id": "TGzB9_8svoRY"
      },
      "source": [
        "# Linear Regression (SKlearn)"
      ]
    },
    {
      "cell_type": "code",
      "execution_count": null,
      "metadata": {
        "id": "QFF3oPxEvoRY"
      },
      "outputs": [],
      "source": [
        "#instantiate the model\n",
        "lm = LinearRegression()\n",
        "\n",
        "#fit values with the clean data\n",
        "lm.fit(all_xs, all_ys)\n",
        "\n",
        "#run a prediction given the calculation (yeah...that easy)\n",
        "new_y=lm.predict(all_xs)"
      ]
    },
    {
      "cell_type": "code",
      "execution_count": null,
      "metadata": {
        "id": "oz4w4MY-voRY"
      },
      "outputs": [],
      "source": [
        "debug.msg_debug(\"             Intercept:\" + str(lm.intercept_))\n",
        "debug.msg_debug(\"Number of Coefficients:\" + str(len(lm.coef_)))"
      ]
    },
    {
      "cell_type": "code",
      "execution_count": null,
      "metadata": {
        "id": "ZTFpy8TFvoRY"
      },
      "outputs": [],
      "source": [
        "#PLOT DATA (QUICK LOOK)\n",
        "import matplotlib\n",
        "import matplotlib.pyplot as plt\n",
        "%matplotlib inline\n",
        "PLT_X_SIZE=20\n",
        "PLT_Y_SIZE=10\n",
        "PLT_LGD_X_OFFSET=1\n",
        "PLT_LGD_Y_OFFSET=0.5\n",
        "\n",
        "fig = plt.figure(1,figsize=(PLT_X_SIZE, PLT_Y_SIZE))\n",
        "\n",
        "axes = plt.subplot(111)\n",
        "axes.set_title('Y vs New Y Plot')\n",
        "axes.set_ylabel(SALINITY)\n",
        "axes.set_xlabel('Time')\n",
        "\n",
        "labels=axes.get_xticklabels()\n",
        "plt.setp(labels,rotation=45,horizontalalignment='right')\n",
        "\n",
        "axes.scatter(range(0,all_ys.size),all_ys, label='old Y')\n",
        "axes.scatter(range(0,new_y.size),new_y, label='new Y')\n",
        "axes.legend(loc='center left', bbox_to_anchor=(PLT_LGD_X_OFFSET,PLT_LGD_Y_OFFSET))\n"
      ]
    },
    {
      "cell_type": "code",
      "execution_count": null,
      "metadata": {
        "id": "trnq2O9LvoRZ"
      },
      "outputs": [],
      "source": [
        "#newY is the prediction across the oldY values."
      ]
    }
  ],
  "metadata": {
    "environment": {
      "kernel": "conda-base-py",
      "name": "workbench-notebooks.m123",
      "type": "gcloud",
      "uri": "us-docker.pkg.dev/deeplearning-platform-release/gcr.io/workbench-notebooks:m123"
    },
    "kernelspec": {
      "display_name": "Python 3 (ipykernel) (Local)",
      "language": "python",
      "name": "conda-base-py"
    },
    "language_info": {
      "codemirror_mode": {
        "name": "ipython",
        "version": 3
      },
      "file_extension": ".py",
      "mimetype": "text/x-python",
      "name": "python",
      "nbconvert_exporter": "python",
      "pygments_lexer": "ipython3",
      "version": "3.10.14"
    },
    "colab": {
      "provenance": []
    }
  },
  "nbformat": 4,
  "nbformat_minor": 0
}