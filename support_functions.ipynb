{
  "cells": [
    {
      "cell_type": "code",
      "execution_count": null,
      "id": "6f45db3c-d6ae-4c7e-88f7-04223928b3db",
      "metadata": {
        "tags": [],
        "id": "6f45db3c-d6ae-4c7e-88f7-04223928b3db"
      },
      "outputs": [],
      "source": [
        "def set_library_configuration() -> None:\n",
        "\n",
        "    ############################################\n",
        "    #- JUPYTER NOTEBOOK OUTPUT CONTROL / FORMATTING\n",
        "    ############################################\n",
        "    #pandas set floating point to 4 places to things don't run loose\n",
        "    pd.set_option('display.max_colwidth', 10) # None if you want to view the full json blob in the printed dataframe, use this\n",
        "    pd.options.display.float_format = '{:,.4f}'.format\n",
        "    np.set_printoptions(precision=4)"
      ]
    },
    {
      "cell_type": "code",
      "execution_count": null,
      "id": "47615ff2-e769-43f8-9912-93eef7b6e96a",
      "metadata": {
        "tags": [],
        "id": "47615ff2-e769-43f8-9912-93eef7b6e96a"
      },
      "outputs": [],
      "source": [
        "def profile_function(func):\n",
        "    def wrapper(*args, **kwargs):\n",
        "        pr = cProfile.Profile()\n",
        "        pr.enable()\n",
        "        result = func(*args, **kwargs)\n",
        "        pr.disable()\n",
        "        s = io.StringIO()\n",
        "        sortby = SortKey.CUMULATIVE\n",
        "        ps = pstats.Stats(pr, stream=s).sort_stats(sortby)\n",
        "        ps.print_stats()\n",
        "        print(s.getvalue())\n",
        "        return result\n",
        "    return wrapper"
      ]
    },
    {
      "cell_type": "code",
      "execution_count": null,
      "id": "18d95a2a-d3cc-4e0e-941f-2acc4a029585",
      "metadata": {
        "tags": [],
        "id": "18d95a2a-d3cc-4e0e-941f-2acc4a029585"
      },
      "outputs": [],
      "source": [
        "## Manages exception output.\n",
        "#  @param   (Exception)             - Exception to expound upon\n",
        "#  @returns (None)                  - None\n",
        "def process_exception(inc_exception) -> None:\n",
        "    BOLD_START = \"\\033[1m\"\n",
        "    BOLD_END = \"\\033[0;0m\"\n",
        "\n",
        "    print(f\"{BOLD_START}(Exception encountered):{BOLD_END} {type(inc_exception).__name__}\")\n",
        "    print(f\"Details: {str(inc_exception)}\")\n",
        "    print(\"Traceback:\")\n",
        "    traceback.print_exc()"
      ]
    },
    {
      "cell_type": "code",
      "execution_count": null,
      "id": "d0d75d81-db76-43ec-b2d0-ef530a865dfd",
      "metadata": {
        "tags": [],
        "id": "d0d75d81-db76-43ec-b2d0-ef530a865dfd"
      },
      "outputs": [],
      "source": [
        "## Outputs library version history of effort.\n",
        "#\n",
        "#  @returns (None)                  - None\n",
        "def lib_diagnostics() -> None:\n",
        "\n",
        "    import pkg_resources\n",
        "\n",
        "    package_name_length=40\n",
        "    package_version_length=20\n",
        "\n",
        "    # Get installed packages\n",
        "    the_packages=[\"numpy\", \"pandas\", \"matplotlib\", \"os\", \"seaborn\", \"xarray\"]\n",
        "    installed = {pkg.key: pkg.version for pkg in pkg_resources.working_set}\n",
        "    for package_idx, package_name in enumerate(installed):\n",
        "         if package_name in the_packages:\n",
        "             installed_version = installed[package_name]\n",
        "             print(f\"{package_name:<40}#: {str(pkg_resources.parse_version(installed_version)):<20}\")\n",
        "\n",
        "    try:\n",
        "        print(f\"{'TensorFlow version':<40}#: {str(tf.__version__):<20}\")\n",
        "        print(f\"{'     gpu.count:':<40}#: {str(len(tf.config.experimental.list_physical_devices('GPU')))}\")\n",
        "        print(f\"{'     cpu.count:':<40}#: {str(len(tf.config.experimental.list_physical_devices('CPU')))}\")\n",
        "    except Exception as e:\n",
        "        pass\n",
        "\n",
        "    try:\n",
        "        print(f\"{'Torch version':<40}#: {str(torch.__version__):<20}\")\n",
        "        print(f\"{'     GPUs available?':<40}#: {torch.cuda.is_available()}\")\n",
        "        print(f\"{'     count':<40}#: {torch.cuda.device_count()}\")\n",
        "        print(f\"{'     current':<40}#: {torch.cuda.current_device()}\")\n",
        "    except Exception as e:\n",
        "        pass\n",
        "\n",
        "\n",
        "    try:\n",
        "      print(f\"{'OpenAI Azure Version':<40}#: {str(the_openai_version):<20}\")\n",
        "    except Exception as e:\n",
        "      pass\n",
        "\n",
        "    return"
      ]
    },
    {
      "cell_type": "code",
      "execution_count": null,
      "id": "447b1c3a-22c1-4ae0-bffc-471b51fdfa63",
      "metadata": {
        "id": "447b1c3a-22c1-4ae0-bffc-471b51fdfa63"
      },
      "outputs": [],
      "source": []
    }
  ],
  "metadata": {
    "environment": {
      "kernel": "conda-base-py",
      "name": "workbench-notebooks.m123",
      "type": "gcloud",
      "uri": "us-docker.pkg.dev/deeplearning-platform-release/gcr.io/workbench-notebooks:m123"
    },
    "kernelspec": {
      "display_name": "Python 3 (ipykernel) (Local)",
      "language": "python",
      "name": "conda-base-py"
    },
    "language_info": {
      "codemirror_mode": {
        "name": "ipython",
        "version": 3
      },
      "file_extension": ".py",
      "mimetype": "text/x-python",
      "name": "python",
      "nbconvert_exporter": "python",
      "pygments_lexer": "ipython3",
      "version": "3.10.14"
    },
    "colab": {
      "provenance": []
    }
  },
  "nbformat": 4,
  "nbformat_minor": 5
}