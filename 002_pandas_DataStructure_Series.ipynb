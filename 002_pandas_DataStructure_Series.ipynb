{
 "cells": [
  {
   "cell_type": "markdown",
   "metadata": {
    "id": "mnig1sIFpwpZ"
   },
   "source": [
    "# Pandas DataStructure known as the Series\n",
    "### What is Pandas?\n",
    "#### Pandas is a library used a great deal in the \"Data Science\" community that encapsulates arrays and provides a lot of functionality and  optimization for certain functions.\n",
    "\n",
    "### Would I use Pandas for everything?\n",
    "#### Nope.  Machine learning, see 004_sklearn_pandas_linearRegress_opticsMoorningData, likes single dimensional arrays.\n",
    "#### But I would use Pandas to read, prep, and then marshal data into the structure my machine learning API wants.\n",
    "\n",
    "### Are there other options?\n",
    "\n",
    "+ [Dask](https://www.dask.org/):\n",
    "Provides a Pandas-like API that can handle datasets larger than memory by distributing computations across multiple cores or machines.\n",
    "\n",
    "+ [Polars](https://pola.rs/):\n",
    "A newer library with a focus on performance and memory efficiency, making it excellent for large datasets and complex operations.\n",
    "\n",
    "+ [Xarray](https://docs.xarray.dev/en/stable/): For multi-dimensional labeled arrays, similar to Pandas DataFrames but with additional functionality for handling dimensions.\n",
    "\n",
    "+ [CUPY](https://cupy.dev/): CuPy is an open-source array library for GPU-accelerated computing with Python. CuPy utilizes CUDA Toolkit libraries including cuBLAS, cuRAND, cuSOLVER, cuSPARSE, cuFFT, cuDNN and NCCL to make full use of the GPU architecture.\n",
    "The figure shows CuPy speedup over NumPy. Most operations perform well on a GPU using CuPy out of the box. CuPy speeds up some operations more than 100X."
   ]
  },
  {
   "cell_type": "markdown",
   "metadata": {
    "id": "gB2Lkb3yr56-"
   },
   "source": [
    "### Setup and Install minimally required libraries"
   ]
  },
  {
   "cell_type": "code",
   "execution_count": 1,
   "metadata": {
    "colab": {
     "base_uri": "https://localhost:8080/"
    },
    "executionInfo": {
     "elapsed": 20355,
     "status": "ok",
     "timestamp": 1738696706393,
     "user": {
      "displayName": "",
      "userId": ""
     },
     "user_tz": 360
    },
    "id": "c8bLifzKr-h-",
    "outputId": "f352c9f2-4823-4217-8aed-8b0e09768999"
   },
   "outputs": [
    {
     "name": "stdout",
     "output_type": "stream",
     "text": [
      "Library rich already installed.\n",
      "...attempting to upgrade if appropriate.\n",
      "Looking in indexes: https://pypi.org/simple, https://pypi.ngc.nvidia.com\n",
      "Requirement already satisfied: rich in /home/cwood/anaconda3/envs/aiml/lib/python3.12/site-packages (14.1.0)\n",
      "Requirement already satisfied: markdown-it-py>=2.2.0 in /home/cwood/anaconda3/envs/aiml/lib/python3.12/site-packages (from rich) (3.0.0)\n",
      "Requirement already satisfied: pygments<3.0.0,>=2.13.0 in /home/cwood/anaconda3/envs/aiml/lib/python3.12/site-packages (from rich) (2.19.2)\n",
      "Requirement already satisfied: mdurl~=0.1 in /home/cwood/anaconda3/envs/aiml/lib/python3.12/site-packages (from markdown-it-py>=2.2.0->rich) (0.1.2)\n",
      "Installing library rich[jupyter]\n",
      "Library unidecode already installed.\n",
      "...attempting to upgrade if appropriate.\n",
      "Looking in indexes: https://pypi.org/simple, https://pypi.ngc.nvidia.com\n",
      "Requirement already satisfied: unidecode in /home/cwood/anaconda3/envs/aiml/lib/python3.12/site-packages (1.3.8)\n",
      "Collecting unidecode\n",
      "  Downloading Unidecode-1.4.0-py3-none-any.whl.metadata (13 kB)\n",
      "Downloading Unidecode-1.4.0-py3-none-any.whl (235 kB)\n",
      "Installing collected packages: unidecode\n",
      "  Attempting uninstall: unidecode\n",
      "    Found existing installation: Unidecode 1.3.8\n",
      "    Uninstalling Unidecode-1.3.8:\n",
      "      Successfully uninstalled Unidecode-1.3.8\n",
      "Successfully installed unidecode-1.4.0\n",
      "Library icecream already installed.\n",
      "...attempting to upgrade if appropriate.\n",
      "Looking in indexes: https://pypi.org/simple, https://pypi.ngc.nvidia.com\n",
      "Requirement already satisfied: icecream in /home/cwood/anaconda3/envs/aiml/lib/python3.12/site-packages (2.1.5)\n",
      "Requirement already satisfied: colorama>=0.3.9 in /home/cwood/anaconda3/envs/aiml/lib/python3.12/site-packages (from icecream) (0.4.6)\n",
      "Requirement already satisfied: pygments>=2.2.0 in /home/cwood/anaconda3/envs/aiml/lib/python3.12/site-packages (from icecream) (2.19.2)\n",
      "Requirement already satisfied: executing>=2.1.0 in /home/cwood/anaconda3/envs/aiml/lib/python3.12/site-packages (from icecream) (2.2.0)\n",
      "Requirement already satisfied: asttokens>=2.0.1 in /home/cwood/anaconda3/envs/aiml/lib/python3.12/site-packages (from icecream) (3.0.0)\n",
      "Installing library polars[all]\n"
     ]
    },
    {
     "name": "stderr",
     "output_type": "stream",
     "text": [
      "\u001b[31mERROR: pip's dependency resolver does not currently take into account all the packages that are installed. This behaviour is the source of the following dependency conflicts.\n",
      "cuxfilter-cu12 25.6.0 requires bokeh<=3.6.3,>=3.1, but you have bokeh 3.7.3 which is incompatible.\u001b[0m\u001b[31m\n",
      "\u001b[0m"
     ]
    },
    {
     "name": "stdout",
     "output_type": "stream",
     "text": [
      "Installing library dask[complete]\n",
      "Library xarray already installed.\n",
      "...attempting to upgrade if appropriate.\n",
      "Looking in indexes: https://pypi.org/simple, https://pypi.ngc.nvidia.com\n",
      "Requirement already satisfied: xarray in /home/cwood/anaconda3/envs/aiml/lib/python3.12/site-packages (2025.7.1)\n",
      "Requirement already satisfied: numpy>=1.26 in /home/cwood/anaconda3/envs/aiml/lib/python3.12/site-packages (from xarray) (1.26.4)\n",
      "Requirement already satisfied: packaging>=24.1 in /home/cwood/anaconda3/envs/aiml/lib/python3.12/site-packages (from xarray) (25.0)\n",
      "Requirement already satisfied: pandas>=2.2 in /home/cwood/anaconda3/envs/aiml/lib/python3.12/site-packages (from xarray) (2.2.3)\n",
      "Requirement already satisfied: python-dateutil>=2.8.2 in /home/cwood/anaconda3/envs/aiml/lib/python3.12/site-packages (from pandas>=2.2->xarray) (2.9.0.post0)\n",
      "Requirement already satisfied: pytz>=2020.1 in /home/cwood/anaconda3/envs/aiml/lib/python3.12/site-packages (from pandas>=2.2->xarray) (2025.2)\n",
      "Requirement already satisfied: tzdata>=2022.7 in /home/cwood/anaconda3/envs/aiml/lib/python3.12/site-packages (from pandas>=2.2->xarray) (2025.2)\n",
      "Requirement already satisfied: six>=1.5 in /home/cwood/anaconda3/envs/aiml/lib/python3.12/site-packages (from python-dateutil>=2.8.2->pandas>=2.2->xarray) (1.17.0)\n"
     ]
    }
   ],
   "source": [
    "# Import key libraries necessary to support dynamic installation of additional libraries\n",
    "import sys\n",
    "# Use subprocess to support running operating system commands from the program, using the \"bang\" (!)\n",
    "# symbology is supported, however that does not translate to an actual python script, this is a more\n",
    "# agnostic approach.\n",
    "import subprocess\n",
    "import importlib.util\n",
    "\n",
    "# Identify the libraries you'd like to add to this Runtime environment.\n",
    "libraries=[\"rich\", \"rich[jupyter]\", \"unidecode\", \"icecream\",\n",
    "           \"polars[all]\", \"dask[complete]\", \"xarray\",]\n",
    "\n",
    "# Loop through each library and test for existence, if not present install quietly\n",
    "for library in libraries:\n",
    "    if library == \"Pillow\":\n",
    "      spec = importlib.util.find_spec(\"PIL\")\n",
    "    else:\n",
    "      spec = importlib.util.find_spec(library)\n",
    "    if spec is None:\n",
    "      print(\"Installing library \" + library)\n",
    "      subprocess.run([\"pip\", \"install\" , library, \"--quiet\"], check=True)\n",
    "    else:\n",
    "      print(\"Library \" + library + \" already installed.\")\n",
    "      print(\"...attempting to upgrade if appropriate.\")\n",
    "      try:\n",
    "          subprocess.run([\"pip\", \"install\" , \"--upgrade\",  library,], check=True)\n",
    "      except Exception as e:\n",
    "        print(f\"ERROR: Problem detected while trying to upgrade {library}, ignoring.\")\n",
    "        print(f\"....{e}\")\n",
    "        pass\n"
   ]
  },
  {
   "cell_type": "code",
   "execution_count": 2,
   "metadata": {
    "id": "hX3wRXcApwpg"
   },
   "outputs": [],
   "source": [
    "import numpy as np\n",
    "import pandas as pd\n",
    "import polars as pl\n",
    "import dask as da\n",
    "import xarray as xr\n",
    "from rich import print as rprint\n",
    "from icecream import ic"
   ]
  },
  {
   "cell_type": "markdown",
   "metadata": {
    "id": "XhCSPmhfpwpi"
   },
   "source": [
    "## Quick Pro-tips\n",
    "\n",
    "#### References:\n",
    "\n",
    "+ [Polars Config](https://docs.pola.rs/api/python/stable/reference/config.html)\n",
    "\n",
    "+ [Pandas Config](https://pandas.pydata.org/docs/user_guide/options.html)\n",
    "\n",
    "+ [Dask Config](https://docs.dask.org/en/latest/configuration.html)\n",
    "\n",
    "+ [Xarray Config](https://docs.xarray.dev/en/stable/generated/xarray.set_options.html)"
   ]
  },
  {
   "cell_type": "code",
   "execution_count": 3,
   "metadata": {
    "id": "8PMJ2Vsrpwpj"
   },
   "outputs": [],
   "source": [
    "#library configurations examples using Pandas\n",
    "\n",
    "#show all data returned from the dataset (could be HUGE, be careful)\n",
    "pd.set_option('display.max_rows', None)\n",
    "#or\n",
    "pd.set_option('display.max_rows', 10)\n",
    "\n",
    "#also note that it gets tiring seeing LOTS of floating points\n",
    "pd.options.display.float_format = '{:,.4f}'.format\n",
    "\n",
    "#nump equivalent\n",
    "np.set_printoptions(precision=4)"
   ]
  },
  {
   "cell_type": "markdown",
   "metadata": {
    "id": "lS-l8bC_tTau"
   },
   "source": [
    "## Series\n",
    "\n",
    "### Pandas Series\n",
    "\n",
    "One-dimensional ndarray with axis labels (including time series).\n",
    "\n",
    "Labels need not be unique but must be a hashable type. The object supports both integer- and label-based indexing and provides a host of methods for performing operations involving the index. Statistical methods from ndarray have been overridden to automatically exclude missing data (currently represented as NaN).\n",
    "\n",
    "Reference: https://pandas.pydata.org/docs/reference/api/pandas.Series.html\n",
    "\n",
    "### Polars Series\n",
    "\n",
    "\n",
    "\n",
    "References: https://docs.pola.rs/py-polars/html/reference/series/index.html"
   ]
  },
  {
   "cell_type": "code",
   "execution_count": 4,
   "metadata": {
    "colab": {
     "base_uri": "https://localhost:8080/",
     "height": 915
    },
    "executionInfo": {
     "elapsed": 330,
     "status": "ok",
     "timestamp": 1738696861492,
     "user": {
      "displayName": "",
      "userId": ""
     },
     "user_tz": 360
    },
    "id": "8f9OZEElpwpj",
    "outputId": "23781ab0-394d-4ff1-b256-5c622b6af735"
   },
   "outputs": [
    {
     "data": {
      "text/html": [
       "<pre style=\"white-space:pre;overflow-x:auto;line-height:normal;font-family:Menlo,'DejaVu Sans Mono',consolas,'Courier New',monospace\"><span style=\"color: #008080; text-decoration-color: #008080; font-weight: bold\">0</span>        <span style=\"color: #008080; text-decoration-color: #008080; font-weight: bold\">1</span>\n",
       "<span style=\"color: #008080; text-decoration-color: #008080; font-weight: bold\">1</span>        <span style=\"color: #008080; text-decoration-color: #008080; font-weight: bold\">2</span>\n",
       "<span style=\"color: #008080; text-decoration-color: #008080; font-weight: bold\">2</span>        <span style=\"color: #008080; text-decoration-color: #008080; font-weight: bold\">3</span>\n",
       "<span style=\"color: #008080; text-decoration-color: #008080; font-weight: bold\">3</span>        <span style=\"color: #008080; text-decoration-color: #008080; font-weight: bold\">4</span>\n",
       "<span style=\"color: #008080; text-decoration-color: #008080; font-weight: bold\">4</span>        <span style=\"color: #008080; text-decoration-color: #008080; font-weight: bold\">5</span>\n",
       "      <span style=\"color: #808000; text-decoration-color: #808000\">...</span> \n",
       "<span style=\"color: #008080; text-decoration-color: #008080; font-weight: bold\">7</span>     blue\n",
       "<span style=\"color: #008080; text-decoration-color: #008080; font-weight: bold\">8</span>        <span style=\"color: #008080; text-decoration-color: #008080; font-weight: bold\">6</span>\n",
       "<span style=\"color: #008080; text-decoration-color: #008080; font-weight: bold\">9</span>        <span style=\"color: #008080; text-decoration-color: #008080; font-weight: bold\">7</span>\n",
       "<span style=\"color: #008080; text-decoration-color: #008080; font-weight: bold\">10</span>       <span style=\"color: #008080; text-decoration-color: #008080; font-weight: bold\">8</span>\n",
       "<span style=\"color: #008080; text-decoration-color: #008080; font-weight: bold\">11</span>       <span style=\"color: #008080; text-decoration-color: #008080; font-weight: bold\">9</span>\n",
       "Length: <span style=\"color: #008080; text-decoration-color: #008080; font-weight: bold\">12</span>, dtype: object\n",
       "</pre>\n"
      ],
      "text/plain": [
       "\u001b[1;36m0\u001b[0m        \u001b[1;36m1\u001b[0m\n",
       "\u001b[1;36m1\u001b[0m        \u001b[1;36m2\u001b[0m\n",
       "\u001b[1;36m2\u001b[0m        \u001b[1;36m3\u001b[0m\n",
       "\u001b[1;36m3\u001b[0m        \u001b[1;36m4\u001b[0m\n",
       "\u001b[1;36m4\u001b[0m        \u001b[1;36m5\u001b[0m\n",
       "      \u001b[33m...\u001b[0m \n",
       "\u001b[1;36m7\u001b[0m     blue\n",
       "\u001b[1;36m8\u001b[0m        \u001b[1;36m6\u001b[0m\n",
       "\u001b[1;36m9\u001b[0m        \u001b[1;36m7\u001b[0m\n",
       "\u001b[1;36m10\u001b[0m       \u001b[1;36m8\u001b[0m\n",
       "\u001b[1;36m11\u001b[0m       \u001b[1;36m9\u001b[0m\n",
       "Length: \u001b[1;36m12\u001b[0m, dtype: object\n"
      ]
     },
     "metadata": {},
     "output_type": "display_data"
    },
    {
     "name": "stderr",
     "output_type": "stream",
     "text": [
      "ic| series: 0        1\n",
      "            1        2\n",
      "            2        3\n",
      "            3        4\n",
      "            4        5\n",
      "                  ... \n",
      "            7     blue\n",
      "            8        6\n",
      "            9        7\n",
      "            10       8\n",
      "            11       9\n",
      "            Length: 12, dtype: object\n"
     ]
    },
    {
     "name": "stdout",
     "output_type": "stream",
     "text": [
      "--------------------------------------------------------------------------\n",
      "\n",
      "\n"
     ]
    },
    {
     "data": {
      "text/plain": [
       "0        1\n",
       "1        2\n",
       "2        3\n",
       "3        4\n",
       "4        5\n",
       "      ... \n",
       "7     blue\n",
       "8        6\n",
       "9        7\n",
       "10       8\n",
       "11       9\n",
       "Length: 12, dtype: object"
      ]
     },
     "execution_count": 4,
     "metadata": {},
     "output_type": "execute_result"
    }
   ],
   "source": [
    "#Series is a one-dimensional labeled array capable of holding any data type\n",
    "series = pd.Series([1,2,3,4,5,'red','green','blue',6,7,8,9]);\n",
    "\n",
    "rprint(series)\n",
    "\n",
    "# OR\n",
    "print(\"--------------------------------------------------------------------------\\n\\n\")\n",
    "\n",
    "ic(series)"
   ]
  },
  {
   "cell_type": "code",
   "execution_count": 5,
   "metadata": {
    "colab": {
     "base_uri": "https://localhost:8080/",
     "height": 452
    },
    "executionInfo": {
     "elapsed": 312,
     "status": "ok",
     "timestamp": 1738696972953,
     "user": {
      "displayName": "",
      "userId": ""
     },
     "user_tz": 360
    },
    "id": "0jGGe_wVpwpl",
    "outputId": "0c67033a-637e-4a35-953c-e3f96e82e491"
   },
   "outputs": [
    {
     "name": "stderr",
     "output_type": "stream",
     "text": [
      "ic| 3347101135.py:3 in <module> at 14:26:17.337\n"
     ]
    },
    {
     "data": {
      "text/html": [
       "<pre style=\"white-space:pre;overflow-x:auto;line-height:normal;font-family:Menlo,'DejaVu Sans Mono',consolas,'Courier New',monospace\">\n",
       "\n",
       "</pre>\n"
      ],
      "text/plain": [
       "\n",
       "\n"
      ]
     },
     "metadata": {},
     "output_type": "display_data"
    },
    {
     "data": {
      "text/html": [
       "<pre style=\"white-space:pre;overflow-x:auto;line-height:normal;font-family:Menlo,'DejaVu Sans Mono',consolas,'Courier New',monospace\">a   <span style=\"color: #008080; text-decoration-color: #008080; font-weight: bold\">-0.5790</span>\n",
       "b   <span style=\"color: #008080; text-decoration-color: #008080; font-weight: bold\">-0.8950</span>\n",
       "c    <span style=\"color: #008080; text-decoration-color: #008080; font-weight: bold\">0.8017</span>\n",
       "d    <span style=\"color: #008080; text-decoration-color: #008080; font-weight: bold\">0.1461</span>\n",
       "e   <span style=\"color: #008080; text-decoration-color: #008080; font-weight: bold\">-0.6296</span>\n",
       "dtype: float64\n",
       "</pre>\n"
      ],
      "text/plain": [
       "a   \u001b[1;36m-0.5790\u001b[0m\n",
       "b   \u001b[1;36m-0.8950\u001b[0m\n",
       "c    \u001b[1;36m0.8017\u001b[0m\n",
       "d    \u001b[1;36m0.1461\u001b[0m\n",
       "e   \u001b[1;36m-0.6296\u001b[0m\n",
       "dtype: float64\n"
      ]
     },
     "metadata": {},
     "output_type": "display_data"
    },
    {
     "data": {
      "text/html": [
       "<pre style=\"white-space:pre;overflow-x:auto;line-height:normal;font-family:Menlo,'DejaVu Sans Mono',consolas,'Courier New',monospace\">-------------------------------------------------------------------\n",
       "</pre>\n"
      ],
      "text/plain": [
       "-------------------------------------------------------------------\n"
      ]
     },
     "metadata": {},
     "output_type": "display_data"
    },
    {
     "data": {
      "text/html": [
       "<pre style=\"white-space:pre;overflow-x:auto;line-height:normal;font-family:Menlo,'DejaVu Sans Mono',consolas,'Courier New',monospace\"><span style=\"color: #800080; text-decoration-color: #800080; font-weight: bold\">Index</span><span style=\"font-weight: bold\">([</span><span style=\"color: #008000; text-decoration-color: #008000\">'a'</span>, <span style=\"color: #008000; text-decoration-color: #008000\">'b'</span>, <span style=\"color: #008000; text-decoration-color: #008000\">'c'</span>, <span style=\"color: #008000; text-decoration-color: #008000\">'d'</span>, <span style=\"color: #008000; text-decoration-color: #008000\">'e'</span><span style=\"font-weight: bold\">]</span>, <span style=\"color: #808000; text-decoration-color: #808000\">dtype</span>=<span style=\"color: #008000; text-decoration-color: #008000\">'object'</span><span style=\"font-weight: bold\">)</span>\n",
       "</pre>\n"
      ],
      "text/plain": [
       "\u001b[1;35mIndex\u001b[0m\u001b[1m(\u001b[0m\u001b[1m[\u001b[0m\u001b[32m'a'\u001b[0m, \u001b[32m'b'\u001b[0m, \u001b[32m'c'\u001b[0m, \u001b[32m'd'\u001b[0m, \u001b[32m'e'\u001b[0m\u001b[1m]\u001b[0m, \u001b[33mdtype\u001b[0m=\u001b[32m'object'\u001b[0m\u001b[1m)\u001b[0m\n"
      ]
     },
     "metadata": {},
     "output_type": "display_data"
    },
    {
     "data": {
      "text/html": [
       "<pre style=\"white-space:pre;overflow-x:auto;line-height:normal;font-family:Menlo,'DejaVu Sans Mono',consolas,'Courier New',monospace\">-------------------------------------------------------------------\n",
       "</pre>\n"
      ],
      "text/plain": [
       "-------------------------------------------------------------------\n"
      ]
     },
     "metadata": {},
     "output_type": "display_data"
    },
    {
     "name": "stderr",
     "output_type": "stream",
     "text": [
      "/tmp/ipykernel_53053/3347101135.py:9: FutureWarning: Series.__getitem__ treating keys as positions is deprecated. In a future version, integer keys will always be treated as labels (consistent with DataFrame behavior). To access a value by position, use `ser.iloc[pos]`\n",
      "  rprint(series[0])\n"
     ]
    },
    {
     "data": {
      "text/html": [
       "<pre style=\"white-space:pre;overflow-x:auto;line-height:normal;font-family:Menlo,'DejaVu Sans Mono',consolas,'Courier New',monospace\"><span style=\"color: #008080; text-decoration-color: #008080; font-weight: bold\">-0.579014978576779</span>\n",
       "</pre>\n"
      ],
      "text/plain": [
       "\u001b[1;36m-0.579014978576779\u001b[0m\n"
      ]
     },
     "metadata": {},
     "output_type": "display_data"
    },
    {
     "data": {
      "text/html": [
       "<pre style=\"white-space:pre;overflow-x:auto;line-height:normal;font-family:Menlo,'DejaVu Sans Mono',consolas,'Courier New',monospace\">\n",
       "\n",
       "</pre>\n"
      ],
      "text/plain": [
       "\n",
       "\n"
      ]
     },
     "metadata": {},
     "output_type": "display_data"
    },
    {
     "name": "stderr",
     "output_type": "stream",
     "text": [
      "/tmp/ipykernel_53053/3347101135.py:11: FutureWarning: Series.__getitem__ treating keys as positions is deprecated. In a future version, integer keys will always be treated as labels (consistent with DataFrame behavior). To access a value by position, use `ser.iloc[pos]`\n",
      "  ic(series[0])\n",
      "ic| series[0]: -0.579014978576779\n"
     ]
    },
    {
     "data": {
      "text/html": [
       "<pre style=\"white-space:pre;overflow-x:auto;line-height:normal;font-family:Menlo,'DejaVu Sans Mono',consolas,'Courier New',monospace\">-------------------------------------------------------------------\n",
       "</pre>\n"
      ],
      "text/plain": [
       "-------------------------------------------------------------------\n"
      ]
     },
     "metadata": {},
     "output_type": "display_data"
    },
    {
     "data": {
      "text/html": [
       "<pre style=\"white-space:pre;overflow-x:auto;line-height:normal;font-family:Menlo,'DejaVu Sans Mono',consolas,'Courier New',monospace\">a   <span style=\"color: #008080; text-decoration-color: #008080; font-weight: bold\">-0.5790</span>\n",
       "b   <span style=\"color: #008080; text-decoration-color: #008080; font-weight: bold\">-0.8950</span>\n",
       "c    <span style=\"color: #008080; text-decoration-color: #008080; font-weight: bold\">0.8017</span>\n",
       "d    <span style=\"color: #008080; text-decoration-color: #008080; font-weight: bold\">0.1461</span>\n",
       "e   <span style=\"color: #008080; text-decoration-color: #008080; font-weight: bold\">-0.6296</span>\n",
       "dtype: float64\n",
       "</pre>\n"
      ],
      "text/plain": [
       "a   \u001b[1;36m-0.5790\u001b[0m\n",
       "b   \u001b[1;36m-0.8950\u001b[0m\n",
       "c    \u001b[1;36m0.8017\u001b[0m\n",
       "d    \u001b[1;36m0.1461\u001b[0m\n",
       "e   \u001b[1;36m-0.6296\u001b[0m\n",
       "dtype: float64\n"
      ]
     },
     "metadata": {},
     "output_type": "display_data"
    }
   ],
   "source": [
    "#If data is an ndarray, index must be the same length as data. If no index is passed, one will be created\n",
    "series=pd.Series(np.random.randn(5), index=['a', 'b', 'c', 'd', 'e'])\n",
    "ic()\n",
    "rprint(\"\\n\")\n",
    "rprint(series)\n",
    "rprint(\"-------------------------------------------------------------------\")\n",
    "rprint(series.index)\n",
    "rprint(\"-------------------------------------------------------------------\")\n",
    "rprint(series[0])\n",
    "rprint(\"\\n\")\n",
    "ic(series[0])\n",
    "rprint(\"-------------------------------------------------------------------\")\n",
    "rprint(series[:])"
   ]
  },
  {
   "cell_type": "code",
   "execution_count": 6,
   "metadata": {
    "colab": {
     "base_uri": "https://localhost:8080/",
     "height": 99
    },
    "executionInfo": {
     "elapsed": 9,
     "status": "ok",
     "timestamp": 1738696434652,
     "user": {
      "displayName": "",
      "userId": ""
     },
     "user_tz": 360
    },
    "id": "dbx6Gbqdpwpm",
    "outputId": "1d032ebd-88a6-4f44-f59b-d541bad45c65"
   },
   "outputs": [
    {
     "data": {
      "text/html": [
       "<pre style=\"white-space:pre;overflow-x:auto;line-height:normal;font-family:Menlo,'DejaVu Sans Mono',consolas,'Courier New',monospace\">b    <span style=\"color: #008080; text-decoration-color: #008080; font-weight: bold\">1</span>\n",
       "a    <span style=\"color: #008080; text-decoration-color: #008080; font-weight: bold\">0</span>\n",
       "c    <span style=\"color: #008080; text-decoration-color: #008080; font-weight: bold\">2</span>\n",
       "dtype: int64\n",
       "</pre>\n"
      ],
      "text/plain": [
       "b    \u001b[1;36m1\u001b[0m\n",
       "a    \u001b[1;36m0\u001b[0m\n",
       "c    \u001b[1;36m2\u001b[0m\n",
       "dtype: int64\n"
      ]
     },
     "metadata": {},
     "output_type": "display_data"
    },
    {
     "data": {
      "text/html": [
       "<pre style=\"white-space:pre;overflow-x:auto;line-height:normal;font-family:Menlo,'DejaVu Sans Mono',consolas,'Courier New',monospace\"><span style=\"color: #008080; text-decoration-color: #008080; font-weight: bold\">1</span>\n",
       "</pre>\n"
      ],
      "text/plain": [
       "\u001b[1;36m1\u001b[0m\n"
      ]
     },
     "metadata": {},
     "output_type": "display_data"
    }
   ],
   "source": [
    "#notice that a series can be created from a classic (key=value pair) dictionary\n",
    "d = {'b': 1, 'a': 0, 'c': 2}\n",
    "series=pd.Series(d)\n",
    "rprint(series)\n",
    "rprint(series[\"b\"])"
   ]
  },
  {
   "cell_type": "code",
   "execution_count": 7,
   "metadata": {
    "colab": {
     "base_uri": "https://localhost:8080/",
     "height": 677
    },
    "executionInfo": {
     "elapsed": 162,
     "status": "ok",
     "timestamp": 1738696449235,
     "user": {
      "displayName": "",
      "userId": ""
     },
     "user_tz": 360
    },
    "id": "JzhfrkmMpwpm",
    "outputId": "d2ed10eb-8eb2-4964-dc43-f3f77fb69656"
   },
   "outputs": [
    {
     "data": {
      "text/html": [
       "<pre style=\"white-space:pre;overflow-x:auto;line-height:normal;font-family:Menlo,'DejaVu Sans Mono',consolas,'Courier New',monospace\">Full array\n",
       "</pre>\n"
      ],
      "text/plain": [
       "Full array\n"
      ]
     },
     "metadata": {},
     "output_type": "display_data"
    },
    {
     "data": {
      "text/html": [
       "<pre style=\"white-space:pre;overflow-x:auto;line-height:normal;font-family:Menlo,'DejaVu Sans Mono',consolas,'Courier New',monospace\">################################################################################################################\n",
       "</pre>\n"
      ],
      "text/plain": [
       "################################################################################################################\n"
      ]
     },
     "metadata": {},
     "output_type": "display_data"
    },
    {
     "data": {
      "text/html": [
       "<pre style=\"white-space:pre;overflow-x:auto;line-height:normal;font-family:Menlo,'DejaVu Sans Mono',consolas,'Courier New',monospace\">a    <span style=\"color: #008080; text-decoration-color: #008080; font-weight: bold\">0.3434</span>\n",
       "b   <span style=\"color: #008080; text-decoration-color: #008080; font-weight: bold\">-0.6715</span>\n",
       "c   <span style=\"color: #008080; text-decoration-color: #008080; font-weight: bold\">-1.2033</span>\n",
       "d   <span style=\"color: #008080; text-decoration-color: #008080; font-weight: bold\">-0.8018</span>\n",
       "e   <span style=\"color: #008080; text-decoration-color: #008080; font-weight: bold\">-1.5168</span>\n",
       "dtype: float64\n",
       "</pre>\n"
      ],
      "text/plain": [
       "a    \u001b[1;36m0.3434\u001b[0m\n",
       "b   \u001b[1;36m-0.6715\u001b[0m\n",
       "c   \u001b[1;36m-1.2033\u001b[0m\n",
       "d   \u001b[1;36m-0.8018\u001b[0m\n",
       "e   \u001b[1;36m-1.5168\u001b[0m\n",
       "dtype: float64\n"
      ]
     },
     "metadata": {},
     "output_type": "display_data"
    },
    {
     "data": {
      "text/html": [
       "<pre style=\"white-space:pre;overflow-x:auto;line-height:normal;font-family:Menlo,'DejaVu Sans Mono',consolas,'Courier New',monospace\">################################################################################################################\n",
       "</pre>\n"
      ],
      "text/plain": [
       "################################################################################################################\n"
      ]
     },
     "metadata": {},
     "output_type": "display_data"
    },
    {
     "data": {
      "text/html": [
       "<pre style=\"white-space:pre;overflow-x:auto;line-height:normal;font-family:Menlo,'DejaVu Sans Mono',consolas,'Courier New',monospace\">\n",
       "</pre>\n"
      ],
      "text/plain": [
       "\n"
      ]
     },
     "metadata": {},
     "output_type": "display_data"
    },
    {
     "data": {
      "text/html": [
       "<pre style=\"white-space:pre;overflow-x:auto;line-height:normal;font-family:Menlo,'DejaVu Sans Mono',consolas,'Courier New',monospace\">Just the first index\n",
       "</pre>\n"
      ],
      "text/plain": [
       "Just the first index\n"
      ]
     },
     "metadata": {},
     "output_type": "display_data"
    },
    {
     "data": {
      "text/html": [
       "<pre style=\"white-space:pre;overflow-x:auto;line-height:normal;font-family:Menlo,'DejaVu Sans Mono',consolas,'Courier New',monospace\">    When directly indexed the <span style=\"color: #008000; text-decoration-color: #008000\">'index'</span> is not included.\n",
       "</pre>\n"
      ],
      "text/plain": [
       "    When directly indexed the \u001b[32m'index'\u001b[0m is not included.\n"
      ]
     },
     "metadata": {},
     "output_type": "display_data"
    },
    {
     "data": {
      "text/html": [
       "<pre style=\"white-space:pre;overflow-x:auto;line-height:normal;font-family:Menlo,'DejaVu Sans Mono',consolas,'Courier New',monospace\">################################################################################################################\n",
       "</pre>\n"
      ],
      "text/plain": [
       "################################################################################################################\n"
      ]
     },
     "metadata": {},
     "output_type": "display_data"
    },
    {
     "name": "stderr",
     "output_type": "stream",
     "text": [
      "/tmp/ipykernel_53053/633805544.py:12: FutureWarning: Series.__getitem__ treating keys as positions is deprecated. In a future version, integer keys will always be treated as labels (consistent with DataFrame behavior). To access a value by position, use `ser.iloc[pos]`\n",
      "  rprint(series[0])\n"
     ]
    },
    {
     "data": {
      "text/html": [
       "<pre style=\"white-space:pre;overflow-x:auto;line-height:normal;font-family:Menlo,'DejaVu Sans Mono',consolas,'Courier New',monospace\"><span style=\"color: #008080; text-decoration-color: #008080; font-weight: bold\">0.34336867691850104</span>\n",
       "</pre>\n"
      ],
      "text/plain": [
       "\u001b[1;36m0.34336867691850104\u001b[0m\n"
      ]
     },
     "metadata": {},
     "output_type": "display_data"
    },
    {
     "data": {
      "text/html": [
       "<pre style=\"white-space:pre;overflow-x:auto;line-height:normal;font-family:Menlo,'DejaVu Sans Mono',consolas,'Courier New',monospace\">\n",
       "</pre>\n"
      ],
      "text/plain": [
       "\n"
      ]
     },
     "metadata": {},
     "output_type": "display_data"
    },
    {
     "data": {
      "text/html": [
       "<pre style=\"white-space:pre;overflow-x:auto;line-height:normal;font-family:Menlo,'DejaVu Sans Mono',consolas,'Courier New',monospace\"> All values up to element #<span style=\"color: #008080; text-decoration-color: #008080; font-weight: bold\">3</span>\n",
       "</pre>\n"
      ],
      "text/plain": [
       " All values up to element #\u001b[1;36m3\u001b[0m\n"
      ]
     },
     "metadata": {},
     "output_type": "display_data"
    },
    {
     "data": {
      "text/html": [
       "<pre style=\"white-space:pre;overflow-x:auto;line-height:normal;font-family:Menlo,'DejaVu Sans Mono',consolas,'Courier New',monospace\">################################################################################################################\n",
       "</pre>\n"
      ],
      "text/plain": [
       "################################################################################################################\n"
      ]
     },
     "metadata": {},
     "output_type": "display_data"
    },
    {
     "data": {
      "text/html": [
       "<pre style=\"white-space:pre;overflow-x:auto;line-height:normal;font-family:Menlo,'DejaVu Sans Mono',consolas,'Courier New',monospace\">a    <span style=\"color: #008080; text-decoration-color: #008080; font-weight: bold\">0.3434</span>\n",
       "b   <span style=\"color: #008080; text-decoration-color: #008080; font-weight: bold\">-0.6715</span>\n",
       "c   <span style=\"color: #008080; text-decoration-color: #008080; font-weight: bold\">-1.2033</span>\n",
       "dtype: float64\n",
       "</pre>\n"
      ],
      "text/plain": [
       "a    \u001b[1;36m0.3434\u001b[0m\n",
       "b   \u001b[1;36m-0.6715\u001b[0m\n",
       "c   \u001b[1;36m-1.2033\u001b[0m\n",
       "dtype: float64\n"
      ]
     },
     "metadata": {},
     "output_type": "display_data"
    },
    {
     "data": {
      "text/html": [
       "<pre style=\"white-space:pre;overflow-x:auto;line-height:normal;font-family:Menlo,'DejaVu Sans Mono',consolas,'Courier New',monospace\">\n",
       "</pre>\n"
      ],
      "text/plain": [
       "\n"
      ]
     },
     "metadata": {},
     "output_type": "display_data"
    },
    {
     "data": {
      "text/html": [
       "<pre style=\"white-space:pre;overflow-x:auto;line-height:normal;font-family:Menlo,'DejaVu Sans Mono',consolas,'Courier New',monospace\">Only those values greater than the median\n",
       "</pre>\n"
      ],
      "text/plain": [
       "Only those values greater than the median\n"
      ]
     },
     "metadata": {},
     "output_type": "display_data"
    },
    {
     "data": {
      "text/html": [
       "<pre style=\"white-space:pre;overflow-x:auto;line-height:normal;font-family:Menlo,'DejaVu Sans Mono',consolas,'Courier New',monospace\">################################################################################################################\n",
       "</pre>\n"
      ],
      "text/plain": [
       "################################################################################################################\n"
      ]
     },
     "metadata": {},
     "output_type": "display_data"
    },
    {
     "data": {
      "text/html": [
       "<pre style=\"white-space:pre;overflow-x:auto;line-height:normal;font-family:Menlo,'DejaVu Sans Mono',consolas,'Courier New',monospace\">a    <span style=\"color: #008080; text-decoration-color: #008080; font-weight: bold\">0.3434</span>\n",
       "b   <span style=\"color: #008080; text-decoration-color: #008080; font-weight: bold\">-0.6715</span>\n",
       "dtype: float64\n",
       "</pre>\n"
      ],
      "text/plain": [
       "a    \u001b[1;36m0.3434\u001b[0m\n",
       "b   \u001b[1;36m-0.6715\u001b[0m\n",
       "dtype: float64\n"
      ]
     },
     "metadata": {},
     "output_type": "display_data"
    },
    {
     "data": {
      "text/html": [
       "<pre style=\"white-space:pre;overflow-x:auto;line-height:normal;font-family:Menlo,'DejaVu Sans Mono',consolas,'Courier New',monospace\">\n",
       "</pre>\n"
      ],
      "text/plain": [
       "\n"
      ]
     },
     "metadata": {},
     "output_type": "display_data"
    },
    {
     "data": {
      "text/html": [
       "<pre style=\"white-space:pre;overflow-x:auto;line-height:normal;font-family:Menlo,'DejaVu Sans Mono',consolas,'Courier New',monospace\">Integrate with numpy and calculate the exponent, notice Numpy integration\n",
       "</pre>\n"
      ],
      "text/plain": [
       "Integrate with numpy and calculate the exponent, notice Numpy integration\n"
      ]
     },
     "metadata": {},
     "output_type": "display_data"
    },
    {
     "data": {
      "text/html": [
       "<pre style=\"white-space:pre;overflow-x:auto;line-height:normal;font-family:Menlo,'DejaVu Sans Mono',consolas,'Courier New',monospace\">################################################################################################################\n",
       "</pre>\n"
      ],
      "text/plain": [
       "################################################################################################################\n"
      ]
     },
     "metadata": {},
     "output_type": "display_data"
    },
    {
     "data": {
      "text/html": [
       "<pre style=\"white-space:pre;overflow-x:auto;line-height:normal;font-family:Menlo,'DejaVu Sans Mono',consolas,'Courier New',monospace\">a   <span style=\"color: #008080; text-decoration-color: #008080; font-weight: bold\">1.4097</span>\n",
       "b   <span style=\"color: #008080; text-decoration-color: #008080; font-weight: bold\">0.5110</span>\n",
       "c   <span style=\"color: #008080; text-decoration-color: #008080; font-weight: bold\">0.3002</span>\n",
       "d   <span style=\"color: #008080; text-decoration-color: #008080; font-weight: bold\">0.4485</span>\n",
       "e   <span style=\"color: #008080; text-decoration-color: #008080; font-weight: bold\">0.2194</span>\n",
       "dtype: float64\n",
       "</pre>\n"
      ],
      "text/plain": [
       "a   \u001b[1;36m1.4097\u001b[0m\n",
       "b   \u001b[1;36m0.5110\u001b[0m\n",
       "c   \u001b[1;36m0.3002\u001b[0m\n",
       "d   \u001b[1;36m0.4485\u001b[0m\n",
       "e   \u001b[1;36m0.2194\u001b[0m\n",
       "dtype: float64\n"
      ]
     },
     "metadata": {},
     "output_type": "display_data"
    }
   ],
   "source": [
    "#Series acts very similarly to a ndarray, and is a valid argument to most NumPy functions. However, operations such as slicing will also slice the index.\n",
    "#If data is an ndarray, index must be the same length as data. If no index is passed, one will be created\n",
    "series=pd.Series(np.random.randn(5), index=['a', 'b', 'c', 'd', 'e'])\n",
    "rprint(\"Full array\")\n",
    "rprint(\"################################################################################################################\")\n",
    "rprint(series)\n",
    "rprint(\"################################################################################################################\")\n",
    "rprint(\"\")\n",
    "rprint (\"Just the first index\")\n",
    "rprint(\"    When directly indexed the 'index' is not included.\")\n",
    "rprint(\"################################################################################################################\")\n",
    "rprint(series[0])\n",
    "rprint(\"\")\n",
    "\n",
    "rprint(\" All values up to element #3\")\n",
    "rprint(\"################################################################################################################\")\n",
    "rprint(series[:3])\n",
    "rprint(\"\")\n",
    "\n",
    "rprint (\"Only those values greater than the median\")\n",
    "rprint(\"################################################################################################################\")\n",
    "rprint(series[series > series.median()])\n",
    "rprint(\"\")\n",
    "\n",
    "rprint(\"Integrate with numpy and calculate the exponent, notice Numpy integration\")\n",
    "rprint(\"################################################################################################################\")\n",
    "rprint(np.exp(series))"
   ]
  },
  {
   "cell_type": "code",
   "execution_count": 8,
   "metadata": {
    "colab": {
     "base_uri": "https://localhost:8080/",
     "height": 33
    },
    "executionInfo": {
     "elapsed": 251,
     "status": "ok",
     "timestamp": 1738696468855,
     "user": {
      "displayName": "",
      "userId": ""
     },
     "user_tz": 360
    },
    "id": "DBl48bfXpwpn",
    "outputId": "0c36deeb-5eea-4053-ed5d-05cfba1ce474"
   },
   "outputs": [
    {
     "data": {
      "text/html": [
       "<pre style=\"white-space:pre;overflow-x:auto;line-height:normal;font-family:Menlo,'DejaVu Sans Mono',consolas,'Courier New',monospace\">float64\n",
       "</pre>\n"
      ],
      "text/plain": [
       "float64\n"
      ]
     },
     "metadata": {},
     "output_type": "display_data"
    }
   ],
   "source": [
    "#Series data type operations\n",
    "rprint(series.dtype)"
   ]
  },
  {
   "cell_type": "code",
   "execution_count": 9,
   "metadata": {
    "colab": {
     "base_uri": "https://localhost:8080/",
     "height": 312
    },
    "executionInfo": {
     "elapsed": 171,
     "status": "ok",
     "timestamp": 1738696482680,
     "user": {
      "displayName": "",
      "userId": ""
     },
     "user_tz": 360
    },
    "id": "kGMtcwnmpwpo",
    "outputId": "baca8e8f-850f-437b-e48e-45d3e511f7f2"
   },
   "outputs": [
    {
     "data": {
      "text/html": [
       "<pre style=\"white-space:pre;overflow-x:auto;line-height:normal;font-family:Menlo,'DejaVu Sans Mono',consolas,'Courier New',monospace\">Dump the contents of the Series into a single dimensional Numpy array.\n",
       "</pre>\n"
      ],
      "text/plain": [
       "Dump the contents of the Series into a single dimensional Numpy array.\n"
      ]
     },
     "metadata": {},
     "output_type": "display_data"
    },
    {
     "data": {
      "text/html": [
       "<pre style=\"white-space:pre;overflow-x:auto;line-height:normal;font-family:Menlo,'DejaVu Sans Mono',consolas,'Courier New',monospace\">###############################################################################################\n",
       "</pre>\n"
      ],
      "text/plain": [
       "###############################################################################################\n"
      ]
     },
     "metadata": {},
     "output_type": "display_data"
    },
    {
     "data": {
      "text/html": [
       "<pre style=\"white-space:pre;overflow-x:auto;line-height:normal;font-family:Menlo,'DejaVu Sans Mono',consolas,'Courier New',monospace\"><span style=\"font-weight: bold\">[</span> <span style=\"color: #008080; text-decoration-color: #008080; font-weight: bold\">0.3434</span> <span style=\"color: #008080; text-decoration-color: #008080; font-weight: bold\">-0.6715</span> <span style=\"color: #008080; text-decoration-color: #008080; font-weight: bold\">-1.2033</span> <span style=\"color: #008080; text-decoration-color: #008080; font-weight: bold\">-0.8018</span> <span style=\"color: #008080; text-decoration-color: #008080; font-weight: bold\">-1.5168</span><span style=\"font-weight: bold\">]</span>\n",
       "</pre>\n"
      ],
      "text/plain": [
       "\u001b[1m[\u001b[0m \u001b[1;36m0.3434\u001b[0m \u001b[1;36m-0.6715\u001b[0m \u001b[1;36m-1.2033\u001b[0m \u001b[1;36m-0.8018\u001b[0m \u001b[1;36m-1.5168\u001b[0m\u001b[1m]\u001b[0m\n"
      ]
     },
     "metadata": {},
     "output_type": "display_data"
    },
    {
     "data": {
      "text/html": [
       "<pre style=\"white-space:pre;overflow-x:auto;line-height:normal;font-family:Menlo,'DejaVu Sans Mono',consolas,'Courier New',monospace\">\n",
       "</pre>\n"
      ],
      "text/plain": [
       "\n"
      ]
     },
     "metadata": {},
     "output_type": "display_data"
    },
    {
     "data": {
      "text/html": [
       "<pre style=\"white-space:pre;overflow-x:auto;line-height:normal;font-family:Menlo,'DejaVu Sans Mono',consolas,'Courier New',monospace\">My series dimensions are:  <span style=\"color: #008080; text-decoration-color: #008080; font-weight: bold\">1</span>\n",
       "</pre>\n"
      ],
      "text/plain": [
       "My series dimensions are:  \u001b[1;36m1\u001b[0m\n"
      ]
     },
     "metadata": {},
     "output_type": "display_data"
    },
    {
     "data": {
      "text/html": [
       "<pre style=\"white-space:pre;overflow-x:auto;line-height:normal;font-family:Menlo,'DejaVu Sans Mono',consolas,'Courier New',monospace\">My series size is: <span style=\"color: #008080; text-decoration-color: #008080; font-weight: bold\">5</span>\n",
       "</pre>\n"
      ],
      "text/plain": [
       "My series size is: \u001b[1;36m5\u001b[0m\n"
      ]
     },
     "metadata": {},
     "output_type": "display_data"
    },
    {
     "data": {
      "text/html": [
       "<pre style=\"white-space:pre;overflow-x:auto;line-height:normal;font-family:Menlo,'DejaVu Sans Mono',consolas,'Courier New',monospace\">My series shape is:\n",
       "<span style=\"font-weight: bold\">(</span><span style=\"color: #008080; text-decoration-color: #008080; font-weight: bold\">5</span>,<span style=\"font-weight: bold\">)</span>\n",
       "</pre>\n"
      ],
      "text/plain": [
       "My series shape is:\n",
       "\u001b[1m(\u001b[0m\u001b[1;36m5\u001b[0m,\u001b[1m)\u001b[0m\n"
      ]
     },
     "metadata": {},
     "output_type": "display_data"
    },
    {
     "data": {
      "text/html": [
       "<pre style=\"white-space:pre;overflow-x:auto;line-height:normal;font-family:Menlo,'DejaVu Sans Mono',consolas,'Courier New',monospace\">\n",
       "</pre>\n"
      ],
      "text/plain": [
       "\n"
      ]
     },
     "metadata": {},
     "output_type": "display_data"
    },
    {
     "data": {
      "text/html": [
       "<pre style=\"white-space:pre;overflow-x:auto;line-height:normal;font-family:Menlo,'DejaVu Sans Mono',consolas,'Courier New',monospace\">###############################################################################################\n",
       "</pre>\n"
      ],
      "text/plain": [
       "###############################################################################################\n"
      ]
     },
     "metadata": {},
     "output_type": "display_data"
    },
    {
     "data": {
      "text/html": [
       "<pre style=\"white-space:pre;overflow-x:auto;line-height:normal;font-family:Menlo,'DejaVu Sans Mono',consolas,'Courier New',monospace\">My array dimensions are:  <span style=\"color: #008080; text-decoration-color: #008080; font-weight: bold\">1</span>\n",
       "</pre>\n"
      ],
      "text/plain": [
       "My array dimensions are:  \u001b[1;36m1\u001b[0m\n"
      ]
     },
     "metadata": {},
     "output_type": "display_data"
    },
    {
     "data": {
      "text/html": [
       "<pre style=\"white-space:pre;overflow-x:auto;line-height:normal;font-family:Menlo,'DejaVu Sans Mono',consolas,'Courier New',monospace\">My array size is: <span style=\"color: #008080; text-decoration-color: #008080; font-weight: bold\">5</span>\n",
       "</pre>\n"
      ],
      "text/plain": [
       "My array size is: \u001b[1;36m5\u001b[0m\n"
      ]
     },
     "metadata": {},
     "output_type": "display_data"
    },
    {
     "data": {
      "text/html": [
       "<pre style=\"white-space:pre;overflow-x:auto;line-height:normal;font-family:Menlo,'DejaVu Sans Mono',consolas,'Courier New',monospace\">My array shape is:\n",
       "<span style=\"font-weight: bold\">(</span><span style=\"color: #008080; text-decoration-color: #008080; font-weight: bold\">5</span>,<span style=\"font-weight: bold\">)</span>\n",
       "</pre>\n"
      ],
      "text/plain": [
       "My array shape is:\n",
       "\u001b[1m(\u001b[0m\u001b[1;36m5\u001b[0m,\u001b[1m)\u001b[0m\n"
      ]
     },
     "metadata": {},
     "output_type": "display_data"
    },
    {
     "data": {
      "text/html": [
       "<pre style=\"white-space:pre;overflow-x:auto;line-height:normal;font-family:Menlo,'DejaVu Sans Mono',consolas,'Courier New',monospace\">\n",
       "</pre>\n"
      ],
      "text/plain": [
       "\n"
      ]
     },
     "metadata": {},
     "output_type": "display_data"
    },
    {
     "data": {
      "text/html": [
       "<pre style=\"white-space:pre;overflow-x:auto;line-height:normal;font-family:Menlo,'DejaVu Sans Mono',consolas,'Courier New',monospace\">###############################################################################################\n",
       "</pre>\n"
      ],
      "text/plain": [
       "###############################################################################################\n"
      ]
     },
     "metadata": {},
     "output_type": "display_data"
    },
    {
     "data": {
      "text/html": [
       "<pre style=\"white-space:pre;overflow-x:auto;line-height:normal;font-family:Menlo,'DejaVu Sans Mono',consolas,'Courier New',monospace\"><span style=\"color: #008080; text-decoration-color: #008080; font-weight: bold\">0.34336867691850104</span>\n",
       "</pre>\n"
      ],
      "text/plain": [
       "\u001b[1;36m0.34336867691850104\u001b[0m\n"
      ]
     },
     "metadata": {},
     "output_type": "display_data"
    },
    {
     "data": {
      "text/html": [
       "<pre style=\"white-space:pre;overflow-x:auto;line-height:normal;font-family:Menlo,'DejaVu Sans Mono',consolas,'Courier New',monospace\"><span style=\"color: #008080; text-decoration-color: #008080; font-weight: bold\">-0.6714687939527944</span>\n",
       "</pre>\n"
      ],
      "text/plain": [
       "\u001b[1;36m-0.6714687939527944\u001b[0m\n"
      ]
     },
     "metadata": {},
     "output_type": "display_data"
    },
    {
     "data": {
      "text/html": [
       "<pre style=\"white-space:pre;overflow-x:auto;line-height:normal;font-family:Menlo,'DejaVu Sans Mono',consolas,'Courier New',monospace\"><span style=\"color: #008080; text-decoration-color: #008080; font-weight: bold\">-1.2033344755270896</span>\n",
       "</pre>\n"
      ],
      "text/plain": [
       "\u001b[1;36m-1.2033344755270896\u001b[0m\n"
      ]
     },
     "metadata": {},
     "output_type": "display_data"
    },
    {
     "data": {
      "text/html": [
       "<pre style=\"white-space:pre;overflow-x:auto;line-height:normal;font-family:Menlo,'DejaVu Sans Mono',consolas,'Courier New',monospace\"><span style=\"color: #008080; text-decoration-color: #008080; font-weight: bold\">-0.8018440821489149</span>\n",
       "</pre>\n"
      ],
      "text/plain": [
       "\u001b[1;36m-0.8018440821489149\u001b[0m\n"
      ]
     },
     "metadata": {},
     "output_type": "display_data"
    },
    {
     "data": {
      "text/html": [
       "<pre style=\"white-space:pre;overflow-x:auto;line-height:normal;font-family:Menlo,'DejaVu Sans Mono',consolas,'Courier New',monospace\"><span style=\"color: #008080; text-decoration-color: #008080; font-weight: bold\">-1.5168185407783492</span>\n",
       "</pre>\n"
      ],
      "text/plain": [
       "\u001b[1;36m-1.5168185407783492\u001b[0m\n"
      ]
     },
     "metadata": {},
     "output_type": "display_data"
    }
   ],
   "source": [
    "#Get the actual array in a series, maybe for direct manipulation\n",
    "rprint(\"Dump the contents of the Series into a single dimensional Numpy array.\")\n",
    "rprint(\"###############################################################################################\")\n",
    "rprint(series.values)\n",
    "rprint(\"\")\n",
    "rprint(\"My series dimensions are: \",series.ndim)\n",
    "rprint(\"My series size is:\", series.size)\n",
    "rprint(\"My series shape is:\", series.shape)\n",
    "rprint(\"\")\n",
    "rprint(\"###############################################################################################\")\n",
    "my_array=series.values\n",
    "rprint(\"My array dimensions are: \",my_array.ndim)\n",
    "rprint(\"My array size is:\", my_array.size)\n",
    "rprint(\"My array shape is:\", my_array.shape)\n",
    "\n",
    "rprint(\"\")\n",
    "rprint(\"###############################################################################################\")\n",
    "#traditional Python for loop\n",
    "for idx in range(0,my_array.size):\n",
    "    rprint(my_array[idx]);"
   ]
  },
  {
   "cell_type": "code",
   "execution_count": 10,
   "metadata": {
    "colab": {
     "base_uri": "https://localhost:8080/",
     "height": 201
    },
    "executionInfo": {
     "elapsed": 177,
     "status": "ok",
     "timestamp": 1738696518057,
     "user": {
      "displayName": "",
      "userId": ""
     },
     "user_tz": 360
    },
    "id": "zssMowhtpwpo",
    "outputId": "f9688bcf-40fe-4da1-af1c-97a579085bd7"
   },
   "outputs": [
    {
     "data": {
      "text/html": [
       "<div><svg style=\"position: absolute; width: 0; height: 0; overflow: hidden\">\n",
       "<defs>\n",
       "<symbol id=\"icon-database\" viewBox=\"0 0 32 32\">\n",
       "<path d=\"M16 0c-8.837 0-16 2.239-16 5v4c0 2.761 7.163 5 16 5s16-2.239 16-5v-4c0-2.761-7.163-5-16-5z\"></path>\n",
       "<path d=\"M16 17c-8.837 0-16-2.239-16-5v6c0 2.761 7.163 5 16 5s16-2.239 16-5v-6c0 2.761-7.163 5-16 5z\"></path>\n",
       "<path d=\"M16 26c-8.837 0-16-2.239-16-5v6c0 2.761 7.163 5 16 5s16-2.239 16-5v-6c0 2.761-7.163 5-16 5z\"></path>\n",
       "</symbol>\n",
       "<symbol id=\"icon-file-text2\" viewBox=\"0 0 32 32\">\n",
       "<path d=\"M28.681 7.159c-0.694-0.947-1.662-2.053-2.724-3.116s-2.169-2.030-3.116-2.724c-1.612-1.182-2.393-1.319-2.841-1.319h-15.5c-1.378 0-2.5 1.121-2.5 2.5v27c0 1.378 1.122 2.5 2.5 2.5h23c1.378 0 2.5-1.122 2.5-2.5v-19.5c0-0.448-0.137-1.23-1.319-2.841zM24.543 5.457c0.959 0.959 1.712 1.825 2.268 2.543h-4.811v-4.811c0.718 0.556 1.584 1.309 2.543 2.268zM28 29.5c0 0.271-0.229 0.5-0.5 0.5h-23c-0.271 0-0.5-0.229-0.5-0.5v-27c0-0.271 0.229-0.5 0.5-0.5 0 0 15.499-0 15.5 0v7c0 0.552 0.448 1 1 1h7v19.5z\"></path>\n",
       "<path d=\"M23 26h-14c-0.552 0-1-0.448-1-1s0.448-1 1-1h14c0.552 0 1 0.448 1 1s-0.448 1-1 1z\"></path>\n",
       "<path d=\"M23 22h-14c-0.552 0-1-0.448-1-1s0.448-1 1-1h14c0.552 0 1 0.448 1 1s-0.448 1-1 1z\"></path>\n",
       "<path d=\"M23 18h-14c-0.552 0-1-0.448-1-1s0.448-1 1-1h14c0.552 0 1 0.448 1 1s-0.448 1-1 1z\"></path>\n",
       "</symbol>\n",
       "</defs>\n",
       "</svg>\n",
       "<style>/* CSS stylesheet for displaying xarray objects in jupyterlab.\n",
       " *\n",
       " */\n",
       "\n",
       ":root {\n",
       "  --xr-font-color0: var(\n",
       "    --jp-content-font-color0,\n",
       "    var(--pst-color-text-base rgba(0, 0, 0, 1))\n",
       "  );\n",
       "  --xr-font-color2: var(\n",
       "    --jp-content-font-color2,\n",
       "    var(--pst-color-text-base, rgba(0, 0, 0, 0.54))\n",
       "  );\n",
       "  --xr-font-color3: var(\n",
       "    --jp-content-font-color3,\n",
       "    var(--pst-color-text-base, rgba(0, 0, 0, 0.38))\n",
       "  );\n",
       "  --xr-border-color: var(\n",
       "    --jp-border-color2,\n",
       "    hsl(from var(--pst-color-on-background, white) h s calc(l - 10))\n",
       "  );\n",
       "  --xr-disabled-color: var(\n",
       "    --jp-layout-color3,\n",
       "    hsl(from var(--pst-color-on-background, white) h s calc(l - 40))\n",
       "  );\n",
       "  --xr-background-color: var(\n",
       "    --jp-layout-color0,\n",
       "    var(--pst-color-on-background, white)\n",
       "  );\n",
       "  --xr-background-color-row-even: var(\n",
       "    --jp-layout-color1,\n",
       "    hsl(from var(--pst-color-on-background, white) h s calc(l - 5))\n",
       "  );\n",
       "  --xr-background-color-row-odd: var(\n",
       "    --jp-layout-color2,\n",
       "    hsl(from var(--pst-color-on-background, white) h s calc(l - 15))\n",
       "  );\n",
       "}\n",
       "\n",
       "html[theme=\"dark\"],\n",
       "html[data-theme=\"dark\"],\n",
       "body[data-theme=\"dark\"],\n",
       "body.vscode-dark {\n",
       "  --xr-font-color0: var(\n",
       "    --jp-content-font-color0,\n",
       "    var(--pst-color-text-base, rgba(255, 255, 255, 1))\n",
       "  );\n",
       "  --xr-font-color2: var(\n",
       "    --jp-content-font-color2,\n",
       "    var(--pst-color-text-base, rgba(255, 255, 255, 0.54))\n",
       "  );\n",
       "  --xr-font-color3: var(\n",
       "    --jp-content-font-color3,\n",
       "    var(--pst-color-text-base, rgba(255, 255, 255, 0.38))\n",
       "  );\n",
       "  --xr-border-color: var(\n",
       "    --jp-border-color2,\n",
       "    hsl(from var(--pst-color-on-background, #111111) h s calc(l + 10))\n",
       "  );\n",
       "  --xr-disabled-color: var(\n",
       "    --jp-layout-color3,\n",
       "    hsl(from var(--pst-color-on-background, #111111) h s calc(l + 40))\n",
       "  );\n",
       "  --xr-background-color: var(\n",
       "    --jp-layout-color0,\n",
       "    var(--pst-color-on-background, #111111)\n",
       "  );\n",
       "  --xr-background-color-row-even: var(\n",
       "    --jp-layout-color1,\n",
       "    hsl(from var(--pst-color-on-background, #111111) h s calc(l + 5))\n",
       "  );\n",
       "  --xr-background-color-row-odd: var(\n",
       "    --jp-layout-color2,\n",
       "    hsl(from var(--pst-color-on-background, #111111) h s calc(l + 15))\n",
       "  );\n",
       "}\n",
       "\n",
       ".xr-wrap {\n",
       "  display: block !important;\n",
       "  min-width: 300px;\n",
       "  max-width: 700px;\n",
       "}\n",
       "\n",
       ".xr-text-repr-fallback {\n",
       "  /* fallback to plain text repr when CSS is not injected (untrusted notebook) */\n",
       "  display: none;\n",
       "}\n",
       "\n",
       ".xr-header {\n",
       "  padding-top: 6px;\n",
       "  padding-bottom: 6px;\n",
       "  margin-bottom: 4px;\n",
       "  border-bottom: solid 1px var(--xr-border-color);\n",
       "}\n",
       "\n",
       ".xr-header > div,\n",
       ".xr-header > ul {\n",
       "  display: inline;\n",
       "  margin-top: 0;\n",
       "  margin-bottom: 0;\n",
       "}\n",
       "\n",
       ".xr-obj-type,\n",
       ".xr-array-name {\n",
       "  margin-left: 2px;\n",
       "  margin-right: 10px;\n",
       "}\n",
       "\n",
       ".xr-obj-type {\n",
       "  color: var(--xr-font-color2);\n",
       "}\n",
       "\n",
       ".xr-sections {\n",
       "  padding-left: 0 !important;\n",
       "  display: grid;\n",
       "  grid-template-columns: 150px auto auto 1fr 0 20px 0 20px;\n",
       "}\n",
       "\n",
       ".xr-section-item {\n",
       "  display: contents;\n",
       "}\n",
       "\n",
       ".xr-section-item input {\n",
       "  display: inline-block;\n",
       "  opacity: 0;\n",
       "  height: 0;\n",
       "}\n",
       "\n",
       ".xr-section-item input + label {\n",
       "  color: var(--xr-disabled-color);\n",
       "  border: 2px solid transparent !important;\n",
       "}\n",
       "\n",
       ".xr-section-item input:enabled + label {\n",
       "  cursor: pointer;\n",
       "  color: var(--xr-font-color2);\n",
       "}\n",
       "\n",
       ".xr-section-item input:focus + label {\n",
       "  border: 2px solid var(--xr-font-color0) !important;\n",
       "}\n",
       "\n",
       ".xr-section-item input:enabled + label:hover {\n",
       "  color: var(--xr-font-color0);\n",
       "}\n",
       "\n",
       ".xr-section-summary {\n",
       "  grid-column: 1;\n",
       "  color: var(--xr-font-color2);\n",
       "  font-weight: 500;\n",
       "}\n",
       "\n",
       ".xr-section-summary > span {\n",
       "  display: inline-block;\n",
       "  padding-left: 0.5em;\n",
       "}\n",
       "\n",
       ".xr-section-summary-in:disabled + label {\n",
       "  color: var(--xr-font-color2);\n",
       "}\n",
       "\n",
       ".xr-section-summary-in + label:before {\n",
       "  display: inline-block;\n",
       "  content: \"►\";\n",
       "  font-size: 11px;\n",
       "  width: 15px;\n",
       "  text-align: center;\n",
       "}\n",
       "\n",
       ".xr-section-summary-in:disabled + label:before {\n",
       "  color: var(--xr-disabled-color);\n",
       "}\n",
       "\n",
       ".xr-section-summary-in:checked + label:before {\n",
       "  content: \"▼\";\n",
       "}\n",
       "\n",
       ".xr-section-summary-in:checked + label > span {\n",
       "  display: none;\n",
       "}\n",
       "\n",
       ".xr-section-summary,\n",
       ".xr-section-inline-details {\n",
       "  padding-top: 4px;\n",
       "  padding-bottom: 4px;\n",
       "}\n",
       "\n",
       ".xr-section-inline-details {\n",
       "  grid-column: 2 / -1;\n",
       "}\n",
       "\n",
       ".xr-section-details {\n",
       "  display: none;\n",
       "  grid-column: 1 / -1;\n",
       "  margin-bottom: 5px;\n",
       "}\n",
       "\n",
       ".xr-section-summary-in:checked ~ .xr-section-details {\n",
       "  display: contents;\n",
       "}\n",
       "\n",
       ".xr-array-wrap {\n",
       "  grid-column: 1 / -1;\n",
       "  display: grid;\n",
       "  grid-template-columns: 20px auto;\n",
       "}\n",
       "\n",
       ".xr-array-wrap > label {\n",
       "  grid-column: 1;\n",
       "  vertical-align: top;\n",
       "}\n",
       "\n",
       ".xr-preview {\n",
       "  color: var(--xr-font-color3);\n",
       "}\n",
       "\n",
       ".xr-array-preview,\n",
       ".xr-array-data {\n",
       "  padding: 0 5px !important;\n",
       "  grid-column: 2;\n",
       "}\n",
       "\n",
       ".xr-array-data,\n",
       ".xr-array-in:checked ~ .xr-array-preview {\n",
       "  display: none;\n",
       "}\n",
       "\n",
       ".xr-array-in:checked ~ .xr-array-data,\n",
       ".xr-array-preview {\n",
       "  display: inline-block;\n",
       "}\n",
       "\n",
       ".xr-dim-list {\n",
       "  display: inline-block !important;\n",
       "  list-style: none;\n",
       "  padding: 0 !important;\n",
       "  margin: 0;\n",
       "}\n",
       "\n",
       ".xr-dim-list li {\n",
       "  display: inline-block;\n",
       "  padding: 0;\n",
       "  margin: 0;\n",
       "}\n",
       "\n",
       ".xr-dim-list:before {\n",
       "  content: \"(\";\n",
       "}\n",
       "\n",
       ".xr-dim-list:after {\n",
       "  content: \")\";\n",
       "}\n",
       "\n",
       ".xr-dim-list li:not(:last-child):after {\n",
       "  content: \",\";\n",
       "  padding-right: 5px;\n",
       "}\n",
       "\n",
       ".xr-has-index {\n",
       "  font-weight: bold;\n",
       "}\n",
       "\n",
       ".xr-var-list,\n",
       ".xr-var-item {\n",
       "  display: contents;\n",
       "}\n",
       "\n",
       ".xr-var-item > div,\n",
       ".xr-var-item label,\n",
       ".xr-var-item > .xr-var-name span {\n",
       "  background-color: var(--xr-background-color-row-even);\n",
       "  border-color: var(--xr-background-color-row-odd);\n",
       "  margin-bottom: 0;\n",
       "  padding-top: 2px;\n",
       "}\n",
       "\n",
       ".xr-var-item > .xr-var-name:hover span {\n",
       "  padding-right: 5px;\n",
       "}\n",
       "\n",
       ".xr-var-list > li:nth-child(odd) > div,\n",
       ".xr-var-list > li:nth-child(odd) > label,\n",
       ".xr-var-list > li:nth-child(odd) > .xr-var-name span {\n",
       "  background-color: var(--xr-background-color-row-odd);\n",
       "  border-color: var(--xr-background-color-row-even);\n",
       "}\n",
       "\n",
       ".xr-var-name {\n",
       "  grid-column: 1;\n",
       "}\n",
       "\n",
       ".xr-var-dims {\n",
       "  grid-column: 2;\n",
       "}\n",
       "\n",
       ".xr-var-dtype {\n",
       "  grid-column: 3;\n",
       "  text-align: right;\n",
       "  color: var(--xr-font-color2);\n",
       "}\n",
       "\n",
       ".xr-var-preview {\n",
       "  grid-column: 4;\n",
       "}\n",
       "\n",
       ".xr-index-preview {\n",
       "  grid-column: 2 / 5;\n",
       "  color: var(--xr-font-color2);\n",
       "}\n",
       "\n",
       ".xr-var-name,\n",
       ".xr-var-dims,\n",
       ".xr-var-dtype,\n",
       ".xr-preview,\n",
       ".xr-attrs dt {\n",
       "  white-space: nowrap;\n",
       "  overflow: hidden;\n",
       "  text-overflow: ellipsis;\n",
       "  padding-right: 10px;\n",
       "}\n",
       "\n",
       ".xr-var-name:hover,\n",
       ".xr-var-dims:hover,\n",
       ".xr-var-dtype:hover,\n",
       ".xr-attrs dt:hover {\n",
       "  overflow: visible;\n",
       "  width: auto;\n",
       "  z-index: 1;\n",
       "}\n",
       "\n",
       ".xr-var-attrs,\n",
       ".xr-var-data,\n",
       ".xr-index-data {\n",
       "  display: none;\n",
       "  border-top: 2px dotted var(--xr-background-color);\n",
       "  padding-bottom: 20px !important;\n",
       "  padding-top: 10px !important;\n",
       "}\n",
       "\n",
       ".xr-var-attrs-in + label,\n",
       ".xr-var-data-in + label,\n",
       ".xr-index-data-in + label {\n",
       "  padding: 0 1px;\n",
       "}\n",
       "\n",
       ".xr-var-attrs-in:checked ~ .xr-var-attrs,\n",
       ".xr-var-data-in:checked ~ .xr-var-data,\n",
       ".xr-index-data-in:checked ~ .xr-index-data {\n",
       "  display: block;\n",
       "}\n",
       "\n",
       ".xr-var-data > table {\n",
       "  float: right;\n",
       "}\n",
       "\n",
       ".xr-var-data > pre,\n",
       ".xr-index-data > pre,\n",
       ".xr-var-data > table > tbody > tr {\n",
       "  background-color: transparent !important;\n",
       "}\n",
       "\n",
       ".xr-var-name span,\n",
       ".xr-var-data,\n",
       ".xr-index-name div,\n",
       ".xr-index-data,\n",
       ".xr-attrs {\n",
       "  padding-left: 25px !important;\n",
       "}\n",
       "\n",
       ".xr-attrs,\n",
       ".xr-var-attrs,\n",
       ".xr-var-data,\n",
       ".xr-index-data {\n",
       "  grid-column: 1 / -1;\n",
       "}\n",
       "\n",
       "dl.xr-attrs {\n",
       "  padding: 0;\n",
       "  margin: 0;\n",
       "  display: grid;\n",
       "  grid-template-columns: 125px auto;\n",
       "}\n",
       "\n",
       ".xr-attrs dt,\n",
       ".xr-attrs dd {\n",
       "  padding: 0;\n",
       "  margin: 0;\n",
       "  float: left;\n",
       "  padding-right: 10px;\n",
       "  width: auto;\n",
       "}\n",
       "\n",
       ".xr-attrs dt {\n",
       "  font-weight: normal;\n",
       "  grid-column: 1;\n",
       "}\n",
       "\n",
       ".xr-attrs dt:hover span {\n",
       "  display: inline-block;\n",
       "  background: var(--xr-background-color);\n",
       "  padding-right: 10px;\n",
       "}\n",
       "\n",
       ".xr-attrs dd {\n",
       "  grid-column: 2;\n",
       "  white-space: pre-wrap;\n",
       "  word-break: break-all;\n",
       "}\n",
       "\n",
       ".xr-icon-database,\n",
       ".xr-icon-file-text2,\n",
       ".xr-no-icon {\n",
       "  display: inline-block;\n",
       "  vertical-align: middle;\n",
       "  width: 1em;\n",
       "  height: 1.5em !important;\n",
       "  stroke-width: 0;\n",
       "  stroke: currentColor;\n",
       "  fill: currentColor;\n",
       "}\n",
       "\n",
       ".xr-var-attrs-in:checked + label > .xr-icon-file-text2,\n",
       ".xr-var-data-in:checked + label > .xr-icon-database,\n",
       ".xr-index-data-in:checked + label > .xr-icon-database {\n",
       "  color: var(--xr-font-color0);\n",
       "  filter: drop-shadow(1px 1px 5px var(--xr-font-color2));\n",
       "  stroke-width: 0.8px;\n",
       "}\n",
       "</style><pre class='xr-text-repr-fallback'>&lt;xarray.DataArray (index: 5)&gt; Size: 40B\n",
       "array([ 0.3434, -0.6715, -1.2033, -0.8018, -1.5168])\n",
       "Coordinates:\n",
       "  * index    (index) object 40B &#x27;a&#x27; &#x27;b&#x27; &#x27;c&#x27; &#x27;d&#x27; &#x27;e&#x27;</pre><div class='xr-wrap' style='display:none'><div class='xr-header'><div class='xr-obj-type'>xarray.DataArray</div><div class='xr-array-name'></div><ul class='xr-dim-list'><li><span class='xr-has-index'>index</span>: 5</li></ul></div><ul class='xr-sections'><li class='xr-section-item'><div class='xr-array-wrap'><input id='section-e29ca64d-aa3f-4962-8c50-5d0db52400ed' class='xr-array-in' type='checkbox' checked><label for='section-e29ca64d-aa3f-4962-8c50-5d0db52400ed' title='Show/hide data repr'><svg class='icon xr-icon-database'><use xlink:href='#icon-database'></use></svg></label><div class='xr-array-preview xr-preview'><span>0.3434 -0.6715 -1.203 -0.8018 -1.517</span></div><div class='xr-array-data'><pre>array([ 0.3434, -0.6715, -1.2033, -0.8018, -1.5168])</pre></div></div></li><li class='xr-section-item'><input id='section-62c14b22-3b2c-40b0-8858-cca9e35f0284' class='xr-section-summary-in' type='checkbox'  checked><label for='section-62c14b22-3b2c-40b0-8858-cca9e35f0284' class='xr-section-summary' >Coordinates: <span>(1)</span></label><div class='xr-section-inline-details'></div><div class='xr-section-details'><ul class='xr-var-list'><li class='xr-var-item'><div class='xr-var-name'><span class='xr-has-index'>index</span></div><div class='xr-var-dims'>(index)</div><div class='xr-var-dtype'>object</div><div class='xr-var-preview xr-preview'>&#x27;a&#x27; &#x27;b&#x27; &#x27;c&#x27; &#x27;d&#x27; &#x27;e&#x27;</div><input id='attrs-1d2fa2d4-e947-4365-a847-dbb931788704' class='xr-var-attrs-in' type='checkbox' disabled><label for='attrs-1d2fa2d4-e947-4365-a847-dbb931788704' title='Show/Hide attributes'><svg class='icon xr-icon-file-text2'><use xlink:href='#icon-file-text2'></use></svg></label><input id='data-40ae65a2-d250-4e58-8c41-567b1f90f792' class='xr-var-data-in' type='checkbox'><label for='data-40ae65a2-d250-4e58-8c41-567b1f90f792' title='Show/Hide data repr'><svg class='icon xr-icon-database'><use xlink:href='#icon-database'></use></svg></label><div class='xr-var-attrs'><dl class='xr-attrs'></dl></div><div class='xr-var-data'><pre>array([&#x27;a&#x27;, &#x27;b&#x27;, &#x27;c&#x27;, &#x27;d&#x27;, &#x27;e&#x27;], dtype=object)</pre></div></li></ul></div></li><li class='xr-section-item'><input id='section-b46b3855-3ec3-4350-b24e-f3693a713a75' class='xr-section-summary-in' type='checkbox'  ><label for='section-b46b3855-3ec3-4350-b24e-f3693a713a75' class='xr-section-summary' >Indexes: <span>(1)</span></label><div class='xr-section-inline-details'></div><div class='xr-section-details'><ul class='xr-var-list'><li class='xr-var-item'><div class='xr-index-name'><div>index</div></div><div class='xr-index-preview'>PandasIndex</div><input type='checkbox' disabled/><label></label><input id='index-07d6eec7-21fa-42a5-a5e8-98920c9fb7e6' class='xr-index-data-in' type='checkbox'/><label for='index-07d6eec7-21fa-42a5-a5e8-98920c9fb7e6' title='Show/Hide index repr'><svg class='icon xr-icon-database'><use xlink:href='#icon-database'></use></svg></label><div class='xr-index-data'><pre>PandasIndex(Index([&#x27;a&#x27;, &#x27;b&#x27;, &#x27;c&#x27;, &#x27;d&#x27;, &#x27;e&#x27;], dtype=&#x27;object&#x27;, name=&#x27;index&#x27;))</pre></div></li></ul></div></li><li class='xr-section-item'><input id='section-4af5a519-c1d3-457b-acd8-b8045779051b' class='xr-section-summary-in' type='checkbox' disabled ><label for='section-4af5a519-c1d3-457b-acd8-b8045779051b' class='xr-section-summary'  title='Expand/collapse section'>Attributes: <span>(0)</span></label><div class='xr-section-inline-details'></div><div class='xr-section-details'><dl class='xr-attrs'></dl></div></li></ul></div></div>"
      ],
      "text/plain": [
       "<xarray.DataArray (index: 5)> Size: 40B\n",
       "array([ 0.3434, -0.6715, -1.2033, -0.8018, -1.5168])\n",
       "Coordinates:\n",
       "  * index    (index) object 40B 'a' 'b' 'c' 'd' 'e'"
      ]
     },
     "execution_count": 10,
     "metadata": {},
     "output_type": "execute_result"
    }
   ],
   "source": [
    "#now actually store the series in an xarray\n",
    "my_xarray=series.to_xarray()\n",
    "my_xarray"
   ]
  },
  {
   "cell_type": "code",
   "execution_count": 11,
   "metadata": {
    "colab": {
     "base_uri": "https://localhost:8080/",
     "height": 115
    },
    "executionInfo": {
     "elapsed": 7,
     "status": "ok",
     "timestamp": 1738696526379,
     "user": {
      "displayName": "",
      "userId": ""
     },
     "user_tz": 360
    },
    "id": "AANhxBEKpwpo",
    "outputId": "aa59ee63-1130-466f-9ad9-af815573e94e"
   },
   "outputs": [
    {
     "data": {
      "text/html": [
       "<pre style=\"white-space:pre;overflow-x:auto;line-height:normal;font-family:Menlo,'DejaVu Sans Mono',consolas,'Courier New',monospace\">Key <span style=\"color: #008000; text-decoration-color: #008000\">'a'</span> access: <span style=\"color: #008080; text-decoration-color: #008080; font-weight: bold\">0.34336867691850104</span>\n",
       "</pre>\n"
      ],
      "text/plain": [
       "Key \u001b[32m'a'\u001b[0m access: \u001b[1;36m0.34336867691850104\u001b[0m\n"
      ]
     },
     "metadata": {},
     "output_type": "display_data"
    },
    {
     "data": {
      "text/html": [
       "<pre style=\"white-space:pre;overflow-x:auto;line-height:normal;font-family:Menlo,'DejaVu Sans Mono',consolas,'Courier New',monospace\">\n",
       "</pre>\n"
      ],
      "text/plain": [
       "\n"
      ]
     },
     "metadata": {},
     "output_type": "display_data"
    },
    {
     "data": {
      "text/html": [
       "<pre style=\"white-space:pre;overflow-x:auto;line-height:normal;font-family:Menlo,'DejaVu Sans Mono',consolas,'Courier New',monospace\">Example of a bad key request for <span style=\"color: #008000; text-decoration-color: #008000\">'z'</span> with a check: <span style=\"color: #ff0000; text-decoration-color: #ff0000; font-style: italic\">False</span>\n",
       "</pre>\n"
      ],
      "text/plain": [
       "Example of a bad key request for \u001b[32m'z'\u001b[0m with a check: \u001b[3;91mFalse\u001b[0m\n"
      ]
     },
     "metadata": {},
     "output_type": "display_data"
    },
    {
     "data": {
      "text/html": [
       "<pre style=\"white-space:pre;overflow-x:auto;line-height:normal;font-family:Menlo,'DejaVu Sans Mono',consolas,'Courier New',monospace\">\n",
       "</pre>\n"
      ],
      "text/plain": [
       "\n"
      ]
     },
     "metadata": {},
     "output_type": "display_data"
    },
    {
     "data": {
      "text/html": [
       "<pre style=\"white-space:pre;overflow-x:auto;line-height:normal;font-family:Menlo,'DejaVu Sans Mono',consolas,'Courier New',monospace\">or\n",
       "</pre>\n"
      ],
      "text/plain": [
       "or\n"
      ]
     },
     "metadata": {},
     "output_type": "display_data"
    },
    {
     "data": {
      "text/html": [
       "<pre style=\"white-space:pre;overflow-x:auto;line-height:normal;font-family:Menlo,'DejaVu Sans Mono',consolas,'Courier New',monospace\">\n",
       "</pre>\n"
      ],
      "text/plain": [
       "\n"
      ]
     },
     "metadata": {},
     "output_type": "display_data"
    },
    {
     "data": {
      "text/html": [
       "<pre style=\"white-space:pre;overflow-x:auto;line-height:normal;font-family:Menlo,'DejaVu Sans Mono',consolas,'Courier New',monospace\">Key <span style=\"color: #008000; text-decoration-color: #008000\">'z'</span> access with a .get: <span style=\"color: #800080; text-decoration-color: #800080; font-style: italic\">None</span>\n",
       "</pre>\n"
      ],
      "text/plain": [
       "Key \u001b[32m'z'\u001b[0m access with a .get: \u001b[3;35mNone\u001b[0m\n"
      ]
     },
     "metadata": {},
     "output_type": "display_data"
    },
    {
     "data": {
      "text/html": [
       "<pre style=\"white-space:pre;overflow-x:auto;line-height:normal;font-family:Menlo,'DejaVu Sans Mono',consolas,'Courier New',monospace\">\n",
       "</pre>\n"
      ],
      "text/plain": [
       "\n"
      ]
     },
     "metadata": {},
     "output_type": "display_data"
    },
    {
     "data": {
      "text/html": [
       "<pre style=\"white-space:pre;overflow-x:auto;line-height:normal;font-family:Menlo,'DejaVu Sans Mono',consolas,'Courier New',monospace\">or perhaps more elegant\n",
       "</pre>\n"
      ],
      "text/plain": [
       "or perhaps more elegant\n"
      ]
     },
     "metadata": {},
     "output_type": "display_data"
    },
    {
     "data": {
      "text/html": [
       "<pre style=\"white-space:pre;overflow-x:auto;line-height:normal;font-family:Menlo,'DejaVu Sans Mono',consolas,'Courier New',monospace\">\n",
       "</pre>\n"
      ],
      "text/plain": [
       "\n"
      ]
     },
     "metadata": {},
     "output_type": "display_data"
    },
    {
     "data": {
      "text/html": [
       "<pre style=\"white-space:pre;overflow-x:auto;line-height:normal;font-family:Menlo,'DejaVu Sans Mono',consolas,'Courier New',monospace\">Key <span style=\"color: #008000; text-decoration-color: #008000\">'z'</span> access with a .get and return for failure: Not found\n",
       "</pre>\n"
      ],
      "text/plain": [
       "Key \u001b[32m'z'\u001b[0m access with a .get and return for failure: Not found\n"
      ]
     },
     "metadata": {},
     "output_type": "display_data"
    }
   ],
   "source": [
    "#dictionary type structure example\n",
    "rprint(\"Key 'a' access:\",series['a'])\n",
    "rprint(\"\")\n",
    "rprint(\"Example of a bad key request for 'z' with a check:\", 'z' in series)\n",
    "rprint(\"\")\n",
    "rprint (\"or\")\n",
    "rprint(\"\")\n",
    "rprint (\"Key 'z' access with a .get:\", series.get('z'))\n",
    "rprint(\"\")\n",
    "rprint (\"or perhaps more elegant\")\n",
    "rprint(\"\")\n",
    "rprint(\"Key 'z' access with a .get and return for failure:\", series.get('z','Not found'))\n"
   ]
  },
  {
   "cell_type": "code",
   "execution_count": 12,
   "metadata": {
    "colab": {
     "base_uri": "https://localhost:8080/",
     "height": 262
    },
    "executionInfo": {
     "elapsed": 6,
     "status": "ok",
     "timestamp": 1738696537986,
     "user": {
      "displayName": "",
      "userId": ""
     },
     "user_tz": 360
    },
    "id": "7ReYyWMNpwpp",
    "outputId": "581185b4-8ba1-4e79-80d3-5f4a8adb2e8c"
   },
   "outputs": [
    {
     "data": {
      "text/html": [
       "<pre style=\"white-space:pre;overflow-x:auto;line-height:normal;font-family:Menlo,'DejaVu Sans Mono',consolas,'Courier New',monospace\">Series added to itself:\n",
       " a    <span style=\"color: #008080; text-decoration-color: #008080; font-weight: bold\">0.6867</span>\n",
       "b   <span style=\"color: #008080; text-decoration-color: #008080; font-weight: bold\">-1.3429</span>\n",
       "c   <span style=\"color: #008080; text-decoration-color: #008080; font-weight: bold\">-2.4067</span>\n",
       "d   <span style=\"color: #008080; text-decoration-color: #008080; font-weight: bold\">-1.6037</span>\n",
       "e   <span style=\"color: #008080; text-decoration-color: #008080; font-weight: bold\">-3.0336</span>\n",
       "dtype: float64\n",
       "</pre>\n"
      ],
      "text/plain": [
       "Series added to itself:\n",
       " a    \u001b[1;36m0.6867\u001b[0m\n",
       "b   \u001b[1;36m-1.3429\u001b[0m\n",
       "c   \u001b[1;36m-2.4067\u001b[0m\n",
       "d   \u001b[1;36m-1.6037\u001b[0m\n",
       "e   \u001b[1;36m-3.0336\u001b[0m\n",
       "dtype: float64\n"
      ]
     },
     "metadata": {},
     "output_type": "display_data"
    },
    {
     "data": {
      "text/html": [
       "<pre style=\"white-space:pre;overflow-x:auto;line-height:normal;font-family:Menlo,'DejaVu Sans Mono',consolas,'Courier New',monospace\">###############################################################################################\n",
       "</pre>\n"
      ],
      "text/plain": [
       "###############################################################################################\n"
      ]
     },
     "metadata": {},
     "output_type": "display_data"
    },
    {
     "data": {
      "text/html": [
       "<pre style=\"white-space:pre;overflow-x:auto;line-height:normal;font-family:Menlo,'DejaVu Sans Mono',consolas,'Courier New',monospace\">\n",
       "</pre>\n"
      ],
      "text/plain": [
       "\n"
      ]
     },
     "metadata": {},
     "output_type": "display_data"
    },
    {
     "data": {
      "text/html": [
       "<pre style=\"white-space:pre;overflow-x:auto;line-height:normal;font-family:Menlo,'DejaVu Sans Mono',consolas,'Courier New',monospace\">Series multiplied by <span style=\"color: #008080; text-decoration-color: #008080; font-weight: bold\">2</span>:\n",
       " a    <span style=\"color: #008080; text-decoration-color: #008080; font-weight: bold\">0.6867</span>\n",
       "b   <span style=\"color: #008080; text-decoration-color: #008080; font-weight: bold\">-1.3429</span>\n",
       "c   <span style=\"color: #008080; text-decoration-color: #008080; font-weight: bold\">-2.4067</span>\n",
       "d   <span style=\"color: #008080; text-decoration-color: #008080; font-weight: bold\">-1.6037</span>\n",
       "e   <span style=\"color: #008080; text-decoration-color: #008080; font-weight: bold\">-3.0336</span>\n",
       "dtype: float64\n",
       "</pre>\n"
      ],
      "text/plain": [
       "Series multiplied by \u001b[1;36m2\u001b[0m:\n",
       " a    \u001b[1;36m0.6867\u001b[0m\n",
       "b   \u001b[1;36m-1.3429\u001b[0m\n",
       "c   \u001b[1;36m-2.4067\u001b[0m\n",
       "d   \u001b[1;36m-1.6037\u001b[0m\n",
       "e   \u001b[1;36m-3.0336\u001b[0m\n",
       "dtype: float64\n"
      ]
     },
     "metadata": {},
     "output_type": "display_data"
    }
   ],
   "source": [
    "#vector manipulations\n",
    "add_series=series+series\n",
    "rprint(\"Series added to itself:\\n\", add_series)\n",
    "\n",
    "rprint(\"###############################################################################################\")\n",
    "\n",
    "multiply_series=series * 2\n",
    "rprint(\"\")\n",
    "rprint(\"Series multiplied by 2:\\n\", multiply_series)\n"
   ]
  },
  {
   "cell_type": "code",
   "execution_count": 13,
   "metadata": {
    "colab": {
     "base_uri": "https://localhost:8080/",
     "height": 99
    },
    "executionInfo": {
     "elapsed": 5,
     "status": "ok",
     "timestamp": 1738696543541,
     "user": {
      "displayName": "",
      "userId": ""
     },
     "user_tz": 360
    },
    "id": "T6r1LFtVpwpp",
    "outputId": "c998ad9b-e397-4f2c-ffeb-c26fa1b95c95"
   },
   "outputs": [
    {
     "data": {
      "text/html": [
       "<pre style=\"white-space:pre;overflow-x:auto;line-height:normal;font-family:Menlo,'DejaVu Sans Mono',consolas,'Courier New',monospace\">Name your data\n",
       "</pre>\n"
      ],
      "text/plain": [
       "Name your data\n"
      ]
     },
     "metadata": {},
     "output_type": "display_data"
    },
    {
     "data": {
      "text/html": [
       "<pre style=\"white-space:pre;overflow-x:auto;line-height:normal;font-family:Menlo,'DejaVu Sans Mono',consolas,'Courier New',monospace\">###############################################################################################\n",
       "</pre>\n"
      ],
      "text/plain": [
       "###############################################################################################\n"
      ]
     },
     "metadata": {},
     "output_type": "display_data"
    },
    {
     "data": {
      "text/html": [
       "<pre style=\"white-space:pre;overflow-x:auto;line-height:normal;font-family:Menlo,'DejaVu Sans Mono',consolas,'Courier New',monospace\"><span style=\"color: #800080; text-decoration-color: #800080; font-style: italic\">None</span>\n",
       "</pre>\n"
      ],
      "text/plain": [
       "\u001b[3;35mNone\u001b[0m\n"
      ]
     },
     "metadata": {},
     "output_type": "display_data"
    },
    {
     "data": {
      "text/html": [
       "<pre style=\"white-space:pre;overflow-x:auto;line-height:normal;font-family:Menlo,'DejaVu Sans Mono',consolas,'Courier New',monospace\">or\n",
       "</pre>\n"
      ],
      "text/plain": [
       "or\n"
      ]
     },
     "metadata": {},
     "output_type": "display_data"
    },
    {
     "data": {
      "text/html": [
       "<pre style=\"white-space:pre;overflow-x:auto;line-height:normal;font-family:Menlo,'DejaVu Sans Mono',consolas,'Courier New',monospace\">My Example Series\n",
       "</pre>\n"
      ],
      "text/plain": [
       "My Example Series\n"
      ]
     },
     "metadata": {},
     "output_type": "display_data"
    }
   ],
   "source": [
    "#Series attribution\n",
    "rprint(\"Name your data\")\n",
    "rprint(\"###############################################################################################\")\n",
    "rprint(series.name)\n",
    "rprint(\"or\")\n",
    "series2 = series.rename(\"My Example Series\")\n",
    "rprint(series2.name)"
   ]
  }
 ],
 "metadata": {
  "colab": {
   "name": "002_pandas_DataStructure_Series.ipynb",
   "provenance": []
  },
  "kernelspec": {
   "display_name": "Python 3 (ipykernel)",
   "language": "python",
   "name": "python3"
  },
  "language_info": {
   "codemirror_mode": {
    "name": "ipython",
    "version": 3
   },
   "file_extension": ".py",
   "mimetype": "text/x-python",
   "name": "python",
   "nbconvert_exporter": "python",
   "pygments_lexer": "ipython3",
   "version": "3.12.11"
  }
 },
 "nbformat": 4,
 "nbformat_minor": 4
}
