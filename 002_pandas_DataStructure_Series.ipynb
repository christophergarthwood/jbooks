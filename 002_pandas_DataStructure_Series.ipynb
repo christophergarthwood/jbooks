{
  "cells": [
    {
      "cell_type": "markdown",
      "metadata": {
        "id": "mnig1sIFpwpZ"
      },
      "source": [
        "# Pandas DataStructure known as the Series\n",
        "### What is Pandas?\n",
        "#### Pandas is a library used a great deal in the \"Data Science\" community that encapsulates arrays and provides a lot of functionality and  optimization for certain functions.\n",
        "\n",
        "### Would I use Pandas for everything?\n",
        "#### Nope.  Machine learning, see 004_sklearn_pandas_linearRegress_opticsMoorningData, likes single dimensional arrays.\n",
        "#### But I would use Pandas to read, prep, and then marshal data into the structure my machine learning API wants.\n",
        "\n",
        "### Are there other options?\n",
        "\n",
        "+ [Dask](https://www.dask.org/):\n",
        "Provides a Pandas-like API that can handle datasets larger than memory by distributing computations across multiple cores or machines.\n",
        "\n",
        "+ [Polars](https://pola.rs/):\n",
        "A newer library with a focus on performance and memory efficiency, making it excellent for large datasets and complex operations.\n",
        "\n",
        "+ [Xarray](https://docs.xarray.dev/en/stable/): For multi-dimensional labeled arrays, similar to Pandas DataFrames but with additional functionality for handling dimensions.\n",
        "\n",
        "+ [CUPY](https://cupy.dev/): CuPy is an open-source array library for GPU-accelerated computing with Python. CuPy utilizes CUDA Toolkit libraries including cuBLAS, cuRAND, cuSOLVER, cuSPARSE, cuFFT, cuDNN and NCCL to make full use of the GPU architecture.\n",
        "The figure shows CuPy speedup over NumPy. Most operations perform well on a GPU using CuPy out of the box. CuPy speeds up some operations more than 100X."
      ]
    },
    {
      "cell_type": "markdown",
      "source": [
        "### Setup and Install minimally required libraries"
      ],
      "metadata": {
        "id": "gB2Lkb3yr56-"
      }
    },
    {
      "cell_type": "code",
      "source": [
        "# Import key libraries necessary to support dynamic installation of additional libraries\n",
        "import sys\n",
        "# Use subprocess to support running operating system commands from the program, using the \"bang\" (!)\n",
        "# symbology is supported, however that does not translate to an actual python script, this is a more\n",
        "# agnostic approach.\n",
        "import subprocess\n",
        "import importlib.util\n",
        "\n",
        "# Identify the libraries you'd like to add to this Runtime environment.\n",
        "libraries=[\"rich\", \"rich[jupyter]\", \"unidecode\", \"icecream\",\n",
        "           \"polars[all]\", \"dask[complete]\", \"xarray\",]\n",
        "\n",
        "# Loop through each library and test for existence, if not present install quietly\n",
        "for library in libraries:\n",
        "    if library == \"Pillow\":\n",
        "      spec = importlib.util.find_spec(\"PIL\")\n",
        "    else:\n",
        "      spec = importlib.util.find_spec(library)\n",
        "    if spec is None:\n",
        "      print(\"Installing library \" + library)\n",
        "      subprocess.run([\"pip\", \"install\" , library, \"--quiet\"], check=True)\n",
        "    else:\n",
        "      print(\"Library \" + library + \" already installed.\")"
      ],
      "metadata": {
        "colab": {
          "base_uri": "https://localhost:8080/"
        },
        "id": "c8bLifzKr-h-",
        "outputId": "f352c9f2-4823-4217-8aed-8b0e09768999",
        "executionInfo": {
          "status": "ok",
          "timestamp": 1738696706393,
          "user_tz": 360,
          "elapsed": 20355,
          "user": {
            "displayName": "",
            "userId": ""
          }
        }
      },
      "execution_count": null,
      "outputs": [
        {
          "output_type": "stream",
          "name": "stdout",
          "text": [
            "Library rich already installed.\n",
            "Installing library rich[jupyter]\n",
            "Library unidecode already installed.\n",
            "Installing library icecream\n",
            "Installing library polars[all]\n",
            "Installing library dask[complete]\n",
            "Library xarray already installed.\n"
          ]
        }
      ]
    },
    {
      "cell_type": "code",
      "execution_count": null,
      "metadata": {
        "id": "hX3wRXcApwpg"
      },
      "outputs": [],
      "source": [
        "import numpy as np\n",
        "import pandas as pd\n",
        "import polars as pl\n",
        "import dask as da\n",
        "import xarray as xr\n",
        "from rich import print as rprint\n",
        "from icecream import ic"
      ]
    },
    {
      "cell_type": "markdown",
      "metadata": {
        "id": "XhCSPmhfpwpi"
      },
      "source": [
        "## Quick Pro-tips\n",
        "\n",
        "#### References:\n",
        "\n",
        "+ [Polars Config](https://docs.pola.rs/api/python/stable/reference/config.html)\n",
        "\n",
        "+ [Pandas Config](https://pandas.pydata.org/docs/user_guide/options.html)\n",
        "\n",
        "+ [Dask Config](https://docs.dask.org/en/latest/configuration.html)\n",
        "\n",
        "+ [Xarray Config](https://docs.xarray.dev/en/stable/generated/xarray.set_options.html)"
      ]
    },
    {
      "cell_type": "code",
      "execution_count": null,
      "metadata": {
        "id": "8PMJ2Vsrpwpj"
      },
      "outputs": [],
      "source": [
        "#library configurations examples using Pandas\n",
        "\n",
        "#show all data returned from the dataset (could be HUGE, be careful)\n",
        "pd.set_option('display.max_rows', None)\n",
        "#or\n",
        "pd.set_option('display.max_rows', 10)\n",
        "\n",
        "#also note that it gets tiring seeing LOTS of floating points\n",
        "pd.options.display.float_format = '{:,.4f}'.format\n",
        "\n",
        "#nump equivalent\n",
        "np.set_printoptions(precision=4)"
      ]
    },
    {
      "cell_type": "markdown",
      "source": [
        "## Series\n",
        "\n",
        "### Pandas Series\n",
        "\n",
        "One-dimensional ndarray with axis labels (including time series).\n",
        "\n",
        "Labels need not be unique but must be a hashable type. The object supports both integer- and label-based indexing and provides a host of methods for performing operations involving the index. Statistical methods from ndarray have been overridden to automatically exclude missing data (currently represented as NaN).\n",
        "\n",
        "Reference: https://pandas.pydata.org/docs/reference/api/pandas.Series.html\n",
        "\n",
        "### Polars Series\n",
        "\n",
        "\n",
        "\n",
        "References: https://docs.pola.rs/py-polars/html/reference/series/index.html"
      ],
      "metadata": {
        "id": "lS-l8bC_tTau"
      }
    },
    {
      "cell_type": "code",
      "execution_count": null,
      "metadata": {
        "id": "8f9OZEElpwpj",
        "outputId": "23781ab0-394d-4ff1-b256-5c622b6af735",
        "colab": {
          "base_uri": "https://localhost:8080/",
          "height": 915
        },
        "executionInfo": {
          "status": "ok",
          "timestamp": 1738696861492,
          "user_tz": 360,
          "elapsed": 330,
          "user": {
            "displayName": "",
            "userId": ""
          }
        }
      },
      "outputs": [
        {
          "output_type": "display_data",
          "data": {
            "text/plain": [
              "\u001b[1;36m0\u001b[0m        \u001b[1;36m1\u001b[0m\n",
              "\u001b[1;36m1\u001b[0m        \u001b[1;36m2\u001b[0m\n",
              "\u001b[1;36m2\u001b[0m        \u001b[1;36m3\u001b[0m\n",
              "\u001b[1;36m3\u001b[0m        \u001b[1;36m4\u001b[0m\n",
              "\u001b[1;36m4\u001b[0m        \u001b[1;36m5\u001b[0m\n",
              "      \u001b[33m...\u001b[0m \n",
              "\u001b[1;36m7\u001b[0m     blue\n",
              "\u001b[1;36m8\u001b[0m        \u001b[1;36m6\u001b[0m\n",
              "\u001b[1;36m9\u001b[0m        \u001b[1;36m7\u001b[0m\n",
              "\u001b[1;36m10\u001b[0m       \u001b[1;36m8\u001b[0m\n",
              "\u001b[1;36m11\u001b[0m       \u001b[1;36m9\u001b[0m\n",
              "Length: \u001b[1;36m12\u001b[0m, dtype: object\n"
            ],
            "text/html": [
              "<pre style=\"white-space:pre;overflow-x:auto;line-height:normal;font-family:Menlo,'DejaVu Sans Mono',consolas,'Courier New',monospace\"><span style=\"color: #008080; text-decoration-color: #008080; font-weight: bold\">0</span>        <span style=\"color: #008080; text-decoration-color: #008080; font-weight: bold\">1</span>\n",
              "<span style=\"color: #008080; text-decoration-color: #008080; font-weight: bold\">1</span>        <span style=\"color: #008080; text-decoration-color: #008080; font-weight: bold\">2</span>\n",
              "<span style=\"color: #008080; text-decoration-color: #008080; font-weight: bold\">2</span>        <span style=\"color: #008080; text-decoration-color: #008080; font-weight: bold\">3</span>\n",
              "<span style=\"color: #008080; text-decoration-color: #008080; font-weight: bold\">3</span>        <span style=\"color: #008080; text-decoration-color: #008080; font-weight: bold\">4</span>\n",
              "<span style=\"color: #008080; text-decoration-color: #008080; font-weight: bold\">4</span>        <span style=\"color: #008080; text-decoration-color: #008080; font-weight: bold\">5</span>\n",
              "      <span style=\"color: #808000; text-decoration-color: #808000\">...</span> \n",
              "<span style=\"color: #008080; text-decoration-color: #008080; font-weight: bold\">7</span>     blue\n",
              "<span style=\"color: #008080; text-decoration-color: #008080; font-weight: bold\">8</span>        <span style=\"color: #008080; text-decoration-color: #008080; font-weight: bold\">6</span>\n",
              "<span style=\"color: #008080; text-decoration-color: #008080; font-weight: bold\">9</span>        <span style=\"color: #008080; text-decoration-color: #008080; font-weight: bold\">7</span>\n",
              "<span style=\"color: #008080; text-decoration-color: #008080; font-weight: bold\">10</span>       <span style=\"color: #008080; text-decoration-color: #008080; font-weight: bold\">8</span>\n",
              "<span style=\"color: #008080; text-decoration-color: #008080; font-weight: bold\">11</span>       <span style=\"color: #008080; text-decoration-color: #008080; font-weight: bold\">9</span>\n",
              "Length: <span style=\"color: #008080; text-decoration-color: #008080; font-weight: bold\">12</span>, dtype: object\n",
              "</pre>\n"
            ]
          },
          "metadata": {}
        },
        {
          "output_type": "stream",
          "name": "stderr",
          "text": [
            "ic| series: 0        1\n",
            "            1        2\n",
            "            2        3\n",
            "            3        4\n",
            "            4        5\n",
            "                  ... \n",
            "            7     blue\n",
            "            8        6\n",
            "            9        7\n",
            "            10       8\n",
            "            11       9\n",
            "            Length: 12, dtype: object\n"
          ]
        },
        {
          "output_type": "stream",
          "name": "stdout",
          "text": [
            "--------------------------------------------------------------------------\n",
            "\n",
            "\n"
          ]
        },
        {
          "output_type": "execute_result",
          "data": {
            "text/plain": [
              "0        1\n",
              "1        2\n",
              "2        3\n",
              "3        4\n",
              "4        5\n",
              "      ... \n",
              "7     blue\n",
              "8        6\n",
              "9        7\n",
              "10       8\n",
              "11       9\n",
              "Length: 12, dtype: object"
            ],
            "text/html": [
              "<div>\n",
              "<style scoped>\n",
              "    .dataframe tbody tr th:only-of-type {\n",
              "        vertical-align: middle;\n",
              "    }\n",
              "\n",
              "    .dataframe tbody tr th {\n",
              "        vertical-align: top;\n",
              "    }\n",
              "\n",
              "    .dataframe thead th {\n",
              "        text-align: right;\n",
              "    }\n",
              "</style>\n",
              "<table border=\"1\" class=\"dataframe\">\n",
              "  <thead>\n",
              "    <tr style=\"text-align: right;\">\n",
              "      <th></th>\n",
              "      <th>0</th>\n",
              "    </tr>\n",
              "  </thead>\n",
              "  <tbody>\n",
              "    <tr>\n",
              "      <th>0</th>\n",
              "      <td>1</td>\n",
              "    </tr>\n",
              "    <tr>\n",
              "      <th>1</th>\n",
              "      <td>2</td>\n",
              "    </tr>\n",
              "    <tr>\n",
              "      <th>2</th>\n",
              "      <td>3</td>\n",
              "    </tr>\n",
              "    <tr>\n",
              "      <th>3</th>\n",
              "      <td>4</td>\n",
              "    </tr>\n",
              "    <tr>\n",
              "      <th>4</th>\n",
              "      <td>5</td>\n",
              "    </tr>\n",
              "    <tr>\n",
              "      <th>...</th>\n",
              "      <td>...</td>\n",
              "    </tr>\n",
              "    <tr>\n",
              "      <th>7</th>\n",
              "      <td>blue</td>\n",
              "    </tr>\n",
              "    <tr>\n",
              "      <th>8</th>\n",
              "      <td>6</td>\n",
              "    </tr>\n",
              "    <tr>\n",
              "      <th>9</th>\n",
              "      <td>7</td>\n",
              "    </tr>\n",
              "    <tr>\n",
              "      <th>10</th>\n",
              "      <td>8</td>\n",
              "    </tr>\n",
              "    <tr>\n",
              "      <th>11</th>\n",
              "      <td>9</td>\n",
              "    </tr>\n",
              "  </tbody>\n",
              "</table>\n",
              "<p>12 rows × 1 columns</p>\n",
              "</div><br><label><b>dtype:</b> object</label>"
            ]
          },
          "metadata": {},
          "execution_count": 30
        }
      ],
      "source": [
        "#Series is a one-dimensional labeled array capable of holding any data type\n",
        "series = pd.Series([1,2,3,4,5,'red','green','blue',6,7,8,9]);\n",
        "\n",
        "rprint(series)\n",
        "\n",
        "# OR\n",
        "print(\"--------------------------------------------------------------------------\\n\\n\")\n",
        "\n",
        "ic(series)"
      ]
    },
    {
      "cell_type": "code",
      "execution_count": null,
      "metadata": {
        "id": "0jGGe_wVpwpl",
        "outputId": "0c67033a-637e-4a35-953c-e3f96e82e491",
        "colab": {
          "base_uri": "https://localhost:8080/",
          "height": 452
        },
        "executionInfo": {
          "status": "ok",
          "timestamp": 1738696972953,
          "user_tz": 360,
          "elapsed": 312,
          "user": {
            "displayName": "",
            "userId": ""
          }
        }
      },
      "outputs": [
        {
          "output_type": "stream",
          "name": "stderr",
          "text": [
            "ic| <ipython-input-37-b412de0e3e4b>:3 in <cell line: 3>() at 19:22:52.644\n"
          ]
        },
        {
          "output_type": "display_data",
          "data": {
            "text/plain": [
              "\n",
              "\n"
            ],
            "text/html": [
              "<pre style=\"white-space:pre;overflow-x:auto;line-height:normal;font-family:Menlo,'DejaVu Sans Mono',consolas,'Courier New',monospace\">\n",
              "\n",
              "</pre>\n"
            ]
          },
          "metadata": {}
        },
        {
          "output_type": "display_data",
          "data": {
            "text/plain": [
              "a    \u001b[1;36m0.5819\u001b[0m\n",
              "b   \u001b[1;36m-0.6589\u001b[0m\n",
              "c   \u001b[1;36m-0.3784\u001b[0m\n",
              "d    \u001b[1;36m0.4078\u001b[0m\n",
              "e    \u001b[1;36m0.6140\u001b[0m\n",
              "dtype: float64\n"
            ],
            "text/html": [
              "<pre style=\"white-space:pre;overflow-x:auto;line-height:normal;font-family:Menlo,'DejaVu Sans Mono',consolas,'Courier New',monospace\">a    <span style=\"color: #008080; text-decoration-color: #008080; font-weight: bold\">0.5819</span>\n",
              "b   <span style=\"color: #008080; text-decoration-color: #008080; font-weight: bold\">-0.6589</span>\n",
              "c   <span style=\"color: #008080; text-decoration-color: #008080; font-weight: bold\">-0.3784</span>\n",
              "d    <span style=\"color: #008080; text-decoration-color: #008080; font-weight: bold\">0.4078</span>\n",
              "e    <span style=\"color: #008080; text-decoration-color: #008080; font-weight: bold\">0.6140</span>\n",
              "dtype: float64\n",
              "</pre>\n"
            ]
          },
          "metadata": {}
        },
        {
          "output_type": "display_data",
          "data": {
            "text/plain": [
              "-------------------------------------------------------------------\n"
            ],
            "text/html": [
              "<pre style=\"white-space:pre;overflow-x:auto;line-height:normal;font-family:Menlo,'DejaVu Sans Mono',consolas,'Courier New',monospace\">-------------------------------------------------------------------\n",
              "</pre>\n"
            ]
          },
          "metadata": {}
        },
        {
          "output_type": "display_data",
          "data": {
            "text/plain": [
              "\u001b[1;35mIndex\u001b[0m\u001b[1m(\u001b[0m\u001b[1m[\u001b[0m\u001b[32m'a'\u001b[0m, \u001b[32m'b'\u001b[0m, \u001b[32m'c'\u001b[0m, \u001b[32m'd'\u001b[0m, \u001b[32m'e'\u001b[0m\u001b[1m]\u001b[0m, \u001b[33mdtype\u001b[0m=\u001b[32m'object'\u001b[0m\u001b[1m)\u001b[0m\n"
            ],
            "text/html": [
              "<pre style=\"white-space:pre;overflow-x:auto;line-height:normal;font-family:Menlo,'DejaVu Sans Mono',consolas,'Courier New',monospace\"><span style=\"color: #800080; text-decoration-color: #800080; font-weight: bold\">Index</span><span style=\"font-weight: bold\">([</span><span style=\"color: #008000; text-decoration-color: #008000\">'a'</span>, <span style=\"color: #008000; text-decoration-color: #008000\">'b'</span>, <span style=\"color: #008000; text-decoration-color: #008000\">'c'</span>, <span style=\"color: #008000; text-decoration-color: #008000\">'d'</span>, <span style=\"color: #008000; text-decoration-color: #008000\">'e'</span><span style=\"font-weight: bold\">]</span>, <span style=\"color: #808000; text-decoration-color: #808000\">dtype</span>=<span style=\"color: #008000; text-decoration-color: #008000\">'object'</span><span style=\"font-weight: bold\">)</span>\n",
              "</pre>\n"
            ]
          },
          "metadata": {}
        },
        {
          "output_type": "display_data",
          "data": {
            "text/plain": [
              "-------------------------------------------------------------------\n"
            ],
            "text/html": [
              "<pre style=\"white-space:pre;overflow-x:auto;line-height:normal;font-family:Menlo,'DejaVu Sans Mono',consolas,'Courier New',monospace\">-------------------------------------------------------------------\n",
              "</pre>\n"
            ]
          },
          "metadata": {}
        },
        {
          "output_type": "stream",
          "name": "stderr",
          "text": [
            "<ipython-input-37-b412de0e3e4b>:9: FutureWarning: Series.__getitem__ treating keys as positions is deprecated. In a future version, integer keys will always be treated as labels (consistent with DataFrame behavior). To access a value by position, use `ser.iloc[pos]`\n",
            "  rprint(series[0])\n"
          ]
        },
        {
          "output_type": "display_data",
          "data": {
            "text/plain": [
              "\u001b[1;36m0.5818827337598729\u001b[0m\n"
            ],
            "text/html": [
              "<pre style=\"white-space:pre;overflow-x:auto;line-height:normal;font-family:Menlo,'DejaVu Sans Mono',consolas,'Courier New',monospace\"><span style=\"color: #008080; text-decoration-color: #008080; font-weight: bold\">0.5818827337598729</span>\n",
              "</pre>\n"
            ]
          },
          "metadata": {}
        },
        {
          "output_type": "display_data",
          "data": {
            "text/plain": [
              "\n",
              "\n"
            ],
            "text/html": [
              "<pre style=\"white-space:pre;overflow-x:auto;line-height:normal;font-family:Menlo,'DejaVu Sans Mono',consolas,'Courier New',monospace\">\n",
              "\n",
              "</pre>\n"
            ]
          },
          "metadata": {}
        },
        {
          "output_type": "stream",
          "name": "stderr",
          "text": [
            "<ipython-input-37-b412de0e3e4b>:11: FutureWarning: Series.__getitem__ treating keys as positions is deprecated. In a future version, integer keys will always be treated as labels (consistent with DataFrame behavior). To access a value by position, use `ser.iloc[pos]`\n",
            "  ic(series[0])\n",
            "ic| series[0]: 0.5818827337598729\n"
          ]
        },
        {
          "output_type": "display_data",
          "data": {
            "text/plain": [
              "-------------------------------------------------------------------\n"
            ],
            "text/html": [
              "<pre style=\"white-space:pre;overflow-x:auto;line-height:normal;font-family:Menlo,'DejaVu Sans Mono',consolas,'Courier New',monospace\">-------------------------------------------------------------------\n",
              "</pre>\n"
            ]
          },
          "metadata": {}
        },
        {
          "output_type": "display_data",
          "data": {
            "text/plain": [
              "a    \u001b[1;36m0.5819\u001b[0m\n",
              "b   \u001b[1;36m-0.6589\u001b[0m\n",
              "c   \u001b[1;36m-0.3784\u001b[0m\n",
              "d    \u001b[1;36m0.4078\u001b[0m\n",
              "e    \u001b[1;36m0.6140\u001b[0m\n",
              "dtype: float64\n"
            ],
            "text/html": [
              "<pre style=\"white-space:pre;overflow-x:auto;line-height:normal;font-family:Menlo,'DejaVu Sans Mono',consolas,'Courier New',monospace\">a    <span style=\"color: #008080; text-decoration-color: #008080; font-weight: bold\">0.5819</span>\n",
              "b   <span style=\"color: #008080; text-decoration-color: #008080; font-weight: bold\">-0.6589</span>\n",
              "c   <span style=\"color: #008080; text-decoration-color: #008080; font-weight: bold\">-0.3784</span>\n",
              "d    <span style=\"color: #008080; text-decoration-color: #008080; font-weight: bold\">0.4078</span>\n",
              "e    <span style=\"color: #008080; text-decoration-color: #008080; font-weight: bold\">0.6140</span>\n",
              "dtype: float64\n",
              "</pre>\n"
            ]
          },
          "metadata": {}
        }
      ],
      "source": [
        "#If data is an ndarray, index must be the same length as data. If no index is passed, one will be created\n",
        "series=pd.Series(np.random.randn(5), index=['a', 'b', 'c', 'd', 'e'])\n",
        "ic()\n",
        "rprint(\"\\n\")\n",
        "rprint(series)\n",
        "rprint(\"-------------------------------------------------------------------\")\n",
        "rprint(series.index)\n",
        "rprint(\"-------------------------------------------------------------------\")\n",
        "rprint(series[0])\n",
        "rprint(\"\\n\")\n",
        "ic(series[0])\n",
        "rprint(\"-------------------------------------------------------------------\")\n",
        "rprint(series[:])"
      ]
    },
    {
      "cell_type": "code",
      "execution_count": null,
      "metadata": {
        "id": "dbx6Gbqdpwpm",
        "outputId": "1d032ebd-88a6-4f44-f59b-d541bad45c65",
        "colab": {
          "base_uri": "https://localhost:8080/",
          "height": 99
        },
        "executionInfo": {
          "status": "ok",
          "timestamp": 1738696434652,
          "user_tz": 360,
          "elapsed": 9,
          "user": {
            "displayName": "",
            "userId": ""
          }
        }
      },
      "outputs": [
        {
          "output_type": "display_data",
          "data": {
            "text/plain": [
              "b    \u001b[1;36m1\u001b[0m\n",
              "a    \u001b[1;36m0\u001b[0m\n",
              "c    \u001b[1;36m2\u001b[0m\n",
              "dtype: int64\n"
            ],
            "text/html": [
              "<pre style=\"white-space:pre;overflow-x:auto;line-height:normal;font-family:Menlo,'DejaVu Sans Mono',consolas,'Courier New',monospace\">b    <span style=\"color: #008080; text-decoration-color: #008080; font-weight: bold\">1</span>\n",
              "a    <span style=\"color: #008080; text-decoration-color: #008080; font-weight: bold\">0</span>\n",
              "c    <span style=\"color: #008080; text-decoration-color: #008080; font-weight: bold\">2</span>\n",
              "dtype: int64\n",
              "</pre>\n"
            ]
          },
          "metadata": {}
        },
        {
          "output_type": "display_data",
          "data": {
            "text/plain": [
              "\u001b[1;36m1\u001b[0m\n"
            ],
            "text/html": [
              "<pre style=\"white-space:pre;overflow-x:auto;line-height:normal;font-family:Menlo,'DejaVu Sans Mono',consolas,'Courier New',monospace\"><span style=\"color: #008080; text-decoration-color: #008080; font-weight: bold\">1</span>\n",
              "</pre>\n"
            ]
          },
          "metadata": {}
        }
      ],
      "source": [
        "#notice that a series can be created from a classic (key=value pair) dictionary\n",
        "d = {'b': 1, 'a': 0, 'c': 2}\n",
        "series=pd.Series(d)\n",
        "rprint(series)\n",
        "rprint(series[\"b\"])"
      ]
    },
    {
      "cell_type": "code",
      "execution_count": null,
      "metadata": {
        "id": "JzhfrkmMpwpm",
        "outputId": "d2ed10eb-8eb2-4964-dc43-f3f77fb69656",
        "colab": {
          "base_uri": "https://localhost:8080/",
          "height": 677
        },
        "executionInfo": {
          "status": "ok",
          "timestamp": 1738696449235,
          "user_tz": 360,
          "elapsed": 162,
          "user": {
            "displayName": "",
            "userId": ""
          }
        }
      },
      "outputs": [
        {
          "output_type": "display_data",
          "data": {
            "text/plain": [
              "Full array\n"
            ],
            "text/html": [
              "<pre style=\"white-space:pre;overflow-x:auto;line-height:normal;font-family:Menlo,'DejaVu Sans Mono',consolas,'Courier New',monospace\">Full array\n",
              "</pre>\n"
            ]
          },
          "metadata": {}
        },
        {
          "output_type": "display_data",
          "data": {
            "text/plain": [
              "################################################################################################################\n"
            ],
            "text/html": [
              "<pre style=\"white-space:pre;overflow-x:auto;line-height:normal;font-family:Menlo,'DejaVu Sans Mono',consolas,'Courier New',monospace\">################################################################################################################\n",
              "</pre>\n"
            ]
          },
          "metadata": {}
        },
        {
          "output_type": "display_data",
          "data": {
            "text/plain": [
              "a   \u001b[1;36m-2.0103\u001b[0m\n",
              "b    \u001b[1;36m0.5918\u001b[0m\n",
              "c    \u001b[1;36m0.8486\u001b[0m\n",
              "d    \u001b[1;36m1.8535\u001b[0m\n",
              "e    \u001b[1;36m1.3885\u001b[0m\n",
              "dtype: float64\n"
            ],
            "text/html": [
              "<pre style=\"white-space:pre;overflow-x:auto;line-height:normal;font-family:Menlo,'DejaVu Sans Mono',consolas,'Courier New',monospace\">a   <span style=\"color: #008080; text-decoration-color: #008080; font-weight: bold\">-2.0103</span>\n",
              "b    <span style=\"color: #008080; text-decoration-color: #008080; font-weight: bold\">0.5918</span>\n",
              "c    <span style=\"color: #008080; text-decoration-color: #008080; font-weight: bold\">0.8486</span>\n",
              "d    <span style=\"color: #008080; text-decoration-color: #008080; font-weight: bold\">1.8535</span>\n",
              "e    <span style=\"color: #008080; text-decoration-color: #008080; font-weight: bold\">1.3885</span>\n",
              "dtype: float64\n",
              "</pre>\n"
            ]
          },
          "metadata": {}
        },
        {
          "output_type": "display_data",
          "data": {
            "text/plain": [
              "################################################################################################################\n"
            ],
            "text/html": [
              "<pre style=\"white-space:pre;overflow-x:auto;line-height:normal;font-family:Menlo,'DejaVu Sans Mono',consolas,'Courier New',monospace\">################################################################################################################\n",
              "</pre>\n"
            ]
          },
          "metadata": {}
        },
        {
          "output_type": "display_data",
          "data": {
            "text/plain": [
              "\n"
            ],
            "text/html": [
              "<pre style=\"white-space:pre;overflow-x:auto;line-height:normal;font-family:Menlo,'DejaVu Sans Mono',consolas,'Courier New',monospace\">\n",
              "</pre>\n"
            ]
          },
          "metadata": {}
        },
        {
          "output_type": "display_data",
          "data": {
            "text/plain": [
              "Just the first index\n"
            ],
            "text/html": [
              "<pre style=\"white-space:pre;overflow-x:auto;line-height:normal;font-family:Menlo,'DejaVu Sans Mono',consolas,'Courier New',monospace\">Just the first index\n",
              "</pre>\n"
            ]
          },
          "metadata": {}
        },
        {
          "output_type": "display_data",
          "data": {
            "text/plain": [
              "    When directly indexed the \u001b[32m'index'\u001b[0m is not included.\n"
            ],
            "text/html": [
              "<pre style=\"white-space:pre;overflow-x:auto;line-height:normal;font-family:Menlo,'DejaVu Sans Mono',consolas,'Courier New',monospace\">    When directly indexed the <span style=\"color: #008000; text-decoration-color: #008000\">'index'</span> is not included.\n",
              "</pre>\n"
            ]
          },
          "metadata": {}
        },
        {
          "output_type": "display_data",
          "data": {
            "text/plain": [
              "################################################################################################################\n"
            ],
            "text/html": [
              "<pre style=\"white-space:pre;overflow-x:auto;line-height:normal;font-family:Menlo,'DejaVu Sans Mono',consolas,'Courier New',monospace\">################################################################################################################\n",
              "</pre>\n"
            ]
          },
          "metadata": {}
        },
        {
          "output_type": "stream",
          "name": "stderr",
          "text": [
            "<ipython-input-8-c32f1c667d0e>:12: FutureWarning: Series.__getitem__ treating keys as positions is deprecated. In a future version, integer keys will always be treated as labels (consistent with DataFrame behavior). To access a value by position, use `ser.iloc[pos]`\n",
            "  rprint(series[0])\n"
          ]
        },
        {
          "output_type": "display_data",
          "data": {
            "text/plain": [
              "\u001b[1;36m-2.0103204361547946\u001b[0m\n"
            ],
            "text/html": [
              "<pre style=\"white-space:pre;overflow-x:auto;line-height:normal;font-family:Menlo,'DejaVu Sans Mono',consolas,'Courier New',monospace\"><span style=\"color: #008080; text-decoration-color: #008080; font-weight: bold\">-2.0103204361547946</span>\n",
              "</pre>\n"
            ]
          },
          "metadata": {}
        },
        {
          "output_type": "display_data",
          "data": {
            "text/plain": [
              "\n"
            ],
            "text/html": [
              "<pre style=\"white-space:pre;overflow-x:auto;line-height:normal;font-family:Menlo,'DejaVu Sans Mono',consolas,'Courier New',monospace\">\n",
              "</pre>\n"
            ]
          },
          "metadata": {}
        },
        {
          "output_type": "display_data",
          "data": {
            "text/plain": [
              " All values up to element #\u001b[1;36m3\u001b[0m\n"
            ],
            "text/html": [
              "<pre style=\"white-space:pre;overflow-x:auto;line-height:normal;font-family:Menlo,'DejaVu Sans Mono',consolas,'Courier New',monospace\"> All values up to element #<span style=\"color: #008080; text-decoration-color: #008080; font-weight: bold\">3</span>\n",
              "</pre>\n"
            ]
          },
          "metadata": {}
        },
        {
          "output_type": "display_data",
          "data": {
            "text/plain": [
              "################################################################################################################\n"
            ],
            "text/html": [
              "<pre style=\"white-space:pre;overflow-x:auto;line-height:normal;font-family:Menlo,'DejaVu Sans Mono',consolas,'Courier New',monospace\">################################################################################################################\n",
              "</pre>\n"
            ]
          },
          "metadata": {}
        },
        {
          "output_type": "display_data",
          "data": {
            "text/plain": [
              "a   \u001b[1;36m-2.0103\u001b[0m\n",
              "b    \u001b[1;36m0.5918\u001b[0m\n",
              "c    \u001b[1;36m0.8486\u001b[0m\n",
              "dtype: float64\n"
            ],
            "text/html": [
              "<pre style=\"white-space:pre;overflow-x:auto;line-height:normal;font-family:Menlo,'DejaVu Sans Mono',consolas,'Courier New',monospace\">a   <span style=\"color: #008080; text-decoration-color: #008080; font-weight: bold\">-2.0103</span>\n",
              "b    <span style=\"color: #008080; text-decoration-color: #008080; font-weight: bold\">0.5918</span>\n",
              "c    <span style=\"color: #008080; text-decoration-color: #008080; font-weight: bold\">0.8486</span>\n",
              "dtype: float64\n",
              "</pre>\n"
            ]
          },
          "metadata": {}
        },
        {
          "output_type": "display_data",
          "data": {
            "text/plain": [
              "\n"
            ],
            "text/html": [
              "<pre style=\"white-space:pre;overflow-x:auto;line-height:normal;font-family:Menlo,'DejaVu Sans Mono',consolas,'Courier New',monospace\">\n",
              "</pre>\n"
            ]
          },
          "metadata": {}
        },
        {
          "output_type": "display_data",
          "data": {
            "text/plain": [
              "Only those values greater than the median\n"
            ],
            "text/html": [
              "<pre style=\"white-space:pre;overflow-x:auto;line-height:normal;font-family:Menlo,'DejaVu Sans Mono',consolas,'Courier New',monospace\">Only those values greater than the median\n",
              "</pre>\n"
            ]
          },
          "metadata": {}
        },
        {
          "output_type": "display_data",
          "data": {
            "text/plain": [
              "################################################################################################################\n"
            ],
            "text/html": [
              "<pre style=\"white-space:pre;overflow-x:auto;line-height:normal;font-family:Menlo,'DejaVu Sans Mono',consolas,'Courier New',monospace\">################################################################################################################\n",
              "</pre>\n"
            ]
          },
          "metadata": {}
        },
        {
          "output_type": "display_data",
          "data": {
            "text/plain": [
              "d   \u001b[1;36m1.8535\u001b[0m\n",
              "e   \u001b[1;36m1.3885\u001b[0m\n",
              "dtype: float64\n"
            ],
            "text/html": [
              "<pre style=\"white-space:pre;overflow-x:auto;line-height:normal;font-family:Menlo,'DejaVu Sans Mono',consolas,'Courier New',monospace\">d   <span style=\"color: #008080; text-decoration-color: #008080; font-weight: bold\">1.8535</span>\n",
              "e   <span style=\"color: #008080; text-decoration-color: #008080; font-weight: bold\">1.3885</span>\n",
              "dtype: float64\n",
              "</pre>\n"
            ]
          },
          "metadata": {}
        },
        {
          "output_type": "display_data",
          "data": {
            "text/plain": [
              "\n"
            ],
            "text/html": [
              "<pre style=\"white-space:pre;overflow-x:auto;line-height:normal;font-family:Menlo,'DejaVu Sans Mono',consolas,'Courier New',monospace\">\n",
              "</pre>\n"
            ]
          },
          "metadata": {}
        },
        {
          "output_type": "display_data",
          "data": {
            "text/plain": [
              "Integrate with numpy and calculate the exponent, notice Numpy integration\n"
            ],
            "text/html": [
              "<pre style=\"white-space:pre;overflow-x:auto;line-height:normal;font-family:Menlo,'DejaVu Sans Mono',consolas,'Courier New',monospace\">Integrate with numpy and calculate the exponent, notice Numpy integration\n",
              "</pre>\n"
            ]
          },
          "metadata": {}
        },
        {
          "output_type": "display_data",
          "data": {
            "text/plain": [
              "################################################################################################################\n"
            ],
            "text/html": [
              "<pre style=\"white-space:pre;overflow-x:auto;line-height:normal;font-family:Menlo,'DejaVu Sans Mono',consolas,'Courier New',monospace\">################################################################################################################\n",
              "</pre>\n"
            ]
          },
          "metadata": {}
        },
        {
          "output_type": "display_data",
          "data": {
            "text/plain": [
              "a   \u001b[1;36m0.1339\u001b[0m\n",
              "b   \u001b[1;36m1.8073\u001b[0m\n",
              "c   \u001b[1;36m2.3365\u001b[0m\n",
              "d   \u001b[1;36m6.3824\u001b[0m\n",
              "e   \u001b[1;36m4.0087\u001b[0m\n",
              "dtype: float64\n"
            ],
            "text/html": [
              "<pre style=\"white-space:pre;overflow-x:auto;line-height:normal;font-family:Menlo,'DejaVu Sans Mono',consolas,'Courier New',monospace\">a   <span style=\"color: #008080; text-decoration-color: #008080; font-weight: bold\">0.1339</span>\n",
              "b   <span style=\"color: #008080; text-decoration-color: #008080; font-weight: bold\">1.8073</span>\n",
              "c   <span style=\"color: #008080; text-decoration-color: #008080; font-weight: bold\">2.3365</span>\n",
              "d   <span style=\"color: #008080; text-decoration-color: #008080; font-weight: bold\">6.3824</span>\n",
              "e   <span style=\"color: #008080; text-decoration-color: #008080; font-weight: bold\">4.0087</span>\n",
              "dtype: float64\n",
              "</pre>\n"
            ]
          },
          "metadata": {}
        }
      ],
      "source": [
        "#Series acts very similarly to a ndarray, and is a valid argument to most NumPy functions. However, operations such as slicing will also slice the index.\n",
        "#If data is an ndarray, index must be the same length as data. If no index is passed, one will be created\n",
        "series=pd.Series(np.random.randn(5), index=['a', 'b', 'c', 'd', 'e'])\n",
        "rprint(\"Full array\")\n",
        "rprint(\"################################################################################################################\")\n",
        "rprint(series)\n",
        "rprint(\"################################################################################################################\")\n",
        "rprint(\"\")\n",
        "rprint (\"Just the first index\")\n",
        "rprint(\"    When directly indexed the 'index' is not included.\")\n",
        "rprint(\"################################################################################################################\")\n",
        "rprint(series[0])\n",
        "rprint(\"\")\n",
        "\n",
        "rprint(\" All values up to element #3\")\n",
        "rprint(\"################################################################################################################\")\n",
        "rprint(series[:3])\n",
        "rprint(\"\")\n",
        "\n",
        "rprint (\"Only those values greater than the median\")\n",
        "rprint(\"################################################################################################################\")\n",
        "rprint(series[series > series.median()])\n",
        "rprint(\"\")\n",
        "\n",
        "rprint(\"Integrate with numpy and calculate the exponent, notice Numpy integration\")\n",
        "rprint(\"################################################################################################################\")\n",
        "rprint(np.exp(series))"
      ]
    },
    {
      "cell_type": "code",
      "execution_count": null,
      "metadata": {
        "id": "DBl48bfXpwpn",
        "outputId": "0c36deeb-5eea-4053-ed5d-05cfba1ce474",
        "colab": {
          "base_uri": "https://localhost:8080/",
          "height": 33
        },
        "executionInfo": {
          "status": "ok",
          "timestamp": 1738696468855,
          "user_tz": 360,
          "elapsed": 251,
          "user": {
            "displayName": "",
            "userId": ""
          }
        }
      },
      "outputs": [
        {
          "output_type": "display_data",
          "data": {
            "text/plain": [
              "float64\n"
            ],
            "text/html": [
              "<pre style=\"white-space:pre;overflow-x:auto;line-height:normal;font-family:Menlo,'DejaVu Sans Mono',consolas,'Courier New',monospace\">float64\n",
              "</pre>\n"
            ]
          },
          "metadata": {}
        }
      ],
      "source": [
        "#Series data type operations\n",
        "rprint(series.dtype)"
      ]
    },
    {
      "cell_type": "code",
      "execution_count": null,
      "metadata": {
        "id": "kGMtcwnmpwpo",
        "outputId": "baca8e8f-850f-437b-e48e-45d3e511f7f2",
        "colab": {
          "base_uri": "https://localhost:8080/",
          "height": 312
        },
        "executionInfo": {
          "status": "ok",
          "timestamp": 1738696482680,
          "user_tz": 360,
          "elapsed": 171,
          "user": {
            "displayName": "",
            "userId": ""
          }
        }
      },
      "outputs": [
        {
          "output_type": "display_data",
          "data": {
            "text/plain": [
              "Dump the contents of the Series into a single dimensional Numpy array.\n"
            ],
            "text/html": [
              "<pre style=\"white-space:pre;overflow-x:auto;line-height:normal;font-family:Menlo,'DejaVu Sans Mono',consolas,'Courier New',monospace\">Dump the contents of the Series into a single dimensional Numpy array.\n",
              "</pre>\n"
            ]
          },
          "metadata": {}
        },
        {
          "output_type": "display_data",
          "data": {
            "text/plain": [
              "###############################################################################################\n"
            ],
            "text/html": [
              "<pre style=\"white-space:pre;overflow-x:auto;line-height:normal;font-family:Menlo,'DejaVu Sans Mono',consolas,'Courier New',monospace\">###############################################################################################\n",
              "</pre>\n"
            ]
          },
          "metadata": {}
        },
        {
          "output_type": "display_data",
          "data": {
            "text/plain": [
              "\u001b[1m[\u001b[0m\u001b[1;36m-2.0103\u001b[0m  \u001b[1;36m0.5918\u001b[0m  \u001b[1;36m0.8486\u001b[0m  \u001b[1;36m1.8535\u001b[0m  \u001b[1;36m1.3885\u001b[0m\u001b[1m]\u001b[0m\n"
            ],
            "text/html": [
              "<pre style=\"white-space:pre;overflow-x:auto;line-height:normal;font-family:Menlo,'DejaVu Sans Mono',consolas,'Courier New',monospace\"><span style=\"font-weight: bold\">[</span><span style=\"color: #008080; text-decoration-color: #008080; font-weight: bold\">-2.0103</span>  <span style=\"color: #008080; text-decoration-color: #008080; font-weight: bold\">0.5918</span>  <span style=\"color: #008080; text-decoration-color: #008080; font-weight: bold\">0.8486</span>  <span style=\"color: #008080; text-decoration-color: #008080; font-weight: bold\">1.8535</span>  <span style=\"color: #008080; text-decoration-color: #008080; font-weight: bold\">1.3885</span><span style=\"font-weight: bold\">]</span>\n",
              "</pre>\n"
            ]
          },
          "metadata": {}
        },
        {
          "output_type": "display_data",
          "data": {
            "text/plain": [
              "\n"
            ],
            "text/html": [
              "<pre style=\"white-space:pre;overflow-x:auto;line-height:normal;font-family:Menlo,'DejaVu Sans Mono',consolas,'Courier New',monospace\">\n",
              "</pre>\n"
            ]
          },
          "metadata": {}
        },
        {
          "output_type": "display_data",
          "data": {
            "text/plain": [
              "My series dimensions are:  \u001b[1;36m1\u001b[0m\n"
            ],
            "text/html": [
              "<pre style=\"white-space:pre;overflow-x:auto;line-height:normal;font-family:Menlo,'DejaVu Sans Mono',consolas,'Courier New',monospace\">My series dimensions are:  <span style=\"color: #008080; text-decoration-color: #008080; font-weight: bold\">1</span>\n",
              "</pre>\n"
            ]
          },
          "metadata": {}
        },
        {
          "output_type": "display_data",
          "data": {
            "text/plain": [
              "My series size is: \u001b[1;36m5\u001b[0m\n"
            ],
            "text/html": [
              "<pre style=\"white-space:pre;overflow-x:auto;line-height:normal;font-family:Menlo,'DejaVu Sans Mono',consolas,'Courier New',monospace\">My series size is: <span style=\"color: #008080; text-decoration-color: #008080; font-weight: bold\">5</span>\n",
              "</pre>\n"
            ]
          },
          "metadata": {}
        },
        {
          "output_type": "display_data",
          "data": {
            "text/plain": [
              "My series shpae is:\n",
              "\u001b[1m(\u001b[0m\u001b[1;36m5\u001b[0m,\u001b[1m)\u001b[0m\n"
            ],
            "text/html": [
              "<pre style=\"white-space:pre;overflow-x:auto;line-height:normal;font-family:Menlo,'DejaVu Sans Mono',consolas,'Courier New',monospace\">My series shpae is:\n",
              "<span style=\"font-weight: bold\">(</span><span style=\"color: #008080; text-decoration-color: #008080; font-weight: bold\">5</span>,<span style=\"font-weight: bold\">)</span>\n",
              "</pre>\n"
            ]
          },
          "metadata": {}
        },
        {
          "output_type": "display_data",
          "data": {
            "text/plain": [
              "\n"
            ],
            "text/html": [
              "<pre style=\"white-space:pre;overflow-x:auto;line-height:normal;font-family:Menlo,'DejaVu Sans Mono',consolas,'Courier New',monospace\">\n",
              "</pre>\n"
            ]
          },
          "metadata": {}
        },
        {
          "output_type": "display_data",
          "data": {
            "text/plain": [
              "###############################################################################################\n"
            ],
            "text/html": [
              "<pre style=\"white-space:pre;overflow-x:auto;line-height:normal;font-family:Menlo,'DejaVu Sans Mono',consolas,'Courier New',monospace\">###############################################################################################\n",
              "</pre>\n"
            ]
          },
          "metadata": {}
        },
        {
          "output_type": "display_data",
          "data": {
            "text/plain": [
              "My array dimensions are:  \u001b[1;36m1\u001b[0m\n"
            ],
            "text/html": [
              "<pre style=\"white-space:pre;overflow-x:auto;line-height:normal;font-family:Menlo,'DejaVu Sans Mono',consolas,'Courier New',monospace\">My array dimensions are:  <span style=\"color: #008080; text-decoration-color: #008080; font-weight: bold\">1</span>\n",
              "</pre>\n"
            ]
          },
          "metadata": {}
        },
        {
          "output_type": "display_data",
          "data": {
            "text/plain": [
              "My array size is: \u001b[1;36m5\u001b[0m\n"
            ],
            "text/html": [
              "<pre style=\"white-space:pre;overflow-x:auto;line-height:normal;font-family:Menlo,'DejaVu Sans Mono',consolas,'Courier New',monospace\">My array size is: <span style=\"color: #008080; text-decoration-color: #008080; font-weight: bold\">5</span>\n",
              "</pre>\n"
            ]
          },
          "metadata": {}
        },
        {
          "output_type": "display_data",
          "data": {
            "text/plain": [
              "My array shape is:\n",
              "\u001b[1m(\u001b[0m\u001b[1;36m5\u001b[0m,\u001b[1m)\u001b[0m\n"
            ],
            "text/html": [
              "<pre style=\"white-space:pre;overflow-x:auto;line-height:normal;font-family:Menlo,'DejaVu Sans Mono',consolas,'Courier New',monospace\">My array shape is:\n",
              "<span style=\"font-weight: bold\">(</span><span style=\"color: #008080; text-decoration-color: #008080; font-weight: bold\">5</span>,<span style=\"font-weight: bold\">)</span>\n",
              "</pre>\n"
            ]
          },
          "metadata": {}
        },
        {
          "output_type": "display_data",
          "data": {
            "text/plain": [
              "\n"
            ],
            "text/html": [
              "<pre style=\"white-space:pre;overflow-x:auto;line-height:normal;font-family:Menlo,'DejaVu Sans Mono',consolas,'Courier New',monospace\">\n",
              "</pre>\n"
            ]
          },
          "metadata": {}
        },
        {
          "output_type": "display_data",
          "data": {
            "text/plain": [
              "###############################################################################################\n"
            ],
            "text/html": [
              "<pre style=\"white-space:pre;overflow-x:auto;line-height:normal;font-family:Menlo,'DejaVu Sans Mono',consolas,'Courier New',monospace\">###############################################################################################\n",
              "</pre>\n"
            ]
          },
          "metadata": {}
        },
        {
          "output_type": "display_data",
          "data": {
            "text/plain": [
              "\u001b[1;36m-2.0103204361547946\u001b[0m\n"
            ],
            "text/html": [
              "<pre style=\"white-space:pre;overflow-x:auto;line-height:normal;font-family:Menlo,'DejaVu Sans Mono',consolas,'Courier New',monospace\"><span style=\"color: #008080; text-decoration-color: #008080; font-weight: bold\">-2.0103204361547946</span>\n",
              "</pre>\n"
            ]
          },
          "metadata": {}
        },
        {
          "output_type": "display_data",
          "data": {
            "text/plain": [
              "\u001b[1;36m0.5918385875466254\u001b[0m\n"
            ],
            "text/html": [
              "<pre style=\"white-space:pre;overflow-x:auto;line-height:normal;font-family:Menlo,'DejaVu Sans Mono',consolas,'Courier New',monospace\"><span style=\"color: #008080; text-decoration-color: #008080; font-weight: bold\">0.5918385875466254</span>\n",
              "</pre>\n"
            ]
          },
          "metadata": {}
        },
        {
          "output_type": "display_data",
          "data": {
            "text/plain": [
              "\u001b[1;36m0.8486426615655014\u001b[0m\n"
            ],
            "text/html": [
              "<pre style=\"white-space:pre;overflow-x:auto;line-height:normal;font-family:Menlo,'DejaVu Sans Mono',consolas,'Courier New',monospace\"><span style=\"color: #008080; text-decoration-color: #008080; font-weight: bold\">0.8486426615655014</span>\n",
              "</pre>\n"
            ]
          },
          "metadata": {}
        },
        {
          "output_type": "display_data",
          "data": {
            "text/plain": [
              "\u001b[1;36m1.8535387410628748\u001b[0m\n"
            ],
            "text/html": [
              "<pre style=\"white-space:pre;overflow-x:auto;line-height:normal;font-family:Menlo,'DejaVu Sans Mono',consolas,'Courier New',monospace\"><span style=\"color: #008080; text-decoration-color: #008080; font-weight: bold\">1.8535387410628748</span>\n",
              "</pre>\n"
            ]
          },
          "metadata": {}
        },
        {
          "output_type": "display_data",
          "data": {
            "text/plain": [
              "\u001b[1;36m1.3884600366960802\u001b[0m\n"
            ],
            "text/html": [
              "<pre style=\"white-space:pre;overflow-x:auto;line-height:normal;font-family:Menlo,'DejaVu Sans Mono',consolas,'Courier New',monospace\"><span style=\"color: #008080; text-decoration-color: #008080; font-weight: bold\">1.3884600366960802</span>\n",
              "</pre>\n"
            ]
          },
          "metadata": {}
        }
      ],
      "source": [
        "#Get the actual array in a series, maybe for direct manipulation\n",
        "rprint(\"Dump the contents of the Series into a single dimensional Numpy array.\")\n",
        "rprint(\"###############################################################################################\")\n",
        "rprint(series.values)\n",
        "rprint(\"\")\n",
        "rprint(\"My series dimensions are: \",series.ndim)\n",
        "rprint(\"My series size is:\", series.size)\n",
        "rprint(\"My series shape is:\", series.shape)\n",
        "rprint(\"\")\n",
        "rprint(\"###############################################################################################\")\n",
        "my_array=series.values\n",
        "rprint(\"My array dimensions are: \",my_array.ndim)\n",
        "rprint(\"My array size is:\", my_array.size)\n",
        "rprint(\"My array shape is:\", my_array.shape)\n",
        "\n",
        "rprint(\"\")\n",
        "rprint(\"###############################################################################################\")\n",
        "#traditional Python for loop\n",
        "for idx in range(0,my_array.size):\n",
        "    rprint(my_array[idx]);"
      ]
    },
    {
      "cell_type": "code",
      "execution_count": null,
      "metadata": {
        "id": "zssMowhtpwpo",
        "outputId": "f9688bcf-40fe-4da1-af1c-97a579085bd7",
        "colab": {
          "base_uri": "https://localhost:8080/",
          "height": 201
        },
        "executionInfo": {
          "status": "ok",
          "timestamp": 1738696518057,
          "user_tz": 360,
          "elapsed": 177,
          "user": {
            "displayName": "",
            "userId": ""
          }
        }
      },
      "outputs": [
        {
          "output_type": "execute_result",
          "data": {
            "text/plain": [
              "<xarray.DataArray (index: 5)> Size: 40B\n",
              "array([-2.0103,  0.5918,  0.8486,  1.8535,  1.3885])\n",
              "Coordinates:\n",
              "  * index    (index) object 40B 'a' 'b' 'c' 'd' 'e'"
            ],
            "text/html": [
              "<div><svg style=\"position: absolute; width: 0; height: 0; overflow: hidden\">\n",
              "<defs>\n",
              "<symbol id=\"icon-database\" viewBox=\"0 0 32 32\">\n",
              "<path d=\"M16 0c-8.837 0-16 2.239-16 5v4c0 2.761 7.163 5 16 5s16-2.239 16-5v-4c0-2.761-7.163-5-16-5z\"></path>\n",
              "<path d=\"M16 17c-8.837 0-16-2.239-16-5v6c0 2.761 7.163 5 16 5s16-2.239 16-5v-6c0 2.761-7.163 5-16 5z\"></path>\n",
              "<path d=\"M16 26c-8.837 0-16-2.239-16-5v6c0 2.761 7.163 5 16 5s16-2.239 16-5v-6c0 2.761-7.163 5-16 5z\"></path>\n",
              "</symbol>\n",
              "<symbol id=\"icon-file-text2\" viewBox=\"0 0 32 32\">\n",
              "<path d=\"M28.681 7.159c-0.694-0.947-1.662-2.053-2.724-3.116s-2.169-2.030-3.116-2.724c-1.612-1.182-2.393-1.319-2.841-1.319h-15.5c-1.378 0-2.5 1.121-2.5 2.5v27c0 1.378 1.122 2.5 2.5 2.5h23c1.378 0 2.5-1.122 2.5-2.5v-19.5c0-0.448-0.137-1.23-1.319-2.841zM24.543 5.457c0.959 0.959 1.712 1.825 2.268 2.543h-4.811v-4.811c0.718 0.556 1.584 1.309 2.543 2.268zM28 29.5c0 0.271-0.229 0.5-0.5 0.5h-23c-0.271 0-0.5-0.229-0.5-0.5v-27c0-0.271 0.229-0.5 0.5-0.5 0 0 15.499-0 15.5 0v7c0 0.552 0.448 1 1 1h7v19.5z\"></path>\n",
              "<path d=\"M23 26h-14c-0.552 0-1-0.448-1-1s0.448-1 1-1h14c0.552 0 1 0.448 1 1s-0.448 1-1 1z\"></path>\n",
              "<path d=\"M23 22h-14c-0.552 0-1-0.448-1-1s0.448-1 1-1h14c0.552 0 1 0.448 1 1s-0.448 1-1 1z\"></path>\n",
              "<path d=\"M23 18h-14c-0.552 0-1-0.448-1-1s0.448-1 1-1h14c0.552 0 1 0.448 1 1s-0.448 1-1 1z\"></path>\n",
              "</symbol>\n",
              "</defs>\n",
              "</svg>\n",
              "<style>/* CSS stylesheet for displaying xarray objects in jupyterlab.\n",
              " *\n",
              " */\n",
              "\n",
              ":root {\n",
              "  --xr-font-color0: var(--jp-content-font-color0, rgba(0, 0, 0, 1));\n",
              "  --xr-font-color2: var(--jp-content-font-color2, rgba(0, 0, 0, 0.54));\n",
              "  --xr-font-color3: var(--jp-content-font-color3, rgba(0, 0, 0, 0.38));\n",
              "  --xr-border-color: var(--jp-border-color2, #e0e0e0);\n",
              "  --xr-disabled-color: var(--jp-layout-color3, #bdbdbd);\n",
              "  --xr-background-color: var(--jp-layout-color0, white);\n",
              "  --xr-background-color-row-even: var(--jp-layout-color1, white);\n",
              "  --xr-background-color-row-odd: var(--jp-layout-color2, #eeeeee);\n",
              "}\n",
              "\n",
              "html[theme=\"dark\"],\n",
              "html[data-theme=\"dark\"],\n",
              "body[data-theme=\"dark\"],\n",
              "body.vscode-dark {\n",
              "  --xr-font-color0: rgba(255, 255, 255, 1);\n",
              "  --xr-font-color2: rgba(255, 255, 255, 0.54);\n",
              "  --xr-font-color3: rgba(255, 255, 255, 0.38);\n",
              "  --xr-border-color: #1f1f1f;\n",
              "  --xr-disabled-color: #515151;\n",
              "  --xr-background-color: #111111;\n",
              "  --xr-background-color-row-even: #111111;\n",
              "  --xr-background-color-row-odd: #313131;\n",
              "}\n",
              "\n",
              ".xr-wrap {\n",
              "  display: block !important;\n",
              "  min-width: 300px;\n",
              "  max-width: 700px;\n",
              "}\n",
              "\n",
              ".xr-text-repr-fallback {\n",
              "  /* fallback to plain text repr when CSS is not injected (untrusted notebook) */\n",
              "  display: none;\n",
              "}\n",
              "\n",
              ".xr-header {\n",
              "  padding-top: 6px;\n",
              "  padding-bottom: 6px;\n",
              "  margin-bottom: 4px;\n",
              "  border-bottom: solid 1px var(--xr-border-color);\n",
              "}\n",
              "\n",
              ".xr-header > div,\n",
              ".xr-header > ul {\n",
              "  display: inline;\n",
              "  margin-top: 0;\n",
              "  margin-bottom: 0;\n",
              "}\n",
              "\n",
              ".xr-obj-type,\n",
              ".xr-array-name {\n",
              "  margin-left: 2px;\n",
              "  margin-right: 10px;\n",
              "}\n",
              "\n",
              ".xr-obj-type {\n",
              "  color: var(--xr-font-color2);\n",
              "}\n",
              "\n",
              ".xr-sections {\n",
              "  padding-left: 0 !important;\n",
              "  display: grid;\n",
              "  grid-template-columns: 150px auto auto 1fr 0 20px 0 20px;\n",
              "}\n",
              "\n",
              ".xr-section-item {\n",
              "  display: contents;\n",
              "}\n",
              "\n",
              ".xr-section-item input {\n",
              "  display: inline-block;\n",
              "  opacity: 0;\n",
              "  height: 0;\n",
              "}\n",
              "\n",
              ".xr-section-item input + label {\n",
              "  color: var(--xr-disabled-color);\n",
              "}\n",
              "\n",
              ".xr-section-item input:enabled + label {\n",
              "  cursor: pointer;\n",
              "  color: var(--xr-font-color2);\n",
              "}\n",
              "\n",
              ".xr-section-item input:focus + label {\n",
              "  border: 2px solid var(--xr-font-color0);\n",
              "}\n",
              "\n",
              ".xr-section-item input:enabled + label:hover {\n",
              "  color: var(--xr-font-color0);\n",
              "}\n",
              "\n",
              ".xr-section-summary {\n",
              "  grid-column: 1;\n",
              "  color: var(--xr-font-color2);\n",
              "  font-weight: 500;\n",
              "}\n",
              "\n",
              ".xr-section-summary > span {\n",
              "  display: inline-block;\n",
              "  padding-left: 0.5em;\n",
              "}\n",
              "\n",
              ".xr-section-summary-in:disabled + label {\n",
              "  color: var(--xr-font-color2);\n",
              "}\n",
              "\n",
              ".xr-section-summary-in + label:before {\n",
              "  display: inline-block;\n",
              "  content: \"►\";\n",
              "  font-size: 11px;\n",
              "  width: 15px;\n",
              "  text-align: center;\n",
              "}\n",
              "\n",
              ".xr-section-summary-in:disabled + label:before {\n",
              "  color: var(--xr-disabled-color);\n",
              "}\n",
              "\n",
              ".xr-section-summary-in:checked + label:before {\n",
              "  content: \"▼\";\n",
              "}\n",
              "\n",
              ".xr-section-summary-in:checked + label > span {\n",
              "  display: none;\n",
              "}\n",
              "\n",
              ".xr-section-summary,\n",
              ".xr-section-inline-details {\n",
              "  padding-top: 4px;\n",
              "  padding-bottom: 4px;\n",
              "}\n",
              "\n",
              ".xr-section-inline-details {\n",
              "  grid-column: 2 / -1;\n",
              "}\n",
              "\n",
              ".xr-section-details {\n",
              "  display: none;\n",
              "  grid-column: 1 / -1;\n",
              "  margin-bottom: 5px;\n",
              "}\n",
              "\n",
              ".xr-section-summary-in:checked ~ .xr-section-details {\n",
              "  display: contents;\n",
              "}\n",
              "\n",
              ".xr-array-wrap {\n",
              "  grid-column: 1 / -1;\n",
              "  display: grid;\n",
              "  grid-template-columns: 20px auto;\n",
              "}\n",
              "\n",
              ".xr-array-wrap > label {\n",
              "  grid-column: 1;\n",
              "  vertical-align: top;\n",
              "}\n",
              "\n",
              ".xr-preview {\n",
              "  color: var(--xr-font-color3);\n",
              "}\n",
              "\n",
              ".xr-array-preview,\n",
              ".xr-array-data {\n",
              "  padding: 0 5px !important;\n",
              "  grid-column: 2;\n",
              "}\n",
              "\n",
              ".xr-array-data,\n",
              ".xr-array-in:checked ~ .xr-array-preview {\n",
              "  display: none;\n",
              "}\n",
              "\n",
              ".xr-array-in:checked ~ .xr-array-data,\n",
              ".xr-array-preview {\n",
              "  display: inline-block;\n",
              "}\n",
              "\n",
              ".xr-dim-list {\n",
              "  display: inline-block !important;\n",
              "  list-style: none;\n",
              "  padding: 0 !important;\n",
              "  margin: 0;\n",
              "}\n",
              "\n",
              ".xr-dim-list li {\n",
              "  display: inline-block;\n",
              "  padding: 0;\n",
              "  margin: 0;\n",
              "}\n",
              "\n",
              ".xr-dim-list:before {\n",
              "  content: \"(\";\n",
              "}\n",
              "\n",
              ".xr-dim-list:after {\n",
              "  content: \")\";\n",
              "}\n",
              "\n",
              ".xr-dim-list li:not(:last-child):after {\n",
              "  content: \",\";\n",
              "  padding-right: 5px;\n",
              "}\n",
              "\n",
              ".xr-has-index {\n",
              "  font-weight: bold;\n",
              "}\n",
              "\n",
              ".xr-var-list,\n",
              ".xr-var-item {\n",
              "  display: contents;\n",
              "}\n",
              "\n",
              ".xr-var-item > div,\n",
              ".xr-var-item label,\n",
              ".xr-var-item > .xr-var-name span {\n",
              "  background-color: var(--xr-background-color-row-even);\n",
              "  margin-bottom: 0;\n",
              "}\n",
              "\n",
              ".xr-var-item > .xr-var-name:hover span {\n",
              "  padding-right: 5px;\n",
              "}\n",
              "\n",
              ".xr-var-list > li:nth-child(odd) > div,\n",
              ".xr-var-list > li:nth-child(odd) > label,\n",
              ".xr-var-list > li:nth-child(odd) > .xr-var-name span {\n",
              "  background-color: var(--xr-background-color-row-odd);\n",
              "}\n",
              "\n",
              ".xr-var-name {\n",
              "  grid-column: 1;\n",
              "}\n",
              "\n",
              ".xr-var-dims {\n",
              "  grid-column: 2;\n",
              "}\n",
              "\n",
              ".xr-var-dtype {\n",
              "  grid-column: 3;\n",
              "  text-align: right;\n",
              "  color: var(--xr-font-color2);\n",
              "}\n",
              "\n",
              ".xr-var-preview {\n",
              "  grid-column: 4;\n",
              "}\n",
              "\n",
              ".xr-index-preview {\n",
              "  grid-column: 2 / 5;\n",
              "  color: var(--xr-font-color2);\n",
              "}\n",
              "\n",
              ".xr-var-name,\n",
              ".xr-var-dims,\n",
              ".xr-var-dtype,\n",
              ".xr-preview,\n",
              ".xr-attrs dt {\n",
              "  white-space: nowrap;\n",
              "  overflow: hidden;\n",
              "  text-overflow: ellipsis;\n",
              "  padding-right: 10px;\n",
              "}\n",
              "\n",
              ".xr-var-name:hover,\n",
              ".xr-var-dims:hover,\n",
              ".xr-var-dtype:hover,\n",
              ".xr-attrs dt:hover {\n",
              "  overflow: visible;\n",
              "  width: auto;\n",
              "  z-index: 1;\n",
              "}\n",
              "\n",
              ".xr-var-attrs,\n",
              ".xr-var-data,\n",
              ".xr-index-data {\n",
              "  display: none;\n",
              "  background-color: var(--xr-background-color) !important;\n",
              "  padding-bottom: 5px !important;\n",
              "}\n",
              "\n",
              ".xr-var-attrs-in:checked ~ .xr-var-attrs,\n",
              ".xr-var-data-in:checked ~ .xr-var-data,\n",
              ".xr-index-data-in:checked ~ .xr-index-data {\n",
              "  display: block;\n",
              "}\n",
              "\n",
              ".xr-var-data > table {\n",
              "  float: right;\n",
              "}\n",
              "\n",
              ".xr-var-name span,\n",
              ".xr-var-data,\n",
              ".xr-index-name div,\n",
              ".xr-index-data,\n",
              ".xr-attrs {\n",
              "  padding-left: 25px !important;\n",
              "}\n",
              "\n",
              ".xr-attrs,\n",
              ".xr-var-attrs,\n",
              ".xr-var-data,\n",
              ".xr-index-data {\n",
              "  grid-column: 1 / -1;\n",
              "}\n",
              "\n",
              "dl.xr-attrs {\n",
              "  padding: 0;\n",
              "  margin: 0;\n",
              "  display: grid;\n",
              "  grid-template-columns: 125px auto;\n",
              "}\n",
              "\n",
              ".xr-attrs dt,\n",
              ".xr-attrs dd {\n",
              "  padding: 0;\n",
              "  margin: 0;\n",
              "  float: left;\n",
              "  padding-right: 10px;\n",
              "  width: auto;\n",
              "}\n",
              "\n",
              ".xr-attrs dt {\n",
              "  font-weight: normal;\n",
              "  grid-column: 1;\n",
              "}\n",
              "\n",
              ".xr-attrs dt:hover span {\n",
              "  display: inline-block;\n",
              "  background: var(--xr-background-color);\n",
              "  padding-right: 10px;\n",
              "}\n",
              "\n",
              ".xr-attrs dd {\n",
              "  grid-column: 2;\n",
              "  white-space: pre-wrap;\n",
              "  word-break: break-all;\n",
              "}\n",
              "\n",
              ".xr-icon-database,\n",
              ".xr-icon-file-text2,\n",
              ".xr-no-icon {\n",
              "  display: inline-block;\n",
              "  vertical-align: middle;\n",
              "  width: 1em;\n",
              "  height: 1.5em !important;\n",
              "  stroke-width: 0;\n",
              "  stroke: currentColor;\n",
              "  fill: currentColor;\n",
              "}\n",
              "</style><pre class='xr-text-repr-fallback'>&lt;xarray.DataArray (index: 5)&gt; Size: 40B\n",
              "array([-2.0103,  0.5918,  0.8486,  1.8535,  1.3885])\n",
              "Coordinates:\n",
              "  * index    (index) object 40B &#x27;a&#x27; &#x27;b&#x27; &#x27;c&#x27; &#x27;d&#x27; &#x27;e&#x27;</pre><div class='xr-wrap' style='display:none'><div class='xr-header'><div class='xr-obj-type'>xarray.DataArray</div><div class='xr-array-name'></div><ul class='xr-dim-list'><li><span class='xr-has-index'>index</span>: 5</li></ul></div><ul class='xr-sections'><li class='xr-section-item'><div class='xr-array-wrap'><input id='section-d3964375-02c1-41cd-ac87-d0ba8de655d3' class='xr-array-in' type='checkbox' checked><label for='section-d3964375-02c1-41cd-ac87-d0ba8de655d3' title='Show/hide data repr'><svg class='icon xr-icon-database'><use xlink:href='#icon-database'></use></svg></label><div class='xr-array-preview xr-preview'><span>-2.01 0.5918 0.8486 1.854 1.388</span></div><div class='xr-array-data'><pre>array([-2.0103,  0.5918,  0.8486,  1.8535,  1.3885])</pre></div></div></li><li class='xr-section-item'><input id='section-8f25edc8-13e8-4161-a338-979f3f8a04a6' class='xr-section-summary-in' type='checkbox'  checked><label for='section-8f25edc8-13e8-4161-a338-979f3f8a04a6' class='xr-section-summary' >Coordinates: <span>(1)</span></label><div class='xr-section-inline-details'></div><div class='xr-section-details'><ul class='xr-var-list'><li class='xr-var-item'><div class='xr-var-name'><span class='xr-has-index'>index</span></div><div class='xr-var-dims'>(index)</div><div class='xr-var-dtype'>object</div><div class='xr-var-preview xr-preview'>&#x27;a&#x27; &#x27;b&#x27; &#x27;c&#x27; &#x27;d&#x27; &#x27;e&#x27;</div><input id='attrs-b8449cde-8889-4c44-bf57-167e4151b34a' class='xr-var-attrs-in' type='checkbox' disabled><label for='attrs-b8449cde-8889-4c44-bf57-167e4151b34a' title='Show/Hide attributes'><svg class='icon xr-icon-file-text2'><use xlink:href='#icon-file-text2'></use></svg></label><input id='data-f3af69d9-e13e-40c8-9c1a-7c19a23b627e' class='xr-var-data-in' type='checkbox'><label for='data-f3af69d9-e13e-40c8-9c1a-7c19a23b627e' title='Show/Hide data repr'><svg class='icon xr-icon-database'><use xlink:href='#icon-database'></use></svg></label><div class='xr-var-attrs'><dl class='xr-attrs'></dl></div><div class='xr-var-data'><pre>array([&#x27;a&#x27;, &#x27;b&#x27;, &#x27;c&#x27;, &#x27;d&#x27;, &#x27;e&#x27;], dtype=object)</pre></div></li></ul></div></li><li class='xr-section-item'><input id='section-28e6edb0-46f4-4e4b-b892-26d5ec27f9f8' class='xr-section-summary-in' type='checkbox'  ><label for='section-28e6edb0-46f4-4e4b-b892-26d5ec27f9f8' class='xr-section-summary' >Indexes: <span>(1)</span></label><div class='xr-section-inline-details'></div><div class='xr-section-details'><ul class='xr-var-list'><li class='xr-var-item'><div class='xr-index-name'><div>index</div></div><div class='xr-index-preview'>PandasIndex</div><input type='checkbox' disabled/><label></label><input id='index-774111f4-dce7-4662-9653-ea74b09063ae' class='xr-index-data-in' type='checkbox'/><label for='index-774111f4-dce7-4662-9653-ea74b09063ae' title='Show/Hide index repr'><svg class='icon xr-icon-database'><use xlink:href='#icon-database'></use></svg></label><div class='xr-index-data'><pre>PandasIndex(Index([&#x27;a&#x27;, &#x27;b&#x27;, &#x27;c&#x27;, &#x27;d&#x27;, &#x27;e&#x27;], dtype=&#x27;object&#x27;, name=&#x27;index&#x27;))</pre></div></li></ul></div></li><li class='xr-section-item'><input id='section-e200f0a2-d7a1-4894-8a9d-7696a8164b3d' class='xr-section-summary-in' type='checkbox' disabled ><label for='section-e200f0a2-d7a1-4894-8a9d-7696a8164b3d' class='xr-section-summary'  title='Expand/collapse section'>Attributes: <span>(0)</span></label><div class='xr-section-inline-details'></div><div class='xr-section-details'><dl class='xr-attrs'></dl></div></li></ul></div></div>"
            ]
          },
          "metadata": {},
          "execution_count": 15
        }
      ],
      "source": [
        "#now actually store the series in an xarray\n",
        "my_xarray=series.to_xarray()\n",
        "my_xarray"
      ]
    },
    {
      "cell_type": "code",
      "execution_count": null,
      "metadata": {
        "id": "AANhxBEKpwpo",
        "outputId": "aa59ee63-1130-466f-9ad9-af815573e94e",
        "colab": {
          "base_uri": "https://localhost:8080/",
          "height": 115
        },
        "executionInfo": {
          "status": "ok",
          "timestamp": 1738696526379,
          "user_tz": 360,
          "elapsed": 7,
          "user": {
            "displayName": "",
            "userId": ""
          }
        }
      },
      "outputs": [
        {
          "output_type": "display_data",
          "data": {
            "text/plain": [
              "Key \u001b[32m'a'\u001b[0m access: \u001b[1;36m-2.0103204361547946\u001b[0m\n"
            ],
            "text/html": [
              "<pre style=\"white-space:pre;overflow-x:auto;line-height:normal;font-family:Menlo,'DejaVu Sans Mono',consolas,'Courier New',monospace\">Key <span style=\"color: #008000; text-decoration-color: #008000\">'a'</span> access: <span style=\"color: #008080; text-decoration-color: #008080; font-weight: bold\">-2.0103204361547946</span>\n",
              "</pre>\n"
            ]
          },
          "metadata": {}
        },
        {
          "output_type": "display_data",
          "data": {
            "text/plain": [
              "\n"
            ],
            "text/html": [
              "<pre style=\"white-space:pre;overflow-x:auto;line-height:normal;font-family:Menlo,'DejaVu Sans Mono',consolas,'Courier New',monospace\">\n",
              "</pre>\n"
            ]
          },
          "metadata": {}
        },
        {
          "output_type": "display_data",
          "data": {
            "text/plain": [
              "Example of a bad key request for \u001b[32m'z'\u001b[0m with a check: \u001b[3;91mFalse\u001b[0m\n"
            ],
            "text/html": [
              "<pre style=\"white-space:pre;overflow-x:auto;line-height:normal;font-family:Menlo,'DejaVu Sans Mono',consolas,'Courier New',monospace\">Example of a bad key request for <span style=\"color: #008000; text-decoration-color: #008000\">'z'</span> with a check: <span style=\"color: #ff0000; text-decoration-color: #ff0000; font-style: italic\">False</span>\n",
              "</pre>\n"
            ]
          },
          "metadata": {}
        },
        {
          "output_type": "display_data",
          "data": {
            "text/plain": [
              "\n"
            ],
            "text/html": [
              "<pre style=\"white-space:pre;overflow-x:auto;line-height:normal;font-family:Menlo,'DejaVu Sans Mono',consolas,'Courier New',monospace\">\n",
              "</pre>\n"
            ]
          },
          "metadata": {}
        },
        {
          "output_type": "display_data",
          "data": {
            "text/plain": [
              "or\n"
            ],
            "text/html": [
              "<pre style=\"white-space:pre;overflow-x:auto;line-height:normal;font-family:Menlo,'DejaVu Sans Mono',consolas,'Courier New',monospace\">or\n",
              "</pre>\n"
            ]
          },
          "metadata": {}
        },
        {
          "output_type": "display_data",
          "data": {
            "text/plain": [
              "\n"
            ],
            "text/html": [
              "<pre style=\"white-space:pre;overflow-x:auto;line-height:normal;font-family:Menlo,'DejaVu Sans Mono',consolas,'Courier New',monospace\">\n",
              "</pre>\n"
            ]
          },
          "metadata": {}
        },
        {
          "output_type": "display_data",
          "data": {
            "text/plain": [
              "Key \u001b[32m'z'\u001b[0m access with a .get: \u001b[3;35mNone\u001b[0m\n"
            ],
            "text/html": [
              "<pre style=\"white-space:pre;overflow-x:auto;line-height:normal;font-family:Menlo,'DejaVu Sans Mono',consolas,'Courier New',monospace\">Key <span style=\"color: #008000; text-decoration-color: #008000\">'z'</span> access with a .get: <span style=\"color: #800080; text-decoration-color: #800080; font-style: italic\">None</span>\n",
              "</pre>\n"
            ]
          },
          "metadata": {}
        },
        {
          "output_type": "display_data",
          "data": {
            "text/plain": [
              "\n"
            ],
            "text/html": [
              "<pre style=\"white-space:pre;overflow-x:auto;line-height:normal;font-family:Menlo,'DejaVu Sans Mono',consolas,'Courier New',monospace\">\n",
              "</pre>\n"
            ]
          },
          "metadata": {}
        },
        {
          "output_type": "display_data",
          "data": {
            "text/plain": [
              "or perhaps more elegant\n"
            ],
            "text/html": [
              "<pre style=\"white-space:pre;overflow-x:auto;line-height:normal;font-family:Menlo,'DejaVu Sans Mono',consolas,'Courier New',monospace\">or perhaps more elegant\n",
              "</pre>\n"
            ]
          },
          "metadata": {}
        },
        {
          "output_type": "display_data",
          "data": {
            "text/plain": [
              "\n"
            ],
            "text/html": [
              "<pre style=\"white-space:pre;overflow-x:auto;line-height:normal;font-family:Menlo,'DejaVu Sans Mono',consolas,'Courier New',monospace\">\n",
              "</pre>\n"
            ]
          },
          "metadata": {}
        },
        {
          "output_type": "display_data",
          "data": {
            "text/plain": [
              "Key \u001b[32m'z'\u001b[0m access with a .get and return for failure: Not found\n"
            ],
            "text/html": [
              "<pre style=\"white-space:pre;overflow-x:auto;line-height:normal;font-family:Menlo,'DejaVu Sans Mono',consolas,'Courier New',monospace\">Key <span style=\"color: #008000; text-decoration-color: #008000\">'z'</span> access with a .get and return for failure: Not found\n",
              "</pre>\n"
            ]
          },
          "metadata": {}
        }
      ],
      "source": [
        "#dictionary type structure example\n",
        "rprint(\"Key 'a' access:\",series['a'])\n",
        "rprint(\"\")\n",
        "rprint(\"Example of a bad key request for 'z' with a check:\", 'z' in series)\n",
        "rprint(\"\")\n",
        "rprint (\"or\")\n",
        "rprint(\"\")\n",
        "rprint (\"Key 'z' access with a .get:\", series.get('z'))\n",
        "rprint(\"\")\n",
        "rprint (\"or perhaps more elegant\")\n",
        "rprint(\"\")\n",
        "rprint(\"Key 'z' access with a .get and return for failure:\", series.get('z','Not found'))\n"
      ]
    },
    {
      "cell_type": "code",
      "execution_count": null,
      "metadata": {
        "id": "7ReYyWMNpwpp",
        "outputId": "581185b4-8ba1-4e79-80d3-5f4a8adb2e8c",
        "colab": {
          "base_uri": "https://localhost:8080/",
          "height": 262
        },
        "executionInfo": {
          "status": "ok",
          "timestamp": 1738696537986,
          "user_tz": 360,
          "elapsed": 6,
          "user": {
            "displayName": "",
            "userId": ""
          }
        }
      },
      "outputs": [
        {
          "output_type": "display_data",
          "data": {
            "text/plain": [
              "Series added to itself:\n",
              " a   \u001b[1;36m-4.0206\u001b[0m\n",
              "b    \u001b[1;36m1.1837\u001b[0m\n",
              "c    \u001b[1;36m1.6973\u001b[0m\n",
              "d    \u001b[1;36m3.7071\u001b[0m\n",
              "e    \u001b[1;36m2.7769\u001b[0m\n",
              "dtype: float64\n"
            ],
            "text/html": [
              "<pre style=\"white-space:pre;overflow-x:auto;line-height:normal;font-family:Menlo,'DejaVu Sans Mono',consolas,'Courier New',monospace\">Series added to itself:\n",
              " a   <span style=\"color: #008080; text-decoration-color: #008080; font-weight: bold\">-4.0206</span>\n",
              "b    <span style=\"color: #008080; text-decoration-color: #008080; font-weight: bold\">1.1837</span>\n",
              "c    <span style=\"color: #008080; text-decoration-color: #008080; font-weight: bold\">1.6973</span>\n",
              "d    <span style=\"color: #008080; text-decoration-color: #008080; font-weight: bold\">3.7071</span>\n",
              "e    <span style=\"color: #008080; text-decoration-color: #008080; font-weight: bold\">2.7769</span>\n",
              "dtype: float64\n",
              "</pre>\n"
            ]
          },
          "metadata": {}
        },
        {
          "output_type": "display_data",
          "data": {
            "text/plain": [
              "###############################################################################################\n"
            ],
            "text/html": [
              "<pre style=\"white-space:pre;overflow-x:auto;line-height:normal;font-family:Menlo,'DejaVu Sans Mono',consolas,'Courier New',monospace\">###############################################################################################\n",
              "</pre>\n"
            ]
          },
          "metadata": {}
        },
        {
          "output_type": "display_data",
          "data": {
            "text/plain": [
              "\n"
            ],
            "text/html": [
              "<pre style=\"white-space:pre;overflow-x:auto;line-height:normal;font-family:Menlo,'DejaVu Sans Mono',consolas,'Courier New',monospace\">\n",
              "</pre>\n"
            ]
          },
          "metadata": {}
        },
        {
          "output_type": "display_data",
          "data": {
            "text/plain": [
              "Series multiplied by \u001b[1;36m2\u001b[0m:\n",
              " a   \u001b[1;36m-4.0206\u001b[0m\n",
              "b    \u001b[1;36m1.1837\u001b[0m\n",
              "c    \u001b[1;36m1.6973\u001b[0m\n",
              "d    \u001b[1;36m3.7071\u001b[0m\n",
              "e    \u001b[1;36m2.7769\u001b[0m\n",
              "dtype: float64\n"
            ],
            "text/html": [
              "<pre style=\"white-space:pre;overflow-x:auto;line-height:normal;font-family:Menlo,'DejaVu Sans Mono',consolas,'Courier New',monospace\">Series multiplied by <span style=\"color: #008080; text-decoration-color: #008080; font-weight: bold\">2</span>:\n",
              " a   <span style=\"color: #008080; text-decoration-color: #008080; font-weight: bold\">-4.0206</span>\n",
              "b    <span style=\"color: #008080; text-decoration-color: #008080; font-weight: bold\">1.1837</span>\n",
              "c    <span style=\"color: #008080; text-decoration-color: #008080; font-weight: bold\">1.6973</span>\n",
              "d    <span style=\"color: #008080; text-decoration-color: #008080; font-weight: bold\">3.7071</span>\n",
              "e    <span style=\"color: #008080; text-decoration-color: #008080; font-weight: bold\">2.7769</span>\n",
              "dtype: float64\n",
              "</pre>\n"
            ]
          },
          "metadata": {}
        }
      ],
      "source": [
        "#vector manipulations\n",
        "add_series=series+series\n",
        "rprint(\"Series added to itself:\\n\", add_series)\n",
        "\n",
        "rprint(\"###############################################################################################\")\n",
        "\n",
        "multiply_series=series * 2\n",
        "rprint(\"\")\n",
        "rprint(\"Series multiplied by 2:\\n\", multiply_series)\n"
      ]
    },
    {
      "cell_type": "code",
      "execution_count": null,
      "metadata": {
        "id": "T6r1LFtVpwpp",
        "outputId": "c998ad9b-e397-4f2c-ffeb-c26fa1b95c95",
        "colab": {
          "base_uri": "https://localhost:8080/",
          "height": 99
        },
        "executionInfo": {
          "status": "ok",
          "timestamp": 1738696543541,
          "user_tz": 360,
          "elapsed": 5,
          "user": {
            "displayName": "",
            "userId": ""
          }
        }
      },
      "outputs": [
        {
          "output_type": "display_data",
          "data": {
            "text/plain": [
              "Name your data\n"
            ],
            "text/html": [
              "<pre style=\"white-space:pre;overflow-x:auto;line-height:normal;font-family:Menlo,'DejaVu Sans Mono',consolas,'Courier New',monospace\">Name your data\n",
              "</pre>\n"
            ]
          },
          "metadata": {}
        },
        {
          "output_type": "display_data",
          "data": {
            "text/plain": [
              "###############################################################################################\n"
            ],
            "text/html": [
              "<pre style=\"white-space:pre;overflow-x:auto;line-height:normal;font-family:Menlo,'DejaVu Sans Mono',consolas,'Courier New',monospace\">###############################################################################################\n",
              "</pre>\n"
            ]
          },
          "metadata": {}
        },
        {
          "output_type": "display_data",
          "data": {
            "text/plain": [
              "\u001b[3;35mNone\u001b[0m\n"
            ],
            "text/html": [
              "<pre style=\"white-space:pre;overflow-x:auto;line-height:normal;font-family:Menlo,'DejaVu Sans Mono',consolas,'Courier New',monospace\"><span style=\"color: #800080; text-decoration-color: #800080; font-style: italic\">None</span>\n",
              "</pre>\n"
            ]
          },
          "metadata": {}
        },
        {
          "output_type": "display_data",
          "data": {
            "text/plain": [
              "or\n"
            ],
            "text/html": [
              "<pre style=\"white-space:pre;overflow-x:auto;line-height:normal;font-family:Menlo,'DejaVu Sans Mono',consolas,'Courier New',monospace\">or\n",
              "</pre>\n"
            ]
          },
          "metadata": {}
        },
        {
          "output_type": "display_data",
          "data": {
            "text/plain": [
              "My Example Series\n"
            ],
            "text/html": [
              "<pre style=\"white-space:pre;overflow-x:auto;line-height:normal;font-family:Menlo,'DejaVu Sans Mono',consolas,'Courier New',monospace\">My Example Series\n",
              "</pre>\n"
            ]
          },
          "metadata": {}
        }
      ],
      "source": [
        "#Series attribution\n",
        "rprint(\"Name your data\")\n",
        "rprint(\"###############################################################################################\")\n",
        "rprint(series.name)\n",
        "rprint(\"or\")\n",
        "series2 = series.rename(\"My Example Series\")\n",
        "rprint(series2.name)"
      ]
    }
  ],
  "metadata": {
    "kernelspec": {
      "display_name": "Python 3 (ipykernel)",
      "language": "python",
      "name": "python3"
    },
    "language_info": {
      "codemirror_mode": {
        "name": "ipython",
        "version": 3
      },
      "file_extension": ".py",
      "mimetype": "text/x-python",
      "name": "python",
      "nbconvert_exporter": "python",
      "pygments_lexer": "ipython3",
      "version": "3.8.13"
    },
    "colab": {
      "provenance": [],
      "name": "002_pandas_DataStructure_Series.ipynb"
    }
  },
  "nbformat": 4,
  "nbformat_minor": 0
}