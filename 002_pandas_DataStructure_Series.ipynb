{
 "cells": [
  {
   "cell_type": "markdown",
   "metadata": {},
   "source": [
    "# Pandas DataStructure known as the Series\n",
    "### What is Pandas?\n",
    "#### Pandas is a library used a great deal in the \"Data Science\" community that encapsulates arrays and provides a lot of functionality and \n",
    "#### optimization for certain functions.\n",
    "\n",
    "### Would I use Pandas for everything?\n",
    "#### Nope.  Machine learning, see 004_sklearn_pandas_linearRegress_opticsMoorningData, likes single dimensional arrays.\n",
    "#### But I would use Pandas to read, prep, and then marshal data into the structure my machine learning API wants."
   ]
  },
  {
   "cell_type": "code",
   "execution_count": 1,
   "metadata": {},
   "outputs": [],
   "source": [
    "import numpy as np\n",
    "import pandas as pd"
   ]
  },
  {
   "cell_type": "markdown",
   "metadata": {},
   "source": [
    "## Quick Pro-tips"
   ]
  },
  {
   "cell_type": "code",
   "execution_count": 2,
   "metadata": {},
   "outputs": [],
   "source": [
    "#show all data returned from the dataset (could be HUGE, be careful)\n",
    "pd.set_option('display.max_rows', None)\n",
    "#or\n",
    "pd.set_option('display.max_rows', 10)\n",
    "\n",
    "#also note that it gets tiring seeing LOTS of floating points\n",
    "pd.options.display.float_format = '{:,.4f}'.format\n",
    "\n",
    "#nump equivalent\n",
    "np.set_printoptions(precision=4)"
   ]
  },
  {
   "cell_type": "code",
   "execution_count": 3,
   "metadata": {},
   "outputs": [
    {
     "name": "stdout",
     "output_type": "stream",
     "text": [
      "0        1\n",
      "1        2\n",
      "2        3\n",
      "3        4\n",
      "4        5\n",
      "      ... \n",
      "7     blue\n",
      "8        6\n",
      "9        7\n",
      "10       8\n",
      "11       9\n",
      "Length: 12, dtype: object\n"
     ]
    }
   ],
   "source": [
    "#Series is a one-dimensional labeled array capable of holding any data type \n",
    "series = pd.Series([1,2,3,4,5,'red','green','blue',6,7,8,9])\n",
    "print(series)"
   ]
  },
  {
   "cell_type": "code",
   "execution_count": 4,
   "metadata": {},
   "outputs": [
    {
     "name": "stdout",
     "output_type": "stream",
     "text": [
      "a    1.2373\n",
      "b   -0.0949\n",
      "c    0.3676\n",
      "d   -0.2710\n",
      "e   -0.0273\n",
      "dtype: float64\n",
      "-------------------------------------------------------------------\n",
      "Index(['a', 'b', 'c', 'd', 'e'], dtype='object')\n",
      "-------------------------------------------------------------------\n",
      "1.2372780855703776\n",
      "-------------------------------------------------------------------\n",
      "a    1.2373\n",
      "b   -0.0949\n",
      "c    0.3676\n",
      "d   -0.2710\n",
      "e   -0.0273\n",
      "dtype: float64\n"
     ]
    }
   ],
   "source": [
    "#If data is an ndarray, index must be the same length as data. If no index is passed, one will be created\n",
    "series=pd.Series(np.random.randn(5), index=['a', 'b', 'c', 'd', 'e'])\n",
    "print(series)\n",
    "print(\"-------------------------------------------------------------------\")\n",
    "print(series.index)\n",
    "print(\"-------------------------------------------------------------------\")\n",
    "print(series[0])\n",
    "print(\"-------------------------------------------------------------------\")\n",
    "print(series[:])"
   ]
  },
  {
   "cell_type": "code",
   "execution_count": 5,
   "metadata": {},
   "outputs": [
    {
     "name": "stdout",
     "output_type": "stream",
     "text": [
      "b    1\n",
      "a    0\n",
      "c    2\n",
      "dtype: int64\n",
      "1\n"
     ]
    }
   ],
   "source": [
    "#notice that a series can be created from a classic (key=value pair) dictionary\n",
    "d = {'b': 1, 'a': 0, 'c': 2}\n",
    "series=pd.Series(d)\n",
    "print(series)\n",
    "print(series[\"b\"])"
   ]
  },
  {
   "cell_type": "code",
   "execution_count": 6,
   "metadata": {},
   "outputs": [
    {
     "name": "stdout",
     "output_type": "stream",
     "text": [
      "Full array\n",
      "################################################################################################################\n",
      "a   -0.8796\n",
      "b    0.4979\n",
      "c    1.1537\n",
      "d   -1.0412\n",
      "e    0.5706\n",
      "dtype: float64\n",
      "################################################################################################################\n",
      "\n",
      "Just the first index\n",
      "    When directly indexed the 'index' is not included.\n",
      "################################################################################################################\n",
      "-0.8796269846113157\n",
      "\n",
      " All values up to element #3\n",
      "################################################################################################################\n",
      "a   -0.8796\n",
      "b    0.4979\n",
      "c    1.1537\n",
      "dtype: float64\n",
      "\n",
      "Only those values greater than the median\n",
      "################################################################################################################\n",
      "c   1.1537\n",
      "e   0.5706\n",
      "dtype: float64\n",
      "\n",
      "Integrate with numpy and calculate the exponent, notice Numpy integration\n",
      "################################################################################################################\n",
      "a   0.4149\n",
      "b   1.6453\n",
      "c   3.1700\n",
      "d   0.3530\n",
      "e   1.7694\n",
      "dtype: float64\n"
     ]
    }
   ],
   "source": [
    "#Series acts very similarly to a ndarray, and is a valid argument to most NumPy functions. However, operations such as slicing will also slice the index.\n",
    "#If data is an ndarray, index must be the same length as data. If no index is passed, one will be created\n",
    "series=pd.Series(np.random.randn(5), index=['a', 'b', 'c', 'd', 'e'])\n",
    "print(\"Full array\")\n",
    "print(\"################################################################################################################\")\n",
    "print(series)\n",
    "print(\"################################################################################################################\")\n",
    "print(\"\")\n",
    "print (\"Just the first index\")\n",
    "print(\"    When directly indexed the 'index' is not included.\")\n",
    "print(\"################################################################################################################\")\n",
    "print(series[0])\n",
    "print(\"\")\n",
    "\n",
    "print(\" All values up to element #3\")\n",
    "print(\"################################################################################################################\")\n",
    "print(series[:3])\n",
    "print(\"\")\n",
    "\n",
    "print (\"Only those values greater than the median\")\n",
    "print(\"################################################################################################################\")\n",
    "print(series[series > series.median()])\n",
    "print(\"\")\n",
    "\n",
    "print(\"Integrate with numpy and calculate the exponent, notice Numpy integration\")\n",
    "print(\"################################################################################################################\")\n",
    "print(np.exp(series))"
   ]
  },
  {
   "cell_type": "code",
   "execution_count": 7,
   "metadata": {},
   "outputs": [
    {
     "name": "stdout",
     "output_type": "stream",
     "text": [
      "float64\n"
     ]
    }
   ],
   "source": [
    "#Series data type operations\n",
    "print(series.dtype)"
   ]
  },
  {
   "cell_type": "code",
   "execution_count": 8,
   "metadata": {},
   "outputs": [
    {
     "name": "stdout",
     "output_type": "stream",
     "text": [
      "Dump the contents of the Series into a single dimensional Numpy array.\n",
      "###############################################################################################\n",
      "[-0.8796  0.4979  1.1537 -1.0412  0.5706]\n",
      "\n",
      "My series dimensions are:  1\n",
      "My series size is: 5\n",
      "My series shpae is: (5,)\n",
      "\n",
      "###############################################################################################\n",
      "My array dimensions are:  1\n",
      "My array size is: 5\n",
      "My array shape is: (5,)\n",
      "\n",
      "###############################################################################################\n",
      "-0.8796269846113157\n",
      "0.49789547055197225\n",
      "1.1537373327718028\n",
      "-1.0411748492131319\n",
      "0.5706411354419607\n"
     ]
    }
   ],
   "source": [
    "#Get the actual array in a series, maybe for direct manipulation\n",
    "print(\"Dump the contents of the Series into a single dimensional Numpy array.\")\n",
    "print(\"###############################################################################################\")\n",
    "print(series.values)\n",
    "print(\"\")\n",
    "print(\"My series dimensions are: \",series.ndim)\n",
    "print(\"My series size is:\", series.size)\n",
    "print(\"My series shpae is:\", series.shape)\n",
    "print(\"\")\n",
    "print(\"###############################################################################################\")\n",
    "my_array=series.values\n",
    "print(\"My array dimensions are: \",my_array.ndim)\n",
    "print(\"My array size is:\", my_array.size)\n",
    "print(\"My array shape is:\", my_array.shape)\n",
    "\n",
    "print(\"\")\n",
    "print(\"###############################################################################################\")\n",
    "#traditional Python for loop\n",
    "for idx in range(0,my_array.size):\n",
    "    print(my_array[idx]);"
   ]
  },
  {
   "cell_type": "code",
   "execution_count": 9,
   "metadata": {},
   "outputs": [
    {
     "data": {
      "text/plain": [
       "<bound method NDFrame.to_xarray of a   -0.8796\n",
       "b    0.4979\n",
       "c    1.1537\n",
       "d   -1.0412\n",
       "e    0.5706\n",
       "dtype: float64>"
      ]
     },
     "execution_count": 9,
     "metadata": {},
     "output_type": "execute_result"
    }
   ],
   "source": [
    "#now actually store the series in an xarray\n",
    "series.to_xarray"
   ]
  },
  {
   "cell_type": "code",
   "execution_count": 10,
   "metadata": {},
   "outputs": [
    {
     "name": "stdout",
     "output_type": "stream",
     "text": [
      "Key 'a' access: -0.8796269846113157\n",
      "\n",
      "Example of a bad key request for 'z' with a check: False\n",
      "\n",
      "or\n",
      "\n",
      "Key 'z' access with a .get: None\n",
      "\n",
      "or perhaps more elegant\n",
      "\n",
      "Key 'z' access with a .get and return for failure: Not found\n"
     ]
    }
   ],
   "source": [
    "#dictionary type structure example\n",
    "print(\"Key 'a' access:\",series['a'])\n",
    "print(\"\")\n",
    "print(\"Example of a bad key request for 'z' with a check:\", 'z' in series)\n",
    "print(\"\")\n",
    "print (\"or\")\n",
    "print(\"\")\n",
    "print (\"Key 'z' access with a .get:\", series.get('z'))\n",
    "print(\"\")\n",
    "print (\"or perhaps more elegant\")\n",
    "print(\"\")\n",
    "print(\"Key 'z' access with a .get and return for failure:\", series.get('z','Not found'))\n"
   ]
  },
  {
   "cell_type": "code",
   "execution_count": 11,
   "metadata": {},
   "outputs": [
    {
     "name": "stdout",
     "output_type": "stream",
     "text": [
      "Series added to itself:\n",
      " a   -1.7593\n",
      "b    0.9958\n",
      "c    2.3075\n",
      "d   -2.0823\n",
      "e    1.1413\n",
      "dtype: float64\n",
      "###############################################################################################\n",
      "\n",
      "Series multiplied by 2:\n",
      " a   -1.7593\n",
      "b    0.9958\n",
      "c    2.3075\n",
      "d   -2.0823\n",
      "e    1.1413\n",
      "dtype: float64\n"
     ]
    }
   ],
   "source": [
    "#vector manipulations\n",
    "add_series=series+series\n",
    "print(\"Series added to itself:\\n\", add_series)\n",
    "print(\"###############################################################################################\")\n",
    "multiply_series=series * 2\n",
    "print(\"\")\n",
    "print(\"Series multiplied by 2:\\n\", multiply_series)\n"
   ]
  },
  {
   "cell_type": "code",
   "execution_count": 12,
   "metadata": {},
   "outputs": [
    {
     "name": "stdout",
     "output_type": "stream",
     "text": [
      "Name your data\n",
      "###############################################################################################\n",
      "None\n",
      "or\n",
      "My Example Series\n"
     ]
    }
   ],
   "source": [
    "#Series attribution\n",
    "print(\"Name your data\")\n",
    "print(\"###############################################################################################\")\n",
    "print(series.name)\n",
    "print(\"or\")\n",
    "series2 = series.rename(\"My Example Series\")\n",
    "print(series2.name)"
   ]
  }
 ],
 "metadata": {
  "kernelspec": {
   "display_name": "Python 3 (ipykernel)",
   "language": "python",
   "name": "python3"
  },
  "language_info": {
   "codemirror_mode": {
    "name": "ipython",
    "version": 3
   },
   "file_extension": ".py",
   "mimetype": "text/x-python",
   "name": "python",
   "nbconvert_exporter": "python",
   "pygments_lexer": "ipython3",
   "version": "3.8.13"
  }
 },
 "nbformat": 4,
 "nbformat_minor": 4
}
