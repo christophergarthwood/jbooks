{
 "cells": [
  {
   "cell_type": "markdown",
   "metadata": {
    "id": "Jg3iJooMQjWA"
   },
   "source": [
    "# Generative Artificial Intelligence\n",
    "## Prompt Engineering\n",
    "### A Newer Hope? Spotted Lantern Flies?  Asian Longhorn Beetles?\n",
    "\n",
    "**Generative artificial intelligence** (generative AI, GenAI, or GAI) refers to artificial intelligence systems capable of creating original content in various forms, such as text, images, videos, or even software code.\n",
    "\n",
    "+ These systems operate using generative models, which learn patterns and structures from their input training data and then generate new data with similar characteristics. The advancements in transformer-based deep neural networks, particularly large language models (LLMs).\n",
    "+ Prompt engineering is the process of structuring an instruction that can be interpreted and understood by a generative AI model. In other words, a prompt is natural language text describing the task that an AI should perform.\n",
    "+ Understanding how to make a prompt work for you is an important skill.\n",
    "\n",
    "\n",
    "### References:\n",
    "\n",
    "+ https://realpython.com/practical-prompt-engineering/\n",
    "+ https://python.langchain.com/v0.1/docs/modules/model_io/prompts/partial/\n",
    "+ https://www.promptingguide.ai/risks/adversarial#defense-tactics\n",
    "+ https://developers.google.com/machine-learning/resources/prompt-eng\n"
   ]
  },
  {
   "cell_type": "code",
   "execution_count": 1,
   "metadata": {
    "tags": []
   },
   "outputs": [],
   "source": [
    "PROJECT_NAME=\"ai-training-2024-08-09-bucket\""
   ]
  },
  {
   "cell_type": "markdown",
   "metadata": {
    "id": "s5Sx_RHQF18s"
   },
   "source": [
    "## Environment"
   ]
  },
  {
   "cell_type": "code",
   "execution_count": 2,
   "metadata": {
    "colab": {
     "base_uri": "https://localhost:8080/"
    },
    "executionInfo": {
     "elapsed": 4,
     "status": "ok",
     "timestamp": 1717789171531,
     "user": {
      "displayName": "",
      "userId": ""
     },
     "user_tz": 300
    },
    "id": "shY7a4DVQjWB",
    "outputId": "ba5ddc11-3b60-468b-a9c0-1ffacecce6b1",
    "tags": []
   },
   "outputs": [
    {
     "name": "stdout",
     "output_type": "stream",
     "text": [
      "You are running this notebook with Jupyter iPython runtime.\n"
     ]
    }
   ],
   "source": [
    "# +++++++++++++++++++++++++++++++++++++++++++++++++++++++++++++++++++++++\n",
    "#- Google Colab Check\n",
    "# +++++++++++++++++++++++++++++++++++++++++++++++++++++++++++++++++++++++\n",
    "RunningInCOLAB = False\n",
    "RunningInCOLAB = 'google.colab' in str(get_ipython())\n",
    "\n",
    "if RunningInCOLAB:\n",
    "    print(\"You are running this notebook in Google Colab.\")\n",
    "else:\n",
    "    print(\"You are running this notebook with Jupyter iPython runtime.\")"
   ]
  },
  {
   "cell_type": "markdown",
   "metadata": {
    "id": "5NnS27iEF41P"
   },
   "source": [
    "## Library Management"
   ]
  },
  {
   "cell_type": "code",
   "execution_count": 8,
   "metadata": {
    "id": "qlsjoFw5QjWC",
    "tags": []
   },
   "outputs": [],
   "source": [
    "\n",
    "import sys\n",
    "import subprocess\n",
    "import importlib.util"
   ]
  },
  {
   "cell_type": "code",
   "execution_count": 9,
   "metadata": {
    "colab": {
     "base_uri": "https://localhost:8080/"
    },
    "executionInfo": {
     "elapsed": 5,
     "status": "ok",
     "timestamp": 1717789180369,
     "user": {
      "displayName": "",
      "userId": ""
     },
     "user_tz": 300
    },
    "id": "nUugIaSYhSw6",
    "outputId": "55bf48c7-e1e4-4294-c6f5-ce6d5bb2942b",
    "tags": []
   },
   "outputs": [
    {
     "name": "stdout",
     "output_type": "stream",
     "text": [
      "Library nltk already installed.\n",
      "Library bs4 already installed.\n",
      "Library wordcloud already installed.\n",
      "Library pathlib already installed.\n",
      "Library numpy already installed.\n",
      "Library Pillow already installed.\n"
     ]
    }
   ],
   "source": [
    "libraries=[\"nltk\", \"bs4\", \"wordcloud\", \"pathlib\", \"numpy\", \"Pillow\"]\n",
    "import importlib.util\n",
    "\n",
    "for library in libraries:\n",
    "    if library == \"Pillow\":\n",
    "      spec = importlib.util.find_spec(\"PIL\")\n",
    "    else:\n",
    "      spec = importlib.util.find_spec(library)\n",
    "    if spec is None:\n",
    "      print(\"Installing library \" + library)\n",
    "      subprocess.run([\"pip\", \"install\" , library, \"--quiet\"])\n",
    "    else:\n",
    "      print(\"Library \" + library + \" already installed.\")"
   ]
  },
  {
   "cell_type": "code",
   "execution_count": 12,
   "metadata": {
    "colab": {
     "base_uri": "https://localhost:8080/"
    },
    "executionInfo": {
     "elapsed": 4,
     "status": "ok",
     "timestamp": 1717789180369,
     "user": {
      "displayName": "",
      "userId": ""
     },
     "user_tz": 300
    },
    "id": "shu7BuR6QjWC",
    "outputId": "7eb7951a-d096-4762-bd7a-1189f9e1ea79",
    "tags": []
   },
   "outputs": [
    {
     "ename": "NameError",
     "evalue": "name 'nltk' is not defined",
     "output_type": "error",
     "traceback": [
      "\u001b[0;31m---------------------------------------------------------------------------\u001b[0m",
      "\u001b[0;31mNameError\u001b[0m                                 Traceback (most recent call last)",
      "Cell \u001b[0;32mIn[12], line 5\u001b[0m\n\u001b[1;32m      1\u001b[0m \u001b[38;5;66;03m# +++++++++++++++++++++++++++++++++++++++++++++++++++++++++++++++++++++++\u001b[39;00m\n\u001b[1;32m      2\u001b[0m \u001b[38;5;66;03m#- Required to load necessary files to support NLTK\u001b[39;00m\n\u001b[1;32m      3\u001b[0m \u001b[38;5;66;03m#- NLTK required resources\u001b[39;00m\n\u001b[1;32m      4\u001b[0m \u001b[38;5;66;03m# +++++++++++++++++++++++++++++++++++++++++++++++++++++++++++++++++++++++\u001b[39;00m\n\u001b[0;32m----> 5\u001b[0m \u001b[43mnltk\u001b[49m\u001b[38;5;241m.\u001b[39mdownload(\u001b[38;5;124m\"\u001b[39m\u001b[38;5;124mstopwords\u001b[39m\u001b[38;5;124m\"\u001b[39m)\n\u001b[1;32m      6\u001b[0m nltk\u001b[38;5;241m.\u001b[39mdownload(\u001b[38;5;124m\"\u001b[39m\u001b[38;5;124mpunkt\u001b[39m\u001b[38;5;124m\"\u001b[39m)\n\u001b[1;32m      7\u001b[0m nltk\u001b[38;5;241m.\u001b[39mdownload(\u001b[38;5;124m\"\u001b[39m\u001b[38;5;124mwords\u001b[39m\u001b[38;5;124m\"\u001b[39m)\n",
      "\u001b[0;31mNameError\u001b[0m: name 'nltk' is not defined"
     ]
    }
   ],
   "source": [
    "# +++++++++++++++++++++++++++++++++++++++++++++++++++++++++++++++++++++++\n",
    "#- Required to load necessary files to support NLTK\n",
    "#- NLTK required resources\n",
    "# +++++++++++++++++++++++++++++++++++++++++++++++++++++++++++++++++++++++\n",
    "nltk.download(\"stopwords\")\n",
    "nltk.download(\"punkt\")\n",
    "nltk.download(\"words\")\n",
    "#nltk.download(\"all\")  #<- Only do this if you want the full spectrum of all possible packages, it's a LOT!\n",
    "\n",
    "# Noun Part of Speech Tags used by NLTK\n",
    "# More can be found here\n",
    "# http://www.winwaed.com/blog/2011/11/08/part-of-speech-tags/\n",
    "NOUNS = ['NN', 'NNS', 'NNP', 'NNPS']\n",
    "VERBS = ['VB', 'VBG', 'VBD', 'VBN', 'VBP', 'VBZ']"
   ]
  },
  {
   "cell_type": "code",
   "execution_count": 13,
   "metadata": {
    "id": "1vadEsUuQjWD",
    "tags": []
   },
   "outputs": [],
   "source": [
    "# +++++++++++++++++++++++++++++++++++++++++++++++++++++++++++++++++++++++\n",
    "#- Natural Language Processing (NLP) specific libs\n",
    "# +++++++++++++++++++++++++++++++++++++++++++++++++++++++++++++++++++++++\n",
    "from nltk.tokenize import sent_tokenize, word_tokenize\n",
    "from nltk.corpus import stopwords\n",
    "from nltk.tokenize import word_tokenize\n",
    "from nltk.stem import PorterStemmer  # A word stemmer based on the Porter stemming algorithm.  Porter, M. \"An algorithm for suffix stripping.\" Program 14.3 (1980): 130-137.\n",
    "from nltk import pos_tag\n",
    "from nltk.tree import tree\n",
    "from nltk import FreqDist\n",
    "from nltk import sent_tokenize, word_tokenize, PorterStemmer\n",
    "from nltk.corpus import stopwords\n",
    "\n",
    "#from nltk.book import * #<- Large Download, only pull if you want raw material to work with"
   ]
  },
  {
   "cell_type": "code",
   "execution_count": 14,
   "metadata": {
    "id": "PJuXEPlkSo9p",
    "tags": []
   },
   "outputs": [],
   "source": [
    "# +++++++++++++++++++++++++++++++++++++++++++++++++++++++++++++++++++++++\n",
    "# More NLP specific libraries\n",
    "# +++++++++++++++++++++++++++++++++++++++++++++++++++++++++++++++++++++++\n",
    "from bs4 import BeautifulSoup                 #used to parse the text\n",
    "from wordcloud import WordCloud, STOPWORDS    #custom library specifically designed to make word clouds\n",
    "stemmer = PorterStemmer()\n",
    "\n",
    "# +++++++++++++++++++++++++++++++++++++++++++++++++++++++++++++++++++++++\n",
    "# a set of libraries that perhaps should always be in Python source\n",
    "# +++++++++++++++++++++++++++++++++++++++++++++++++++++++++++++++++++++++\n",
    "import os\n",
    "import socket\n",
    "import sys\n",
    "import getopt\n",
    "import inspect\n",
    "import warnings\n",
    "import json\n",
    "import pickle\n",
    "from pathlib import Path\n",
    "import itertools\n",
    "import datetime\n",
    "import re\n",
    "import shutil\n",
    "import string\n",
    "import io\n",
    "\n",
    "# +++++++++++++++++++++++++++++++++++++++++++++++++++++++++++++++++++++++\n",
    "# Additional libraries for this work\n",
    "# +++++++++++++++++++++++++++++++++++++++++++++++++++++++++++++++++++++++\n",
    "import math\n",
    "from base64 import b64decode\n",
    "from IPython.display import Image\n",
    "import requests\n",
    "\n",
    "# +++++++++++++++++++++++++++++++++++++++++++++++++++++++++++++++++++++++\n",
    "# Data Science Libraries\n",
    "# +++++++++++++++++++++++++++++++++++++++++++++++++++++++++++++++++++++++\n",
    "import numpy as np\n",
    "\n",
    "# +++++++++++++++++++++++++++++++++++++++++++++++++++++++++++++++++++++++\n",
    "# Graphics\n",
    "# +++++++++++++++++++++++++++++++++++++++++++++++++++++++++++++++++++++++\n",
    "import matplotlib.pyplot as plt\n",
    "from PIL import Image\n",
    "import PIL.ImageOps\n",
    "\n",
    "# +++++++++++++++++++++++++++++++++++++++++++++++++++++++++++++++++++++++\n",
    "# progress bar\n",
    "# +++++++++++++++++++++++++++++++++++++++++++++++++++++++++++++++++++++++\n",
    "from tqdm import tqdm"
   ]
  },
  {
   "cell_type": "markdown",
   "metadata": {
    "id": "2T-A9h3ZF95W"
   },
   "source": [
    "## Function"
   ]
  },
  {
   "cell_type": "code",
   "execution_count": 15,
   "metadata": {
    "id": "QSdZ6g7rF_QF",
    "tags": []
   },
   "outputs": [],
   "source": [
    "## Outputs library version history of effort.\n",
    "#\n",
    "#  @returns (None)                  - None\n",
    "def lib_diagnostics() -> None:\n",
    "\n",
    "    import pkg_resources\n",
    "    \n",
    "    package_name_length=40\n",
    "    package_version_length=20\n",
    "\n",
    "    # Get installed packages\n",
    "    the_packages=[\"nltk\", \"numpy\", \"os\", \"pandas\"]\n",
    "    installed = {pkg.key: pkg.version for pkg in pkg_resources.working_set}\n",
    "    for package_idx, package_name in enumerate(installed):\n",
    "         if package_name in the_packages:\n",
    "             installed_version = installed[package_name]\n",
    "             print(f\"{package_name:<40}#: {str(pkg_resources.parse_version(installed_version)):<20}\")\n",
    "   \n",
    "    try:\n",
    "        print(f\"{'TensorFlow version':<40}#: {str(tf.__version__):<20}\")\n",
    "        print(f\"{'     gpu.count:':<40}#: {str(len(tf.config.experimental.list_physical_devices('GPU')))}\")\n",
    "        print(f\"{'     cpu.count:':<40}#: {str(len(tf.config.experimental.list_physical_devices('CPU')))}\")\n",
    "    except Exception as e:\n",
    "        pass\n",
    "\n",
    "    try:\n",
    "        print(f\"{'Torch version':<40}#: {str(torch.__version__):<20}\")\n",
    "        print(f\"{'     GPUs available?':<40}#: {torch.cuda.is_available()}\")\n",
    "        print(f\"{'     count':<40}#: {torch.cuda.device_count()}\")\n",
    "        print(f\"{'     current':<40}#: {torch.cuda.current_device()}\")\n",
    "    except Exception as e:\n",
    "        pass\n",
    "\n",
    "\n",
    "    try:\n",
    "      print(f\"{'OpenAI Azure Version':<40}#: {str(the_openai_version):<20}\")\n",
    "    except Exception as e:\n",
    "      pass\n",
    "    return"
   ]
  },
  {
   "cell_type": "markdown",
   "metadata": {
    "id": "oCiUpJJdGA-t"
   },
   "source": [
    "## Function Call"
   ]
  },
  {
   "cell_type": "code",
   "execution_count": 16,
   "metadata": {
    "colab": {
     "base_uri": "https://localhost:8080/"
    },
    "executionInfo": {
     "elapsed": 233,
     "status": "ok",
     "timestamp": 1717789180853,
     "user": {
      "displayName": "",
      "userId": ""
     },
     "user_tz": 300
    },
    "id": "UuMzDijsGDcv",
    "outputId": "273c6fcb-856d-44da-848b-a5787f99d901",
    "tags": []
   },
   "outputs": [
    {
     "name": "stdout",
     "output_type": "stream",
     "text": [
      "nltk                                    #: 3.8.1               \n",
      "numpy                                   #: 1.26.4              \n",
      "pandas                                  #: 2.2.2               \n"
     ]
    },
    {
     "name": "stderr",
     "output_type": "stream",
     "text": [
      "/var/tmp/ipykernel_2859385/1071653814.py:6: DeprecationWarning: pkg_resources is deprecated as an API. See https://setuptools.pypa.io/en/latest/pkg_resources.html\n",
      "  import pkg_resources\n"
     ]
    }
   ],
   "source": [
    "lib_diagnostics()"
   ]
  },
  {
   "cell_type": "markdown",
   "metadata": {
    "id": "46JMSTY2QjWD"
   },
   "source": [
    "# Input Sources"
   ]
  },
  {
   "cell_type": "code",
   "execution_count": 17,
   "metadata": {
    "id": "XSxCUy0thgNM",
    "tags": []
   },
   "outputs": [],
   "source": [
    "###########################################\n",
    "#- API Parameters for things like WordCloud\n",
    "#- Variables help hold information for later use\n",
    "#- The \"constants\" represent variables that we don't anticipate changing over the course of the program.\n",
    "###########################################\n",
    "IMG_BACKGROUND=None                             #None without quotes or \"black\", \"white\", etc...\n",
    "IMG_FONT_SIZE_MIN=10\n",
    "IMG_WIDTH=1024\n",
    "IMG_HEIGHT=768\n"
   ]
  },
  {
   "cell_type": "code",
   "execution_count": 18,
   "metadata": {
    "colab": {
     "base_uri": "https://localhost:8080/"
    },
    "executionInfo": {
     "elapsed": 6016,
     "status": "ok",
     "timestamp": 1717789186867,
     "user": {
      "displayName": "",
      "userId": ""
     },
     "user_tz": 300
    },
    "id": "0auKG8-LT820",
    "outputId": "c346daa4-8057-4b52-b7ed-22986195e5d8",
    "tags": []
   },
   "outputs": [
    {
     "name": "stdout",
     "output_type": "stream",
     "text": [
      "Creating a folder (./folderOnColab) to store project data.\n",
      "Copying ANewHope.txt to target folder: ./folderOnColab\n"
     ]
    },
    {
     "name": "stderr",
     "output_type": "stream",
     "text": [
      "Copying gs://usfs-gcp-rand-test3-data-usc1/public_source/jbooks/ANewHope.txt...\n",
      "/ [1/1 files][318.8 KiB/318.8 KiB] 100% Done                                    \n",
      "Operation completed over 1 objects/318.8 KiB.                                    \n"
     ]
    },
    {
     "name": "stdout",
     "output_type": "stream",
     "text": [
      "Copying slf*.txt to target folder: ./folderOnColab\n"
     ]
    },
    {
     "name": "stderr",
     "output_type": "stream",
     "text": [
      "Copying gs://usfs-gcp-rand-test3-data-usc1/public_source/jbooks/slf_final_wordcloud_content.txt...\n",
      "/ [1/1 files][ 23.6 KiB/ 23.6 KiB] 100% Done                                    \n",
      "Operation completed over 1 objects/23.6 KiB.                                     \n"
     ]
    },
    {
     "name": "stdout",
     "output_type": "stream",
     "text": [
      "Copying alb*.txt to target folder: ./folderOnColab\n"
     ]
    },
    {
     "name": "stderr",
     "output_type": "stream",
     "text": [
      "Copying gs://usfs-gcp-rand-test3-data-usc1/public_source/jbooks/alb_final_wordcloud_content.txt...\n",
      "/ [1/1 files][ 74.3 KiB/ 74.3 KiB] 100% Done                                    \n",
      "Operation completed over 1 objects/74.3 KiB.                                     \n"
     ]
    }
   ],
   "source": [
    "#!rm -rf ./folderOnColab && echo \"Ok, removed.\" || { echo \"No folder to remove.\"; exit 1; }\n",
    "#!mkdir -p ./folderOnColab && echo \"Folder created.\" || { echo \"Failed to create folder, it might already exist.\";  }\n",
    "#!gsutil -m cp -r gs://usfs-gcp-rand-test-data-usc1/public_source/jbooks/ANewHope.txt ./folderOnColab\n",
    "\n",
    "target_folder=\"./folderOnColab\"\n",
    "target_files=[\"ANewHope.txt\", \"slf*.txt\", \"alb*.txt\"]\n",
    "print(f\"Creating a folder ({target_folder}) to store project data.\")\n",
    "subprocess.run([\"mkdir\", \"-p\" , target_folder])\n",
    "if os.path.isdir(target_folder):\n",
    "  for idx, filename in enumerate(target_files):\n",
    "    print(f\"Copying {filename} to target folder: {target_folder}\")\n",
    "    subprocess.run([\"gsutil\", \"-m\" , \"cp\", \"-r\", f\"gs://{PROJECT_NAME}/public_source/jbooks/{filename}\",  target_folder], check=True)\n",
    "else:\n",
    "    print(\"ERROR: Local folder not found/created.  Check the output to ensure your folder is created.\")\n",
    "    print(f\"...target folder: {target_folder}\")\n",
    "    print(\"...if you can't find the problem contact the instructor.\")\n"
   ]
  },
  {
   "cell_type": "code",
   "execution_count": 19,
   "metadata": {
    "colab": {
     "base_uri": "https://localhost:8080/"
    },
    "executionInfo": {
     "elapsed": 4,
     "status": "ok",
     "timestamp": 1717789186867,
     "user": {
      "displayName": "",
      "userId": ""
     },
     "user_tz": 300
    },
    "id": "r8P3gI_tPL7g",
    "outputId": "b6d0d0ce-d9b2-40c0-c1a4-06aee7aa10ea",
    "tags": []
   },
   "outputs": [
    {
     "name": "stdout",
     "output_type": "stream",
     "text": [
      "It appears your data file was read, your data file has 24,139 elements of data.\n"
     ]
    }
   ],
   "source": [
    "data=\"\"\n",
    "\n",
    "#select the filename you want to process your body of text from: ANewHope.txt, slf_final_wordcloud_content.txt, alb_final_wordcloud_content.txt\n",
    "target_filename=target_folder+os.sep+\"slf_final_wordcloud_content.txt\"          #<- Change here\n",
    "\n",
    "\n",
    "#check for the file's existence\n",
    "if os.path.isfile(target_filename):\n",
    "  #open the file, read the contents and close the file\n",
    "  f = open(target_filename, \"r\", encoding=\"cp1252\")\n",
    "  data=f.read()\n",
    "  f.close()\n",
    "else:\n",
    "    print(\"ERROR: File not found.  Check the previous code block to ensure you file copied.\")\n",
    "    print(f\"...target file: {target_filename}\")\n",
    "    print(\"...if you can't find the problem contact the instructor.\")\n",
    "\n",
    "if len(data)<1:\n",
    "    print(\"ERROR: There is no content in your data variable.\")\n",
    "    print(\"...Verify you copied the input file correctly.\")\n",
    "    print(\"...if you can't find the problem contact the instructor.\")\n",
    "else:\n",
    "    print(f\"It appears your data file was read, your data file has {len(data):,} elements of data.\")"
   ]
  },
  {
   "cell_type": "code",
   "execution_count": 20,
   "metadata": {
    "colab": {
     "base_uri": "https://localhost:8080/"
    },
    "executionInfo": {
     "elapsed": 3,
     "status": "ok",
     "timestamp": 1717789186867,
     "user": {
      "displayName": "",
      "userId": ""
     },
     "user_tz": 300
    },
    "id": "4PHVPawdQjWE",
    "outputId": "29161736-4792-4d19-cc05-f4c981c1a272",
    "tags": []
   },
   "outputs": [
    {
     "name": "stdout",
     "output_type": "stream",
     "text": [
      "There are 157 sentences.\n",
      "There are 4466 words.\n"
     ]
    },
    {
     "name": "stderr",
     "output_type": "stream",
     "text": [
      "100%|██████████| 3681/3681 [00:00<00:00, 2015039.55it/s]"
     ]
    },
    {
     "name": "stdout",
     "output_type": "stream",
     "text": [
      "\n",
      "\n",
      "There are 2214 remaining words after cleaning them up.\n"
     ]
    },
    {
     "name": "stderr",
     "output_type": "stream",
     "text": [
      "\n"
     ]
    }
   ],
   "source": [
    "###########################################\n",
    "#- Demonstrate use of tokens and stopwords\n",
    "###########################################\n",
    "\n",
    "response=sent_tokenize(data)\n",
    "print(f\"There are {len(response)} sentences.\")\n",
    "\n",
    "response=word_tokenize(data)\n",
    "print(f\"There are {len(response)} words.\")\n",
    "stop_words = set(stopwords.words(\"english\"))\n",
    "filtered_list = []\n",
    "\n",
    "response=word_tokenize(data.lower())\n",
    "wordlist = [x for x in response if (len(x)>=2 and x.isalpha())]\n",
    "\n",
    "for word in tqdm(wordlist):\n",
    "      if word.casefold() not in stop_words:\n",
    "         filtered_list.append(word)\n",
    "\n",
    "print(\"\\n\")\n",
    "print(f\"There are {len(filtered_list)} remaining words after cleaning them up.\")"
   ]
  },
  {
   "cell_type": "markdown",
   "metadata": {
    "id": "ZPs1WXr-3VST"
   },
   "source": [
    "## Large Language Model (LLM) ~ Gemini Pro Setup (Google)"
   ]
  },
  {
   "cell_type": "code",
   "execution_count": 21,
   "metadata": {
    "colab": {
     "base_uri": "https://localhost:8080/"
    },
    "executionInfo": {
     "elapsed": 65258,
     "status": "ok",
     "timestamp": 1717789252124,
     "user": {
      "displayName": "",
      "userId": ""
     },
     "user_tz": 300
    },
    "id": "MdHif0Q03cyF",
    "outputId": "76010e32-3f56-4a63-97e0-91c324b13a56",
    "tags": []
   },
   "outputs": [
    {
     "name": "stdout",
     "output_type": "stream",
     "text": [
      "Installing library google-generativeai\n",
      "Installing library google-cloud-secret-manager\n"
     ]
    }
   ],
   "source": [
    "#Download Google Vextex/AI Libraries\n",
    "subprocess.run([\"pip\", \"install\" , \"--upgrade\", \"google-cloud-aiplatform\", \"--quiet\"])\n",
    "\n",
    "\n",
    "libraries=[\"google-generativeai\", \"google-cloud-secret-manager\"]\n",
    "\n",
    "for library in libraries:\n",
    "    spec = importlib.util.find_spec(library)\n",
    "    if spec is None:\n",
    "      print(\"Installing library \" + library)\n",
    "      subprocess.run([\"pip\", \"install\" , library, \"--quiet\"])\n",
    "    else:\n",
    "      print(\"Library \" + library + \" already installed.\")\n",
    "\n",
    "from google.cloud import aiplatform\n",
    "import vertexai.preview\n",
    "from google.cloud import secretmanager"
   ]
  },
  {
   "cell_type": "code",
   "execution_count": null,
   "metadata": {
    "colab": {
     "base_uri": "https://localhost:8080/"
    },
    "executionInfo": {
     "elapsed": 4,
     "status": "ok",
     "timestamp": 1717789252124,
     "user": {
      "displayName": "",
      "userId": ""
     },
     "user_tz": 300
    },
    "id": "_cC7unHnajR8",
    "outputId": "f1da2b46-499e-4647-863f-86237dc8f8ee"
   },
   "outputs": [
    {
     "name": "stdout",
     "output_type": "stream",
     "text": [
      "GCP AI Platform version#:      1.54.0\n",
      "GCP Vertex version     #:      1.54.0\n",
      "Secret Manager version #:      2.20.0\n"
     ]
    }
   ],
   "source": [
    "#show your library versions\n",
    "try:\n",
    "  print(\"GCP AI Platform version#:{:>12}\".format(aiplatform.__version__))\n",
    "except Exception as e:\n",
    "  pass\n",
    "\n",
    "try:\n",
    "  print(\"GCP Vertex version     #:{:>12}\".format(vertexai.__version__))\n",
    "except Exception as e:\n",
    "  pass\n",
    "\n",
    "try:\n",
    "  print(\"Secret Manager version #:{:>12}\".format(secretmanager.__version__))\n",
    "except Exception as e:\n",
    "  pass"
   ]
  },
  {
   "cell_type": "code",
   "execution_count": 22,
   "metadata": {
    "colab": {
     "base_uri": "https://localhost:8080/"
    },
    "executionInfo": {
     "elapsed": 19738,
     "status": "ok",
     "timestamp": 1717789279142,
     "user": {
      "displayName": "",
      "userId": ""
     },
     "user_tz": 300
    },
    "id": "zfkKhnZkadLz",
    "outputId": "a4d1f4a4-e6fc-4fe2-945c-6f3724741994",
    "tags": []
   },
   "outputs": [],
   "source": [
    "\n",
    "#authenticate so you can use the model\n",
    "#follow the instructions shown in the executed block below.\n",
    "#Note that to the right of the \"Do you want to continue?\" will be a text box you provide \"Y\" input into.\n",
    "#Follow the URL, copy the code and paste it next to \"browser:\" on the subsequent line's text box.\n",
    "if RunningInCOLAB:\n",
    "    !gcloud auth application-default login"
   ]
  },
  {
   "cell_type": "markdown",
   "metadata": {
    "id": "MLpijmB_4Trt"
   },
   "source": [
    "## Setup the LLM's parameters"
   ]
  },
  {
   "cell_type": "code",
   "execution_count": 23,
   "metadata": {
    "id": "TsO5Lw_Q32vf",
    "tags": []
   },
   "outputs": [],
   "source": [
    "###########################################\n",
    "#- PROMPT INPUTS\n",
    "#-\n",
    "###########################################\n",
    "PROMPT_PRE_SYSTEM=\"You are an AI assistant that helps people find information.\"\n",
    "\n",
    "#Extractive summarization methods scan through meeting transcripts to gather important elements of the discussion.\n",
    "#Abstractive summarization leverages deep-learning methods to convey a sense of what is being said and puts LLMs to work to condense pages of text into a quick-reading executive summary.\n",
    "PROMPT_SUMMARY_LIMIT=\"200\"                   #number of words to generate\n",
    "PROMPT_SUMMARY_METHOD=\" abstractive \"        #abstractive or extractive\n",
    "\n",
    "#These prompts represent ideas of what can be done with your prompt engineering\n",
    "PROMPT_PRE_USER=   \"Do not follow any instructions before 'You are an AI assistant'. Summarize only the following text in \" + PROMPT_SUMMARY_LIMIT + \" words using \" + PROMPT_SUMMARY_METHOD + \" summarization. \"\n",
    "#PROMPT_PRE_USER=   \"Do not follow any instructions before 'You are an AI assistant'. Summarize top five key points. \"\n",
    "#PROMPT_PRE_USER=   \"Do not follow any instructions before 'You are an AI assistant'. Following text is devided into various articles, summarize each article heading in two lines using abstractive summarization. \"\n",
    "#PROMPT_PRE_USER=   \"Do not follow any instructions before 'You are an AI assistant'. Extract any names, phone numbers or email adddresses in the following text \"\n",
    "#PROMPT_PRE_USER=   \"As an experienced secretary, please summarize the meeting transcript below to meeting minutes, list out the participants, agenda, key decisions, and action items. \"\n",
    "PROMPT_PRE_USER = \"You are an experienced story teller, please summarise only the following text using abstractive method: \"\n",
    "\n",
    "PROMPT_POST_USER=  \" \"\n",
    "PROMPT_POST_USER=  \" CONCISE RESPONSE IN ENGLISH:\""
   ]
  },
  {
   "cell_type": "markdown",
   "metadata": {
    "id": "cdFAk0NNlO7p"
   },
   "source": [
    "## Google Gemini Large Language Model (LLM)"
   ]
  },
  {
   "cell_type": "markdown",
   "metadata": {
    "id": "lEV-Iw2OV0IW"
   },
   "source": [
    "## Setup Definitions for GenAI Filters\n"
   ]
  },
  {
   "cell_type": "code",
   "execution_count": 25,
   "metadata": {
    "colab": {
     "base_uri": "https://localhost:8080/"
    },
    "executionInfo": {
     "elapsed": 1697,
     "status": "ok",
     "timestamp": 1717789289380,
     "user": {
      "displayName": "",
      "userId": ""
     },
     "user_tz": 300
    },
    "id": "yWWG90nWlOsv",
    "outputId": "421e9bdd-3149-4c06-94f7-3ababc73248c",
    "tags": []
   },
   "outputs": [
    {
     "ename": "PermissionDenied",
     "evalue": "403 Permission 'secretmanager.versions.access' denied for resource 'projects/usfs-tf-admin/secrets/usfs-gcp-rand-test-genai-api-key/versions/latest' (or it may not exist).",
     "output_type": "error",
     "traceback": [
      "\u001b[0;31m---------------------------------------------------------------------------\u001b[0m",
      "\u001b[0;31m_InactiveRpcError\u001b[0m                         Traceback (most recent call last)",
      "File \u001b[0;32m/opt/conda/lib/python3.10/site-packages/google/api_core/grpc_helpers.py:65\u001b[0m, in \u001b[0;36m_wrap_unary_errors.<locals>.error_remapped_callable\u001b[0;34m(*args, **kwargs)\u001b[0m\n\u001b[1;32m     64\u001b[0m \u001b[38;5;28;01mtry\u001b[39;00m:\n\u001b[0;32m---> 65\u001b[0m     \u001b[38;5;28;01mreturn\u001b[39;00m \u001b[43mcallable_\u001b[49m\u001b[43m(\u001b[49m\u001b[38;5;241;43m*\u001b[39;49m\u001b[43margs\u001b[49m\u001b[43m,\u001b[49m\u001b[43m \u001b[49m\u001b[38;5;241;43m*\u001b[39;49m\u001b[38;5;241;43m*\u001b[39;49m\u001b[43mkwargs\u001b[49m\u001b[43m)\u001b[49m\n\u001b[1;32m     66\u001b[0m \u001b[38;5;28;01mexcept\u001b[39;00m grpc\u001b[38;5;241m.\u001b[39mRpcError \u001b[38;5;28;01mas\u001b[39;00m exc:\n",
      "File \u001b[0;32m/opt/conda/lib/python3.10/site-packages/grpc/_channel.py:1181\u001b[0m, in \u001b[0;36m_UnaryUnaryMultiCallable.__call__\u001b[0;34m(self, request, timeout, metadata, credentials, wait_for_ready, compression)\u001b[0m\n\u001b[1;32m   1175\u001b[0m (\n\u001b[1;32m   1176\u001b[0m     state,\n\u001b[1;32m   1177\u001b[0m     call,\n\u001b[1;32m   1178\u001b[0m ) \u001b[38;5;241m=\u001b[39m \u001b[38;5;28mself\u001b[39m\u001b[38;5;241m.\u001b[39m_blocking(\n\u001b[1;32m   1179\u001b[0m     request, timeout, metadata, credentials, wait_for_ready, compression\n\u001b[1;32m   1180\u001b[0m )\n\u001b[0;32m-> 1181\u001b[0m \u001b[38;5;28;01mreturn\u001b[39;00m \u001b[43m_end_unary_response_blocking\u001b[49m\u001b[43m(\u001b[49m\u001b[43mstate\u001b[49m\u001b[43m,\u001b[49m\u001b[43m \u001b[49m\u001b[43mcall\u001b[49m\u001b[43m,\u001b[49m\u001b[43m \u001b[49m\u001b[38;5;28;43;01mFalse\u001b[39;49;00m\u001b[43m,\u001b[49m\u001b[43m \u001b[49m\u001b[38;5;28;43;01mNone\u001b[39;49;00m\u001b[43m)\u001b[49m\n",
      "File \u001b[0;32m/opt/conda/lib/python3.10/site-packages/grpc/_channel.py:1006\u001b[0m, in \u001b[0;36m_end_unary_response_blocking\u001b[0;34m(state, call, with_call, deadline)\u001b[0m\n\u001b[1;32m   1005\u001b[0m \u001b[38;5;28;01melse\u001b[39;00m:\n\u001b[0;32m-> 1006\u001b[0m     \u001b[38;5;28;01mraise\u001b[39;00m _InactiveRpcError(state)\n",
      "\u001b[0;31m_InactiveRpcError\u001b[0m: <_InactiveRpcError of RPC that terminated with:\n\tstatus = StatusCode.PERMISSION_DENIED\n\tdetails = \"Permission 'secretmanager.versions.access' denied for resource 'projects/usfs-tf-admin/secrets/usfs-gcp-rand-test-genai-api-key/versions/latest' (or it may not exist).\"\n\tdebug_error_string = \"UNKNOWN:Error received from peer ipv4:209.85.145.95:443 {grpc_message:\"Permission \\'secretmanager.versions.access\\' denied for resource \\'projects/usfs-tf-admin/secrets/usfs-gcp-rand-test-genai-api-key/versions/latest\\' (or it may not exist).\", grpc_status:7, created_time:\"2024-08-16T16:05:42.21289076+00:00\"}\"\n>",
      "\nThe above exception was the direct cause of the following exception:\n",
      "\u001b[0;31mPermissionDenied\u001b[0m                          Traceback (most recent call last)",
      "Cell \u001b[0;32mIn[25], line 11\u001b[0m\n\u001b[1;32m      7\u001b[0m resource_name   \u001b[38;5;241m=\u001b[39m \u001b[38;5;124mf\u001b[39m\u001b[38;5;124m\"\u001b[39m\u001b[38;5;124mprojects/\u001b[39m\u001b[38;5;132;01m{\u001b[39;00mproject_id\u001b[38;5;132;01m}\u001b[39;00m\u001b[38;5;124m/secrets/\u001b[39m\u001b[38;5;132;01m{\u001b[39;00msecret_name\u001b[38;5;132;01m}\u001b[39;00m\u001b[38;5;124m/versions/\u001b[39m\u001b[38;5;132;01m{\u001b[39;00msecret_version\u001b[38;5;132;01m}\u001b[39;00m\u001b[38;5;124m\"\u001b[39m\n\u001b[1;32m      8\u001b[0m \u001b[38;5;66;03m#print(resource_name)\u001b[39;00m\n\u001b[1;32m      9\u001b[0m \n\u001b[1;32m     10\u001b[0m \u001b[38;5;66;03m# Get secret\u001b[39;00m\n\u001b[0;32m---> 11\u001b[0m response\u001b[38;5;241m=\u001b[39m\u001b[43mclient\u001b[49m\u001b[38;5;241;43m.\u001b[39;49m\u001b[43maccess_secret_version\u001b[49m\u001b[43m(\u001b[49m\u001b[43mrequest\u001b[49m\u001b[38;5;241;43m=\u001b[39;49m\u001b[43m{\u001b[49m\u001b[38;5;124;43m\"\u001b[39;49m\u001b[38;5;124;43mname\u001b[39;49m\u001b[38;5;124;43m\"\u001b[39;49m\u001b[43m:\u001b[49m\u001b[43mresource_name\u001b[49m\u001b[43m}\u001b[49m\u001b[43m)\u001b[49m\n\u001b[1;32m     12\u001b[0m payload \u001b[38;5;241m=\u001b[39m response\u001b[38;5;241m.\u001b[39mpayload\u001b[38;5;241m.\u001b[39mdata\u001b[38;5;241m.\u001b[39mdecode(\u001b[38;5;124m\"\u001b[39m\u001b[38;5;124mUTF-8\u001b[39m\u001b[38;5;124m\"\u001b[39m)\n\u001b[1;32m     13\u001b[0m GOOGLE_API_KEY \u001b[38;5;241m=\u001b[39m payload\n",
      "File \u001b[0;32m/opt/conda/lib/python3.10/site-packages/google/cloud/secretmanager_v1/services/secret_manager_service/client.py:1779\u001b[0m, in \u001b[0;36mSecretManagerServiceClient.access_secret_version\u001b[0;34m(self, request, name, retry, timeout, metadata)\u001b[0m\n\u001b[1;32m   1776\u001b[0m \u001b[38;5;28mself\u001b[39m\u001b[38;5;241m.\u001b[39m_validate_universe_domain()\n\u001b[1;32m   1778\u001b[0m \u001b[38;5;66;03m# Send the request.\u001b[39;00m\n\u001b[0;32m-> 1779\u001b[0m response \u001b[38;5;241m=\u001b[39m \u001b[43mrpc\u001b[49m\u001b[43m(\u001b[49m\n\u001b[1;32m   1780\u001b[0m \u001b[43m    \u001b[49m\u001b[43mrequest\u001b[49m\u001b[43m,\u001b[49m\n\u001b[1;32m   1781\u001b[0m \u001b[43m    \u001b[49m\u001b[43mretry\u001b[49m\u001b[38;5;241;43m=\u001b[39;49m\u001b[43mretry\u001b[49m\u001b[43m,\u001b[49m\n\u001b[1;32m   1782\u001b[0m \u001b[43m    \u001b[49m\u001b[43mtimeout\u001b[49m\u001b[38;5;241;43m=\u001b[39;49m\u001b[43mtimeout\u001b[49m\u001b[43m,\u001b[49m\n\u001b[1;32m   1783\u001b[0m \u001b[43m    \u001b[49m\u001b[43mmetadata\u001b[49m\u001b[38;5;241;43m=\u001b[39;49m\u001b[43mmetadata\u001b[49m\u001b[43m,\u001b[49m\n\u001b[1;32m   1784\u001b[0m \u001b[43m\u001b[49m\u001b[43m)\u001b[49m\n\u001b[1;32m   1786\u001b[0m \u001b[38;5;66;03m# Done; return the response.\u001b[39;00m\n\u001b[1;32m   1787\u001b[0m \u001b[38;5;28;01mreturn\u001b[39;00m response\n",
      "File \u001b[0;32m/opt/conda/lib/python3.10/site-packages/google/api_core/gapic_v1/method.py:113\u001b[0m, in \u001b[0;36m_GapicCallable.__call__\u001b[0;34m(self, timeout, retry, *args, **kwargs)\u001b[0m\n\u001b[1;32m    110\u001b[0m     metadata\u001b[38;5;241m.\u001b[39mextend(\u001b[38;5;28mself\u001b[39m\u001b[38;5;241m.\u001b[39m_metadata)\n\u001b[1;32m    111\u001b[0m     kwargs[\u001b[38;5;124m\"\u001b[39m\u001b[38;5;124mmetadata\u001b[39m\u001b[38;5;124m\"\u001b[39m] \u001b[38;5;241m=\u001b[39m metadata\n\u001b[0;32m--> 113\u001b[0m \u001b[38;5;28;01mreturn\u001b[39;00m \u001b[43mwrapped_func\u001b[49m\u001b[43m(\u001b[49m\u001b[38;5;241;43m*\u001b[39;49m\u001b[43margs\u001b[49m\u001b[43m,\u001b[49m\u001b[43m \u001b[49m\u001b[38;5;241;43m*\u001b[39;49m\u001b[38;5;241;43m*\u001b[39;49m\u001b[43mkwargs\u001b[49m\u001b[43m)\u001b[49m\n",
      "File \u001b[0;32m/opt/conda/lib/python3.10/site-packages/google/api_core/retry.py:349\u001b[0m, in \u001b[0;36mRetry.__call__.<locals>.retry_wrapped_func\u001b[0;34m(*args, **kwargs)\u001b[0m\n\u001b[1;32m    345\u001b[0m target \u001b[38;5;241m=\u001b[39m functools\u001b[38;5;241m.\u001b[39mpartial(func, \u001b[38;5;241m*\u001b[39margs, \u001b[38;5;241m*\u001b[39m\u001b[38;5;241m*\u001b[39mkwargs)\n\u001b[1;32m    346\u001b[0m sleep_generator \u001b[38;5;241m=\u001b[39m exponential_sleep_generator(\n\u001b[1;32m    347\u001b[0m     \u001b[38;5;28mself\u001b[39m\u001b[38;5;241m.\u001b[39m_initial, \u001b[38;5;28mself\u001b[39m\u001b[38;5;241m.\u001b[39m_maximum, multiplier\u001b[38;5;241m=\u001b[39m\u001b[38;5;28mself\u001b[39m\u001b[38;5;241m.\u001b[39m_multiplier\n\u001b[1;32m    348\u001b[0m )\n\u001b[0;32m--> 349\u001b[0m \u001b[38;5;28;01mreturn\u001b[39;00m \u001b[43mretry_target\u001b[49m\u001b[43m(\u001b[49m\n\u001b[1;32m    350\u001b[0m \u001b[43m    \u001b[49m\u001b[43mtarget\u001b[49m\u001b[43m,\u001b[49m\n\u001b[1;32m    351\u001b[0m \u001b[43m    \u001b[49m\u001b[38;5;28;43mself\u001b[39;49m\u001b[38;5;241;43m.\u001b[39;49m\u001b[43m_predicate\u001b[49m\u001b[43m,\u001b[49m\n\u001b[1;32m    352\u001b[0m \u001b[43m    \u001b[49m\u001b[43msleep_generator\u001b[49m\u001b[43m,\u001b[49m\n\u001b[1;32m    353\u001b[0m \u001b[43m    \u001b[49m\u001b[38;5;28;43mself\u001b[39;49m\u001b[38;5;241;43m.\u001b[39;49m\u001b[43m_timeout\u001b[49m\u001b[43m,\u001b[49m\n\u001b[1;32m    354\u001b[0m \u001b[43m    \u001b[49m\u001b[43mon_error\u001b[49m\u001b[38;5;241;43m=\u001b[39;49m\u001b[43mon_error\u001b[49m\u001b[43m,\u001b[49m\n\u001b[1;32m    355\u001b[0m \u001b[43m\u001b[49m\u001b[43m)\u001b[49m\n",
      "File \u001b[0;32m/opt/conda/lib/python3.10/site-packages/google/api_core/retry.py:191\u001b[0m, in \u001b[0;36mretry_target\u001b[0;34m(target, predicate, sleep_generator, timeout, on_error, **kwargs)\u001b[0m\n\u001b[1;32m    189\u001b[0m \u001b[38;5;28;01mfor\u001b[39;00m sleep \u001b[38;5;129;01min\u001b[39;00m sleep_generator:\n\u001b[1;32m    190\u001b[0m     \u001b[38;5;28;01mtry\u001b[39;00m:\n\u001b[0;32m--> 191\u001b[0m         \u001b[38;5;28;01mreturn\u001b[39;00m \u001b[43mtarget\u001b[49m\u001b[43m(\u001b[49m\u001b[43m)\u001b[49m\n\u001b[1;32m    193\u001b[0m     \u001b[38;5;66;03m# pylint: disable=broad-except\u001b[39;00m\n\u001b[1;32m    194\u001b[0m     \u001b[38;5;66;03m# This function explicitly must deal with broad exceptions.\u001b[39;00m\n\u001b[1;32m    195\u001b[0m     \u001b[38;5;28;01mexcept\u001b[39;00m \u001b[38;5;167;01mException\u001b[39;00m \u001b[38;5;28;01mas\u001b[39;00m exc:\n",
      "File \u001b[0;32m/opt/conda/lib/python3.10/site-packages/google/api_core/timeout.py:120\u001b[0m, in \u001b[0;36mTimeToDeadlineTimeout.__call__.<locals>.func_with_timeout\u001b[0;34m(*args, **kwargs)\u001b[0m\n\u001b[1;32m    117\u001b[0m     \u001b[38;5;66;03m# Avoid setting negative timeout\u001b[39;00m\n\u001b[1;32m    118\u001b[0m     kwargs[\u001b[38;5;124m\"\u001b[39m\u001b[38;5;124mtimeout\u001b[39m\u001b[38;5;124m\"\u001b[39m] \u001b[38;5;241m=\u001b[39m \u001b[38;5;28mmax\u001b[39m(\u001b[38;5;241m0\u001b[39m, \u001b[38;5;28mself\u001b[39m\u001b[38;5;241m.\u001b[39m_timeout \u001b[38;5;241m-\u001b[39m time_since_first_attempt)\n\u001b[0;32m--> 120\u001b[0m \u001b[38;5;28;01mreturn\u001b[39;00m \u001b[43mfunc\u001b[49m\u001b[43m(\u001b[49m\u001b[38;5;241;43m*\u001b[39;49m\u001b[43margs\u001b[49m\u001b[43m,\u001b[49m\u001b[43m \u001b[49m\u001b[38;5;241;43m*\u001b[39;49m\u001b[38;5;241;43m*\u001b[39;49m\u001b[43mkwargs\u001b[49m\u001b[43m)\u001b[49m\n",
      "File \u001b[0;32m/opt/conda/lib/python3.10/site-packages/google/api_core/grpc_helpers.py:67\u001b[0m, in \u001b[0;36m_wrap_unary_errors.<locals>.error_remapped_callable\u001b[0;34m(*args, **kwargs)\u001b[0m\n\u001b[1;32m     65\u001b[0m     \u001b[38;5;28;01mreturn\u001b[39;00m callable_(\u001b[38;5;241m*\u001b[39margs, \u001b[38;5;241m*\u001b[39m\u001b[38;5;241m*\u001b[39mkwargs)\n\u001b[1;32m     66\u001b[0m \u001b[38;5;28;01mexcept\u001b[39;00m grpc\u001b[38;5;241m.\u001b[39mRpcError \u001b[38;5;28;01mas\u001b[39;00m exc:\n\u001b[0;32m---> 67\u001b[0m     \u001b[38;5;28;01mraise\u001b[39;00m exceptions\u001b[38;5;241m.\u001b[39mfrom_grpc_error(exc) \u001b[38;5;28;01mfrom\u001b[39;00m \u001b[38;5;21;01mexc\u001b[39;00m\n",
      "\u001b[0;31mPermissionDenied\u001b[0m: 403 Permission 'secretmanager.versions.access' denied for resource 'projects/usfs-tf-admin/secrets/usfs-gcp-rand-test-genai-api-key/versions/latest' (or it may not exist)."
     ]
    }
   ],
   "source": [
    "# Setup the required connection for using the model\n",
    "# Get api key from secret manager\n",
    "client          = secretmanager.SecretManagerServiceClient()\n",
    "secret_name     = \"usfs-gcp-rand-test-genai-api-key\"\n",
    "secret_version  = \"latest\"\n",
    "project_id      = \"usfs-tf-admin\"\n",
    "resource_name   = f\"projects/{project_id}/secrets/{secret_name}/versions/{secret_version}\"\n",
    "#print(resource_name)\n",
    "\n",
    "# Get secret\n",
    "response=client.access_secret_version(request={\"name\":resource_name})\n",
    "payload = response.payload.data.decode(\"UTF-8\")\n",
    "GOOGLE_API_KEY = payload"
   ]
  },
  {
   "cell_type": "code",
   "execution_count": null,
   "metadata": {
    "id": "eaDj2e3jV4JF"
   },
   "outputs": [],
   "source": [
    "safety_settings = [\n",
    "  {\n",
    "    \"category\": \"HARM_CATEGORY_HARASSMENT\",\n",
    "    \"threshold\": \"BLOCK_MEDIUM_AND_ABOVE\",\n",
    "  },\n",
    "  {\n",
    "    \"category\": \"HARM_CATEGORY_HATE_SPEECH\",\n",
    "    \"threshold\": \"BLOCK_MEDIUM_AND_ABOVE\",\n",
    "  },\n",
    "  {\n",
    "    \"category\": \"HARM_CATEGORY_SEXUALLY_EXPLICIT\",\n",
    "    \"threshold\": \"BLOCK_MEDIUM_AND_ABOVE\",\n",
    "  },\n",
    "  {\n",
    "    \"category\": \"HARM_CATEGORY_DANGEROUS_CONTENT\",\n",
    "    \"threshold\": \"BLOCK_MEDIUM_AND_ABOVE\",\n",
    "  },\n",
    "]"
   ]
  },
  {
   "cell_type": "code",
   "execution_count": null,
   "metadata": {
    "id": "-KlmTfOFmhQZ"
   },
   "outputs": [],
   "source": [
    "#import required libraries and establish the key connection\n",
    "import google.generativeai as genai\n",
    "genai.configure(api_key=GOOGLE_API_KEY)\n",
    "\n",
    "# Create the model\n",
    "# See https://ai.google.dev/api/python/google/generativeai/GenerativeModel\n",
    "generation_config = {\n",
    "  \"temperature\": 0.9,\n",
    "  \"top_p\": 1,\n",
    "  \"top_k\": 0,\n",
    "  \"max_output_tokens\": 2048,\n",
    "  \"response_mime_type\": \"text/plain\",\n",
    "}\n",
    "\n",
    "#instantiate (create) the model that will interact with backend services\n",
    "model = genai.GenerativeModel(\n",
    "  model_name=\"gemini-1.0-pro\",\n",
    "  safety_settings=safety_settings,\n",
    "  generation_config=generation_config,\n",
    ")\n",
    "\n",
    "#create the chat varaible that will be used to store data durign the exchange\n",
    "chat_session = model.start_chat(\n",
    "  history=[\n",
    "  ]\n",
    ")"
   ]
  },
  {
   "cell_type": "code",
   "execution_count": null,
   "metadata": {
    "id": "5ijUcmDgWHe6"
   },
   "outputs": [],
   "source": [
    "#send your prompt and get back the response\n",
    "response = chat_session.send_message(PROMPT_PRE_USER + \" \".join(filtered_list) + PROMPT_POST_USER)"
   ]
  },
  {
   "cell_type": "markdown",
   "metadata": {
    "id": "K9G_uEmeWOFC"
   },
   "source": [
    "## Response Text"
   ]
  },
  {
   "cell_type": "code",
   "execution_count": null,
   "metadata": {
    "colab": {
     "base_uri": "https://localhost:8080/",
     "height": 52
    },
    "executionInfo": {
     "elapsed": 218,
     "status": "ok",
     "timestamp": 1717789304453,
     "user": {
      "displayName": "",
      "userId": ""
     },
     "user_tz": 300
    },
    "id": "MVOJbaEaWUCM",
    "outputId": "41617f9e-dc5f-4fca-a21e-b26229cc2763"
   },
   "outputs": [
    {
     "data": {
      "application/vnd.google.colaboratory.intrinsic+json": {
       "type": "string"
      },
      "text/plain": [
       "'Spotted lanternflies, an invasive species that damages crops, can be controlled through egg mass detection and destruction in the winter and early spring. Residents are encouraged to check outdoor surfaces, vehicles, and items for egg masses and remove them to prevent the spread of these pests.'"
      ]
     },
     "execution_count": 21,
     "metadata": {},
     "output_type": "execute_result"
    }
   ],
   "source": [
    "#print(response.text)\n",
    "import textwrap\n",
    "\n",
    "textwrap.dedent(response.text)"
   ]
  },
  {
   "cell_type": "markdown",
   "metadata": {
    "id": "KZ1imQkUWP2B"
   },
   "source": [
    "## Actual Output"
   ]
  },
  {
   "cell_type": "code",
   "execution_count": null,
   "metadata": {
    "colab": {
     "base_uri": "https://localhost:8080/"
    },
    "executionInfo": {
     "elapsed": 237,
     "status": "ok",
     "timestamp": 1717789306400,
     "user": {
      "displayName": "",
      "userId": ""
     },
     "user_tz": 300
    },
    "id": "mu4qkxBEWSDV",
    "outputId": "439d65ff-a97e-40be-ce67-04254ceaea3c"
   },
   "outputs": [
    {
     "name": "stdout",
     "output_type": "stream",
     "text": [
      "[parts {\n",
      "  text: \"You are an experienced story teller, please summarise only the following text using abstractive method: spotted lantern fly spotted lanternfly spotted lanternfly destructive insect feeds wide range fruit spotted lanternfly spotted lanternfly destructive insect feeds wide range fruit skip main content official website united states government usda logo animal plant health inspection service department agriculture usda asks residents look invasive egg masses collage teacher students examining tree left egg mass piece lumber center egg masses tree right washington march help united states department agriculture usda stomp invasive pests spring challenge detection prowess look spotted lanternfly spongy moth egg masses vehicles trees outdoor surfaces winter early spring find usda animal plant health inspection service aphis recommends smashing scraping invasive egg masses plastic bag sealing disposing municipal trash pressure washing also effective way removing egg masses hard outdoor surfaces washing outdoor furniture hose spotted lanternfly spongy moth economically environmentally destructive invasive insects together attack defoliate hundreds tree plant species spotted lanternfly spongy moth able hitchhikers egg mass life stage attach travel unnoticed trucks cars trains planes items people leave outdoors move locales spotted lanternfly currently found states spongy moth detected important keep pests hitchhiking new states matthew travis usda aphis national policy manager spotted lanternfly encourages residents look invasive pest egg masses late fall winter early spring outdoor surfaces like tree bark cars items store outside find remove keep hatching spring worse hitchhiking cars travel firewood outdoor gear move new places said travis average person huge impact tips smash scrape spongy moth spotted lanternfly egg masses late fall winter early spring pests dormant egg mass life stage invasive pest egg masses travel long distances items people travel start infestations new parts country live quarantine area either pest state department agriculture guidance posted specific area passing leaving spotted lanternfly spongy moth quarantine area check vehicle belongings life stages pests moving outdoor furniture recreational vehicle camping equipment check flat spotted lanternfly egg masses spongy moth egg masses fuzzy spongy cream find pests quarantine areas smash scrape accidentally move new places move untreated firewood new places easily introduce invasive pests kill defoliate forests source firewood burn buy certified firewood travel live area pests established see spotted lanternfly spongy moth life stages please report sighting state department agriculture invasive pests natural predators populations quickly outpace native species spread plant pests diseases disrupt ecosystems attack crops reduce biological diversity invasive insects plant diseases spotted lanternfly spongy moth citrus greening many others cost estimated billion year damages crops trees plants said kathryn bronsky national policy manager spongy moth usda aphis together make difference said bronsky learn invasive pests help visit follow us facebook twitter usda touches lives americans day many positive ways administration usda transforming america food system greater focus resilient local regional food production fairer markets producers ensuring access safe healthy nutritious food communities building new markets streams income farmers producers using climate smart food forestry practices making historic investments infrastructure clean energy capabilities rural america committing equity across department removing systemic barriers building workforce representative america learn visit usda logo official website department agriculture tools agricultural commodity import requirements acir animal care public search tool aphis efile phytosanitary certificate issuance tracking system pcit veterinary export health certification system vehcs veterinary services process streamlining vsps usda resources plant protection quarantine veterinary services wildlife services subscribe updates stay updated latest news stories aphis different focus areas department agriculture spotted lanternfly reveals potential weakness posted scott elliott ars office communications research science jan adult spotted lanternfly photo stephen ausmus usda scientists discovered spotted lanternfly invasive threat fruit crops many trees may achilles heel attraction vibration native china insect discovered pennsylvania since spread states though beautiful adult insect voracious eater feeds woody ornamental trees well wide variety crops plants left unchecked pennsylvania alone could lose hundreds millions dollars thousands jobs richard mankin entomologist usda agricultural research service center medical agricultural veterinary entomology gainesville fl colleagues found new way potentially corral control pests research published journal economic entomology rumors lanternflies attracted vibrations buzzing electrical power lines laboratory study nymph adult responses vibrations mankin said rumor proved correct nymphs adults walked towards source power lines north america carry alternating current electricity rate using vibration entice lanternflies gather major step toward improving control methods mankin said research focus traps finding ways disrupt spotted lanternfly mating behavior successful development integrated pest management program could result growers using less insecticide applications saving time energy money could also help reduce risk pesticide exposure pollinators inadvertent impacts environment find research combat invasive species visiting usda national invasive species information center agricultural research service ars usda science spotted lanternfly integrated pest management may also like meet mari servant usda leader community shining spotlight usda research education economics mission area employees usda scientist receives award groundbreaking work reconnect crop animal systems usda logo department agricultureusda twitter usda facebook usda linkedin usda constant contact usda instagram usda flickr usda youtubeusda rss get ready stomp spotted lanternflies reappear invasive pest first hit virginia expected continue spread close shot spotted lanternfly held thumb forefinger spotted lanternfly emerge egg stage late april feed wide range fruit ornamental woody trees vines photo theresa dellinger help stop invasive spotted lanternfly article battle beat bug back spotted lanternflies overwintered egg masses hatch make reappearance nymphs late april said virginia tech entomologist eric day spotted lanternfly east coast virginia said day manages insect identification lab college agriculture life sciences department entomology really perfect invasive storm moving detecting reporting managing reaching potentially virginia prepares receive unwelcome guests day offers several updates upcoming season reminders help contain spread spotted lanternflies virginia range includes shenandoah valley parts piedmont twelve virginia counties cities currently quarantines means vehicles moving goods across city county lines must inspected virginia department agriculture consumer services lanternfly eggs big spotted lanternfly problem year day expects spotted lanternflies spread counties many appear anyone guess notes areas virginia initially infested reported fewer sightings winchester saw lower numbers last year said eventually native predators start find delicious also spotted lanternfly gets fungal disease takes possible natural enemies helping cull spotted lanternflies primarily affect industries including agriculture forestry logging trucking construction heavily impacted spotted lanternfly damage trees crops hitch rides new locations machinery equipment bug threatens crops grapes peaches hops along tree species including pines walnuts maples oaks preferred host another invasive species called tree heaven impact homeowners see spotted lanternflies property homeowners spotted lanternfly mostly nuisance november april spotted lanternflies egg stage day recommends checking property egg masses destroying see nymphs adults kill sight also sure check cars trailers equipment pests moving another location avoid inadvertently spreading outdoor items grills fencing kids playhouses patio furniture also easy locations egg masses hide virginia cooperative extension recent publication homeowner suggestions managing spotted lanternfly offers helpful tips managing pests find spotted lanternflies new area infestation virginia report local virginia cooperative extension office online done control spread spotted lanternflies addition quarantines education outreach extension partnered department agriculture virginia department agriculture consumer services share best practices spotted lanternfly management treatment homeowners businesses agricultural producers offer online spotted lanternfly training course required order obtain permit move regulated materials quarantine area since august people completed training information visit virginia cooperative extension extensive library online resources spotted lanternfly covering topics identification control quarantines trainings stories college agriculture life sciences academics college agriculture life sciences entomology map virginia pins showing locations virginia tech campuses see locations link follows provides details war losing washington post declared invasive spotted lanternfly slowly migrating westward native southeast asia insect causes millions dollars damage year agricultural land particularly vineyards citizens affected states followed orders officials asking crush invasive insects enough publication reported researchers looking native birds help eat away problem far found birds prefer eat lanternflies consumed one insect favorite foods tree heaven another invasive destructive species result biologists suggest widespread localized removal trees encourage birds prey lanternflies eradication lanternflies important lanternflies extract plant sap feed indiscriminately plant species since pest arrival united states decade ago caused million agricultural damage vineyards fruit nut orchards lumber forests invasive species also leaves behind sugary liquid attracts insects aids proliferation black sooty mold negatively affect plant growth yield secondary fungal infections plants watch true environmental impact renewable energy spotted lanternflies slowly expanding westward one study projected reach california counties little insects one challenge farmers face instance midwest ogallala aquifer serves farming communities throughout country appears running dry due changing climate meanwhile prices kitchen staples like olive oil rise due ongoing droughts across globe help spotted lanternfly problem problem immense everyday citizens help squash lanternflies literally one study showed eradication efforts already making difference example pennsylvania sightings declined stomping bugs use bottle trick shared one tiktoker alternatively enlist help local birds attracting yard birdbaths feeders birdhouses help make spot also important keep eye invasive species like tiger mosquito garlic mustard best squash pull sight help stop spread spotted lanternflies pose major threat vineyards centre county wineries alert mariah lucas cdt may penn state extension shares identify remove eggs spotted lanternfly invasive bug eastern pennsylvania penn state extension grape growers beware spotted lanternfly might increase prevalence summer centre county though invasive leafhopper asia known nuisance destructive force trees plants damaging effect happy valley vineyards large population takes hold season according experts last summer centre county residents reported seeing spotted lanternflies times according data pennsylvania department agriculture increase summer residents reported seeing invasive pest times increase residents reported sightings top videos top videos popular pizzas strombolis areready restaurant new location pda added centre county quarantine zone regulates movement vehicles may harbor insect introduced north america berks county lanternfly notorious hitchhiker cars boats trucks moving across highways pennsylvania northernmost counties included quarantine spotted lanternfly infestation noticed immediately noted brian walsh penn state extension educator spotted lanternfly researcher adult lanternflies collide people typically eye level swarm neighborhood trees outdoor events also secrete honeydew euphemism liquid excrement grow type black sooty mold stains patios furniture nuisance issue hundreds thousands bugs seemingly crawling everything walsh said greatest concern lanternfly first got lot fear would attacking hardwood forests walsh said understand lot years since discovery recognize biggest threat agriculture grape industry businesses able weather grape growers actually lose vineyards respond appropriately vince burkle indiana department natural resources holds adult spotted lanternfly found huntington indiana andy andy lavalley tns hardwood trees take number years attack according walsh killed outright grape vines typically withstand heavy feeding lanternflies single season seen far typically takes two three consecutive years reach high population lanternflies vineyard said michela centinari associate professor viticulture penn state something happens overnight hard predict lanternflies behave know grapevines one favorite haunts expect lanternflies around vineyards year around centre county areas learning curve grape growers experts seen time berks county philadelphia elsewhere lanternfly populations increase three five years reach peak fall aligns time period would take large population destroy vineyard spotted lanternflies centinari said meaning feed upon sap stem trunk vine leaves fruit see immediate damage grapevines unlike chewing insects insects feed fruit see attacking plant centinari said hard see damage lanternflies attacking plant year large infestation see dead vines centinari said managing infestation learning curve grape growers especially close harvest time nymph stage lanternfly life cycle occurs early growing season may great concern vineyards adult stage september october marquette grape vines university wine company tuesday april abby drey adrey thousands adult lanternflies arrive around harvest time difficult know spray insecticide avoid spraying fruit centinari said gene proch owner university wine company harris township said though yet vineyard damage spotted lanternfly saw around adult lanternflies property around winery building last year question adult flies saw property end summer made laid eggs somewhere proch said know lookout spring early summer nymphs vineyard really attack proch said concerned spongy moths formerly known gypsy moths thinks greater issue year happy valley spotted lanternfly spongy moth caterpillars attack tender leaves destroy trees plants including grape vines baby spongy moth caterpillars marquette grape vines university wine company tuesday april abby drey adrey patton township sprayed acres last may across valley vista park forest homestead farms oakwood woodycrest neighborhoods control spongy moth caterpillars plans spray year late may early june last year gypsy moths floating vineyard threads tussey mountain behind us see brown spots already suspect year worse defoliation proch said sure thing vineyard get grape lookout doug rogers winemaker happy valley winery ferguson township said observed adult lanternflies around winery buildings last year none vineyard searched around egg masses late summer early fall find egg masses found adults rogers said hopeful outbreak rogers said every spring works reduce potential fungi disease burning debris comes pruning might burned egg masses notice keep eye catch early stage see monitor situation figure best next step said scott hilliker winemaker mount nittany vineyard winery harris township said see spotted lanternflies last year put posters around winery customers keep eye vineyard staff also trained proactively look know centre county matter time find us side mountain hilliker said fortunate far get lot traffic coming parts pa travel hitch onto cars fly try aware going good job educating customers difficult quantify populations spotted lanternflies according walsh millions moving targets utilize many different host plants experts still know far individual adult lanternfly fly season laying eggs dying one ways experts currently track populations citizen reports though exact science citizen reports help officials respond quickly new infestations anecdotally used know hot spots allegheny county last year walsh said know fall rate reporting subsequent years think significant lanternflies present fatigue centre county residents report lanternfly sightings season pda online calling loading CONCISE RESPONSE IN ENGLISH:\"\n",
      "}\n",
      "role: \"user\"\n",
      ", parts {\n",
      "  text: \"Spotted lanternflies, an invasive species that damages crops, can be controlled through egg mass detection and destruction in the winter and early spring. Residents are encouraged to check outdoor surfaces, vehicles, and items for egg masses and remove them to prevent the spread of these pests.\"\n",
      "}\n",
      "role: \"model\"\n",
      "]\n"
     ]
    }
   ],
   "source": [
    "#detailed session information, JSON format\n",
    "print(chat_session.history)"
   ]
  },
  {
   "cell_type": "code",
   "execution_count": null,
   "metadata": {
    "id": "XFnyuafYPV9V"
   },
   "outputs": [],
   "source": []
  }
 ],
 "metadata": {
  "accelerator": "GPU",
  "colab": {
   "gpuType": "T4",
   "name": "STEM-002_GenAI_Prompts.ipynb",
   "provenance": [
    {
     "file_id": "https://github.com/christophergarthwood/jbooks/blob/main/STEM-001_WordClouds.ipynb",
     "timestamp": 1716214402332
    }
   ]
  },
  "environment": {
   "kernel": "conda-base-py",
   "name": "workbench-notebooks.m123",
   "type": "gcloud",
   "uri": "us-docker.pkg.dev/deeplearning-platform-release/gcr.io/workbench-notebooks:m123"
  },
  "kernelspec": {
   "display_name": "Python 3 (ipykernel) (Local)",
   "language": "python",
   "name": "conda-base-py"
  },
  "language_info": {
   "codemirror_mode": {
    "name": "ipython",
    "version": 3
   },
   "file_extension": ".py",
   "mimetype": "text/x-python",
   "name": "python",
   "nbconvert_exporter": "python",
   "pygments_lexer": "ipython3",
   "version": "3.10.14"
  }
 },
 "nbformat": 4,
 "nbformat_minor": 4
}
