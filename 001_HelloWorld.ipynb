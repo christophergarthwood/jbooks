{
  "cells": [
    {
      "cell_type": "markdown",
      "metadata": {
        "id": "SwCF1JPFojwc"
      },
      "source": [
        "# Notebooks are like Matlab"
      ]
    },
    {
      "cell_type": "markdown",
      "metadata": {
        "id": "LA6n2xXOojwg"
      },
      "source": [
        "## Instead of Matlab you're using Python"
      ]
    },
    {
      "cell_type": "markdown",
      "metadata": {
        "id": "TdximqJWojwh"
      },
      "source": [
        "### The \"block\" below is a Python \"code block\" meaning the block will take Python syntax and run that against a Python Kernel\n",
        "#### CTRL+Enter to execute a block or use the \"Run\" icon at the top"
      ]
    },
    {
      "cell_type": "code",
      "source": [
        "# create some constants for formatting output\n",
        "BOLD_START=\"\\033[1m\"\n",
        "BOLD_END=\"\\033[0m\""
      ],
      "metadata": {
        "id": "b-uKUqQHorOW"
      },
      "execution_count": null,
      "outputs": []
    },
    {
      "cell_type": "code",
      "execution_count": null,
      "metadata": {
        "id": "UhliBtXRojwi"
      },
      "outputs": [],
      "source": [
        "# Assign a simple string to a variable.\n",
        "some_string=\"Hello World.\""
      ]
    },
    {
      "cell_type": "code",
      "execution_count": null,
      "metadata": {
        "colab": {
          "base_uri": "https://localhost:8080/",
          "height": 35
        },
        "id": "rjtkiKHSojwk",
        "outputId": "7ccfd348-3357-4d13-fdc7-21338096b33d"
      },
      "outputs": [
        {
          "output_type": "execute_result",
          "data": {
            "text/plain": [
              "'Hello World.'"
            ],
            "application/vnd.google.colaboratory.intrinsic+json": {
              "type": "string"
            }
          },
          "metadata": {},
          "execution_count": 3
        }
      ],
      "source": [
        "# Simply invoking the variable will show it's contents in Jupyter\n",
        "some_string"
      ]
    },
    {
      "cell_type": "code",
      "execution_count": null,
      "metadata": {
        "colab": {
          "base_uri": "https://localhost:8080/"
        },
        "id": "mAmEaBufojwo",
        "outputId": "2d046be4-72b6-4099-ece4-7ec332701660"
      },
      "outputs": [
        {
          "output_type": "stream",
          "name": "stdout",
          "text": [
            "Hello World.\n"
          ]
        }
      ],
      "source": [
        "# Simple print command to show the string\n",
        "print(some_string)"
      ]
    },
    {
      "cell_type": "code",
      "execution_count": null,
      "metadata": {
        "colab": {
          "base_uri": "https://localhost:8080/"
        },
        "id": "zRC9p2NHojwo",
        "outputId": "0fe35b13-403e-4f99-f35c-a7fec1642a73"
      },
      "outputs": [
        {
          "output_type": "stream",
          "name": "stdout",
          "text": [
            "Hello World.\n",
            "Hello World.        \n",
            "        Hello World.\n"
          ]
        }
      ],
      "source": [
        "# Or formatting the content\n",
        "\n",
        "print(f\"{some_string}\")\n",
        "print(f\"{some_string:<20}\")\n",
        "print(f\"{some_string:>20}\")"
      ]
    },
    {
      "cell_type": "code",
      "execution_count": null,
      "metadata": {
        "colab": {
          "base_uri": "https://localhost:8080/"
        },
        "id": "dXl86o6gojwp",
        "outputId": "fbda82e2-0249-4c53-f44c-0420f87527ef"
      },
      "outputs": [
        {
          "output_type": "stream",
          "name": "stdout",
          "text": [
            "Hello World."
          ]
        }
      ],
      "source": [
        "# Or iterate through an array\n",
        "letters=[\"H\", \"e\", \"l\", \"l\", \"o\", \" \", \"W\", \"o\", \"r\", \"l\", \"d\", \".\"]\n",
        "for idx,letter in enumerate(letters):\n",
        "    print(f\"{letter}\", end='')"
      ]
    },
    {
      "cell_type": "code",
      "execution_count": null,
      "metadata": {
        "colab": {
          "base_uri": "https://localhost:8080/"
        },
        "id": "0RcoU1T0ojwp",
        "outputId": "7c5e2fa9-2b05-40ac-a2e6-7572ec4d9785"
      },
      "outputs": [
        {
          "output_type": "stream",
          "name": "stdout",
          "text": [
            "The length of the array is: \u001b[1m12\u001b[0m.\n",
            "The type of data is: \u001b[1m<class 'list'>\u001b[0m.\n"
          ]
        }
      ],
      "source": [
        "# Show details regarding the array\n",
        "print(f\"The length of the array is: {BOLD_START}{len(letters)}{BOLD_END}.\")\n",
        "print(f\"The type of data is: {BOLD_START}{type(letters)}{BOLD_END}.\")"
      ]
    },
    {
      "cell_type": "markdown",
      "metadata": {
        "id": "1LzVpg6Qojwq"
      },
      "source": [
        "#### Not going to teach you Python but look for 002_pandas_DataStructure_Series to get in idea of the art of possible"
      ]
    }
  ],
  "metadata": {
    "kernelspec": {
      "display_name": "Python 3 (ipykernel)",
      "language": "python",
      "name": "python3"
    },
    "language_info": {
      "codemirror_mode": {
        "name": "ipython",
        "version": 3
      },
      "file_extension": ".py",
      "mimetype": "text/x-python",
      "name": "python",
      "nbconvert_exporter": "python",
      "pygments_lexer": "ipython3",
      "version": "3.8.13"
    },
    "colab": {
      "provenance": [],
      "name": "001_HelloWorld.ipynb"
    }
  },
  "nbformat": 4,
  "nbformat_minor": 0
}