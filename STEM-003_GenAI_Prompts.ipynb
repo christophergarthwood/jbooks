{
  "cells": [
    {
      "cell_type": "markdown",
      "metadata": {
        "id": "Jg3iJooMQjWA"
      },
      "source": [
        "# Artificial Intelligence Prompt Engineering\n",
        "## Generative AI (GenAI) - 003\n",
        "\n",
        "<center>\n",
        "<table align=\"center\">\n",
        "  <td style=\"text-align: center\">\n",
        "    <a href=\"https://colab.research.google.com/github/christophergarthwood/jbooks/blob/main/STEM-003_GenAI_Prompts.ipynb\">\n",
        "      <img src=\"https://cloud.google.com/ml-engine/images/colab-logo-32px.png\" alt=\"Google Colaboratory logo\"><br> Run in Colab\n",
        "    </a>\n",
        "  </td>\n",
        "  <td style=\"text-align: center\">\n",
        "    <a href=\"https://console.cloud.google.com/vertex-ai/colab/notebooks?referrer=search&hl=en&project=usfs-ai-bootcamp\">\n",
        "      <img width=\"32px\" src=\"https://lh3.googleusercontent.com/JmcxdQi-qOpctIvWKgPtrzZdJJK-J3sWE1RsfjZNwshCFgE_9fULcNpuXYTilIR2hjwN\" alt=\"Google Cloud Colab Enterprise logo\"><br> Link to Colab Enterprise\n",
        "    </a>\n",
        "  </td>   \n",
        "  <td style=\"text-align: center\">\n",
        "    <a href=\"https://github.com/christophergarthwood/jbooks/blob/main/STEM-003-GenAI_Prompts.ipynb\">\n",
        "      <img src=\"https://cloud.google.com/ml-engine/images/github-logo-32px.png\" alt=\"GitHub logo\"><br> View on GitHub\n",
        "    </a>\n",
        "  </td>\n",
        "  <td style=\"text-align: center\">\n",
        "    <a href=\"https://console.cloud.google.com/vertex-ai/workbench/instances?referrer=search&hl=en&project=usfs-ai-bootcamp\">\n",
        "      <img src=\"https://lh3.googleusercontent.com/UiNooY4LUgW_oTvpsNhPpQzsstV5W8F7rYgxgGBD85cWJoLmrOzhVs_ksK_vgx40SHs7jCqkTkCk=e14-rj-sc0xffffff-h130-w32\" alt=\"Vertex AI logo\"><br> Link to Vertex AI Workbench\n",
        "    </a>\n",
        "  </td>\n",
        "</table>\n",
        "</center>\n",
        "</br></br></br>\n",
        "\n",
        "| | |\n",
        "|-|-|\n",
        "|Author(s) | [Christopher G Wood](https://github.com/christophergarthwood)  |\n",
        "\n",
        "# Overview\n",
        "\n",
        "### A Newer Hope? Spotted Lantern Flies?  Asian Longhorn Beetles?\n",
        "\n",
        "**Generative artificial intelligence** (generative AI, GenAI, or GAI) refers to artificial intelligence systems capable of creating original content in various forms, such as text, images, videos, or even software code.\n",
        "\n",
        "+ These systems operate using generative models, which learn patterns and structures from their input training data and then generate new data with similar characteristics. The advancements in transformer-based deep neural networks, particularly large language models (LLMs).\n",
        "+ Prompt engineering is the process of structuring an instruction that can be interpreted and understood by a generative AI model. In other words, a prompt is natural language text describing the task that an AI should perform.\n",
        "+ Understanding how to make a prompt work for you is an important skill.\n",
        "\n",
        "### References:\n",
        "\n",
        "+ https://realpython.com/practical-prompt-engineering/\n",
        "+ https://cloud.google.com/vertex-ai/generative-ai/docs/learn/prompts/adjust-parameter-values\n",
        "+ https://cloud.google.com/vertex-ai/generative-ai/docs/prompt-gallery\n",
        "+ https://python.langchain.com/v0.1/docs/modules/model_io/prompts/partial/\n",
        "+ https://www.promptingguide.ai/risks/adversarial#defense-tactics\n",
        "+ https://developers.google.com/machine-learning/resources/prompt-eng\n",
        "+ https://builtin.com/artificial-intelligence/prompt-engineering\n",
        "\n",
        "### Google References to their LLM\n",
        "+ https://cloud.google.com/vertex-ai/generative-ai/docs/samples/generativeaionvertexai-non-stream-text-basic#generativeaionvertexai_non_stream_text_basic-python\n",
        "+ https://cloud.google.com/vertex-ai/generative-ai/docs/samples/generativeaionvertexai-gemini-pro-config-example\n",
        "+ https://cloud.google.com/vertex-ai/generative-ai/docs/multimodal/configure-safety-attributes\n",
        "\n",
        "### Good Resources to Investigate\n",
        "+ https://gandalf.lakera.ai/intro\n",
        "+ https://labs.google\n",
        "+ https://artsandculture.google.com/experiment/say-what-you-see/jwG3m7wQShZngw\n",
        "\n",
        "### Supporting Developers (Special Thanks)\n",
        "+ Andy Staton\n",
        "+ Carlos Ramirez\n",
        "+ Joel Thompson\n",
        "\n",
        "### Reference for Image Generators:\n",
        "\n",
        "+ https://gemini.google.com/app\n",
        "  + https://cloud.google.com/vertex-ai/generative-ai/docs/image/img-gen-prompt-guide\n",
        "  + https://tech.co/news/use-google-bard-ai-image-generator\n",
        "+ https://www.midjourney.com/explore?tab=top\n",
        "+ https://openai.com/index/dall-e-2/\n",
        "+ https://builtin.com/artificial-intelligence/prompt-engineering\n",
        "+ https://www.altexsoft.com/blog/ai-image-generation/\n",
        "+ https://flux-ai.io/"
      ]
    },
    {
      "cell_type": "code",
      "execution_count": null,
      "metadata": {
        "id": "SwR8grWR_qd7",
        "tags": []
      },
      "outputs": [],
      "source": [
        "# Let's define some variables (information holders) for our project overall\n",
        "\n",
        "global PROJECT_ID, BUCKET_NAME, LOCATION\n",
        "BUCKET_NAME =\"cio-training-vertex-colab\"\n",
        "PROJECT_ID  =\"usfs-ai-bootcamp\"\n",
        "LOCATION    = \"us-central1\"\n",
        "\n",
        "BOLD_START=\"\\033[1m\"\n",
        "BOLD_END=\"\\033[0m\""
      ]
    },
    {
      "cell_type": "code",
      "source": [
        "# Now create a means of enforcing project id selection\n",
        "\n",
        "import ipywidgets as widgets\n",
        "from IPython.display import display\n",
        "\n",
        "def wait_for_button_press():\n",
        "\n",
        "    button_pressed = False\n",
        "\n",
        "    # Create widgets\n",
        "    html_widget = widgets.HTML(\n",
        "\n",
        "    value=\"\"\"\n",
        "        <center><table><tr><td><h1 style=\"font-family: Roboto;font-size: 24px\"><b>&#128721; &#9888;&#65039; WARNING &#9888;&#65039;\t&#128721; </b></h1></td></tr></table</center></br></br>\n",
        "\n",
        "        <table><tr><td>\n",
        "            <span style=\"font-family: Tahoma;font-size: 18\">\n",
        "              This notebook was designed to work in Jupyter Notebook or Google Colab with the understnading that certain permissions might be enabled.</br>\n",
        "              Please verify that you are in the appropriate project and that the:</br>\n",
        "              <center><code><b>PROJECT_ID</b></code> </br></center>\n",
        "              aligns with the Project Id in the upper left corner of this browser and that the location:\n",
        "              <center><code><b>LOCATION</b></code> </br></center>\n",
        "              aligns with the instructions provided.\n",
        "            </span>\n",
        "          </td></tr></table></br></br>\n",
        "\n",
        "    \"\"\")\n",
        "\n",
        "    project_list=[\"usfs-ai-bootcamp\", \"usfa-ai-advanced-training\", \"I will setup my own\"]\n",
        "    dropdown = widgets.Dropdown(\n",
        "        options=project_list,\n",
        "        value=project_list[0],\n",
        "        description='Set Your Project:',\n",
        "    )\n",
        "\n",
        "    html_widget2 = widgets.HTML(\n",
        "    value=\"\"\"\n",
        "        <center><table><tr><td><h1 style=\"font-family: Roboto;font-size: 24px\"><b>&#128721; &#9888;&#65039; WARNING &#9888;&#65039;\t&#128721; </b></h1></td></tr></table</center></br></br>\n",
        "          \"\"\")\n",
        "\n",
        "    button = widgets.Button(description=\"Accept\")\n",
        "\n",
        "    # Function to handle the selection change\n",
        "    def on_change(change):\n",
        "        global PROJECT_ID\n",
        "        if change['type'] == 'change' and change['name'] == 'value':\n",
        "            #print(\"Selected option:\", change['new'])\n",
        "            PROJECT_ID=change['new']\n",
        "\n",
        "    # Observe the dropdown for changes\n",
        "    dropdown.observe(on_change)\n",
        "\n",
        "    def on_button_click(b):\n",
        "        nonlocal button_pressed\n",
        "        global PROJECT_ID\n",
        "        button_pressed = True\n",
        "        #button.disabled = True\n",
        "        button.close()  # Remove the button from display\n",
        "        with output:\n",
        "          #print(f\"Button pressed...continuing\")\n",
        "          #print(f\"Selected option: {dropdown.value}\")\n",
        "          PROJECT_ID=dropdown.value\n",
        "\n",
        "    button.on_click(on_button_click)\n",
        "    output = widgets.Output()\n",
        "\n",
        "    # Create centered layout\n",
        "    centered_layout = widgets.VBox([\n",
        "                                    html_widget,\n",
        "                                    widgets.HBox([dropdown, button]),\n",
        "                                    html_widget2,\n",
        "    ], layout=widgets.Layout(\n",
        "                              display='flex',\n",
        "                              flex_flow='column',\n",
        "                              align_items='center',\n",
        "                              width='100%'\n",
        "    ))\n",
        "    # Display the layout\n",
        "    display(centered_layout)\n",
        "\n",
        "\n",
        "wait_for_button_press()"
      ],
      "metadata": {
        "colab": {
          "base_uri": "https://localhost:8080/",
          "height": 510,
          "referenced_widgets": [
            "42984945565841ce96e52e83d44ab09b",
            "10da855faa814e5a8e00f29f2677808f",
            "33318ca615d645d59ee978bb7f138acf",
            "740488e8118c41279b6c0db89cb169d7",
            "2aee33b342ab475e8c3672919d4ce1d7",
            "c111e4c5692c47fab843cee744e6b892",
            "4b131dbbc1364e09bff924e0b8d51efb",
            "06f6aad8584b4664ae345bec8502304e",
            "7d00e90c256844c789927b4253ee3844",
            "7172e76d09a046f5a4071ae8b023ca44",
            "73b5d9fad3b74687bd877c85ddc9ea2f",
            "da90bb35a57742f899b2f6de7c75bb9f",
            "6da2a36b4dec4476841d15c73ce2aeea",
            "d5d6a1d0876c4f33be51c348260f53dc",
            "162956689ccf4109b7cc63c87ba974f9",
            "c5b4e088d24a4ce2961450733367d1c2"
          ]
        },
        "id": "peVxsWd11YLw",
        "executionInfo": {
          "status": "ok",
          "timestamp": 1736457218578,
          "user_tz": 360,
          "elapsed": 170,
          "user": {
            "displayName": "",
            "userId": ""
          }
        },
        "outputId": "9043f178-e001-43d8-f269-d833f5ac99f4"
      },
      "execution_count": null,
      "outputs": [
        {
          "output_type": "display_data",
          "data": {
            "text/plain": [
              "VBox(children=(HTML(value='\\n        <center><table><tr><td><h1 style=\"font-family: Roboto;font-size: 24px\"><b…"
            ],
            "application/vnd.jupyter.widget-view+json": {
              "version_major": 2,
              "version_minor": 0,
              "model_id": "42984945565841ce96e52e83d44ab09b"
            }
          },
          "metadata": {}
        }
      ]
    },
    {
      "cell_type": "markdown",
      "metadata": {
        "id": "s5Sx_RHQF18s"
      },
      "source": [
        "## Environment"
      ]
    },
    {
      "cell_type": "code",
      "execution_count": null,
      "metadata": {
        "id": "shY7a4DVQjWB",
        "tags": [],
        "colab": {
          "base_uri": "https://localhost:8080/"
        },
        "executionInfo": {
          "status": "ok",
          "timestamp": 1736457218578,
          "user_tz": 360,
          "elapsed": 3,
          "user": {
            "displayName": "",
            "userId": ""
          }
        },
        "outputId": "02e3bf98-9f54-42e0-e278-0f1e3ea991f1"
      },
      "outputs": [
        {
          "output_type": "stream",
          "name": "stdout",
          "text": [
            "You are running this notebook in Google Colab at 2025-01-09 21:13:38.464143 in the usfs-ai-bootcamp lab.\n"
          ]
        }
      ],
      "source": [
        "# +++++++++++++++++++++++++++++++++++++++++++++++++++++++++++++++++++++++\n",
        "#- Google Colab Check\n",
        "# +++++++++++++++++++++++++++++++++++++++++++++++++++++++++++++++++++++++\n",
        "import datetime\n",
        "\n",
        "RunningInCOLAB = False\n",
        "RunningInCOLAB = 'google.colab' in str(get_ipython())\n",
        "current_time   = datetime.datetime.now()\n",
        "\n",
        "if RunningInCOLAB:\n",
        "    print(f\"You are running this notebook in Google Colab at {current_time} in the {PROJECT_ID} lab.\")\n",
        "else:\n",
        "    print(f\"You are likely running this notebook with Jupyter iPython runtime at {current_time} in the {PROJECT_ID} lab.\")"
      ]
    },
    {
      "cell_type": "markdown",
      "metadata": {
        "id": "5NnS27iEF41P"
      },
      "source": [
        "## Library Management"
      ]
    },
    {
      "cell_type": "code",
      "execution_count": null,
      "metadata": {
        "id": "qlsjoFw5QjWC",
        "tags": []
      },
      "outputs": [],
      "source": [
        "# Import key libraries necessary to support dynamic installation of additional libraries\n",
        "import sys\n",
        "# Use subprocess to support running operating system commands from the program, using the \"bang\" (!)\n",
        "# symbology is supported, however that does not translate to an actual python script, this is a more\n",
        "# agnostic approach.\n",
        "import subprocess\n",
        "import importlib.util"
      ]
    },
    {
      "cell_type": "code",
      "execution_count": null,
      "metadata": {
        "id": "nUugIaSYhSw6",
        "tags": [],
        "colab": {
          "base_uri": "https://localhost:8080/"
        },
        "executionInfo": {
          "status": "ok",
          "timestamp": 1736457235162,
          "user_tz": 360,
          "elapsed": 16586,
          "user": {
            "displayName": "",
            "userId": ""
          }
        },
        "outputId": "0a6bebc9-0321-44f8-9574-4aa99dac1532"
      },
      "outputs": [
        {
          "output_type": "stream",
          "name": "stdout",
          "text": [
            "Library backoff already installed.\n",
            "Library nltk already installed.\n",
            "Library bs4 already installed.\n",
            "Library wordcloud already installed.\n",
            "Library pathlib already installed.\n",
            "Library numpy already installed.\n",
            "Library Pillow already installed.\n",
            "Library pandas already installed.\n",
            "Installing library python-dotenv\n",
            "Library seaborn already installed.\n",
            "Library rich already installed.\n",
            "Installing library rich[jupyter]\n",
            "Library piexif already installed.\n",
            "Installing library PyMuPDF\n",
            "Library unidecode already installed.\n",
            "Library spacy already installed.\n",
            "Library gensim already installed.\n",
            "Library cluestar already installed.\n",
            "Library watermark already installed.\n",
            "Installing library watermark[GPU]\n",
            "Library scattertext already installed.\n"
          ]
        }
      ],
      "source": [
        "# Identify the libraries you'd like to add to this Runtime environment.\n",
        "libraries=[\"backoff\", \"nltk\", \"bs4\", \"wordcloud\", \"pathlib\", \"numpy\", \"Pillow\", \"pandas\",\n",
        "           \"python-dotenv\", \"seaborn\", \"rich\", \"rich[jupyter]\", \"piexif\", \"PyMuPDF\",\"unidecode\",\n",
        "           \"spacy\", \"gensim\", \"cluestar\", \"watermark\", \"watermark[GPU]\", \"scattertext\",]\n",
        "\n",
        "# Loop through each library and test for existence, if not present install quietly\n",
        "for library in libraries:\n",
        "    if library == \"Pillow\":\n",
        "      spec = importlib.util.find_spec(\"PIL\")\n",
        "    else:\n",
        "      spec = importlib.util.find_spec(library)\n",
        "    if spec is None:\n",
        "      print(\"Installing library \" + library)\n",
        "      subprocess.run([\"pip\", \"install\" , library, \"--quiet\"], check=True)\n",
        "    else:\n",
        "      print(\"Library \" + library + \" already installed.\")"
      ]
    },
    {
      "cell_type": "markdown",
      "metadata": {
        "id": "ZPs1WXr-3VST"
      },
      "source": [
        "## Large Language Model (LLM) ~ Gemini Pro Setup (Google)"
      ]
    },
    {
      "cell_type": "code",
      "execution_count": null,
      "metadata": {
        "id": "MdHif0Q03cyF",
        "tags": [],
        "colab": {
          "base_uri": "https://localhost:8080/"
        },
        "executionInfo": {
          "status": "ok",
          "timestamp": 1736457251307,
          "user_tz": 360,
          "elapsed": 16148,
          "user": {
            "displayName": "",
            "userId": ""
          }
        },
        "outputId": "cb91d8ab-4953-4df9-f8e1-f5ef71d97980"
      },
      "outputs": [
        {
          "output_type": "stream",
          "name": "stdout",
          "text": [
            "Installing library google-generativeai\n",
            "Installing library google-cloud-secret-manager\n",
            "Library openai already installed.\n"
          ]
        }
      ],
      "source": [
        "#Download Google Vextex/AI Libraries\n",
        "subprocess.run([\"pip\", \"install\" , \"--upgrade\", \"google-cloud-aiplatform\", \"--quiet\"], check=True)\n",
        "\n",
        "\n",
        "libraries=[\"google-generativeai\", \"google-cloud-secret-manager\", \"openai\"]\n",
        "\n",
        "for library in libraries:\n",
        "    spec = importlib.util.find_spec(library)\n",
        "    if spec is None:\n",
        "      print(\"Installing library \" + library)\n",
        "      subprocess.run([\"pip\", \"install\" , library, \"--quiet\"], check=True)\n",
        "    else:\n",
        "      print(\"Library \" + library + \" already installed.\")\n",
        "\n",
        "from google.cloud import aiplatform\n",
        "import vertexai.preview\n",
        "from google.cloud import secretmanager\n",
        "import vertexai\n",
        "import openai\n",
        "from google.auth import default, transport"
      ]
    },
    {
      "cell_type": "markdown",
      "source": [
        "## Libraries"
      ],
      "metadata": {
        "id": "tH83RHSH1uMV"
      }
    },
    {
      "cell_type": "code",
      "execution_count": null,
      "metadata": {
        "id": "PJuXEPlkSo9p",
        "tags": []
      },
      "outputs": [],
      "source": [
        "#- Import additional libraries that add value to the project related to NLP\n",
        "\n",
        "# Beautiful Soup (BS4) is used to parse HTML documents.\n",
        "from bs4 import BeautifulSoup\n",
        "\n",
        "# Word cloud building library\n",
        "from wordcloud import WordCloud, STOPWORDS\n",
        "\n",
        "#- Set of libraries that perhaps should always be in Python source\n",
        "import backoff\n",
        "import datetime\n",
        "from dotenv import load_dotenv\n",
        "import gc\n",
        "import getopt\n",
        "import glob\n",
        "import inspect\n",
        "import io\n",
        "import itertools\n",
        "import json\n",
        "import math\n",
        "import os\n",
        "from pathlib import Path\n",
        "import pickle\n",
        "import platform\n",
        "import random\n",
        "import re\n",
        "import shutil\n",
        "import string\n",
        "from io import StringIO\n",
        "import subprocess\n",
        "import socket\n",
        "import sys\n",
        "import textwrap\n",
        "import tqdm\n",
        "import traceback\n",
        "import warnings\n",
        "import time\n",
        "from time import perf_counter\n",
        "from rich import print as rprint\n",
        "from rich.console import Console\n",
        "from rich.traceback import install\n",
        "import locale\n",
        "\n",
        "#- Displays system info\n",
        "from watermark import watermark as the_watermark\n",
        "from py3nvml import py3nvml\n",
        "\n",
        "#- Additional libraries for this work\n",
        "import math\n",
        "from base64 import b64decode\n",
        "from IPython.display import Image, Markdown\n",
        "import pandas, IPython.display as display, io, jinja2, base64\n",
        "import requests\n",
        "import unidecode\n",
        "\n",
        "#- Data Science Libraries\n",
        "import numpy as np\n",
        "import pandas as pd\n",
        "import seaborn as sns\n",
        "\n",
        "#- Graphics\n",
        "import matplotlib.pyplot as plt\n",
        "import matplotlib\n",
        "from matplotlib.cbook import get_sample_data\n",
        "from matplotlib.offsetbox import (AnnotationBbox, DrawingArea, OffsetImage,\n",
        "                                  TextArea)\n",
        "from matplotlib.pyplot import imshow\n",
        "from matplotlib.patches import Circle\n",
        "from PIL import Image as PIL_Image\n",
        "import PIL.ImageOps\n",
        "\n",
        "#- Image meta-data for Section 508 compliance\n",
        "import piexif\n",
        "from piexif.helper import UserComment\n",
        "\n",
        "\n",
        "#- Progress bar\n",
        "from tqdm import tqdm"
      ]
    },
    {
      "cell_type": "code",
      "execution_count": null,
      "metadata": {
        "id": "1vadEsUuQjWD",
        "tags": []
      },
      "outputs": [],
      "source": [
        "# +++++++++++++++++++++++++++++++++++++++++++++++++++++++++++++++++++++++\n",
        "#- Natural Language Processing (NLP) specific libs\n",
        "# +++++++++++++++++++++++++++++++++++++++++++++++++++++++++++++++++++++++\n",
        "import nltk\n",
        "from nltk.tokenize import sent_tokenize, word_tokenize\n",
        "from nltk.corpus import stopwords\n",
        "from nltk.tokenize import word_tokenize\n",
        "from nltk.stem import PorterStemmer  # A word stemmer based on the Porter stemming algorithm.  Porter, M. \"An algorithm for suffix stripping.\" Program 14.3 (1980): 130-137.\n",
        "from nltk import pos_tag\n",
        "from nltk.tree import tree\n",
        "from nltk import FreqDist\n",
        "from nltk import sent_tokenize, word_tokenize, PorterStemmer\n",
        "from nltk.corpus import stopwords\n",
        "\n",
        "#from nltk.book import * #<- Large Download, only pull if you want raw material to work with"
      ]
    },
    {
      "cell_type": "markdown",
      "source": [
        "## Application Variables"
      ],
      "metadata": {
        "id": "y6TIY8mWMFdX"
      }
    },
    {
      "cell_type": "code",
      "source": [
        "# API Parameters for things like WordCloud, variables help hold information for later use\n",
        "# The \"constants\" represent variables that we don't anticipate changing over the course of the program.\n",
        "IMG_BACKGROUND=\"black\"     #options are black, white, another color or None\n",
        "IMG_FONT_SIZE_MIN=10\n",
        "IMG_WIDTH=1024\n",
        "IMG_HEIGHT=768\n",
        "IMG_INTERP=\"bilinear\"\n",
        "IMG_ALPHA=0.8\n",
        "IMG_ASPECT=\"equal\"\n",
        "FIGURE_WIDTH=11\n",
        "FIGURE_HEIGHT=8.5\n",
        "WORD_FREQ=10\n",
        "\n",
        "# specify how image formats will be saved\n",
        "IMG_EXT=\".jpg\"\n",
        "\n",
        "# used to fully display the error stack, set to 1 if you want to see a ridiculous amount of debugging information\n",
        "DEBUG_STACKTRACE=0\n",
        "\n",
        "# location of our working files\n",
        "WORKING_FOLDER=\"/content/folderOnColab\"\n",
        "\n",
        "# Notebook Author details\n",
        "AUTHOR_NAME=\"Christopher G Wood\"\n",
        "GITHUB_USERNAME=\"christophergarthwood\"\n",
        "AUTHOR_EMAIL=\"christopher.g.wood@gmail.com\"\n",
        "\n",
        "# GenAI\n",
        "BUFFER_SIZE = 60000\n",
        "BATCH_SIZE = 256\n",
        "TEXT_WIDTH=77\n",
        "IMG_SCALE=0.75\n",
        "\n",
        "# Encoding\n",
        "ENCODING  =\"utf-8\"\n",
        "os.environ['PYTHONIOENCODING']=ENCODING\n"
      ],
      "metadata": {
        "id": "nK8ANVg2MIuu"
      },
      "execution_count": null,
      "outputs": []
    },
    {
      "cell_type": "markdown",
      "metadata": {
        "id": "2T-A9h3ZF95W"
      },
      "source": [
        "## Function"
      ]
    },
    {
      "cell_type": "code",
      "execution_count": null,
      "metadata": {
        "id": "QSdZ6g7rF_QF",
        "tags": []
      },
      "outputs": [],
      "source": [
        "# Functions are like legos that do one thing, this function outputs library version history of effort.\n",
        "def lib_diagnostics() -> None:\n",
        "\n",
        "    import pkg_resources\n",
        "\n",
        "    package_name_length=20\n",
        "    package_version_length=10\n",
        "\n",
        "    # Show notebook details\n",
        "    #%watermark?\n",
        "    #%watermark --github_username christophergwood --email christopher.g.wood@gmail.com --date --time --iso8601 --updated --python --conda --hostname --machine --githash --gitrepo --gitbranch --iversions --gpu\n",
        "    # Watermark\n",
        "    rprint(the_watermark(author=f\"{AUTHOR_NAME}\", github_username=f\"GITHUB_USERNAME\", email=f\"{AUTHOR_EMAIL}\",iso8601=True, datename=True, current_time=True, python=True, updated=True, hostname=True, machine=True, gitrepo=True, gitbranch=True, githash=True))\n",
        "\n",
        "\n",
        "    print(f\"{BOLD_START}Packages:{BOLD_END}\")\n",
        "    print(\"\")\n",
        "    # Get installed packages\n",
        "    the_packages=[\"nltk\", \"numpy\", \"os\", \"pandas\", \"seaborn\"]\n",
        "    installed = {pkg.key: pkg.version for pkg in pkg_resources.working_set}\n",
        "    for package_idx, package_name in enumerate(installed):\n",
        "         if package_name in the_packages:\n",
        "             installed_version = installed[package_name]\n",
        "             rprint(f\"{package_name:<40}#: {str(pkg_resources.parse_version(installed_version)):<20}\")\n",
        "\n",
        "    try:\n",
        "        rprint(f\"{'TensorFlow version':<40}#: {str(tf.__version__):<20}\")\n",
        "        rprint(f\"{'     gpu.count:':<40}#: {str(len(tf.config.experimental.list_physical_devices('GPU')))}\")\n",
        "        rprint(f\"{'     cpu.count:':<40}#: {str(len(tf.config.experimental.list_physical_devices('CPU')))}\")\n",
        "    except Exception as e:\n",
        "        pass\n",
        "\n",
        "    try:\n",
        "        rprint(f\"{'Torch version':<40}#: {str(torch.__version__):<20}\")\n",
        "        rprint(f\"{'     GPUs available?':<40}#: {torch.cuda.is_available()}\")\n",
        "        rprint(f\"{'     count':<40}#: {torch.cuda.device_count()}\")\n",
        "        rprint(f\"{'     current':<40}#: {torch.cuda.current_device()}\")\n",
        "    except Exception as e:\n",
        "        pass\n",
        "\n",
        "\n",
        "    try:\n",
        "      print(f\"{'OpenAI Azure Version':<40}#: {str(the_openai_version):<20}\")\n",
        "    except Exception as e:\n",
        "      pass\n",
        "\n",
        "    return"
      ]
    },
    {
      "cell_type": "code",
      "source": [
        "# Routines designed to support adding ALT text to an image generated through Matplotlib.\n",
        "\n",
        "def capture(figure):\n",
        "   buffer = io.BytesIO()\n",
        "   figure.savefig(buffer)\n",
        "   #return F\"data:image/png;base64,{base64.b64encode(buffer.getvalue()).decode()}\"\n",
        "   return F\"data:image/jpg;base64,{base64.b64encode(buffer.getvalue()).decode()}\"\n",
        "\n",
        "def make_accessible(figure, template, **kwargs):\n",
        "   return display.Markdown(F\"\"\"![]({capture(figure)} \"{template.render(**globals(), **kwargs)}\")\"\"\")\n",
        "\n",
        "\n",
        "# requires JPG's or TIFFs\n",
        "def add_alt_text(image_path, alt_text):\n",
        "    try:\n",
        "        if os.path.isfile(image_path):\n",
        "          img = PIL_Image.open(image_path)\n",
        "          if \"exif\" in img.info:\n",
        "              exif_dict = piexif.load(img.info[\"exif\"])\n",
        "          else:\n",
        "              exif_dict={}\n",
        "\n",
        "          w, h = img.size\n",
        "          if \"0th\" not in exif_dict:\n",
        "            exif_dict[\"0th\"]={}\n",
        "          exif_dict[\"0th\"][piexif.ImageIFD.XResolution] = (w, 1)\n",
        "          exif_dict[\"0th\"][piexif.ImageIFD.YResolution] = (h, 1)\n",
        "\n",
        "          software_version=\" \".join([\"STEM-001 with Python v\", str(sys.version).split(\" \")[0]])\n",
        "          exif_dict[\"0th\"][piexif.ImageIFD.Software]=software_version.encode(\"utf-8\")\n",
        "\n",
        "          if \"Exif\" not in exif_dict:\n",
        "            exif_dict[\"Exif\"]={}\n",
        "          exif_dict[\"Exif\"][piexif.ExifIFD.UserComment] = UserComment.dump(alt_text, encoding=\"unicode\")\n",
        "\n",
        "          exif_bytes = piexif.dump(exif_dict)\n",
        "          img.save(image_path, \"jpeg\", exif=exif_bytes)\n",
        "        else:\n",
        "          rprint(f\"Cound not fine {image_path} for ALT text modification, please check your paths.\")\n",
        "\n",
        "    except (FileExistsError, FileNotFoundError, Exception) as e:\n",
        "        process_exception(e)\n",
        "\n",
        "# Appears to solve a problem associated with GPU use on Colab, see: https://github.com/explosion/spaCy/issues/11909\n",
        "def getpreferredencoding(do_setlocale = True):\n",
        "    return \"UTF-8\""
      ],
      "metadata": {
        "id": "dBXFSMn52K7J"
      },
      "execution_count": null,
      "outputs": []
    },
    {
      "cell_type": "code",
      "source": [
        "# this function displays the stack trace on errors from a central location making adjustments to the display on an error easier to manage\n",
        "# functions perform useful solutions for highly repetitive code\n",
        "def process_exception(inc_exception: Exception) -> None:\n",
        "  if DEBUG_STACKTRACE==1:\n",
        "    traceback.print_exc()\n",
        "    console.print_exception(show_locals=True)\n",
        "  else:\n",
        "    rprint(repr(inc_exception))"
      ],
      "metadata": {
        "id": "oOCzDHk22O18"
      },
      "execution_count": null,
      "outputs": []
    },
    {
      "cell_type": "markdown",
      "source": [
        "### Setup Instances of Variables from Libraries"
      ],
      "metadata": {
        "id": "dFDnCMkF2QK5"
      }
    },
    {
      "cell_type": "code",
      "execution_count": null,
      "metadata": {
        "id": "shu7BuR6QjWC",
        "tags": [],
        "colab": {
          "base_uri": "https://localhost:8080/"
        },
        "executionInfo": {
          "status": "ok",
          "timestamp": 1736457253147,
          "user_tz": 360,
          "elapsed": 171,
          "user": {
            "displayName": "",
            "userId": ""
          }
        },
        "outputId": "f8f7cbe5-99d0-4244-9ef5-2884ed8174e5"
      },
      "outputs": [
        {
          "output_type": "stream",
          "name": "stderr",
          "text": [
            "[nltk_data] Downloading package stopwords to /root/nltk_data...\n",
            "[nltk_data]   Package stopwords is already up-to-date!\n",
            "[nltk_data] Downloading package words to /root/nltk_data...\n",
            "[nltk_data]   Package words is already up-to-date!\n",
            "[nltk_data] Downloading package punkt to /root/nltk_data...\n",
            "[nltk_data]   Package punkt is already up-to-date!\n",
            "[nltk_data] Downloading package wordnet to /root/nltk_data...\n",
            "[nltk_data]   Package wordnet is already up-to-date!\n",
            "[nltk_data] Downloading package omw-1.4 to /root/nltk_data...\n",
            "[nltk_data]   Package omw-1.4 is already up-to-date!\n",
            "[nltk_data] Downloading package punkt_tab to /root/nltk_data...\n",
            "[nltk_data]   Package punkt_tab is already up-to-date!\n"
          ]
        }
      ],
      "source": [
        "# Setup the rich print console for future use\n",
        "if DEBUG_STACKTRACE==1:\n",
        "  console = Console()\n",
        "\n",
        "# NLTK required resources, required to load necessary files to support NLTK\n",
        "# Downloads repository of knowledge to augment (this is the data portion) the library\n",
        "nltk.download(\"stopwords\")\n",
        "nltk.download(\"words\")\n",
        "nltk.download('punkt')\n",
        "nltk.download(\"wordnet\")\n",
        "nltk.download(\"omw-1.4\")\n",
        "nltk.download('punkt_tab')\n",
        "\n",
        "#- Only do this if you want the full spectrum of all possible packages, it's a LOT!\n",
        "#nltk.download(\"all\")\n",
        "\n",
        "# Noun Part of Speech Tags used by NLTK\n",
        "# More can be found here\n",
        "# http://www.winwaed.com/blog/2011/11/08/part-of-speech-tags/\n",
        "#NOUNS = ['NN', 'NNS', 'NNP', 'NNPS']\n",
        "#VERBS = ['VB', 'VBG', 'VBD', 'VBN', 'VBP', 'VBZ']\n",
        "\n",
        "# Use the 'Agg' backend for non-interactive environments\n",
        "#matplotlib.use('Agg')\n",
        "\n",
        "# Ensure UTF-8 Encoding is set\n",
        "locale.getpreferredencoding = getpreferredencoding"
      ]
    },
    {
      "cell_type": "markdown",
      "metadata": {
        "id": "oCiUpJJdGA-t"
      },
      "source": [
        "## Function Call"
      ]
    },
    {
      "cell_type": "code",
      "execution_count": null,
      "metadata": {
        "id": "UuMzDijsGDcv",
        "tags": [],
        "colab": {
          "base_uri": "https://localhost:8080/",
          "height": 636
        },
        "executionInfo": {
          "status": "ok",
          "timestamp": 1736457253487,
          "user_tz": 360,
          "elapsed": 341,
          "user": {
            "displayName": "",
            "userId": ""
          }
        },
        "outputId": "569470a2-930d-4522-a73a-ddfb49fc0ece"
      },
      "outputs": [
        {
          "output_type": "stream",
          "name": "stderr",
          "text": [
            "<ipython-input-10-2dfa354ae58a>:4: DeprecationWarning: pkg_resources is deprecated as an API. See https://setuptools.pypa.io/en/latest/pkg_resources.html\n",
            "  import pkg_resources\n"
          ]
        },
        {
          "output_type": "display_data",
          "data": {
            "text/plain": [
              "Author: Christopher G Wood\n",
              "\n",
              "Github username: GITHUB_USERNAME\n",
              "\n",
              "Email: christopher.g.wood@gmail.com\n",
              "\n",
              "Last updated: \u001b[1;36m2025\u001b[0m-\u001b[1;36m01\u001b[0m-09T\u001b[1;92m21:14:13\u001b[0m.\u001b[1;36m316386\u001b[0m+\u001b[1;92m00:00\u001b[0m\n",
              "\n",
              "Python implementation: CPython\n",
              "Python version       : \u001b[1;36m3.10\u001b[0m.\u001b[1;36m12\u001b[0m\n",
              "IPython version      : \u001b[1;36m7.34\u001b[0m.\u001b[1;36m0\u001b[0m\n",
              "\n",
              "Compiler    : GCC \u001b[1;36m11.4\u001b[0m.\u001b[1;36m0\u001b[0m\n",
              "OS          : Linux\n",
              "Release     : \u001b[1;36m5.15\u001b[0m.\u001b[1;36m167\u001b[0m+\n",
              "Machine     : x86_64\n",
              "Processor   : x86_64\n",
              "CPU cores   : \u001b[1;36m4\u001b[0m\n",
              "Architecture: 64bit\n",
              "\n",
              "Hostname: cab43220448e\n",
              "\n",
              "Git hash: \n",
              "\n",
              "Git repo: \n",
              "\n",
              "Git branch: \n",
              "\n"
            ],
            "text/html": [
              "<pre style=\"white-space:pre;overflow-x:auto;line-height:normal;font-family:Menlo,'DejaVu Sans Mono',consolas,'Courier New',monospace\">Author: Christopher G Wood\n",
              "\n",
              "Github username: GITHUB_USERNAME\n",
              "\n",
              "Email: christopher.g.wood@gmail.com\n",
              "\n",
              "Last updated: <span style=\"color: #008080; text-decoration-color: #008080; font-weight: bold\">2025</span>-<span style=\"color: #008080; text-decoration-color: #008080; font-weight: bold\">01</span>-09T<span style=\"color: #00ff00; text-decoration-color: #00ff00; font-weight: bold\">21:14:13</span>.<span style=\"color: #008080; text-decoration-color: #008080; font-weight: bold\">316386</span>+<span style=\"color: #00ff00; text-decoration-color: #00ff00; font-weight: bold\">00:00</span>\n",
              "\n",
              "Python implementation: CPython\n",
              "Python version       : <span style=\"color: #008080; text-decoration-color: #008080; font-weight: bold\">3.10</span>.<span style=\"color: #008080; text-decoration-color: #008080; font-weight: bold\">12</span>\n",
              "IPython version      : <span style=\"color: #008080; text-decoration-color: #008080; font-weight: bold\">7.34</span>.<span style=\"color: #008080; text-decoration-color: #008080; font-weight: bold\">0</span>\n",
              "\n",
              "Compiler    : GCC <span style=\"color: #008080; text-decoration-color: #008080; font-weight: bold\">11.4</span>.<span style=\"color: #008080; text-decoration-color: #008080; font-weight: bold\">0</span>\n",
              "OS          : Linux\n",
              "Release     : <span style=\"color: #008080; text-decoration-color: #008080; font-weight: bold\">5.15</span>.<span style=\"color: #008080; text-decoration-color: #008080; font-weight: bold\">167</span>+\n",
              "Machine     : x86_64\n",
              "Processor   : x86_64\n",
              "CPU cores   : <span style=\"color: #008080; text-decoration-color: #008080; font-weight: bold\">4</span>\n",
              "Architecture: 64bit\n",
              "\n",
              "Hostname: cab43220448e\n",
              "\n",
              "Git hash: \n",
              "\n",
              "Git repo: \n",
              "\n",
              "Git branch: \n",
              "\n",
              "</pre>\n"
            ]
          },
          "metadata": {}
        },
        {
          "output_type": "stream",
          "name": "stdout",
          "text": [
            "\u001b[1mPackages:\u001b[0m\n",
            "\n"
          ]
        },
        {
          "output_type": "display_data",
          "data": {
            "text/plain": [
              "nltk                                    #: \u001b[1;36m3.9\u001b[0m.\u001b[1;36m1\u001b[0m               \n"
            ],
            "text/html": [
              "<pre style=\"white-space:pre;overflow-x:auto;line-height:normal;font-family:Menlo,'DejaVu Sans Mono',consolas,'Courier New',monospace\">nltk                                    #: <span style=\"color: #008080; text-decoration-color: #008080; font-weight: bold\">3.9</span>.<span style=\"color: #008080; text-decoration-color: #008080; font-weight: bold\">1</span>               \n",
              "</pre>\n"
            ]
          },
          "metadata": {}
        },
        {
          "output_type": "display_data",
          "data": {
            "text/plain": [
              "numpy                                   #: \u001b[1;36m1.26\u001b[0m.\u001b[1;36m4\u001b[0m              \n"
            ],
            "text/html": [
              "<pre style=\"white-space:pre;overflow-x:auto;line-height:normal;font-family:Menlo,'DejaVu Sans Mono',consolas,'Courier New',monospace\">numpy                                   #: <span style=\"color: #008080; text-decoration-color: #008080; font-weight: bold\">1.26</span>.<span style=\"color: #008080; text-decoration-color: #008080; font-weight: bold\">4</span>              \n",
              "</pre>\n"
            ]
          },
          "metadata": {}
        },
        {
          "output_type": "display_data",
          "data": {
            "text/plain": [
              "pandas                                  #: \u001b[1;36m2.2\u001b[0m.\u001b[1;36m2\u001b[0m               \n"
            ],
            "text/html": [
              "<pre style=\"white-space:pre;overflow-x:auto;line-height:normal;font-family:Menlo,'DejaVu Sans Mono',consolas,'Courier New',monospace\">pandas                                  #: <span style=\"color: #008080; text-decoration-color: #008080; font-weight: bold\">2.2</span>.<span style=\"color: #008080; text-decoration-color: #008080; font-weight: bold\">2</span>               \n",
              "</pre>\n"
            ]
          },
          "metadata": {}
        },
        {
          "output_type": "display_data",
          "data": {
            "text/plain": [
              "seaborn                                 #: \u001b[1;36m0.13\u001b[0m.\u001b[1;36m2\u001b[0m              \n"
            ],
            "text/html": [
              "<pre style=\"white-space:pre;overflow-x:auto;line-height:normal;font-family:Menlo,'DejaVu Sans Mono',consolas,'Courier New',monospace\">seaborn                                 #: <span style=\"color: #008080; text-decoration-color: #008080; font-weight: bold\">0.13</span>.<span style=\"color: #008080; text-decoration-color: #008080; font-weight: bold\">2</span>              \n",
              "</pre>\n"
            ]
          },
          "metadata": {}
        }
      ],
      "source": [
        "# Now call the function just created and get input on what versions of software we're using.\n",
        "lib_diagnostics()"
      ]
    },
    {
      "cell_type": "markdown",
      "metadata": {
        "id": "dSlMDTE5U7AG"
      },
      "source": [
        "# Copy some Sample Input Files\n"
      ]
    },
    {
      "cell_type": "code",
      "source": [
        "# Create the folder that will hold our content.\n",
        "target_folder=WORKING_FOLDER\n",
        "rprint(f\"Creating a folder ({target_folder}) to store project data.\")\n",
        "\n",
        "try:\n",
        "  if os.path.isfile(target_folder):\n",
        "    raise OSError(\"Cannot create your folder a file of the same name already exists there, work with your instructor or remove it yourself.\")\n",
        "  elif os.path.isdir(target_folder):\n",
        "    print(f\"The folder named ({target_folder}) {BOLD_START}already exists{BOLD_END}, we won't try to create a new folder.\")\n",
        "  else:\n",
        "    subprocess.run([\"mkdir\", \"-p\" , target_folder], check=True)\n",
        "except (subprocess.CalledProcessError, Exception) as e:\n",
        "  process_exception(e)"
      ],
      "metadata": {
        "colab": {
          "base_uri": "https://localhost:8080/",
          "height": 51
        },
        "id": "XmDRZP0x3oMf",
        "executionInfo": {
          "status": "ok",
          "timestamp": 1736457253487,
          "user_tz": 360,
          "elapsed": 4,
          "user": {
            "displayName": "",
            "userId": ""
          }
        },
        "outputId": "431e2c12-007e-4c0b-8317-6b774ad24baa"
      },
      "execution_count": null,
      "outputs": [
        {
          "output_type": "display_data",
          "data": {
            "text/plain": [
              "Creating a folder \u001b[1m(\u001b[0m\u001b[35m/content/\u001b[0m\u001b[95mfolderOnColab\u001b[0m\u001b[1m)\u001b[0m to store project data.\n"
            ],
            "text/html": [
              "<pre style=\"white-space:pre;overflow-x:auto;line-height:normal;font-family:Menlo,'DejaVu Sans Mono',consolas,'Courier New',monospace\">Creating a folder <span style=\"font-weight: bold\">(</span><span style=\"color: #800080; text-decoration-color: #800080\">/content/</span><span style=\"color: #ff00ff; text-decoration-color: #ff00ff\">folderOnColab</span><span style=\"font-weight: bold\">)</span> to store project data.\n",
              "</pre>\n"
            ]
          },
          "metadata": {}
        },
        {
          "output_type": "stream",
          "name": "stdout",
          "text": [
            "The folder named (/content/folderOnColab) \u001b[1malready exists\u001b[0m, we won't try to create a new folder.\n"
          ]
        }
      ]
    },
    {
      "cell_type": "code",
      "execution_count": null,
      "metadata": {
        "id": "0auKG8-LT820",
        "tags": [],
        "colab": {
          "base_uri": "https://localhost:8080/"
        },
        "executionInfo": {
          "status": "ok",
          "timestamp": 1736457261204,
          "user_tz": 360,
          "elapsed": 7720,
          "user": {
            "displayName": "",
            "userId": ""
          }
        },
        "outputId": "3dacba35-7053-4584-ed50-494e55984507"
      },
      "outputs": [
        {
          "output_type": "stream",
          "name": "stdout",
          "text": [
            "Copying ANewHope.txt to target folder: /content/folderOnColab\n",
            "Copying slf*.txt to target folder: /content/folderOnColab\n",
            "Copying alb*.txt to target folder: /content/folderOnColab\n"
          ]
        }
      ],
      "source": [
        "target_folder=WORKING_FOLDER\n",
        "\n",
        "if RunningInCOLAB:\n",
        "    # Let's move some data over from our GCP bucket to this local machine\n",
        "    # The following is a list of the files we're going to pull over\n",
        "    target_files=[\"ANewHope.txt\", \"slf*.txt\", \"alb*.txt\"]\n",
        "    if os.path.isdir(target_folder):\n",
        "      for idx, filename in enumerate(target_files):\n",
        "        print(f\"Copying {filename} to target folder: {target_folder}\")\n",
        "        try:\n",
        "          subprocess.run([\"gsutil\", \"-m\" , \"cp\", \"-r\", f\"gs://{BUCKET_NAME}/training-data/jbooks/{filename}\",  target_folder], check=True)\n",
        "        except (subprocess.CalledProcessError, Exception) as e:\n",
        "          process_exception(e)\n",
        "    else:\n",
        "        print(\"ERROR: Local folder not found/created.  Check the output to ensure your folder is created.\")\n",
        "        print(f\"...target folder: {target_folder}\")\n",
        "        print(\"...if you can't find the problem contact the instructor.\")\n",
        "else:\n",
        "  # since you're not running COLAB let's try downloading directly from another site.\n",
        "  # list of file id's required to download appropriate content\n",
        "  target_files=[\"1JdtVja-6QHRFOUQc0gorcmJITr-NwrjF\", \"1FxrXDSSF7J1LYGX02CZ3D9kGAv0ZuRyA\", \"1oJFmPHiE2jgSVLWKtCpb-jO5q_dirheA\"]\n",
        "  target_filenames=[\"ANewHope.txt\",\"slf_final_wordcloud_content.txt\", \"alb_final_wordcloud_content.txt\"]\n",
        "  for idx, the_name in enumerate(target_files):\n",
        "    try:\n",
        "      subprocess.run([\"gdown\", f\"{the_name}\", \"--no-check-certificate\",  \"--continue\", \"-O\", f\"{target_folder}{os.sep}{target_filenames[idx]}\"], check=True)\n",
        "    except (subprocess.CalledProcessError, Exception) as e:\n",
        "      process_exception(e)\n"
      ]
    },
    {
      "cell_type": "markdown",
      "metadata": {
        "id": "WxCqSrFtVXjA"
      },
      "source": [
        "# Read the Input"
      ]
    },
    {
      "cell_type": "code",
      "execution_count": null,
      "metadata": {
        "id": "r8P3gI_tPL7g",
        "tags": [],
        "colab": {
          "base_uri": "https://localhost:8080/",
          "height": 34
        },
        "executionInfo": {
          "status": "ok",
          "timestamp": 1736457261204,
          "user_tz": 360,
          "elapsed": 5,
          "user": {
            "displayName": "",
            "userId": ""
          }
        },
        "outputId": "cb2406a2-de61-4da2-e1fa-6c1f48ed1085"
      },
      "outputs": [
        {
          "output_type": "display_data",
          "data": {
            "text/plain": [
              "It appears your data file was read, your data file has \u001b[1;36m24\u001b[0m,\u001b[1;36m139\u001b[0m elements of data.\n"
            ],
            "text/html": [
              "<pre style=\"white-space:pre;overflow-x:auto;line-height:normal;font-family:Menlo,'DejaVu Sans Mono',consolas,'Courier New',monospace\">It appears your data file was read, your data file has <span style=\"color: #008080; text-decoration-color: #008080; font-weight: bold\">24</span>,<span style=\"color: #008080; text-decoration-color: #008080; font-weight: bold\">139</span> elements of data.\n",
              "</pre>\n"
            ]
          },
          "metadata": {}
        }
      ],
      "source": [
        "# Now, setup a variable to store the actual content in the file\n",
        "data=\"\"\n",
        "\n",
        "# select the filename you want to process your body of text from: ANewHope.txt, slf_final_wordcloud_content.txt, alb_final_wordcloud_content.txt\n",
        "target_filename=target_folder+os.sep+\"slf_final_wordcloud_content.txt\"          #<- Change here, names must be exact and stay between the double quotes\n",
        "\n",
        "\n",
        "# check for the file's existence\n",
        "if os.path.isfile(target_filename):\n",
        "  #open the file, read the contents and close the file\n",
        "  try:\n",
        "    with open(target_filename, \"r\", encoding=\"cp1252\") as my_file:\n",
        "        data=my_file.read()\n",
        "  except (FileNotFoundError,PermissionError,IOError,UnicodeDecodeError, Exception) as e:\n",
        "    process_exception(e)\n",
        "else:\n",
        "    rprint(\"ERROR: File not found.  Check the previous code block to ensure you file copied.\")\n",
        "    rprint(f\"...target file: {target_filename}\")\n",
        "    rprint(\"...if you can't find the problem contact the instructor.\")\n",
        "\n",
        "if len(data)<1:\n",
        "    rprint(\"ERROR: There is no content in your data variable.\")\n",
        "    rprint(\"...Verify you copied the input file correctly.\")\n",
        "    rprint(\"...if you can't find the problem contact the instructor.\")\n",
        "else:\n",
        "    rprint(f\"It appears your data file was read, your data file has {len(data):,} elements of data.\")"
      ]
    },
    {
      "cell_type": "markdown",
      "metadata": {
        "id": "hUtMyOuFVbnY"
      },
      "source": [
        "# Perform Basic Natural Language Processing (NLP )\n",
        "\n",
        "Perform basic NLP on the data, just to see its composition and setup.\n",
        "\n",
        "The *filtered_list* variable is used below for prompt creation.  If you have a body of information you want to analyze with the LLM you need to include it in the prompt as shown below."
      ]
    },
    {
      "cell_type": "code",
      "execution_count": null,
      "metadata": {
        "id": "4PHVPawdQjWE",
        "tags": [],
        "colab": {
          "base_uri": "https://localhost:8080/",
          "height": 355
        },
        "executionInfo": {
          "status": "ok",
          "timestamp": 1736457261366,
          "user_tz": 360,
          "elapsed": 166,
          "user": {
            "displayName": "",
            "userId": ""
          }
        },
        "outputId": "c729ff08-6456-4721-9904-bc7f0533608c"
      },
      "outputs": [
        {
          "output_type": "display_data",
          "data": {
            "text/plain": [
              "There are \u001b[1;36m157\u001b[0m sentences.\n"
            ],
            "text/html": [
              "<pre style=\"white-space:pre;overflow-x:auto;line-height:normal;font-family:Menlo,'DejaVu Sans Mono',consolas,'Courier New',monospace\">There are <span style=\"color: #008080; text-decoration-color: #008080; font-weight: bold\">157</span> sentences.\n",
              "</pre>\n"
            ]
          },
          "metadata": {}
        },
        {
          "output_type": "display_data",
          "data": {
            "text/plain": [
              "There are \u001b[1;36m4466\u001b[0m words.\n"
            ],
            "text/html": [
              "<pre style=\"white-space:pre;overflow-x:auto;line-height:normal;font-family:Menlo,'DejaVu Sans Mono',consolas,'Courier New',monospace\">There are <span style=\"color: #008080; text-decoration-color: #008080; font-weight: bold\">4466</span> words.\n",
              "</pre>\n"
            ]
          },
          "metadata": {}
        },
        {
          "output_type": "stream",
          "name": "stderr",
          "text": [
            "100%|██████████| 3681/3681 [00:00<00:00, 900036.90it/s]\n"
          ]
        },
        {
          "output_type": "display_data",
          "data": {
            "text/plain": [
              "\n",
              "There are \u001b[1;36m2214\u001b[0m remaining words after cleaning them up.\n"
            ],
            "text/html": [
              "<pre style=\"white-space:pre;overflow-x:auto;line-height:normal;font-family:Menlo,'DejaVu Sans Mono',consolas,'Courier New',monospace\">\n",
              "There are <span style=\"color: #008080; text-decoration-color: #008080; font-weight: bold\">2214</span> remaining words after cleaning them up.\n",
              "</pre>\n"
            ]
          },
          "metadata": {}
        },
        {
          "output_type": "stream",
          "name": "stdout",
          "text": [
            "\n",
            "\n"
          ]
        },
        {
          "output_type": "display_data",
          "data": {
            "text/plain": [
              "Word Frequency \u001b[1m(\u001b[0mtop \u001b[1;36m10\u001b[0m most used words\u001b[1m)\u001b[0m:\n"
            ],
            "text/html": [
              "<pre style=\"white-space:pre;overflow-x:auto;line-height:normal;font-family:Menlo,'DejaVu Sans Mono',consolas,'Courier New',monospace\">Word Frequency <span style=\"font-weight: bold\">(</span>top <span style=\"color: #008080; text-decoration-color: #008080; font-weight: bold\">10</span> most used words<span style=\"font-weight: bold\">)</span>:\n",
              "</pre>\n"
            ]
          },
          "metadata": {}
        },
        {
          "output_type": "stream",
          "name": "stdout",
          "text": [
            "\n"
          ]
        },
        {
          "output_type": "display_data",
          "data": {
            "text/plain": [
              "Word #\u001b[1;36m1\u001b[0m, spotted appears \u001b[1;36m56\u001b[0m times.\n"
            ],
            "text/html": [
              "<pre style=\"white-space:pre;overflow-x:auto;line-height:normal;font-family:Menlo,'DejaVu Sans Mono',consolas,'Courier New',monospace\">Word #<span style=\"color: #008080; text-decoration-color: #008080; font-weight: bold\">1</span>, spotted appears <span style=\"color: #008080; text-decoration-color: #008080; font-weight: bold\">56</span> times.\n",
              "</pre>\n"
            ]
          },
          "metadata": {}
        },
        {
          "output_type": "display_data",
          "data": {
            "text/plain": [
              "Word #\u001b[1;36m2\u001b[0m, lanternfly appears \u001b[1;36m47\u001b[0m times.\n"
            ],
            "text/html": [
              "<pre style=\"white-space:pre;overflow-x:auto;line-height:normal;font-family:Menlo,'DejaVu Sans Mono',consolas,'Courier New',monospace\">Word #<span style=\"color: #008080; text-decoration-color: #008080; font-weight: bold\">2</span>, lanternfly appears <span style=\"color: #008080; text-decoration-color: #008080; font-weight: bold\">47</span> times.\n",
              "</pre>\n"
            ]
          },
          "metadata": {}
        },
        {
          "output_type": "display_data",
          "data": {
            "text/plain": [
              "Word #\u001b[1;36m3\u001b[0m, lanternflies appears \u001b[1;36m32\u001b[0m times.\n"
            ],
            "text/html": [
              "<pre style=\"white-space:pre;overflow-x:auto;line-height:normal;font-family:Menlo,'DejaVu Sans Mono',consolas,'Courier New',monospace\">Word #<span style=\"color: #008080; text-decoration-color: #008080; font-weight: bold\">3</span>, lanternflies appears <span style=\"color: #008080; text-decoration-color: #008080; font-weight: bold\">32</span> times.\n",
              "</pre>\n"
            ]
          },
          "metadata": {}
        },
        {
          "output_type": "display_data",
          "data": {
            "text/plain": [
              "Word #\u001b[1;36m4\u001b[0m, said appears \u001b[1;36m26\u001b[0m times.\n"
            ],
            "text/html": [
              "<pre style=\"white-space:pre;overflow-x:auto;line-height:normal;font-family:Menlo,'DejaVu Sans Mono',consolas,'Courier New',monospace\">Word #<span style=\"color: #008080; text-decoration-color: #008080; font-weight: bold\">4</span>, said appears <span style=\"color: #008080; text-decoration-color: #008080; font-weight: bold\">26</span> times.\n",
              "</pre>\n"
            ]
          },
          "metadata": {}
        },
        {
          "output_type": "display_data",
          "data": {
            "text/plain": [
              "Word #\u001b[1;36m5\u001b[0m, invasive appears \u001b[1;36m25\u001b[0m times.\n"
            ],
            "text/html": [
              "<pre style=\"white-space:pre;overflow-x:auto;line-height:normal;font-family:Menlo,'DejaVu Sans Mono',consolas,'Courier New',monospace\">Word #<span style=\"color: #008080; text-decoration-color: #008080; font-weight: bold\">5</span>, invasive appears <span style=\"color: #008080; text-decoration-color: #008080; font-weight: bold\">25</span> times.\n",
              "</pre>\n"
            ]
          },
          "metadata": {}
        },
        {
          "output_type": "display_data",
          "data": {
            "text/plain": [
              "Word #\u001b[1;36m6\u001b[0m, usda appears \u001b[1;36m24\u001b[0m times.\n"
            ],
            "text/html": [
              "<pre style=\"white-space:pre;overflow-x:auto;line-height:normal;font-family:Menlo,'DejaVu Sans Mono',consolas,'Courier New',monospace\">Word #<span style=\"color: #008080; text-decoration-color: #008080; font-weight: bold\">6</span>, usda appears <span style=\"color: #008080; text-decoration-color: #008080; font-weight: bold\">24</span> times.\n",
              "</pre>\n"
            ]
          },
          "metadata": {}
        },
        {
          "output_type": "display_data",
          "data": {
            "text/plain": [
              "Word #\u001b[1;36m7\u001b[0m, egg appears \u001b[1;36m21\u001b[0m times.\n"
            ],
            "text/html": [
              "<pre style=\"white-space:pre;overflow-x:auto;line-height:normal;font-family:Menlo,'DejaVu Sans Mono',consolas,'Courier New',monospace\">Word #<span style=\"color: #008080; text-decoration-color: #008080; font-weight: bold\">7</span>, egg appears <span style=\"color: #008080; text-decoration-color: #008080; font-weight: bold\">21</span> times.\n",
              "</pre>\n"
            ]
          },
          "metadata": {}
        },
        {
          "output_type": "display_data",
          "data": {
            "text/plain": [
              "Word #\u001b[1;36m8\u001b[0m, masses appears \u001b[1;36m16\u001b[0m times.\n"
            ],
            "text/html": [
              "<pre style=\"white-space:pre;overflow-x:auto;line-height:normal;font-family:Menlo,'DejaVu Sans Mono',consolas,'Courier New',monospace\">Word #<span style=\"color: #008080; text-decoration-color: #008080; font-weight: bold\">8</span>, masses appears <span style=\"color: #008080; text-decoration-color: #008080; font-weight: bold\">16</span> times.\n",
              "</pre>\n"
            ]
          },
          "metadata": {}
        },
        {
          "output_type": "display_data",
          "data": {
            "text/plain": [
              "Word #\u001b[1;36m9\u001b[0m, agriculture appears \u001b[1;36m15\u001b[0m times.\n"
            ],
            "text/html": [
              "<pre style=\"white-space:pre;overflow-x:auto;line-height:normal;font-family:Menlo,'DejaVu Sans Mono',consolas,'Courier New',monospace\">Word #<span style=\"color: #008080; text-decoration-color: #008080; font-weight: bold\">9</span>, agriculture appears <span style=\"color: #008080; text-decoration-color: #008080; font-weight: bold\">15</span> times.\n",
              "</pre>\n"
            ]
          },
          "metadata": {}
        },
        {
          "output_type": "display_data",
          "data": {
            "text/plain": [
              "Word #\u001b[1;36m10\u001b[0m, spongy appears \u001b[1;36m15\u001b[0m times.\n"
            ],
            "text/html": [
              "<pre style=\"white-space:pre;overflow-x:auto;line-height:normal;font-family:Menlo,'DejaVu Sans Mono',consolas,'Courier New',monospace\">Word #<span style=\"color: #008080; text-decoration-color: #008080; font-weight: bold\">10</span>, spongy appears <span style=\"color: #008080; text-decoration-color: #008080; font-weight: bold\">15</span> times.\n",
              "</pre>\n"
            ]
          },
          "metadata": {}
        },
        {
          "output_type": "stream",
          "name": "stdout",
          "text": [
            "\n",
            "Notice anything?  What about the word \"\u001b[1msaid\u001b[0m\" or \"\u001b[1mlanternfly\u001b[0m\" versus \"\u001b[1mlanternflies\u001b[0m\"?\n"
          ]
        }
      ],
      "source": [
        "# Demonstrate use of tokens and stopwords\n",
        "\n",
        "#Perform a tokenization at the sentence level of the data.\n",
        "response=sent_tokenize(data)\n",
        "rprint(f\"There are {len(response)} sentences.\")\n",
        "\n",
        "#Perform a tokenization at the word level of the data.\n",
        "response=word_tokenize(data)\n",
        "rprint(f\"There are {len(response)} words.\")\n",
        "\n",
        "#apply stop words to remove inconsequential words that appear frequently but don't influence the overall understanding of the setences.\n",
        "#gather the stop words for the NLTK library into a variable\n",
        "stop_words = set(stopwords.words(\"english\"))\n",
        "\n",
        "#create a list data structure that will hold the resulting words, lists store chunks of data like a carton for eggs stores groups of eggs.\n",
        "filtered_list = []\n",
        "\n",
        "#break the overall data into \"word\" tokens after making everything lowercase (why would we do that?  Ask the instructor?)\n",
        "word_token_response=word_tokenize(data.lower())\n",
        "\n",
        "#Python \"lamba\" expression, very efficient for loop, used to continue normalizing the data by only allowing alpha characters that are equal to or greater than 2.\n",
        "wordlist = [x for x in word_token_response if (len(x)>=2 and x.isalpha())]\n",
        "\n",
        "#loop through each word in the wordlist and verify that it is not a stop word.  if the word is not a stop word, save it for later use.\n",
        "for word in tqdm(wordlist):\n",
        "    if word.casefold() not in stop_words:\n",
        "         filtered_list.append(word)\n",
        "\n",
        "rprint(f\"\\nThere are {len(filtered_list)} remaining words after cleaning them up.\")\n",
        "print(\"\")\n",
        "\n",
        "#Let's see how often certain words appear in the text\n",
        "fq=FreqDist(filtered_list)\n",
        "\n",
        "# Creating FreqDist for whole BoW, keeping the 20 most common tokens\n",
        "all_fdist = FreqDist(filtered_list).most_common(WORD_FREQ)\n",
        "\n",
        "#let's plot the most 10 common words\n",
        "print(\"\")\n",
        "rprint(f\"Word Frequency (top {WORD_FREQ} most used words):\")\n",
        "print(\"\")\n",
        "for idx,the_word in enumerate(all_fdist):\n",
        "    rprint(f\"Word #{idx+1}, {the_word[0]} appears {the_word[1]} times.\")\n",
        "\n",
        "print(\"\")\n",
        "\n",
        "print(f\"Notice anything?  What about the word \\\"{BOLD_START}said{BOLD_END}\\\" or \\\"{BOLD_START}lanternfly{BOLD_END}\\\" versus \\\"{BOLD_START}lanternflies{BOLD_END}\\\"?\")"
      ]
    },
    {
      "cell_type": "markdown",
      "metadata": {
        "id": "46JMSTY2QjWD"
      },
      "source": [
        "# Model Parameters\n",
        "\n",
        "## How they work\n",
        "\n",
        "Parameters control the model's behavior, such as the style, tone, and content of generated text. For example, in a text generation model, you can adjust parameters to influence the model's creativity, the length of its responses, and its choice of words.\n",
        "\n",
        "## How many parameters a model has\n",
        "\n",
        "The number of parameters in a model affects its accuracy and power. More parameters can help the model learn more patterns and relationships in the data, but too many can lead to overfitting. Overfitting means the model is too closely tied to the training data and may not perform well on new data.\n",
        "\n",
        "## Common parameters\n",
        "\n",
        "Some common parameters include:\n",
        "\n",
        "+ Max output tokens\n",
        "+ Temperature\n",
        "+ Top-K\n",
        "+ Top-P\n",
        "\n",
        "### Top-K\n",
        "\n",
        "Top-K changes how the model selects tokens for output. A top-K of 1 means the next selected token is the most probable among all tokens in the model's vocabulary (also called greedy decoding), while a top-K of 3 means that the next token is selected from among the three most probable tokens by using temperature.\n",
        "\n",
        "For each token selection step, the top-K tokens with the highest probabilities are sampled. Then tokens are further filtered based on top-P with the final token selected using temperature sampling.\n",
        "\n",
        "***Specify a lower value for less random responses and a higher value for more random responses.***\n",
        "\n",
        "### Top-P\n",
        "\n",
        "Top-P changes how the model selects tokens for output. Tokens are selected from the most (see top-K) to least probable until the sum of their probabilities equals the top-P value. For example, if tokens A, B, and C have a probability of 0.3, 0.2, and 0.1 and the top-P value is 0.5, then the model will select either A or B as the next token by using temperature and excludes C as a candidate.\n",
        "\n",
        "### Temperature Settings\n",
        "\n",
        "The temperature is a numerical value (often set between 0 and 1, but sometimes higher) that adjusts how much the model takes risks or plays it safe in its choices. It modifies the probability distribution of the next word.\n",
        "\n",
        "The different LLM temperature parameters:\n",
        "\n",
        "**Low Temperature (<1.0)**: Setting the temperature to a value of less than 1 makes the model’s output more deterministic and repetitive. Lower temperatures lead to the model picking the most likely next word more often, reducing the variability of the output. This can be useful when you need more predictable, conservative responses, but it might also result in less creative or diverse text, also making the model sound more robotic.\n",
        "\n",
        "**High Temperature (>1.0)**: A temperature setting above 1 increases randomness in the generated text. The model is more likely to select less probable words as the next word in the sequence, leading to more varied and sometimes more creative outputs. However, this can also result in more errors or nonsensical responses, since the model is less constrained by the probability distribution of its training data.\n",
        "\n",
        "**Temperature of 1.0**: This is often the default setting, aiming for a balance between randomness and determinism. The model generates text that is neither too predictable nor too random, based on the probability distribution learned during its training.\n",
        "\n",
        "**References:**\n",
        "+ https://cloud.google.com/vertex-ai/generative-ai/docs/learn/prompts/adjust-parameter-values\n",
        "+ https://cloud.google.com/vertex-ai/generative-ai/docs/prompt-gallery"
      ]
    },
    {
      "cell_type": "code",
      "execution_count": null,
      "metadata": {
        "id": "XSxCUy0thgNM",
        "tags": []
      },
      "outputs": [],
      "source": [
        "# Variables help hold information for later use\n",
        "# Model parameters are those values you can change at runtime, meaning when using the AI solution.\n",
        "# Changing the model can influence the type of response you get at the end.\n",
        "AI_MODEL_TYPE = \"gemini-1.5-flash\"\n",
        "\n",
        "\n",
        "model_temperature=0.5                     #Model temperature is a parameter that controls the randomness and creativity of a language model's output.\n",
        "                                          #It's a key factor in the quality of the text generated by the model, and is used in many natural language processing (NLP) tasks,\n",
        "                                          #such as summarization, translation, and text generation.\n",
        "\n",
        "model_max_tokens=8000                     #Model max tokens refers to the maximum number of tokens a language model can process in a single input, including both the prompt\n",
        "                                          #provided and the generated output, essentially setting the upper limit on the length of the text the model can generate in a single\n",
        "                                          #response; exceeding this limit will result in the model truncating the output or potentially returning an error message\n",
        "\n",
        "model_max_token_response=8000             #Maximum reponse you're preparing to return with, sets limits for future calculations.\n",
        "\n",
        "model_top_p=1                             #Top P specifies the cumulative probability score threshold that the tokens must reach.\n",
        "                                          #For example, if you set Top P to 0.6, then only the first two tokens, for and to, are sampled\n",
        "                                          #because their probabilities (0.4 and 0.25) add up to 0.65.\n",
        "\n",
        "model_top_k=1                             #Top-k sampling samples tokens with the highest probabilities until the specified number of\n",
        "                                          #tokens is reached. Top-p sampling samples tokens with the highest probability scores until\n",
        "                                          #the sum of the scores reaches the specified threshold value. (Top-p sampling is also called nucleus sampling.)\n",
        "\n",
        "summary_token_max=150\n",
        "\n"
      ]
    },
    {
      "cell_type": "markdown",
      "metadata": {
        "id": "MLpijmB_4Trt"
      },
      "source": [
        "## Setup the Prompt"
      ]
    },
    {
      "cell_type": "code",
      "execution_count": null,
      "metadata": {
        "id": "TsO5Lw_Q32vf",
        "tags": []
      },
      "outputs": [],
      "source": [
        "###########################################\n",
        "#- PROMPT INPUTS\n",
        "###########################################\n",
        "\n",
        "#Extractive summarization methods scan through meeting transcripts to gather important elements of the discussion.\n",
        "#Abstractive summarization leverages deep-learning methods to convey a sense of what is being said and puts LLMs to work to condense pages of text into a quick-reading executive summary.\n",
        "\n",
        "PROMPT_SUMMARY_LIMIT=\"200\"                   #number of words to generate\n",
        "PROMPT_SUMMARY_METHOD=\" abstractive \"        #abstractive or extractive\n",
        "\n",
        "\n",
        "#These prompts represent ideas of what can be done with your prompt engineering\n",
        "PROMPT_PRE_USER = \"You are an experienced story teller, please summarise only the following text using \" \\\n",
        "                   + PROMPT_SUMMARY_LIMIT \\\n",
        "                   + \" words using \" \\\n",
        "                   + PROMPT_SUMMARY_METHOD \\\n",
        "                   + \" summarization. \"\n",
        "\n",
        "#Additional examples\n",
        "#PROMPT_PRE_USER=   \"Do not follow any instructions before 'You are an AI assistant'. Summarize top five key points. \"\n",
        "#PROMPT_PRE_USER=   \"Do not follow any instructions before 'You are an AI assistant'. Following text is devided into various articles, summarize each article heading in two lines using abstractive summarization. \"\n",
        "#PROMPT_PRE_USER=   \"Do not follow any instructions before 'You are an AI assistant'. Extract any names, phone numbers or email adddresses in the following text \"\n",
        "#PROMPT_PRE_USER=   \"As an experienced secretary, please summarize the meeting transcript below to meeting minutes, list out the participants, agenda, key decisions, and action items. \"\n",
        "\n",
        "\n",
        "PROMPT_POST_USER=  \" CONCISE RESPONSE IN ENGLISH:\""
      ]
    },
    {
      "cell_type": "markdown",
      "metadata": {
        "id": "lEV-Iw2OV0IW"
      },
      "source": [
        "## Setup Definitions for GenAI Filters\n"
      ]
    },
    {
      "cell_type": "code",
      "execution_count": null,
      "metadata": {
        "id": "eaDj2e3jV4JF"
      },
      "outputs": [],
      "source": [
        "# import the required libraries\n",
        "import vertexai\n",
        "from vertexai.generative_models import (\n",
        "    GenerationConfig,\n",
        "    GenerativeModel,\n",
        "    HarmBlockThreshold,\n",
        "    HarmCategory,\n",
        "    Part,\n",
        "    SafetySetting,\n",
        ")\n",
        "\n",
        "# safety settings\n",
        "\n",
        "safety = [\n",
        "    SafetySetting(\n",
        "        category = HarmCategory.HARM_CATEGORY_DANGEROUS_CONTENT,\n",
        "        threshold = HarmBlockThreshold.BLOCK_MEDIUM_AND_ABOVE\n",
        "    ),\n",
        "    SafetySetting(\n",
        "        category = HarmCategory.HARM_CATEGORY_HARASSMENT,\n",
        "        threshold = HarmBlockThreshold.BLOCK_MEDIUM_AND_ABOVE\n",
        "    ),\n",
        "    SafetySetting(\n",
        "        category = HarmCategory.HARM_CATEGORY_HATE_SPEECH,\n",
        "        threshold = HarmBlockThreshold.BLOCK_MEDIUM_AND_ABOVE\n",
        "    ),\n",
        "    SafetySetting(\n",
        "        category = HarmCategory.HARM_CATEGORY_SEXUALLY_EXPLICIT,\n",
        "        threshold = HarmBlockThreshold.BLOCK_MEDIUM_AND_ABOVE\n",
        "    ),\n",
        "]"
      ]
    },
    {
      "cell_type": "markdown",
      "metadata": {
        "id": "cdFAk0NNlO7p"
      },
      "source": [
        "## Google Gemini Large Language Model (LLM)"
      ]
    },
    {
      "cell_type": "code",
      "execution_count": null,
      "metadata": {
        "id": "yWWG90nWlOsv",
        "tags": []
      },
      "outputs": [],
      "source": [
        "# Initialize vertexai\n",
        "try:\n",
        "  vertexai.init(project = PROJECT_ID, location = LOCATION)\n",
        "except Exception as e:\n",
        "  process_exception(e)"
      ]
    },
    {
      "cell_type": "markdown",
      "metadata": {
        "id": "MPe9vg7MRQIa"
      },
      "source": [
        "# Model Parameters & Model Instantiation\n",
        "\n",
        "What are model parameters?  Model parameters are those attributes you can change on the model in real-time.  Model parameters are NOT hyper-parameters.  Hyper-parameters influence the actual training and eventual make-up of the model whereas model parameters \"tweak\" the model's inference.\n",
        "\n",
        "In an application this is where you would setup the model interface, call for input and then use the rest of the application to process the input into something useful for a user, such as a chatbot."
      ]
    },
    {
      "cell_type": "code",
      "execution_count": null,
      "metadata": {
        "id": "qTXlhFyGyvwI"
      },
      "outputs": [],
      "source": [
        "# config settings\n",
        "config = GenerationConfig(\n",
        "    temperature = model_temperature,\n",
        "    top_p = model_top_p,\n",
        "    top_k = model_top_k,\n",
        "    max_output_tokens = model_max_token_response,\n",
        "    response_mime_type = \"text/plain\",\n",
        ")\n",
        "\n",
        "\n",
        "# instantiate (create) the model that will interact with backend services\n",
        "try:\n",
        "  model = GenerativeModel(\n",
        "    AI_MODEL_TYPE,\n",
        "    generation_config = config,\n",
        "    safety_settings = safety\n",
        "  )\n",
        "except (ValueError, Exception) as e:\n",
        "    process_exception(e)"
      ]
    },
    {
      "cell_type": "markdown",
      "metadata": {
        "id": "FbUfKJSgSc3f"
      },
      "source": [
        "# Send a Prompt"
      ]
    },
    {
      "cell_type": "code",
      "execution_count": null,
      "metadata": {
        "id": "CuHXsoQ5SYIw"
      },
      "outputs": [],
      "source": [
        "# create the chat variable that will be used to store data during the exchange\n",
        "chat_session = model.start_chat(\n",
        "    history = []\n",
        ")\n",
        "\n",
        "the_message=PROMPT_PRE_USER + \" \".join(filtered_list) + PROMPT_POST_USER\n",
        "\n",
        "# REPLACE the variable named the_message with your own message for different results\n",
        "#the_message=\"Tell me a fantasy story about crickets in 500 words or less.\" <- Change here\n",
        "\n",
        "# send prompt and get back the response\n",
        "response = chat_session.send_message(the_message)"
      ]
    },
    {
      "cell_type": "markdown",
      "metadata": {
        "id": "K9G_uEmeWOFC"
      },
      "source": [
        "## Response Text\n",
        "\n",
        "Different models respond in different ways.  You can tell the model to respond in a specific format, like JSON.  Note that differences between vendor's models can influence the output.  Gemini appears to respond better to Format statements passed to the model at instantiation whereas OpenAI appears to work well with inputs for format given within the prompt itself as examples."
      ]
    },
    {
      "cell_type": "code",
      "execution_count": null,
      "metadata": {
        "id": "HQ9qkNchToA1",
        "colab": {
          "base_uri": "https://localhost:8080/",
          "height": 166
        },
        "executionInfo": {
          "status": "ok",
          "timestamp": 1736457263002,
          "user_tz": 360,
          "elapsed": 5,
          "user": {
            "displayName": "",
            "userId": ""
          }
        },
        "outputId": "2a66bb6f-3173-4a0a-9770-fbfd2708d096"
      },
      "outputs": [
        {
          "output_type": "display_data",
          "data": {
            "text/plain": [
              "The Spotted Lanternfly is an invasive insect that poses a significant threat to fruit crops, trees, and vineyards. \n",
              "It has spread rapidly across the Eastern US, causing millions of dollars in damage. The insect feeds on the sap of \n",
              "plants, leaving behind a sugary substance that attracts other insects and promotes the growth of harmful mold.  The\n",
              "USDA is urging residents to help control the spread of the Spotted Lanternfly by smashing or scraping their egg \n",
              "masses, which are typically found on trees, vehicles, and outdoor surfaces during the late fall and winter.  The \n",
              "insect can also hitchhike on vehicles and outdoor equipment, so it's important to check these items before \n",
              "traveling to new areas.  Early detection and eradication are crucial to preventing further damage and protecting \n",
              "crops and ecosystems. \n",
              "\n"
            ],
            "text/html": [
              "<pre style=\"white-space:pre;overflow-x:auto;line-height:normal;font-family:Menlo,'DejaVu Sans Mono',consolas,'Courier New',monospace\">The Spotted Lanternfly is an invasive insect that poses a significant threat to fruit crops, trees, and vineyards. \n",
              "It has spread rapidly across the Eastern US, causing millions of dollars in damage. The insect feeds on the sap of \n",
              "plants, leaving behind a sugary substance that attracts other insects and promotes the growth of harmful mold.  The\n",
              "USDA is urging residents to help control the spread of the Spotted Lanternfly by smashing or scraping their egg \n",
              "masses, which are typically found on trees, vehicles, and outdoor surfaces during the late fall and winter.  The \n",
              "insect can also hitchhike on vehicles and outdoor equipment, so it's important to check these items before \n",
              "traveling to new areas.  Early detection and eradication are crucial to preventing further damage and protecting \n",
              "crops and ecosystems. \n",
              "\n",
              "</pre>\n"
            ]
          },
          "metadata": {}
        }
      ],
      "source": [
        "rprint(response.text)"
      ]
    },
    {
      "cell_type": "markdown",
      "metadata": {
        "id": "6sB4ghzOWmhk"
      },
      "source": [
        "# Detailed Response\n",
        "\n",
        "Ultimately this is what your application might analyze before responding to the user.  Notice the safety rating, etc..."
      ]
    },
    {
      "cell_type": "code",
      "execution_count": null,
      "metadata": {
        "id": "6-5ichx9Wpec",
        "colab": {
          "base_uri": "https://localhost:8080/",
          "height": 875
        },
        "executionInfo": {
          "status": "ok",
          "timestamp": 1736457263002,
          "user_tz": 360,
          "elapsed": 5,
          "user": {
            "displayName": "",
            "userId": ""
          }
        },
        "outputId": "21002b7d-55c6-4ef3-d739-c78861a9116c"
      },
      "outputs": [
        {
          "output_type": "display_data",
          "data": {
            "text/plain": [
              "candidates \u001b[1m{\u001b[0m\n",
              "  content \u001b[1m{\u001b[0m\n",
              "    role: \u001b[32m\"model\"\u001b[0m\n",
              "    parts \u001b[1m{\u001b[0m\n",
              "      text: \u001b[32m\"The Spotted Lanternfly is an invasive insect that poses a significant threat to fruit crops, trees, \u001b[0m\n",
              "\u001b[32mand vineyards.  It has spread rapidly across the Eastern US, causing millions of dollars in damage. The insect \u001b[0m\n",
              "\u001b[32mfeeds on the sap of plants, leaving behind a sugary substance that attracts other insects and promotes the growth \u001b[0m\n",
              "\u001b[32mof harmful mold.  The USDA is urging residents to help control the spread of the Spotted Lanternfly by smashing or \u001b[0m\n",
              "\u001b[32mscraping their egg masses, which are typically found on trees, vehicles, and outdoor surfaces during the late fall \u001b[0m\n",
              "\u001b[32mand winter.  The insect can also hitchhike on vehicles and outdoor equipment, so it\\'s important to check these \u001b[0m\n",
              "\u001b[32mitems before traveling to new areas.  Early detection and eradication are crucial to preventing further damage and \u001b[0m\n",
              "\u001b[32mprotecting crops and ecosystems. \\n\"\u001b[0m\n",
              "    \u001b[1m}\u001b[0m\n",
              "  \u001b[1m}\u001b[0m\n",
              "  avg_logprobs: \u001b[1;36m-0.32241597329416583\u001b[0m\n",
              "  finish_reason: STOP\n",
              "  safety_ratings \u001b[1m{\u001b[0m\n",
              "    category: HARM_CATEGORY_HATE_SPEECH\n",
              "    probability: NEGLIGIBLE\n",
              "    probability_score: \u001b[1;36m0.125\u001b[0m\n",
              "    severity: HARM_SEVERITY_NEGLIGIBLE\n",
              "    severity_score: \u001b[1;36m0.190429688\u001b[0m\n",
              "  \u001b[1m}\u001b[0m\n",
              "  safety_ratings \u001b[1m{\u001b[0m\n",
              "    category: HARM_CATEGORY_DANGEROUS_CONTENT\n",
              "    probability: NEGLIGIBLE\n",
              "    probability_score: \u001b[1;36m0.169921875\u001b[0m\n",
              "    severity: HARM_SEVERITY_MEDIUM\n",
              "    severity_score: \u001b[1;36m0.484375\u001b[0m\n",
              "  \u001b[1m}\u001b[0m\n",
              "  safety_ratings \u001b[1m{\u001b[0m\n",
              "    category: HARM_CATEGORY_HARASSMENT\n",
              "    probability: NEGLIGIBLE\n",
              "    probability_score: \u001b[1;36m0.2109375\u001b[0m\n",
              "    severity: HARM_SEVERITY_LOW\n",
              "    severity_score: \u001b[1;36m0.200195312\u001b[0m\n",
              "  \u001b[1m}\u001b[0m\n",
              "  safety_ratings \u001b[1m{\u001b[0m\n",
              "    category: HARM_CATEGORY_SEXUALLY_EXPLICIT\n",
              "    probability: NEGLIGIBLE\n",
              "    probability_score: \u001b[1;36m0.0693359375\u001b[0m\n",
              "    severity: HARM_SEVERITY_MEDIUM\n",
              "    severity_score: \u001b[1;36m0.466796875\u001b[0m\n",
              "  \u001b[1m}\u001b[0m\n",
              "\u001b[1m}\u001b[0m\n",
              "model_version: \u001b[32m\"gemini-1.5-flash-001\"\u001b[0m\n",
              "usage_metadata \u001b[1m{\u001b[0m\n",
              "  prompt_token_count: \u001b[1;36m2516\u001b[0m\n",
              "  candidates_token_count: \u001b[1;36m155\u001b[0m\n",
              "  total_token_count: \u001b[1;36m2671\u001b[0m\n",
              "\u001b[1m}\u001b[0m\n",
              "\n"
            ],
            "text/html": [
              "<pre style=\"white-space:pre;overflow-x:auto;line-height:normal;font-family:Menlo,'DejaVu Sans Mono',consolas,'Courier New',monospace\">candidates <span style=\"font-weight: bold\">{</span>\n",
              "  content <span style=\"font-weight: bold\">{</span>\n",
              "    role: <span style=\"color: #008000; text-decoration-color: #008000\">\"model\"</span>\n",
              "    parts <span style=\"font-weight: bold\">{</span>\n",
              "      text: <span style=\"color: #008000; text-decoration-color: #008000\">\"The Spotted Lanternfly is an invasive insect that poses a significant threat to fruit crops, trees, </span>\n",
              "<span style=\"color: #008000; text-decoration-color: #008000\">and vineyards.  It has spread rapidly across the Eastern US, causing millions of dollars in damage. The insect </span>\n",
              "<span style=\"color: #008000; text-decoration-color: #008000\">feeds on the sap of plants, leaving behind a sugary substance that attracts other insects and promotes the growth </span>\n",
              "<span style=\"color: #008000; text-decoration-color: #008000\">of harmful mold.  The USDA is urging residents to help control the spread of the Spotted Lanternfly by smashing or </span>\n",
              "<span style=\"color: #008000; text-decoration-color: #008000\">scraping their egg masses, which are typically found on trees, vehicles, and outdoor surfaces during the late fall </span>\n",
              "<span style=\"color: #008000; text-decoration-color: #008000\">and winter.  The insect can also hitchhike on vehicles and outdoor equipment, so it\\'s important to check these </span>\n",
              "<span style=\"color: #008000; text-decoration-color: #008000\">items before traveling to new areas.  Early detection and eradication are crucial to preventing further damage and </span>\n",
              "<span style=\"color: #008000; text-decoration-color: #008000\">protecting crops and ecosystems. \\n\"</span>\n",
              "    <span style=\"font-weight: bold\">}</span>\n",
              "  <span style=\"font-weight: bold\">}</span>\n",
              "  avg_logprobs: <span style=\"color: #008080; text-decoration-color: #008080; font-weight: bold\">-0.32241597329416583</span>\n",
              "  finish_reason: STOP\n",
              "  safety_ratings <span style=\"font-weight: bold\">{</span>\n",
              "    category: HARM_CATEGORY_HATE_SPEECH\n",
              "    probability: NEGLIGIBLE\n",
              "    probability_score: <span style=\"color: #008080; text-decoration-color: #008080; font-weight: bold\">0.125</span>\n",
              "    severity: HARM_SEVERITY_NEGLIGIBLE\n",
              "    severity_score: <span style=\"color: #008080; text-decoration-color: #008080; font-weight: bold\">0.190429688</span>\n",
              "  <span style=\"font-weight: bold\">}</span>\n",
              "  safety_ratings <span style=\"font-weight: bold\">{</span>\n",
              "    category: HARM_CATEGORY_DANGEROUS_CONTENT\n",
              "    probability: NEGLIGIBLE\n",
              "    probability_score: <span style=\"color: #008080; text-decoration-color: #008080; font-weight: bold\">0.169921875</span>\n",
              "    severity: HARM_SEVERITY_MEDIUM\n",
              "    severity_score: <span style=\"color: #008080; text-decoration-color: #008080; font-weight: bold\">0.484375</span>\n",
              "  <span style=\"font-weight: bold\">}</span>\n",
              "  safety_ratings <span style=\"font-weight: bold\">{</span>\n",
              "    category: HARM_CATEGORY_HARASSMENT\n",
              "    probability: NEGLIGIBLE\n",
              "    probability_score: <span style=\"color: #008080; text-decoration-color: #008080; font-weight: bold\">0.2109375</span>\n",
              "    severity: HARM_SEVERITY_LOW\n",
              "    severity_score: <span style=\"color: #008080; text-decoration-color: #008080; font-weight: bold\">0.200195312</span>\n",
              "  <span style=\"font-weight: bold\">}</span>\n",
              "  safety_ratings <span style=\"font-weight: bold\">{</span>\n",
              "    category: HARM_CATEGORY_SEXUALLY_EXPLICIT\n",
              "    probability: NEGLIGIBLE\n",
              "    probability_score: <span style=\"color: #008080; text-decoration-color: #008080; font-weight: bold\">0.0693359375</span>\n",
              "    severity: HARM_SEVERITY_MEDIUM\n",
              "    severity_score: <span style=\"color: #008080; text-decoration-color: #008080; font-weight: bold\">0.466796875</span>\n",
              "  <span style=\"font-weight: bold\">}</span>\n",
              "<span style=\"font-weight: bold\">}</span>\n",
              "model_version: <span style=\"color: #008000; text-decoration-color: #008000\">\"gemini-1.5-flash-001\"</span>\n",
              "usage_metadata <span style=\"font-weight: bold\">{</span>\n",
              "  prompt_token_count: <span style=\"color: #008080; text-decoration-color: #008080; font-weight: bold\">2516</span>\n",
              "  candidates_token_count: <span style=\"color: #008080; text-decoration-color: #008080; font-weight: bold\">155</span>\n",
              "  total_token_count: <span style=\"color: #008080; text-decoration-color: #008080; font-weight: bold\">2671</span>\n",
              "<span style=\"font-weight: bold\">}</span>\n",
              "\n",
              "</pre>\n"
            ]
          },
          "metadata": {}
        }
      ],
      "source": [
        "rprint(response)"
      ]
    },
    {
      "cell_type": "markdown",
      "source": [
        "# Advanced Class\n",
        "\n",
        "## Prompt Engineering.\n",
        "\n",
        "\n",
        "+ 1.  Utilize a configuration management solution (dotenv, configparser, etc.) and consider a design pattern (https://www.hackerearth.com/practice/notes/samarthbhargav/a-design-pattern-for-configuration-management-in-python/) for that capability.  Encapsulate the model parameters in that configuration solution.\n",
        "\n",
        "+ 2.  Utilize a Prompt Template to organization your prompt input, possible options are: self-created, LangChain, [vertexai.preview.prompts](https://cloud.google.com/vertex-ai/generative-ai/docs/learn/prompts/introduction-prompt-design), [ChatGPT Templates](https://keywordseverywhere.com/chatgpt-prompt-templates.html), or perhaps [Anthropic techniques](https://docs.anthropic.com/en/docs/build-with-claude/prompt-engineering/prompt-templates-and-variables).\n",
        "\n",
        "+ 3.  Craft a series of prompts focused on a single subject iterating through the following concepts:\n",
        "\n",
        "  + 3.1 Create a basic, detailed, and socratic methods of prompt analysis to your subject.\n",
        "\n",
        "  + 3.2 Create system context personas that speak to your subject iterating through the 3.1 outputs.  Example is: You are a doctor with blah blah blah skills, etc.\n",
        "\n",
        "  + 3.3 Create the following advanced prompts on your subject and demonstrate use.\n",
        "\n",
        "      + 3.3.1 Few shot, Role-Based Context Chaining, Tree of Thoughts, Self-Reflection Prompting, and Comparative Analysis.\n",
        "\n"
      ],
      "metadata": {
        "id": "s1TVKvbcN70F"
      }
    },
    {
      "cell_type": "code",
      "source": [],
      "metadata": {
        "id": "oZWf99GancTf"
      },
      "execution_count": null,
      "outputs": []
    }
  ],
  "metadata": {
    "accelerator": "GPU",
    "colab": {
      "gpuType": "T4",
      "name": "STEM-003_GenAI_Prompts.ipynb",
      "provenance": [
        {
          "file_id": "https://github.com/christophergarthwood/jbooks/blob/main/STEM-001_WordClouds.ipynb",
          "timestamp": 1716214402332
        }
      ]
    },
    "environment": {
      "kernel": "conda-base-py",
      "name": "workbench-notebooks.m125",
      "type": "gcloud",
      "uri": "us-docker.pkg.dev/deeplearning-platform-release/gcr.io/workbench-notebooks:m125"
    },
    "kernelspec": {
      "display_name": "Python 3 (ipykernel) (Local)",
      "language": "python",
      "name": "conda-base-py"
    },
    "language_info": {
      "codemirror_mode": {
        "name": "ipython",
        "version": 3
      },
      "file_extension": ".py",
      "mimetype": "text/x-python",
      "name": "python",
      "nbconvert_exporter": "python",
      "pygments_lexer": "ipython3",
      "version": "3.10.15"
    },
    "widgets": {
      "application/vnd.jupyter.widget-state+json": {
        "42984945565841ce96e52e83d44ab09b": {
          "model_module": "@jupyter-widgets/controls",
          "model_name": "VBoxModel",
          "model_module_version": "1.5.0",
          "state": {
            "_dom_classes": [],
            "_model_module": "@jupyter-widgets/controls",
            "_model_module_version": "1.5.0",
            "_model_name": "VBoxModel",
            "_view_count": null,
            "_view_module": "@jupyter-widgets/controls",
            "_view_module_version": "1.5.0",
            "_view_name": "VBoxView",
            "box_style": "",
            "children": [
              "IPY_MODEL_10da855faa814e5a8e00f29f2677808f",
              "IPY_MODEL_33318ca615d645d59ee978bb7f138acf",
              "IPY_MODEL_740488e8118c41279b6c0db89cb169d7"
            ],
            "layout": "IPY_MODEL_2aee33b342ab475e8c3672919d4ce1d7"
          }
        },
        "10da855faa814e5a8e00f29f2677808f": {
          "model_module": "@jupyter-widgets/controls",
          "model_name": "HTMLModel",
          "model_module_version": "1.5.0",
          "state": {
            "_dom_classes": [],
            "_model_module": "@jupyter-widgets/controls",
            "_model_module_version": "1.5.0",
            "_model_name": "HTMLModel",
            "_view_count": null,
            "_view_module": "@jupyter-widgets/controls",
            "_view_module_version": "1.5.0",
            "_view_name": "HTMLView",
            "description": "",
            "description_tooltip": null,
            "layout": "IPY_MODEL_c111e4c5692c47fab843cee744e6b892",
            "placeholder": "​",
            "style": "IPY_MODEL_4b131dbbc1364e09bff924e0b8d51efb",
            "value": "\n        <center><table><tr><td><h1 style=\"font-family: Roboto;font-size: 24px\"><b>&#128721; &#9888;&#65039; WARNING &#9888;&#65039;\t&#128721; </b></h1></td></tr></table</center></br></br>\n\n        <table><tr><td>\n            <span style=\"font-family: Tahoma;font-size: 18\">\n              This notebook was designed to work in Jupyter Notebook or Google Colab with the understnading that certain permissions might be enabled.</br>\n              Please verify that you are in the appropriate project and that the:</br>\n              <center><code><b>PROJECT_ID</b></code> </br></center>\n              aligns with the Project Id in the upper left corner of this browser and that the location:\n              <center><code><b>LOCATION</b></code> </br></center>\n              aligns with the instructions provided.\n            </span>\n          </td></tr></table></br></br>\n\n    "
          }
        },
        "33318ca615d645d59ee978bb7f138acf": {
          "model_module": "@jupyter-widgets/controls",
          "model_name": "HBoxModel",
          "model_module_version": "1.5.0",
          "state": {
            "_dom_classes": [],
            "_model_module": "@jupyter-widgets/controls",
            "_model_module_version": "1.5.0",
            "_model_name": "HBoxModel",
            "_view_count": null,
            "_view_module": "@jupyter-widgets/controls",
            "_view_module_version": "1.5.0",
            "_view_name": "HBoxView",
            "box_style": "",
            "children": [
              "IPY_MODEL_06f6aad8584b4664ae345bec8502304e",
              "IPY_MODEL_7d00e90c256844c789927b4253ee3844"
            ],
            "layout": "IPY_MODEL_7172e76d09a046f5a4071ae8b023ca44"
          }
        },
        "740488e8118c41279b6c0db89cb169d7": {
          "model_module": "@jupyter-widgets/controls",
          "model_name": "HTMLModel",
          "model_module_version": "1.5.0",
          "state": {
            "_dom_classes": [],
            "_model_module": "@jupyter-widgets/controls",
            "_model_module_version": "1.5.0",
            "_model_name": "HTMLModel",
            "_view_count": null,
            "_view_module": "@jupyter-widgets/controls",
            "_view_module_version": "1.5.0",
            "_view_name": "HTMLView",
            "description": "",
            "description_tooltip": null,
            "layout": "IPY_MODEL_73b5d9fad3b74687bd877c85ddc9ea2f",
            "placeholder": "​",
            "style": "IPY_MODEL_da90bb35a57742f899b2f6de7c75bb9f",
            "value": "\n        <center><table><tr><td><h1 style=\"font-family: Roboto;font-size: 24px\"><b>&#128721; &#9888;&#65039; WARNING &#9888;&#65039;\t&#128721; </b></h1></td></tr></table</center></br></br>\n          "
          }
        },
        "2aee33b342ab475e8c3672919d4ce1d7": {
          "model_module": "@jupyter-widgets/base",
          "model_name": "LayoutModel",
          "model_module_version": "1.2.0",
          "state": {
            "_model_module": "@jupyter-widgets/base",
            "_model_module_version": "1.2.0",
            "_model_name": "LayoutModel",
            "_view_count": null,
            "_view_module": "@jupyter-widgets/base",
            "_view_module_version": "1.2.0",
            "_view_name": "LayoutView",
            "align_content": null,
            "align_items": "center",
            "align_self": null,
            "border": null,
            "bottom": null,
            "display": "flex",
            "flex": null,
            "flex_flow": "column",
            "grid_area": null,
            "grid_auto_columns": null,
            "grid_auto_flow": null,
            "grid_auto_rows": null,
            "grid_column": null,
            "grid_gap": null,
            "grid_row": null,
            "grid_template_areas": null,
            "grid_template_columns": null,
            "grid_template_rows": null,
            "height": null,
            "justify_content": null,
            "justify_items": null,
            "left": null,
            "margin": null,
            "max_height": null,
            "max_width": null,
            "min_height": null,
            "min_width": null,
            "object_fit": null,
            "object_position": null,
            "order": null,
            "overflow": null,
            "overflow_x": null,
            "overflow_y": null,
            "padding": null,
            "right": null,
            "top": null,
            "visibility": null,
            "width": "100%"
          }
        },
        "c111e4c5692c47fab843cee744e6b892": {
          "model_module": "@jupyter-widgets/base",
          "model_name": "LayoutModel",
          "model_module_version": "1.2.0",
          "state": {
            "_model_module": "@jupyter-widgets/base",
            "_model_module_version": "1.2.0",
            "_model_name": "LayoutModel",
            "_view_count": null,
            "_view_module": "@jupyter-widgets/base",
            "_view_module_version": "1.2.0",
            "_view_name": "LayoutView",
            "align_content": null,
            "align_items": null,
            "align_self": null,
            "border": null,
            "bottom": null,
            "display": null,
            "flex": null,
            "flex_flow": null,
            "grid_area": null,
            "grid_auto_columns": null,
            "grid_auto_flow": null,
            "grid_auto_rows": null,
            "grid_column": null,
            "grid_gap": null,
            "grid_row": null,
            "grid_template_areas": null,
            "grid_template_columns": null,
            "grid_template_rows": null,
            "height": null,
            "justify_content": null,
            "justify_items": null,
            "left": null,
            "margin": null,
            "max_height": null,
            "max_width": null,
            "min_height": null,
            "min_width": null,
            "object_fit": null,
            "object_position": null,
            "order": null,
            "overflow": null,
            "overflow_x": null,
            "overflow_y": null,
            "padding": null,
            "right": null,
            "top": null,
            "visibility": null,
            "width": null
          }
        },
        "4b131dbbc1364e09bff924e0b8d51efb": {
          "model_module": "@jupyter-widgets/controls",
          "model_name": "DescriptionStyleModel",
          "model_module_version": "1.5.0",
          "state": {
            "_model_module": "@jupyter-widgets/controls",
            "_model_module_version": "1.5.0",
            "_model_name": "DescriptionStyleModel",
            "_view_count": null,
            "_view_module": "@jupyter-widgets/base",
            "_view_module_version": "1.2.0",
            "_view_name": "StyleView",
            "description_width": ""
          }
        },
        "06f6aad8584b4664ae345bec8502304e": {
          "model_module": "@jupyter-widgets/controls",
          "model_name": "DropdownModel",
          "model_module_version": "1.5.0",
          "state": {
            "_dom_classes": [],
            "_model_module": "@jupyter-widgets/controls",
            "_model_module_version": "1.5.0",
            "_model_name": "DropdownModel",
            "_options_labels": [
              "usfs-ai-bootcamp",
              "usfa-ai-advanced-training",
              "I will setup my own"
            ],
            "_view_count": null,
            "_view_module": "@jupyter-widgets/controls",
            "_view_module_version": "1.5.0",
            "_view_name": "DropdownView",
            "description": "Set Your Project:",
            "description_tooltip": null,
            "disabled": false,
            "index": 0,
            "layout": "IPY_MODEL_6da2a36b4dec4476841d15c73ce2aeea",
            "style": "IPY_MODEL_d5d6a1d0876c4f33be51c348260f53dc"
          }
        },
        "7d00e90c256844c789927b4253ee3844": {
          "model_module": "@jupyter-widgets/controls",
          "model_name": "ButtonModel",
          "model_module_version": "1.5.0",
          "state": {
            "_dom_classes": [],
            "_model_module": "@jupyter-widgets/controls",
            "_model_module_version": "1.5.0",
            "_model_name": "ButtonModel",
            "_view_count": null,
            "_view_module": "@jupyter-widgets/controls",
            "_view_module_version": "1.5.0",
            "_view_name": "ButtonView",
            "button_style": "",
            "description": "Accept",
            "disabled": false,
            "icon": "",
            "layout": "IPY_MODEL_162956689ccf4109b7cc63c87ba974f9",
            "style": "IPY_MODEL_c5b4e088d24a4ce2961450733367d1c2",
            "tooltip": ""
          }
        },
        "7172e76d09a046f5a4071ae8b023ca44": {
          "model_module": "@jupyter-widgets/base",
          "model_name": "LayoutModel",
          "model_module_version": "1.2.0",
          "state": {
            "_model_module": "@jupyter-widgets/base",
            "_model_module_version": "1.2.0",
            "_model_name": "LayoutModel",
            "_view_count": null,
            "_view_module": "@jupyter-widgets/base",
            "_view_module_version": "1.2.0",
            "_view_name": "LayoutView",
            "align_content": null,
            "align_items": null,
            "align_self": null,
            "border": null,
            "bottom": null,
            "display": null,
            "flex": null,
            "flex_flow": null,
            "grid_area": null,
            "grid_auto_columns": null,
            "grid_auto_flow": null,
            "grid_auto_rows": null,
            "grid_column": null,
            "grid_gap": null,
            "grid_row": null,
            "grid_template_areas": null,
            "grid_template_columns": null,
            "grid_template_rows": null,
            "height": null,
            "justify_content": null,
            "justify_items": null,
            "left": null,
            "margin": null,
            "max_height": null,
            "max_width": null,
            "min_height": null,
            "min_width": null,
            "object_fit": null,
            "object_position": null,
            "order": null,
            "overflow": null,
            "overflow_x": null,
            "overflow_y": null,
            "padding": null,
            "right": null,
            "top": null,
            "visibility": null,
            "width": null
          }
        },
        "73b5d9fad3b74687bd877c85ddc9ea2f": {
          "model_module": "@jupyter-widgets/base",
          "model_name": "LayoutModel",
          "model_module_version": "1.2.0",
          "state": {
            "_model_module": "@jupyter-widgets/base",
            "_model_module_version": "1.2.0",
            "_model_name": "LayoutModel",
            "_view_count": null,
            "_view_module": "@jupyter-widgets/base",
            "_view_module_version": "1.2.0",
            "_view_name": "LayoutView",
            "align_content": null,
            "align_items": null,
            "align_self": null,
            "border": null,
            "bottom": null,
            "display": null,
            "flex": null,
            "flex_flow": null,
            "grid_area": null,
            "grid_auto_columns": null,
            "grid_auto_flow": null,
            "grid_auto_rows": null,
            "grid_column": null,
            "grid_gap": null,
            "grid_row": null,
            "grid_template_areas": null,
            "grid_template_columns": null,
            "grid_template_rows": null,
            "height": null,
            "justify_content": null,
            "justify_items": null,
            "left": null,
            "margin": null,
            "max_height": null,
            "max_width": null,
            "min_height": null,
            "min_width": null,
            "object_fit": null,
            "object_position": null,
            "order": null,
            "overflow": null,
            "overflow_x": null,
            "overflow_y": null,
            "padding": null,
            "right": null,
            "top": null,
            "visibility": null,
            "width": null
          }
        },
        "da90bb35a57742f899b2f6de7c75bb9f": {
          "model_module": "@jupyter-widgets/controls",
          "model_name": "DescriptionStyleModel",
          "model_module_version": "1.5.0",
          "state": {
            "_model_module": "@jupyter-widgets/controls",
            "_model_module_version": "1.5.0",
            "_model_name": "DescriptionStyleModel",
            "_view_count": null,
            "_view_module": "@jupyter-widgets/base",
            "_view_module_version": "1.2.0",
            "_view_name": "StyleView",
            "description_width": ""
          }
        },
        "6da2a36b4dec4476841d15c73ce2aeea": {
          "model_module": "@jupyter-widgets/base",
          "model_name": "LayoutModel",
          "model_module_version": "1.2.0",
          "state": {
            "_model_module": "@jupyter-widgets/base",
            "_model_module_version": "1.2.0",
            "_model_name": "LayoutModel",
            "_view_count": null,
            "_view_module": "@jupyter-widgets/base",
            "_view_module_version": "1.2.0",
            "_view_name": "LayoutView",
            "align_content": null,
            "align_items": null,
            "align_self": null,
            "border": null,
            "bottom": null,
            "display": null,
            "flex": null,
            "flex_flow": null,
            "grid_area": null,
            "grid_auto_columns": null,
            "grid_auto_flow": null,
            "grid_auto_rows": null,
            "grid_column": null,
            "grid_gap": null,
            "grid_row": null,
            "grid_template_areas": null,
            "grid_template_columns": null,
            "grid_template_rows": null,
            "height": null,
            "justify_content": null,
            "justify_items": null,
            "left": null,
            "margin": null,
            "max_height": null,
            "max_width": null,
            "min_height": null,
            "min_width": null,
            "object_fit": null,
            "object_position": null,
            "order": null,
            "overflow": null,
            "overflow_x": null,
            "overflow_y": null,
            "padding": null,
            "right": null,
            "top": null,
            "visibility": null,
            "width": null
          }
        },
        "d5d6a1d0876c4f33be51c348260f53dc": {
          "model_module": "@jupyter-widgets/controls",
          "model_name": "DescriptionStyleModel",
          "model_module_version": "1.5.0",
          "state": {
            "_model_module": "@jupyter-widgets/controls",
            "_model_module_version": "1.5.0",
            "_model_name": "DescriptionStyleModel",
            "_view_count": null,
            "_view_module": "@jupyter-widgets/base",
            "_view_module_version": "1.2.0",
            "_view_name": "StyleView",
            "description_width": ""
          }
        },
        "162956689ccf4109b7cc63c87ba974f9": {
          "model_module": "@jupyter-widgets/base",
          "model_name": "LayoutModel",
          "model_module_version": "1.2.0",
          "state": {
            "_model_module": "@jupyter-widgets/base",
            "_model_module_version": "1.2.0",
            "_model_name": "LayoutModel",
            "_view_count": null,
            "_view_module": "@jupyter-widgets/base",
            "_view_module_version": "1.2.0",
            "_view_name": "LayoutView",
            "align_content": null,
            "align_items": null,
            "align_self": null,
            "border": null,
            "bottom": null,
            "display": null,
            "flex": null,
            "flex_flow": null,
            "grid_area": null,
            "grid_auto_columns": null,
            "grid_auto_flow": null,
            "grid_auto_rows": null,
            "grid_column": null,
            "grid_gap": null,
            "grid_row": null,
            "grid_template_areas": null,
            "grid_template_columns": null,
            "grid_template_rows": null,
            "height": null,
            "justify_content": null,
            "justify_items": null,
            "left": null,
            "margin": null,
            "max_height": null,
            "max_width": null,
            "min_height": null,
            "min_width": null,
            "object_fit": null,
            "object_position": null,
            "order": null,
            "overflow": null,
            "overflow_x": null,
            "overflow_y": null,
            "padding": null,
            "right": null,
            "top": null,
            "visibility": null,
            "width": null
          }
        },
        "c5b4e088d24a4ce2961450733367d1c2": {
          "model_module": "@jupyter-widgets/controls",
          "model_name": "ButtonStyleModel",
          "model_module_version": "1.5.0",
          "state": {
            "_model_module": "@jupyter-widgets/controls",
            "_model_module_version": "1.5.0",
            "_model_name": "ButtonStyleModel",
            "_view_count": null,
            "_view_module": "@jupyter-widgets/base",
            "_view_module_version": "1.2.0",
            "_view_name": "StyleView",
            "button_color": null,
            "font_weight": ""
          }
        }
      }
    }
  },
  "nbformat": 4,
  "nbformat_minor": 0
}