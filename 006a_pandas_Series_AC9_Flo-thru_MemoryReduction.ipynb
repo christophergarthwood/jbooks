{
 "cells": [
  {
   "cell_type": "markdown",
   "metadata": {},
   "source": [
    "# Jupyter Notebook showing Numpy/Pandas use with In-situ Data\n",
    "## Memory reduction technique\n",
    "## AC9 Flow-thru data\n",
    "\n",
    "Includes references to plotting using Matplotlib and related tools."
   ]
  },
  {
   "cell_type": "code",
   "execution_count": 1,
   "metadata": {},
   "outputs": [],
   "source": [
    "############################################\n",
    "# INCLUDES\n",
    "############################################\n",
    "#libraries specific to this example\n",
    "import numpy as np\n",
    "import pandas as pd\n",
    "import scipy as sp\n",
    "from sklearn.linear_model import LinearRegression\n",
    "import matplotlib as matplt\n",
    "import matplotlib.pyplot as plt\n",
    "\n",
    "#a set of libraries that perhaps should always be in Python source\n",
    "import os \n",
    "import datetime\n",
    "import sys\n",
    "import gc\n",
    "import getopt\n",
    "import inspect\n",
    "import math\n",
    "import warnings\n",
    "\n",
    "from pydoc import help                          # can type in the python console `help(name of function)` to get the documentation\n",
    "\n",
    "#a darn useful library for creating paths and one I recommend you load to your environment\n",
    "from pathlib import Path\n",
    "\n",
    "#Import a custom library, in this case a fairly useful logging framework\n",
    "if os.environ.get('LIB_LOCATION') is not None:\n",
    "    debug_lib_location = Path(os.getenv('LIB_LOCATION'))\n",
    "else:\n",
    "    debug_lib_location = Path(\"./\")\n",
    "                              \n",
    "if os.environ.get('DATA_LOCATION') is not None:\n",
    "    root_location = os.getenv('DATA_LOCATION')\n",
    "else:\n",
    "    root_location=\"..\" + os.sep + \"data\";                              \n",
    "sys.path.append(str(debug_lib_location))\n",
    "\n",
    "import debug\n",
    "\n",
    "warnings.filterwarnings('ignore')               # don't print out warnings\n"
   ]
  },
  {
   "cell_type": "code",
   "execution_count": 9,
   "metadata": {},
   "outputs": [],
   "source": [
    "############################################\n",
    "#JUPYTER NOTEBOOK OUTPUT CONTROL / FORMATTING\n",
    "############################################\n",
    "#set floating point to 4 places to things don't run loose\n",
    "pd.options.display.float_format = '{:,.4f}'.format\n",
    "np.set_printoptions(precision=4)"
   ]
  },
  {
   "cell_type": "markdown",
   "metadata": {},
   "source": [
    "# Variable declaration"
   ]
  },
  {
   "cell_type": "code",
   "execution_count": 10,
   "metadata": {},
   "outputs": [],
   "source": [
    "############################################\n",
    "# GLOBAL VARIABLES\n",
    "############################################\n",
    "DEBUG = 1\n",
    "DEBUG_DATA = 0\n",
    "\n",
    "# CODE CONSTRAINTS\n",
    "VERSION_NAME    = \"AC9_Flow-thru\"\n",
    "VERSION_MAJOR   = 0\n",
    "VERSION_MINOR   = 0\n",
    "VERSION_RELEASE = 1\n",
    "\n",
    "#used for values outside standard ASCII, just do it, you'll need it\n",
    "ENCODING  =\"utf-8\"\n",
    "\n",
    "############################################\n",
    "# GLOBAL CONSTANTS\n",
    "############################################\n",
    "\n",
    "\n",
    "############################################\n",
    "# APPLICATION VARIABLES\n",
    "############################################\n",
    "\n",
    "############################################\n",
    "# GLOBAL CONFIGURATION\n",
    "############################################\n",
    "os.environ['PYTHONIOENCODING']=ENCODING\n"
   ]
  },
  {
   "cell_type": "markdown",
   "metadata": {},
   "source": [
    "# Example of Defining a Function"
   ]
  },
  {
   "cell_type": "code",
   "execution_count": 11,
   "metadata": {},
   "outputs": [],
   "source": [
    "def lib_diagnostics():\n",
    "    debug.msg_debug(\"System version    #:{:>12}\".format(sys.version))\n",
    "    debug.msg_debug(\"Matplotlib version#:{:>12}\".format(matplt.__version__))\n",
    "    debug.msg_debug(\"Numpy version     #:{:>12}\".format(np.__version__))\n",
    "    debug.msg_debug(\"Pandas version    #:{:>12}\".format(pd.__version__))\n",
    "    debug.msg_debug(\"SciPy version     #:{:>12}\".format(sp.__version__))\n",
    "\n",
    "    return"
   ]
  },
  {
   "cell_type": "code",
   "execution_count": 12,
   "metadata": {},
   "outputs": [],
   "source": [
    "def reduce_mem_usage(df):\n",
    "    \"\"\" iterate through all the columns of a dataframe and modify the data type\n",
    "        to reduce memory usage.        \n",
    "    \"\"\"\n",
    "    start_mem = df.memory_usage().sum() / 1024**2\n",
    "    print('Memory usage of dataframe is {:.2f} MB'.format(start_mem))\n",
    "    \n",
    "    for col in df.columns:\n",
    "        col_type = df[col].dtype\n",
    "        \n",
    "        if col_type != object:\n",
    "            c_min = df[col].min()\n",
    "            c_max = df[col].max()\n",
    "            if str(col_type)[:3] == 'int':\n",
    "                if c_min > np.iinfo(np.int8).min and c_max < np.iinfo(np.int8).max:\n",
    "                    df[col] = df[col].astype(np.int8)\n",
    "                elif c_min > np.iinfo(np.int16).min and c_max < np.iinfo(np.int16).max:\n",
    "                    df[col] = df[col].astype(np.int16)\n",
    "                elif c_min > np.iinfo(np.int32).min and c_max < np.iinfo(np.int32).max:\n",
    "                    df[col] = df[col].astype(np.int32)\n",
    "                elif c_min > np.iinfo(np.int64).min and c_max < np.iinfo(np.int64).max:\n",
    "                    df[col] = df[col].astype(np.int64)  \n",
    "            else:\n",
    "                if c_min > np.finfo(np.float16).min and c_max < np.finfo(np.float16).max:\n",
    "                    df[col] = df[col].astype(np.float16)\n",
    "                elif c_min > np.finfo(np.float32).min and c_max < np.finfo(np.float32).max:\n",
    "                    df[col] = df[col].astype(np.float32)\n",
    "                else:\n",
    "                    df[col] = df[col].astype(np.float64)\n",
    "        else:\n",
    "            df[col] = df[col].astype('category')\n",
    "\n",
    "    end_mem = df.memory_usage().sum() / 1024**2\n",
    "    print('Memory usage after optimization is: {:.2f} MB'.format(end_mem))\n",
    "    print('Decreased by {:.1f}%'.format(100 * (start_mem - end_mem) / start_mem))\n",
    "    \n",
    "    return df\n"
   ]
  },
  {
   "cell_type": "markdown",
   "metadata": {},
   "source": [
    "# Library Invocation\n",
    "### Note that it's also useful to use this code so that you carry around a list of version dependencies and know how you did something (version)"
   ]
  },
  {
   "cell_type": "code",
   "execution_count": 13,
   "metadata": {},
   "outputs": [
    {
     "name": "stdout",
     "output_type": "stream",
     "text": [
      "[2022-12-14 18:23:17 UTC]   DEBUG: System version    #:3.9.15 (main, Nov  4 2022, 16:13:54) \n",
      "[GCC 11.2.0] \n",
      "[2022-12-14 18:23:17 UTC]   DEBUG: Matplotlib version#:       3.5.3 \n",
      "[2022-12-14 18:23:17 UTC]   DEBUG: Numpy version     #:      1.23.4 \n",
      "[2022-12-14 18:23:17 UTC]   DEBUG: Pandas version    #:       1.5.1 \n",
      "[2022-12-14 18:23:17 UTC]   DEBUG: SciPy version     #:       1.9.3 \n"
     ]
    }
   ],
   "source": [
    "lib_diagnostics()"
   ]
  },
  {
   "cell_type": "markdown",
   "metadata": {},
   "source": [
    "# Data Read\n",
    "### Using pandas read in a data file and establish a log for output."
   ]
  },
  {
   "cell_type": "code",
   "execution_count": 14,
   "metadata": {},
   "outputs": [],
   "source": [
    "filename=root_location + os.sep + \"All_flo-thru.dat\"\n",
    "\n",
    "#there are an insane number of options, but generally if you have well structured data it's 'magic'\n",
    "#Reference:http://pandas.pydata.org/pandas-docs/stable/reference/api/pandas.read_csv.html#pandas.read_csv\n",
    "#changed \\t delimiter to ^ which made parsing the columns far easier\n",
    "\n",
    "#straight from the WAP output with the delimiter modified\n",
    "ac9flothru=pd.read_csv(filename, delimiter='^')\n",
    "\n"
   ]
  },
  {
   "cell_type": "code",
   "execution_count": 15,
   "metadata": {},
   "outputs": [
    {
     "data": {
      "text/html": [
       "<div>\n",
       "<style scoped>\n",
       "    .dataframe tbody tr th:only-of-type {\n",
       "        vertical-align: middle;\n",
       "    }\n",
       "\n",
       "    .dataframe tbody tr th {\n",
       "        vertical-align: top;\n",
       "    }\n",
       "\n",
       "    .dataframe thead th {\n",
       "        text-align: right;\n",
       "    }\n",
       "</style>\n",
       "<table border=\"1\" class=\"dataframe\">\n",
       "  <thead>\n",
       "    <tr style=\"text-align: right;\">\n",
       "      <th></th>\n",
       "      <th>Time(ms)</th>\n",
       "      <th>Latitude</th>\n",
       "      <th>Longitude</th>\n",
       "      <th>Bottom_Depth(m)</th>\n",
       "      <th>UTC/GMT_Time</th>\n",
       "      <th>a650__</th>\n",
       "      <th>a676__</th>\n",
       "      <th>a715__</th>\n",
       "      <th>c510__</th>\n",
       "      <th>c532__</th>\n",
       "      <th>...</th>\n",
       "      <th>c650__</th>\n",
       "      <th>c676__</th>\n",
       "      <th>c715__</th>\n",
       "      <th>a510__</th>\n",
       "      <th>a532__</th>\n",
       "      <th>a555__</th>\n",
       "      <th>c412__</th>\n",
       "      <th>c440__</th>\n",
       "      <th>c488__</th>\n",
       "      <th>Temperature(C)</th>\n",
       "    </tr>\n",
       "  </thead>\n",
       "  <tbody>\n",
       "    <tr>\n",
       "      <th>0</th>\n",
       "      <td>1,000.0000</td>\n",
       "      <td>30.3225</td>\n",
       "      <td>88.8931</td>\n",
       "      <td>0.0000</td>\n",
       "      <td>0.6713</td>\n",
       "      <td>0.6869</td>\n",
       "      <td>0.7193</td>\n",
       "      <td>0.5224</td>\n",
       "      <td>4.5003</td>\n",
       "      <td>4.1485</td>\n",
       "      <td>...</td>\n",
       "      <td>3.0008</td>\n",
       "      <td>2.8428</td>\n",
       "      <td>2.5976</td>\n",
       "      <td>1.3964</td>\n",
       "      <td>1.1843</td>\n",
       "      <td>1.0358</td>\n",
       "      <td>7.2849</td>\n",
       "      <td>6.0743</td>\n",
       "      <td>4.9176</td>\n",
       "      <td>14.4400</td>\n",
       "    </tr>\n",
       "    <tr>\n",
       "      <th>1</th>\n",
       "      <td>2,000.0000</td>\n",
       "      <td>30.3225</td>\n",
       "      <td>88.8930</td>\n",
       "      <td>0.0000</td>\n",
       "      <td>0.6713</td>\n",
       "      <td>0.6901</td>\n",
       "      <td>0.7230</td>\n",
       "      <td>0.5237</td>\n",
       "      <td>4.5042</td>\n",
       "      <td>4.1503</td>\n",
       "      <td>...</td>\n",
       "      <td>3.0029</td>\n",
       "      <td>2.8432</td>\n",
       "      <td>2.5969</td>\n",
       "      <td>1.3960</td>\n",
       "      <td>1.1816</td>\n",
       "      <td>1.0312</td>\n",
       "      <td>7.2719</td>\n",
       "      <td>6.0647</td>\n",
       "      <td>4.9079</td>\n",
       "      <td>14.4400</td>\n",
       "    </tr>\n",
       "    <tr>\n",
       "      <th>2</th>\n",
       "      <td>2,000.0000</td>\n",
       "      <td>30.3225</td>\n",
       "      <td>88.8930</td>\n",
       "      <td>0.0000</td>\n",
       "      <td>0.6713</td>\n",
       "      <td>0.6838</td>\n",
       "      <td>0.7157</td>\n",
       "      <td>0.5178</td>\n",
       "      <td>4.4947</td>\n",
       "      <td>4.1395</td>\n",
       "      <td>...</td>\n",
       "      <td>2.9922</td>\n",
       "      <td>2.8340</td>\n",
       "      <td>2.5881</td>\n",
       "      <td>1.3922</td>\n",
       "      <td>1.1809</td>\n",
       "      <td>1.0320</td>\n",
       "      <td>7.2677</td>\n",
       "      <td>6.0596</td>\n",
       "      <td>4.9026</td>\n",
       "      <td>14.4400</td>\n",
       "    </tr>\n",
       "    <tr>\n",
       "      <th>3</th>\n",
       "      <td>2,000.0000</td>\n",
       "      <td>30.3225</td>\n",
       "      <td>88.8930</td>\n",
       "      <td>0.0000</td>\n",
       "      <td>0.6713</td>\n",
       "      <td>0.6864</td>\n",
       "      <td>0.7204</td>\n",
       "      <td>0.5217</td>\n",
       "      <td>4.4900</td>\n",
       "      <td>4.1368</td>\n",
       "      <td>...</td>\n",
       "      <td>2.9948</td>\n",
       "      <td>2.8400</td>\n",
       "      <td>2.5931</td>\n",
       "      <td>1.4021</td>\n",
       "      <td>1.1878</td>\n",
       "      <td>1.0360</td>\n",
       "      <td>7.2665</td>\n",
       "      <td>6.0578</td>\n",
       "      <td>4.8996</td>\n",
       "      <td>14.4400</td>\n",
       "    </tr>\n",
       "    <tr>\n",
       "      <th>4</th>\n",
       "      <td>2,000.0000</td>\n",
       "      <td>30.3225</td>\n",
       "      <td>88.8930</td>\n",
       "      <td>0.0000</td>\n",
       "      <td>0.6713</td>\n",
       "      <td>0.6865</td>\n",
       "      <td>0.7197</td>\n",
       "      <td>0.5226</td>\n",
       "      <td>4.4867</td>\n",
       "      <td>4.1345</td>\n",
       "      <td>...</td>\n",
       "      <td>2.9924</td>\n",
       "      <td>2.8363</td>\n",
       "      <td>2.5932</td>\n",
       "      <td>1.3998</td>\n",
       "      <td>1.1818</td>\n",
       "      <td>1.0269</td>\n",
       "      <td>7.2650</td>\n",
       "      <td>6.0572</td>\n",
       "      <td>4.8975</td>\n",
       "      <td>14.4400</td>\n",
       "    </tr>\n",
       "  </tbody>\n",
       "</table>\n",
       "<p>5 rows × 24 columns</p>\n",
       "</div>"
      ],
      "text/plain": [
       "    Time(ms)  Latitude  Longitude  Bottom_Depth(m)  UTC/GMT_Time  a650__  \\\n",
       "0 1,000.0000   30.3225    88.8931           0.0000        0.6713  0.6869   \n",
       "1 2,000.0000   30.3225    88.8930           0.0000        0.6713  0.6901   \n",
       "2 2,000.0000   30.3225    88.8930           0.0000        0.6713  0.6838   \n",
       "3 2,000.0000   30.3225    88.8930           0.0000        0.6713  0.6864   \n",
       "4 2,000.0000   30.3225    88.8930           0.0000        0.6713  0.6865   \n",
       "\n",
       "   a676__  a715__  c510__  c532__  ...  c650__  c676__  c715__  a510__  \\\n",
       "0  0.7193  0.5224  4.5003  4.1485  ...  3.0008  2.8428  2.5976  1.3964   \n",
       "1  0.7230  0.5237  4.5042  4.1503  ...  3.0029  2.8432  2.5969  1.3960   \n",
       "2  0.7157  0.5178  4.4947  4.1395  ...  2.9922  2.8340  2.5881  1.3922   \n",
       "3  0.7204  0.5217  4.4900  4.1368  ...  2.9948  2.8400  2.5931  1.4021   \n",
       "4  0.7197  0.5226  4.4867  4.1345  ...  2.9924  2.8363  2.5932  1.3998   \n",
       "\n",
       "   a532__  a555__  c412__  c440__  c488__  Temperature(C)  \n",
       "0  1.1843  1.0358  7.2849  6.0743  4.9176         14.4400  \n",
       "1  1.1816  1.0312  7.2719  6.0647  4.9079         14.4400  \n",
       "2  1.1809  1.0320  7.2677  6.0596  4.9026         14.4400  \n",
       "3  1.1878  1.0360  7.2665  6.0578  4.8996         14.4400  \n",
       "4  1.1818  1.0269  7.2650  6.0572  4.8975         14.4400  \n",
       "\n",
       "[5 rows x 24 columns]"
      ]
     },
     "execution_count": 15,
     "metadata": {},
     "output_type": "execute_result"
    }
   ],
   "source": [
    "ac9flothru.head()"
   ]
  },
  {
   "cell_type": "code",
   "execution_count": 16,
   "metadata": {
    "scrolled": true
   },
   "outputs": [
    {
     "name": "stdout",
     "output_type": "stream",
     "text": [
      "Index(['Time(ms)', 'Latitude', 'Longitude', 'Bottom_Depth(m)', 'UTC/GMT_Time',\n",
      "       'a650__', 'a676__', 'a715__', 'c510__', 'c532__', 'c555__', 'a412__',\n",
      "       'a440__', 'a488__', 'c650__', 'c676__', 'c715__', 'a510__', 'a532__',\n",
      "       'a555__', 'c412__', 'c440__', 'c488__', 'Temperature(C)'],\n",
      "      dtype='object')\n"
     ]
    }
   ],
   "source": [
    "#show column header names.\n",
    "print(ac9flothru.columns)"
   ]
  },
  {
   "cell_type": "code",
   "execution_count": 17,
   "metadata": {},
   "outputs": [
    {
     "name": "stdout",
     "output_type": "stream",
     "text": [
      "Memory usage of dataframe is 8.79 MB\n",
      "Memory usage after optimization is: 2.29 MB\n",
      "Decreased by 74.0%\n"
     ]
    }
   ],
   "source": [
    "ac9flowthru = reduce_mem_usage(ac9flothru)"
   ]
  }
 ],
 "metadata": {
  "kernelspec": {
   "display_name": "Python 3 (ipykernel)",
   "language": "python",
   "name": "python3"
  },
  "language_info": {
   "codemirror_mode": {
    "name": "ipython",
    "version": 3
   },
   "file_extension": ".py",
   "mimetype": "text/x-python",
   "name": "python",
   "nbconvert_exporter": "python",
   "pygments_lexer": "ipython3",
   "version": "3.9.15"
  }
 },
 "nbformat": 4,
 "nbformat_minor": 4
}
