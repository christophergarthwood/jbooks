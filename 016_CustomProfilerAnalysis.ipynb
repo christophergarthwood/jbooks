{
 "cells": [
  {
   "cell_type": "markdown",
   "id": "5b8aa69b-eaf1-4850-b5e6-e076d0176dcb",
   "metadata": {
    "id": "jwI_7i5AjpQD"
   },
   "source": [
    "# 016 - Custom Profiler for Analysis of code execution\n",
    "\n",
    "## This code looks at making a tailored profiler to surgically measure performance on a given function, saving the results to a file for additional analysis."
   ]
  },
  {
   "cell_type": "code",
   "execution_count": null,
   "id": "31a3d661-4fed-4f2d-b347-58e96878cff0",
   "metadata": {},
   "outputs": [],
   "source": []
  },
  {
   "cell_type": "code",
   "execution_count": 24,
   "id": "8c64e74f-b9c5-40d1-954c-64527322fec2",
   "metadata": {
    "id": "gS1DeRW1jpQE"
   },
   "outputs": [
    {
     "ename": "NameError",
     "evalue": "name 'PROJECT_ID' is not defined",
     "output_type": "error",
     "traceback": [
      "\u001b[0;31m---------------------------------------------------------------------------\u001b[0m",
      "\u001b[0;31mNameError\u001b[0m                                 Traceback (most recent call last)",
      "Cell \u001b[0;32mIn[24], line 16\u001b[0m\n\u001b[1;32m     11\u001b[0m     \u001b[38;5;28mprint\u001b[39m(\n\u001b[1;32m     12\u001b[0m         \u001b[38;5;124mf\u001b[39m\u001b[38;5;124m\"\u001b[39m\u001b[38;5;124mYou are running this notebook in Google Colab at \u001b[39m\u001b[38;5;132;01m{\u001b[39;00mcurrent_time\u001b[38;5;132;01m}\u001b[39;00m\u001b[38;5;124m in the \u001b[39m\u001b[38;5;132;01m{\u001b[39;00mBOLD_START\u001b[38;5;132;01m}\u001b[39;00m\u001b[38;5;132;01m{\u001b[39;00mPROJECT_ID\u001b[38;5;132;01m}\u001b[39;00m\u001b[38;5;132;01m{\u001b[39;00mBOLD_END\u001b[38;5;132;01m}\u001b[39;00m\u001b[38;5;124mlab.\u001b[39m\u001b[38;5;124m\"\u001b[39m\n\u001b[1;32m     13\u001b[0m     )\n\u001b[1;32m     14\u001b[0m \u001b[38;5;28;01melse\u001b[39;00m:\n\u001b[1;32m     15\u001b[0m     \u001b[38;5;28mprint\u001b[39m(\n\u001b[0;32m---> 16\u001b[0m         \u001b[38;5;124mf\u001b[39m\u001b[38;5;124m\"\u001b[39m\u001b[38;5;124mYou are likely running this notebook with Jupyter iPython runtime at \u001b[39m\u001b[38;5;132;01m{\u001b[39;00mcurrent_time\u001b[38;5;132;01m}\u001b[39;00m\u001b[38;5;124m in the \u001b[39m\u001b[38;5;132;01m{\u001b[39;00mPROJECT_ID\u001b[38;5;132;01m}\u001b[39;00m\u001b[38;5;124m lab.\u001b[39m\u001b[38;5;124m\"\u001b[39m\n\u001b[1;32m     17\u001b[0m     )\n",
      "\u001b[0;31mNameError\u001b[0m: name 'PROJECT_ID' is not defined"
     ]
    }
   ],
   "source": [
    "# +++++++++++++++++++++++++++++++++++++++++++++++++++++++++++++++++++++++\n",
    "# - Google Colab Check\n",
    "# +++++++++++++++++++++++++++++++++++++++++++++++++++++++++++++++++++++++\n",
    "import datetime\n",
    "\n",
    "RunningInCOLAB = False\n",
    "RunningInCOLAB = \"google.colab\" in str(get_ipython())\n",
    "current_time = datetime.datetime.now()\n",
    "\n",
    "if RunningInCOLAB:\n",
    "    print(\n",
    "        f\"You are running this notebook in Google Colab at {current_time} in the {BOLD_START}{PROJECT_ID}{BOLD_END}lab.\"\n",
    "    )\n",
    "else:\n",
    "    print(\n",
    "        f\"You are likely running this notebook with Jupyter iPython runtime at {current_time} in the {PROJECT_ID} lab.\"\n",
    "    )\n"
   ]
  },
  {
   "cell_type": "markdown",
   "id": "5b5dfc00-74bb-43a1-8aca-5de4c8d6e6a4",
   "metadata": {
    "id": "HZVkISRuLURi"
   },
   "source": [
    "## Library Management\n",
    "### Load Libraries necessary for this operation via pip install"
   ]
  },
  {
   "cell_type": "code",
   "execution_count": null,
   "id": "4d223483-0e9d-41d1-acc4-b563bc7c177a",
   "metadata": {
    "executionInfo": {
     "elapsed": 21,
     "status": "ok",
     "timestamp": 1737665373426,
     "user": {
      "displayName": "",
      "userId": ""
     },
     "user_tz": 360
    },
    "id": "logDyNfnLURj",
    "tags": []
   },
   "outputs": [],
   "source": [
    "# Import key libraries necessary to support dynamic installation of additional libraries\n",
    "import sys\n",
    "\n",
    "# Use subprocess to support running operating system commands from the program, using the \"bang\" (!)\n",
    "# symbology is supported, however that does not translate to an actual python script, this is a more\n",
    "# agnostic approach.\n",
    "import subprocess\n",
    "import importlib.util"
   ]
  },
  {
   "cell_type": "markdown",
   "id": "e7ca8c9a-9dc0-4b54-97f4-df0eae2f5f68",
   "metadata": {
    "id": "nO_Hq5eq9joH"
   },
   "source": [
    "### Library Import"
   ]
  },
  {
   "cell_type": "code",
   "execution_count": null,
   "id": "5fad567f-50cd-4162-bd56-22bbc3f1a4dc",
   "metadata": {
    "executionInfo": {
     "elapsed": 5041,
     "status": "ok",
     "timestamp": 1737665453315,
     "user": {
      "displayName": "",
      "userId": ""
     },
     "user_tz": 360
    },
    "id": "PJuXEPlkSo9p",
    "tags": []
   },
   "outputs": [],
   "source": [
    "# - Import additional libraries that add value to the project related to NLP\n",
    "\n",
    "# - Set of libraries that perhaps should always be in Python source\n",
    "import backoff\n",
    "import datetime\n",
    "from dotenv import load_dotenv\n",
    "import gc\n",
    "import getopt\n",
    "import glob\n",
    "import inspect\n",
    "import io\n",
    "import itertools\n",
    "import json\n",
    "import math\n",
    "import os\n",
    "from pathlib import Path\n",
    "import pickle\n",
    "import platform\n",
    "import random\n",
    "import re\n",
    "import shutil\n",
    "import string\n",
    "from io import StringIO\n",
    "import subprocess\n",
    "import socket\n",
    "import sys\n",
    "import textwrap\n",
    "import tqdm\n",
    "import traceback\n",
    "import warnings\n",
    "import time\n",
    "import uuid\n",
    "\n",
    "#- Datastructures\n",
    "from dataclasses import dataclass, field\n",
    "\n",
    "#- Profiling\n",
    "from time import perf_counter\n",
    "import gc\n",
    "import io\n",
    "import tracemalloc\n",
    "import psutil\n",
    "import cProfile\n",
    "import pstats\n",
    "from pstats import SortKey\n",
    "\n",
    "#- Text formatting\n",
    "from rich import print as rprint\n",
    "from rich.console import Console\n",
    "from rich.traceback import install\n",
    "from tabulate import tabulate\n",
    "import locale\n",
    "\n",
    "# - Displays system info\n",
    "from watermark import watermark as the_watermark\n",
    "from py3nvml import py3nvml\n",
    "\n",
    "# - Additional libraries for this work\n",
    "import math\n",
    "from base64 import b64decode\n",
    "from IPython.display import Image, Markdown\n",
    "import pandas, IPython.display as display, io, jinja2, base64\n",
    "from IPython.display import clear_output  # used to support real-time plotting\n",
    "import requests\n",
    "import unidecode\n",
    "import pydot\n",
    "\n",
    "# - Data Science Libraries\n",
    "import pandas as pd\n",
    "import numpy as np\n",
    "import polars as pl\n",
    "import dask as da\n",
    "import dask.dataframe as dd\n",
    "import dask.bag as db\n",
    "import xarray as xr\n",
    "import cupy_xarray  # never actually invoked in source itself use ds=ds.cupy.as_cupy()\n",
    "import pystac as pys\n",
    "import pystac\n",
    "from pystac.utils import datetime_to_str\n",
    "\n",
    "# from stacframes import df_from\n",
    "import fastparquet as fq\n",
    "import zarr\n",
    "from zarr import Group\n",
    "import netCDF4 as nc\n",
    "from netCDF4 import Dataset\n",
    "\n",
    "try:\n",
    "    import cudf\n",
    "except Exception as e:\n",
    "    pass\n",
    "\n",
    "try:\n",
    "    import cupy\n",
    "except Exception as e:\n",
    "    pass\n",
    "\n",
    "# Tensorflow and related AI libraries\n",
    "import tensorflow as tf\n",
    "from tensorflow import data as tf_data\n",
    "\n",
    "# Torch\n",
    "import torch\n",
    "\n",
    "# - Graphics\n",
    "import matplotlib.pyplot as plt\n",
    "import matplotlib\n",
    "from matplotlib.cbook import get_sample_data\n",
    "from matplotlib.offsetbox import AnnotationBbox, DrawingArea, OffsetImage, TextArea\n",
    "from matplotlib.pyplot import imshow\n",
    "from matplotlib.patches import Circle\n",
    "from PIL import Image as PIL_Image\n",
    "import PIL.ImageOps\n",
    "import matplotlib.image as mpimg\n",
    "from imageio import imread\n",
    "import seaborn as sns\n",
    "\n",
    "from mpl_toolkits.basemap import Basemap\n",
    "from pylab import *\n",
    "\n",
    "# - Image meta-data for Section 508 compliance\n",
    "import piexif\n",
    "from piexif.helper import UserComment\n",
    "\n",
    "# - Progress bar\n",
    "from tqdm import tqdm\n",
    "from tqdm.notebook import trange, tqdm\n"
   ]
  },
  {
   "cell_type": "markdown",
   "id": "3a11ebb7-6a6f-434c-a286-8bd6eacc413f",
   "metadata": {},
   "source": [
    "## DataClasses"
   ]
  },
  {
   "cell_type": "code",
   "execution_count": 25,
   "id": "31400e7d-096f-4fcc-9390-ec2c364d5cda",
   "metadata": {},
   "outputs": [],
   "source": [
    "## Dataclass used to represent each metric used during execution\n",
    "#\n",
    "@dataclass\n",
    "class runtime_metrics:\n",
    "    id: str\n",
    "\n",
    "    # see @Profile\n",
    "    runtime: float = field(init=False, default=0.0)\n",
    "\n",
    "    # reference: https://docs.python.org/3/library/profile.html\n",
    "    profile_data: cProfile.Profile = field(init=False)\n",
    "\n",
    "    # reference: https://www.geeksforgeeks.org/how-to-get-file-size-in-python/\n",
    "    file_size: float = field(\n",
    "        init=False,\n",
    "        default=0.0,\n",
    "    )\n",
    "\n",
    "    # milliseconds, reference: https://stackoverflow.com/questions/24723092/using-python-to-measure-in-situ-read-write-speed-for-files\n",
    "    io_disk_read_time: float = field(\n",
    "        init=False,\n",
    "        default=0.0,\n",
    "    )\n",
    "\n",
    "    # milliseconds, reference: https://stackoverflow.com/questions/24723092/using-python-to-measure-in-situ-read-write-speed-for-files\n",
    "    io_disk_write_time: float = field(\n",
    "        init=False,\n",
    "        default=0.0,\n",
    "    )\n",
    "    \n",
    "    # number read operations[end-begin], reference: https://stackoverflow.com/questions/24723092/using-python-to-measure-in-situ-read-write-speed-for-files\n",
    "    io_disk_read_count: float = field(\n",
    "        init=False,\n",
    "        default=0.0,\n",
    "    )\n",
    "\n",
    "    # number read operations[end-begin], reference: https://stackoverflow.com/questions/24723092/using-python-to-measure-in-situ-read-write-speed-for-files\n",
    "    io_disk_write_count: float = field(\n",
    "        init=False,\n",
    "        default=0.0,\n",
    "    )\n",
    "\n",
    "    # bytes read [end-begin], reference: https://stackoverflow.com/questions/24723092/using-python-to-measure-in-situ-read-write-speed-for-files\n",
    "    io_disk_read_throughput: float = field(\n",
    "        init=False,\n",
    "        default=0.0,\n",
    "    )\n",
    "\n",
    "    # bytes read [end-begin], reference: https://stackoverflow.com/questions/24723092/using-python-to-measure-in-situ-read-write-speed-for-files\n",
    "    io_disk_write_throughput: float = field(\n",
    "        init=False,\n",
    "        default=0.0,\n",
    "    )\n",
    "\n",
    "    # number read operations[end-begin], reference: https://stackoverflow.com/questions/24723092/using-python-to-measure-in-situ-read-write-speed-for-files\n",
    "    io_os_read_count: float = field(\n",
    "        init=False,\n",
    "        default=0.0,\n",
    "    )\n",
    "\n",
    "    # number read operations[end-begin], reference: https://stackoverflow.com/questions/24723092/using-python-to-measure-in-situ-read-write-speed-for-files\n",
    "    io_os_write_count: float = field(\n",
    "        init=False,\n",
    "        default=0.0,\n",
    "    )\n",
    "\n",
    "    # milliseconds, reference: https://stackoverflow.com/questions/24723092/using-python-to-measure-in-situ-read-write-speed-for-files\n",
    "    io_os_read_time: float = field(\n",
    "        init=False,\n",
    "        default=0.0,\n",
    "    )\n",
    "\n",
    "    # milliseconds, reference: https://stackoverflow.com/questions/24723092/using-python-to-measure-in-situ-read-write-speed-for-files\n",
    "    io_os_write_time: float = field(\n",
    "        init=False,\n",
    "        default=0.0,\n",
    "    )\n",
    "\n",
    "    # calculated in MBs, reference: https://www.geeksforgeeks.org/monitoring-memory-usage-of-a-running-python-program/\n",
    "    mem_current: float = field(\n",
    "        init=False,\n",
    "        default=0.0,\n",
    "    )\n",
    "\n",
    "    # calculated in MBs, reference: https://www.geeksforgeeks.org/monitoring-memory-usage-of-a-running-python-program/\n",
    "    mem_peak: float = field(\n",
    "        init=False,\n",
    "        default=0.0,\n",
    "    )\n",
    "\n",
    "    def __str__(self):\n",
    "        return f\"\"\"\n",
    "                Id---------------------------------------------\n",
    "                                      Id: {self.id}\n",
    "                Runtime----------------------------------------\n",
    "                                 Runtime: {self.runtime:,.2f} milliseconds\n",
    "\n",
    "                I/O Size---------------------------------------\n",
    "                               File Size: {self.file_size:,.2f} bytes\n",
    "\n",
    "                I/O Counts-------------------------------------\n",
    "                      Targeted disk read: {self.io_disk_read_count:,.2f} counts\n",
    "                     Targeted disk write: {self.io_disk_write_count:,.2f} counts\n",
    "                       General disk read: {self.io_os_read_count:,.2f} counts\n",
    "                      General disk write: {self.io_os_write_count:,.2f} counts\n",
    "\n",
    "                I/O Time---------------------------------------\n",
    "                 Targeted disk read time: {self.io_disk_read_time:,.2f} milliseconds\n",
    "                Targeted disk write time: {self.io_disk_write_time:,.2f} milliseconds\n",
    "                  General disk read time: {self.io_os_read_time:,.2f} milliseconds\n",
    "                 General disk write time: {self.io_os_write_time:,.2f} milliseconds\n",
    "\n",
    "                Memory------------------------------------------\n",
    "                                 Current: {self.mem_current:,.2f} MB\n",
    "                                    Peak: {self.mem_peak:,.2f} MB\n",
    "\n",
    "                \"\"\"\n",
    "\n",
    "    #def __repr__(self):\n",
    "    #    return f'{self.__class__.__name__}(name={self.name!r}, unit_price={self.unit_price!r}, quantity={self.quantity_on_hand!r})'\n",
    "\n",
    "    # TODO - CGW\n",
    "    # def __post_init__(self):\n",
    "    #    self.id = f'{self.phrase}_{self.word_type.name.lower()}'\n",
    "\n",
    "    # worthy consideration - https://www.geeksforgeeks.org/psutil-module-in-python/"
   ]
  },
  {
   "cell_type": "markdown",
   "id": "1dd4a408-125b-4b90-8cf8-2b4cf4aa0316",
   "metadata": {},
   "source": [
    "### Profile"
   ]
  },
  {
   "cell_type": "code",
   "execution_count": 26,
   "id": "b3461560-887e-4b5a-9993-603c07790c04",
   "metadata": {
    "tags": []
   },
   "outputs": [],
   "source": [
    "# Profiling function custom created to track IO, memory, and runtme.\n",
    "# Reference: https://jiffyclub.github.io/snakeviz/\n",
    "# Reference: https://www.machinelearningplus.com/python/cprofile-how-to-profile-your-python-code/\n",
    "# Reference: https://cloud.google.com/stackdriver/docs/instrumentation/setup/python\n",
    "# Reference: https://www.turing.com/kb/python-code-with-cprofile\n",
    "\n",
    "def profile(func):\n",
    "    @functools.wraps(func)\n",
    "    def wrapper(*args, **kwargs):\n",
    "\n",
    "        # custom metrics values\n",
    "        current_memories = 0.0\n",
    "        peak_memories = 0.0\n",
    "        current_metric = runtime_metrics(id=func.__name__)\n",
    "        disk = \"sdc\"\n",
    "\n",
    "        #####################################################################################################\n",
    "        # - Cprofiler startup\n",
    "        # Reference: https://www.google.com/search?client=firefox-b-1-d&q=python+example+use+of+cprofle+for+a+single+function#cobssid=s\n",
    "        #####################################################################################################\n",
    "        pr = cProfile.Profile()\n",
    "        pr.enable()\n",
    "        start_time = time.perf_counter()\n",
    "\n",
    "        #####################################################################################################\n",
    "        # - Memory tracking\n",
    "        #  Reference: https://docs.python.org/3/library/tracemalloc.html\n",
    "        #  Reference: https://www.kdnuggets.com/how-to-trace-memory-allocation-in-python\n",
    "        #  Reference: https://www.geeksforgeeks.org/monitoring-memory-usage-of-a-running-python-program/\n",
    "        #####################################################################################################\n",
    "        tracemalloc.start()\n",
    "\n",
    "        #####################################################################################################\n",
    "        # - Disk tracking\n",
    "        # Reference: https://stackoverflow.com/questions/16945664/insight-needed-into-python-psutil-output#:~:text=1%20Answer%201%20%C2%B7%20read_count:%20number%20of,write_bytes:%20number%20of%20bytes%20written%20%C2%B7%20read_time:\n",
    "        #####################################################################################################\n",
    "        iocnt1 = psutil.disk_io_counters(perdisk=True)[disk]\n",
    "        disk_io_counters1 = psutil.disk_io_counters()\n",
    "        read_bytes_start = iocnt1.read_bytes\n",
    "        write_bytes_start = iocnt1.write_bytes\n",
    "        read_counters_start = iocnt1.read_count\n",
    "        write_counters_start = iocnt1.write_count\n",
    "        read_time_start = iocnt1.read_time\n",
    "        write_time_start = iocnt1.write_time\n",
    "        \n",
    "        read_os_bytes_start = disk_io_counters1.read_bytes\n",
    "        write_os_bytes_start = disk_io_counters1.write_bytes\n",
    "        read_os_counters_start = disk_io_counters1.read_count\n",
    "        write_os_counters_start = disk_io_counters1.write_count\n",
    "        read_os_time_start = disk_io_counters1.read_time\n",
    "        write_os_time_start = disk_io_counters1.write_time\n",
    "        \n",
    "        #####################################################################################################\n",
    "        # - Actual function call\n",
    "        #####################################################################################################\n",
    "        result = func(*args, **kwargs)\n",
    "\n",
    "        # disk close out\n",
    "        # targeted I/O\n",
    "        iocnt2 = psutil.disk_io_counters(perdisk=True)[\"sdc\"]\n",
    "        disk_io_counters2 = psutil.disk_io_counters()\n",
    "\n",
    "        #targeted disk\n",
    "        read_bytes_end = iocnt2.read_bytes\n",
    "        write_bytes_end = iocnt2.write_bytes\n",
    "        read_counters_end = iocnt2.read_count\n",
    "        write_counters_end = iocnt2.write_count\n",
    "        read_time_end = iocnt2.read_time\n",
    "        write_time_end = iocnt2.write_time\n",
    "        #general OS\n",
    "        read_os_bytes_end = disk_io_counters2.read_bytes\n",
    "        write_os_bytes_end = disk_io_counters2.write_bytes\n",
    "        read_os_counters_end = disk_io_counters2.read_count\n",
    "        write_os_counters_end = disk_io_counters2.write_count\n",
    "        read_os_time_end = disk_io_counters2.read_time\n",
    "        write_os_time_end = disk_io_counters2.write_time\n",
    "\n",
    "        #targeted disk\n",
    "        read_throughput = (read_bytes_end - read_bytes_start) / (1024 * 1024)  # MB/s\n",
    "        write_throughput = (write_bytes_end - write_bytes_start) / (1024 * 1024)  # MB/s\n",
    "        read_counters = (read_counters_end - read_counters_start)\n",
    "        write_counters = (read_counters_end - read_counters_start)\n",
    "        read_time =  (read_time_end - read_time_start)\n",
    "        write_time = (write_time_end - write_time_start)\n",
    "        current_metric.io_disk_read_throughput = read_throughput\n",
    "        current_metric.io_disk_write_throughput = write_throughput\n",
    "        current_metric.io_disk_read_count = read_counters\n",
    "        current_metric.io_disk_write_count = write_counters\n",
    "        current_metric.io_disk_read_time = read_time\n",
    "        current_metric.io_disk_write_time = write_time\n",
    "\n",
    "        #general OS\n",
    "        read_os_throughput = (read_os_bytes_end - read_os_bytes_start) / (1024 * 1024)  # MB/s\n",
    "        write_os_throughput = (write_os_bytes_end - write_os_bytes_start) / (1024 * 1024)  # MB/s\n",
    "        read_os_counters = (read_os_counters_end - read_os_counters_start)\n",
    "        write_os_counters = (read_os_counters_end - read_os_counters_start)\n",
    "        read_os_time =  (read_os_time_end - read_os_time_start)\n",
    "        write_os_time = (write_os_time_end - write_os_time_start)\n",
    "        current_metric.io_os_read_throughput = read_os_throughput\n",
    "        current_metric.io_os_write_throughput = write_os_throughput\n",
    "        current_metric.io_os_read_count = read_os_counters\n",
    "        current_metric.io_os_write_count = write_os_counters\n",
    "        current_metric.io_os_read_time = read_os_time\n",
    "        current_metric.io_os_write_time = write_os_time\n",
    "\n",
    "\n",
    "\n",
    "        # memory close\n",
    "        current, peak = tracemalloc.get_traced_memory()\n",
    "        tracemalloc.stop()        \n",
    "        current_metric.mem_current = current / (1024 * 1024)\n",
    "        current_metric.mem_peak = peak / (1024 * 1024)\n",
    "        tracemalloc.clear_traces()\n",
    "\n",
    "\n",
    "        # CProfiler disabled\n",
    "        pr.disable()\n",
    "\n",
    "        #can't pickle this result\n",
    "        #current_metric.profile_data=pr\n",
    "        \n",
    "        # s = io.StringIO()\n",
    "        # sortby = SortKey.CUMULATIVE\n",
    "        # ps = pstats.Stats(pr, stream=s).sort_stats(sortby)\n",
    "        # ps.print_stats()\n",
    "        # print(s.getvalue())\n",
    "        end_time = time.perf_counter()\n",
    "        # other characteristics\n",
    "        current_metric.runtime = end_time - start_time\n",
    "\n",
    "        timestamp = datetime.datetime.now()\n",
    "        #timestamp_str = timestamp.strftime(\"%Y%m%d%H%M%S%f\") # Format as string\n",
    "        timestamp_str = timestamp.strftime(\"%Y%m%d%H%M%S\") # Format as string\n",
    "        unique_id = uuid.uuid4()\n",
    "        filename = f\"{output_directory}/{timestamp_str}_{unique_id}_{current_metric.id}_profiler.pkl\"\n",
    "        #print(filename)\n",
    "        #print(\"##########################################\")\n",
    "        #print(current_metric)\n",
    "\n",
    "        with open(filename, \"wb\") as file:\n",
    "            pickle.dump(current_metric, file)\n",
    "\n",
    "        return result\n",
    "\n",
    "    return wrapper"
   ]
  },
  {
   "cell_type": "markdown",
   "id": "ba49437f-aef3-4747-9d5b-2cc67f59bd36",
   "metadata": {
    "id": "7FUa8QJT9tw_"
   },
   "source": [
    "## Function Declaration"
   ]
  },
  {
   "cell_type": "markdown",
   "id": "6411e4b6-d7ce-4e5c-af84-70e27db0de67",
   "metadata": {},
   "source": [
    "#### Lib Diagnostics"
   ]
  },
  {
   "cell_type": "code",
   "execution_count": 27,
   "id": "5bc84c36-a605-4015-a54b-87ebbefb2dd4",
   "metadata": {
    "executionInfo": {
     "elapsed": 7,
     "status": "ok",
     "timestamp": 1737665453699,
     "user": {
      "displayName": "",
      "userId": ""
     },
     "user_tz": 360
    },
    "id": "v_CqUVLZ98Mz",
    "tags": []
   },
   "outputs": [],
   "source": [
    "def lib_diagnostics() -> None:\n",
    "\n",
    "    import pkg_resources\n",
    "\n",
    "    package_name_length = 20\n",
    "    package_version_length = 10\n",
    "\n",
    "    # Show notebook details\n",
    "    #%watermark?\n",
    "    #%watermark --github_username christophergwood --email christopher.g.wood@gmail.com --date --time --iso8601 --updated --python --conda --hostname --machine --githash --gitrepo --gitbranch --iversions --gpu\n",
    "    # Watermark\n",
    "    print(\n",
    "        the_watermark(\n",
    "            author=f\"{AUTHOR_NAME}\",\n",
    "            github_username=f\"GITHUB_USERNAME\",\n",
    "            email=f\"{AUTHOR_EMAIL}\",\n",
    "            iso8601=True,\n",
    "            datename=True,\n",
    "            current_time=True,\n",
    "            python=True,\n",
    "            updated=True,\n",
    "            hostname=True,\n",
    "            machine=True,\n",
    "            gitrepo=True,\n",
    "            gitbranch=True,\n",
    "            githash=True,\n",
    "        )\n",
    "    )\n",
    "\n",
    "    print(f\"{BOLD_START}Packages:{BOLD_END}\")\n",
    "    print(\"\")\n",
    "    # Get installed packages\n",
    "    the_packages = [\n",
    "        \"nltk\",\n",
    "        \"numpy\",\n",
    "        \"os\",\n",
    "        \"pandas\",\n",
    "        \"keras\",\n",
    "        \"seaborn\",\n",
    "        \"fastparquet\",\n",
    "        \"zarr\",\n",
    "        \"dask\",\n",
    "        \"pystac\",\n",
    "        \"polars\",\n",
    "        \"xarray\",\n",
    "    ]  # Functions are like legos that do one thing, this function outputs library version history of effort.\n",
    "\n",
    "    installed = {pkg.key: pkg.version for pkg in pkg_resources.working_set}\n",
    "    for package_idx, package_name in enumerate(installed):\n",
    "        if package_name in the_packages:\n",
    "            installed_version = installed[package_name]\n",
    "            print(\n",
    "                f\"{package_name:<40}#: {str(pkg_resources.parse_version(installed_version)):<20}\"\n",
    "            )\n",
    "\n",
    "    try:\n",
    "        print(f\"{'TensorFlow version':<40}#: {str(tf.__version__):<20}\")\n",
    "        print(\n",
    "            f\"{'     gpu.count:':<40}#: {str(len(tf.config.experimental.list_physical_devices('GPU')))}\"\n",
    "        )\n",
    "        print(\n",
    "            f\"{'     cpu.count:':<40}#: {str(len(tf.config.experimental.list_physical_devices('CPU')))}\"\n",
    "        )\n",
    "    except Exception as e:\n",
    "        pass\n",
    "\n",
    "    try:\n",
    "        print(f\"{'Torch version':<40}#: {str(torch.__version__):<20}\")\n",
    "        if torch.cuda.is_available():\n",
    "            device = torch.device(\"cuda\")\n",
    "            print(f\"{'     GPUs available?':<40}#: {torch.cuda.is_available()}\")\n",
    "            print(f\"{'     count':<40}#: {torch.cuda.device_count()}\")\n",
    "            print(f\"{'     current':<40}#: {torch.cuda.get_device_name(0)}\")\n",
    "        else:\n",
    "            device = torch.device(\"cpu\")\n",
    "            print(\"No GPU available, using CPU.\")\n",
    "    except Exception as e:\n",
    "        pass\n",
    "\n",
    "    try:\n",
    "        print(f\"{'OpenAI Azure Version':<40}#: {str(the_openai_version):<20}\")\n",
    "    except Exception as e:\n",
    "        pass\n",
    "\n",
    "    return"
   ]
  },
  {
   "cell_type": "markdown",
   "id": "0d222d88-79b0-4a1a-ad70-ab7de91a82b8",
   "metadata": {},
   "source": [
    "#### Section 508 Compliance Tools"
   ]
  },
  {
   "cell_type": "code",
   "execution_count": 28,
   "id": "3d0e1814-cac5-4779-b3f4-5f58d50038e3",
   "metadata": {
    "executionInfo": {
     "elapsed": 256,
     "status": "ok",
     "timestamp": 1737665453948,
     "user": {
      "displayName": "",
      "userId": ""
     },
     "user_tz": 360
    },
    "id": "Nl_kxpFUKKD5",
    "tags": []
   },
   "outputs": [],
   "source": [
    "# Routines designed to support adding ALT text to an image generated through Matplotlib.\n",
    "\n",
    "\n",
    "def capture(figure):\n",
    "    buffer = io.BytesIO()\n",
    "    figure.savefig(buffer)\n",
    "    # return F\"data:image/png;base64,{base64.b64encode(buffer.getvalue()).decode()}\"\n",
    "    return f\"data:image/jpg;base64,{base64.b64encode(buffer.getvalue()).decode()}\"\n",
    "\n",
    "\n",
    "def make_accessible(figure, template, **kwargs):\n",
    "    return display.Markdown(\n",
    "        f\"\"\"![]({capture(figure)} \"{template.render(**globals(), **kwargs)}\")\"\"\"\n",
    "    )\n",
    "\n",
    "\n",
    "# requires JPG's or TIFFs\n",
    "def add_alt_text(image_path, alt_text):\n",
    "    try:\n",
    "        if os.path.isfile(image_path):\n",
    "            img = PIL_Image.open(image_path)\n",
    "            if \"exif\" in img.info:\n",
    "                exif_dict = piexif.load(img.info[\"exif\"])\n",
    "            else:\n",
    "                exif_dict = {}\n",
    "\n",
    "            w, h = img.size\n",
    "            if \"0th\" not in exif_dict:\n",
    "                exif_dict[\"0th\"] = {}\n",
    "            exif_dict[\"0th\"][piexif.ImageIFD.XResolution] = (w, 1)\n",
    "            exif_dict[\"0th\"][piexif.ImageIFD.YResolution] = (h, 1)\n",
    "\n",
    "            software_version = \" \".join(\n",
    "                [\"STEM-001 with Python v\", str(sys.version).split(\" \")[0]]\n",
    "            )\n",
    "            exif_dict[\"0th\"][piexif.ImageIFD.Software] = software_version.encode(\n",
    "                \"utf-8\"\n",
    "            )\n",
    "\n",
    "            if \"Exif\" not in exif_dict:\n",
    "                exif_dict[\"Exif\"] = {}\n",
    "            exif_dict[\"Exif\"][piexif.ExifIFD.UserComment] = UserComment.dump(\n",
    "                alt_text, encoding=\"unicode\"\n",
    "            )\n",
    "\n",
    "            exif_bytes = piexif.dump(exif_dict)\n",
    "            img.save(image_path, \"jpeg\", exif=exif_bytes)\n",
    "        else:\n",
    "            rprint(\n",
    "                f\"Cound not fine {image_path} for ALT text modification, please check your paths.\"\n",
    "            )\n",
    "\n",
    "    except (FileExistsError, FileNotFoundError, Exception) as e:\n",
    "        process_exception(e)\n",
    "\n",
    "\n",
    "# Appears to solve a problem associated with GPU use on Colab, see: https://github.com/explosion/spaCy/issues/11909\n",
    "def getpreferredencoding(do_setlocale=True):\n",
    "    return \"UTF-8\""
   ]
  },
  {
   "cell_type": "markdown",
   "id": "f9c2d435-26b8-4b16-9d85-55767773fc1e",
   "metadata": {},
   "source": [
    "#### Libary Configuration"
   ]
  },
  {
   "cell_type": "code",
   "execution_count": 29,
   "id": "449507c6-4e4c-4a61-a1dc-02d24fa3b6f3",
   "metadata": {
    "tags": []
   },
   "outputs": [],
   "source": [
    "def set_library_configuration() -> None:\n",
    "\n",
    "    ############################################\n",
    "    # - JUPYTER NOTEBOOK OUTPUT CONTROL / FORMATTING\n",
    "    ############################################\n",
    "    # pandas set floating point to 4 places to things don't run loose\n",
    "    debug.msg_info(\"Setting Pandas and Numpy library options.\")\n",
    "    pd.set_option(\n",
    "        \"display.max_colwidth\", 10\n",
    "    )  # None if you want to view the full json blob in the printed dataframe, use this\n",
    "    pd.options.display.float_format = \"{:,.4f}\".format\n",
    "    np.set_printoptions(precision=4)"
   ]
  },
  {
   "cell_type": "markdown",
   "id": "7affb41f-4dbd-499b-b21a-5f458ce6253e",
   "metadata": {},
   "source": [
    "#### Custom Exception Display"
   ]
  },
  {
   "cell_type": "code",
   "execution_count": 30,
   "id": "ce6f397f-3069-4682-806e-3afd4d02ecef",
   "metadata": {
    "tags": []
   },
   "outputs": [],
   "source": [
    "# this function displays the stack trace on errors from a central location making adjustments to the display on an error easier to manage\n",
    "# functions perform useful solutions for highly repetitive code\n",
    "def process_exception(inc_exception: Exception) -> None:\n",
    "    if DEBUG_STACKTRACE == 1:\n",
    "        traceback.print_exc()\n",
    "        console.print_exception(show_locals=True)\n",
    "    else:\n",
    "        rprint(repr(inc_exception))"
   ]
  },
  {
   "cell_type": "markdown",
   "id": "b30700c3-cca8-4548-9a8e-fb56e0083745",
   "metadata": {},
   "source": [
    "#### Example Complex Function to Profile"
   ]
  },
  {
   "cell_type": "code",
   "execution_count": 31,
   "id": "78e89209-2163-4003-a01d-20e5ea43dba7",
   "metadata": {},
   "outputs": [
    {
     "ename": "NameError",
     "evalue": "name 'functools' is not defined",
     "output_type": "error",
     "traceback": [
      "\u001b[0;31m---------------------------------------------------------------------------\u001b[0m",
      "\u001b[0;31mNameError\u001b[0m                                 Traceback (most recent call last)",
      "Cell \u001b[0;32mIn[31], line 1\u001b[0m\n\u001b[0;32m----> 1\u001b[0m \u001b[38;5;129m@profile\u001b[39m\n\u001b[1;32m      2\u001b[0m \u001b[38;5;28;01mdef\u001b[39;00m \u001b[38;5;21mcomplex_function\u001b[39m():\n\u001b[1;32m      3\u001b[0m     \u001b[38;5;66;03m# Define the size of the matrix\u001b[39;00m\n\u001b[1;32m      4\u001b[0m     matrix_size \u001b[38;5;241m=\u001b[39m \u001b[38;5;241m2048\u001b[39m\n\u001b[1;32m      5\u001b[0m     \u001b[38;5;66;03m# Generate two random matrices\u001b[39;00m\n",
      "Cell \u001b[0;32mIn[26], line 8\u001b[0m, in \u001b[0;36mprofile\u001b[0;34m(func)\u001b[0m\n\u001b[1;32m      7\u001b[0m \u001b[38;5;28;01mdef\u001b[39;00m \u001b[38;5;21mprofile\u001b[39m(func):\n\u001b[0;32m----> 8\u001b[0m     \u001b[38;5;129m@functools\u001b[39m\u001b[38;5;241m.\u001b[39mwraps(func)\n\u001b[1;32m      9\u001b[0m     \u001b[38;5;28;01mdef\u001b[39;00m \u001b[38;5;21mwrapper\u001b[39m(\u001b[38;5;241m*\u001b[39margs, \u001b[38;5;241m*\u001b[39m\u001b[38;5;241m*\u001b[39mkwargs):\n\u001b[1;32m     10\u001b[0m \n\u001b[1;32m     11\u001b[0m         \u001b[38;5;66;03m# custom metrics values\u001b[39;00m\n\u001b[1;32m     12\u001b[0m         current_memories \u001b[38;5;241m=\u001b[39m \u001b[38;5;241m0.0\u001b[39m\n\u001b[1;32m     13\u001b[0m         peak_memories \u001b[38;5;241m=\u001b[39m \u001b[38;5;241m0.0\u001b[39m\n",
      "\u001b[0;31mNameError\u001b[0m: name 'functools' is not defined"
     ]
    }
   ],
   "source": [
    "@profile\n",
    "def complex_function():\n",
    "    # Define the size of the matrix\n",
    "    matrix_size = 2048\n",
    "    # Generate two random matrices\n",
    "    matrix_a = np.random.rand(matrix_size, matrix_size)\n",
    "    matrix_b = np.random.rand(matrix_size, matrix_size)\n",
    "    result_matrix = np.matmul(matrix_a, matrix_b)\n",
    "    np.savez(\n",
    "        \"./folderOnColab/data/local_test.npy\",\n",
    "        the_matrix=result_matrix,\n",
    "    )"
   ]
  },
  {
   "cell_type": "markdown",
   "id": "274b8cb7-1f09-4be3-9f04-2e6479407b12",
   "metadata": {},
   "source": [
    "## Process"
   ]
  },
  {
   "cell_type": "code",
   "execution_count": 32,
   "id": "448e6fe4-de1d-4435-9076-e84530fced70",
   "metadata": {},
   "outputs": [],
   "source": [
    "## Main routine that executes all code, does return a data frame of data for further analysis if desired.\n",
    "#\n",
    "#  @param (None)\n",
    "def process() -> None:\n",
    "\n",
    "    rprint(f\"Entering {__name__} {inspect.stack()[0][3]}\")\n",
    "\n",
    "    #create output directory\n",
    "    #update constants to reflect output directory\n",
    "    \n",
    "    for idx in range(0, ITERATIONS):\n",
    "        complex_function()\n",
    "\n",
    "    #read results and plot analysis\n",
    "    source_filenames_list=[]\n",
    "    print(\"...marshaling data files:\")\n",
    "    target_directory = \"./folderOnColab/\"\n",
    "    if os.path.isdir(target_directory):\n",
    "        for file in os.listdir(target_directory):\n",
    "            if os.path.isfile(f\"{target_directory}{os.sep}{file}\"):\n",
    "                print(f\"......processing {file} from {target_directory}\")\n",
    "                filename, file_extension = os.path.splitext(file)\n",
    "                if file_extension.lower() in \".pkl\":\n",
    "                    source_filenames_list.append(os.path.join(target_directory, file))\n",
    "\n",
    "    for file in source_filenames_list:\n",
    "        with open(file, 'rb') as f:\n",
    "            x = pickle.load(f)\n",
    "        print(x) \n",
    "        \n",
    "    rprint(f\"Exiting {__name__} {inspect.stack()[0][3]}\")"
   ]
  },
  {
   "cell_type": "markdown",
   "id": "47864749-a847-4c14-99fb-d230de0338f7",
   "metadata": {},
   "source": [
    "# Main Routine (call all other routines)"
   ]
  },
  {
   "cell_type": "code",
   "execution_count": 54,
   "id": "0dbdffcc-6375-48e1-80fb-ea54c1128dad",
   "metadata": {
    "scrolled": true,
    "tags": []
   },
   "outputs": [
    {
     "name": "stdout",
     "output_type": "stream",
     "text": [
      "BEGIN PROGRAM\n",
      "Author: Christopher G Wood\n",
      "\n",
      "Github username: GITHUB_USERNAME\n",
      "\n",
      "Email: christopher.g.wood@gmail.com\n",
      "\n",
      "Last updated: 2025-03-19T16:17:38.066451-05:00\n",
      "\n",
      "Python implementation: CPython\n",
      "Python version       : 3.12.9\n",
      "IPython version      : 8.30.0\n",
      "\n",
      "Compiler    : GCC 13.3.0\n",
      "OS          : Linux\n",
      "Release     : 5.15.167.4-microsoft-standard-WSL2\n",
      "Machine     : x86_64\n",
      "Processor   : x86_64\n",
      "CPU cores   : 16\n",
      "Architecture: 64bit\n",
      "\n",
      "Hostname: ThulsaDoom\n",
      "\n",
      "Git hash: 75ef482324151469f00ef6a7eabb56e013a98195\n",
      "\n",
      "Git repo: git@github.com:christophergarthwood/jbooks.git\n",
      "\n",
      "Git branch: Updates\n",
      "\n",
      "\u001b[1mPackages:\u001b[0;0m\n",
      "\n",
      "dask                                    #: 2024.12.1           \n",
      "fastparquet                             #: 2024.11.0           \n",
      "keras                                   #: 3.9.0               \n",
      "numpy                                   #: 1.26.4              \n",
      "pandas                                  #: 2.2.3               \n",
      "polars                                  #: 1.24.0              \n",
      "pystac                                  #: 1.12.1              \n",
      "seaborn                                 #: 0.13.2              \n",
      "xarray                                  #: 2024.11.0           \n",
      "zarr                                    #: 3.0.5               \n",
      "TensorFlow version                      #: 2.18.0              \n",
      "     gpu.count:                         #: 1\n",
      "     cpu.count:                         #: 1\n",
      "Torch version                           #: 2.6.0+cu124         \n",
      "     GPUs available?                    #: True\n",
      "     count                              #: 1\n",
      "     current                            #: NVIDIA GeForce RTX 2060\n"
     ]
    },
    {
     "data": {
      "text/html": [
       "<pre style=\"white-space:pre;overflow-x:auto;line-height:normal;font-family:Menlo,'DejaVu Sans Mono',consolas,'Courier New',monospace\">Entering __main__ get_hardware_stats\n",
       "</pre>\n"
      ],
      "text/plain": [
       "Entering __main__ get_hardware_stats\n"
      ]
     },
     "metadata": {},
     "output_type": "display_data"
    },
    {
     "name": "stdout",
     "output_type": "stream",
     "text": [
      "\u001b[1mList Devices\u001b[0;0m #########################################\n"
     ]
    },
    {
     "name": "stderr",
     "output_type": "stream",
     "text": [
      "WARNING: All log messages before absl::InitializeLog() is called are written to STDERR\n",
      "I0000 00:00:1742419058.140159    2213 service.cc:148] XLA service 0x557a3fc6ae80 initialized for platform Host (this does not guarantee that XLA will be used). Devices:\n"
     ]
    },
    {
     "data": {
      "text/html": [
       "<pre style=\"white-space:pre;overflow-x:auto;line-height:normal;font-family:Menlo,'DejaVu Sans Mono',consolas,'Courier New',monospace\"><span style=\"font-weight: bold\">[</span>\n",
       "    name: <span style=\"color: #008000; text-decoration-color: #008000\">\"/device:CPU:0\"</span>\n",
       "device_type: <span style=\"color: #008000; text-decoration-color: #008000\">\"CPU\"</span>\n",
       "memory_limit: <span style=\"color: #008080; text-decoration-color: #008080; font-weight: bold\">268435456</span>\n",
       "locality <span style=\"font-weight: bold\">{</span>\n",
       "<span style=\"font-weight: bold\">}</span>\n",
       "incarnation: <span style=\"color: #008080; text-decoration-color: #008080; font-weight: bold\">1436886498804413271</span>\n",
       "xla_global_id: <span style=\"color: #008080; text-decoration-color: #008080; font-weight: bold\">-1</span>\n",
       ",\n",
       "    name: <span style=\"color: #008000; text-decoration-color: #008000\">\"/device:XLA_CPU:0\"</span>\n",
       "device_type: <span style=\"color: #008000; text-decoration-color: #008000\">\"XLA_CPU\"</span>\n",
       "memory_limit: <span style=\"color: #008080; text-decoration-color: #008080; font-weight: bold\">17179869184</span>\n",
       "locality <span style=\"font-weight: bold\">{</span>\n",
       "<span style=\"font-weight: bold\">}</span>\n",
       "incarnation: <span style=\"color: #008080; text-decoration-color: #008080; font-weight: bold\">3998773451041774701</span>\n",
       "physical_device_desc: <span style=\"color: #008000; text-decoration-color: #008000\">\"device: XLA_CPU device\"</span>\n",
       "xla_global_id: <span style=\"color: #008080; text-decoration-color: #008080; font-weight: bold\">-1</span>\n",
       ",\n",
       "    name: <span style=\"color: #008000; text-decoration-color: #008000\">\"/device:XLA_GPU:0\"</span>\n",
       "device_type: <span style=\"color: #008000; text-decoration-color: #008000\">\"XLA_GPU\"</span>\n",
       "memory_limit: <span style=\"color: #008080; text-decoration-color: #008080; font-weight: bold\">17179869184</span>\n",
       "locality <span style=\"font-weight: bold\">{</span>\n",
       "<span style=\"font-weight: bold\">}</span>\n",
       "incarnation: <span style=\"color: #008080; text-decoration-color: #008080; font-weight: bold\">16804952475028772928</span>\n",
       "physical_device_desc: <span style=\"color: #008000; text-decoration-color: #008000\">\"device: XLA_GPU device\"</span>\n",
       "xla_global_id: <span style=\"color: #008080; text-decoration-color: #008080; font-weight: bold\">-1</span>\n",
       ",\n",
       "    name: <span style=\"color: #008000; text-decoration-color: #008000\">\"/device:GPU:0\"</span>\n",
       "device_type: <span style=\"color: #008000; text-decoration-color: #008000\">\"GPU\"</span>\n",
       "memory_limit: <span style=\"color: #008080; text-decoration-color: #008080; font-weight: bold\">4253024256</span>\n",
       "locality <span style=\"font-weight: bold\">{</span>\n",
       "  bus_id: <span style=\"color: #008080; text-decoration-color: #008080; font-weight: bold\">1</span>\n",
       "  links <span style=\"font-weight: bold\">{</span>\n",
       "  <span style=\"font-weight: bold\">}</span>\n",
       "<span style=\"font-weight: bold\">}</span>\n",
       "incarnation: <span style=\"color: #008080; text-decoration-color: #008080; font-weight: bold\">6156346436551526819</span>\n",
       "physical_device_desc: <span style=\"color: #008000; text-decoration-color: #008000\">\"device: 0, name: NVIDIA GeForce RTX 2060, pci bus id: 0000:01:00.0, compute capability: 7.5\"</span>\n",
       "xla_global_id: <span style=\"color: #008080; text-decoration-color: #008080; font-weight: bold\">416903419</span>\n",
       "\n",
       "<span style=\"font-weight: bold\">]</span>\n",
       "</pre>\n"
      ],
      "text/plain": [
       "\u001b[1m[\u001b[0m\n",
       "    name: \u001b[32m\"/device:CPU:0\"\u001b[0m\n",
       "device_type: \u001b[32m\"CPU\"\u001b[0m\n",
       "memory_limit: \u001b[1;36m268435456\u001b[0m\n",
       "locality \u001b[1m{\u001b[0m\n",
       "\u001b[1m}\u001b[0m\n",
       "incarnation: \u001b[1;36m1436886498804413271\u001b[0m\n",
       "xla_global_id: \u001b[1;36m-1\u001b[0m\n",
       ",\n",
       "    name: \u001b[32m\"/device:XLA_CPU:0\"\u001b[0m\n",
       "device_type: \u001b[32m\"XLA_CPU\"\u001b[0m\n",
       "memory_limit: \u001b[1;36m17179869184\u001b[0m\n",
       "locality \u001b[1m{\u001b[0m\n",
       "\u001b[1m}\u001b[0m\n",
       "incarnation: \u001b[1;36m3998773451041774701\u001b[0m\n",
       "physical_device_desc: \u001b[32m\"device: XLA_CPU device\"\u001b[0m\n",
       "xla_global_id: \u001b[1;36m-1\u001b[0m\n",
       ",\n",
       "    name: \u001b[32m\"/device:XLA_GPU:0\"\u001b[0m\n",
       "device_type: \u001b[32m\"XLA_GPU\"\u001b[0m\n",
       "memory_limit: \u001b[1;36m17179869184\u001b[0m\n",
       "locality \u001b[1m{\u001b[0m\n",
       "\u001b[1m}\u001b[0m\n",
       "incarnation: \u001b[1;36m16804952475028772928\u001b[0m\n",
       "physical_device_desc: \u001b[32m\"device: XLA_GPU device\"\u001b[0m\n",
       "xla_global_id: \u001b[1;36m-1\u001b[0m\n",
       ",\n",
       "    name: \u001b[32m\"/device:GPU:0\"\u001b[0m\n",
       "device_type: \u001b[32m\"GPU\"\u001b[0m\n",
       "memory_limit: \u001b[1;36m4253024256\u001b[0m\n",
       "locality \u001b[1m{\u001b[0m\n",
       "  bus_id: \u001b[1;36m1\u001b[0m\n",
       "  links \u001b[1m{\u001b[0m\n",
       "  \u001b[1m}\u001b[0m\n",
       "\u001b[1m}\u001b[0m\n",
       "incarnation: \u001b[1;36m6156346436551526819\u001b[0m\n",
       "physical_device_desc: \u001b[32m\"device: 0, name: NVIDIA GeForce RTX 2060, pci bus id: 0000:01:00.0, compute capability: 7.5\"\u001b[0m\n",
       "xla_global_id: \u001b[1;36m416903419\u001b[0m\n",
       "\n",
       "\u001b[1m]\u001b[0m\n"
      ]
     },
     "metadata": {},
     "output_type": "display_data"
    },
    {
     "name": "stdout",
     "output_type": "stream",
     "text": [
      "\n",
      "\u001b[1mDevices Counts\u001b[0;0m ########################################\n"
     ]
    },
    {
     "name": "stderr",
     "output_type": "stream",
     "text": [
      "I0000 00:00:1742419058.140229    2213 service.cc:156]   StreamExecutor device (0): Host, Default Version\n",
      "I0000 00:00:1742419058.309611    2213 service.cc:148] XLA service 0x557a3fc89710 initialized for platform CUDA (this does not guarantee that XLA will be used). Devices:\n",
      "I0000 00:00:1742419058.309678    2213 service.cc:156]   StreamExecutor device (0): NVIDIA GeForce RTX 2060, Compute Capability 7.5\n",
      "I0000 00:00:1742419058.342537    2213 gpu_device.cc:2022] Created device /device:GPU:0 with 4056 MB memory:  -> device: 0, name: NVIDIA GeForce RTX 2060, pci bus id: 0000:01:00.0, compute capability: 7.5\n"
     ]
    },
    {
     "data": {
      "text/html": [
       "<pre style=\"white-space:pre;overflow-x:auto;line-height:normal;font-family:Menlo,'DejaVu Sans Mono',consolas,'Courier New',monospace\">Num GPUs Available: <span style=\"color: #008080; text-decoration-color: #008080; font-weight: bold\">1</span>\n",
       "</pre>\n"
      ],
      "text/plain": [
       "Num GPUs Available: \u001b[1;36m1\u001b[0m\n"
      ]
     },
     "metadata": {},
     "output_type": "display_data"
    },
    {
     "data": {
      "text/html": [
       "<pre style=\"white-space:pre;overflow-x:auto;line-height:normal;font-family:Menlo,'DejaVu Sans Mono',consolas,'Courier New',monospace\">Num CPUs Available: <span style=\"color: #008080; text-decoration-color: #008080; font-weight: bold\">1</span>\n",
       "</pre>\n"
      ],
      "text/plain": [
       "Num CPUs Available: \u001b[1;36m1\u001b[0m\n"
      ]
     },
     "metadata": {},
     "output_type": "display_data"
    },
    {
     "name": "stdout",
     "output_type": "stream",
     "text": [
      "\n",
      "\u001b[1mOptional Enablement\u001b[0;0m ####################################\n"
     ]
    },
    {
     "name": "stderr",
     "output_type": "stream",
     "text": [
      "I0000 00:00:1742419058.353136    2213 gpu_device.cc:2022] Created device /job:localhost/replica:0/task:0/device:GPU:0 with 4056 MB memory:  -> device: 0, name: NVIDIA GeForce RTX 2060, pci bus id: 0000:01:00.0, compute capability: 7.5\n"
     ]
    },
    {
     "data": {
      "text/html": [
       "<pre style=\"white-space:pre;overflow-x:auto;line-height:normal;font-family:Menlo,'DejaVu Sans Mono',consolas,'Courier New',monospace\"><span style=\"color: #008080; text-decoration-color: #008080; font-weight: bold\">1</span> Physical GPUs,<span style=\"color: #008080; text-decoration-color: #008080; font-weight: bold\">1</span> Logical GPU\n",
       "</pre>\n"
      ],
      "text/plain": [
       "\u001b[1;36m1\u001b[0m Physical GPUs,\u001b[1;36m1\u001b[0m Logical GPU\n"
      ]
     },
     "metadata": {},
     "output_type": "display_data"
    },
    {
     "name": "stdout",
     "output_type": "stream",
     "text": [
      "\n"
     ]
    },
    {
     "data": {
      "text/html": [
       "<pre style=\"white-space:pre;overflow-x:auto;line-height:normal;font-family:Menlo,'DejaVu Sans Mono',consolas,'Courier New',monospace\">Entering __main__ get_hardware_stats\n",
       "</pre>\n"
      ],
      "text/plain": [
       "Entering __main__ get_hardware_stats\n"
      ]
     },
     "metadata": {},
     "output_type": "display_data"
    },
    {
     "data": {
      "text/html": [
       "<pre style=\"white-space:pre;overflow-x:auto;line-height:normal;font-family:Menlo,'DejaVu Sans Mono',consolas,'Courier New',monospace\">Entering __main__ process\n",
       "</pre>\n"
      ],
      "text/plain": [
       "Entering __main__ process\n"
      ]
     },
     "metadata": {},
     "output_type": "display_data"
    },
    {
     "data": {
      "text/html": [
       "<pre style=\"white-space:pre;overflow-x:auto;line-height:normal;font-family:Menlo,'DejaVu Sans Mono',consolas,'Courier New',monospace\">Entering __main__ create_storage_locations\n",
       "</pre>\n"
      ],
      "text/plain": [
       "Entering __main__ create_storage_locations\n"
      ]
     },
     "metadata": {},
     "output_type": "display_data"
    },
    {
     "data": {
      "text/html": [
       "<pre style=\"white-space:pre;overflow-x:auto;line-height:normal;font-family:Menlo,'DejaVu Sans Mono',consolas,'Courier New',monospace\">Creating project infrastructure:\n",
       "</pre>\n"
      ],
      "text/plain": [
       "Creating project infrastructure:\n"
      ]
     },
     "metadata": {},
     "output_type": "display_data"
    },
    {
     "data": {
      "text/html": [
       "<pre style=\"white-space:pre;overflow-x:auto;line-height:normal;font-family:Menlo,'DejaVu Sans Mono',consolas,'Courier New',monospace\"><span style=\"color: #808000; text-decoration-color: #808000\">...</span>creating <span style=\"font-weight: bold\">(</span>.<span style=\"color: #800080; text-decoration-color: #800080\">/folderOnColab/</span><span style=\"color: #ff00ff; text-decoration-color: #ff00ff\">downloads</span><span style=\"font-weight: bold\">)</span> to store project data.\n",
       "</pre>\n"
      ],
      "text/plain": [
       "\u001b[33m...\u001b[0mcreating \u001b[1m(\u001b[0m.\u001b[35m/folderOnColab/\u001b[0m\u001b[95mdownloads\u001b[0m\u001b[1m)\u001b[0m to store project data.\n"
      ]
     },
     "metadata": {},
     "output_type": "display_data"
    },
    {
     "name": "stdout",
     "output_type": "stream",
     "text": [
      "......folder named (./folderOnColab/downloads) \u001b[1malready exists\u001b[0;0m, we won't try to create a new folder.\n"
     ]
    },
    {
     "data": {
      "text/html": [
       "<pre style=\"white-space:pre;overflow-x:auto;line-height:normal;font-family:Menlo,'DejaVu Sans Mono',consolas,'Courier New',monospace\"><span style=\"color: #808000; text-decoration-color: #808000\">...</span>creating <span style=\"font-weight: bold\">(</span>.<span style=\"color: #800080; text-decoration-color: #800080\">/folderOnColab/</span><span style=\"color: #ff00ff; text-decoration-color: #ff00ff\">data</span><span style=\"font-weight: bold\">)</span> to store project data.\n",
       "</pre>\n"
      ],
      "text/plain": [
       "\u001b[33m...\u001b[0mcreating \u001b[1m(\u001b[0m.\u001b[35m/folderOnColab/\u001b[0m\u001b[95mdata\u001b[0m\u001b[1m)\u001b[0m to store project data.\n"
      ]
     },
     "metadata": {},
     "output_type": "display_data"
    },
    {
     "name": "stdout",
     "output_type": "stream",
     "text": [
      "......folder named (./folderOnColab/data) \u001b[1malready exists\u001b[0;0m, we won't try to create a new folder.\n"
     ]
    },
    {
     "data": {
      "text/html": [
       "<pre style=\"white-space:pre;overflow-x:auto;line-height:normal;font-family:Menlo,'DejaVu Sans Mono',consolas,'Courier New',monospace\">Exiting __main__ create_storage_locations\n",
       "</pre>\n"
      ],
      "text/plain": [
       "Exiting __main__ create_storage_locations\n"
      ]
     },
     "metadata": {},
     "output_type": "display_data"
    },
    {
     "name": "stdout",
     "output_type": "stream",
     "text": [
      "...marshaling data files:\n",
      "......processing 20250308_gfs.t00z.atmf000.nc from ./folderOnColab/data\n",
      "......processing 20250314_gfs.t00z.atmf000.nc from ./folderOnColab/data\n",
      "......processing MLDATAREADY-0-0-1.npy.npz from ./folderOnColab/data\n",
      "......processing 20250312_gfs.t00z.atmf000.nc from ./folderOnColab/data\n",
      "......processing 20250317_gfs.t00z.atmf000.nc from ./folderOnColab/data\n",
      "......processing 20250313_gfs.t00z.atmf000.nc from ./folderOnColab/data\n",
      "......processing 20250309_gfs.t00z.atmf000.nc from ./folderOnColab/data\n",
      "......processing 20250310_gfs.t00z.atmf000.nc from ./folderOnColab/data\n",
      "......processing 20250315_gfs.t00z.atmf000.nc from ./folderOnColab/data\n",
      "......processing 20250316_gfs.t00z.atmf000.nc from ./folderOnColab/data\n",
      "......processing 20250311_gfs.t00z.atmf000.nc from ./folderOnColab/data\n"
     ]
    },
    {
     "data": {
      "text/html": [
       "<pre style=\"white-space:pre;overflow-x:auto;line-height:normal;font-family:Menlo,'DejaVu Sans Mono',consolas,'Courier New',monospace\">Entering __main__ read_netcdfs\n",
       "</pre>\n"
      ],
      "text/plain": [
       "Entering __main__ read_netcdfs\n"
      ]
     },
     "metadata": {},
     "output_type": "display_data"
    },
    {
     "data": {
      "text/html": [
       "<pre style=\"white-space:pre;overflow-x:auto;line-height:normal;font-family:Menlo,'DejaVu Sans Mono',consolas,'Courier New',monospace\"><span style=\"color: #808000; text-decoration-color: #808000\">...</span>reading NetCDF4 from list of <span style=\"color: #008080; text-decoration-color: #008080; font-weight: bold\">10</span> files:\n",
       "</pre>\n"
      ],
      "text/plain": [
       "\u001b[33m...\u001b[0mreading NetCDF4 from list of \u001b[1;36m10\u001b[0m files:\n"
      ]
     },
     "metadata": {},
     "output_type": "display_data"
    },
    {
     "data": {
      "text/html": [
       "<pre style=\"white-space:pre;overflow-x:auto;line-height:normal;font-family:Menlo,'DejaVu Sans Mono',consolas,'Courier New',monospace\"><span style=\"color: #808000; text-decoration-color: #808000\">......</span>reading NetCDF4 <span style=\"font-weight: bold\">(</span>.<span style=\"color: #800080; text-decoration-color: #800080\">/folderOnColab/data/</span><span style=\"color: #ff00ff; text-decoration-color: #ff00ff\">20250308_gfs.t00z.atmf000.nc</span><span style=\"font-weight: bold\">)</span>\n",
       "</pre>\n"
      ],
      "text/plain": [
       "\u001b[33m...\u001b[0m\u001b[33m...\u001b[0mreading NetCDF4 \u001b[1m(\u001b[0m.\u001b[35m/folderOnColab/data/\u001b[0m\u001b[95m20250308_gfs.t00z.atmf000.nc\u001b[0m\u001b[1m)\u001b[0m\n"
      ]
     },
     "metadata": {},
     "output_type": "display_data"
    },
    {
     "data": {
      "text/html": [
       "<pre style=\"white-space:pre;overflow-x:auto;line-height:normal;font-family:Menlo,'DejaVu Sans Mono',consolas,'Courier New',monospace\"><span style=\"color: #808000; text-decoration-color: #808000\">......</span>reading NetCDF4 <span style=\"font-weight: bold\">(</span>.<span style=\"color: #800080; text-decoration-color: #800080\">/folderOnColab/data/</span><span style=\"color: #ff00ff; text-decoration-color: #ff00ff\">20250309_gfs.t00z.atmf000.nc</span><span style=\"font-weight: bold\">)</span>\n",
       "</pre>\n"
      ],
      "text/plain": [
       "\u001b[33m...\u001b[0m\u001b[33m...\u001b[0mreading NetCDF4 \u001b[1m(\u001b[0m.\u001b[35m/folderOnColab/data/\u001b[0m\u001b[95m20250309_gfs.t00z.atmf000.nc\u001b[0m\u001b[1m)\u001b[0m\n"
      ]
     },
     "metadata": {},
     "output_type": "display_data"
    },
    {
     "data": {
      "text/html": [
       "<pre style=\"white-space:pre;overflow-x:auto;line-height:normal;font-family:Menlo,'DejaVu Sans Mono',consolas,'Courier New',monospace\"><span style=\"color: #808000; text-decoration-color: #808000\">......</span>reading NetCDF4 <span style=\"font-weight: bold\">(</span>.<span style=\"color: #800080; text-decoration-color: #800080\">/folderOnColab/data/</span><span style=\"color: #ff00ff; text-decoration-color: #ff00ff\">20250310_gfs.t00z.atmf000.nc</span><span style=\"font-weight: bold\">)</span>\n",
       "</pre>\n"
      ],
      "text/plain": [
       "\u001b[33m...\u001b[0m\u001b[33m...\u001b[0mreading NetCDF4 \u001b[1m(\u001b[0m.\u001b[35m/folderOnColab/data/\u001b[0m\u001b[95m20250310_gfs.t00z.atmf000.nc\u001b[0m\u001b[1m)\u001b[0m\n"
      ]
     },
     "metadata": {},
     "output_type": "display_data"
    },
    {
     "data": {
      "text/html": [
       "<pre style=\"white-space:pre;overflow-x:auto;line-height:normal;font-family:Menlo,'DejaVu Sans Mono',consolas,'Courier New',monospace\"><span style=\"color: #808000; text-decoration-color: #808000\">......</span>reading NetCDF4 <span style=\"font-weight: bold\">(</span>.<span style=\"color: #800080; text-decoration-color: #800080\">/folderOnColab/data/</span><span style=\"color: #ff00ff; text-decoration-color: #ff00ff\">20250311_gfs.t00z.atmf000.nc</span><span style=\"font-weight: bold\">)</span>\n",
       "</pre>\n"
      ],
      "text/plain": [
       "\u001b[33m...\u001b[0m\u001b[33m...\u001b[0mreading NetCDF4 \u001b[1m(\u001b[0m.\u001b[35m/folderOnColab/data/\u001b[0m\u001b[95m20250311_gfs.t00z.atmf000.nc\u001b[0m\u001b[1m)\u001b[0m\n"
      ]
     },
     "metadata": {},
     "output_type": "display_data"
    },
    {
     "data": {
      "text/html": [
       "<pre style=\"white-space:pre;overflow-x:auto;line-height:normal;font-family:Menlo,'DejaVu Sans Mono',consolas,'Courier New',monospace\"><span style=\"color: #808000; text-decoration-color: #808000\">......</span>reading NetCDF4 <span style=\"font-weight: bold\">(</span>.<span style=\"color: #800080; text-decoration-color: #800080\">/folderOnColab/data/</span><span style=\"color: #ff00ff; text-decoration-color: #ff00ff\">20250312_gfs.t00z.atmf000.nc</span><span style=\"font-weight: bold\">)</span>\n",
       "</pre>\n"
      ],
      "text/plain": [
       "\u001b[33m...\u001b[0m\u001b[33m...\u001b[0mreading NetCDF4 \u001b[1m(\u001b[0m.\u001b[35m/folderOnColab/data/\u001b[0m\u001b[95m20250312_gfs.t00z.atmf000.nc\u001b[0m\u001b[1m)\u001b[0m\n"
      ]
     },
     "metadata": {},
     "output_type": "display_data"
    },
    {
     "data": {
      "text/html": [
       "<pre style=\"white-space:pre;overflow-x:auto;line-height:normal;font-family:Menlo,'DejaVu Sans Mono',consolas,'Courier New',monospace\"><span style=\"color: #808000; text-decoration-color: #808000\">......</span>reading NetCDF4 <span style=\"font-weight: bold\">(</span>.<span style=\"color: #800080; text-decoration-color: #800080\">/folderOnColab/data/</span><span style=\"color: #ff00ff; text-decoration-color: #ff00ff\">20250313_gfs.t00z.atmf000.nc</span><span style=\"font-weight: bold\">)</span>\n",
       "</pre>\n"
      ],
      "text/plain": [
       "\u001b[33m...\u001b[0m\u001b[33m...\u001b[0mreading NetCDF4 \u001b[1m(\u001b[0m.\u001b[35m/folderOnColab/data/\u001b[0m\u001b[95m20250313_gfs.t00z.atmf000.nc\u001b[0m\u001b[1m)\u001b[0m\n"
      ]
     },
     "metadata": {},
     "output_type": "display_data"
    },
    {
     "data": {
      "text/html": [
       "<pre style=\"white-space:pre;overflow-x:auto;line-height:normal;font-family:Menlo,'DejaVu Sans Mono',consolas,'Courier New',monospace\"><span style=\"color: #808000; text-decoration-color: #808000\">......</span>reading NetCDF4 <span style=\"font-weight: bold\">(</span>.<span style=\"color: #800080; text-decoration-color: #800080\">/folderOnColab/data/</span><span style=\"color: #ff00ff; text-decoration-color: #ff00ff\">20250314_gfs.t00z.atmf000.nc</span><span style=\"font-weight: bold\">)</span>\n",
       "</pre>\n"
      ],
      "text/plain": [
       "\u001b[33m...\u001b[0m\u001b[33m...\u001b[0mreading NetCDF4 \u001b[1m(\u001b[0m.\u001b[35m/folderOnColab/data/\u001b[0m\u001b[95m20250314_gfs.t00z.atmf000.nc\u001b[0m\u001b[1m)\u001b[0m\n"
      ]
     },
     "metadata": {},
     "output_type": "display_data"
    },
    {
     "data": {
      "text/html": [
       "<pre style=\"white-space:pre;overflow-x:auto;line-height:normal;font-family:Menlo,'DejaVu Sans Mono',consolas,'Courier New',monospace\"><span style=\"color: #808000; text-decoration-color: #808000\">......</span>reading NetCDF4 <span style=\"font-weight: bold\">(</span>.<span style=\"color: #800080; text-decoration-color: #800080\">/folderOnColab/data/</span><span style=\"color: #ff00ff; text-decoration-color: #ff00ff\">20250315_gfs.t00z.atmf000.nc</span><span style=\"font-weight: bold\">)</span>\n",
       "</pre>\n"
      ],
      "text/plain": [
       "\u001b[33m...\u001b[0m\u001b[33m...\u001b[0mreading NetCDF4 \u001b[1m(\u001b[0m.\u001b[35m/folderOnColab/data/\u001b[0m\u001b[95m20250315_gfs.t00z.atmf000.nc\u001b[0m\u001b[1m)\u001b[0m\n"
      ]
     },
     "metadata": {},
     "output_type": "display_data"
    },
    {
     "data": {
      "text/html": [
       "<pre style=\"white-space:pre;overflow-x:auto;line-height:normal;font-family:Menlo,'DejaVu Sans Mono',consolas,'Courier New',monospace\"><span style=\"color: #808000; text-decoration-color: #808000\">......</span>reading NetCDF4 <span style=\"font-weight: bold\">(</span>.<span style=\"color: #800080; text-decoration-color: #800080\">/folderOnColab/data/</span><span style=\"color: #ff00ff; text-decoration-color: #ff00ff\">20250316_gfs.t00z.atmf000.nc</span><span style=\"font-weight: bold\">)</span>\n",
       "</pre>\n"
      ],
      "text/plain": [
       "\u001b[33m...\u001b[0m\u001b[33m...\u001b[0mreading NetCDF4 \u001b[1m(\u001b[0m.\u001b[35m/folderOnColab/data/\u001b[0m\u001b[95m20250316_gfs.t00z.atmf000.nc\u001b[0m\u001b[1m)\u001b[0m\n"
      ]
     },
     "metadata": {},
     "output_type": "display_data"
    },
    {
     "data": {
      "text/html": [
       "<pre style=\"white-space:pre;overflow-x:auto;line-height:normal;font-family:Menlo,'DejaVu Sans Mono',consolas,'Courier New',monospace\"><span style=\"color: #808000; text-decoration-color: #808000\">......</span>reading NetCDF4 <span style=\"font-weight: bold\">(</span>.<span style=\"color: #800080; text-decoration-color: #800080\">/folderOnColab/data/</span><span style=\"color: #ff00ff; text-decoration-color: #ff00ff\">20250317_gfs.t00z.atmf000.nc</span><span style=\"font-weight: bold\">)</span>\n",
       "</pre>\n"
      ],
      "text/plain": [
       "\u001b[33m...\u001b[0m\u001b[33m...\u001b[0mreading NetCDF4 \u001b[1m(\u001b[0m.\u001b[35m/folderOnColab/data/\u001b[0m\u001b[95m20250317_gfs.t00z.atmf000.nc\u001b[0m\u001b[1m)\u001b[0m\n"
      ]
     },
     "metadata": {},
     "output_type": "display_data"
    },
    {
     "data": {
      "text/html": [
       "<pre style=\"white-space:pre;overflow-x:auto;line-height:normal;font-family:Menlo,'DejaVu Sans Mono',consolas,'Courier New',monospace\">Entering __main__ read_netcdfs\n",
       "</pre>\n"
      ],
      "text/plain": [
       "Entering __main__ read_netcdfs\n"
      ]
     },
     "metadata": {},
     "output_type": "display_data"
    },
    {
     "data": {
      "text/html": [
       "<pre style=\"white-space:pre;overflow-x:auto;line-height:normal;font-family:Menlo,'DejaVu Sans Mono',consolas,'Courier New',monospace\">Entering __main__ gather_variables\n",
       "</pre>\n"
      ],
      "text/plain": [
       "Entering __main__ gather_variables\n"
      ]
     },
     "metadata": {},
     "output_type": "display_data"
    },
    {
     "name": "stdout",
     "output_type": "stream",
     "text": [
      "...pulling data for and stacking it to the core data structure:\n",
      "......stacking ./folderOnColab/data/20250308_gfs.t00z.atmf000.nc\n",
      "......stacking ./folderOnColab/data/20250309_gfs.t00z.atmf000.nc\n",
      "......stacking ./folderOnColab/data/20250310_gfs.t00z.atmf000.nc\n",
      "......stacking ./folderOnColab/data/20250311_gfs.t00z.atmf000.nc\n",
      "......stacking ./folderOnColab/data/20250312_gfs.t00z.atmf000.nc\n",
      "......stacking ./folderOnColab/data/20250313_gfs.t00z.atmf000.nc\n",
      "......stacking ./folderOnColab/data/20250314_gfs.t00z.atmf000.nc\n",
      "......stacking ./folderOnColab/data/20250315_gfs.t00z.atmf000.nc\n",
      "......stacking ./folderOnColab/data/20250316_gfs.t00z.atmf000.nc\n",
      "......stacking ./folderOnColab/data/20250317_gfs.t00z.atmf000.nc\n",
      "...\u001b[1mlat        data type:         \u001b[0;0m<class 'numpy.ndarray'>\n",
      ".......shape:(47185920,)\n",
      "....datatype:float64\n",
      "...\u001b[1mlon        data type:         \u001b[0;0m<class 'numpy.ndarray'>\n",
      ".......shape:(47185920,)\n",
      "....datatype:float64\n",
      "...\u001b[1mData type           (cld_amt             )\u001b[0;0m<class 'numpy.ndarray'>\n",
      ".......shape:(47185920,)\n",
      "....datatype:float64\n"
     ]
    },
    {
     "data": {
      "text/html": [
       "<pre style=\"white-space:pre;overflow-x:auto;line-height:normal;font-family:Menlo,'DejaVu Sans Mono',consolas,'Courier New',monospace\">Exiting __main__ gather_variables\n",
       "</pre>\n"
      ],
      "text/plain": [
       "Exiting __main__ gather_variables\n"
      ]
     },
     "metadata": {},
     "output_type": "display_data"
    },
    {
     "data": {
      "text/html": [
       "<pre style=\"white-space:pre;overflow-x:auto;line-height:normal;font-family:Menlo,'DejaVu Sans Mono',consolas,'Courier New',monospace\">Entering __main__ read_netcdfs\n",
       "</pre>\n"
      ],
      "text/plain": [
       "Entering __main__ read_netcdfs\n"
      ]
     },
     "metadata": {},
     "output_type": "display_data"
    },
    {
     "data": {
      "text/html": [
       "<pre style=\"white-space:pre;overflow-x:auto;line-height:normal;font-family:Menlo,'DejaVu Sans Mono',consolas,'Courier New',monospace\"><span style=\"color: #808000; text-decoration-color: #808000\">...</span>reading NetCDF4 from list of <span style=\"color: #008080; text-decoration-color: #008080; font-weight: bold\">10</span> files:\n",
       "</pre>\n"
      ],
      "text/plain": [
       "\u001b[33m...\u001b[0mreading NetCDF4 from list of \u001b[1;36m10\u001b[0m files:\n"
      ]
     },
     "metadata": {},
     "output_type": "display_data"
    },
    {
     "data": {
      "text/html": [
       "<pre style=\"white-space:pre;overflow-x:auto;line-height:normal;font-family:Menlo,'DejaVu Sans Mono',consolas,'Courier New',monospace\"><span style=\"color: #808000; text-decoration-color: #808000\">......</span>reading NetCDF4 <span style=\"font-weight: bold\">(</span>.<span style=\"color: #800080; text-decoration-color: #800080\">/folderOnColab/data/</span><span style=\"color: #ff00ff; text-decoration-color: #ff00ff\">20250308_gfs.t00z.atmf000.nc</span><span style=\"font-weight: bold\">)</span>\n",
       "</pre>\n"
      ],
      "text/plain": [
       "\u001b[33m...\u001b[0m\u001b[33m...\u001b[0mreading NetCDF4 \u001b[1m(\u001b[0m.\u001b[35m/folderOnColab/data/\u001b[0m\u001b[95m20250308_gfs.t00z.atmf000.nc\u001b[0m\u001b[1m)\u001b[0m\n"
      ]
     },
     "metadata": {},
     "output_type": "display_data"
    },
    {
     "data": {
      "text/html": [
       "<pre style=\"white-space:pre;overflow-x:auto;line-height:normal;font-family:Menlo,'DejaVu Sans Mono',consolas,'Courier New',monospace\"><span style=\"color: #808000; text-decoration-color: #808000\">......</span>reading NetCDF4 <span style=\"font-weight: bold\">(</span>.<span style=\"color: #800080; text-decoration-color: #800080\">/folderOnColab/data/</span><span style=\"color: #ff00ff; text-decoration-color: #ff00ff\">20250309_gfs.t00z.atmf000.nc</span><span style=\"font-weight: bold\">)</span>\n",
       "</pre>\n"
      ],
      "text/plain": [
       "\u001b[33m...\u001b[0m\u001b[33m...\u001b[0mreading NetCDF4 \u001b[1m(\u001b[0m.\u001b[35m/folderOnColab/data/\u001b[0m\u001b[95m20250309_gfs.t00z.atmf000.nc\u001b[0m\u001b[1m)\u001b[0m\n"
      ]
     },
     "metadata": {},
     "output_type": "display_data"
    },
    {
     "data": {
      "text/html": [
       "<pre style=\"white-space:pre;overflow-x:auto;line-height:normal;font-family:Menlo,'DejaVu Sans Mono',consolas,'Courier New',monospace\"><span style=\"color: #808000; text-decoration-color: #808000\">......</span>reading NetCDF4 <span style=\"font-weight: bold\">(</span>.<span style=\"color: #800080; text-decoration-color: #800080\">/folderOnColab/data/</span><span style=\"color: #ff00ff; text-decoration-color: #ff00ff\">20250310_gfs.t00z.atmf000.nc</span><span style=\"font-weight: bold\">)</span>\n",
       "</pre>\n"
      ],
      "text/plain": [
       "\u001b[33m...\u001b[0m\u001b[33m...\u001b[0mreading NetCDF4 \u001b[1m(\u001b[0m.\u001b[35m/folderOnColab/data/\u001b[0m\u001b[95m20250310_gfs.t00z.atmf000.nc\u001b[0m\u001b[1m)\u001b[0m\n"
      ]
     },
     "metadata": {},
     "output_type": "display_data"
    },
    {
     "data": {
      "text/html": [
       "<pre style=\"white-space:pre;overflow-x:auto;line-height:normal;font-family:Menlo,'DejaVu Sans Mono',consolas,'Courier New',monospace\"><span style=\"color: #808000; text-decoration-color: #808000\">......</span>reading NetCDF4 <span style=\"font-weight: bold\">(</span>.<span style=\"color: #800080; text-decoration-color: #800080\">/folderOnColab/data/</span><span style=\"color: #ff00ff; text-decoration-color: #ff00ff\">20250311_gfs.t00z.atmf000.nc</span><span style=\"font-weight: bold\">)</span>\n",
       "</pre>\n"
      ],
      "text/plain": [
       "\u001b[33m...\u001b[0m\u001b[33m...\u001b[0mreading NetCDF4 \u001b[1m(\u001b[0m.\u001b[35m/folderOnColab/data/\u001b[0m\u001b[95m20250311_gfs.t00z.atmf000.nc\u001b[0m\u001b[1m)\u001b[0m\n"
      ]
     },
     "metadata": {},
     "output_type": "display_data"
    },
    {
     "data": {
      "text/html": [
       "<pre style=\"white-space:pre;overflow-x:auto;line-height:normal;font-family:Menlo,'DejaVu Sans Mono',consolas,'Courier New',monospace\"><span style=\"color: #808000; text-decoration-color: #808000\">......</span>reading NetCDF4 <span style=\"font-weight: bold\">(</span>.<span style=\"color: #800080; text-decoration-color: #800080\">/folderOnColab/data/</span><span style=\"color: #ff00ff; text-decoration-color: #ff00ff\">20250312_gfs.t00z.atmf000.nc</span><span style=\"font-weight: bold\">)</span>\n",
       "</pre>\n"
      ],
      "text/plain": [
       "\u001b[33m...\u001b[0m\u001b[33m...\u001b[0mreading NetCDF4 \u001b[1m(\u001b[0m.\u001b[35m/folderOnColab/data/\u001b[0m\u001b[95m20250312_gfs.t00z.atmf000.nc\u001b[0m\u001b[1m)\u001b[0m\n"
      ]
     },
     "metadata": {},
     "output_type": "display_data"
    },
    {
     "data": {
      "text/html": [
       "<pre style=\"white-space:pre;overflow-x:auto;line-height:normal;font-family:Menlo,'DejaVu Sans Mono',consolas,'Courier New',monospace\"><span style=\"color: #808000; text-decoration-color: #808000\">......</span>reading NetCDF4 <span style=\"font-weight: bold\">(</span>.<span style=\"color: #800080; text-decoration-color: #800080\">/folderOnColab/data/</span><span style=\"color: #ff00ff; text-decoration-color: #ff00ff\">20250313_gfs.t00z.atmf000.nc</span><span style=\"font-weight: bold\">)</span>\n",
       "</pre>\n"
      ],
      "text/plain": [
       "\u001b[33m...\u001b[0m\u001b[33m...\u001b[0mreading NetCDF4 \u001b[1m(\u001b[0m.\u001b[35m/folderOnColab/data/\u001b[0m\u001b[95m20250313_gfs.t00z.atmf000.nc\u001b[0m\u001b[1m)\u001b[0m\n"
      ]
     },
     "metadata": {},
     "output_type": "display_data"
    },
    {
     "data": {
      "text/html": [
       "<pre style=\"white-space:pre;overflow-x:auto;line-height:normal;font-family:Menlo,'DejaVu Sans Mono',consolas,'Courier New',monospace\"><span style=\"color: #808000; text-decoration-color: #808000\">......</span>reading NetCDF4 <span style=\"font-weight: bold\">(</span>.<span style=\"color: #800080; text-decoration-color: #800080\">/folderOnColab/data/</span><span style=\"color: #ff00ff; text-decoration-color: #ff00ff\">20250314_gfs.t00z.atmf000.nc</span><span style=\"font-weight: bold\">)</span>\n",
       "</pre>\n"
      ],
      "text/plain": [
       "\u001b[33m...\u001b[0m\u001b[33m...\u001b[0mreading NetCDF4 \u001b[1m(\u001b[0m.\u001b[35m/folderOnColab/data/\u001b[0m\u001b[95m20250314_gfs.t00z.atmf000.nc\u001b[0m\u001b[1m)\u001b[0m\n"
      ]
     },
     "metadata": {},
     "output_type": "display_data"
    },
    {
     "data": {
      "text/html": [
       "<pre style=\"white-space:pre;overflow-x:auto;line-height:normal;font-family:Menlo,'DejaVu Sans Mono',consolas,'Courier New',monospace\"><span style=\"color: #808000; text-decoration-color: #808000\">......</span>reading NetCDF4 <span style=\"font-weight: bold\">(</span>.<span style=\"color: #800080; text-decoration-color: #800080\">/folderOnColab/data/</span><span style=\"color: #ff00ff; text-decoration-color: #ff00ff\">20250315_gfs.t00z.atmf000.nc</span><span style=\"font-weight: bold\">)</span>\n",
       "</pre>\n"
      ],
      "text/plain": [
       "\u001b[33m...\u001b[0m\u001b[33m...\u001b[0mreading NetCDF4 \u001b[1m(\u001b[0m.\u001b[35m/folderOnColab/data/\u001b[0m\u001b[95m20250315_gfs.t00z.atmf000.nc\u001b[0m\u001b[1m)\u001b[0m\n"
      ]
     },
     "metadata": {},
     "output_type": "display_data"
    },
    {
     "data": {
      "text/html": [
       "<pre style=\"white-space:pre;overflow-x:auto;line-height:normal;font-family:Menlo,'DejaVu Sans Mono',consolas,'Courier New',monospace\"><span style=\"color: #808000; text-decoration-color: #808000\">......</span>reading NetCDF4 <span style=\"font-weight: bold\">(</span>.<span style=\"color: #800080; text-decoration-color: #800080\">/folderOnColab/data/</span><span style=\"color: #ff00ff; text-decoration-color: #ff00ff\">20250316_gfs.t00z.atmf000.nc</span><span style=\"font-weight: bold\">)</span>\n",
       "</pre>\n"
      ],
      "text/plain": [
       "\u001b[33m...\u001b[0m\u001b[33m...\u001b[0mreading NetCDF4 \u001b[1m(\u001b[0m.\u001b[35m/folderOnColab/data/\u001b[0m\u001b[95m20250316_gfs.t00z.atmf000.nc\u001b[0m\u001b[1m)\u001b[0m\n"
      ]
     },
     "metadata": {},
     "output_type": "display_data"
    },
    {
     "data": {
      "text/html": [
       "<pre style=\"white-space:pre;overflow-x:auto;line-height:normal;font-family:Menlo,'DejaVu Sans Mono',consolas,'Courier New',monospace\"><span style=\"color: #808000; text-decoration-color: #808000\">......</span>reading NetCDF4 <span style=\"font-weight: bold\">(</span>.<span style=\"color: #800080; text-decoration-color: #800080\">/folderOnColab/data/</span><span style=\"color: #ff00ff; text-decoration-color: #ff00ff\">20250317_gfs.t00z.atmf000.nc</span><span style=\"font-weight: bold\">)</span>\n",
       "</pre>\n"
      ],
      "text/plain": [
       "\u001b[33m...\u001b[0m\u001b[33m...\u001b[0mreading NetCDF4 \u001b[1m(\u001b[0m.\u001b[35m/folderOnColab/data/\u001b[0m\u001b[95m20250317_gfs.t00z.atmf000.nc\u001b[0m\u001b[1m)\u001b[0m\n"
      ]
     },
     "metadata": {},
     "output_type": "display_data"
    },
    {
     "data": {
      "text/html": [
       "<pre style=\"white-space:pre;overflow-x:auto;line-height:normal;font-family:Menlo,'DejaVu Sans Mono',consolas,'Courier New',monospace\">Entering __main__ read_netcdfs\n",
       "</pre>\n"
      ],
      "text/plain": [
       "Entering __main__ read_netcdfs\n"
      ]
     },
     "metadata": {},
     "output_type": "display_data"
    },
    {
     "data": {
      "text/html": [
       "<pre style=\"white-space:pre;overflow-x:auto;line-height:normal;font-family:Menlo,'DejaVu Sans Mono',consolas,'Courier New',monospace\">Entering __main__ gather_variables\n",
       "</pre>\n"
      ],
      "text/plain": [
       "Entering __main__ gather_variables\n"
      ]
     },
     "metadata": {},
     "output_type": "display_data"
    },
    {
     "name": "stdout",
     "output_type": "stream",
     "text": [
      "...pulling data for and stacking it to the core data structure:\n",
      "......stacking ./folderOnColab/data/20250308_gfs.t00z.atmf000.nc\n",
      "......stacking ./folderOnColab/data/20250309_gfs.t00z.atmf000.nc\n",
      "......stacking ./folderOnColab/data/20250310_gfs.t00z.atmf000.nc\n",
      "......stacking ./folderOnColab/data/20250311_gfs.t00z.atmf000.nc\n",
      "......stacking ./folderOnColab/data/20250312_gfs.t00z.atmf000.nc\n",
      "......stacking ./folderOnColab/data/20250313_gfs.t00z.atmf000.nc\n",
      "......stacking ./folderOnColab/data/20250314_gfs.t00z.atmf000.nc\n",
      "......stacking ./folderOnColab/data/20250315_gfs.t00z.atmf000.nc\n",
      "......stacking ./folderOnColab/data/20250316_gfs.t00z.atmf000.nc\n",
      "......stacking ./folderOnColab/data/20250317_gfs.t00z.atmf000.nc\n",
      "...\u001b[1mlat        data type:         \u001b[0;0m<class 'numpy.ndarray'>\n",
      ".......shape:(47185920,)\n",
      "....datatype:float64\n",
      "...\u001b[1mlon        data type:         \u001b[0;0m<class 'numpy.ndarray'>\n",
      ".......shape:(47185920,)\n",
      "....datatype:float64\n",
      "...\u001b[1mData type           (cld_amt             )\u001b[0;0m<class 'numpy.ndarray'>\n",
      ".......shape:(47185920,)\n",
      "....datatype:float64\n"
     ]
    },
    {
     "data": {
      "text/html": [
       "<pre style=\"white-space:pre;overflow-x:auto;line-height:normal;font-family:Menlo,'DejaVu Sans Mono',consolas,'Courier New',monospace\">Exiting __main__ gather_variables\n",
       "</pre>\n"
      ],
      "text/plain": [
       "Exiting __main__ gather_variables\n"
      ]
     },
     "metadata": {},
     "output_type": "display_data"
    },
    {
     "data": {
      "text/html": [
       "<pre style=\"white-space:pre;overflow-x:auto;line-height:normal;font-family:Menlo,'DejaVu Sans Mono',consolas,'Courier New',monospace\">Entering __main__ read_netcdfs\n",
       "</pre>\n"
      ],
      "text/plain": [
       "Entering __main__ read_netcdfs\n"
      ]
     },
     "metadata": {},
     "output_type": "display_data"
    },
    {
     "data": {
      "text/html": [
       "<pre style=\"white-space:pre;overflow-x:auto;line-height:normal;font-family:Menlo,'DejaVu Sans Mono',consolas,'Courier New',monospace\"><span style=\"color: #808000; text-decoration-color: #808000\">...</span>reading NetCDF4 from list of <span style=\"color: #008080; text-decoration-color: #008080; font-weight: bold\">10</span> files:\n",
       "</pre>\n"
      ],
      "text/plain": [
       "\u001b[33m...\u001b[0mreading NetCDF4 from list of \u001b[1;36m10\u001b[0m files:\n"
      ]
     },
     "metadata": {},
     "output_type": "display_data"
    },
    {
     "data": {
      "text/html": [
       "<pre style=\"white-space:pre;overflow-x:auto;line-height:normal;font-family:Menlo,'DejaVu Sans Mono',consolas,'Courier New',monospace\"><span style=\"color: #808000; text-decoration-color: #808000\">......</span>reading NetCDF4 <span style=\"font-weight: bold\">(</span>.<span style=\"color: #800080; text-decoration-color: #800080\">/folderOnColab/data/</span><span style=\"color: #ff00ff; text-decoration-color: #ff00ff\">20250308_gfs.t00z.atmf000.nc</span><span style=\"font-weight: bold\">)</span>\n",
       "</pre>\n"
      ],
      "text/plain": [
       "\u001b[33m...\u001b[0m\u001b[33m...\u001b[0mreading NetCDF4 \u001b[1m(\u001b[0m.\u001b[35m/folderOnColab/data/\u001b[0m\u001b[95m20250308_gfs.t00z.atmf000.nc\u001b[0m\u001b[1m)\u001b[0m\n"
      ]
     },
     "metadata": {},
     "output_type": "display_data"
    },
    {
     "data": {
      "text/html": [
       "<pre style=\"white-space:pre;overflow-x:auto;line-height:normal;font-family:Menlo,'DejaVu Sans Mono',consolas,'Courier New',monospace\"><span style=\"color: #808000; text-decoration-color: #808000\">......</span>reading NetCDF4 <span style=\"font-weight: bold\">(</span>.<span style=\"color: #800080; text-decoration-color: #800080\">/folderOnColab/data/</span><span style=\"color: #ff00ff; text-decoration-color: #ff00ff\">20250309_gfs.t00z.atmf000.nc</span><span style=\"font-weight: bold\">)</span>\n",
       "</pre>\n"
      ],
      "text/plain": [
       "\u001b[33m...\u001b[0m\u001b[33m...\u001b[0mreading NetCDF4 \u001b[1m(\u001b[0m.\u001b[35m/folderOnColab/data/\u001b[0m\u001b[95m20250309_gfs.t00z.atmf000.nc\u001b[0m\u001b[1m)\u001b[0m\n"
      ]
     },
     "metadata": {},
     "output_type": "display_data"
    },
    {
     "data": {
      "text/html": [
       "<pre style=\"white-space:pre;overflow-x:auto;line-height:normal;font-family:Menlo,'DejaVu Sans Mono',consolas,'Courier New',monospace\"><span style=\"color: #808000; text-decoration-color: #808000\">......</span>reading NetCDF4 <span style=\"font-weight: bold\">(</span>.<span style=\"color: #800080; text-decoration-color: #800080\">/folderOnColab/data/</span><span style=\"color: #ff00ff; text-decoration-color: #ff00ff\">20250310_gfs.t00z.atmf000.nc</span><span style=\"font-weight: bold\">)</span>\n",
       "</pre>\n"
      ],
      "text/plain": [
       "\u001b[33m...\u001b[0m\u001b[33m...\u001b[0mreading NetCDF4 \u001b[1m(\u001b[0m.\u001b[35m/folderOnColab/data/\u001b[0m\u001b[95m20250310_gfs.t00z.atmf000.nc\u001b[0m\u001b[1m)\u001b[0m\n"
      ]
     },
     "metadata": {},
     "output_type": "display_data"
    },
    {
     "data": {
      "text/html": [
       "<pre style=\"white-space:pre;overflow-x:auto;line-height:normal;font-family:Menlo,'DejaVu Sans Mono',consolas,'Courier New',monospace\"><span style=\"color: #808000; text-decoration-color: #808000\">......</span>reading NetCDF4 <span style=\"font-weight: bold\">(</span>.<span style=\"color: #800080; text-decoration-color: #800080\">/folderOnColab/data/</span><span style=\"color: #ff00ff; text-decoration-color: #ff00ff\">20250311_gfs.t00z.atmf000.nc</span><span style=\"font-weight: bold\">)</span>\n",
       "</pre>\n"
      ],
      "text/plain": [
       "\u001b[33m...\u001b[0m\u001b[33m...\u001b[0mreading NetCDF4 \u001b[1m(\u001b[0m.\u001b[35m/folderOnColab/data/\u001b[0m\u001b[95m20250311_gfs.t00z.atmf000.nc\u001b[0m\u001b[1m)\u001b[0m\n"
      ]
     },
     "metadata": {},
     "output_type": "display_data"
    },
    {
     "data": {
      "text/html": [
       "<pre style=\"white-space:pre;overflow-x:auto;line-height:normal;font-family:Menlo,'DejaVu Sans Mono',consolas,'Courier New',monospace\"><span style=\"color: #808000; text-decoration-color: #808000\">......</span>reading NetCDF4 <span style=\"font-weight: bold\">(</span>.<span style=\"color: #800080; text-decoration-color: #800080\">/folderOnColab/data/</span><span style=\"color: #ff00ff; text-decoration-color: #ff00ff\">20250312_gfs.t00z.atmf000.nc</span><span style=\"font-weight: bold\">)</span>\n",
       "</pre>\n"
      ],
      "text/plain": [
       "\u001b[33m...\u001b[0m\u001b[33m...\u001b[0mreading NetCDF4 \u001b[1m(\u001b[0m.\u001b[35m/folderOnColab/data/\u001b[0m\u001b[95m20250312_gfs.t00z.atmf000.nc\u001b[0m\u001b[1m)\u001b[0m\n"
      ]
     },
     "metadata": {},
     "output_type": "display_data"
    },
    {
     "data": {
      "text/html": [
       "<pre style=\"white-space:pre;overflow-x:auto;line-height:normal;font-family:Menlo,'DejaVu Sans Mono',consolas,'Courier New',monospace\"><span style=\"color: #808000; text-decoration-color: #808000\">......</span>reading NetCDF4 <span style=\"font-weight: bold\">(</span>.<span style=\"color: #800080; text-decoration-color: #800080\">/folderOnColab/data/</span><span style=\"color: #ff00ff; text-decoration-color: #ff00ff\">20250313_gfs.t00z.atmf000.nc</span><span style=\"font-weight: bold\">)</span>\n",
       "</pre>\n"
      ],
      "text/plain": [
       "\u001b[33m...\u001b[0m\u001b[33m...\u001b[0mreading NetCDF4 \u001b[1m(\u001b[0m.\u001b[35m/folderOnColab/data/\u001b[0m\u001b[95m20250313_gfs.t00z.atmf000.nc\u001b[0m\u001b[1m)\u001b[0m\n"
      ]
     },
     "metadata": {},
     "output_type": "display_data"
    },
    {
     "data": {
      "text/html": [
       "<pre style=\"white-space:pre;overflow-x:auto;line-height:normal;font-family:Menlo,'DejaVu Sans Mono',consolas,'Courier New',monospace\"><span style=\"color: #808000; text-decoration-color: #808000\">......</span>reading NetCDF4 <span style=\"font-weight: bold\">(</span>.<span style=\"color: #800080; text-decoration-color: #800080\">/folderOnColab/data/</span><span style=\"color: #ff00ff; text-decoration-color: #ff00ff\">20250314_gfs.t00z.atmf000.nc</span><span style=\"font-weight: bold\">)</span>\n",
       "</pre>\n"
      ],
      "text/plain": [
       "\u001b[33m...\u001b[0m\u001b[33m...\u001b[0mreading NetCDF4 \u001b[1m(\u001b[0m.\u001b[35m/folderOnColab/data/\u001b[0m\u001b[95m20250314_gfs.t00z.atmf000.nc\u001b[0m\u001b[1m)\u001b[0m\n"
      ]
     },
     "metadata": {},
     "output_type": "display_data"
    },
    {
     "data": {
      "text/html": [
       "<pre style=\"white-space:pre;overflow-x:auto;line-height:normal;font-family:Menlo,'DejaVu Sans Mono',consolas,'Courier New',monospace\"><span style=\"color: #808000; text-decoration-color: #808000\">......</span>reading NetCDF4 <span style=\"font-weight: bold\">(</span>.<span style=\"color: #800080; text-decoration-color: #800080\">/folderOnColab/data/</span><span style=\"color: #ff00ff; text-decoration-color: #ff00ff\">20250315_gfs.t00z.atmf000.nc</span><span style=\"font-weight: bold\">)</span>\n",
       "</pre>\n"
      ],
      "text/plain": [
       "\u001b[33m...\u001b[0m\u001b[33m...\u001b[0mreading NetCDF4 \u001b[1m(\u001b[0m.\u001b[35m/folderOnColab/data/\u001b[0m\u001b[95m20250315_gfs.t00z.atmf000.nc\u001b[0m\u001b[1m)\u001b[0m\n"
      ]
     },
     "metadata": {},
     "output_type": "display_data"
    },
    {
     "data": {
      "text/html": [
       "<pre style=\"white-space:pre;overflow-x:auto;line-height:normal;font-family:Menlo,'DejaVu Sans Mono',consolas,'Courier New',monospace\"><span style=\"color: #808000; text-decoration-color: #808000\">......</span>reading NetCDF4 <span style=\"font-weight: bold\">(</span>.<span style=\"color: #800080; text-decoration-color: #800080\">/folderOnColab/data/</span><span style=\"color: #ff00ff; text-decoration-color: #ff00ff\">20250316_gfs.t00z.atmf000.nc</span><span style=\"font-weight: bold\">)</span>\n",
       "</pre>\n"
      ],
      "text/plain": [
       "\u001b[33m...\u001b[0m\u001b[33m...\u001b[0mreading NetCDF4 \u001b[1m(\u001b[0m.\u001b[35m/folderOnColab/data/\u001b[0m\u001b[95m20250316_gfs.t00z.atmf000.nc\u001b[0m\u001b[1m)\u001b[0m\n"
      ]
     },
     "metadata": {},
     "output_type": "display_data"
    },
    {
     "data": {
      "text/html": [
       "<pre style=\"white-space:pre;overflow-x:auto;line-height:normal;font-family:Menlo,'DejaVu Sans Mono',consolas,'Courier New',monospace\"><span style=\"color: #808000; text-decoration-color: #808000\">......</span>reading NetCDF4 <span style=\"font-weight: bold\">(</span>.<span style=\"color: #800080; text-decoration-color: #800080\">/folderOnColab/data/</span><span style=\"color: #ff00ff; text-decoration-color: #ff00ff\">20250317_gfs.t00z.atmf000.nc</span><span style=\"font-weight: bold\">)</span>\n",
       "</pre>\n"
      ],
      "text/plain": [
       "\u001b[33m...\u001b[0m\u001b[33m...\u001b[0mreading NetCDF4 \u001b[1m(\u001b[0m.\u001b[35m/folderOnColab/data/\u001b[0m\u001b[95m20250317_gfs.t00z.atmf000.nc\u001b[0m\u001b[1m)\u001b[0m\n"
      ]
     },
     "metadata": {},
     "output_type": "display_data"
    },
    {
     "data": {
      "text/html": [
       "<pre style=\"white-space:pre;overflow-x:auto;line-height:normal;font-family:Menlo,'DejaVu Sans Mono',consolas,'Courier New',monospace\">Entering __main__ read_netcdfs\n",
       "</pre>\n"
      ],
      "text/plain": [
       "Entering __main__ read_netcdfs\n"
      ]
     },
     "metadata": {},
     "output_type": "display_data"
    },
    {
     "data": {
      "text/html": [
       "<pre style=\"white-space:pre;overflow-x:auto;line-height:normal;font-family:Menlo,'DejaVu Sans Mono',consolas,'Courier New',monospace\">Entering __main__ gather_variables\n",
       "</pre>\n"
      ],
      "text/plain": [
       "Entering __main__ gather_variables\n"
      ]
     },
     "metadata": {},
     "output_type": "display_data"
    },
    {
     "name": "stdout",
     "output_type": "stream",
     "text": [
      "...pulling data for and stacking it to the core data structure:\n",
      "......stacking ./folderOnColab/data/20250308_gfs.t00z.atmf000.nc\n",
      "......stacking ./folderOnColab/data/20250309_gfs.t00z.atmf000.nc\n",
      "......stacking ./folderOnColab/data/20250310_gfs.t00z.atmf000.nc\n",
      "......stacking ./folderOnColab/data/20250311_gfs.t00z.atmf000.nc\n",
      "......stacking ./folderOnColab/data/20250312_gfs.t00z.atmf000.nc\n",
      "......stacking ./folderOnColab/data/20250313_gfs.t00z.atmf000.nc\n",
      "......stacking ./folderOnColab/data/20250314_gfs.t00z.atmf000.nc\n",
      "......stacking ./folderOnColab/data/20250315_gfs.t00z.atmf000.nc\n",
      "......stacking ./folderOnColab/data/20250316_gfs.t00z.atmf000.nc\n",
      "......stacking ./folderOnColab/data/20250317_gfs.t00z.atmf000.nc\n",
      "...\u001b[1mlat        data type:         \u001b[0;0m<class 'numpy.ndarray'>\n",
      ".......shape:(47185920,)\n",
      "....datatype:float64\n",
      "...\u001b[1mlon        data type:         \u001b[0;0m<class 'numpy.ndarray'>\n",
      ".......shape:(47185920,)\n",
      "....datatype:float64\n",
      "...\u001b[1mData type           (cld_amt             )\u001b[0;0m<class 'numpy.ndarray'>\n",
      ".......shape:(47185920,)\n",
      "....datatype:float64\n"
     ]
    },
    {
     "data": {
      "text/html": [
       "<pre style=\"white-space:pre;overflow-x:auto;line-height:normal;font-family:Menlo,'DejaVu Sans Mono',consolas,'Courier New',monospace\">Exiting __main__ gather_variables\n",
       "</pre>\n"
      ],
      "text/plain": [
       "Exiting __main__ gather_variables\n"
      ]
     },
     "metadata": {},
     "output_type": "display_data"
    },
    {
     "data": {
      "text/html": [
       "<pre style=\"white-space:pre;overflow-x:auto;line-height:normal;font-family:Menlo,'DejaVu Sans Mono',consolas,'Courier New',monospace\">Entering __main__ read_netcdfs\n",
       "</pre>\n"
      ],
      "text/plain": [
       "Entering __main__ read_netcdfs\n"
      ]
     },
     "metadata": {},
     "output_type": "display_data"
    },
    {
     "data": {
      "text/html": [
       "<pre style=\"white-space:pre;overflow-x:auto;line-height:normal;font-family:Menlo,'DejaVu Sans Mono',consolas,'Courier New',monospace\"><span style=\"color: #808000; text-decoration-color: #808000\">...</span>reading NetCDF4 from list of <span style=\"color: #008080; text-decoration-color: #008080; font-weight: bold\">10</span> files:\n",
       "</pre>\n"
      ],
      "text/plain": [
       "\u001b[33m...\u001b[0mreading NetCDF4 from list of \u001b[1;36m10\u001b[0m files:\n"
      ]
     },
     "metadata": {},
     "output_type": "display_data"
    },
    {
     "data": {
      "text/html": [
       "<pre style=\"white-space:pre;overflow-x:auto;line-height:normal;font-family:Menlo,'DejaVu Sans Mono',consolas,'Courier New',monospace\"><span style=\"color: #808000; text-decoration-color: #808000\">......</span>reading NetCDF4 <span style=\"font-weight: bold\">(</span>.<span style=\"color: #800080; text-decoration-color: #800080\">/folderOnColab/data/</span><span style=\"color: #ff00ff; text-decoration-color: #ff00ff\">20250308_gfs.t00z.atmf000.nc</span><span style=\"font-weight: bold\">)</span>\n",
       "</pre>\n"
      ],
      "text/plain": [
       "\u001b[33m...\u001b[0m\u001b[33m...\u001b[0mreading NetCDF4 \u001b[1m(\u001b[0m.\u001b[35m/folderOnColab/data/\u001b[0m\u001b[95m20250308_gfs.t00z.atmf000.nc\u001b[0m\u001b[1m)\u001b[0m\n"
      ]
     },
     "metadata": {},
     "output_type": "display_data"
    },
    {
     "data": {
      "text/html": [
       "<pre style=\"white-space:pre;overflow-x:auto;line-height:normal;font-family:Menlo,'DejaVu Sans Mono',consolas,'Courier New',monospace\"><span style=\"color: #808000; text-decoration-color: #808000\">......</span>reading NetCDF4 <span style=\"font-weight: bold\">(</span>.<span style=\"color: #800080; text-decoration-color: #800080\">/folderOnColab/data/</span><span style=\"color: #ff00ff; text-decoration-color: #ff00ff\">20250309_gfs.t00z.atmf000.nc</span><span style=\"font-weight: bold\">)</span>\n",
       "</pre>\n"
      ],
      "text/plain": [
       "\u001b[33m...\u001b[0m\u001b[33m...\u001b[0mreading NetCDF4 \u001b[1m(\u001b[0m.\u001b[35m/folderOnColab/data/\u001b[0m\u001b[95m20250309_gfs.t00z.atmf000.nc\u001b[0m\u001b[1m)\u001b[0m\n"
      ]
     },
     "metadata": {},
     "output_type": "display_data"
    },
    {
     "data": {
      "text/html": [
       "<pre style=\"white-space:pre;overflow-x:auto;line-height:normal;font-family:Menlo,'DejaVu Sans Mono',consolas,'Courier New',monospace\"><span style=\"color: #808000; text-decoration-color: #808000\">......</span>reading NetCDF4 <span style=\"font-weight: bold\">(</span>.<span style=\"color: #800080; text-decoration-color: #800080\">/folderOnColab/data/</span><span style=\"color: #ff00ff; text-decoration-color: #ff00ff\">20250310_gfs.t00z.atmf000.nc</span><span style=\"font-weight: bold\">)</span>\n",
       "</pre>\n"
      ],
      "text/plain": [
       "\u001b[33m...\u001b[0m\u001b[33m...\u001b[0mreading NetCDF4 \u001b[1m(\u001b[0m.\u001b[35m/folderOnColab/data/\u001b[0m\u001b[95m20250310_gfs.t00z.atmf000.nc\u001b[0m\u001b[1m)\u001b[0m\n"
      ]
     },
     "metadata": {},
     "output_type": "display_data"
    },
    {
     "data": {
      "text/html": [
       "<pre style=\"white-space:pre;overflow-x:auto;line-height:normal;font-family:Menlo,'DejaVu Sans Mono',consolas,'Courier New',monospace\"><span style=\"color: #808000; text-decoration-color: #808000\">......</span>reading NetCDF4 <span style=\"font-weight: bold\">(</span>.<span style=\"color: #800080; text-decoration-color: #800080\">/folderOnColab/data/</span><span style=\"color: #ff00ff; text-decoration-color: #ff00ff\">20250311_gfs.t00z.atmf000.nc</span><span style=\"font-weight: bold\">)</span>\n",
       "</pre>\n"
      ],
      "text/plain": [
       "\u001b[33m...\u001b[0m\u001b[33m...\u001b[0mreading NetCDF4 \u001b[1m(\u001b[0m.\u001b[35m/folderOnColab/data/\u001b[0m\u001b[95m20250311_gfs.t00z.atmf000.nc\u001b[0m\u001b[1m)\u001b[0m\n"
      ]
     },
     "metadata": {},
     "output_type": "display_data"
    },
    {
     "data": {
      "text/html": [
       "<pre style=\"white-space:pre;overflow-x:auto;line-height:normal;font-family:Menlo,'DejaVu Sans Mono',consolas,'Courier New',monospace\"><span style=\"color: #808000; text-decoration-color: #808000\">......</span>reading NetCDF4 <span style=\"font-weight: bold\">(</span>.<span style=\"color: #800080; text-decoration-color: #800080\">/folderOnColab/data/</span><span style=\"color: #ff00ff; text-decoration-color: #ff00ff\">20250312_gfs.t00z.atmf000.nc</span><span style=\"font-weight: bold\">)</span>\n",
       "</pre>\n"
      ],
      "text/plain": [
       "\u001b[33m...\u001b[0m\u001b[33m...\u001b[0mreading NetCDF4 \u001b[1m(\u001b[0m.\u001b[35m/folderOnColab/data/\u001b[0m\u001b[95m20250312_gfs.t00z.atmf000.nc\u001b[0m\u001b[1m)\u001b[0m\n"
      ]
     },
     "metadata": {},
     "output_type": "display_data"
    },
    {
     "data": {
      "text/html": [
       "<pre style=\"white-space:pre;overflow-x:auto;line-height:normal;font-family:Menlo,'DejaVu Sans Mono',consolas,'Courier New',monospace\"><span style=\"color: #808000; text-decoration-color: #808000\">......</span>reading NetCDF4 <span style=\"font-weight: bold\">(</span>.<span style=\"color: #800080; text-decoration-color: #800080\">/folderOnColab/data/</span><span style=\"color: #ff00ff; text-decoration-color: #ff00ff\">20250313_gfs.t00z.atmf000.nc</span><span style=\"font-weight: bold\">)</span>\n",
       "</pre>\n"
      ],
      "text/plain": [
       "\u001b[33m...\u001b[0m\u001b[33m...\u001b[0mreading NetCDF4 \u001b[1m(\u001b[0m.\u001b[35m/folderOnColab/data/\u001b[0m\u001b[95m20250313_gfs.t00z.atmf000.nc\u001b[0m\u001b[1m)\u001b[0m\n"
      ]
     },
     "metadata": {},
     "output_type": "display_data"
    },
    {
     "data": {
      "text/html": [
       "<pre style=\"white-space:pre;overflow-x:auto;line-height:normal;font-family:Menlo,'DejaVu Sans Mono',consolas,'Courier New',monospace\"><span style=\"color: #808000; text-decoration-color: #808000\">......</span>reading NetCDF4 <span style=\"font-weight: bold\">(</span>.<span style=\"color: #800080; text-decoration-color: #800080\">/folderOnColab/data/</span><span style=\"color: #ff00ff; text-decoration-color: #ff00ff\">20250314_gfs.t00z.atmf000.nc</span><span style=\"font-weight: bold\">)</span>\n",
       "</pre>\n"
      ],
      "text/plain": [
       "\u001b[33m...\u001b[0m\u001b[33m...\u001b[0mreading NetCDF4 \u001b[1m(\u001b[0m.\u001b[35m/folderOnColab/data/\u001b[0m\u001b[95m20250314_gfs.t00z.atmf000.nc\u001b[0m\u001b[1m)\u001b[0m\n"
      ]
     },
     "metadata": {},
     "output_type": "display_data"
    },
    {
     "data": {
      "text/html": [
       "<pre style=\"white-space:pre;overflow-x:auto;line-height:normal;font-family:Menlo,'DejaVu Sans Mono',consolas,'Courier New',monospace\"><span style=\"color: #808000; text-decoration-color: #808000\">......</span>reading NetCDF4 <span style=\"font-weight: bold\">(</span>.<span style=\"color: #800080; text-decoration-color: #800080\">/folderOnColab/data/</span><span style=\"color: #ff00ff; text-decoration-color: #ff00ff\">20250315_gfs.t00z.atmf000.nc</span><span style=\"font-weight: bold\">)</span>\n",
       "</pre>\n"
      ],
      "text/plain": [
       "\u001b[33m...\u001b[0m\u001b[33m...\u001b[0mreading NetCDF4 \u001b[1m(\u001b[0m.\u001b[35m/folderOnColab/data/\u001b[0m\u001b[95m20250315_gfs.t00z.atmf000.nc\u001b[0m\u001b[1m)\u001b[0m\n"
      ]
     },
     "metadata": {},
     "output_type": "display_data"
    },
    {
     "data": {
      "text/html": [
       "<pre style=\"white-space:pre;overflow-x:auto;line-height:normal;font-family:Menlo,'DejaVu Sans Mono',consolas,'Courier New',monospace\"><span style=\"color: #808000; text-decoration-color: #808000\">......</span>reading NetCDF4 <span style=\"font-weight: bold\">(</span>.<span style=\"color: #800080; text-decoration-color: #800080\">/folderOnColab/data/</span><span style=\"color: #ff00ff; text-decoration-color: #ff00ff\">20250316_gfs.t00z.atmf000.nc</span><span style=\"font-weight: bold\">)</span>\n",
       "</pre>\n"
      ],
      "text/plain": [
       "\u001b[33m...\u001b[0m\u001b[33m...\u001b[0mreading NetCDF4 \u001b[1m(\u001b[0m.\u001b[35m/folderOnColab/data/\u001b[0m\u001b[95m20250316_gfs.t00z.atmf000.nc\u001b[0m\u001b[1m)\u001b[0m\n"
      ]
     },
     "metadata": {},
     "output_type": "display_data"
    },
    {
     "data": {
      "text/html": [
       "<pre style=\"white-space:pre;overflow-x:auto;line-height:normal;font-family:Menlo,'DejaVu Sans Mono',consolas,'Courier New',monospace\"><span style=\"color: #808000; text-decoration-color: #808000\">......</span>reading NetCDF4 <span style=\"font-weight: bold\">(</span>.<span style=\"color: #800080; text-decoration-color: #800080\">/folderOnColab/data/</span><span style=\"color: #ff00ff; text-decoration-color: #ff00ff\">20250317_gfs.t00z.atmf000.nc</span><span style=\"font-weight: bold\">)</span>\n",
       "</pre>\n"
      ],
      "text/plain": [
       "\u001b[33m...\u001b[0m\u001b[33m...\u001b[0mreading NetCDF4 \u001b[1m(\u001b[0m.\u001b[35m/folderOnColab/data/\u001b[0m\u001b[95m20250317_gfs.t00z.atmf000.nc\u001b[0m\u001b[1m)\u001b[0m\n"
      ]
     },
     "metadata": {},
     "output_type": "display_data"
    },
    {
     "data": {
      "text/html": [
       "<pre style=\"white-space:pre;overflow-x:auto;line-height:normal;font-family:Menlo,'DejaVu Sans Mono',consolas,'Courier New',monospace\">Entering __main__ read_netcdfs\n",
       "</pre>\n"
      ],
      "text/plain": [
       "Entering __main__ read_netcdfs\n"
      ]
     },
     "metadata": {},
     "output_type": "display_data"
    },
    {
     "data": {
      "text/html": [
       "<pre style=\"white-space:pre;overflow-x:auto;line-height:normal;font-family:Menlo,'DejaVu Sans Mono',consolas,'Courier New',monospace\">Entering __main__ gather_variables\n",
       "</pre>\n"
      ],
      "text/plain": [
       "Entering __main__ gather_variables\n"
      ]
     },
     "metadata": {},
     "output_type": "display_data"
    },
    {
     "name": "stdout",
     "output_type": "stream",
     "text": [
      "...pulling data for and stacking it to the core data structure:\n",
      "......stacking ./folderOnColab/data/20250308_gfs.t00z.atmf000.nc\n",
      "......stacking ./folderOnColab/data/20250309_gfs.t00z.atmf000.nc\n",
      "......stacking ./folderOnColab/data/20250310_gfs.t00z.atmf000.nc\n",
      "......stacking ./folderOnColab/data/20250311_gfs.t00z.atmf000.nc\n",
      "......stacking ./folderOnColab/data/20250312_gfs.t00z.atmf000.nc\n",
      "......stacking ./folderOnColab/data/20250313_gfs.t00z.atmf000.nc\n",
      "......stacking ./folderOnColab/data/20250314_gfs.t00z.atmf000.nc\n",
      "......stacking ./folderOnColab/data/20250315_gfs.t00z.atmf000.nc\n",
      "......stacking ./folderOnColab/data/20250316_gfs.t00z.atmf000.nc\n",
      "......stacking ./folderOnColab/data/20250317_gfs.t00z.atmf000.nc\n",
      "...\u001b[1mlat        data type:         \u001b[0;0m<class 'numpy.ndarray'>\n",
      ".......shape:(47185920,)\n",
      "....datatype:float64\n",
      "...\u001b[1mlon        data type:         \u001b[0;0m<class 'numpy.ndarray'>\n",
      ".......shape:(47185920,)\n",
      "....datatype:float64\n",
      "...\u001b[1mData type           (cld_amt             )\u001b[0;0m<class 'numpy.ndarray'>\n",
      ".......shape:(47185920,)\n",
      "....datatype:float64\n"
     ]
    },
    {
     "data": {
      "text/html": [
       "<pre style=\"white-space:pre;overflow-x:auto;line-height:normal;font-family:Menlo,'DejaVu Sans Mono',consolas,'Courier New',monospace\">Exiting __main__ gather_variables\n",
       "</pre>\n"
      ],
      "text/plain": [
       "Exiting __main__ gather_variables\n"
      ]
     },
     "metadata": {},
     "output_type": "display_data"
    },
    {
     "data": {
      "text/html": [
       "<pre style=\"white-space:pre;overflow-x:auto;line-height:normal;font-family:Menlo,'DejaVu Sans Mono',consolas,'Courier New',monospace\">Entering __main__ read_netcdfs\n",
       "</pre>\n"
      ],
      "text/plain": [
       "Entering __main__ read_netcdfs\n"
      ]
     },
     "metadata": {},
     "output_type": "display_data"
    },
    {
     "data": {
      "text/html": [
       "<pre style=\"white-space:pre;overflow-x:auto;line-height:normal;font-family:Menlo,'DejaVu Sans Mono',consolas,'Courier New',monospace\"><span style=\"color: #808000; text-decoration-color: #808000\">...</span>reading NetCDF4 from list of <span style=\"color: #008080; text-decoration-color: #008080; font-weight: bold\">10</span> files:\n",
       "</pre>\n"
      ],
      "text/plain": [
       "\u001b[33m...\u001b[0mreading NetCDF4 from list of \u001b[1;36m10\u001b[0m files:\n"
      ]
     },
     "metadata": {},
     "output_type": "display_data"
    },
    {
     "data": {
      "text/html": [
       "<pre style=\"white-space:pre;overflow-x:auto;line-height:normal;font-family:Menlo,'DejaVu Sans Mono',consolas,'Courier New',monospace\"><span style=\"color: #808000; text-decoration-color: #808000\">......</span>reading NetCDF4 <span style=\"font-weight: bold\">(</span>.<span style=\"color: #800080; text-decoration-color: #800080\">/folderOnColab/data/</span><span style=\"color: #ff00ff; text-decoration-color: #ff00ff\">20250308_gfs.t00z.atmf000.nc</span><span style=\"font-weight: bold\">)</span>\n",
       "</pre>\n"
      ],
      "text/plain": [
       "\u001b[33m...\u001b[0m\u001b[33m...\u001b[0mreading NetCDF4 \u001b[1m(\u001b[0m.\u001b[35m/folderOnColab/data/\u001b[0m\u001b[95m20250308_gfs.t00z.atmf000.nc\u001b[0m\u001b[1m)\u001b[0m\n"
      ]
     },
     "metadata": {},
     "output_type": "display_data"
    },
    {
     "data": {
      "text/html": [
       "<pre style=\"white-space:pre;overflow-x:auto;line-height:normal;font-family:Menlo,'DejaVu Sans Mono',consolas,'Courier New',monospace\"><span style=\"color: #808000; text-decoration-color: #808000\">......</span>reading NetCDF4 <span style=\"font-weight: bold\">(</span>.<span style=\"color: #800080; text-decoration-color: #800080\">/folderOnColab/data/</span><span style=\"color: #ff00ff; text-decoration-color: #ff00ff\">20250309_gfs.t00z.atmf000.nc</span><span style=\"font-weight: bold\">)</span>\n",
       "</pre>\n"
      ],
      "text/plain": [
       "\u001b[33m...\u001b[0m\u001b[33m...\u001b[0mreading NetCDF4 \u001b[1m(\u001b[0m.\u001b[35m/folderOnColab/data/\u001b[0m\u001b[95m20250309_gfs.t00z.atmf000.nc\u001b[0m\u001b[1m)\u001b[0m\n"
      ]
     },
     "metadata": {},
     "output_type": "display_data"
    },
    {
     "data": {
      "text/html": [
       "<pre style=\"white-space:pre;overflow-x:auto;line-height:normal;font-family:Menlo,'DejaVu Sans Mono',consolas,'Courier New',monospace\"><span style=\"color: #808000; text-decoration-color: #808000\">......</span>reading NetCDF4 <span style=\"font-weight: bold\">(</span>.<span style=\"color: #800080; text-decoration-color: #800080\">/folderOnColab/data/</span><span style=\"color: #ff00ff; text-decoration-color: #ff00ff\">20250310_gfs.t00z.atmf000.nc</span><span style=\"font-weight: bold\">)</span>\n",
       "</pre>\n"
      ],
      "text/plain": [
       "\u001b[33m...\u001b[0m\u001b[33m...\u001b[0mreading NetCDF4 \u001b[1m(\u001b[0m.\u001b[35m/folderOnColab/data/\u001b[0m\u001b[95m20250310_gfs.t00z.atmf000.nc\u001b[0m\u001b[1m)\u001b[0m\n"
      ]
     },
     "metadata": {},
     "output_type": "display_data"
    },
    {
     "data": {
      "text/html": [
       "<pre style=\"white-space:pre;overflow-x:auto;line-height:normal;font-family:Menlo,'DejaVu Sans Mono',consolas,'Courier New',monospace\"><span style=\"color: #808000; text-decoration-color: #808000\">......</span>reading NetCDF4 <span style=\"font-weight: bold\">(</span>.<span style=\"color: #800080; text-decoration-color: #800080\">/folderOnColab/data/</span><span style=\"color: #ff00ff; text-decoration-color: #ff00ff\">20250311_gfs.t00z.atmf000.nc</span><span style=\"font-weight: bold\">)</span>\n",
       "</pre>\n"
      ],
      "text/plain": [
       "\u001b[33m...\u001b[0m\u001b[33m...\u001b[0mreading NetCDF4 \u001b[1m(\u001b[0m.\u001b[35m/folderOnColab/data/\u001b[0m\u001b[95m20250311_gfs.t00z.atmf000.nc\u001b[0m\u001b[1m)\u001b[0m\n"
      ]
     },
     "metadata": {},
     "output_type": "display_data"
    },
    {
     "data": {
      "text/html": [
       "<pre style=\"white-space:pre;overflow-x:auto;line-height:normal;font-family:Menlo,'DejaVu Sans Mono',consolas,'Courier New',monospace\"><span style=\"color: #808000; text-decoration-color: #808000\">......</span>reading NetCDF4 <span style=\"font-weight: bold\">(</span>.<span style=\"color: #800080; text-decoration-color: #800080\">/folderOnColab/data/</span><span style=\"color: #ff00ff; text-decoration-color: #ff00ff\">20250312_gfs.t00z.atmf000.nc</span><span style=\"font-weight: bold\">)</span>\n",
       "</pre>\n"
      ],
      "text/plain": [
       "\u001b[33m...\u001b[0m\u001b[33m...\u001b[0mreading NetCDF4 \u001b[1m(\u001b[0m.\u001b[35m/folderOnColab/data/\u001b[0m\u001b[95m20250312_gfs.t00z.atmf000.nc\u001b[0m\u001b[1m)\u001b[0m\n"
      ]
     },
     "metadata": {},
     "output_type": "display_data"
    },
    {
     "data": {
      "text/html": [
       "<pre style=\"white-space:pre;overflow-x:auto;line-height:normal;font-family:Menlo,'DejaVu Sans Mono',consolas,'Courier New',monospace\"><span style=\"color: #808000; text-decoration-color: #808000\">......</span>reading NetCDF4 <span style=\"font-weight: bold\">(</span>.<span style=\"color: #800080; text-decoration-color: #800080\">/folderOnColab/data/</span><span style=\"color: #ff00ff; text-decoration-color: #ff00ff\">20250313_gfs.t00z.atmf000.nc</span><span style=\"font-weight: bold\">)</span>\n",
       "</pre>\n"
      ],
      "text/plain": [
       "\u001b[33m...\u001b[0m\u001b[33m...\u001b[0mreading NetCDF4 \u001b[1m(\u001b[0m.\u001b[35m/folderOnColab/data/\u001b[0m\u001b[95m20250313_gfs.t00z.atmf000.nc\u001b[0m\u001b[1m)\u001b[0m\n"
      ]
     },
     "metadata": {},
     "output_type": "display_data"
    },
    {
     "data": {
      "text/html": [
       "<pre style=\"white-space:pre;overflow-x:auto;line-height:normal;font-family:Menlo,'DejaVu Sans Mono',consolas,'Courier New',monospace\"><span style=\"color: #808000; text-decoration-color: #808000\">......</span>reading NetCDF4 <span style=\"font-weight: bold\">(</span>.<span style=\"color: #800080; text-decoration-color: #800080\">/folderOnColab/data/</span><span style=\"color: #ff00ff; text-decoration-color: #ff00ff\">20250314_gfs.t00z.atmf000.nc</span><span style=\"font-weight: bold\">)</span>\n",
       "</pre>\n"
      ],
      "text/plain": [
       "\u001b[33m...\u001b[0m\u001b[33m...\u001b[0mreading NetCDF4 \u001b[1m(\u001b[0m.\u001b[35m/folderOnColab/data/\u001b[0m\u001b[95m20250314_gfs.t00z.atmf000.nc\u001b[0m\u001b[1m)\u001b[0m\n"
      ]
     },
     "metadata": {},
     "output_type": "display_data"
    },
    {
     "data": {
      "text/html": [
       "<pre style=\"white-space:pre;overflow-x:auto;line-height:normal;font-family:Menlo,'DejaVu Sans Mono',consolas,'Courier New',monospace\"><span style=\"color: #808000; text-decoration-color: #808000\">......</span>reading NetCDF4 <span style=\"font-weight: bold\">(</span>.<span style=\"color: #800080; text-decoration-color: #800080\">/folderOnColab/data/</span><span style=\"color: #ff00ff; text-decoration-color: #ff00ff\">20250315_gfs.t00z.atmf000.nc</span><span style=\"font-weight: bold\">)</span>\n",
       "</pre>\n"
      ],
      "text/plain": [
       "\u001b[33m...\u001b[0m\u001b[33m...\u001b[0mreading NetCDF4 \u001b[1m(\u001b[0m.\u001b[35m/folderOnColab/data/\u001b[0m\u001b[95m20250315_gfs.t00z.atmf000.nc\u001b[0m\u001b[1m)\u001b[0m\n"
      ]
     },
     "metadata": {},
     "output_type": "display_data"
    },
    {
     "data": {
      "text/html": [
       "<pre style=\"white-space:pre;overflow-x:auto;line-height:normal;font-family:Menlo,'DejaVu Sans Mono',consolas,'Courier New',monospace\"><span style=\"color: #808000; text-decoration-color: #808000\">......</span>reading NetCDF4 <span style=\"font-weight: bold\">(</span>.<span style=\"color: #800080; text-decoration-color: #800080\">/folderOnColab/data/</span><span style=\"color: #ff00ff; text-decoration-color: #ff00ff\">20250316_gfs.t00z.atmf000.nc</span><span style=\"font-weight: bold\">)</span>\n",
       "</pre>\n"
      ],
      "text/plain": [
       "\u001b[33m...\u001b[0m\u001b[33m...\u001b[0mreading NetCDF4 \u001b[1m(\u001b[0m.\u001b[35m/folderOnColab/data/\u001b[0m\u001b[95m20250316_gfs.t00z.atmf000.nc\u001b[0m\u001b[1m)\u001b[0m\n"
      ]
     },
     "metadata": {},
     "output_type": "display_data"
    },
    {
     "data": {
      "text/html": [
       "<pre style=\"white-space:pre;overflow-x:auto;line-height:normal;font-family:Menlo,'DejaVu Sans Mono',consolas,'Courier New',monospace\"><span style=\"color: #808000; text-decoration-color: #808000\">......</span>reading NetCDF4 <span style=\"font-weight: bold\">(</span>.<span style=\"color: #800080; text-decoration-color: #800080\">/folderOnColab/data/</span><span style=\"color: #ff00ff; text-decoration-color: #ff00ff\">20250317_gfs.t00z.atmf000.nc</span><span style=\"font-weight: bold\">)</span>\n",
       "</pre>\n"
      ],
      "text/plain": [
       "\u001b[33m...\u001b[0m\u001b[33m...\u001b[0mreading NetCDF4 \u001b[1m(\u001b[0m.\u001b[35m/folderOnColab/data/\u001b[0m\u001b[95m20250317_gfs.t00z.atmf000.nc\u001b[0m\u001b[1m)\u001b[0m\n"
      ]
     },
     "metadata": {},
     "output_type": "display_data"
    },
    {
     "data": {
      "text/html": [
       "<pre style=\"white-space:pre;overflow-x:auto;line-height:normal;font-family:Menlo,'DejaVu Sans Mono',consolas,'Courier New',monospace\">Entering __main__ read_netcdfs\n",
       "</pre>\n"
      ],
      "text/plain": [
       "Entering __main__ read_netcdfs\n"
      ]
     },
     "metadata": {},
     "output_type": "display_data"
    },
    {
     "data": {
      "text/html": [
       "<pre style=\"white-space:pre;overflow-x:auto;line-height:normal;font-family:Menlo,'DejaVu Sans Mono',consolas,'Courier New',monospace\">Entering __main__ gather_variables\n",
       "</pre>\n"
      ],
      "text/plain": [
       "Entering __main__ gather_variables\n"
      ]
     },
     "metadata": {},
     "output_type": "display_data"
    },
    {
     "name": "stdout",
     "output_type": "stream",
     "text": [
      "...pulling data for and stacking it to the core data structure:\n",
      "......stacking ./folderOnColab/data/20250308_gfs.t00z.atmf000.nc\n",
      "......stacking ./folderOnColab/data/20250309_gfs.t00z.atmf000.nc\n",
      "......stacking ./folderOnColab/data/20250310_gfs.t00z.atmf000.nc\n",
      "......stacking ./folderOnColab/data/20250311_gfs.t00z.atmf000.nc\n",
      "......stacking ./folderOnColab/data/20250312_gfs.t00z.atmf000.nc\n",
      "......stacking ./folderOnColab/data/20250313_gfs.t00z.atmf000.nc\n",
      "......stacking ./folderOnColab/data/20250314_gfs.t00z.atmf000.nc\n",
      "......stacking ./folderOnColab/data/20250315_gfs.t00z.atmf000.nc\n",
      "......stacking ./folderOnColab/data/20250316_gfs.t00z.atmf000.nc\n",
      "......stacking ./folderOnColab/data/20250317_gfs.t00z.atmf000.nc\n",
      "...\u001b[1mlat        data type:         \u001b[0;0m<class 'numpy.ndarray'>\n",
      ".......shape:(47185920,)\n",
      "....datatype:float64\n",
      "...\u001b[1mlon        data type:         \u001b[0;0m<class 'numpy.ndarray'>\n",
      ".......shape:(47185920,)\n",
      "....datatype:float64\n",
      "...\u001b[1mData type           (cld_amt             )\u001b[0;0m<class 'numpy.ndarray'>\n",
      ".......shape:(47185920,)\n",
      "....datatype:float64\n"
     ]
    },
    {
     "data": {
      "text/html": [
       "<pre style=\"white-space:pre;overflow-x:auto;line-height:normal;font-family:Menlo,'DejaVu Sans Mono',consolas,'Courier New',monospace\">Exiting __main__ gather_variables\n",
       "</pre>\n"
      ],
      "text/plain": [
       "Exiting __main__ gather_variables\n"
      ]
     },
     "metadata": {},
     "output_type": "display_data"
    },
    {
     "data": {
      "text/html": [
       "<pre style=\"white-space:pre;overflow-x:auto;line-height:normal;font-family:Menlo,'DejaVu Sans Mono',consolas,'Courier New',monospace\">Entering __main__ read_netcdfs\n",
       "</pre>\n"
      ],
      "text/plain": [
       "Entering __main__ read_netcdfs\n"
      ]
     },
     "metadata": {},
     "output_type": "display_data"
    },
    {
     "data": {
      "text/html": [
       "<pre style=\"white-space:pre;overflow-x:auto;line-height:normal;font-family:Menlo,'DejaVu Sans Mono',consolas,'Courier New',monospace\"><span style=\"color: #808000; text-decoration-color: #808000\">...</span>reading NetCDF4 from list of <span style=\"color: #008080; text-decoration-color: #008080; font-weight: bold\">10</span> files:\n",
       "</pre>\n"
      ],
      "text/plain": [
       "\u001b[33m...\u001b[0mreading NetCDF4 from list of \u001b[1;36m10\u001b[0m files:\n"
      ]
     },
     "metadata": {},
     "output_type": "display_data"
    },
    {
     "data": {
      "text/html": [
       "<pre style=\"white-space:pre;overflow-x:auto;line-height:normal;font-family:Menlo,'DejaVu Sans Mono',consolas,'Courier New',monospace\"><span style=\"color: #808000; text-decoration-color: #808000\">......</span>reading NetCDF4 <span style=\"font-weight: bold\">(</span>.<span style=\"color: #800080; text-decoration-color: #800080\">/folderOnColab/data/</span><span style=\"color: #ff00ff; text-decoration-color: #ff00ff\">20250308_gfs.t00z.atmf000.nc</span><span style=\"font-weight: bold\">)</span>\n",
       "</pre>\n"
      ],
      "text/plain": [
       "\u001b[33m...\u001b[0m\u001b[33m...\u001b[0mreading NetCDF4 \u001b[1m(\u001b[0m.\u001b[35m/folderOnColab/data/\u001b[0m\u001b[95m20250308_gfs.t00z.atmf000.nc\u001b[0m\u001b[1m)\u001b[0m\n"
      ]
     },
     "metadata": {},
     "output_type": "display_data"
    },
    {
     "data": {
      "text/html": [
       "<pre style=\"white-space:pre;overflow-x:auto;line-height:normal;font-family:Menlo,'DejaVu Sans Mono',consolas,'Courier New',monospace\"><span style=\"color: #808000; text-decoration-color: #808000\">......</span>reading NetCDF4 <span style=\"font-weight: bold\">(</span>.<span style=\"color: #800080; text-decoration-color: #800080\">/folderOnColab/data/</span><span style=\"color: #ff00ff; text-decoration-color: #ff00ff\">20250309_gfs.t00z.atmf000.nc</span><span style=\"font-weight: bold\">)</span>\n",
       "</pre>\n"
      ],
      "text/plain": [
       "\u001b[33m...\u001b[0m\u001b[33m...\u001b[0mreading NetCDF4 \u001b[1m(\u001b[0m.\u001b[35m/folderOnColab/data/\u001b[0m\u001b[95m20250309_gfs.t00z.atmf000.nc\u001b[0m\u001b[1m)\u001b[0m\n"
      ]
     },
     "metadata": {},
     "output_type": "display_data"
    },
    {
     "data": {
      "text/html": [
       "<pre style=\"white-space:pre;overflow-x:auto;line-height:normal;font-family:Menlo,'DejaVu Sans Mono',consolas,'Courier New',monospace\"><span style=\"color: #808000; text-decoration-color: #808000\">......</span>reading NetCDF4 <span style=\"font-weight: bold\">(</span>.<span style=\"color: #800080; text-decoration-color: #800080\">/folderOnColab/data/</span><span style=\"color: #ff00ff; text-decoration-color: #ff00ff\">20250310_gfs.t00z.atmf000.nc</span><span style=\"font-weight: bold\">)</span>\n",
       "</pre>\n"
      ],
      "text/plain": [
       "\u001b[33m...\u001b[0m\u001b[33m...\u001b[0mreading NetCDF4 \u001b[1m(\u001b[0m.\u001b[35m/folderOnColab/data/\u001b[0m\u001b[95m20250310_gfs.t00z.atmf000.nc\u001b[0m\u001b[1m)\u001b[0m\n"
      ]
     },
     "metadata": {},
     "output_type": "display_data"
    },
    {
     "data": {
      "text/html": [
       "<pre style=\"white-space:pre;overflow-x:auto;line-height:normal;font-family:Menlo,'DejaVu Sans Mono',consolas,'Courier New',monospace\"><span style=\"color: #808000; text-decoration-color: #808000\">......</span>reading NetCDF4 <span style=\"font-weight: bold\">(</span>.<span style=\"color: #800080; text-decoration-color: #800080\">/folderOnColab/data/</span><span style=\"color: #ff00ff; text-decoration-color: #ff00ff\">20250311_gfs.t00z.atmf000.nc</span><span style=\"font-weight: bold\">)</span>\n",
       "</pre>\n"
      ],
      "text/plain": [
       "\u001b[33m...\u001b[0m\u001b[33m...\u001b[0mreading NetCDF4 \u001b[1m(\u001b[0m.\u001b[35m/folderOnColab/data/\u001b[0m\u001b[95m20250311_gfs.t00z.atmf000.nc\u001b[0m\u001b[1m)\u001b[0m\n"
      ]
     },
     "metadata": {},
     "output_type": "display_data"
    },
    {
     "data": {
      "text/html": [
       "<pre style=\"white-space:pre;overflow-x:auto;line-height:normal;font-family:Menlo,'DejaVu Sans Mono',consolas,'Courier New',monospace\"><span style=\"color: #808000; text-decoration-color: #808000\">......</span>reading NetCDF4 <span style=\"font-weight: bold\">(</span>.<span style=\"color: #800080; text-decoration-color: #800080\">/folderOnColab/data/</span><span style=\"color: #ff00ff; text-decoration-color: #ff00ff\">20250312_gfs.t00z.atmf000.nc</span><span style=\"font-weight: bold\">)</span>\n",
       "</pre>\n"
      ],
      "text/plain": [
       "\u001b[33m...\u001b[0m\u001b[33m...\u001b[0mreading NetCDF4 \u001b[1m(\u001b[0m.\u001b[35m/folderOnColab/data/\u001b[0m\u001b[95m20250312_gfs.t00z.atmf000.nc\u001b[0m\u001b[1m)\u001b[0m\n"
      ]
     },
     "metadata": {},
     "output_type": "display_data"
    },
    {
     "data": {
      "text/html": [
       "<pre style=\"white-space:pre;overflow-x:auto;line-height:normal;font-family:Menlo,'DejaVu Sans Mono',consolas,'Courier New',monospace\"><span style=\"color: #808000; text-decoration-color: #808000\">......</span>reading NetCDF4 <span style=\"font-weight: bold\">(</span>.<span style=\"color: #800080; text-decoration-color: #800080\">/folderOnColab/data/</span><span style=\"color: #ff00ff; text-decoration-color: #ff00ff\">20250313_gfs.t00z.atmf000.nc</span><span style=\"font-weight: bold\">)</span>\n",
       "</pre>\n"
      ],
      "text/plain": [
       "\u001b[33m...\u001b[0m\u001b[33m...\u001b[0mreading NetCDF4 \u001b[1m(\u001b[0m.\u001b[35m/folderOnColab/data/\u001b[0m\u001b[95m20250313_gfs.t00z.atmf000.nc\u001b[0m\u001b[1m)\u001b[0m\n"
      ]
     },
     "metadata": {},
     "output_type": "display_data"
    },
    {
     "data": {
      "text/html": [
       "<pre style=\"white-space:pre;overflow-x:auto;line-height:normal;font-family:Menlo,'DejaVu Sans Mono',consolas,'Courier New',monospace\"><span style=\"color: #808000; text-decoration-color: #808000\">......</span>reading NetCDF4 <span style=\"font-weight: bold\">(</span>.<span style=\"color: #800080; text-decoration-color: #800080\">/folderOnColab/data/</span><span style=\"color: #ff00ff; text-decoration-color: #ff00ff\">20250314_gfs.t00z.atmf000.nc</span><span style=\"font-weight: bold\">)</span>\n",
       "</pre>\n"
      ],
      "text/plain": [
       "\u001b[33m...\u001b[0m\u001b[33m...\u001b[0mreading NetCDF4 \u001b[1m(\u001b[0m.\u001b[35m/folderOnColab/data/\u001b[0m\u001b[95m20250314_gfs.t00z.atmf000.nc\u001b[0m\u001b[1m)\u001b[0m\n"
      ]
     },
     "metadata": {},
     "output_type": "display_data"
    },
    {
     "data": {
      "text/html": [
       "<pre style=\"white-space:pre;overflow-x:auto;line-height:normal;font-family:Menlo,'DejaVu Sans Mono',consolas,'Courier New',monospace\"><span style=\"color: #808000; text-decoration-color: #808000\">......</span>reading NetCDF4 <span style=\"font-weight: bold\">(</span>.<span style=\"color: #800080; text-decoration-color: #800080\">/folderOnColab/data/</span><span style=\"color: #ff00ff; text-decoration-color: #ff00ff\">20250315_gfs.t00z.atmf000.nc</span><span style=\"font-weight: bold\">)</span>\n",
       "</pre>\n"
      ],
      "text/plain": [
       "\u001b[33m...\u001b[0m\u001b[33m...\u001b[0mreading NetCDF4 \u001b[1m(\u001b[0m.\u001b[35m/folderOnColab/data/\u001b[0m\u001b[95m20250315_gfs.t00z.atmf000.nc\u001b[0m\u001b[1m)\u001b[0m\n"
      ]
     },
     "metadata": {},
     "output_type": "display_data"
    },
    {
     "data": {
      "text/html": [
       "<pre style=\"white-space:pre;overflow-x:auto;line-height:normal;font-family:Menlo,'DejaVu Sans Mono',consolas,'Courier New',monospace\"><span style=\"color: #808000; text-decoration-color: #808000\">......</span>reading NetCDF4 <span style=\"font-weight: bold\">(</span>.<span style=\"color: #800080; text-decoration-color: #800080\">/folderOnColab/data/</span><span style=\"color: #ff00ff; text-decoration-color: #ff00ff\">20250316_gfs.t00z.atmf000.nc</span><span style=\"font-weight: bold\">)</span>\n",
       "</pre>\n"
      ],
      "text/plain": [
       "\u001b[33m...\u001b[0m\u001b[33m...\u001b[0mreading NetCDF4 \u001b[1m(\u001b[0m.\u001b[35m/folderOnColab/data/\u001b[0m\u001b[95m20250316_gfs.t00z.atmf000.nc\u001b[0m\u001b[1m)\u001b[0m\n"
      ]
     },
     "metadata": {},
     "output_type": "display_data"
    },
    {
     "data": {
      "text/html": [
       "<pre style=\"white-space:pre;overflow-x:auto;line-height:normal;font-family:Menlo,'DejaVu Sans Mono',consolas,'Courier New',monospace\"><span style=\"color: #808000; text-decoration-color: #808000\">......</span>reading NetCDF4 <span style=\"font-weight: bold\">(</span>.<span style=\"color: #800080; text-decoration-color: #800080\">/folderOnColab/data/</span><span style=\"color: #ff00ff; text-decoration-color: #ff00ff\">20250317_gfs.t00z.atmf000.nc</span><span style=\"font-weight: bold\">)</span>\n",
       "</pre>\n"
      ],
      "text/plain": [
       "\u001b[33m...\u001b[0m\u001b[33m...\u001b[0mreading NetCDF4 \u001b[1m(\u001b[0m.\u001b[35m/folderOnColab/data/\u001b[0m\u001b[95m20250317_gfs.t00z.atmf000.nc\u001b[0m\u001b[1m)\u001b[0m\n"
      ]
     },
     "metadata": {},
     "output_type": "display_data"
    },
    {
     "data": {
      "text/html": [
       "<pre style=\"white-space:pre;overflow-x:auto;line-height:normal;font-family:Menlo,'DejaVu Sans Mono',consolas,'Courier New',monospace\">Entering __main__ read_netcdfs\n",
       "</pre>\n"
      ],
      "text/plain": [
       "Entering __main__ read_netcdfs\n"
      ]
     },
     "metadata": {},
     "output_type": "display_data"
    },
    {
     "data": {
      "text/html": [
       "<pre style=\"white-space:pre;overflow-x:auto;line-height:normal;font-family:Menlo,'DejaVu Sans Mono',consolas,'Courier New',monospace\">Entering __main__ gather_variables\n",
       "</pre>\n"
      ],
      "text/plain": [
       "Entering __main__ gather_variables\n"
      ]
     },
     "metadata": {},
     "output_type": "display_data"
    },
    {
     "name": "stdout",
     "output_type": "stream",
     "text": [
      "...pulling data for and stacking it to the core data structure:\n",
      "......stacking ./folderOnColab/data/20250308_gfs.t00z.atmf000.nc\n",
      "......stacking ./folderOnColab/data/20250309_gfs.t00z.atmf000.nc\n",
      "......stacking ./folderOnColab/data/20250310_gfs.t00z.atmf000.nc\n",
      "......stacking ./folderOnColab/data/20250311_gfs.t00z.atmf000.nc\n",
      "......stacking ./folderOnColab/data/20250312_gfs.t00z.atmf000.nc\n",
      "......stacking ./folderOnColab/data/20250313_gfs.t00z.atmf000.nc\n",
      "......stacking ./folderOnColab/data/20250314_gfs.t00z.atmf000.nc\n",
      "......stacking ./folderOnColab/data/20250315_gfs.t00z.atmf000.nc\n",
      "......stacking ./folderOnColab/data/20250316_gfs.t00z.atmf000.nc\n",
      "......stacking ./folderOnColab/data/20250317_gfs.t00z.atmf000.nc\n",
      "...\u001b[1mlat        data type:         \u001b[0;0m<class 'numpy.ndarray'>\n",
      ".......shape:(47185920,)\n",
      "....datatype:float64\n",
      "...\u001b[1mlon        data type:         \u001b[0;0m<class 'numpy.ndarray'>\n",
      ".......shape:(47185920,)\n",
      "....datatype:float64\n",
      "...\u001b[1mData type           (cld_amt             )\u001b[0;0m<class 'numpy.ndarray'>\n",
      ".......shape:(47185920,)\n",
      "....datatype:float64\n"
     ]
    },
    {
     "data": {
      "text/html": [
       "<pre style=\"white-space:pre;overflow-x:auto;line-height:normal;font-family:Menlo,'DejaVu Sans Mono',consolas,'Courier New',monospace\">Exiting __main__ gather_variables\n",
       "</pre>\n"
      ],
      "text/plain": [
       "Exiting __main__ gather_variables\n"
      ]
     },
     "metadata": {},
     "output_type": "display_data"
    },
    {
     "data": {
      "text/html": [
       "<pre style=\"white-space:pre;overflow-x:auto;line-height:normal;font-family:Menlo,'DejaVu Sans Mono',consolas,'Courier New',monospace\">Entering __main__ read_netcdfs\n",
       "</pre>\n"
      ],
      "text/plain": [
       "Entering __main__ read_netcdfs\n"
      ]
     },
     "metadata": {},
     "output_type": "display_data"
    },
    {
     "data": {
      "text/html": [
       "<pre style=\"white-space:pre;overflow-x:auto;line-height:normal;font-family:Menlo,'DejaVu Sans Mono',consolas,'Courier New',monospace\"><span style=\"color: #808000; text-decoration-color: #808000\">...</span>reading NetCDF4 from list of <span style=\"color: #008080; text-decoration-color: #008080; font-weight: bold\">10</span> files:\n",
       "</pre>\n"
      ],
      "text/plain": [
       "\u001b[33m...\u001b[0mreading NetCDF4 from list of \u001b[1;36m10\u001b[0m files:\n"
      ]
     },
     "metadata": {},
     "output_type": "display_data"
    },
    {
     "data": {
      "text/html": [
       "<pre style=\"white-space:pre;overflow-x:auto;line-height:normal;font-family:Menlo,'DejaVu Sans Mono',consolas,'Courier New',monospace\"><span style=\"color: #808000; text-decoration-color: #808000\">......</span>reading NetCDF4 <span style=\"font-weight: bold\">(</span>.<span style=\"color: #800080; text-decoration-color: #800080\">/folderOnColab/data/</span><span style=\"color: #ff00ff; text-decoration-color: #ff00ff\">20250308_gfs.t00z.atmf000.nc</span><span style=\"font-weight: bold\">)</span>\n",
       "</pre>\n"
      ],
      "text/plain": [
       "\u001b[33m...\u001b[0m\u001b[33m...\u001b[0mreading NetCDF4 \u001b[1m(\u001b[0m.\u001b[35m/folderOnColab/data/\u001b[0m\u001b[95m20250308_gfs.t00z.atmf000.nc\u001b[0m\u001b[1m)\u001b[0m\n"
      ]
     },
     "metadata": {},
     "output_type": "display_data"
    },
    {
     "data": {
      "text/html": [
       "<pre style=\"white-space:pre;overflow-x:auto;line-height:normal;font-family:Menlo,'DejaVu Sans Mono',consolas,'Courier New',monospace\"><span style=\"color: #808000; text-decoration-color: #808000\">......</span>reading NetCDF4 <span style=\"font-weight: bold\">(</span>.<span style=\"color: #800080; text-decoration-color: #800080\">/folderOnColab/data/</span><span style=\"color: #ff00ff; text-decoration-color: #ff00ff\">20250309_gfs.t00z.atmf000.nc</span><span style=\"font-weight: bold\">)</span>\n",
       "</pre>\n"
      ],
      "text/plain": [
       "\u001b[33m...\u001b[0m\u001b[33m...\u001b[0mreading NetCDF4 \u001b[1m(\u001b[0m.\u001b[35m/folderOnColab/data/\u001b[0m\u001b[95m20250309_gfs.t00z.atmf000.nc\u001b[0m\u001b[1m)\u001b[0m\n"
      ]
     },
     "metadata": {},
     "output_type": "display_data"
    },
    {
     "data": {
      "text/html": [
       "<pre style=\"white-space:pre;overflow-x:auto;line-height:normal;font-family:Menlo,'DejaVu Sans Mono',consolas,'Courier New',monospace\"><span style=\"color: #808000; text-decoration-color: #808000\">......</span>reading NetCDF4 <span style=\"font-weight: bold\">(</span>.<span style=\"color: #800080; text-decoration-color: #800080\">/folderOnColab/data/</span><span style=\"color: #ff00ff; text-decoration-color: #ff00ff\">20250310_gfs.t00z.atmf000.nc</span><span style=\"font-weight: bold\">)</span>\n",
       "</pre>\n"
      ],
      "text/plain": [
       "\u001b[33m...\u001b[0m\u001b[33m...\u001b[0mreading NetCDF4 \u001b[1m(\u001b[0m.\u001b[35m/folderOnColab/data/\u001b[0m\u001b[95m20250310_gfs.t00z.atmf000.nc\u001b[0m\u001b[1m)\u001b[0m\n"
      ]
     },
     "metadata": {},
     "output_type": "display_data"
    },
    {
     "data": {
      "text/html": [
       "<pre style=\"white-space:pre;overflow-x:auto;line-height:normal;font-family:Menlo,'DejaVu Sans Mono',consolas,'Courier New',monospace\"><span style=\"color: #808000; text-decoration-color: #808000\">......</span>reading NetCDF4 <span style=\"font-weight: bold\">(</span>.<span style=\"color: #800080; text-decoration-color: #800080\">/folderOnColab/data/</span><span style=\"color: #ff00ff; text-decoration-color: #ff00ff\">20250311_gfs.t00z.atmf000.nc</span><span style=\"font-weight: bold\">)</span>\n",
       "</pre>\n"
      ],
      "text/plain": [
       "\u001b[33m...\u001b[0m\u001b[33m...\u001b[0mreading NetCDF4 \u001b[1m(\u001b[0m.\u001b[35m/folderOnColab/data/\u001b[0m\u001b[95m20250311_gfs.t00z.atmf000.nc\u001b[0m\u001b[1m)\u001b[0m\n"
      ]
     },
     "metadata": {},
     "output_type": "display_data"
    },
    {
     "data": {
      "text/html": [
       "<pre style=\"white-space:pre;overflow-x:auto;line-height:normal;font-family:Menlo,'DejaVu Sans Mono',consolas,'Courier New',monospace\"><span style=\"color: #808000; text-decoration-color: #808000\">......</span>reading NetCDF4 <span style=\"font-weight: bold\">(</span>.<span style=\"color: #800080; text-decoration-color: #800080\">/folderOnColab/data/</span><span style=\"color: #ff00ff; text-decoration-color: #ff00ff\">20250312_gfs.t00z.atmf000.nc</span><span style=\"font-weight: bold\">)</span>\n",
       "</pre>\n"
      ],
      "text/plain": [
       "\u001b[33m...\u001b[0m\u001b[33m...\u001b[0mreading NetCDF4 \u001b[1m(\u001b[0m.\u001b[35m/folderOnColab/data/\u001b[0m\u001b[95m20250312_gfs.t00z.atmf000.nc\u001b[0m\u001b[1m)\u001b[0m\n"
      ]
     },
     "metadata": {},
     "output_type": "display_data"
    },
    {
     "data": {
      "text/html": [
       "<pre style=\"white-space:pre;overflow-x:auto;line-height:normal;font-family:Menlo,'DejaVu Sans Mono',consolas,'Courier New',monospace\"><span style=\"color: #808000; text-decoration-color: #808000\">......</span>reading NetCDF4 <span style=\"font-weight: bold\">(</span>.<span style=\"color: #800080; text-decoration-color: #800080\">/folderOnColab/data/</span><span style=\"color: #ff00ff; text-decoration-color: #ff00ff\">20250313_gfs.t00z.atmf000.nc</span><span style=\"font-weight: bold\">)</span>\n",
       "</pre>\n"
      ],
      "text/plain": [
       "\u001b[33m...\u001b[0m\u001b[33m...\u001b[0mreading NetCDF4 \u001b[1m(\u001b[0m.\u001b[35m/folderOnColab/data/\u001b[0m\u001b[95m20250313_gfs.t00z.atmf000.nc\u001b[0m\u001b[1m)\u001b[0m\n"
      ]
     },
     "metadata": {},
     "output_type": "display_data"
    },
    {
     "data": {
      "text/html": [
       "<pre style=\"white-space:pre;overflow-x:auto;line-height:normal;font-family:Menlo,'DejaVu Sans Mono',consolas,'Courier New',monospace\"><span style=\"color: #808000; text-decoration-color: #808000\">......</span>reading NetCDF4 <span style=\"font-weight: bold\">(</span>.<span style=\"color: #800080; text-decoration-color: #800080\">/folderOnColab/data/</span><span style=\"color: #ff00ff; text-decoration-color: #ff00ff\">20250314_gfs.t00z.atmf000.nc</span><span style=\"font-weight: bold\">)</span>\n",
       "</pre>\n"
      ],
      "text/plain": [
       "\u001b[33m...\u001b[0m\u001b[33m...\u001b[0mreading NetCDF4 \u001b[1m(\u001b[0m.\u001b[35m/folderOnColab/data/\u001b[0m\u001b[95m20250314_gfs.t00z.atmf000.nc\u001b[0m\u001b[1m)\u001b[0m\n"
      ]
     },
     "metadata": {},
     "output_type": "display_data"
    },
    {
     "data": {
      "text/html": [
       "<pre style=\"white-space:pre;overflow-x:auto;line-height:normal;font-family:Menlo,'DejaVu Sans Mono',consolas,'Courier New',monospace\"><span style=\"color: #808000; text-decoration-color: #808000\">......</span>reading NetCDF4 <span style=\"font-weight: bold\">(</span>.<span style=\"color: #800080; text-decoration-color: #800080\">/folderOnColab/data/</span><span style=\"color: #ff00ff; text-decoration-color: #ff00ff\">20250315_gfs.t00z.atmf000.nc</span><span style=\"font-weight: bold\">)</span>\n",
       "</pre>\n"
      ],
      "text/plain": [
       "\u001b[33m...\u001b[0m\u001b[33m...\u001b[0mreading NetCDF4 \u001b[1m(\u001b[0m.\u001b[35m/folderOnColab/data/\u001b[0m\u001b[95m20250315_gfs.t00z.atmf000.nc\u001b[0m\u001b[1m)\u001b[0m\n"
      ]
     },
     "metadata": {},
     "output_type": "display_data"
    },
    {
     "data": {
      "text/html": [
       "<pre style=\"white-space:pre;overflow-x:auto;line-height:normal;font-family:Menlo,'DejaVu Sans Mono',consolas,'Courier New',monospace\"><span style=\"color: #808000; text-decoration-color: #808000\">......</span>reading NetCDF4 <span style=\"font-weight: bold\">(</span>.<span style=\"color: #800080; text-decoration-color: #800080\">/folderOnColab/data/</span><span style=\"color: #ff00ff; text-decoration-color: #ff00ff\">20250316_gfs.t00z.atmf000.nc</span><span style=\"font-weight: bold\">)</span>\n",
       "</pre>\n"
      ],
      "text/plain": [
       "\u001b[33m...\u001b[0m\u001b[33m...\u001b[0mreading NetCDF4 \u001b[1m(\u001b[0m.\u001b[35m/folderOnColab/data/\u001b[0m\u001b[95m20250316_gfs.t00z.atmf000.nc\u001b[0m\u001b[1m)\u001b[0m\n"
      ]
     },
     "metadata": {},
     "output_type": "display_data"
    },
    {
     "data": {
      "text/html": [
       "<pre style=\"white-space:pre;overflow-x:auto;line-height:normal;font-family:Menlo,'DejaVu Sans Mono',consolas,'Courier New',monospace\"><span style=\"color: #808000; text-decoration-color: #808000\">......</span>reading NetCDF4 <span style=\"font-weight: bold\">(</span>.<span style=\"color: #800080; text-decoration-color: #800080\">/folderOnColab/data/</span><span style=\"color: #ff00ff; text-decoration-color: #ff00ff\">20250317_gfs.t00z.atmf000.nc</span><span style=\"font-weight: bold\">)</span>\n",
       "</pre>\n"
      ],
      "text/plain": [
       "\u001b[33m...\u001b[0m\u001b[33m...\u001b[0mreading NetCDF4 \u001b[1m(\u001b[0m.\u001b[35m/folderOnColab/data/\u001b[0m\u001b[95m20250317_gfs.t00z.atmf000.nc\u001b[0m\u001b[1m)\u001b[0m\n"
      ]
     },
     "metadata": {},
     "output_type": "display_data"
    },
    {
     "data": {
      "text/html": [
       "<pre style=\"white-space:pre;overflow-x:auto;line-height:normal;font-family:Menlo,'DejaVu Sans Mono',consolas,'Courier New',monospace\">Entering __main__ read_netcdfs\n",
       "</pre>\n"
      ],
      "text/plain": [
       "Entering __main__ read_netcdfs\n"
      ]
     },
     "metadata": {},
     "output_type": "display_data"
    },
    {
     "data": {
      "text/html": [
       "<pre style=\"white-space:pre;overflow-x:auto;line-height:normal;font-family:Menlo,'DejaVu Sans Mono',consolas,'Courier New',monospace\">Entering __main__ gather_variables\n",
       "</pre>\n"
      ],
      "text/plain": [
       "Entering __main__ gather_variables\n"
      ]
     },
     "metadata": {},
     "output_type": "display_data"
    },
    {
     "name": "stdout",
     "output_type": "stream",
     "text": [
      "...pulling data for and stacking it to the core data structure:\n",
      "......stacking ./folderOnColab/data/20250308_gfs.t00z.atmf000.nc\n",
      "......stacking ./folderOnColab/data/20250309_gfs.t00z.atmf000.nc\n",
      "......stacking ./folderOnColab/data/20250310_gfs.t00z.atmf000.nc\n",
      "......stacking ./folderOnColab/data/20250311_gfs.t00z.atmf000.nc\n",
      "......stacking ./folderOnColab/data/20250312_gfs.t00z.atmf000.nc\n",
      "......stacking ./folderOnColab/data/20250313_gfs.t00z.atmf000.nc\n",
      "......stacking ./folderOnColab/data/20250314_gfs.t00z.atmf000.nc\n",
      "......stacking ./folderOnColab/data/20250315_gfs.t00z.atmf000.nc\n",
      "......stacking ./folderOnColab/data/20250316_gfs.t00z.atmf000.nc\n",
      "......stacking ./folderOnColab/data/20250317_gfs.t00z.atmf000.nc\n",
      "...\u001b[1mlat        data type:         \u001b[0;0m<class 'numpy.ndarray'>\n",
      ".......shape:(47185920,)\n",
      "....datatype:float64\n",
      "...\u001b[1mlon        data type:         \u001b[0;0m<class 'numpy.ndarray'>\n",
      ".......shape:(47185920,)\n",
      "....datatype:float64\n",
      "...\u001b[1mData type           (cld_amt             )\u001b[0;0m<class 'numpy.ndarray'>\n",
      ".......shape:(47185920,)\n",
      "....datatype:float64\n"
     ]
    },
    {
     "data": {
      "text/html": [
       "<pre style=\"white-space:pre;overflow-x:auto;line-height:normal;font-family:Menlo,'DejaVu Sans Mono',consolas,'Courier New',monospace\">Exiting __main__ gather_variables\n",
       "</pre>\n"
      ],
      "text/plain": [
       "Exiting __main__ gather_variables\n"
      ]
     },
     "metadata": {},
     "output_type": "display_data"
    },
    {
     "data": {
      "text/html": [
       "<pre style=\"white-space:pre;overflow-x:auto;line-height:normal;font-family:Menlo,'DejaVu Sans Mono',consolas,'Courier New',monospace\">Entering __main__ read_netcdfs\n",
       "</pre>\n"
      ],
      "text/plain": [
       "Entering __main__ read_netcdfs\n"
      ]
     },
     "metadata": {},
     "output_type": "display_data"
    },
    {
     "data": {
      "text/html": [
       "<pre style=\"white-space:pre;overflow-x:auto;line-height:normal;font-family:Menlo,'DejaVu Sans Mono',consolas,'Courier New',monospace\"><span style=\"color: #808000; text-decoration-color: #808000\">...</span>reading NetCDF4 from list of <span style=\"color: #008080; text-decoration-color: #008080; font-weight: bold\">10</span> files:\n",
       "</pre>\n"
      ],
      "text/plain": [
       "\u001b[33m...\u001b[0mreading NetCDF4 from list of \u001b[1;36m10\u001b[0m files:\n"
      ]
     },
     "metadata": {},
     "output_type": "display_data"
    },
    {
     "data": {
      "text/html": [
       "<pre style=\"white-space:pre;overflow-x:auto;line-height:normal;font-family:Menlo,'DejaVu Sans Mono',consolas,'Courier New',monospace\"><span style=\"color: #808000; text-decoration-color: #808000\">......</span>reading NetCDF4 <span style=\"font-weight: bold\">(</span>.<span style=\"color: #800080; text-decoration-color: #800080\">/folderOnColab/data/</span><span style=\"color: #ff00ff; text-decoration-color: #ff00ff\">20250308_gfs.t00z.atmf000.nc</span><span style=\"font-weight: bold\">)</span>\n",
       "</pre>\n"
      ],
      "text/plain": [
       "\u001b[33m...\u001b[0m\u001b[33m...\u001b[0mreading NetCDF4 \u001b[1m(\u001b[0m.\u001b[35m/folderOnColab/data/\u001b[0m\u001b[95m20250308_gfs.t00z.atmf000.nc\u001b[0m\u001b[1m)\u001b[0m\n"
      ]
     },
     "metadata": {},
     "output_type": "display_data"
    },
    {
     "data": {
      "text/html": [
       "<pre style=\"white-space:pre;overflow-x:auto;line-height:normal;font-family:Menlo,'DejaVu Sans Mono',consolas,'Courier New',monospace\"><span style=\"color: #808000; text-decoration-color: #808000\">......</span>reading NetCDF4 <span style=\"font-weight: bold\">(</span>.<span style=\"color: #800080; text-decoration-color: #800080\">/folderOnColab/data/</span><span style=\"color: #ff00ff; text-decoration-color: #ff00ff\">20250309_gfs.t00z.atmf000.nc</span><span style=\"font-weight: bold\">)</span>\n",
       "</pre>\n"
      ],
      "text/plain": [
       "\u001b[33m...\u001b[0m\u001b[33m...\u001b[0mreading NetCDF4 \u001b[1m(\u001b[0m.\u001b[35m/folderOnColab/data/\u001b[0m\u001b[95m20250309_gfs.t00z.atmf000.nc\u001b[0m\u001b[1m)\u001b[0m\n"
      ]
     },
     "metadata": {},
     "output_type": "display_data"
    },
    {
     "data": {
      "text/html": [
       "<pre style=\"white-space:pre;overflow-x:auto;line-height:normal;font-family:Menlo,'DejaVu Sans Mono',consolas,'Courier New',monospace\"><span style=\"color: #808000; text-decoration-color: #808000\">......</span>reading NetCDF4 <span style=\"font-weight: bold\">(</span>.<span style=\"color: #800080; text-decoration-color: #800080\">/folderOnColab/data/</span><span style=\"color: #ff00ff; text-decoration-color: #ff00ff\">20250310_gfs.t00z.atmf000.nc</span><span style=\"font-weight: bold\">)</span>\n",
       "</pre>\n"
      ],
      "text/plain": [
       "\u001b[33m...\u001b[0m\u001b[33m...\u001b[0mreading NetCDF4 \u001b[1m(\u001b[0m.\u001b[35m/folderOnColab/data/\u001b[0m\u001b[95m20250310_gfs.t00z.atmf000.nc\u001b[0m\u001b[1m)\u001b[0m\n"
      ]
     },
     "metadata": {},
     "output_type": "display_data"
    },
    {
     "data": {
      "text/html": [
       "<pre style=\"white-space:pre;overflow-x:auto;line-height:normal;font-family:Menlo,'DejaVu Sans Mono',consolas,'Courier New',monospace\"><span style=\"color: #808000; text-decoration-color: #808000\">......</span>reading NetCDF4 <span style=\"font-weight: bold\">(</span>.<span style=\"color: #800080; text-decoration-color: #800080\">/folderOnColab/data/</span><span style=\"color: #ff00ff; text-decoration-color: #ff00ff\">20250311_gfs.t00z.atmf000.nc</span><span style=\"font-weight: bold\">)</span>\n",
       "</pre>\n"
      ],
      "text/plain": [
       "\u001b[33m...\u001b[0m\u001b[33m...\u001b[0mreading NetCDF4 \u001b[1m(\u001b[0m.\u001b[35m/folderOnColab/data/\u001b[0m\u001b[95m20250311_gfs.t00z.atmf000.nc\u001b[0m\u001b[1m)\u001b[0m\n"
      ]
     },
     "metadata": {},
     "output_type": "display_data"
    },
    {
     "data": {
      "text/html": [
       "<pre style=\"white-space:pre;overflow-x:auto;line-height:normal;font-family:Menlo,'DejaVu Sans Mono',consolas,'Courier New',monospace\"><span style=\"color: #808000; text-decoration-color: #808000\">......</span>reading NetCDF4 <span style=\"font-weight: bold\">(</span>.<span style=\"color: #800080; text-decoration-color: #800080\">/folderOnColab/data/</span><span style=\"color: #ff00ff; text-decoration-color: #ff00ff\">20250312_gfs.t00z.atmf000.nc</span><span style=\"font-weight: bold\">)</span>\n",
       "</pre>\n"
      ],
      "text/plain": [
       "\u001b[33m...\u001b[0m\u001b[33m...\u001b[0mreading NetCDF4 \u001b[1m(\u001b[0m.\u001b[35m/folderOnColab/data/\u001b[0m\u001b[95m20250312_gfs.t00z.atmf000.nc\u001b[0m\u001b[1m)\u001b[0m\n"
      ]
     },
     "metadata": {},
     "output_type": "display_data"
    },
    {
     "data": {
      "text/html": [
       "<pre style=\"white-space:pre;overflow-x:auto;line-height:normal;font-family:Menlo,'DejaVu Sans Mono',consolas,'Courier New',monospace\"><span style=\"color: #808000; text-decoration-color: #808000\">......</span>reading NetCDF4 <span style=\"font-weight: bold\">(</span>.<span style=\"color: #800080; text-decoration-color: #800080\">/folderOnColab/data/</span><span style=\"color: #ff00ff; text-decoration-color: #ff00ff\">20250313_gfs.t00z.atmf000.nc</span><span style=\"font-weight: bold\">)</span>\n",
       "</pre>\n"
      ],
      "text/plain": [
       "\u001b[33m...\u001b[0m\u001b[33m...\u001b[0mreading NetCDF4 \u001b[1m(\u001b[0m.\u001b[35m/folderOnColab/data/\u001b[0m\u001b[95m20250313_gfs.t00z.atmf000.nc\u001b[0m\u001b[1m)\u001b[0m\n"
      ]
     },
     "metadata": {},
     "output_type": "display_data"
    },
    {
     "data": {
      "text/html": [
       "<pre style=\"white-space:pre;overflow-x:auto;line-height:normal;font-family:Menlo,'DejaVu Sans Mono',consolas,'Courier New',monospace\"><span style=\"color: #808000; text-decoration-color: #808000\">......</span>reading NetCDF4 <span style=\"font-weight: bold\">(</span>.<span style=\"color: #800080; text-decoration-color: #800080\">/folderOnColab/data/</span><span style=\"color: #ff00ff; text-decoration-color: #ff00ff\">20250314_gfs.t00z.atmf000.nc</span><span style=\"font-weight: bold\">)</span>\n",
       "</pre>\n"
      ],
      "text/plain": [
       "\u001b[33m...\u001b[0m\u001b[33m...\u001b[0mreading NetCDF4 \u001b[1m(\u001b[0m.\u001b[35m/folderOnColab/data/\u001b[0m\u001b[95m20250314_gfs.t00z.atmf000.nc\u001b[0m\u001b[1m)\u001b[0m\n"
      ]
     },
     "metadata": {},
     "output_type": "display_data"
    },
    {
     "data": {
      "text/html": [
       "<pre style=\"white-space:pre;overflow-x:auto;line-height:normal;font-family:Menlo,'DejaVu Sans Mono',consolas,'Courier New',monospace\"><span style=\"color: #808000; text-decoration-color: #808000\">......</span>reading NetCDF4 <span style=\"font-weight: bold\">(</span>.<span style=\"color: #800080; text-decoration-color: #800080\">/folderOnColab/data/</span><span style=\"color: #ff00ff; text-decoration-color: #ff00ff\">20250315_gfs.t00z.atmf000.nc</span><span style=\"font-weight: bold\">)</span>\n",
       "</pre>\n"
      ],
      "text/plain": [
       "\u001b[33m...\u001b[0m\u001b[33m...\u001b[0mreading NetCDF4 \u001b[1m(\u001b[0m.\u001b[35m/folderOnColab/data/\u001b[0m\u001b[95m20250315_gfs.t00z.atmf000.nc\u001b[0m\u001b[1m)\u001b[0m\n"
      ]
     },
     "metadata": {},
     "output_type": "display_data"
    },
    {
     "data": {
      "text/html": [
       "<pre style=\"white-space:pre;overflow-x:auto;line-height:normal;font-family:Menlo,'DejaVu Sans Mono',consolas,'Courier New',monospace\"><span style=\"color: #808000; text-decoration-color: #808000\">......</span>reading NetCDF4 <span style=\"font-weight: bold\">(</span>.<span style=\"color: #800080; text-decoration-color: #800080\">/folderOnColab/data/</span><span style=\"color: #ff00ff; text-decoration-color: #ff00ff\">20250316_gfs.t00z.atmf000.nc</span><span style=\"font-weight: bold\">)</span>\n",
       "</pre>\n"
      ],
      "text/plain": [
       "\u001b[33m...\u001b[0m\u001b[33m...\u001b[0mreading NetCDF4 \u001b[1m(\u001b[0m.\u001b[35m/folderOnColab/data/\u001b[0m\u001b[95m20250316_gfs.t00z.atmf000.nc\u001b[0m\u001b[1m)\u001b[0m\n"
      ]
     },
     "metadata": {},
     "output_type": "display_data"
    },
    {
     "data": {
      "text/html": [
       "<pre style=\"white-space:pre;overflow-x:auto;line-height:normal;font-family:Menlo,'DejaVu Sans Mono',consolas,'Courier New',monospace\"><span style=\"color: #808000; text-decoration-color: #808000\">......</span>reading NetCDF4 <span style=\"font-weight: bold\">(</span>.<span style=\"color: #800080; text-decoration-color: #800080\">/folderOnColab/data/</span><span style=\"color: #ff00ff; text-decoration-color: #ff00ff\">20250317_gfs.t00z.atmf000.nc</span><span style=\"font-weight: bold\">)</span>\n",
       "</pre>\n"
      ],
      "text/plain": [
       "\u001b[33m...\u001b[0m\u001b[33m...\u001b[0mreading NetCDF4 \u001b[1m(\u001b[0m.\u001b[35m/folderOnColab/data/\u001b[0m\u001b[95m20250317_gfs.t00z.atmf000.nc\u001b[0m\u001b[1m)\u001b[0m\n"
      ]
     },
     "metadata": {},
     "output_type": "display_data"
    },
    {
     "data": {
      "text/html": [
       "<pre style=\"white-space:pre;overflow-x:auto;line-height:normal;font-family:Menlo,'DejaVu Sans Mono',consolas,'Courier New',monospace\">Entering __main__ read_netcdfs\n",
       "</pre>\n"
      ],
      "text/plain": [
       "Entering __main__ read_netcdfs\n"
      ]
     },
     "metadata": {},
     "output_type": "display_data"
    },
    {
     "data": {
      "text/html": [
       "<pre style=\"white-space:pre;overflow-x:auto;line-height:normal;font-family:Menlo,'DejaVu Sans Mono',consolas,'Courier New',monospace\">Entering __main__ gather_variables\n",
       "</pre>\n"
      ],
      "text/plain": [
       "Entering __main__ gather_variables\n"
      ]
     },
     "metadata": {},
     "output_type": "display_data"
    },
    {
     "name": "stdout",
     "output_type": "stream",
     "text": [
      "...pulling data for and stacking it to the core data structure:\n",
      "......stacking ./folderOnColab/data/20250308_gfs.t00z.atmf000.nc\n",
      "......stacking ./folderOnColab/data/20250309_gfs.t00z.atmf000.nc\n",
      "......stacking ./folderOnColab/data/20250310_gfs.t00z.atmf000.nc\n",
      "......stacking ./folderOnColab/data/20250311_gfs.t00z.atmf000.nc\n",
      "......stacking ./folderOnColab/data/20250312_gfs.t00z.atmf000.nc\n",
      "......stacking ./folderOnColab/data/20250313_gfs.t00z.atmf000.nc\n",
      "......stacking ./folderOnColab/data/20250314_gfs.t00z.atmf000.nc\n",
      "......stacking ./folderOnColab/data/20250315_gfs.t00z.atmf000.nc\n",
      "......stacking ./folderOnColab/data/20250316_gfs.t00z.atmf000.nc\n",
      "......stacking ./folderOnColab/data/20250317_gfs.t00z.atmf000.nc\n",
      "...\u001b[1mlat        data type:         \u001b[0;0m<class 'numpy.ndarray'>\n",
      ".......shape:(47185920,)\n",
      "....datatype:float64\n",
      "...\u001b[1mlon        data type:         \u001b[0;0m<class 'numpy.ndarray'>\n",
      ".......shape:(47185920,)\n",
      "....datatype:float64\n",
      "...\u001b[1mData type           (cld_amt             )\u001b[0;0m<class 'numpy.ndarray'>\n",
      ".......shape:(47185920,)\n",
      "....datatype:float64\n"
     ]
    },
    {
     "data": {
      "text/html": [
       "<pre style=\"white-space:pre;overflow-x:auto;line-height:normal;font-family:Menlo,'DejaVu Sans Mono',consolas,'Courier New',monospace\">Exiting __main__ gather_variables\n",
       "</pre>\n"
      ],
      "text/plain": [
       "Exiting __main__ gather_variables\n"
      ]
     },
     "metadata": {},
     "output_type": "display_data"
    },
    {
     "data": {
      "text/html": [
       "<pre style=\"white-space:pre;overflow-x:auto;line-height:normal;font-family:Menlo,'DejaVu Sans Mono',consolas,'Courier New',monospace\">Entering __main__ read_netcdfs\n",
       "</pre>\n"
      ],
      "text/plain": [
       "Entering __main__ read_netcdfs\n"
      ]
     },
     "metadata": {},
     "output_type": "display_data"
    },
    {
     "data": {
      "text/html": [
       "<pre style=\"white-space:pre;overflow-x:auto;line-height:normal;font-family:Menlo,'DejaVu Sans Mono',consolas,'Courier New',monospace\"><span style=\"color: #808000; text-decoration-color: #808000\">...</span>reading NetCDF4 from list of <span style=\"color: #008080; text-decoration-color: #008080; font-weight: bold\">10</span> files:\n",
       "</pre>\n"
      ],
      "text/plain": [
       "\u001b[33m...\u001b[0mreading NetCDF4 from list of \u001b[1;36m10\u001b[0m files:\n"
      ]
     },
     "metadata": {},
     "output_type": "display_data"
    },
    {
     "data": {
      "text/html": [
       "<pre style=\"white-space:pre;overflow-x:auto;line-height:normal;font-family:Menlo,'DejaVu Sans Mono',consolas,'Courier New',monospace\"><span style=\"color: #808000; text-decoration-color: #808000\">......</span>reading NetCDF4 <span style=\"font-weight: bold\">(</span>.<span style=\"color: #800080; text-decoration-color: #800080\">/folderOnColab/data/</span><span style=\"color: #ff00ff; text-decoration-color: #ff00ff\">20250308_gfs.t00z.atmf000.nc</span><span style=\"font-weight: bold\">)</span>\n",
       "</pre>\n"
      ],
      "text/plain": [
       "\u001b[33m...\u001b[0m\u001b[33m...\u001b[0mreading NetCDF4 \u001b[1m(\u001b[0m.\u001b[35m/folderOnColab/data/\u001b[0m\u001b[95m20250308_gfs.t00z.atmf000.nc\u001b[0m\u001b[1m)\u001b[0m\n"
      ]
     },
     "metadata": {},
     "output_type": "display_data"
    },
    {
     "data": {
      "text/html": [
       "<pre style=\"white-space:pre;overflow-x:auto;line-height:normal;font-family:Menlo,'DejaVu Sans Mono',consolas,'Courier New',monospace\"><span style=\"color: #808000; text-decoration-color: #808000\">......</span>reading NetCDF4 <span style=\"font-weight: bold\">(</span>.<span style=\"color: #800080; text-decoration-color: #800080\">/folderOnColab/data/</span><span style=\"color: #ff00ff; text-decoration-color: #ff00ff\">20250309_gfs.t00z.atmf000.nc</span><span style=\"font-weight: bold\">)</span>\n",
       "</pre>\n"
      ],
      "text/plain": [
       "\u001b[33m...\u001b[0m\u001b[33m...\u001b[0mreading NetCDF4 \u001b[1m(\u001b[0m.\u001b[35m/folderOnColab/data/\u001b[0m\u001b[95m20250309_gfs.t00z.atmf000.nc\u001b[0m\u001b[1m)\u001b[0m\n"
      ]
     },
     "metadata": {},
     "output_type": "display_data"
    },
    {
     "data": {
      "text/html": [
       "<pre style=\"white-space:pre;overflow-x:auto;line-height:normal;font-family:Menlo,'DejaVu Sans Mono',consolas,'Courier New',monospace\"><span style=\"color: #808000; text-decoration-color: #808000\">......</span>reading NetCDF4 <span style=\"font-weight: bold\">(</span>.<span style=\"color: #800080; text-decoration-color: #800080\">/folderOnColab/data/</span><span style=\"color: #ff00ff; text-decoration-color: #ff00ff\">20250310_gfs.t00z.atmf000.nc</span><span style=\"font-weight: bold\">)</span>\n",
       "</pre>\n"
      ],
      "text/plain": [
       "\u001b[33m...\u001b[0m\u001b[33m...\u001b[0mreading NetCDF4 \u001b[1m(\u001b[0m.\u001b[35m/folderOnColab/data/\u001b[0m\u001b[95m20250310_gfs.t00z.atmf000.nc\u001b[0m\u001b[1m)\u001b[0m\n"
      ]
     },
     "metadata": {},
     "output_type": "display_data"
    },
    {
     "data": {
      "text/html": [
       "<pre style=\"white-space:pre;overflow-x:auto;line-height:normal;font-family:Menlo,'DejaVu Sans Mono',consolas,'Courier New',monospace\"><span style=\"color: #808000; text-decoration-color: #808000\">......</span>reading NetCDF4 <span style=\"font-weight: bold\">(</span>.<span style=\"color: #800080; text-decoration-color: #800080\">/folderOnColab/data/</span><span style=\"color: #ff00ff; text-decoration-color: #ff00ff\">20250311_gfs.t00z.atmf000.nc</span><span style=\"font-weight: bold\">)</span>\n",
       "</pre>\n"
      ],
      "text/plain": [
       "\u001b[33m...\u001b[0m\u001b[33m...\u001b[0mreading NetCDF4 \u001b[1m(\u001b[0m.\u001b[35m/folderOnColab/data/\u001b[0m\u001b[95m20250311_gfs.t00z.atmf000.nc\u001b[0m\u001b[1m)\u001b[0m\n"
      ]
     },
     "metadata": {},
     "output_type": "display_data"
    },
    {
     "data": {
      "text/html": [
       "<pre style=\"white-space:pre;overflow-x:auto;line-height:normal;font-family:Menlo,'DejaVu Sans Mono',consolas,'Courier New',monospace\"><span style=\"color: #808000; text-decoration-color: #808000\">......</span>reading NetCDF4 <span style=\"font-weight: bold\">(</span>.<span style=\"color: #800080; text-decoration-color: #800080\">/folderOnColab/data/</span><span style=\"color: #ff00ff; text-decoration-color: #ff00ff\">20250312_gfs.t00z.atmf000.nc</span><span style=\"font-weight: bold\">)</span>\n",
       "</pre>\n"
      ],
      "text/plain": [
       "\u001b[33m...\u001b[0m\u001b[33m...\u001b[0mreading NetCDF4 \u001b[1m(\u001b[0m.\u001b[35m/folderOnColab/data/\u001b[0m\u001b[95m20250312_gfs.t00z.atmf000.nc\u001b[0m\u001b[1m)\u001b[0m\n"
      ]
     },
     "metadata": {},
     "output_type": "display_data"
    },
    {
     "data": {
      "text/html": [
       "<pre style=\"white-space:pre;overflow-x:auto;line-height:normal;font-family:Menlo,'DejaVu Sans Mono',consolas,'Courier New',monospace\"><span style=\"color: #808000; text-decoration-color: #808000\">......</span>reading NetCDF4 <span style=\"font-weight: bold\">(</span>.<span style=\"color: #800080; text-decoration-color: #800080\">/folderOnColab/data/</span><span style=\"color: #ff00ff; text-decoration-color: #ff00ff\">20250313_gfs.t00z.atmf000.nc</span><span style=\"font-weight: bold\">)</span>\n",
       "</pre>\n"
      ],
      "text/plain": [
       "\u001b[33m...\u001b[0m\u001b[33m...\u001b[0mreading NetCDF4 \u001b[1m(\u001b[0m.\u001b[35m/folderOnColab/data/\u001b[0m\u001b[95m20250313_gfs.t00z.atmf000.nc\u001b[0m\u001b[1m)\u001b[0m\n"
      ]
     },
     "metadata": {},
     "output_type": "display_data"
    },
    {
     "data": {
      "text/html": [
       "<pre style=\"white-space:pre;overflow-x:auto;line-height:normal;font-family:Menlo,'DejaVu Sans Mono',consolas,'Courier New',monospace\"><span style=\"color: #808000; text-decoration-color: #808000\">......</span>reading NetCDF4 <span style=\"font-weight: bold\">(</span>.<span style=\"color: #800080; text-decoration-color: #800080\">/folderOnColab/data/</span><span style=\"color: #ff00ff; text-decoration-color: #ff00ff\">20250314_gfs.t00z.atmf000.nc</span><span style=\"font-weight: bold\">)</span>\n",
       "</pre>\n"
      ],
      "text/plain": [
       "\u001b[33m...\u001b[0m\u001b[33m...\u001b[0mreading NetCDF4 \u001b[1m(\u001b[0m.\u001b[35m/folderOnColab/data/\u001b[0m\u001b[95m20250314_gfs.t00z.atmf000.nc\u001b[0m\u001b[1m)\u001b[0m\n"
      ]
     },
     "metadata": {},
     "output_type": "display_data"
    },
    {
     "data": {
      "text/html": [
       "<pre style=\"white-space:pre;overflow-x:auto;line-height:normal;font-family:Menlo,'DejaVu Sans Mono',consolas,'Courier New',monospace\"><span style=\"color: #808000; text-decoration-color: #808000\">......</span>reading NetCDF4 <span style=\"font-weight: bold\">(</span>.<span style=\"color: #800080; text-decoration-color: #800080\">/folderOnColab/data/</span><span style=\"color: #ff00ff; text-decoration-color: #ff00ff\">20250315_gfs.t00z.atmf000.nc</span><span style=\"font-weight: bold\">)</span>\n",
       "</pre>\n"
      ],
      "text/plain": [
       "\u001b[33m...\u001b[0m\u001b[33m...\u001b[0mreading NetCDF4 \u001b[1m(\u001b[0m.\u001b[35m/folderOnColab/data/\u001b[0m\u001b[95m20250315_gfs.t00z.atmf000.nc\u001b[0m\u001b[1m)\u001b[0m\n"
      ]
     },
     "metadata": {},
     "output_type": "display_data"
    },
    {
     "data": {
      "text/html": [
       "<pre style=\"white-space:pre;overflow-x:auto;line-height:normal;font-family:Menlo,'DejaVu Sans Mono',consolas,'Courier New',monospace\"><span style=\"color: #808000; text-decoration-color: #808000\">......</span>reading NetCDF4 <span style=\"font-weight: bold\">(</span>.<span style=\"color: #800080; text-decoration-color: #800080\">/folderOnColab/data/</span><span style=\"color: #ff00ff; text-decoration-color: #ff00ff\">20250316_gfs.t00z.atmf000.nc</span><span style=\"font-weight: bold\">)</span>\n",
       "</pre>\n"
      ],
      "text/plain": [
       "\u001b[33m...\u001b[0m\u001b[33m...\u001b[0mreading NetCDF4 \u001b[1m(\u001b[0m.\u001b[35m/folderOnColab/data/\u001b[0m\u001b[95m20250316_gfs.t00z.atmf000.nc\u001b[0m\u001b[1m)\u001b[0m\n"
      ]
     },
     "metadata": {},
     "output_type": "display_data"
    },
    {
     "data": {
      "text/html": [
       "<pre style=\"white-space:pre;overflow-x:auto;line-height:normal;font-family:Menlo,'DejaVu Sans Mono',consolas,'Courier New',monospace\"><span style=\"color: #808000; text-decoration-color: #808000\">......</span>reading NetCDF4 <span style=\"font-weight: bold\">(</span>.<span style=\"color: #800080; text-decoration-color: #800080\">/folderOnColab/data/</span><span style=\"color: #ff00ff; text-decoration-color: #ff00ff\">20250317_gfs.t00z.atmf000.nc</span><span style=\"font-weight: bold\">)</span>\n",
       "</pre>\n"
      ],
      "text/plain": [
       "\u001b[33m...\u001b[0m\u001b[33m...\u001b[0mreading NetCDF4 \u001b[1m(\u001b[0m.\u001b[35m/folderOnColab/data/\u001b[0m\u001b[95m20250317_gfs.t00z.atmf000.nc\u001b[0m\u001b[1m)\u001b[0m\n"
      ]
     },
     "metadata": {},
     "output_type": "display_data"
    },
    {
     "data": {
      "text/html": [
       "<pre style=\"white-space:pre;overflow-x:auto;line-height:normal;font-family:Menlo,'DejaVu Sans Mono',consolas,'Courier New',monospace\">Entering __main__ read_netcdfs\n",
       "</pre>\n"
      ],
      "text/plain": [
       "Entering __main__ read_netcdfs\n"
      ]
     },
     "metadata": {},
     "output_type": "display_data"
    },
    {
     "data": {
      "text/html": [
       "<pre style=\"white-space:pre;overflow-x:auto;line-height:normal;font-family:Menlo,'DejaVu Sans Mono',consolas,'Courier New',monospace\">Entering __main__ gather_variables\n",
       "</pre>\n"
      ],
      "text/plain": [
       "Entering __main__ gather_variables\n"
      ]
     },
     "metadata": {},
     "output_type": "display_data"
    },
    {
     "name": "stdout",
     "output_type": "stream",
     "text": [
      "...pulling data for and stacking it to the core data structure:\n",
      "......stacking ./folderOnColab/data/20250308_gfs.t00z.atmf000.nc\n",
      "......stacking ./folderOnColab/data/20250309_gfs.t00z.atmf000.nc\n",
      "......stacking ./folderOnColab/data/20250310_gfs.t00z.atmf000.nc\n",
      "......stacking ./folderOnColab/data/20250311_gfs.t00z.atmf000.nc\n",
      "......stacking ./folderOnColab/data/20250312_gfs.t00z.atmf000.nc\n",
      "......stacking ./folderOnColab/data/20250313_gfs.t00z.atmf000.nc\n",
      "......stacking ./folderOnColab/data/20250314_gfs.t00z.atmf000.nc\n",
      "......stacking ./folderOnColab/data/20250315_gfs.t00z.atmf000.nc\n",
      "......stacking ./folderOnColab/data/20250316_gfs.t00z.atmf000.nc\n",
      "......stacking ./folderOnColab/data/20250317_gfs.t00z.atmf000.nc\n",
      "...\u001b[1mlat        data type:         \u001b[0;0m<class 'numpy.ndarray'>\n",
      ".......shape:(47185920,)\n",
      "....datatype:float64\n",
      "...\u001b[1mlon        data type:         \u001b[0;0m<class 'numpy.ndarray'>\n",
      ".......shape:(47185920,)\n",
      "....datatype:float64\n",
      "...\u001b[1mData type           (cld_amt             )\u001b[0;0m<class 'numpy.ndarray'>\n",
      ".......shape:(47185920,)\n",
      "....datatype:float64\n"
     ]
    },
    {
     "data": {
      "text/html": [
       "<pre style=\"white-space:pre;overflow-x:auto;line-height:normal;font-family:Menlo,'DejaVu Sans Mono',consolas,'Courier New',monospace\">Exiting __main__ gather_variables\n",
       "</pre>\n"
      ],
      "text/plain": [
       "Exiting __main__ gather_variables\n"
      ]
     },
     "metadata": {},
     "output_type": "display_data"
    },
    {
     "data": {
      "text/html": [
       "<pre style=\"white-space:pre;overflow-x:auto;line-height:normal;font-family:Menlo,'DejaVu Sans Mono',consolas,'Courier New',monospace\">Entering __main__ read_netcdfs\n",
       "</pre>\n"
      ],
      "text/plain": [
       "Entering __main__ read_netcdfs\n"
      ]
     },
     "metadata": {},
     "output_type": "display_data"
    },
    {
     "data": {
      "text/html": [
       "<pre style=\"white-space:pre;overflow-x:auto;line-height:normal;font-family:Menlo,'DejaVu Sans Mono',consolas,'Courier New',monospace\"><span style=\"color: #808000; text-decoration-color: #808000\">...</span>reading NetCDF4 from list of <span style=\"color: #008080; text-decoration-color: #008080; font-weight: bold\">10</span> files:\n",
       "</pre>\n"
      ],
      "text/plain": [
       "\u001b[33m...\u001b[0mreading NetCDF4 from list of \u001b[1;36m10\u001b[0m files:\n"
      ]
     },
     "metadata": {},
     "output_type": "display_data"
    },
    {
     "data": {
      "text/html": [
       "<pre style=\"white-space:pre;overflow-x:auto;line-height:normal;font-family:Menlo,'DejaVu Sans Mono',consolas,'Courier New',monospace\"><span style=\"color: #808000; text-decoration-color: #808000\">......</span>reading NetCDF4 <span style=\"font-weight: bold\">(</span>.<span style=\"color: #800080; text-decoration-color: #800080\">/folderOnColab/data/</span><span style=\"color: #ff00ff; text-decoration-color: #ff00ff\">20250308_gfs.t00z.atmf000.nc</span><span style=\"font-weight: bold\">)</span>\n",
       "</pre>\n"
      ],
      "text/plain": [
       "\u001b[33m...\u001b[0m\u001b[33m...\u001b[0mreading NetCDF4 \u001b[1m(\u001b[0m.\u001b[35m/folderOnColab/data/\u001b[0m\u001b[95m20250308_gfs.t00z.atmf000.nc\u001b[0m\u001b[1m)\u001b[0m\n"
      ]
     },
     "metadata": {},
     "output_type": "display_data"
    },
    {
     "data": {
      "text/html": [
       "<pre style=\"white-space:pre;overflow-x:auto;line-height:normal;font-family:Menlo,'DejaVu Sans Mono',consolas,'Courier New',monospace\"><span style=\"color: #808000; text-decoration-color: #808000\">......</span>reading NetCDF4 <span style=\"font-weight: bold\">(</span>.<span style=\"color: #800080; text-decoration-color: #800080\">/folderOnColab/data/</span><span style=\"color: #ff00ff; text-decoration-color: #ff00ff\">20250309_gfs.t00z.atmf000.nc</span><span style=\"font-weight: bold\">)</span>\n",
       "</pre>\n"
      ],
      "text/plain": [
       "\u001b[33m...\u001b[0m\u001b[33m...\u001b[0mreading NetCDF4 \u001b[1m(\u001b[0m.\u001b[35m/folderOnColab/data/\u001b[0m\u001b[95m20250309_gfs.t00z.atmf000.nc\u001b[0m\u001b[1m)\u001b[0m\n"
      ]
     },
     "metadata": {},
     "output_type": "display_data"
    },
    {
     "data": {
      "text/html": [
       "<pre style=\"white-space:pre;overflow-x:auto;line-height:normal;font-family:Menlo,'DejaVu Sans Mono',consolas,'Courier New',monospace\"><span style=\"color: #808000; text-decoration-color: #808000\">......</span>reading NetCDF4 <span style=\"font-weight: bold\">(</span>.<span style=\"color: #800080; text-decoration-color: #800080\">/folderOnColab/data/</span><span style=\"color: #ff00ff; text-decoration-color: #ff00ff\">20250310_gfs.t00z.atmf000.nc</span><span style=\"font-weight: bold\">)</span>\n",
       "</pre>\n"
      ],
      "text/plain": [
       "\u001b[33m...\u001b[0m\u001b[33m...\u001b[0mreading NetCDF4 \u001b[1m(\u001b[0m.\u001b[35m/folderOnColab/data/\u001b[0m\u001b[95m20250310_gfs.t00z.atmf000.nc\u001b[0m\u001b[1m)\u001b[0m\n"
      ]
     },
     "metadata": {},
     "output_type": "display_data"
    },
    {
     "data": {
      "text/html": [
       "<pre style=\"white-space:pre;overflow-x:auto;line-height:normal;font-family:Menlo,'DejaVu Sans Mono',consolas,'Courier New',monospace\"><span style=\"color: #808000; text-decoration-color: #808000\">......</span>reading NetCDF4 <span style=\"font-weight: bold\">(</span>.<span style=\"color: #800080; text-decoration-color: #800080\">/folderOnColab/data/</span><span style=\"color: #ff00ff; text-decoration-color: #ff00ff\">20250311_gfs.t00z.atmf000.nc</span><span style=\"font-weight: bold\">)</span>\n",
       "</pre>\n"
      ],
      "text/plain": [
       "\u001b[33m...\u001b[0m\u001b[33m...\u001b[0mreading NetCDF4 \u001b[1m(\u001b[0m.\u001b[35m/folderOnColab/data/\u001b[0m\u001b[95m20250311_gfs.t00z.atmf000.nc\u001b[0m\u001b[1m)\u001b[0m\n"
      ]
     },
     "metadata": {},
     "output_type": "display_data"
    },
    {
     "data": {
      "text/html": [
       "<pre style=\"white-space:pre;overflow-x:auto;line-height:normal;font-family:Menlo,'DejaVu Sans Mono',consolas,'Courier New',monospace\"><span style=\"color: #808000; text-decoration-color: #808000\">......</span>reading NetCDF4 <span style=\"font-weight: bold\">(</span>.<span style=\"color: #800080; text-decoration-color: #800080\">/folderOnColab/data/</span><span style=\"color: #ff00ff; text-decoration-color: #ff00ff\">20250312_gfs.t00z.atmf000.nc</span><span style=\"font-weight: bold\">)</span>\n",
       "</pre>\n"
      ],
      "text/plain": [
       "\u001b[33m...\u001b[0m\u001b[33m...\u001b[0mreading NetCDF4 \u001b[1m(\u001b[0m.\u001b[35m/folderOnColab/data/\u001b[0m\u001b[95m20250312_gfs.t00z.atmf000.nc\u001b[0m\u001b[1m)\u001b[0m\n"
      ]
     },
     "metadata": {},
     "output_type": "display_data"
    },
    {
     "data": {
      "text/html": [
       "<pre style=\"white-space:pre;overflow-x:auto;line-height:normal;font-family:Menlo,'DejaVu Sans Mono',consolas,'Courier New',monospace\"><span style=\"color: #808000; text-decoration-color: #808000\">......</span>reading NetCDF4 <span style=\"font-weight: bold\">(</span>.<span style=\"color: #800080; text-decoration-color: #800080\">/folderOnColab/data/</span><span style=\"color: #ff00ff; text-decoration-color: #ff00ff\">20250313_gfs.t00z.atmf000.nc</span><span style=\"font-weight: bold\">)</span>\n",
       "</pre>\n"
      ],
      "text/plain": [
       "\u001b[33m...\u001b[0m\u001b[33m...\u001b[0mreading NetCDF4 \u001b[1m(\u001b[0m.\u001b[35m/folderOnColab/data/\u001b[0m\u001b[95m20250313_gfs.t00z.atmf000.nc\u001b[0m\u001b[1m)\u001b[0m\n"
      ]
     },
     "metadata": {},
     "output_type": "display_data"
    },
    {
     "data": {
      "text/html": [
       "<pre style=\"white-space:pre;overflow-x:auto;line-height:normal;font-family:Menlo,'DejaVu Sans Mono',consolas,'Courier New',monospace\"><span style=\"color: #808000; text-decoration-color: #808000\">......</span>reading NetCDF4 <span style=\"font-weight: bold\">(</span>.<span style=\"color: #800080; text-decoration-color: #800080\">/folderOnColab/data/</span><span style=\"color: #ff00ff; text-decoration-color: #ff00ff\">20250314_gfs.t00z.atmf000.nc</span><span style=\"font-weight: bold\">)</span>\n",
       "</pre>\n"
      ],
      "text/plain": [
       "\u001b[33m...\u001b[0m\u001b[33m...\u001b[0mreading NetCDF4 \u001b[1m(\u001b[0m.\u001b[35m/folderOnColab/data/\u001b[0m\u001b[95m20250314_gfs.t00z.atmf000.nc\u001b[0m\u001b[1m)\u001b[0m\n"
      ]
     },
     "metadata": {},
     "output_type": "display_data"
    },
    {
     "data": {
      "text/html": [
       "<pre style=\"white-space:pre;overflow-x:auto;line-height:normal;font-family:Menlo,'DejaVu Sans Mono',consolas,'Courier New',monospace\"><span style=\"color: #808000; text-decoration-color: #808000\">......</span>reading NetCDF4 <span style=\"font-weight: bold\">(</span>.<span style=\"color: #800080; text-decoration-color: #800080\">/folderOnColab/data/</span><span style=\"color: #ff00ff; text-decoration-color: #ff00ff\">20250315_gfs.t00z.atmf000.nc</span><span style=\"font-weight: bold\">)</span>\n",
       "</pre>\n"
      ],
      "text/plain": [
       "\u001b[33m...\u001b[0m\u001b[33m...\u001b[0mreading NetCDF4 \u001b[1m(\u001b[0m.\u001b[35m/folderOnColab/data/\u001b[0m\u001b[95m20250315_gfs.t00z.atmf000.nc\u001b[0m\u001b[1m)\u001b[0m\n"
      ]
     },
     "metadata": {},
     "output_type": "display_data"
    },
    {
     "data": {
      "text/html": [
       "<pre style=\"white-space:pre;overflow-x:auto;line-height:normal;font-family:Menlo,'DejaVu Sans Mono',consolas,'Courier New',monospace\"><span style=\"color: #808000; text-decoration-color: #808000\">......</span>reading NetCDF4 <span style=\"font-weight: bold\">(</span>.<span style=\"color: #800080; text-decoration-color: #800080\">/folderOnColab/data/</span><span style=\"color: #ff00ff; text-decoration-color: #ff00ff\">20250316_gfs.t00z.atmf000.nc</span><span style=\"font-weight: bold\">)</span>\n",
       "</pre>\n"
      ],
      "text/plain": [
       "\u001b[33m...\u001b[0m\u001b[33m...\u001b[0mreading NetCDF4 \u001b[1m(\u001b[0m.\u001b[35m/folderOnColab/data/\u001b[0m\u001b[95m20250316_gfs.t00z.atmf000.nc\u001b[0m\u001b[1m)\u001b[0m\n"
      ]
     },
     "metadata": {},
     "output_type": "display_data"
    },
    {
     "data": {
      "text/html": [
       "<pre style=\"white-space:pre;overflow-x:auto;line-height:normal;font-family:Menlo,'DejaVu Sans Mono',consolas,'Courier New',monospace\"><span style=\"color: #808000; text-decoration-color: #808000\">......</span>reading NetCDF4 <span style=\"font-weight: bold\">(</span>.<span style=\"color: #800080; text-decoration-color: #800080\">/folderOnColab/data/</span><span style=\"color: #ff00ff; text-decoration-color: #ff00ff\">20250317_gfs.t00z.atmf000.nc</span><span style=\"font-weight: bold\">)</span>\n",
       "</pre>\n"
      ],
      "text/plain": [
       "\u001b[33m...\u001b[0m\u001b[33m...\u001b[0mreading NetCDF4 \u001b[1m(\u001b[0m.\u001b[35m/folderOnColab/data/\u001b[0m\u001b[95m20250317_gfs.t00z.atmf000.nc\u001b[0m\u001b[1m)\u001b[0m\n"
      ]
     },
     "metadata": {},
     "output_type": "display_data"
    },
    {
     "data": {
      "text/html": [
       "<pre style=\"white-space:pre;overflow-x:auto;line-height:normal;font-family:Menlo,'DejaVu Sans Mono',consolas,'Courier New',monospace\">Entering __main__ read_netcdfs\n",
       "</pre>\n"
      ],
      "text/plain": [
       "Entering __main__ read_netcdfs\n"
      ]
     },
     "metadata": {},
     "output_type": "display_data"
    },
    {
     "data": {
      "text/html": [
       "<pre style=\"white-space:pre;overflow-x:auto;line-height:normal;font-family:Menlo,'DejaVu Sans Mono',consolas,'Courier New',monospace\">Entering __main__ gather_variables\n",
       "</pre>\n"
      ],
      "text/plain": [
       "Entering __main__ gather_variables\n"
      ]
     },
     "metadata": {},
     "output_type": "display_data"
    },
    {
     "name": "stdout",
     "output_type": "stream",
     "text": [
      "...pulling data for and stacking it to the core data structure:\n",
      "......stacking ./folderOnColab/data/20250308_gfs.t00z.atmf000.nc\n",
      "......stacking ./folderOnColab/data/20250309_gfs.t00z.atmf000.nc\n",
      "......stacking ./folderOnColab/data/20250310_gfs.t00z.atmf000.nc\n",
      "......stacking ./folderOnColab/data/20250311_gfs.t00z.atmf000.nc\n",
      "......stacking ./folderOnColab/data/20250312_gfs.t00z.atmf000.nc\n",
      "......stacking ./folderOnColab/data/20250313_gfs.t00z.atmf000.nc\n",
      "......stacking ./folderOnColab/data/20250314_gfs.t00z.atmf000.nc\n",
      "......stacking ./folderOnColab/data/20250315_gfs.t00z.atmf000.nc\n",
      "......stacking ./folderOnColab/data/20250316_gfs.t00z.atmf000.nc\n",
      "......stacking ./folderOnColab/data/20250317_gfs.t00z.atmf000.nc\n",
      "...\u001b[1mlat        data type:         \u001b[0;0m<class 'numpy.ndarray'>\n",
      ".......shape:(47185920,)\n",
      "....datatype:float64\n",
      "...\u001b[1mlon        data type:         \u001b[0;0m<class 'numpy.ndarray'>\n",
      ".......shape:(47185920,)\n",
      "....datatype:float64\n",
      "...\u001b[1mData type           (cld_amt             )\u001b[0;0m<class 'numpy.ndarray'>\n",
      ".......shape:(47185920,)\n",
      "....datatype:float64\n"
     ]
    },
    {
     "data": {
      "text/html": [
       "<pre style=\"white-space:pre;overflow-x:auto;line-height:normal;font-family:Menlo,'DejaVu Sans Mono',consolas,'Courier New',monospace\">Exiting __main__ gather_variables\n",
       "</pre>\n"
      ],
      "text/plain": [
       "Exiting __main__ gather_variables\n"
      ]
     },
     "metadata": {},
     "output_type": "display_data"
    },
    {
     "data": {
      "text/html": [
       "<pre style=\"white-space:pre;overflow-x:auto;line-height:normal;font-family:Menlo,'DejaVu Sans Mono',consolas,'Courier New',monospace\">Entering __main__ read_netcdfs\n",
       "</pre>\n"
      ],
      "text/plain": [
       "Entering __main__ read_netcdfs\n"
      ]
     },
     "metadata": {},
     "output_type": "display_data"
    },
    {
     "data": {
      "text/html": [
       "<pre style=\"white-space:pre;overflow-x:auto;line-height:normal;font-family:Menlo,'DejaVu Sans Mono',consolas,'Courier New',monospace\"><span style=\"color: #808000; text-decoration-color: #808000\">...</span>reading NetCDF4 from list of <span style=\"color: #008080; text-decoration-color: #008080; font-weight: bold\">10</span> files:\n",
       "</pre>\n"
      ],
      "text/plain": [
       "\u001b[33m...\u001b[0mreading NetCDF4 from list of \u001b[1;36m10\u001b[0m files:\n"
      ]
     },
     "metadata": {},
     "output_type": "display_data"
    },
    {
     "data": {
      "text/html": [
       "<pre style=\"white-space:pre;overflow-x:auto;line-height:normal;font-family:Menlo,'DejaVu Sans Mono',consolas,'Courier New',monospace\"><span style=\"color: #808000; text-decoration-color: #808000\">......</span>reading NetCDF4 <span style=\"font-weight: bold\">(</span>.<span style=\"color: #800080; text-decoration-color: #800080\">/folderOnColab/data/</span><span style=\"color: #ff00ff; text-decoration-color: #ff00ff\">20250308_gfs.t00z.atmf000.nc</span><span style=\"font-weight: bold\">)</span>\n",
       "</pre>\n"
      ],
      "text/plain": [
       "\u001b[33m...\u001b[0m\u001b[33m...\u001b[0mreading NetCDF4 \u001b[1m(\u001b[0m.\u001b[35m/folderOnColab/data/\u001b[0m\u001b[95m20250308_gfs.t00z.atmf000.nc\u001b[0m\u001b[1m)\u001b[0m\n"
      ]
     },
     "metadata": {},
     "output_type": "display_data"
    },
    {
     "data": {
      "text/html": [
       "<pre style=\"white-space:pre;overflow-x:auto;line-height:normal;font-family:Menlo,'DejaVu Sans Mono',consolas,'Courier New',monospace\"><span style=\"color: #808000; text-decoration-color: #808000\">......</span>reading NetCDF4 <span style=\"font-weight: bold\">(</span>.<span style=\"color: #800080; text-decoration-color: #800080\">/folderOnColab/data/</span><span style=\"color: #ff00ff; text-decoration-color: #ff00ff\">20250309_gfs.t00z.atmf000.nc</span><span style=\"font-weight: bold\">)</span>\n",
       "</pre>\n"
      ],
      "text/plain": [
       "\u001b[33m...\u001b[0m\u001b[33m...\u001b[0mreading NetCDF4 \u001b[1m(\u001b[0m.\u001b[35m/folderOnColab/data/\u001b[0m\u001b[95m20250309_gfs.t00z.atmf000.nc\u001b[0m\u001b[1m)\u001b[0m\n"
      ]
     },
     "metadata": {},
     "output_type": "display_data"
    },
    {
     "data": {
      "text/html": [
       "<pre style=\"white-space:pre;overflow-x:auto;line-height:normal;font-family:Menlo,'DejaVu Sans Mono',consolas,'Courier New',monospace\"><span style=\"color: #808000; text-decoration-color: #808000\">......</span>reading NetCDF4 <span style=\"font-weight: bold\">(</span>.<span style=\"color: #800080; text-decoration-color: #800080\">/folderOnColab/data/</span><span style=\"color: #ff00ff; text-decoration-color: #ff00ff\">20250310_gfs.t00z.atmf000.nc</span><span style=\"font-weight: bold\">)</span>\n",
       "</pre>\n"
      ],
      "text/plain": [
       "\u001b[33m...\u001b[0m\u001b[33m...\u001b[0mreading NetCDF4 \u001b[1m(\u001b[0m.\u001b[35m/folderOnColab/data/\u001b[0m\u001b[95m20250310_gfs.t00z.atmf000.nc\u001b[0m\u001b[1m)\u001b[0m\n"
      ]
     },
     "metadata": {},
     "output_type": "display_data"
    },
    {
     "data": {
      "text/html": [
       "<pre style=\"white-space:pre;overflow-x:auto;line-height:normal;font-family:Menlo,'DejaVu Sans Mono',consolas,'Courier New',monospace\"><span style=\"color: #808000; text-decoration-color: #808000\">......</span>reading NetCDF4 <span style=\"font-weight: bold\">(</span>.<span style=\"color: #800080; text-decoration-color: #800080\">/folderOnColab/data/</span><span style=\"color: #ff00ff; text-decoration-color: #ff00ff\">20250311_gfs.t00z.atmf000.nc</span><span style=\"font-weight: bold\">)</span>\n",
       "</pre>\n"
      ],
      "text/plain": [
       "\u001b[33m...\u001b[0m\u001b[33m...\u001b[0mreading NetCDF4 \u001b[1m(\u001b[0m.\u001b[35m/folderOnColab/data/\u001b[0m\u001b[95m20250311_gfs.t00z.atmf000.nc\u001b[0m\u001b[1m)\u001b[0m\n"
      ]
     },
     "metadata": {},
     "output_type": "display_data"
    },
    {
     "data": {
      "text/html": [
       "<pre style=\"white-space:pre;overflow-x:auto;line-height:normal;font-family:Menlo,'DejaVu Sans Mono',consolas,'Courier New',monospace\"><span style=\"color: #808000; text-decoration-color: #808000\">......</span>reading NetCDF4 <span style=\"font-weight: bold\">(</span>.<span style=\"color: #800080; text-decoration-color: #800080\">/folderOnColab/data/</span><span style=\"color: #ff00ff; text-decoration-color: #ff00ff\">20250312_gfs.t00z.atmf000.nc</span><span style=\"font-weight: bold\">)</span>\n",
       "</pre>\n"
      ],
      "text/plain": [
       "\u001b[33m...\u001b[0m\u001b[33m...\u001b[0mreading NetCDF4 \u001b[1m(\u001b[0m.\u001b[35m/folderOnColab/data/\u001b[0m\u001b[95m20250312_gfs.t00z.atmf000.nc\u001b[0m\u001b[1m)\u001b[0m\n"
      ]
     },
     "metadata": {},
     "output_type": "display_data"
    },
    {
     "data": {
      "text/html": [
       "<pre style=\"white-space:pre;overflow-x:auto;line-height:normal;font-family:Menlo,'DejaVu Sans Mono',consolas,'Courier New',monospace\"><span style=\"color: #808000; text-decoration-color: #808000\">......</span>reading NetCDF4 <span style=\"font-weight: bold\">(</span>.<span style=\"color: #800080; text-decoration-color: #800080\">/folderOnColab/data/</span><span style=\"color: #ff00ff; text-decoration-color: #ff00ff\">20250313_gfs.t00z.atmf000.nc</span><span style=\"font-weight: bold\">)</span>\n",
       "</pre>\n"
      ],
      "text/plain": [
       "\u001b[33m...\u001b[0m\u001b[33m...\u001b[0mreading NetCDF4 \u001b[1m(\u001b[0m.\u001b[35m/folderOnColab/data/\u001b[0m\u001b[95m20250313_gfs.t00z.atmf000.nc\u001b[0m\u001b[1m)\u001b[0m\n"
      ]
     },
     "metadata": {},
     "output_type": "display_data"
    },
    {
     "data": {
      "text/html": [
       "<pre style=\"white-space:pre;overflow-x:auto;line-height:normal;font-family:Menlo,'DejaVu Sans Mono',consolas,'Courier New',monospace\"><span style=\"color: #808000; text-decoration-color: #808000\">......</span>reading NetCDF4 <span style=\"font-weight: bold\">(</span>.<span style=\"color: #800080; text-decoration-color: #800080\">/folderOnColab/data/</span><span style=\"color: #ff00ff; text-decoration-color: #ff00ff\">20250314_gfs.t00z.atmf000.nc</span><span style=\"font-weight: bold\">)</span>\n",
       "</pre>\n"
      ],
      "text/plain": [
       "\u001b[33m...\u001b[0m\u001b[33m...\u001b[0mreading NetCDF4 \u001b[1m(\u001b[0m.\u001b[35m/folderOnColab/data/\u001b[0m\u001b[95m20250314_gfs.t00z.atmf000.nc\u001b[0m\u001b[1m)\u001b[0m\n"
      ]
     },
     "metadata": {},
     "output_type": "display_data"
    },
    {
     "data": {
      "text/html": [
       "<pre style=\"white-space:pre;overflow-x:auto;line-height:normal;font-family:Menlo,'DejaVu Sans Mono',consolas,'Courier New',monospace\"><span style=\"color: #808000; text-decoration-color: #808000\">......</span>reading NetCDF4 <span style=\"font-weight: bold\">(</span>.<span style=\"color: #800080; text-decoration-color: #800080\">/folderOnColab/data/</span><span style=\"color: #ff00ff; text-decoration-color: #ff00ff\">20250315_gfs.t00z.atmf000.nc</span><span style=\"font-weight: bold\">)</span>\n",
       "</pre>\n"
      ],
      "text/plain": [
       "\u001b[33m...\u001b[0m\u001b[33m...\u001b[0mreading NetCDF4 \u001b[1m(\u001b[0m.\u001b[35m/folderOnColab/data/\u001b[0m\u001b[95m20250315_gfs.t00z.atmf000.nc\u001b[0m\u001b[1m)\u001b[0m\n"
      ]
     },
     "metadata": {},
     "output_type": "display_data"
    },
    {
     "data": {
      "text/html": [
       "<pre style=\"white-space:pre;overflow-x:auto;line-height:normal;font-family:Menlo,'DejaVu Sans Mono',consolas,'Courier New',monospace\"><span style=\"color: #808000; text-decoration-color: #808000\">......</span>reading NetCDF4 <span style=\"font-weight: bold\">(</span>.<span style=\"color: #800080; text-decoration-color: #800080\">/folderOnColab/data/</span><span style=\"color: #ff00ff; text-decoration-color: #ff00ff\">20250316_gfs.t00z.atmf000.nc</span><span style=\"font-weight: bold\">)</span>\n",
       "</pre>\n"
      ],
      "text/plain": [
       "\u001b[33m...\u001b[0m\u001b[33m...\u001b[0mreading NetCDF4 \u001b[1m(\u001b[0m.\u001b[35m/folderOnColab/data/\u001b[0m\u001b[95m20250316_gfs.t00z.atmf000.nc\u001b[0m\u001b[1m)\u001b[0m\n"
      ]
     },
     "metadata": {},
     "output_type": "display_data"
    },
    {
     "data": {
      "text/html": [
       "<pre style=\"white-space:pre;overflow-x:auto;line-height:normal;font-family:Menlo,'DejaVu Sans Mono',consolas,'Courier New',monospace\"><span style=\"color: #808000; text-decoration-color: #808000\">......</span>reading NetCDF4 <span style=\"font-weight: bold\">(</span>.<span style=\"color: #800080; text-decoration-color: #800080\">/folderOnColab/data/</span><span style=\"color: #ff00ff; text-decoration-color: #ff00ff\">20250317_gfs.t00z.atmf000.nc</span><span style=\"font-weight: bold\">)</span>\n",
       "</pre>\n"
      ],
      "text/plain": [
       "\u001b[33m...\u001b[0m\u001b[33m...\u001b[0mreading NetCDF4 \u001b[1m(\u001b[0m.\u001b[35m/folderOnColab/data/\u001b[0m\u001b[95m20250317_gfs.t00z.atmf000.nc\u001b[0m\u001b[1m)\u001b[0m\n"
      ]
     },
     "metadata": {},
     "output_type": "display_data"
    },
    {
     "data": {
      "text/html": [
       "<pre style=\"white-space:pre;overflow-x:auto;line-height:normal;font-family:Menlo,'DejaVu Sans Mono',consolas,'Courier New',monospace\">Entering __main__ read_netcdfs\n",
       "</pre>\n"
      ],
      "text/plain": [
       "Entering __main__ read_netcdfs\n"
      ]
     },
     "metadata": {},
     "output_type": "display_data"
    },
    {
     "data": {
      "text/html": [
       "<pre style=\"white-space:pre;overflow-x:auto;line-height:normal;font-family:Menlo,'DejaVu Sans Mono',consolas,'Courier New',monospace\">Entering __main__ gather_variables\n",
       "</pre>\n"
      ],
      "text/plain": [
       "Entering __main__ gather_variables\n"
      ]
     },
     "metadata": {},
     "output_type": "display_data"
    },
    {
     "name": "stdout",
     "output_type": "stream",
     "text": [
      "...pulling data for and stacking it to the core data structure:\n",
      "......stacking ./folderOnColab/data/20250308_gfs.t00z.atmf000.nc\n",
      "......stacking ./folderOnColab/data/20250309_gfs.t00z.atmf000.nc\n",
      "......stacking ./folderOnColab/data/20250310_gfs.t00z.atmf000.nc\n",
      "......stacking ./folderOnColab/data/20250311_gfs.t00z.atmf000.nc\n",
      "......stacking ./folderOnColab/data/20250312_gfs.t00z.atmf000.nc\n",
      "......stacking ./folderOnColab/data/20250313_gfs.t00z.atmf000.nc\n",
      "......stacking ./folderOnColab/data/20250314_gfs.t00z.atmf000.nc\n",
      "......stacking ./folderOnColab/data/20250315_gfs.t00z.atmf000.nc\n",
      "......stacking ./folderOnColab/data/20250316_gfs.t00z.atmf000.nc\n",
      "......stacking ./folderOnColab/data/20250317_gfs.t00z.atmf000.nc\n",
      "...\u001b[1mlat        data type:         \u001b[0;0m<class 'numpy.ndarray'>\n",
      ".......shape:(47185920,)\n",
      "....datatype:float64\n",
      "...\u001b[1mlon        data type:         \u001b[0;0m<class 'numpy.ndarray'>\n",
      ".......shape:(47185920,)\n",
      "....datatype:float64\n",
      "...\u001b[1mData type           (cld_amt             )\u001b[0;0m<class 'numpy.ndarray'>\n",
      ".......shape:(47185920,)\n",
      "....datatype:float64\n"
     ]
    },
    {
     "data": {
      "text/html": [
       "<pre style=\"white-space:pre;overflow-x:auto;line-height:normal;font-family:Menlo,'DejaVu Sans Mono',consolas,'Courier New',monospace\">Exiting __main__ gather_variables\n",
       "</pre>\n"
      ],
      "text/plain": [
       "Exiting __main__ gather_variables\n"
      ]
     },
     "metadata": {},
     "output_type": "display_data"
    },
    {
     "data": {
      "text/html": [
       "<pre style=\"white-space:pre;overflow-x:auto;line-height:normal;font-family:Menlo,'DejaVu Sans Mono',consolas,'Courier New',monospace\">Entering __main__ read_netcdfs\n",
       "</pre>\n"
      ],
      "text/plain": [
       "Entering __main__ read_netcdfs\n"
      ]
     },
     "metadata": {},
     "output_type": "display_data"
    },
    {
     "data": {
      "text/html": [
       "<pre style=\"white-space:pre;overflow-x:auto;line-height:normal;font-family:Menlo,'DejaVu Sans Mono',consolas,'Courier New',monospace\"><span style=\"color: #808000; text-decoration-color: #808000\">...</span>reading NetCDF4 from list of <span style=\"color: #008080; text-decoration-color: #008080; font-weight: bold\">10</span> files:\n",
       "</pre>\n"
      ],
      "text/plain": [
       "\u001b[33m...\u001b[0mreading NetCDF4 from list of \u001b[1;36m10\u001b[0m files:\n"
      ]
     },
     "metadata": {},
     "output_type": "display_data"
    },
    {
     "data": {
      "text/html": [
       "<pre style=\"white-space:pre;overflow-x:auto;line-height:normal;font-family:Menlo,'DejaVu Sans Mono',consolas,'Courier New',monospace\"><span style=\"color: #808000; text-decoration-color: #808000\">......</span>reading NetCDF4 <span style=\"font-weight: bold\">(</span>.<span style=\"color: #800080; text-decoration-color: #800080\">/folderOnColab/data/</span><span style=\"color: #ff00ff; text-decoration-color: #ff00ff\">20250308_gfs.t00z.atmf000.nc</span><span style=\"font-weight: bold\">)</span>\n",
       "</pre>\n"
      ],
      "text/plain": [
       "\u001b[33m...\u001b[0m\u001b[33m...\u001b[0mreading NetCDF4 \u001b[1m(\u001b[0m.\u001b[35m/folderOnColab/data/\u001b[0m\u001b[95m20250308_gfs.t00z.atmf000.nc\u001b[0m\u001b[1m)\u001b[0m\n"
      ]
     },
     "metadata": {},
     "output_type": "display_data"
    },
    {
     "data": {
      "text/html": [
       "<pre style=\"white-space:pre;overflow-x:auto;line-height:normal;font-family:Menlo,'DejaVu Sans Mono',consolas,'Courier New',monospace\"><span style=\"color: #808000; text-decoration-color: #808000\">......</span>reading NetCDF4 <span style=\"font-weight: bold\">(</span>.<span style=\"color: #800080; text-decoration-color: #800080\">/folderOnColab/data/</span><span style=\"color: #ff00ff; text-decoration-color: #ff00ff\">20250309_gfs.t00z.atmf000.nc</span><span style=\"font-weight: bold\">)</span>\n",
       "</pre>\n"
      ],
      "text/plain": [
       "\u001b[33m...\u001b[0m\u001b[33m...\u001b[0mreading NetCDF4 \u001b[1m(\u001b[0m.\u001b[35m/folderOnColab/data/\u001b[0m\u001b[95m20250309_gfs.t00z.atmf000.nc\u001b[0m\u001b[1m)\u001b[0m\n"
      ]
     },
     "metadata": {},
     "output_type": "display_data"
    },
    {
     "data": {
      "text/html": [
       "<pre style=\"white-space:pre;overflow-x:auto;line-height:normal;font-family:Menlo,'DejaVu Sans Mono',consolas,'Courier New',monospace\"><span style=\"color: #808000; text-decoration-color: #808000\">......</span>reading NetCDF4 <span style=\"font-weight: bold\">(</span>.<span style=\"color: #800080; text-decoration-color: #800080\">/folderOnColab/data/</span><span style=\"color: #ff00ff; text-decoration-color: #ff00ff\">20250310_gfs.t00z.atmf000.nc</span><span style=\"font-weight: bold\">)</span>\n",
       "</pre>\n"
      ],
      "text/plain": [
       "\u001b[33m...\u001b[0m\u001b[33m...\u001b[0mreading NetCDF4 \u001b[1m(\u001b[0m.\u001b[35m/folderOnColab/data/\u001b[0m\u001b[95m20250310_gfs.t00z.atmf000.nc\u001b[0m\u001b[1m)\u001b[0m\n"
      ]
     },
     "metadata": {},
     "output_type": "display_data"
    },
    {
     "data": {
      "text/html": [
       "<pre style=\"white-space:pre;overflow-x:auto;line-height:normal;font-family:Menlo,'DejaVu Sans Mono',consolas,'Courier New',monospace\"><span style=\"color: #808000; text-decoration-color: #808000\">......</span>reading NetCDF4 <span style=\"font-weight: bold\">(</span>.<span style=\"color: #800080; text-decoration-color: #800080\">/folderOnColab/data/</span><span style=\"color: #ff00ff; text-decoration-color: #ff00ff\">20250311_gfs.t00z.atmf000.nc</span><span style=\"font-weight: bold\">)</span>\n",
       "</pre>\n"
      ],
      "text/plain": [
       "\u001b[33m...\u001b[0m\u001b[33m...\u001b[0mreading NetCDF4 \u001b[1m(\u001b[0m.\u001b[35m/folderOnColab/data/\u001b[0m\u001b[95m20250311_gfs.t00z.atmf000.nc\u001b[0m\u001b[1m)\u001b[0m\n"
      ]
     },
     "metadata": {},
     "output_type": "display_data"
    },
    {
     "data": {
      "text/html": [
       "<pre style=\"white-space:pre;overflow-x:auto;line-height:normal;font-family:Menlo,'DejaVu Sans Mono',consolas,'Courier New',monospace\"><span style=\"color: #808000; text-decoration-color: #808000\">......</span>reading NetCDF4 <span style=\"font-weight: bold\">(</span>.<span style=\"color: #800080; text-decoration-color: #800080\">/folderOnColab/data/</span><span style=\"color: #ff00ff; text-decoration-color: #ff00ff\">20250312_gfs.t00z.atmf000.nc</span><span style=\"font-weight: bold\">)</span>\n",
       "</pre>\n"
      ],
      "text/plain": [
       "\u001b[33m...\u001b[0m\u001b[33m...\u001b[0mreading NetCDF4 \u001b[1m(\u001b[0m.\u001b[35m/folderOnColab/data/\u001b[0m\u001b[95m20250312_gfs.t00z.atmf000.nc\u001b[0m\u001b[1m)\u001b[0m\n"
      ]
     },
     "metadata": {},
     "output_type": "display_data"
    },
    {
     "data": {
      "text/html": [
       "<pre style=\"white-space:pre;overflow-x:auto;line-height:normal;font-family:Menlo,'DejaVu Sans Mono',consolas,'Courier New',monospace\"><span style=\"color: #808000; text-decoration-color: #808000\">......</span>reading NetCDF4 <span style=\"font-weight: bold\">(</span>.<span style=\"color: #800080; text-decoration-color: #800080\">/folderOnColab/data/</span><span style=\"color: #ff00ff; text-decoration-color: #ff00ff\">20250313_gfs.t00z.atmf000.nc</span><span style=\"font-weight: bold\">)</span>\n",
       "</pre>\n"
      ],
      "text/plain": [
       "\u001b[33m...\u001b[0m\u001b[33m...\u001b[0mreading NetCDF4 \u001b[1m(\u001b[0m.\u001b[35m/folderOnColab/data/\u001b[0m\u001b[95m20250313_gfs.t00z.atmf000.nc\u001b[0m\u001b[1m)\u001b[0m\n"
      ]
     },
     "metadata": {},
     "output_type": "display_data"
    },
    {
     "data": {
      "text/html": [
       "<pre style=\"white-space:pre;overflow-x:auto;line-height:normal;font-family:Menlo,'DejaVu Sans Mono',consolas,'Courier New',monospace\"><span style=\"color: #808000; text-decoration-color: #808000\">......</span>reading NetCDF4 <span style=\"font-weight: bold\">(</span>.<span style=\"color: #800080; text-decoration-color: #800080\">/folderOnColab/data/</span><span style=\"color: #ff00ff; text-decoration-color: #ff00ff\">20250314_gfs.t00z.atmf000.nc</span><span style=\"font-weight: bold\">)</span>\n",
       "</pre>\n"
      ],
      "text/plain": [
       "\u001b[33m...\u001b[0m\u001b[33m...\u001b[0mreading NetCDF4 \u001b[1m(\u001b[0m.\u001b[35m/folderOnColab/data/\u001b[0m\u001b[95m20250314_gfs.t00z.atmf000.nc\u001b[0m\u001b[1m)\u001b[0m\n"
      ]
     },
     "metadata": {},
     "output_type": "display_data"
    },
    {
     "data": {
      "text/html": [
       "<pre style=\"white-space:pre;overflow-x:auto;line-height:normal;font-family:Menlo,'DejaVu Sans Mono',consolas,'Courier New',monospace\"><span style=\"color: #808000; text-decoration-color: #808000\">......</span>reading NetCDF4 <span style=\"font-weight: bold\">(</span>.<span style=\"color: #800080; text-decoration-color: #800080\">/folderOnColab/data/</span><span style=\"color: #ff00ff; text-decoration-color: #ff00ff\">20250315_gfs.t00z.atmf000.nc</span><span style=\"font-weight: bold\">)</span>\n",
       "</pre>\n"
      ],
      "text/plain": [
       "\u001b[33m...\u001b[0m\u001b[33m...\u001b[0mreading NetCDF4 \u001b[1m(\u001b[0m.\u001b[35m/folderOnColab/data/\u001b[0m\u001b[95m20250315_gfs.t00z.atmf000.nc\u001b[0m\u001b[1m)\u001b[0m\n"
      ]
     },
     "metadata": {},
     "output_type": "display_data"
    },
    {
     "data": {
      "text/html": [
       "<pre style=\"white-space:pre;overflow-x:auto;line-height:normal;font-family:Menlo,'DejaVu Sans Mono',consolas,'Courier New',monospace\"><span style=\"color: #808000; text-decoration-color: #808000\">......</span>reading NetCDF4 <span style=\"font-weight: bold\">(</span>.<span style=\"color: #800080; text-decoration-color: #800080\">/folderOnColab/data/</span><span style=\"color: #ff00ff; text-decoration-color: #ff00ff\">20250316_gfs.t00z.atmf000.nc</span><span style=\"font-weight: bold\">)</span>\n",
       "</pre>\n"
      ],
      "text/plain": [
       "\u001b[33m...\u001b[0m\u001b[33m...\u001b[0mreading NetCDF4 \u001b[1m(\u001b[0m.\u001b[35m/folderOnColab/data/\u001b[0m\u001b[95m20250316_gfs.t00z.atmf000.nc\u001b[0m\u001b[1m)\u001b[0m\n"
      ]
     },
     "metadata": {},
     "output_type": "display_data"
    },
    {
     "data": {
      "text/html": [
       "<pre style=\"white-space:pre;overflow-x:auto;line-height:normal;font-family:Menlo,'DejaVu Sans Mono',consolas,'Courier New',monospace\"><span style=\"color: #808000; text-decoration-color: #808000\">......</span>reading NetCDF4 <span style=\"font-weight: bold\">(</span>.<span style=\"color: #800080; text-decoration-color: #800080\">/folderOnColab/data/</span><span style=\"color: #ff00ff; text-decoration-color: #ff00ff\">20250317_gfs.t00z.atmf000.nc</span><span style=\"font-weight: bold\">)</span>\n",
       "</pre>\n"
      ],
      "text/plain": [
       "\u001b[33m...\u001b[0m\u001b[33m...\u001b[0mreading NetCDF4 \u001b[1m(\u001b[0m.\u001b[35m/folderOnColab/data/\u001b[0m\u001b[95m20250317_gfs.t00z.atmf000.nc\u001b[0m\u001b[1m)\u001b[0m\n"
      ]
     },
     "metadata": {},
     "output_type": "display_data"
    },
    {
     "data": {
      "text/html": [
       "<pre style=\"white-space:pre;overflow-x:auto;line-height:normal;font-family:Menlo,'DejaVu Sans Mono',consolas,'Courier New',monospace\">Entering __main__ read_netcdfs\n",
       "</pre>\n"
      ],
      "text/plain": [
       "Entering __main__ read_netcdfs\n"
      ]
     },
     "metadata": {},
     "output_type": "display_data"
    },
    {
     "data": {
      "text/html": [
       "<pre style=\"white-space:pre;overflow-x:auto;line-height:normal;font-family:Menlo,'DejaVu Sans Mono',consolas,'Courier New',monospace\">Entering __main__ gather_variables\n",
       "</pre>\n"
      ],
      "text/plain": [
       "Entering __main__ gather_variables\n"
      ]
     },
     "metadata": {},
     "output_type": "display_data"
    },
    {
     "name": "stdout",
     "output_type": "stream",
     "text": [
      "...pulling data for and stacking it to the core data structure:\n",
      "......stacking ./folderOnColab/data/20250308_gfs.t00z.atmf000.nc\n",
      "......stacking ./folderOnColab/data/20250309_gfs.t00z.atmf000.nc\n",
      "......stacking ./folderOnColab/data/20250310_gfs.t00z.atmf000.nc\n",
      "......stacking ./folderOnColab/data/20250311_gfs.t00z.atmf000.nc\n",
      "......stacking ./folderOnColab/data/20250312_gfs.t00z.atmf000.nc\n",
      "......stacking ./folderOnColab/data/20250313_gfs.t00z.atmf000.nc\n",
      "......stacking ./folderOnColab/data/20250314_gfs.t00z.atmf000.nc\n",
      "......stacking ./folderOnColab/data/20250315_gfs.t00z.atmf000.nc\n",
      "......stacking ./folderOnColab/data/20250316_gfs.t00z.atmf000.nc\n",
      "......stacking ./folderOnColab/data/20250317_gfs.t00z.atmf000.nc\n",
      "...\u001b[1mlat        data type:         \u001b[0;0m<class 'numpy.ndarray'>\n",
      ".......shape:(47185920,)\n",
      "....datatype:float64\n",
      "...\u001b[1mlon        data type:         \u001b[0;0m<class 'numpy.ndarray'>\n",
      ".......shape:(47185920,)\n",
      "....datatype:float64\n",
      "...\u001b[1mData type           (cld_amt             )\u001b[0;0m<class 'numpy.ndarray'>\n",
      ".......shape:(47185920,)\n",
      "....datatype:float64\n"
     ]
    },
    {
     "data": {
      "text/html": [
       "<pre style=\"white-space:pre;overflow-x:auto;line-height:normal;font-family:Menlo,'DejaVu Sans Mono',consolas,'Courier New',monospace\">Exiting __main__ gather_variables\n",
       "</pre>\n"
      ],
      "text/plain": [
       "Exiting __main__ gather_variables\n"
      ]
     },
     "metadata": {},
     "output_type": "display_data"
    },
    {
     "data": {
      "text/html": [
       "<pre style=\"white-space:pre;overflow-x:auto;line-height:normal;font-family:Menlo,'DejaVu Sans Mono',consolas,'Courier New',monospace\">Entering __main__ read_netcdfs\n",
       "</pre>\n"
      ],
      "text/plain": [
       "Entering __main__ read_netcdfs\n"
      ]
     },
     "metadata": {},
     "output_type": "display_data"
    },
    {
     "data": {
      "text/html": [
       "<pre style=\"white-space:pre;overflow-x:auto;line-height:normal;font-family:Menlo,'DejaVu Sans Mono',consolas,'Courier New',monospace\"><span style=\"color: #808000; text-decoration-color: #808000\">...</span>reading NetCDF4 from list of <span style=\"color: #008080; text-decoration-color: #008080; font-weight: bold\">10</span> files:\n",
       "</pre>\n"
      ],
      "text/plain": [
       "\u001b[33m...\u001b[0mreading NetCDF4 from list of \u001b[1;36m10\u001b[0m files:\n"
      ]
     },
     "metadata": {},
     "output_type": "display_data"
    },
    {
     "data": {
      "text/html": [
       "<pre style=\"white-space:pre;overflow-x:auto;line-height:normal;font-family:Menlo,'DejaVu Sans Mono',consolas,'Courier New',monospace\"><span style=\"color: #808000; text-decoration-color: #808000\">......</span>reading NetCDF4 <span style=\"font-weight: bold\">(</span>.<span style=\"color: #800080; text-decoration-color: #800080\">/folderOnColab/data/</span><span style=\"color: #ff00ff; text-decoration-color: #ff00ff\">20250308_gfs.t00z.atmf000.nc</span><span style=\"font-weight: bold\">)</span>\n",
       "</pre>\n"
      ],
      "text/plain": [
       "\u001b[33m...\u001b[0m\u001b[33m...\u001b[0mreading NetCDF4 \u001b[1m(\u001b[0m.\u001b[35m/folderOnColab/data/\u001b[0m\u001b[95m20250308_gfs.t00z.atmf000.nc\u001b[0m\u001b[1m)\u001b[0m\n"
      ]
     },
     "metadata": {},
     "output_type": "display_data"
    },
    {
     "data": {
      "text/html": [
       "<pre style=\"white-space:pre;overflow-x:auto;line-height:normal;font-family:Menlo,'DejaVu Sans Mono',consolas,'Courier New',monospace\"><span style=\"color: #808000; text-decoration-color: #808000\">......</span>reading NetCDF4 <span style=\"font-weight: bold\">(</span>.<span style=\"color: #800080; text-decoration-color: #800080\">/folderOnColab/data/</span><span style=\"color: #ff00ff; text-decoration-color: #ff00ff\">20250309_gfs.t00z.atmf000.nc</span><span style=\"font-weight: bold\">)</span>\n",
       "</pre>\n"
      ],
      "text/plain": [
       "\u001b[33m...\u001b[0m\u001b[33m...\u001b[0mreading NetCDF4 \u001b[1m(\u001b[0m.\u001b[35m/folderOnColab/data/\u001b[0m\u001b[95m20250309_gfs.t00z.atmf000.nc\u001b[0m\u001b[1m)\u001b[0m\n"
      ]
     },
     "metadata": {},
     "output_type": "display_data"
    },
    {
     "data": {
      "text/html": [
       "<pre style=\"white-space:pre;overflow-x:auto;line-height:normal;font-family:Menlo,'DejaVu Sans Mono',consolas,'Courier New',monospace\"><span style=\"color: #808000; text-decoration-color: #808000\">......</span>reading NetCDF4 <span style=\"font-weight: bold\">(</span>.<span style=\"color: #800080; text-decoration-color: #800080\">/folderOnColab/data/</span><span style=\"color: #ff00ff; text-decoration-color: #ff00ff\">20250310_gfs.t00z.atmf000.nc</span><span style=\"font-weight: bold\">)</span>\n",
       "</pre>\n"
      ],
      "text/plain": [
       "\u001b[33m...\u001b[0m\u001b[33m...\u001b[0mreading NetCDF4 \u001b[1m(\u001b[0m.\u001b[35m/folderOnColab/data/\u001b[0m\u001b[95m20250310_gfs.t00z.atmf000.nc\u001b[0m\u001b[1m)\u001b[0m\n"
      ]
     },
     "metadata": {},
     "output_type": "display_data"
    },
    {
     "data": {
      "text/html": [
       "<pre style=\"white-space:pre;overflow-x:auto;line-height:normal;font-family:Menlo,'DejaVu Sans Mono',consolas,'Courier New',monospace\"><span style=\"color: #808000; text-decoration-color: #808000\">......</span>reading NetCDF4 <span style=\"font-weight: bold\">(</span>.<span style=\"color: #800080; text-decoration-color: #800080\">/folderOnColab/data/</span><span style=\"color: #ff00ff; text-decoration-color: #ff00ff\">20250311_gfs.t00z.atmf000.nc</span><span style=\"font-weight: bold\">)</span>\n",
       "</pre>\n"
      ],
      "text/plain": [
       "\u001b[33m...\u001b[0m\u001b[33m...\u001b[0mreading NetCDF4 \u001b[1m(\u001b[0m.\u001b[35m/folderOnColab/data/\u001b[0m\u001b[95m20250311_gfs.t00z.atmf000.nc\u001b[0m\u001b[1m)\u001b[0m\n"
      ]
     },
     "metadata": {},
     "output_type": "display_data"
    },
    {
     "data": {
      "text/html": [
       "<pre style=\"white-space:pre;overflow-x:auto;line-height:normal;font-family:Menlo,'DejaVu Sans Mono',consolas,'Courier New',monospace\"><span style=\"color: #808000; text-decoration-color: #808000\">......</span>reading NetCDF4 <span style=\"font-weight: bold\">(</span>.<span style=\"color: #800080; text-decoration-color: #800080\">/folderOnColab/data/</span><span style=\"color: #ff00ff; text-decoration-color: #ff00ff\">20250312_gfs.t00z.atmf000.nc</span><span style=\"font-weight: bold\">)</span>\n",
       "</pre>\n"
      ],
      "text/plain": [
       "\u001b[33m...\u001b[0m\u001b[33m...\u001b[0mreading NetCDF4 \u001b[1m(\u001b[0m.\u001b[35m/folderOnColab/data/\u001b[0m\u001b[95m20250312_gfs.t00z.atmf000.nc\u001b[0m\u001b[1m)\u001b[0m\n"
      ]
     },
     "metadata": {},
     "output_type": "display_data"
    },
    {
     "data": {
      "text/html": [
       "<pre style=\"white-space:pre;overflow-x:auto;line-height:normal;font-family:Menlo,'DejaVu Sans Mono',consolas,'Courier New',monospace\"><span style=\"color: #808000; text-decoration-color: #808000\">......</span>reading NetCDF4 <span style=\"font-weight: bold\">(</span>.<span style=\"color: #800080; text-decoration-color: #800080\">/folderOnColab/data/</span><span style=\"color: #ff00ff; text-decoration-color: #ff00ff\">20250313_gfs.t00z.atmf000.nc</span><span style=\"font-weight: bold\">)</span>\n",
       "</pre>\n"
      ],
      "text/plain": [
       "\u001b[33m...\u001b[0m\u001b[33m...\u001b[0mreading NetCDF4 \u001b[1m(\u001b[0m.\u001b[35m/folderOnColab/data/\u001b[0m\u001b[95m20250313_gfs.t00z.atmf000.nc\u001b[0m\u001b[1m)\u001b[0m\n"
      ]
     },
     "metadata": {},
     "output_type": "display_data"
    },
    {
     "data": {
      "text/html": [
       "<pre style=\"white-space:pre;overflow-x:auto;line-height:normal;font-family:Menlo,'DejaVu Sans Mono',consolas,'Courier New',monospace\"><span style=\"color: #808000; text-decoration-color: #808000\">......</span>reading NetCDF4 <span style=\"font-weight: bold\">(</span>.<span style=\"color: #800080; text-decoration-color: #800080\">/folderOnColab/data/</span><span style=\"color: #ff00ff; text-decoration-color: #ff00ff\">20250314_gfs.t00z.atmf000.nc</span><span style=\"font-weight: bold\">)</span>\n",
       "</pre>\n"
      ],
      "text/plain": [
       "\u001b[33m...\u001b[0m\u001b[33m...\u001b[0mreading NetCDF4 \u001b[1m(\u001b[0m.\u001b[35m/folderOnColab/data/\u001b[0m\u001b[95m20250314_gfs.t00z.atmf000.nc\u001b[0m\u001b[1m)\u001b[0m\n"
      ]
     },
     "metadata": {},
     "output_type": "display_data"
    },
    {
     "data": {
      "text/html": [
       "<pre style=\"white-space:pre;overflow-x:auto;line-height:normal;font-family:Menlo,'DejaVu Sans Mono',consolas,'Courier New',monospace\"><span style=\"color: #808000; text-decoration-color: #808000\">......</span>reading NetCDF4 <span style=\"font-weight: bold\">(</span>.<span style=\"color: #800080; text-decoration-color: #800080\">/folderOnColab/data/</span><span style=\"color: #ff00ff; text-decoration-color: #ff00ff\">20250315_gfs.t00z.atmf000.nc</span><span style=\"font-weight: bold\">)</span>\n",
       "</pre>\n"
      ],
      "text/plain": [
       "\u001b[33m...\u001b[0m\u001b[33m...\u001b[0mreading NetCDF4 \u001b[1m(\u001b[0m.\u001b[35m/folderOnColab/data/\u001b[0m\u001b[95m20250315_gfs.t00z.atmf000.nc\u001b[0m\u001b[1m)\u001b[0m\n"
      ]
     },
     "metadata": {},
     "output_type": "display_data"
    },
    {
     "data": {
      "text/html": [
       "<pre style=\"white-space:pre;overflow-x:auto;line-height:normal;font-family:Menlo,'DejaVu Sans Mono',consolas,'Courier New',monospace\"><span style=\"color: #808000; text-decoration-color: #808000\">......</span>reading NetCDF4 <span style=\"font-weight: bold\">(</span>.<span style=\"color: #800080; text-decoration-color: #800080\">/folderOnColab/data/</span><span style=\"color: #ff00ff; text-decoration-color: #ff00ff\">20250316_gfs.t00z.atmf000.nc</span><span style=\"font-weight: bold\">)</span>\n",
       "</pre>\n"
      ],
      "text/plain": [
       "\u001b[33m...\u001b[0m\u001b[33m...\u001b[0mreading NetCDF4 \u001b[1m(\u001b[0m.\u001b[35m/folderOnColab/data/\u001b[0m\u001b[95m20250316_gfs.t00z.atmf000.nc\u001b[0m\u001b[1m)\u001b[0m\n"
      ]
     },
     "metadata": {},
     "output_type": "display_data"
    },
    {
     "data": {
      "text/html": [
       "<pre style=\"white-space:pre;overflow-x:auto;line-height:normal;font-family:Menlo,'DejaVu Sans Mono',consolas,'Courier New',monospace\"><span style=\"color: #808000; text-decoration-color: #808000\">......</span>reading NetCDF4 <span style=\"font-weight: bold\">(</span>.<span style=\"color: #800080; text-decoration-color: #800080\">/folderOnColab/data/</span><span style=\"color: #ff00ff; text-decoration-color: #ff00ff\">20250317_gfs.t00z.atmf000.nc</span><span style=\"font-weight: bold\">)</span>\n",
       "</pre>\n"
      ],
      "text/plain": [
       "\u001b[33m...\u001b[0m\u001b[33m...\u001b[0mreading NetCDF4 \u001b[1m(\u001b[0m.\u001b[35m/folderOnColab/data/\u001b[0m\u001b[95m20250317_gfs.t00z.atmf000.nc\u001b[0m\u001b[1m)\u001b[0m\n"
      ]
     },
     "metadata": {},
     "output_type": "display_data"
    },
    {
     "data": {
      "text/html": [
       "<pre style=\"white-space:pre;overflow-x:auto;line-height:normal;font-family:Menlo,'DejaVu Sans Mono',consolas,'Courier New',monospace\">Entering __main__ read_netcdfs\n",
       "</pre>\n"
      ],
      "text/plain": [
       "Entering __main__ read_netcdfs\n"
      ]
     },
     "metadata": {},
     "output_type": "display_data"
    },
    {
     "data": {
      "text/html": [
       "<pre style=\"white-space:pre;overflow-x:auto;line-height:normal;font-family:Menlo,'DejaVu Sans Mono',consolas,'Courier New',monospace\">Entering __main__ gather_variables\n",
       "</pre>\n"
      ],
      "text/plain": [
       "Entering __main__ gather_variables\n"
      ]
     },
     "metadata": {},
     "output_type": "display_data"
    },
    {
     "name": "stdout",
     "output_type": "stream",
     "text": [
      "...pulling data for and stacking it to the core data structure:\n",
      "......stacking ./folderOnColab/data/20250308_gfs.t00z.atmf000.nc\n",
      "......stacking ./folderOnColab/data/20250309_gfs.t00z.atmf000.nc\n",
      "......stacking ./folderOnColab/data/20250310_gfs.t00z.atmf000.nc\n",
      "......stacking ./folderOnColab/data/20250311_gfs.t00z.atmf000.nc\n",
      "......stacking ./folderOnColab/data/20250312_gfs.t00z.atmf000.nc\n",
      "......stacking ./folderOnColab/data/20250313_gfs.t00z.atmf000.nc\n",
      "......stacking ./folderOnColab/data/20250314_gfs.t00z.atmf000.nc\n",
      "......stacking ./folderOnColab/data/20250315_gfs.t00z.atmf000.nc\n",
      "......stacking ./folderOnColab/data/20250316_gfs.t00z.atmf000.nc\n",
      "......stacking ./folderOnColab/data/20250317_gfs.t00z.atmf000.nc\n",
      "...\u001b[1mlat        data type:         \u001b[0;0m<class 'numpy.ndarray'>\n",
      ".......shape:(47185920,)\n",
      "....datatype:float64\n",
      "...\u001b[1mlon        data type:         \u001b[0;0m<class 'numpy.ndarray'>\n",
      ".......shape:(47185920,)\n",
      "....datatype:float64\n",
      "...\u001b[1mData type           (cld_amt             )\u001b[0;0m<class 'numpy.ndarray'>\n",
      ".......shape:(47185920,)\n",
      "....datatype:float64\n"
     ]
    },
    {
     "data": {
      "text/html": [
       "<pre style=\"white-space:pre;overflow-x:auto;line-height:normal;font-family:Menlo,'DejaVu Sans Mono',consolas,'Courier New',monospace\">Exiting __main__ gather_variables\n",
       "</pre>\n"
      ],
      "text/plain": [
       "Exiting __main__ gather_variables\n"
      ]
     },
     "metadata": {},
     "output_type": "display_data"
    },
    {
     "data": {
      "text/html": [
       "<pre style=\"white-space:pre;overflow-x:auto;line-height:normal;font-family:Menlo,'DejaVu Sans Mono',consolas,'Courier New',monospace\">Entering __main__ read_netcdfs\n",
       "</pre>\n"
      ],
      "text/plain": [
       "Entering __main__ read_netcdfs\n"
      ]
     },
     "metadata": {},
     "output_type": "display_data"
    },
    {
     "data": {
      "text/html": [
       "<pre style=\"white-space:pre;overflow-x:auto;line-height:normal;font-family:Menlo,'DejaVu Sans Mono',consolas,'Courier New',monospace\"><span style=\"color: #808000; text-decoration-color: #808000\">...</span>reading NetCDF4 from list of <span style=\"color: #008080; text-decoration-color: #008080; font-weight: bold\">10</span> files:\n",
       "</pre>\n"
      ],
      "text/plain": [
       "\u001b[33m...\u001b[0mreading NetCDF4 from list of \u001b[1;36m10\u001b[0m files:\n"
      ]
     },
     "metadata": {},
     "output_type": "display_data"
    },
    {
     "data": {
      "text/html": [
       "<pre style=\"white-space:pre;overflow-x:auto;line-height:normal;font-family:Menlo,'DejaVu Sans Mono',consolas,'Courier New',monospace\"><span style=\"color: #808000; text-decoration-color: #808000\">......</span>reading NetCDF4 <span style=\"font-weight: bold\">(</span>.<span style=\"color: #800080; text-decoration-color: #800080\">/folderOnColab/data/</span><span style=\"color: #ff00ff; text-decoration-color: #ff00ff\">20250308_gfs.t00z.atmf000.nc</span><span style=\"font-weight: bold\">)</span>\n",
       "</pre>\n"
      ],
      "text/plain": [
       "\u001b[33m...\u001b[0m\u001b[33m...\u001b[0mreading NetCDF4 \u001b[1m(\u001b[0m.\u001b[35m/folderOnColab/data/\u001b[0m\u001b[95m20250308_gfs.t00z.atmf000.nc\u001b[0m\u001b[1m)\u001b[0m\n"
      ]
     },
     "metadata": {},
     "output_type": "display_data"
    },
    {
     "data": {
      "text/html": [
       "<pre style=\"white-space:pre;overflow-x:auto;line-height:normal;font-family:Menlo,'DejaVu Sans Mono',consolas,'Courier New',monospace\"><span style=\"color: #808000; text-decoration-color: #808000\">......</span>reading NetCDF4 <span style=\"font-weight: bold\">(</span>.<span style=\"color: #800080; text-decoration-color: #800080\">/folderOnColab/data/</span><span style=\"color: #ff00ff; text-decoration-color: #ff00ff\">20250309_gfs.t00z.atmf000.nc</span><span style=\"font-weight: bold\">)</span>\n",
       "</pre>\n"
      ],
      "text/plain": [
       "\u001b[33m...\u001b[0m\u001b[33m...\u001b[0mreading NetCDF4 \u001b[1m(\u001b[0m.\u001b[35m/folderOnColab/data/\u001b[0m\u001b[95m20250309_gfs.t00z.atmf000.nc\u001b[0m\u001b[1m)\u001b[0m\n"
      ]
     },
     "metadata": {},
     "output_type": "display_data"
    },
    {
     "data": {
      "text/html": [
       "<pre style=\"white-space:pre;overflow-x:auto;line-height:normal;font-family:Menlo,'DejaVu Sans Mono',consolas,'Courier New',monospace\"><span style=\"color: #808000; text-decoration-color: #808000\">......</span>reading NetCDF4 <span style=\"font-weight: bold\">(</span>.<span style=\"color: #800080; text-decoration-color: #800080\">/folderOnColab/data/</span><span style=\"color: #ff00ff; text-decoration-color: #ff00ff\">20250310_gfs.t00z.atmf000.nc</span><span style=\"font-weight: bold\">)</span>\n",
       "</pre>\n"
      ],
      "text/plain": [
       "\u001b[33m...\u001b[0m\u001b[33m...\u001b[0mreading NetCDF4 \u001b[1m(\u001b[0m.\u001b[35m/folderOnColab/data/\u001b[0m\u001b[95m20250310_gfs.t00z.atmf000.nc\u001b[0m\u001b[1m)\u001b[0m\n"
      ]
     },
     "metadata": {},
     "output_type": "display_data"
    },
    {
     "data": {
      "text/html": [
       "<pre style=\"white-space:pre;overflow-x:auto;line-height:normal;font-family:Menlo,'DejaVu Sans Mono',consolas,'Courier New',monospace\"><span style=\"color: #808000; text-decoration-color: #808000\">......</span>reading NetCDF4 <span style=\"font-weight: bold\">(</span>.<span style=\"color: #800080; text-decoration-color: #800080\">/folderOnColab/data/</span><span style=\"color: #ff00ff; text-decoration-color: #ff00ff\">20250311_gfs.t00z.atmf000.nc</span><span style=\"font-weight: bold\">)</span>\n",
       "</pre>\n"
      ],
      "text/plain": [
       "\u001b[33m...\u001b[0m\u001b[33m...\u001b[0mreading NetCDF4 \u001b[1m(\u001b[0m.\u001b[35m/folderOnColab/data/\u001b[0m\u001b[95m20250311_gfs.t00z.atmf000.nc\u001b[0m\u001b[1m)\u001b[0m\n"
      ]
     },
     "metadata": {},
     "output_type": "display_data"
    },
    {
     "data": {
      "text/html": [
       "<pre style=\"white-space:pre;overflow-x:auto;line-height:normal;font-family:Menlo,'DejaVu Sans Mono',consolas,'Courier New',monospace\"><span style=\"color: #808000; text-decoration-color: #808000\">......</span>reading NetCDF4 <span style=\"font-weight: bold\">(</span>.<span style=\"color: #800080; text-decoration-color: #800080\">/folderOnColab/data/</span><span style=\"color: #ff00ff; text-decoration-color: #ff00ff\">20250312_gfs.t00z.atmf000.nc</span><span style=\"font-weight: bold\">)</span>\n",
       "</pre>\n"
      ],
      "text/plain": [
       "\u001b[33m...\u001b[0m\u001b[33m...\u001b[0mreading NetCDF4 \u001b[1m(\u001b[0m.\u001b[35m/folderOnColab/data/\u001b[0m\u001b[95m20250312_gfs.t00z.atmf000.nc\u001b[0m\u001b[1m)\u001b[0m\n"
      ]
     },
     "metadata": {},
     "output_type": "display_data"
    },
    {
     "data": {
      "text/html": [
       "<pre style=\"white-space:pre;overflow-x:auto;line-height:normal;font-family:Menlo,'DejaVu Sans Mono',consolas,'Courier New',monospace\"><span style=\"color: #808000; text-decoration-color: #808000\">......</span>reading NetCDF4 <span style=\"font-weight: bold\">(</span>.<span style=\"color: #800080; text-decoration-color: #800080\">/folderOnColab/data/</span><span style=\"color: #ff00ff; text-decoration-color: #ff00ff\">20250313_gfs.t00z.atmf000.nc</span><span style=\"font-weight: bold\">)</span>\n",
       "</pre>\n"
      ],
      "text/plain": [
       "\u001b[33m...\u001b[0m\u001b[33m...\u001b[0mreading NetCDF4 \u001b[1m(\u001b[0m.\u001b[35m/folderOnColab/data/\u001b[0m\u001b[95m20250313_gfs.t00z.atmf000.nc\u001b[0m\u001b[1m)\u001b[0m\n"
      ]
     },
     "metadata": {},
     "output_type": "display_data"
    },
    {
     "data": {
      "text/html": [
       "<pre style=\"white-space:pre;overflow-x:auto;line-height:normal;font-family:Menlo,'DejaVu Sans Mono',consolas,'Courier New',monospace\"><span style=\"color: #808000; text-decoration-color: #808000\">......</span>reading NetCDF4 <span style=\"font-weight: bold\">(</span>.<span style=\"color: #800080; text-decoration-color: #800080\">/folderOnColab/data/</span><span style=\"color: #ff00ff; text-decoration-color: #ff00ff\">20250314_gfs.t00z.atmf000.nc</span><span style=\"font-weight: bold\">)</span>\n",
       "</pre>\n"
      ],
      "text/plain": [
       "\u001b[33m...\u001b[0m\u001b[33m...\u001b[0mreading NetCDF4 \u001b[1m(\u001b[0m.\u001b[35m/folderOnColab/data/\u001b[0m\u001b[95m20250314_gfs.t00z.atmf000.nc\u001b[0m\u001b[1m)\u001b[0m\n"
      ]
     },
     "metadata": {},
     "output_type": "display_data"
    },
    {
     "data": {
      "text/html": [
       "<pre style=\"white-space:pre;overflow-x:auto;line-height:normal;font-family:Menlo,'DejaVu Sans Mono',consolas,'Courier New',monospace\"><span style=\"color: #808000; text-decoration-color: #808000\">......</span>reading NetCDF4 <span style=\"font-weight: bold\">(</span>.<span style=\"color: #800080; text-decoration-color: #800080\">/folderOnColab/data/</span><span style=\"color: #ff00ff; text-decoration-color: #ff00ff\">20250315_gfs.t00z.atmf000.nc</span><span style=\"font-weight: bold\">)</span>\n",
       "</pre>\n"
      ],
      "text/plain": [
       "\u001b[33m...\u001b[0m\u001b[33m...\u001b[0mreading NetCDF4 \u001b[1m(\u001b[0m.\u001b[35m/folderOnColab/data/\u001b[0m\u001b[95m20250315_gfs.t00z.atmf000.nc\u001b[0m\u001b[1m)\u001b[0m\n"
      ]
     },
     "metadata": {},
     "output_type": "display_data"
    },
    {
     "data": {
      "text/html": [
       "<pre style=\"white-space:pre;overflow-x:auto;line-height:normal;font-family:Menlo,'DejaVu Sans Mono',consolas,'Courier New',monospace\"><span style=\"color: #808000; text-decoration-color: #808000\">......</span>reading NetCDF4 <span style=\"font-weight: bold\">(</span>.<span style=\"color: #800080; text-decoration-color: #800080\">/folderOnColab/data/</span><span style=\"color: #ff00ff; text-decoration-color: #ff00ff\">20250316_gfs.t00z.atmf000.nc</span><span style=\"font-weight: bold\">)</span>\n",
       "</pre>\n"
      ],
      "text/plain": [
       "\u001b[33m...\u001b[0m\u001b[33m...\u001b[0mreading NetCDF4 \u001b[1m(\u001b[0m.\u001b[35m/folderOnColab/data/\u001b[0m\u001b[95m20250316_gfs.t00z.atmf000.nc\u001b[0m\u001b[1m)\u001b[0m\n"
      ]
     },
     "metadata": {},
     "output_type": "display_data"
    },
    {
     "data": {
      "text/html": [
       "<pre style=\"white-space:pre;overflow-x:auto;line-height:normal;font-family:Menlo,'DejaVu Sans Mono',consolas,'Courier New',monospace\"><span style=\"color: #808000; text-decoration-color: #808000\">......</span>reading NetCDF4 <span style=\"font-weight: bold\">(</span>.<span style=\"color: #800080; text-decoration-color: #800080\">/folderOnColab/data/</span><span style=\"color: #ff00ff; text-decoration-color: #ff00ff\">20250317_gfs.t00z.atmf000.nc</span><span style=\"font-weight: bold\">)</span>\n",
       "</pre>\n"
      ],
      "text/plain": [
       "\u001b[33m...\u001b[0m\u001b[33m...\u001b[0mreading NetCDF4 \u001b[1m(\u001b[0m.\u001b[35m/folderOnColab/data/\u001b[0m\u001b[95m20250317_gfs.t00z.atmf000.nc\u001b[0m\u001b[1m)\u001b[0m\n"
      ]
     },
     "metadata": {},
     "output_type": "display_data"
    },
    {
     "data": {
      "text/html": [
       "<pre style=\"white-space:pre;overflow-x:auto;line-height:normal;font-family:Menlo,'DejaVu Sans Mono',consolas,'Courier New',monospace\">Entering __main__ read_netcdfs\n",
       "</pre>\n"
      ],
      "text/plain": [
       "Entering __main__ read_netcdfs\n"
      ]
     },
     "metadata": {},
     "output_type": "display_data"
    },
    {
     "data": {
      "text/html": [
       "<pre style=\"white-space:pre;overflow-x:auto;line-height:normal;font-family:Menlo,'DejaVu Sans Mono',consolas,'Courier New',monospace\">Entering __main__ gather_variables\n",
       "</pre>\n"
      ],
      "text/plain": [
       "Entering __main__ gather_variables\n"
      ]
     },
     "metadata": {},
     "output_type": "display_data"
    },
    {
     "name": "stdout",
     "output_type": "stream",
     "text": [
      "...pulling data for and stacking it to the core data structure:\n",
      "......stacking ./folderOnColab/data/20250308_gfs.t00z.atmf000.nc\n",
      "......stacking ./folderOnColab/data/20250309_gfs.t00z.atmf000.nc\n",
      "......stacking ./folderOnColab/data/20250310_gfs.t00z.atmf000.nc\n",
      "......stacking ./folderOnColab/data/20250311_gfs.t00z.atmf000.nc\n",
      "......stacking ./folderOnColab/data/20250312_gfs.t00z.atmf000.nc\n",
      "......stacking ./folderOnColab/data/20250313_gfs.t00z.atmf000.nc\n",
      "......stacking ./folderOnColab/data/20250314_gfs.t00z.atmf000.nc\n",
      "......stacking ./folderOnColab/data/20250315_gfs.t00z.atmf000.nc\n",
      "......stacking ./folderOnColab/data/20250316_gfs.t00z.atmf000.nc\n",
      "......stacking ./folderOnColab/data/20250317_gfs.t00z.atmf000.nc\n",
      "...\u001b[1mlat        data type:         \u001b[0;0m<class 'numpy.ndarray'>\n",
      ".......shape:(47185920,)\n",
      "....datatype:float64\n",
      "...\u001b[1mlon        data type:         \u001b[0;0m<class 'numpy.ndarray'>\n",
      ".......shape:(47185920,)\n",
      "....datatype:float64\n",
      "...\u001b[1mData type           (cld_amt             )\u001b[0;0m<class 'numpy.ndarray'>\n",
      ".......shape:(47185920,)\n",
      "....datatype:float64\n"
     ]
    },
    {
     "data": {
      "text/html": [
       "<pre style=\"white-space:pre;overflow-x:auto;line-height:normal;font-family:Menlo,'DejaVu Sans Mono',consolas,'Courier New',monospace\">Exiting __main__ gather_variables\n",
       "</pre>\n"
      ],
      "text/plain": [
       "Exiting __main__ gather_variables\n"
      ]
     },
     "metadata": {},
     "output_type": "display_data"
    },
    {
     "data": {
      "text/html": [
       "<pre style=\"white-space:pre;overflow-x:auto;line-height:normal;font-family:Menlo,'DejaVu Sans Mono',consolas,'Courier New',monospace\">Entering __main__ read_netcdfs\n",
       "</pre>\n"
      ],
      "text/plain": [
       "Entering __main__ read_netcdfs\n"
      ]
     },
     "metadata": {},
     "output_type": "display_data"
    },
    {
     "data": {
      "text/html": [
       "<pre style=\"white-space:pre;overflow-x:auto;line-height:normal;font-family:Menlo,'DejaVu Sans Mono',consolas,'Courier New',monospace\"><span style=\"color: #808000; text-decoration-color: #808000\">...</span>reading NetCDF4 from list of <span style=\"color: #008080; text-decoration-color: #008080; font-weight: bold\">10</span> files:\n",
       "</pre>\n"
      ],
      "text/plain": [
       "\u001b[33m...\u001b[0mreading NetCDF4 from list of \u001b[1;36m10\u001b[0m files:\n"
      ]
     },
     "metadata": {},
     "output_type": "display_data"
    },
    {
     "data": {
      "text/html": [
       "<pre style=\"white-space:pre;overflow-x:auto;line-height:normal;font-family:Menlo,'DejaVu Sans Mono',consolas,'Courier New',monospace\"><span style=\"color: #808000; text-decoration-color: #808000\">......</span>reading NetCDF4 <span style=\"font-weight: bold\">(</span>.<span style=\"color: #800080; text-decoration-color: #800080\">/folderOnColab/data/</span><span style=\"color: #ff00ff; text-decoration-color: #ff00ff\">20250308_gfs.t00z.atmf000.nc</span><span style=\"font-weight: bold\">)</span>\n",
       "</pre>\n"
      ],
      "text/plain": [
       "\u001b[33m...\u001b[0m\u001b[33m...\u001b[0mreading NetCDF4 \u001b[1m(\u001b[0m.\u001b[35m/folderOnColab/data/\u001b[0m\u001b[95m20250308_gfs.t00z.atmf000.nc\u001b[0m\u001b[1m)\u001b[0m\n"
      ]
     },
     "metadata": {},
     "output_type": "display_data"
    },
    {
     "data": {
      "text/html": [
       "<pre style=\"white-space:pre;overflow-x:auto;line-height:normal;font-family:Menlo,'DejaVu Sans Mono',consolas,'Courier New',monospace\"><span style=\"color: #808000; text-decoration-color: #808000\">......</span>reading NetCDF4 <span style=\"font-weight: bold\">(</span>.<span style=\"color: #800080; text-decoration-color: #800080\">/folderOnColab/data/</span><span style=\"color: #ff00ff; text-decoration-color: #ff00ff\">20250309_gfs.t00z.atmf000.nc</span><span style=\"font-weight: bold\">)</span>\n",
       "</pre>\n"
      ],
      "text/plain": [
       "\u001b[33m...\u001b[0m\u001b[33m...\u001b[0mreading NetCDF4 \u001b[1m(\u001b[0m.\u001b[35m/folderOnColab/data/\u001b[0m\u001b[95m20250309_gfs.t00z.atmf000.nc\u001b[0m\u001b[1m)\u001b[0m\n"
      ]
     },
     "metadata": {},
     "output_type": "display_data"
    },
    {
     "data": {
      "text/html": [
       "<pre style=\"white-space:pre;overflow-x:auto;line-height:normal;font-family:Menlo,'DejaVu Sans Mono',consolas,'Courier New',monospace\"><span style=\"color: #808000; text-decoration-color: #808000\">......</span>reading NetCDF4 <span style=\"font-weight: bold\">(</span>.<span style=\"color: #800080; text-decoration-color: #800080\">/folderOnColab/data/</span><span style=\"color: #ff00ff; text-decoration-color: #ff00ff\">20250310_gfs.t00z.atmf000.nc</span><span style=\"font-weight: bold\">)</span>\n",
       "</pre>\n"
      ],
      "text/plain": [
       "\u001b[33m...\u001b[0m\u001b[33m...\u001b[0mreading NetCDF4 \u001b[1m(\u001b[0m.\u001b[35m/folderOnColab/data/\u001b[0m\u001b[95m20250310_gfs.t00z.atmf000.nc\u001b[0m\u001b[1m)\u001b[0m\n"
      ]
     },
     "metadata": {},
     "output_type": "display_data"
    },
    {
     "data": {
      "text/html": [
       "<pre style=\"white-space:pre;overflow-x:auto;line-height:normal;font-family:Menlo,'DejaVu Sans Mono',consolas,'Courier New',monospace\"><span style=\"color: #808000; text-decoration-color: #808000\">......</span>reading NetCDF4 <span style=\"font-weight: bold\">(</span>.<span style=\"color: #800080; text-decoration-color: #800080\">/folderOnColab/data/</span><span style=\"color: #ff00ff; text-decoration-color: #ff00ff\">20250311_gfs.t00z.atmf000.nc</span><span style=\"font-weight: bold\">)</span>\n",
       "</pre>\n"
      ],
      "text/plain": [
       "\u001b[33m...\u001b[0m\u001b[33m...\u001b[0mreading NetCDF4 \u001b[1m(\u001b[0m.\u001b[35m/folderOnColab/data/\u001b[0m\u001b[95m20250311_gfs.t00z.atmf000.nc\u001b[0m\u001b[1m)\u001b[0m\n"
      ]
     },
     "metadata": {},
     "output_type": "display_data"
    },
    {
     "data": {
      "text/html": [
       "<pre style=\"white-space:pre;overflow-x:auto;line-height:normal;font-family:Menlo,'DejaVu Sans Mono',consolas,'Courier New',monospace\"><span style=\"color: #808000; text-decoration-color: #808000\">......</span>reading NetCDF4 <span style=\"font-weight: bold\">(</span>.<span style=\"color: #800080; text-decoration-color: #800080\">/folderOnColab/data/</span><span style=\"color: #ff00ff; text-decoration-color: #ff00ff\">20250312_gfs.t00z.atmf000.nc</span><span style=\"font-weight: bold\">)</span>\n",
       "</pre>\n"
      ],
      "text/plain": [
       "\u001b[33m...\u001b[0m\u001b[33m...\u001b[0mreading NetCDF4 \u001b[1m(\u001b[0m.\u001b[35m/folderOnColab/data/\u001b[0m\u001b[95m20250312_gfs.t00z.atmf000.nc\u001b[0m\u001b[1m)\u001b[0m\n"
      ]
     },
     "metadata": {},
     "output_type": "display_data"
    },
    {
     "data": {
      "text/html": [
       "<pre style=\"white-space:pre;overflow-x:auto;line-height:normal;font-family:Menlo,'DejaVu Sans Mono',consolas,'Courier New',monospace\"><span style=\"color: #808000; text-decoration-color: #808000\">......</span>reading NetCDF4 <span style=\"font-weight: bold\">(</span>.<span style=\"color: #800080; text-decoration-color: #800080\">/folderOnColab/data/</span><span style=\"color: #ff00ff; text-decoration-color: #ff00ff\">20250313_gfs.t00z.atmf000.nc</span><span style=\"font-weight: bold\">)</span>\n",
       "</pre>\n"
      ],
      "text/plain": [
       "\u001b[33m...\u001b[0m\u001b[33m...\u001b[0mreading NetCDF4 \u001b[1m(\u001b[0m.\u001b[35m/folderOnColab/data/\u001b[0m\u001b[95m20250313_gfs.t00z.atmf000.nc\u001b[0m\u001b[1m)\u001b[0m\n"
      ]
     },
     "metadata": {},
     "output_type": "display_data"
    },
    {
     "data": {
      "text/html": [
       "<pre style=\"white-space:pre;overflow-x:auto;line-height:normal;font-family:Menlo,'DejaVu Sans Mono',consolas,'Courier New',monospace\"><span style=\"color: #808000; text-decoration-color: #808000\">......</span>reading NetCDF4 <span style=\"font-weight: bold\">(</span>.<span style=\"color: #800080; text-decoration-color: #800080\">/folderOnColab/data/</span><span style=\"color: #ff00ff; text-decoration-color: #ff00ff\">20250314_gfs.t00z.atmf000.nc</span><span style=\"font-weight: bold\">)</span>\n",
       "</pre>\n"
      ],
      "text/plain": [
       "\u001b[33m...\u001b[0m\u001b[33m...\u001b[0mreading NetCDF4 \u001b[1m(\u001b[0m.\u001b[35m/folderOnColab/data/\u001b[0m\u001b[95m20250314_gfs.t00z.atmf000.nc\u001b[0m\u001b[1m)\u001b[0m\n"
      ]
     },
     "metadata": {},
     "output_type": "display_data"
    },
    {
     "data": {
      "text/html": [
       "<pre style=\"white-space:pre;overflow-x:auto;line-height:normal;font-family:Menlo,'DejaVu Sans Mono',consolas,'Courier New',monospace\"><span style=\"color: #808000; text-decoration-color: #808000\">......</span>reading NetCDF4 <span style=\"font-weight: bold\">(</span>.<span style=\"color: #800080; text-decoration-color: #800080\">/folderOnColab/data/</span><span style=\"color: #ff00ff; text-decoration-color: #ff00ff\">20250315_gfs.t00z.atmf000.nc</span><span style=\"font-weight: bold\">)</span>\n",
       "</pre>\n"
      ],
      "text/plain": [
       "\u001b[33m...\u001b[0m\u001b[33m...\u001b[0mreading NetCDF4 \u001b[1m(\u001b[0m.\u001b[35m/folderOnColab/data/\u001b[0m\u001b[95m20250315_gfs.t00z.atmf000.nc\u001b[0m\u001b[1m)\u001b[0m\n"
      ]
     },
     "metadata": {},
     "output_type": "display_data"
    },
    {
     "data": {
      "text/html": [
       "<pre style=\"white-space:pre;overflow-x:auto;line-height:normal;font-family:Menlo,'DejaVu Sans Mono',consolas,'Courier New',monospace\"><span style=\"color: #808000; text-decoration-color: #808000\">......</span>reading NetCDF4 <span style=\"font-weight: bold\">(</span>.<span style=\"color: #800080; text-decoration-color: #800080\">/folderOnColab/data/</span><span style=\"color: #ff00ff; text-decoration-color: #ff00ff\">20250316_gfs.t00z.atmf000.nc</span><span style=\"font-weight: bold\">)</span>\n",
       "</pre>\n"
      ],
      "text/plain": [
       "\u001b[33m...\u001b[0m\u001b[33m...\u001b[0mreading NetCDF4 \u001b[1m(\u001b[0m.\u001b[35m/folderOnColab/data/\u001b[0m\u001b[95m20250316_gfs.t00z.atmf000.nc\u001b[0m\u001b[1m)\u001b[0m\n"
      ]
     },
     "metadata": {},
     "output_type": "display_data"
    },
    {
     "data": {
      "text/html": [
       "<pre style=\"white-space:pre;overflow-x:auto;line-height:normal;font-family:Menlo,'DejaVu Sans Mono',consolas,'Courier New',monospace\"><span style=\"color: #808000; text-decoration-color: #808000\">......</span>reading NetCDF4 <span style=\"font-weight: bold\">(</span>.<span style=\"color: #800080; text-decoration-color: #800080\">/folderOnColab/data/</span><span style=\"color: #ff00ff; text-decoration-color: #ff00ff\">20250317_gfs.t00z.atmf000.nc</span><span style=\"font-weight: bold\">)</span>\n",
       "</pre>\n"
      ],
      "text/plain": [
       "\u001b[33m...\u001b[0m\u001b[33m...\u001b[0mreading NetCDF4 \u001b[1m(\u001b[0m.\u001b[35m/folderOnColab/data/\u001b[0m\u001b[95m20250317_gfs.t00z.atmf000.nc\u001b[0m\u001b[1m)\u001b[0m\n"
      ]
     },
     "metadata": {},
     "output_type": "display_data"
    },
    {
     "data": {
      "text/html": [
       "<pre style=\"white-space:pre;overflow-x:auto;line-height:normal;font-family:Menlo,'DejaVu Sans Mono',consolas,'Courier New',monospace\">Entering __main__ read_netcdfs\n",
       "</pre>\n"
      ],
      "text/plain": [
       "Entering __main__ read_netcdfs\n"
      ]
     },
     "metadata": {},
     "output_type": "display_data"
    },
    {
     "data": {
      "text/html": [
       "<pre style=\"white-space:pre;overflow-x:auto;line-height:normal;font-family:Menlo,'DejaVu Sans Mono',consolas,'Courier New',monospace\">Entering __main__ gather_variables\n",
       "</pre>\n"
      ],
      "text/plain": [
       "Entering __main__ gather_variables\n"
      ]
     },
     "metadata": {},
     "output_type": "display_data"
    },
    {
     "name": "stdout",
     "output_type": "stream",
     "text": [
      "...pulling data for and stacking it to the core data structure:\n",
      "......stacking ./folderOnColab/data/20250308_gfs.t00z.atmf000.nc\n",
      "......stacking ./folderOnColab/data/20250309_gfs.t00z.atmf000.nc\n",
      "......stacking ./folderOnColab/data/20250310_gfs.t00z.atmf000.nc\n",
      "......stacking ./folderOnColab/data/20250311_gfs.t00z.atmf000.nc\n",
      "......stacking ./folderOnColab/data/20250312_gfs.t00z.atmf000.nc\n",
      "......stacking ./folderOnColab/data/20250313_gfs.t00z.atmf000.nc\n",
      "......stacking ./folderOnColab/data/20250314_gfs.t00z.atmf000.nc\n",
      "......stacking ./folderOnColab/data/20250315_gfs.t00z.atmf000.nc\n",
      "......stacking ./folderOnColab/data/20250316_gfs.t00z.atmf000.nc\n",
      "......stacking ./folderOnColab/data/20250317_gfs.t00z.atmf000.nc\n",
      "...\u001b[1mlat        data type:         \u001b[0;0m<class 'numpy.ndarray'>\n",
      ".......shape:(47185920,)\n",
      "....datatype:float64\n",
      "...\u001b[1mlon        data type:         \u001b[0;0m<class 'numpy.ndarray'>\n",
      ".......shape:(47185920,)\n",
      "....datatype:float64\n",
      "...\u001b[1mData type           (cld_amt             )\u001b[0;0m<class 'numpy.ndarray'>\n",
      ".......shape:(47185920,)\n",
      "....datatype:float64\n"
     ]
    },
    {
     "data": {
      "text/html": [
       "<pre style=\"white-space:pre;overflow-x:auto;line-height:normal;font-family:Menlo,'DejaVu Sans Mono',consolas,'Courier New',monospace\">Exiting __main__ gather_variables\n",
       "</pre>\n"
      ],
      "text/plain": [
       "Exiting __main__ gather_variables\n"
      ]
     },
     "metadata": {},
     "output_type": "display_data"
    },
    {
     "data": {
      "text/html": [
       "<pre style=\"white-space:pre;overflow-x:auto;line-height:normal;font-family:Menlo,'DejaVu Sans Mono',consolas,'Courier New',monospace\">Entering __main__ read_netcdfs\n",
       "</pre>\n"
      ],
      "text/plain": [
       "Entering __main__ read_netcdfs\n"
      ]
     },
     "metadata": {},
     "output_type": "display_data"
    },
    {
     "data": {
      "text/html": [
       "<pre style=\"white-space:pre;overflow-x:auto;line-height:normal;font-family:Menlo,'DejaVu Sans Mono',consolas,'Courier New',monospace\"><span style=\"color: #808000; text-decoration-color: #808000\">...</span>reading NetCDF4 from list of <span style=\"color: #008080; text-decoration-color: #008080; font-weight: bold\">10</span> files:\n",
       "</pre>\n"
      ],
      "text/plain": [
       "\u001b[33m...\u001b[0mreading NetCDF4 from list of \u001b[1;36m10\u001b[0m files:\n"
      ]
     },
     "metadata": {},
     "output_type": "display_data"
    },
    {
     "data": {
      "text/html": [
       "<pre style=\"white-space:pre;overflow-x:auto;line-height:normal;font-family:Menlo,'DejaVu Sans Mono',consolas,'Courier New',monospace\"><span style=\"color: #808000; text-decoration-color: #808000\">......</span>reading NetCDF4 <span style=\"font-weight: bold\">(</span>.<span style=\"color: #800080; text-decoration-color: #800080\">/folderOnColab/data/</span><span style=\"color: #ff00ff; text-decoration-color: #ff00ff\">20250308_gfs.t00z.atmf000.nc</span><span style=\"font-weight: bold\">)</span>\n",
       "</pre>\n"
      ],
      "text/plain": [
       "\u001b[33m...\u001b[0m\u001b[33m...\u001b[0mreading NetCDF4 \u001b[1m(\u001b[0m.\u001b[35m/folderOnColab/data/\u001b[0m\u001b[95m20250308_gfs.t00z.atmf000.nc\u001b[0m\u001b[1m)\u001b[0m\n"
      ]
     },
     "metadata": {},
     "output_type": "display_data"
    },
    {
     "data": {
      "text/html": [
       "<pre style=\"white-space:pre;overflow-x:auto;line-height:normal;font-family:Menlo,'DejaVu Sans Mono',consolas,'Courier New',monospace\"><span style=\"color: #808000; text-decoration-color: #808000\">......</span>reading NetCDF4 <span style=\"font-weight: bold\">(</span>.<span style=\"color: #800080; text-decoration-color: #800080\">/folderOnColab/data/</span><span style=\"color: #ff00ff; text-decoration-color: #ff00ff\">20250309_gfs.t00z.atmf000.nc</span><span style=\"font-weight: bold\">)</span>\n",
       "</pre>\n"
      ],
      "text/plain": [
       "\u001b[33m...\u001b[0m\u001b[33m...\u001b[0mreading NetCDF4 \u001b[1m(\u001b[0m.\u001b[35m/folderOnColab/data/\u001b[0m\u001b[95m20250309_gfs.t00z.atmf000.nc\u001b[0m\u001b[1m)\u001b[0m\n"
      ]
     },
     "metadata": {},
     "output_type": "display_data"
    },
    {
     "data": {
      "text/html": [
       "<pre style=\"white-space:pre;overflow-x:auto;line-height:normal;font-family:Menlo,'DejaVu Sans Mono',consolas,'Courier New',monospace\"><span style=\"color: #808000; text-decoration-color: #808000\">......</span>reading NetCDF4 <span style=\"font-weight: bold\">(</span>.<span style=\"color: #800080; text-decoration-color: #800080\">/folderOnColab/data/</span><span style=\"color: #ff00ff; text-decoration-color: #ff00ff\">20250310_gfs.t00z.atmf000.nc</span><span style=\"font-weight: bold\">)</span>\n",
       "</pre>\n"
      ],
      "text/plain": [
       "\u001b[33m...\u001b[0m\u001b[33m...\u001b[0mreading NetCDF4 \u001b[1m(\u001b[0m.\u001b[35m/folderOnColab/data/\u001b[0m\u001b[95m20250310_gfs.t00z.atmf000.nc\u001b[0m\u001b[1m)\u001b[0m\n"
      ]
     },
     "metadata": {},
     "output_type": "display_data"
    },
    {
     "data": {
      "text/html": [
       "<pre style=\"white-space:pre;overflow-x:auto;line-height:normal;font-family:Menlo,'DejaVu Sans Mono',consolas,'Courier New',monospace\"><span style=\"color: #808000; text-decoration-color: #808000\">......</span>reading NetCDF4 <span style=\"font-weight: bold\">(</span>.<span style=\"color: #800080; text-decoration-color: #800080\">/folderOnColab/data/</span><span style=\"color: #ff00ff; text-decoration-color: #ff00ff\">20250311_gfs.t00z.atmf000.nc</span><span style=\"font-weight: bold\">)</span>\n",
       "</pre>\n"
      ],
      "text/plain": [
       "\u001b[33m...\u001b[0m\u001b[33m...\u001b[0mreading NetCDF4 \u001b[1m(\u001b[0m.\u001b[35m/folderOnColab/data/\u001b[0m\u001b[95m20250311_gfs.t00z.atmf000.nc\u001b[0m\u001b[1m)\u001b[0m\n"
      ]
     },
     "metadata": {},
     "output_type": "display_data"
    },
    {
     "data": {
      "text/html": [
       "<pre style=\"white-space:pre;overflow-x:auto;line-height:normal;font-family:Menlo,'DejaVu Sans Mono',consolas,'Courier New',monospace\"><span style=\"color: #808000; text-decoration-color: #808000\">......</span>reading NetCDF4 <span style=\"font-weight: bold\">(</span>.<span style=\"color: #800080; text-decoration-color: #800080\">/folderOnColab/data/</span><span style=\"color: #ff00ff; text-decoration-color: #ff00ff\">20250312_gfs.t00z.atmf000.nc</span><span style=\"font-weight: bold\">)</span>\n",
       "</pre>\n"
      ],
      "text/plain": [
       "\u001b[33m...\u001b[0m\u001b[33m...\u001b[0mreading NetCDF4 \u001b[1m(\u001b[0m.\u001b[35m/folderOnColab/data/\u001b[0m\u001b[95m20250312_gfs.t00z.atmf000.nc\u001b[0m\u001b[1m)\u001b[0m\n"
      ]
     },
     "metadata": {},
     "output_type": "display_data"
    },
    {
     "data": {
      "text/html": [
       "<pre style=\"white-space:pre;overflow-x:auto;line-height:normal;font-family:Menlo,'DejaVu Sans Mono',consolas,'Courier New',monospace\"><span style=\"color: #808000; text-decoration-color: #808000\">......</span>reading NetCDF4 <span style=\"font-weight: bold\">(</span>.<span style=\"color: #800080; text-decoration-color: #800080\">/folderOnColab/data/</span><span style=\"color: #ff00ff; text-decoration-color: #ff00ff\">20250313_gfs.t00z.atmf000.nc</span><span style=\"font-weight: bold\">)</span>\n",
       "</pre>\n"
      ],
      "text/plain": [
       "\u001b[33m...\u001b[0m\u001b[33m...\u001b[0mreading NetCDF4 \u001b[1m(\u001b[0m.\u001b[35m/folderOnColab/data/\u001b[0m\u001b[95m20250313_gfs.t00z.atmf000.nc\u001b[0m\u001b[1m)\u001b[0m\n"
      ]
     },
     "metadata": {},
     "output_type": "display_data"
    },
    {
     "data": {
      "text/html": [
       "<pre style=\"white-space:pre;overflow-x:auto;line-height:normal;font-family:Menlo,'DejaVu Sans Mono',consolas,'Courier New',monospace\"><span style=\"color: #808000; text-decoration-color: #808000\">......</span>reading NetCDF4 <span style=\"font-weight: bold\">(</span>.<span style=\"color: #800080; text-decoration-color: #800080\">/folderOnColab/data/</span><span style=\"color: #ff00ff; text-decoration-color: #ff00ff\">20250314_gfs.t00z.atmf000.nc</span><span style=\"font-weight: bold\">)</span>\n",
       "</pre>\n"
      ],
      "text/plain": [
       "\u001b[33m...\u001b[0m\u001b[33m...\u001b[0mreading NetCDF4 \u001b[1m(\u001b[0m.\u001b[35m/folderOnColab/data/\u001b[0m\u001b[95m20250314_gfs.t00z.atmf000.nc\u001b[0m\u001b[1m)\u001b[0m\n"
      ]
     },
     "metadata": {},
     "output_type": "display_data"
    },
    {
     "data": {
      "text/html": [
       "<pre style=\"white-space:pre;overflow-x:auto;line-height:normal;font-family:Menlo,'DejaVu Sans Mono',consolas,'Courier New',monospace\"><span style=\"color: #808000; text-decoration-color: #808000\">......</span>reading NetCDF4 <span style=\"font-weight: bold\">(</span>.<span style=\"color: #800080; text-decoration-color: #800080\">/folderOnColab/data/</span><span style=\"color: #ff00ff; text-decoration-color: #ff00ff\">20250315_gfs.t00z.atmf000.nc</span><span style=\"font-weight: bold\">)</span>\n",
       "</pre>\n"
      ],
      "text/plain": [
       "\u001b[33m...\u001b[0m\u001b[33m...\u001b[0mreading NetCDF4 \u001b[1m(\u001b[0m.\u001b[35m/folderOnColab/data/\u001b[0m\u001b[95m20250315_gfs.t00z.atmf000.nc\u001b[0m\u001b[1m)\u001b[0m\n"
      ]
     },
     "metadata": {},
     "output_type": "display_data"
    },
    {
     "data": {
      "text/html": [
       "<pre style=\"white-space:pre;overflow-x:auto;line-height:normal;font-family:Menlo,'DejaVu Sans Mono',consolas,'Courier New',monospace\"><span style=\"color: #808000; text-decoration-color: #808000\">......</span>reading NetCDF4 <span style=\"font-weight: bold\">(</span>.<span style=\"color: #800080; text-decoration-color: #800080\">/folderOnColab/data/</span><span style=\"color: #ff00ff; text-decoration-color: #ff00ff\">20250316_gfs.t00z.atmf000.nc</span><span style=\"font-weight: bold\">)</span>\n",
       "</pre>\n"
      ],
      "text/plain": [
       "\u001b[33m...\u001b[0m\u001b[33m...\u001b[0mreading NetCDF4 \u001b[1m(\u001b[0m.\u001b[35m/folderOnColab/data/\u001b[0m\u001b[95m20250316_gfs.t00z.atmf000.nc\u001b[0m\u001b[1m)\u001b[0m\n"
      ]
     },
     "metadata": {},
     "output_type": "display_data"
    },
    {
     "data": {
      "text/html": [
       "<pre style=\"white-space:pre;overflow-x:auto;line-height:normal;font-family:Menlo,'DejaVu Sans Mono',consolas,'Courier New',monospace\"><span style=\"color: #808000; text-decoration-color: #808000\">......</span>reading NetCDF4 <span style=\"font-weight: bold\">(</span>.<span style=\"color: #800080; text-decoration-color: #800080\">/folderOnColab/data/</span><span style=\"color: #ff00ff; text-decoration-color: #ff00ff\">20250317_gfs.t00z.atmf000.nc</span><span style=\"font-weight: bold\">)</span>\n",
       "</pre>\n"
      ],
      "text/plain": [
       "\u001b[33m...\u001b[0m\u001b[33m...\u001b[0mreading NetCDF4 \u001b[1m(\u001b[0m.\u001b[35m/folderOnColab/data/\u001b[0m\u001b[95m20250317_gfs.t00z.atmf000.nc\u001b[0m\u001b[1m)\u001b[0m\n"
      ]
     },
     "metadata": {},
     "output_type": "display_data"
    },
    {
     "data": {
      "text/html": [
       "<pre style=\"white-space:pre;overflow-x:auto;line-height:normal;font-family:Menlo,'DejaVu Sans Mono',consolas,'Courier New',monospace\">Entering __main__ read_netcdfs\n",
       "</pre>\n"
      ],
      "text/plain": [
       "Entering __main__ read_netcdfs\n"
      ]
     },
     "metadata": {},
     "output_type": "display_data"
    },
    {
     "data": {
      "text/html": [
       "<pre style=\"white-space:pre;overflow-x:auto;line-height:normal;font-family:Menlo,'DejaVu Sans Mono',consolas,'Courier New',monospace\">Entering __main__ gather_variables\n",
       "</pre>\n"
      ],
      "text/plain": [
       "Entering __main__ gather_variables\n"
      ]
     },
     "metadata": {},
     "output_type": "display_data"
    },
    {
     "name": "stdout",
     "output_type": "stream",
     "text": [
      "...pulling data for and stacking it to the core data structure:\n",
      "......stacking ./folderOnColab/data/20250308_gfs.t00z.atmf000.nc\n",
      "......stacking ./folderOnColab/data/20250309_gfs.t00z.atmf000.nc\n",
      "......stacking ./folderOnColab/data/20250310_gfs.t00z.atmf000.nc\n",
      "......stacking ./folderOnColab/data/20250311_gfs.t00z.atmf000.nc\n",
      "......stacking ./folderOnColab/data/20250312_gfs.t00z.atmf000.nc\n",
      "......stacking ./folderOnColab/data/20250313_gfs.t00z.atmf000.nc\n",
      "......stacking ./folderOnColab/data/20250314_gfs.t00z.atmf000.nc\n",
      "......stacking ./folderOnColab/data/20250315_gfs.t00z.atmf000.nc\n",
      "......stacking ./folderOnColab/data/20250316_gfs.t00z.atmf000.nc\n",
      "......stacking ./folderOnColab/data/20250317_gfs.t00z.atmf000.nc\n",
      "...\u001b[1mlat        data type:         \u001b[0;0m<class 'numpy.ndarray'>\n",
      ".......shape:(47185920,)\n",
      "....datatype:float64\n",
      "...\u001b[1mlon        data type:         \u001b[0;0m<class 'numpy.ndarray'>\n",
      ".......shape:(47185920,)\n",
      "....datatype:float64\n",
      "...\u001b[1mData type           (cld_amt             )\u001b[0;0m<class 'numpy.ndarray'>\n",
      ".......shape:(47185920,)\n",
      "....datatype:float64\n"
     ]
    },
    {
     "data": {
      "text/html": [
       "<pre style=\"white-space:pre;overflow-x:auto;line-height:normal;font-family:Menlo,'DejaVu Sans Mono',consolas,'Courier New',monospace\">Exiting __main__ gather_variables\n",
       "</pre>\n"
      ],
      "text/plain": [
       "Exiting __main__ gather_variables\n"
      ]
     },
     "metadata": {},
     "output_type": "display_data"
    },
    {
     "data": {
      "text/html": [
       "<pre style=\"white-space:pre;overflow-x:auto;line-height:normal;font-family:Menlo,'DejaVu Sans Mono',consolas,'Courier New',monospace\">Entering __main__ read_netcdfs\n",
       "</pre>\n"
      ],
      "text/plain": [
       "Entering __main__ read_netcdfs\n"
      ]
     },
     "metadata": {},
     "output_type": "display_data"
    },
    {
     "data": {
      "text/html": [
       "<pre style=\"white-space:pre;overflow-x:auto;line-height:normal;font-family:Menlo,'DejaVu Sans Mono',consolas,'Courier New',monospace\"><span style=\"color: #808000; text-decoration-color: #808000\">...</span>reading NetCDF4 from list of <span style=\"color: #008080; text-decoration-color: #008080; font-weight: bold\">10</span> files:\n",
       "</pre>\n"
      ],
      "text/plain": [
       "\u001b[33m...\u001b[0mreading NetCDF4 from list of \u001b[1;36m10\u001b[0m files:\n"
      ]
     },
     "metadata": {},
     "output_type": "display_data"
    },
    {
     "data": {
      "text/html": [
       "<pre style=\"white-space:pre;overflow-x:auto;line-height:normal;font-family:Menlo,'DejaVu Sans Mono',consolas,'Courier New',monospace\"><span style=\"color: #808000; text-decoration-color: #808000\">......</span>reading NetCDF4 <span style=\"font-weight: bold\">(</span>.<span style=\"color: #800080; text-decoration-color: #800080\">/folderOnColab/data/</span><span style=\"color: #ff00ff; text-decoration-color: #ff00ff\">20250308_gfs.t00z.atmf000.nc</span><span style=\"font-weight: bold\">)</span>\n",
       "</pre>\n"
      ],
      "text/plain": [
       "\u001b[33m...\u001b[0m\u001b[33m...\u001b[0mreading NetCDF4 \u001b[1m(\u001b[0m.\u001b[35m/folderOnColab/data/\u001b[0m\u001b[95m20250308_gfs.t00z.atmf000.nc\u001b[0m\u001b[1m)\u001b[0m\n"
      ]
     },
     "metadata": {},
     "output_type": "display_data"
    },
    {
     "data": {
      "text/html": [
       "<pre style=\"white-space:pre;overflow-x:auto;line-height:normal;font-family:Menlo,'DejaVu Sans Mono',consolas,'Courier New',monospace\"><span style=\"color: #808000; text-decoration-color: #808000\">......</span>reading NetCDF4 <span style=\"font-weight: bold\">(</span>.<span style=\"color: #800080; text-decoration-color: #800080\">/folderOnColab/data/</span><span style=\"color: #ff00ff; text-decoration-color: #ff00ff\">20250309_gfs.t00z.atmf000.nc</span><span style=\"font-weight: bold\">)</span>\n",
       "</pre>\n"
      ],
      "text/plain": [
       "\u001b[33m...\u001b[0m\u001b[33m...\u001b[0mreading NetCDF4 \u001b[1m(\u001b[0m.\u001b[35m/folderOnColab/data/\u001b[0m\u001b[95m20250309_gfs.t00z.atmf000.nc\u001b[0m\u001b[1m)\u001b[0m\n"
      ]
     },
     "metadata": {},
     "output_type": "display_data"
    },
    {
     "data": {
      "text/html": [
       "<pre style=\"white-space:pre;overflow-x:auto;line-height:normal;font-family:Menlo,'DejaVu Sans Mono',consolas,'Courier New',monospace\"><span style=\"color: #808000; text-decoration-color: #808000\">......</span>reading NetCDF4 <span style=\"font-weight: bold\">(</span>.<span style=\"color: #800080; text-decoration-color: #800080\">/folderOnColab/data/</span><span style=\"color: #ff00ff; text-decoration-color: #ff00ff\">20250310_gfs.t00z.atmf000.nc</span><span style=\"font-weight: bold\">)</span>\n",
       "</pre>\n"
      ],
      "text/plain": [
       "\u001b[33m...\u001b[0m\u001b[33m...\u001b[0mreading NetCDF4 \u001b[1m(\u001b[0m.\u001b[35m/folderOnColab/data/\u001b[0m\u001b[95m20250310_gfs.t00z.atmf000.nc\u001b[0m\u001b[1m)\u001b[0m\n"
      ]
     },
     "metadata": {},
     "output_type": "display_data"
    },
    {
     "data": {
      "text/html": [
       "<pre style=\"white-space:pre;overflow-x:auto;line-height:normal;font-family:Menlo,'DejaVu Sans Mono',consolas,'Courier New',monospace\"><span style=\"color: #808000; text-decoration-color: #808000\">......</span>reading NetCDF4 <span style=\"font-weight: bold\">(</span>.<span style=\"color: #800080; text-decoration-color: #800080\">/folderOnColab/data/</span><span style=\"color: #ff00ff; text-decoration-color: #ff00ff\">20250311_gfs.t00z.atmf000.nc</span><span style=\"font-weight: bold\">)</span>\n",
       "</pre>\n"
      ],
      "text/plain": [
       "\u001b[33m...\u001b[0m\u001b[33m...\u001b[0mreading NetCDF4 \u001b[1m(\u001b[0m.\u001b[35m/folderOnColab/data/\u001b[0m\u001b[95m20250311_gfs.t00z.atmf000.nc\u001b[0m\u001b[1m)\u001b[0m\n"
      ]
     },
     "metadata": {},
     "output_type": "display_data"
    },
    {
     "data": {
      "text/html": [
       "<pre style=\"white-space:pre;overflow-x:auto;line-height:normal;font-family:Menlo,'DejaVu Sans Mono',consolas,'Courier New',monospace\"><span style=\"color: #808000; text-decoration-color: #808000\">......</span>reading NetCDF4 <span style=\"font-weight: bold\">(</span>.<span style=\"color: #800080; text-decoration-color: #800080\">/folderOnColab/data/</span><span style=\"color: #ff00ff; text-decoration-color: #ff00ff\">20250312_gfs.t00z.atmf000.nc</span><span style=\"font-weight: bold\">)</span>\n",
       "</pre>\n"
      ],
      "text/plain": [
       "\u001b[33m...\u001b[0m\u001b[33m...\u001b[0mreading NetCDF4 \u001b[1m(\u001b[0m.\u001b[35m/folderOnColab/data/\u001b[0m\u001b[95m20250312_gfs.t00z.atmf000.nc\u001b[0m\u001b[1m)\u001b[0m\n"
      ]
     },
     "metadata": {},
     "output_type": "display_data"
    },
    {
     "data": {
      "text/html": [
       "<pre style=\"white-space:pre;overflow-x:auto;line-height:normal;font-family:Menlo,'DejaVu Sans Mono',consolas,'Courier New',monospace\"><span style=\"color: #808000; text-decoration-color: #808000\">......</span>reading NetCDF4 <span style=\"font-weight: bold\">(</span>.<span style=\"color: #800080; text-decoration-color: #800080\">/folderOnColab/data/</span><span style=\"color: #ff00ff; text-decoration-color: #ff00ff\">20250313_gfs.t00z.atmf000.nc</span><span style=\"font-weight: bold\">)</span>\n",
       "</pre>\n"
      ],
      "text/plain": [
       "\u001b[33m...\u001b[0m\u001b[33m...\u001b[0mreading NetCDF4 \u001b[1m(\u001b[0m.\u001b[35m/folderOnColab/data/\u001b[0m\u001b[95m20250313_gfs.t00z.atmf000.nc\u001b[0m\u001b[1m)\u001b[0m\n"
      ]
     },
     "metadata": {},
     "output_type": "display_data"
    },
    {
     "data": {
      "text/html": [
       "<pre style=\"white-space:pre;overflow-x:auto;line-height:normal;font-family:Menlo,'DejaVu Sans Mono',consolas,'Courier New',monospace\"><span style=\"color: #808000; text-decoration-color: #808000\">......</span>reading NetCDF4 <span style=\"font-weight: bold\">(</span>.<span style=\"color: #800080; text-decoration-color: #800080\">/folderOnColab/data/</span><span style=\"color: #ff00ff; text-decoration-color: #ff00ff\">20250314_gfs.t00z.atmf000.nc</span><span style=\"font-weight: bold\">)</span>\n",
       "</pre>\n"
      ],
      "text/plain": [
       "\u001b[33m...\u001b[0m\u001b[33m...\u001b[0mreading NetCDF4 \u001b[1m(\u001b[0m.\u001b[35m/folderOnColab/data/\u001b[0m\u001b[95m20250314_gfs.t00z.atmf000.nc\u001b[0m\u001b[1m)\u001b[0m\n"
      ]
     },
     "metadata": {},
     "output_type": "display_data"
    },
    {
     "data": {
      "text/html": [
       "<pre style=\"white-space:pre;overflow-x:auto;line-height:normal;font-family:Menlo,'DejaVu Sans Mono',consolas,'Courier New',monospace\"><span style=\"color: #808000; text-decoration-color: #808000\">......</span>reading NetCDF4 <span style=\"font-weight: bold\">(</span>.<span style=\"color: #800080; text-decoration-color: #800080\">/folderOnColab/data/</span><span style=\"color: #ff00ff; text-decoration-color: #ff00ff\">20250315_gfs.t00z.atmf000.nc</span><span style=\"font-weight: bold\">)</span>\n",
       "</pre>\n"
      ],
      "text/plain": [
       "\u001b[33m...\u001b[0m\u001b[33m...\u001b[0mreading NetCDF4 \u001b[1m(\u001b[0m.\u001b[35m/folderOnColab/data/\u001b[0m\u001b[95m20250315_gfs.t00z.atmf000.nc\u001b[0m\u001b[1m)\u001b[0m\n"
      ]
     },
     "metadata": {},
     "output_type": "display_data"
    },
    {
     "data": {
      "text/html": [
       "<pre style=\"white-space:pre;overflow-x:auto;line-height:normal;font-family:Menlo,'DejaVu Sans Mono',consolas,'Courier New',monospace\"><span style=\"color: #808000; text-decoration-color: #808000\">......</span>reading NetCDF4 <span style=\"font-weight: bold\">(</span>.<span style=\"color: #800080; text-decoration-color: #800080\">/folderOnColab/data/</span><span style=\"color: #ff00ff; text-decoration-color: #ff00ff\">20250316_gfs.t00z.atmf000.nc</span><span style=\"font-weight: bold\">)</span>\n",
       "</pre>\n"
      ],
      "text/plain": [
       "\u001b[33m...\u001b[0m\u001b[33m...\u001b[0mreading NetCDF4 \u001b[1m(\u001b[0m.\u001b[35m/folderOnColab/data/\u001b[0m\u001b[95m20250316_gfs.t00z.atmf000.nc\u001b[0m\u001b[1m)\u001b[0m\n"
      ]
     },
     "metadata": {},
     "output_type": "display_data"
    },
    {
     "data": {
      "text/html": [
       "<pre style=\"white-space:pre;overflow-x:auto;line-height:normal;font-family:Menlo,'DejaVu Sans Mono',consolas,'Courier New',monospace\"><span style=\"color: #808000; text-decoration-color: #808000\">......</span>reading NetCDF4 <span style=\"font-weight: bold\">(</span>.<span style=\"color: #800080; text-decoration-color: #800080\">/folderOnColab/data/</span><span style=\"color: #ff00ff; text-decoration-color: #ff00ff\">20250317_gfs.t00z.atmf000.nc</span><span style=\"font-weight: bold\">)</span>\n",
       "</pre>\n"
      ],
      "text/plain": [
       "\u001b[33m...\u001b[0m\u001b[33m...\u001b[0mreading NetCDF4 \u001b[1m(\u001b[0m.\u001b[35m/folderOnColab/data/\u001b[0m\u001b[95m20250317_gfs.t00z.atmf000.nc\u001b[0m\u001b[1m)\u001b[0m\n"
      ]
     },
     "metadata": {},
     "output_type": "display_data"
    },
    {
     "data": {
      "text/html": [
       "<pre style=\"white-space:pre;overflow-x:auto;line-height:normal;font-family:Menlo,'DejaVu Sans Mono',consolas,'Courier New',monospace\">Entering __main__ read_netcdfs\n",
       "</pre>\n"
      ],
      "text/plain": [
       "Entering __main__ read_netcdfs\n"
      ]
     },
     "metadata": {},
     "output_type": "display_data"
    },
    {
     "data": {
      "text/html": [
       "<pre style=\"white-space:pre;overflow-x:auto;line-height:normal;font-family:Menlo,'DejaVu Sans Mono',consolas,'Courier New',monospace\">Entering __main__ gather_variables\n",
       "</pre>\n"
      ],
      "text/plain": [
       "Entering __main__ gather_variables\n"
      ]
     },
     "metadata": {},
     "output_type": "display_data"
    },
    {
     "name": "stdout",
     "output_type": "stream",
     "text": [
      "...pulling data for and stacking it to the core data structure:\n",
      "......stacking ./folderOnColab/data/20250308_gfs.t00z.atmf000.nc\n",
      "......stacking ./folderOnColab/data/20250309_gfs.t00z.atmf000.nc\n",
      "......stacking ./folderOnColab/data/20250310_gfs.t00z.atmf000.nc\n",
      "......stacking ./folderOnColab/data/20250311_gfs.t00z.atmf000.nc\n",
      "......stacking ./folderOnColab/data/20250312_gfs.t00z.atmf000.nc\n",
      "......stacking ./folderOnColab/data/20250313_gfs.t00z.atmf000.nc\n",
      "......stacking ./folderOnColab/data/20250314_gfs.t00z.atmf000.nc\n",
      "......stacking ./folderOnColab/data/20250315_gfs.t00z.atmf000.nc\n",
      "......stacking ./folderOnColab/data/20250316_gfs.t00z.atmf000.nc\n",
      "......stacking ./folderOnColab/data/20250317_gfs.t00z.atmf000.nc\n",
      "...\u001b[1mlat        data type:         \u001b[0;0m<class 'numpy.ndarray'>\n",
      ".......shape:(47185920,)\n",
      "....datatype:float64\n",
      "...\u001b[1mlon        data type:         \u001b[0;0m<class 'numpy.ndarray'>\n",
      ".......shape:(47185920,)\n",
      "....datatype:float64\n",
      "...\u001b[1mData type           (cld_amt             )\u001b[0;0m<class 'numpy.ndarray'>\n",
      ".......shape:(47185920,)\n",
      "....datatype:float64\n"
     ]
    },
    {
     "data": {
      "text/html": [
       "<pre style=\"white-space:pre;overflow-x:auto;line-height:normal;font-family:Menlo,'DejaVu Sans Mono',consolas,'Courier New',monospace\">Exiting __main__ gather_variables\n",
       "</pre>\n"
      ],
      "text/plain": [
       "Exiting __main__ gather_variables\n"
      ]
     },
     "metadata": {},
     "output_type": "display_data"
    },
    {
     "data": {
      "text/html": [
       "<pre style=\"white-space:pre;overflow-x:auto;line-height:normal;font-family:Menlo,'DejaVu Sans Mono',consolas,'Courier New',monospace\">Entering __main__ read_netcdfs\n",
       "</pre>\n"
      ],
      "text/plain": [
       "Entering __main__ read_netcdfs\n"
      ]
     },
     "metadata": {},
     "output_type": "display_data"
    },
    {
     "data": {
      "text/html": [
       "<pre style=\"white-space:pre;overflow-x:auto;line-height:normal;font-family:Menlo,'DejaVu Sans Mono',consolas,'Courier New',monospace\"><span style=\"color: #808000; text-decoration-color: #808000\">...</span>reading NetCDF4 from list of <span style=\"color: #008080; text-decoration-color: #008080; font-weight: bold\">10</span> files:\n",
       "</pre>\n"
      ],
      "text/plain": [
       "\u001b[33m...\u001b[0mreading NetCDF4 from list of \u001b[1;36m10\u001b[0m files:\n"
      ]
     },
     "metadata": {},
     "output_type": "display_data"
    },
    {
     "data": {
      "text/html": [
       "<pre style=\"white-space:pre;overflow-x:auto;line-height:normal;font-family:Menlo,'DejaVu Sans Mono',consolas,'Courier New',monospace\"><span style=\"color: #808000; text-decoration-color: #808000\">......</span>reading NetCDF4 <span style=\"font-weight: bold\">(</span>.<span style=\"color: #800080; text-decoration-color: #800080\">/folderOnColab/data/</span><span style=\"color: #ff00ff; text-decoration-color: #ff00ff\">20250308_gfs.t00z.atmf000.nc</span><span style=\"font-weight: bold\">)</span>\n",
       "</pre>\n"
      ],
      "text/plain": [
       "\u001b[33m...\u001b[0m\u001b[33m...\u001b[0mreading NetCDF4 \u001b[1m(\u001b[0m.\u001b[35m/folderOnColab/data/\u001b[0m\u001b[95m20250308_gfs.t00z.atmf000.nc\u001b[0m\u001b[1m)\u001b[0m\n"
      ]
     },
     "metadata": {},
     "output_type": "display_data"
    },
    {
     "data": {
      "text/html": [
       "<pre style=\"white-space:pre;overflow-x:auto;line-height:normal;font-family:Menlo,'DejaVu Sans Mono',consolas,'Courier New',monospace\"><span style=\"color: #808000; text-decoration-color: #808000\">......</span>reading NetCDF4 <span style=\"font-weight: bold\">(</span>.<span style=\"color: #800080; text-decoration-color: #800080\">/folderOnColab/data/</span><span style=\"color: #ff00ff; text-decoration-color: #ff00ff\">20250309_gfs.t00z.atmf000.nc</span><span style=\"font-weight: bold\">)</span>\n",
       "</pre>\n"
      ],
      "text/plain": [
       "\u001b[33m...\u001b[0m\u001b[33m...\u001b[0mreading NetCDF4 \u001b[1m(\u001b[0m.\u001b[35m/folderOnColab/data/\u001b[0m\u001b[95m20250309_gfs.t00z.atmf000.nc\u001b[0m\u001b[1m)\u001b[0m\n"
      ]
     },
     "metadata": {},
     "output_type": "display_data"
    },
    {
     "data": {
      "text/html": [
       "<pre style=\"white-space:pre;overflow-x:auto;line-height:normal;font-family:Menlo,'DejaVu Sans Mono',consolas,'Courier New',monospace\"><span style=\"color: #808000; text-decoration-color: #808000\">......</span>reading NetCDF4 <span style=\"font-weight: bold\">(</span>.<span style=\"color: #800080; text-decoration-color: #800080\">/folderOnColab/data/</span><span style=\"color: #ff00ff; text-decoration-color: #ff00ff\">20250310_gfs.t00z.atmf000.nc</span><span style=\"font-weight: bold\">)</span>\n",
       "</pre>\n"
      ],
      "text/plain": [
       "\u001b[33m...\u001b[0m\u001b[33m...\u001b[0mreading NetCDF4 \u001b[1m(\u001b[0m.\u001b[35m/folderOnColab/data/\u001b[0m\u001b[95m20250310_gfs.t00z.atmf000.nc\u001b[0m\u001b[1m)\u001b[0m\n"
      ]
     },
     "metadata": {},
     "output_type": "display_data"
    },
    {
     "data": {
      "text/html": [
       "<pre style=\"white-space:pre;overflow-x:auto;line-height:normal;font-family:Menlo,'DejaVu Sans Mono',consolas,'Courier New',monospace\"><span style=\"color: #808000; text-decoration-color: #808000\">......</span>reading NetCDF4 <span style=\"font-weight: bold\">(</span>.<span style=\"color: #800080; text-decoration-color: #800080\">/folderOnColab/data/</span><span style=\"color: #ff00ff; text-decoration-color: #ff00ff\">20250311_gfs.t00z.atmf000.nc</span><span style=\"font-weight: bold\">)</span>\n",
       "</pre>\n"
      ],
      "text/plain": [
       "\u001b[33m...\u001b[0m\u001b[33m...\u001b[0mreading NetCDF4 \u001b[1m(\u001b[0m.\u001b[35m/folderOnColab/data/\u001b[0m\u001b[95m20250311_gfs.t00z.atmf000.nc\u001b[0m\u001b[1m)\u001b[0m\n"
      ]
     },
     "metadata": {},
     "output_type": "display_data"
    },
    {
     "data": {
      "text/html": [
       "<pre style=\"white-space:pre;overflow-x:auto;line-height:normal;font-family:Menlo,'DejaVu Sans Mono',consolas,'Courier New',monospace\"><span style=\"color: #808000; text-decoration-color: #808000\">......</span>reading NetCDF4 <span style=\"font-weight: bold\">(</span>.<span style=\"color: #800080; text-decoration-color: #800080\">/folderOnColab/data/</span><span style=\"color: #ff00ff; text-decoration-color: #ff00ff\">20250312_gfs.t00z.atmf000.nc</span><span style=\"font-weight: bold\">)</span>\n",
       "</pre>\n"
      ],
      "text/plain": [
       "\u001b[33m...\u001b[0m\u001b[33m...\u001b[0mreading NetCDF4 \u001b[1m(\u001b[0m.\u001b[35m/folderOnColab/data/\u001b[0m\u001b[95m20250312_gfs.t00z.atmf000.nc\u001b[0m\u001b[1m)\u001b[0m\n"
      ]
     },
     "metadata": {},
     "output_type": "display_data"
    },
    {
     "data": {
      "text/html": [
       "<pre style=\"white-space:pre;overflow-x:auto;line-height:normal;font-family:Menlo,'DejaVu Sans Mono',consolas,'Courier New',monospace\"><span style=\"color: #808000; text-decoration-color: #808000\">......</span>reading NetCDF4 <span style=\"font-weight: bold\">(</span>.<span style=\"color: #800080; text-decoration-color: #800080\">/folderOnColab/data/</span><span style=\"color: #ff00ff; text-decoration-color: #ff00ff\">20250313_gfs.t00z.atmf000.nc</span><span style=\"font-weight: bold\">)</span>\n",
       "</pre>\n"
      ],
      "text/plain": [
       "\u001b[33m...\u001b[0m\u001b[33m...\u001b[0mreading NetCDF4 \u001b[1m(\u001b[0m.\u001b[35m/folderOnColab/data/\u001b[0m\u001b[95m20250313_gfs.t00z.atmf000.nc\u001b[0m\u001b[1m)\u001b[0m\n"
      ]
     },
     "metadata": {},
     "output_type": "display_data"
    },
    {
     "data": {
      "text/html": [
       "<pre style=\"white-space:pre;overflow-x:auto;line-height:normal;font-family:Menlo,'DejaVu Sans Mono',consolas,'Courier New',monospace\"><span style=\"color: #808000; text-decoration-color: #808000\">......</span>reading NetCDF4 <span style=\"font-weight: bold\">(</span>.<span style=\"color: #800080; text-decoration-color: #800080\">/folderOnColab/data/</span><span style=\"color: #ff00ff; text-decoration-color: #ff00ff\">20250314_gfs.t00z.atmf000.nc</span><span style=\"font-weight: bold\">)</span>\n",
       "</pre>\n"
      ],
      "text/plain": [
       "\u001b[33m...\u001b[0m\u001b[33m...\u001b[0mreading NetCDF4 \u001b[1m(\u001b[0m.\u001b[35m/folderOnColab/data/\u001b[0m\u001b[95m20250314_gfs.t00z.atmf000.nc\u001b[0m\u001b[1m)\u001b[0m\n"
      ]
     },
     "metadata": {},
     "output_type": "display_data"
    },
    {
     "data": {
      "text/html": [
       "<pre style=\"white-space:pre;overflow-x:auto;line-height:normal;font-family:Menlo,'DejaVu Sans Mono',consolas,'Courier New',monospace\"><span style=\"color: #808000; text-decoration-color: #808000\">......</span>reading NetCDF4 <span style=\"font-weight: bold\">(</span>.<span style=\"color: #800080; text-decoration-color: #800080\">/folderOnColab/data/</span><span style=\"color: #ff00ff; text-decoration-color: #ff00ff\">20250315_gfs.t00z.atmf000.nc</span><span style=\"font-weight: bold\">)</span>\n",
       "</pre>\n"
      ],
      "text/plain": [
       "\u001b[33m...\u001b[0m\u001b[33m...\u001b[0mreading NetCDF4 \u001b[1m(\u001b[0m.\u001b[35m/folderOnColab/data/\u001b[0m\u001b[95m20250315_gfs.t00z.atmf000.nc\u001b[0m\u001b[1m)\u001b[0m\n"
      ]
     },
     "metadata": {},
     "output_type": "display_data"
    },
    {
     "data": {
      "text/html": [
       "<pre style=\"white-space:pre;overflow-x:auto;line-height:normal;font-family:Menlo,'DejaVu Sans Mono',consolas,'Courier New',monospace\"><span style=\"color: #808000; text-decoration-color: #808000\">......</span>reading NetCDF4 <span style=\"font-weight: bold\">(</span>.<span style=\"color: #800080; text-decoration-color: #800080\">/folderOnColab/data/</span><span style=\"color: #ff00ff; text-decoration-color: #ff00ff\">20250316_gfs.t00z.atmf000.nc</span><span style=\"font-weight: bold\">)</span>\n",
       "</pre>\n"
      ],
      "text/plain": [
       "\u001b[33m...\u001b[0m\u001b[33m...\u001b[0mreading NetCDF4 \u001b[1m(\u001b[0m.\u001b[35m/folderOnColab/data/\u001b[0m\u001b[95m20250316_gfs.t00z.atmf000.nc\u001b[0m\u001b[1m)\u001b[0m\n"
      ]
     },
     "metadata": {},
     "output_type": "display_data"
    },
    {
     "data": {
      "text/html": [
       "<pre style=\"white-space:pre;overflow-x:auto;line-height:normal;font-family:Menlo,'DejaVu Sans Mono',consolas,'Courier New',monospace\"><span style=\"color: #808000; text-decoration-color: #808000\">......</span>reading NetCDF4 <span style=\"font-weight: bold\">(</span>.<span style=\"color: #800080; text-decoration-color: #800080\">/folderOnColab/data/</span><span style=\"color: #ff00ff; text-decoration-color: #ff00ff\">20250317_gfs.t00z.atmf000.nc</span><span style=\"font-weight: bold\">)</span>\n",
       "</pre>\n"
      ],
      "text/plain": [
       "\u001b[33m...\u001b[0m\u001b[33m...\u001b[0mreading NetCDF4 \u001b[1m(\u001b[0m.\u001b[35m/folderOnColab/data/\u001b[0m\u001b[95m20250317_gfs.t00z.atmf000.nc\u001b[0m\u001b[1m)\u001b[0m\n"
      ]
     },
     "metadata": {},
     "output_type": "display_data"
    },
    {
     "data": {
      "text/html": [
       "<pre style=\"white-space:pre;overflow-x:auto;line-height:normal;font-family:Menlo,'DejaVu Sans Mono',consolas,'Courier New',monospace\">Entering __main__ read_netcdfs\n",
       "</pre>\n"
      ],
      "text/plain": [
       "Entering __main__ read_netcdfs\n"
      ]
     },
     "metadata": {},
     "output_type": "display_data"
    },
    {
     "data": {
      "text/html": [
       "<pre style=\"white-space:pre;overflow-x:auto;line-height:normal;font-family:Menlo,'DejaVu Sans Mono',consolas,'Courier New',monospace\">Entering __main__ gather_variables\n",
       "</pre>\n"
      ],
      "text/plain": [
       "Entering __main__ gather_variables\n"
      ]
     },
     "metadata": {},
     "output_type": "display_data"
    },
    {
     "name": "stdout",
     "output_type": "stream",
     "text": [
      "...pulling data for and stacking it to the core data structure:\n",
      "......stacking ./folderOnColab/data/20250308_gfs.t00z.atmf000.nc\n",
      "......stacking ./folderOnColab/data/20250309_gfs.t00z.atmf000.nc\n",
      "......stacking ./folderOnColab/data/20250310_gfs.t00z.atmf000.nc\n",
      "......stacking ./folderOnColab/data/20250311_gfs.t00z.atmf000.nc\n",
      "......stacking ./folderOnColab/data/20250312_gfs.t00z.atmf000.nc\n",
      "......stacking ./folderOnColab/data/20250313_gfs.t00z.atmf000.nc\n",
      "......stacking ./folderOnColab/data/20250314_gfs.t00z.atmf000.nc\n",
      "......stacking ./folderOnColab/data/20250315_gfs.t00z.atmf000.nc\n",
      "......stacking ./folderOnColab/data/20250316_gfs.t00z.atmf000.nc\n",
      "......stacking ./folderOnColab/data/20250317_gfs.t00z.atmf000.nc\n",
      "...\u001b[1mlat        data type:         \u001b[0;0m<class 'numpy.ndarray'>\n",
      ".......shape:(47185920,)\n",
      "....datatype:float64\n",
      "...\u001b[1mlon        data type:         \u001b[0;0m<class 'numpy.ndarray'>\n",
      ".......shape:(47185920,)\n",
      "....datatype:float64\n",
      "...\u001b[1mData type           (cld_amt             )\u001b[0;0m<class 'numpy.ndarray'>\n",
      ".......shape:(47185920,)\n",
      "....datatype:float64\n"
     ]
    },
    {
     "data": {
      "text/html": [
       "<pre style=\"white-space:pre;overflow-x:auto;line-height:normal;font-family:Menlo,'DejaVu Sans Mono',consolas,'Courier New',monospace\">Exiting __main__ gather_variables\n",
       "</pre>\n"
      ],
      "text/plain": [
       "Exiting __main__ gather_variables\n"
      ]
     },
     "metadata": {},
     "output_type": "display_data"
    },
    {
     "data": {
      "text/html": [
       "<pre style=\"white-space:pre;overflow-x:auto;line-height:normal;font-family:Menlo,'DejaVu Sans Mono',consolas,'Courier New',monospace\">Entering __main__ read_netcdfs\n",
       "</pre>\n"
      ],
      "text/plain": [
       "Entering __main__ read_netcdfs\n"
      ]
     },
     "metadata": {},
     "output_type": "display_data"
    },
    {
     "data": {
      "text/html": [
       "<pre style=\"white-space:pre;overflow-x:auto;line-height:normal;font-family:Menlo,'DejaVu Sans Mono',consolas,'Courier New',monospace\"><span style=\"color: #808000; text-decoration-color: #808000\">...</span>reading NetCDF4 from list of <span style=\"color: #008080; text-decoration-color: #008080; font-weight: bold\">10</span> files:\n",
       "</pre>\n"
      ],
      "text/plain": [
       "\u001b[33m...\u001b[0mreading NetCDF4 from list of \u001b[1;36m10\u001b[0m files:\n"
      ]
     },
     "metadata": {},
     "output_type": "display_data"
    },
    {
     "data": {
      "text/html": [
       "<pre style=\"white-space:pre;overflow-x:auto;line-height:normal;font-family:Menlo,'DejaVu Sans Mono',consolas,'Courier New',monospace\"><span style=\"color: #808000; text-decoration-color: #808000\">......</span>reading NetCDF4 <span style=\"font-weight: bold\">(</span>.<span style=\"color: #800080; text-decoration-color: #800080\">/folderOnColab/data/</span><span style=\"color: #ff00ff; text-decoration-color: #ff00ff\">20250308_gfs.t00z.atmf000.nc</span><span style=\"font-weight: bold\">)</span>\n",
       "</pre>\n"
      ],
      "text/plain": [
       "\u001b[33m...\u001b[0m\u001b[33m...\u001b[0mreading NetCDF4 \u001b[1m(\u001b[0m.\u001b[35m/folderOnColab/data/\u001b[0m\u001b[95m20250308_gfs.t00z.atmf000.nc\u001b[0m\u001b[1m)\u001b[0m\n"
      ]
     },
     "metadata": {},
     "output_type": "display_data"
    },
    {
     "data": {
      "text/html": [
       "<pre style=\"white-space:pre;overflow-x:auto;line-height:normal;font-family:Menlo,'DejaVu Sans Mono',consolas,'Courier New',monospace\"><span style=\"color: #808000; text-decoration-color: #808000\">......</span>reading NetCDF4 <span style=\"font-weight: bold\">(</span>.<span style=\"color: #800080; text-decoration-color: #800080\">/folderOnColab/data/</span><span style=\"color: #ff00ff; text-decoration-color: #ff00ff\">20250309_gfs.t00z.atmf000.nc</span><span style=\"font-weight: bold\">)</span>\n",
       "</pre>\n"
      ],
      "text/plain": [
       "\u001b[33m...\u001b[0m\u001b[33m...\u001b[0mreading NetCDF4 \u001b[1m(\u001b[0m.\u001b[35m/folderOnColab/data/\u001b[0m\u001b[95m20250309_gfs.t00z.atmf000.nc\u001b[0m\u001b[1m)\u001b[0m\n"
      ]
     },
     "metadata": {},
     "output_type": "display_data"
    },
    {
     "data": {
      "text/html": [
       "<pre style=\"white-space:pre;overflow-x:auto;line-height:normal;font-family:Menlo,'DejaVu Sans Mono',consolas,'Courier New',monospace\"><span style=\"color: #808000; text-decoration-color: #808000\">......</span>reading NetCDF4 <span style=\"font-weight: bold\">(</span>.<span style=\"color: #800080; text-decoration-color: #800080\">/folderOnColab/data/</span><span style=\"color: #ff00ff; text-decoration-color: #ff00ff\">20250310_gfs.t00z.atmf000.nc</span><span style=\"font-weight: bold\">)</span>\n",
       "</pre>\n"
      ],
      "text/plain": [
       "\u001b[33m...\u001b[0m\u001b[33m...\u001b[0mreading NetCDF4 \u001b[1m(\u001b[0m.\u001b[35m/folderOnColab/data/\u001b[0m\u001b[95m20250310_gfs.t00z.atmf000.nc\u001b[0m\u001b[1m)\u001b[0m\n"
      ]
     },
     "metadata": {},
     "output_type": "display_data"
    },
    {
     "data": {
      "text/html": [
       "<pre style=\"white-space:pre;overflow-x:auto;line-height:normal;font-family:Menlo,'DejaVu Sans Mono',consolas,'Courier New',monospace\"><span style=\"color: #808000; text-decoration-color: #808000\">......</span>reading NetCDF4 <span style=\"font-weight: bold\">(</span>.<span style=\"color: #800080; text-decoration-color: #800080\">/folderOnColab/data/</span><span style=\"color: #ff00ff; text-decoration-color: #ff00ff\">20250311_gfs.t00z.atmf000.nc</span><span style=\"font-weight: bold\">)</span>\n",
       "</pre>\n"
      ],
      "text/plain": [
       "\u001b[33m...\u001b[0m\u001b[33m...\u001b[0mreading NetCDF4 \u001b[1m(\u001b[0m.\u001b[35m/folderOnColab/data/\u001b[0m\u001b[95m20250311_gfs.t00z.atmf000.nc\u001b[0m\u001b[1m)\u001b[0m\n"
      ]
     },
     "metadata": {},
     "output_type": "display_data"
    },
    {
     "data": {
      "text/html": [
       "<pre style=\"white-space:pre;overflow-x:auto;line-height:normal;font-family:Menlo,'DejaVu Sans Mono',consolas,'Courier New',monospace\"><span style=\"color: #808000; text-decoration-color: #808000\">......</span>reading NetCDF4 <span style=\"font-weight: bold\">(</span>.<span style=\"color: #800080; text-decoration-color: #800080\">/folderOnColab/data/</span><span style=\"color: #ff00ff; text-decoration-color: #ff00ff\">20250312_gfs.t00z.atmf000.nc</span><span style=\"font-weight: bold\">)</span>\n",
       "</pre>\n"
      ],
      "text/plain": [
       "\u001b[33m...\u001b[0m\u001b[33m...\u001b[0mreading NetCDF4 \u001b[1m(\u001b[0m.\u001b[35m/folderOnColab/data/\u001b[0m\u001b[95m20250312_gfs.t00z.atmf000.nc\u001b[0m\u001b[1m)\u001b[0m\n"
      ]
     },
     "metadata": {},
     "output_type": "display_data"
    },
    {
     "data": {
      "text/html": [
       "<pre style=\"white-space:pre;overflow-x:auto;line-height:normal;font-family:Menlo,'DejaVu Sans Mono',consolas,'Courier New',monospace\"><span style=\"color: #808000; text-decoration-color: #808000\">......</span>reading NetCDF4 <span style=\"font-weight: bold\">(</span>.<span style=\"color: #800080; text-decoration-color: #800080\">/folderOnColab/data/</span><span style=\"color: #ff00ff; text-decoration-color: #ff00ff\">20250313_gfs.t00z.atmf000.nc</span><span style=\"font-weight: bold\">)</span>\n",
       "</pre>\n"
      ],
      "text/plain": [
       "\u001b[33m...\u001b[0m\u001b[33m...\u001b[0mreading NetCDF4 \u001b[1m(\u001b[0m.\u001b[35m/folderOnColab/data/\u001b[0m\u001b[95m20250313_gfs.t00z.atmf000.nc\u001b[0m\u001b[1m)\u001b[0m\n"
      ]
     },
     "metadata": {},
     "output_type": "display_data"
    },
    {
     "data": {
      "text/html": [
       "<pre style=\"white-space:pre;overflow-x:auto;line-height:normal;font-family:Menlo,'DejaVu Sans Mono',consolas,'Courier New',monospace\"><span style=\"color: #808000; text-decoration-color: #808000\">......</span>reading NetCDF4 <span style=\"font-weight: bold\">(</span>.<span style=\"color: #800080; text-decoration-color: #800080\">/folderOnColab/data/</span><span style=\"color: #ff00ff; text-decoration-color: #ff00ff\">20250314_gfs.t00z.atmf000.nc</span><span style=\"font-weight: bold\">)</span>\n",
       "</pre>\n"
      ],
      "text/plain": [
       "\u001b[33m...\u001b[0m\u001b[33m...\u001b[0mreading NetCDF4 \u001b[1m(\u001b[0m.\u001b[35m/folderOnColab/data/\u001b[0m\u001b[95m20250314_gfs.t00z.atmf000.nc\u001b[0m\u001b[1m)\u001b[0m\n"
      ]
     },
     "metadata": {},
     "output_type": "display_data"
    },
    {
     "data": {
      "text/html": [
       "<pre style=\"white-space:pre;overflow-x:auto;line-height:normal;font-family:Menlo,'DejaVu Sans Mono',consolas,'Courier New',monospace\"><span style=\"color: #808000; text-decoration-color: #808000\">......</span>reading NetCDF4 <span style=\"font-weight: bold\">(</span>.<span style=\"color: #800080; text-decoration-color: #800080\">/folderOnColab/data/</span><span style=\"color: #ff00ff; text-decoration-color: #ff00ff\">20250315_gfs.t00z.atmf000.nc</span><span style=\"font-weight: bold\">)</span>\n",
       "</pre>\n"
      ],
      "text/plain": [
       "\u001b[33m...\u001b[0m\u001b[33m...\u001b[0mreading NetCDF4 \u001b[1m(\u001b[0m.\u001b[35m/folderOnColab/data/\u001b[0m\u001b[95m20250315_gfs.t00z.atmf000.nc\u001b[0m\u001b[1m)\u001b[0m\n"
      ]
     },
     "metadata": {},
     "output_type": "display_data"
    },
    {
     "data": {
      "text/html": [
       "<pre style=\"white-space:pre;overflow-x:auto;line-height:normal;font-family:Menlo,'DejaVu Sans Mono',consolas,'Courier New',monospace\"><span style=\"color: #808000; text-decoration-color: #808000\">......</span>reading NetCDF4 <span style=\"font-weight: bold\">(</span>.<span style=\"color: #800080; text-decoration-color: #800080\">/folderOnColab/data/</span><span style=\"color: #ff00ff; text-decoration-color: #ff00ff\">20250316_gfs.t00z.atmf000.nc</span><span style=\"font-weight: bold\">)</span>\n",
       "</pre>\n"
      ],
      "text/plain": [
       "\u001b[33m...\u001b[0m\u001b[33m...\u001b[0mreading NetCDF4 \u001b[1m(\u001b[0m.\u001b[35m/folderOnColab/data/\u001b[0m\u001b[95m20250316_gfs.t00z.atmf000.nc\u001b[0m\u001b[1m)\u001b[0m\n"
      ]
     },
     "metadata": {},
     "output_type": "display_data"
    },
    {
     "data": {
      "text/html": [
       "<pre style=\"white-space:pre;overflow-x:auto;line-height:normal;font-family:Menlo,'DejaVu Sans Mono',consolas,'Courier New',monospace\"><span style=\"color: #808000; text-decoration-color: #808000\">......</span>reading NetCDF4 <span style=\"font-weight: bold\">(</span>.<span style=\"color: #800080; text-decoration-color: #800080\">/folderOnColab/data/</span><span style=\"color: #ff00ff; text-decoration-color: #ff00ff\">20250317_gfs.t00z.atmf000.nc</span><span style=\"font-weight: bold\">)</span>\n",
       "</pre>\n"
      ],
      "text/plain": [
       "\u001b[33m...\u001b[0m\u001b[33m...\u001b[0mreading NetCDF4 \u001b[1m(\u001b[0m.\u001b[35m/folderOnColab/data/\u001b[0m\u001b[95m20250317_gfs.t00z.atmf000.nc\u001b[0m\u001b[1m)\u001b[0m\n"
      ]
     },
     "metadata": {},
     "output_type": "display_data"
    },
    {
     "data": {
      "text/html": [
       "<pre style=\"white-space:pre;overflow-x:auto;line-height:normal;font-family:Menlo,'DejaVu Sans Mono',consolas,'Courier New',monospace\">Entering __main__ read_netcdfs\n",
       "</pre>\n"
      ],
      "text/plain": [
       "Entering __main__ read_netcdfs\n"
      ]
     },
     "metadata": {},
     "output_type": "display_data"
    },
    {
     "data": {
      "text/html": [
       "<pre style=\"white-space:pre;overflow-x:auto;line-height:normal;font-family:Menlo,'DejaVu Sans Mono',consolas,'Courier New',monospace\">Entering __main__ gather_variables\n",
       "</pre>\n"
      ],
      "text/plain": [
       "Entering __main__ gather_variables\n"
      ]
     },
     "metadata": {},
     "output_type": "display_data"
    },
    {
     "name": "stdout",
     "output_type": "stream",
     "text": [
      "...pulling data for and stacking it to the core data structure:\n",
      "......stacking ./folderOnColab/data/20250308_gfs.t00z.atmf000.nc\n",
      "......stacking ./folderOnColab/data/20250309_gfs.t00z.atmf000.nc\n",
      "......stacking ./folderOnColab/data/20250310_gfs.t00z.atmf000.nc\n",
      "......stacking ./folderOnColab/data/20250311_gfs.t00z.atmf000.nc\n",
      "......stacking ./folderOnColab/data/20250312_gfs.t00z.atmf000.nc\n",
      "......stacking ./folderOnColab/data/20250313_gfs.t00z.atmf000.nc\n",
      "......stacking ./folderOnColab/data/20250314_gfs.t00z.atmf000.nc\n",
      "......stacking ./folderOnColab/data/20250315_gfs.t00z.atmf000.nc\n",
      "......stacking ./folderOnColab/data/20250316_gfs.t00z.atmf000.nc\n",
      "......stacking ./folderOnColab/data/20250317_gfs.t00z.atmf000.nc\n",
      "...\u001b[1mlat        data type:         \u001b[0;0m<class 'numpy.ndarray'>\n",
      ".......shape:(47185920,)\n",
      "....datatype:float64\n",
      "...\u001b[1mlon        data type:         \u001b[0;0m<class 'numpy.ndarray'>\n",
      ".......shape:(47185920,)\n",
      "....datatype:float64\n",
      "...\u001b[1mData type           (cld_amt             )\u001b[0;0m<class 'numpy.ndarray'>\n",
      ".......shape:(47185920,)\n",
      "....datatype:float64\n"
     ]
    },
    {
     "data": {
      "text/html": [
       "<pre style=\"white-space:pre;overflow-x:auto;line-height:normal;font-family:Menlo,'DejaVu Sans Mono',consolas,'Courier New',monospace\">Exiting __main__ gather_variables\n",
       "</pre>\n"
      ],
      "text/plain": [
       "Exiting __main__ gather_variables\n"
      ]
     },
     "metadata": {},
     "output_type": "display_data"
    },
    {
     "data": {
      "text/html": [
       "<pre style=\"white-space:pre;overflow-x:auto;line-height:normal;font-family:Menlo,'DejaVu Sans Mono',consolas,'Courier New',monospace\">Entering __main__ read_netcdfs\n",
       "</pre>\n"
      ],
      "text/plain": [
       "Entering __main__ read_netcdfs\n"
      ]
     },
     "metadata": {},
     "output_type": "display_data"
    },
    {
     "data": {
      "text/html": [
       "<pre style=\"white-space:pre;overflow-x:auto;line-height:normal;font-family:Menlo,'DejaVu Sans Mono',consolas,'Courier New',monospace\"><span style=\"color: #808000; text-decoration-color: #808000\">...</span>reading NetCDF4 from list of <span style=\"color: #008080; text-decoration-color: #008080; font-weight: bold\">10</span> files:\n",
       "</pre>\n"
      ],
      "text/plain": [
       "\u001b[33m...\u001b[0mreading NetCDF4 from list of \u001b[1;36m10\u001b[0m files:\n"
      ]
     },
     "metadata": {},
     "output_type": "display_data"
    },
    {
     "data": {
      "text/html": [
       "<pre style=\"white-space:pre;overflow-x:auto;line-height:normal;font-family:Menlo,'DejaVu Sans Mono',consolas,'Courier New',monospace\"><span style=\"color: #808000; text-decoration-color: #808000\">......</span>reading NetCDF4 <span style=\"font-weight: bold\">(</span>.<span style=\"color: #800080; text-decoration-color: #800080\">/folderOnColab/data/</span><span style=\"color: #ff00ff; text-decoration-color: #ff00ff\">20250308_gfs.t00z.atmf000.nc</span><span style=\"font-weight: bold\">)</span>\n",
       "</pre>\n"
      ],
      "text/plain": [
       "\u001b[33m...\u001b[0m\u001b[33m...\u001b[0mreading NetCDF4 \u001b[1m(\u001b[0m.\u001b[35m/folderOnColab/data/\u001b[0m\u001b[95m20250308_gfs.t00z.atmf000.nc\u001b[0m\u001b[1m)\u001b[0m\n"
      ]
     },
     "metadata": {},
     "output_type": "display_data"
    },
    {
     "data": {
      "text/html": [
       "<pre style=\"white-space:pre;overflow-x:auto;line-height:normal;font-family:Menlo,'DejaVu Sans Mono',consolas,'Courier New',monospace\"><span style=\"color: #808000; text-decoration-color: #808000\">......</span>reading NetCDF4 <span style=\"font-weight: bold\">(</span>.<span style=\"color: #800080; text-decoration-color: #800080\">/folderOnColab/data/</span><span style=\"color: #ff00ff; text-decoration-color: #ff00ff\">20250309_gfs.t00z.atmf000.nc</span><span style=\"font-weight: bold\">)</span>\n",
       "</pre>\n"
      ],
      "text/plain": [
       "\u001b[33m...\u001b[0m\u001b[33m...\u001b[0mreading NetCDF4 \u001b[1m(\u001b[0m.\u001b[35m/folderOnColab/data/\u001b[0m\u001b[95m20250309_gfs.t00z.atmf000.nc\u001b[0m\u001b[1m)\u001b[0m\n"
      ]
     },
     "metadata": {},
     "output_type": "display_data"
    },
    {
     "data": {
      "text/html": [
       "<pre style=\"white-space:pre;overflow-x:auto;line-height:normal;font-family:Menlo,'DejaVu Sans Mono',consolas,'Courier New',monospace\"><span style=\"color: #808000; text-decoration-color: #808000\">......</span>reading NetCDF4 <span style=\"font-weight: bold\">(</span>.<span style=\"color: #800080; text-decoration-color: #800080\">/folderOnColab/data/</span><span style=\"color: #ff00ff; text-decoration-color: #ff00ff\">20250310_gfs.t00z.atmf000.nc</span><span style=\"font-weight: bold\">)</span>\n",
       "</pre>\n"
      ],
      "text/plain": [
       "\u001b[33m...\u001b[0m\u001b[33m...\u001b[0mreading NetCDF4 \u001b[1m(\u001b[0m.\u001b[35m/folderOnColab/data/\u001b[0m\u001b[95m20250310_gfs.t00z.atmf000.nc\u001b[0m\u001b[1m)\u001b[0m\n"
      ]
     },
     "metadata": {},
     "output_type": "display_data"
    },
    {
     "data": {
      "text/html": [
       "<pre style=\"white-space:pre;overflow-x:auto;line-height:normal;font-family:Menlo,'DejaVu Sans Mono',consolas,'Courier New',monospace\"><span style=\"color: #808000; text-decoration-color: #808000\">......</span>reading NetCDF4 <span style=\"font-weight: bold\">(</span>.<span style=\"color: #800080; text-decoration-color: #800080\">/folderOnColab/data/</span><span style=\"color: #ff00ff; text-decoration-color: #ff00ff\">20250311_gfs.t00z.atmf000.nc</span><span style=\"font-weight: bold\">)</span>\n",
       "</pre>\n"
      ],
      "text/plain": [
       "\u001b[33m...\u001b[0m\u001b[33m...\u001b[0mreading NetCDF4 \u001b[1m(\u001b[0m.\u001b[35m/folderOnColab/data/\u001b[0m\u001b[95m20250311_gfs.t00z.atmf000.nc\u001b[0m\u001b[1m)\u001b[0m\n"
      ]
     },
     "metadata": {},
     "output_type": "display_data"
    },
    {
     "data": {
      "text/html": [
       "<pre style=\"white-space:pre;overflow-x:auto;line-height:normal;font-family:Menlo,'DejaVu Sans Mono',consolas,'Courier New',monospace\"><span style=\"color: #808000; text-decoration-color: #808000\">......</span>reading NetCDF4 <span style=\"font-weight: bold\">(</span>.<span style=\"color: #800080; text-decoration-color: #800080\">/folderOnColab/data/</span><span style=\"color: #ff00ff; text-decoration-color: #ff00ff\">20250312_gfs.t00z.atmf000.nc</span><span style=\"font-weight: bold\">)</span>\n",
       "</pre>\n"
      ],
      "text/plain": [
       "\u001b[33m...\u001b[0m\u001b[33m...\u001b[0mreading NetCDF4 \u001b[1m(\u001b[0m.\u001b[35m/folderOnColab/data/\u001b[0m\u001b[95m20250312_gfs.t00z.atmf000.nc\u001b[0m\u001b[1m)\u001b[0m\n"
      ]
     },
     "metadata": {},
     "output_type": "display_data"
    },
    {
     "data": {
      "text/html": [
       "<pre style=\"white-space:pre;overflow-x:auto;line-height:normal;font-family:Menlo,'DejaVu Sans Mono',consolas,'Courier New',monospace\"><span style=\"color: #808000; text-decoration-color: #808000\">......</span>reading NetCDF4 <span style=\"font-weight: bold\">(</span>.<span style=\"color: #800080; text-decoration-color: #800080\">/folderOnColab/data/</span><span style=\"color: #ff00ff; text-decoration-color: #ff00ff\">20250313_gfs.t00z.atmf000.nc</span><span style=\"font-weight: bold\">)</span>\n",
       "</pre>\n"
      ],
      "text/plain": [
       "\u001b[33m...\u001b[0m\u001b[33m...\u001b[0mreading NetCDF4 \u001b[1m(\u001b[0m.\u001b[35m/folderOnColab/data/\u001b[0m\u001b[95m20250313_gfs.t00z.atmf000.nc\u001b[0m\u001b[1m)\u001b[0m\n"
      ]
     },
     "metadata": {},
     "output_type": "display_data"
    },
    {
     "data": {
      "text/html": [
       "<pre style=\"white-space:pre;overflow-x:auto;line-height:normal;font-family:Menlo,'DejaVu Sans Mono',consolas,'Courier New',monospace\"><span style=\"color: #808000; text-decoration-color: #808000\">......</span>reading NetCDF4 <span style=\"font-weight: bold\">(</span>.<span style=\"color: #800080; text-decoration-color: #800080\">/folderOnColab/data/</span><span style=\"color: #ff00ff; text-decoration-color: #ff00ff\">20250314_gfs.t00z.atmf000.nc</span><span style=\"font-weight: bold\">)</span>\n",
       "</pre>\n"
      ],
      "text/plain": [
       "\u001b[33m...\u001b[0m\u001b[33m...\u001b[0mreading NetCDF4 \u001b[1m(\u001b[0m.\u001b[35m/folderOnColab/data/\u001b[0m\u001b[95m20250314_gfs.t00z.atmf000.nc\u001b[0m\u001b[1m)\u001b[0m\n"
      ]
     },
     "metadata": {},
     "output_type": "display_data"
    },
    {
     "data": {
      "text/html": [
       "<pre style=\"white-space:pre;overflow-x:auto;line-height:normal;font-family:Menlo,'DejaVu Sans Mono',consolas,'Courier New',monospace\"><span style=\"color: #808000; text-decoration-color: #808000\">......</span>reading NetCDF4 <span style=\"font-weight: bold\">(</span>.<span style=\"color: #800080; text-decoration-color: #800080\">/folderOnColab/data/</span><span style=\"color: #ff00ff; text-decoration-color: #ff00ff\">20250315_gfs.t00z.atmf000.nc</span><span style=\"font-weight: bold\">)</span>\n",
       "</pre>\n"
      ],
      "text/plain": [
       "\u001b[33m...\u001b[0m\u001b[33m...\u001b[0mreading NetCDF4 \u001b[1m(\u001b[0m.\u001b[35m/folderOnColab/data/\u001b[0m\u001b[95m20250315_gfs.t00z.atmf000.nc\u001b[0m\u001b[1m)\u001b[0m\n"
      ]
     },
     "metadata": {},
     "output_type": "display_data"
    },
    {
     "data": {
      "text/html": [
       "<pre style=\"white-space:pre;overflow-x:auto;line-height:normal;font-family:Menlo,'DejaVu Sans Mono',consolas,'Courier New',monospace\"><span style=\"color: #808000; text-decoration-color: #808000\">......</span>reading NetCDF4 <span style=\"font-weight: bold\">(</span>.<span style=\"color: #800080; text-decoration-color: #800080\">/folderOnColab/data/</span><span style=\"color: #ff00ff; text-decoration-color: #ff00ff\">20250316_gfs.t00z.atmf000.nc</span><span style=\"font-weight: bold\">)</span>\n",
       "</pre>\n"
      ],
      "text/plain": [
       "\u001b[33m...\u001b[0m\u001b[33m...\u001b[0mreading NetCDF4 \u001b[1m(\u001b[0m.\u001b[35m/folderOnColab/data/\u001b[0m\u001b[95m20250316_gfs.t00z.atmf000.nc\u001b[0m\u001b[1m)\u001b[0m\n"
      ]
     },
     "metadata": {},
     "output_type": "display_data"
    },
    {
     "data": {
      "text/html": [
       "<pre style=\"white-space:pre;overflow-x:auto;line-height:normal;font-family:Menlo,'DejaVu Sans Mono',consolas,'Courier New',monospace\"><span style=\"color: #808000; text-decoration-color: #808000\">......</span>reading NetCDF4 <span style=\"font-weight: bold\">(</span>.<span style=\"color: #800080; text-decoration-color: #800080\">/folderOnColab/data/</span><span style=\"color: #ff00ff; text-decoration-color: #ff00ff\">20250317_gfs.t00z.atmf000.nc</span><span style=\"font-weight: bold\">)</span>\n",
       "</pre>\n"
      ],
      "text/plain": [
       "\u001b[33m...\u001b[0m\u001b[33m...\u001b[0mreading NetCDF4 \u001b[1m(\u001b[0m.\u001b[35m/folderOnColab/data/\u001b[0m\u001b[95m20250317_gfs.t00z.atmf000.nc\u001b[0m\u001b[1m)\u001b[0m\n"
      ]
     },
     "metadata": {},
     "output_type": "display_data"
    },
    {
     "data": {
      "text/html": [
       "<pre style=\"white-space:pre;overflow-x:auto;line-height:normal;font-family:Menlo,'DejaVu Sans Mono',consolas,'Courier New',monospace\">Entering __main__ read_netcdfs\n",
       "</pre>\n"
      ],
      "text/plain": [
       "Entering __main__ read_netcdfs\n"
      ]
     },
     "metadata": {},
     "output_type": "display_data"
    },
    {
     "data": {
      "text/html": [
       "<pre style=\"white-space:pre;overflow-x:auto;line-height:normal;font-family:Menlo,'DejaVu Sans Mono',consolas,'Courier New',monospace\">Entering __main__ gather_variables\n",
       "</pre>\n"
      ],
      "text/plain": [
       "Entering __main__ gather_variables\n"
      ]
     },
     "metadata": {},
     "output_type": "display_data"
    },
    {
     "name": "stdout",
     "output_type": "stream",
     "text": [
      "...pulling data for and stacking it to the core data structure:\n",
      "......stacking ./folderOnColab/data/20250308_gfs.t00z.atmf000.nc\n",
      "......stacking ./folderOnColab/data/20250309_gfs.t00z.atmf000.nc\n",
      "......stacking ./folderOnColab/data/20250310_gfs.t00z.atmf000.nc\n",
      "......stacking ./folderOnColab/data/20250311_gfs.t00z.atmf000.nc\n",
      "......stacking ./folderOnColab/data/20250312_gfs.t00z.atmf000.nc\n",
      "......stacking ./folderOnColab/data/20250313_gfs.t00z.atmf000.nc\n",
      "......stacking ./folderOnColab/data/20250314_gfs.t00z.atmf000.nc\n",
      "......stacking ./folderOnColab/data/20250315_gfs.t00z.atmf000.nc\n",
      "......stacking ./folderOnColab/data/20250316_gfs.t00z.atmf000.nc\n",
      "......stacking ./folderOnColab/data/20250317_gfs.t00z.atmf000.nc\n",
      "...\u001b[1mlat        data type:         \u001b[0;0m<class 'numpy.ndarray'>\n",
      ".......shape:(47185920,)\n",
      "....datatype:float64\n",
      "...\u001b[1mlon        data type:         \u001b[0;0m<class 'numpy.ndarray'>\n",
      ".......shape:(47185920,)\n",
      "....datatype:float64\n",
      "...\u001b[1mData type           (cld_amt             )\u001b[0;0m<class 'numpy.ndarray'>\n",
      ".......shape:(47185920,)\n",
      "....datatype:float64\n"
     ]
    },
    {
     "data": {
      "text/html": [
       "<pre style=\"white-space:pre;overflow-x:auto;line-height:normal;font-family:Menlo,'DejaVu Sans Mono',consolas,'Courier New',monospace\">Exiting __main__ gather_variables\n",
       "</pre>\n"
      ],
      "text/plain": [
       "Exiting __main__ gather_variables\n"
      ]
     },
     "metadata": {},
     "output_type": "display_data"
    },
    {
     "ename": "UnboundLocalError",
     "evalue": "cannot access local variable 'the_payload' where it is not associated with a value",
     "output_type": "error",
     "traceback": [
      "\u001b[0;31m---------------------------------------------------------------------------\u001b[0m",
      "\u001b[0;31mUnboundLocalError\u001b[0m                         Traceback (most recent call last)",
      "Cell \u001b[0;32mIn[54], line 118\u001b[0m\n\u001b[1;32m    111\u001b[0m get_hardware_stats()\n\u001b[1;32m    113\u001b[0m \u001b[38;5;66;03m# download the data\u001b[39;00m\n\u001b[1;32m    114\u001b[0m \u001b[38;5;66;03m#download_noaa()\u001b[39;00m\n\u001b[1;32m    115\u001b[0m \u001b[38;5;66;03m#download_test()\u001b[39;00m\n\u001b[1;32m    116\u001b[0m \n\u001b[1;32m    117\u001b[0m \u001b[38;5;66;03m# - Core workhorse routine\u001b[39;00m\n\u001b[0;32m--> 118\u001b[0m process(input_directory, \u001b[38;5;124m\"\u001b[39m\u001b[38;5;124m2025\u001b[39m\u001b[38;5;124m\"\u001b[39m)\n\u001b[1;32m    120\u001b[0m \u001b[38;5;66;03m# - Save the results\u001b[39;00m\n\u001b[1;32m    121\u001b[0m \u001b[38;5;66;03m# save_output()\u001b[39;00m\n\u001b[1;32m    123\u001b[0m end_t \u001b[38;5;241m=\u001b[39m perf_counter()\n",
      "Cell \u001b[0;32mIn[53], line 39\u001b[0m, in \u001b[0;36mprocess\u001b[0;34m(inc_input_directory, inc_input_pattern)\u001b[0m\n\u001b[1;32m     36\u001b[0m     \u001b[38;5;28;01mdel\u001b[39;00m the_payload\n\u001b[1;32m     37\u001b[0m     clean_house\n\u001b[0;32m---> 39\u001b[0m process_numpy(the_payload)\n\u001b[1;32m     40\u001b[0m \u001b[38;5;66;03m#process_pandas(the_payload)\u001b[39;00m\n\u001b[1;32m     41\u001b[0m \u001b[38;5;66;03m#process_pytorch(the_payload)\u001b[39;00m\n\u001b[1;32m     42\u001b[0m \u001b[38;5;66;03m#process_tensorflow(the_payload)\u001b[39;00m\n\u001b[0;32m   (...)\u001b[0m\n\u001b[1;32m     45\u001b[0m \u001b[38;5;66;03m#process_dask(the_payload)\u001b[39;00m\n\u001b[1;32m     46\u001b[0m \u001b[38;5;66;03m#process_parquet(the_payload)\u001b[39;00m\n\u001b[1;32m     48\u001b[0m rprint(\u001b[38;5;124mf\u001b[39m\u001b[38;5;124m\"\u001b[39m\u001b[38;5;124mExiting \u001b[39m\u001b[38;5;132;01m{\u001b[39;00m\u001b[38;5;18m__name__\u001b[39m\u001b[38;5;132;01m}\u001b[39;00m\u001b[38;5;124m \u001b[39m\u001b[38;5;132;01m{\u001b[39;00minspect\u001b[38;5;241m.\u001b[39mstack()[\u001b[38;5;241m0\u001b[39m][\u001b[38;5;241m3\u001b[39m]\u001b[38;5;132;01m}\u001b[39;00m\u001b[38;5;124m\"\u001b[39m)\n",
      "\u001b[0;31mUnboundLocalError\u001b[0m: cannot access local variable 'the_payload' where it is not associated with a value"
     ]
    }
   ],
   "source": [
    "if __name__ == \"__main__\":\n",
    "\n",
    "    # note that this design now deviates from previous methods.\n",
    "    # Implementation will assume a single execution of a single PIID folder, scanning results and\n",
    "    # appending metrics to a single ASCII file as the code proceeds thus ensuring multi-processor, *nix driven execution.\n",
    "\n",
    "    start_t = perf_counter()\n",
    "    print(\"BEGIN PROGRAM\")\n",
    "\n",
    "    ############################################\n",
    "    # CONSTANTS\n",
    "    ############################################\n",
    "\n",
    "    # Semantic Versioning\n",
    "    VERSION_NAME = \"PROFILER\"\n",
    "    VERSION_MAJOR = 0\n",
    "    VERSION_MINOR = 0\n",
    "    VERSION_RELEASE = 1\n",
    "\n",
    "    DATA_VERSION_RELEASE = \"-\".join(\n",
    "        [\n",
    "            str(VERSION_NAME),\n",
    "            str(VERSION_MAJOR),\n",
    "            str(VERSION_MINOR),\n",
    "            str(VERSION_RELEASE),\n",
    "        ]\n",
    "    )\n",
    "\n",
    "    WORKING_FOLDER = \"./folderOnColab\"\n",
    "    input_directory = \"./folderOnColab\"\n",
    "    output_directory = \"./folderOnColab\"\n",
    "\n",
    "    # Notebook Author details\n",
    "    AUTHOR_NAME = \"Christopher G Wood\"\n",
    "    GITHUB_USERNAME = \"christophergarthwood\"\n",
    "    AUTHOR_EMAIL = \"christopher.g.wood@gmail.com\"\n",
    "\n",
    "    # Encoding\n",
    "    ENCODING = \"utf-8\"\n",
    "    os.environ[\"PYTHONIOENCODING\"] = ENCODING\n",
    "\n",
    "    BOLD_START = \"\\033[1m\"\n",
    "    BOLD_END = \"\\033[0;0m\"\n",
    "    TEXT_WIDTH = 77\n",
    "\n",
    "    DEBUG_STACKTRACE = 0\n",
    "    ITERATIONS = 20\n",
    "\n",
    "    THE_DEVICE_NAME = \"/job:localhost/replica:0/task:0/device:CPU:0\"\n",
    "\n",
    "    warnings.filterwarnings(\"ignore\", category=DeprecationWarning)\n",
    "    warnings.filterwarnings(\"ignore\", category=FutureWarning)\n",
    "    warnings.filterwarnings(\"ignore\", category=UserWarning)\n",
    "\n",
    "    # GPU Setup (for multiple GPU devices)\n",
    "    device = torch.cuda.current_device()\n",
    "\n",
    "    # softare watermark\n",
    "    lib_diagnostics()\n",
    "\n",
    "    # hardware specs\n",
    "    get_hardware_stats()\n",
    "\n",
    "    # - Core workhorse routine\n",
    "    process()\n",
    "\n",
    "    # - Save the results\n",
    "    # save_output()\n",
    "\n",
    "    end_t = perf_counter()\n",
    "    print(\"END PROGRAM\")\n",
    "    print(f\"Elapsed time: {end_t - start_t}\")"
   ]
  },
  {
   "cell_type": "code",
   "execution_count": null,
   "id": "9031639a-a513-4f3e-b6b3-de2a5848cae8",
   "metadata": {},
   "outputs": [],
   "source": []
  }
 ],
 "metadata": {
  "kernelspec": {
   "display_name": "Python 3 (ipykernel)",
   "language": "python",
   "name": "python3"
  },
  "language_info": {
   "codemirror_mode": {
    "name": "ipython",
    "version": 3
   },
   "file_extension": ".py",
   "mimetype": "text/x-python",
   "name": "python",
   "nbconvert_exporter": "python",
   "pygments_lexer": "ipython3",
   "version": "3.12.9"
  }
 },
 "nbformat": 4,
 "nbformat_minor": 5
}
