{
  "cells": [
    {
      "cell_type": "markdown",
      "metadata": {
        "id": "YEgl_-RsIPab"
      },
      "source": [
        "# Python Classes (OOP) and \"Self\"\n",
        "\n",
        "Reference: https://www.geeksforgeeks.org/self-in-python-class/"
      ]
    },
    {
      "cell_type": "code",
      "source": [
        "BUCKET_NAME     = \"ai-training-2024-08-09-bucket\"\n",
        "PROJECT_ID      = \"ai-training-2024-08-09\"\n",
        "LOCATION        = \"us-central1\"\n",
        "secret_name     = \"ai-training-key-secret\"\n",
        "secret_version  = \"latest\"\n",
        "project_id      = \"usfs-tf-admin\"\n",
        "resource_name   = f\"projects/{project_id}/secrets/{secret_name}/versions/{secret_version}\""
      ],
      "metadata": {
        "id": "wpein3IwISwz"
      },
      "execution_count": null,
      "outputs": []
    },
    {
      "cell_type": "code",
      "source": [
        "# +++++++++++++++++++++++++++++++++++++++++++++++++++++++++++++++++++++++\n",
        "#- Google Colab Check\n",
        "# +++++++++++++++++++++++++++++++++++++++++++++++++++++++++++++++++++++++\n",
        "RunningInCOLAB = False\n",
        "RunningInCOLAB = 'google.colab' in str(get_ipython())\n",
        "\n",
        "if RunningInCOLAB:\n",
        "    print(\"You are running this notebook in Google Colab.\")\n",
        "else:\n",
        "    print(\"You are running this notebook with Jupyter iPython runtime.\")\n",
        "    print(\"Assumption is you have the required libraries to execute this notebook.\")"
      ],
      "metadata": {
        "id": "HtkqjtTYIZH0"
      },
      "execution_count": null,
      "outputs": []
    },
    {
      "cell_type": "code",
      "source": [
        "import sys\n",
        "import subprocess\n",
        "import importlib.util"
      ],
      "metadata": {
        "id": "oGLV-13HIbW8"
      },
      "execution_count": null,
      "outputs": []
    },
    {
      "cell_type": "code",
      "source": [
        "libraries=[\"numpy\", \"pandas\", \"scipy\", \"sklearn\", \"matplotlib\", ]\n",
        "import importlib.util\n",
        "\n",
        "for library in libraries:\n",
        "    if library == \"Pillow\":\n",
        "      spec = importlib.util.find_spec(\"PIL\")\n",
        "    else:\n",
        "      spec = importlib.util.find_spec(library)\n",
        "    if spec is None:\n",
        "      print(\"Installing library \" + library)\n",
        "      subprocess.run([\"pip\", \"install\" , library, \"--quiet\"])\n",
        "    else:\n",
        "      print(\"Library \" + library + \" already installed.\")"
      ],
      "metadata": {
        "id": "owu414-DId7h"
      },
      "execution_count": null,
      "outputs": []
    },
    {
      "cell_type": "markdown",
      "source": [
        "# Includes and Libraries"
      ],
      "metadata": {
        "id": "ke4ix5L_IlaE"
      }
    },
    {
      "cell_type": "code",
      "execution_count": null,
      "metadata": {
        "id": "6HGooInjIPab",
        "outputId": "22258115-0c30-4ab4-cc4b-9f46ada8ebbf"
      },
      "outputs": [
        {
          "name": "stdout",
          "output_type": "stream",
          "text": [
            "DEBUG LIB LOCATION: .\n"
          ]
        }
      ],
      "source": [
        "# Python 3.7.3\n",
        "############################################\n",
        "# INCLUDES\n",
        "############################################\n",
        "#libraries specific to this example\n",
        "import numpy as np\n",
        "import pandas as pd\n",
        "import scipy as sp\n",
        "import matplotlib as matplt\n",
        "import matplotlib.pyplot as plt\n",
        "\n",
        "#a set of libraries that perhaps should always be in Python source\n",
        "import os\n",
        "import datetime\n",
        "import sys\n",
        "import gc\n",
        "import getopt\n",
        "import inspect\n",
        "import math\n",
        "import warnings\n",
        "\n",
        "#a darn useful library for creating paths and one I recommend you load to your environment\n",
        "from pathlib import Path\n",
        "\n",
        "from pydoc import help                          # can type in the python console `help(name of function)` to get the documentation\n",
        "\n",
        "#Data Science Libraries\n",
        "import numpy as np\n",
        "import pandas as pd\n",
        "import scipy as sp\n",
        "import scipy.ndimage\n",
        "\n",
        "#Plotting libraries\n",
        "import matplotlib as matplt\n",
        "import matplotlib.pyplot as plt\n",
        "\n",
        "\n",
        "\n",
        "warnings.filterwarnings('ignore')               # don't print out warnings"
      ]
    },
    {
      "cell_type": "markdown",
      "source": [
        "# Pull in Support Routines"
      ],
      "metadata": {
        "id": "T7w_18hvIpMN"
      }
    },
    {
      "cell_type": "code",
      "execution_count": null,
      "metadata": {
        "id": "xi3lsGwsIPac"
      },
      "outputs": [],
      "source": [
        "#!rm -rf ./folderOnColab && echo \"Ok, removed.\" || { echo \"No folder to remove.\"; exit 1; }\n",
        "#!mkdir -p ./folderOnColab && echo \"Folder created.\" || { echo \"Failed to create folder, it might already exist.\";  }\n",
        "#!gsutil -m cp -r gs://usfs-gcp-rand-test-data-usc1/public_source/jbooks/ANewHope.txt ./folderOnColab\n",
        "\n",
        "target_folder=\"./folderOnColab\"\n",
        "target_repo=\"https://raw.githubusercontent.com//christophergarthwood/jbooks/main\"\n",
        "target_files=[\"support_debug.ipynb\", \"support_functions.ipynb\"]\n",
        "print(f\"Creating a folder ({target_folder}) to store project data.\")\n",
        "subprocess.run([\"mkdir\", \"-p\" , target_folder])\n",
        "if os.path.isdir(target_folder):\n",
        "  print(\"Performing wget on:\")\n",
        "  for idx, filename in enumerate(target_files):\n",
        "    print(f\"...{filename} to target folder: {target_folder}\")\n",
        "    try:\n",
        "      subprocess.run([\"wget\", f\"--directory-prefix={target_folder}\", f\"{target_repo}/{filename}\"])\n",
        "    except Exception as e:\n",
        "      print(\"\")\n",
        "      print(f\"ERROR: There was a problem performing wget on the target file ({filename}), see Exception: {str(e)}\")\n",
        "      print(\"...talk to the instructor.\")\n",
        "    if os.path.isfile(target_folder+os.sep+filename):\n",
        "      print(\"...verified copy.\")\n",
        "      print(\"...importing code.\")\n",
        "      target_filename=f\"{target_folder+os.sep+filename}\"\n",
        "      os.environ[\"target_filename\"]=target_filename\n",
        "      %run $target_filename\n",
        "    else:\n",
        "      print(f\"...copy NOT verified, check the {target_folder} for the existence of {filename}\")\n",
        "else:\n",
        "    print(\"ERROR: Local folder not found/created.  Check the output to ensure your folder is created.\")\n",
        "    print(f\"...target folder: {target_folder}\")\n",
        "    print(\"...if you can't find the problem contact the instructor.\")\n"
      ]
    },
    {
      "cell_type": "markdown",
      "source": [
        "# Setup Library Configuration (Numpy / Pandas)"
      ],
      "metadata": {
        "id": "7YnPeEuQItw-"
      }
    },
    {
      "cell_type": "code",
      "source": [
        "msg_info(\"Setting Library Configuration\")\n",
        "set_library_configuration()"
      ],
      "metadata": {
        "id": "ORjks-FRIwCv"
      },
      "execution_count": null,
      "outputs": []
    },
    {
      "cell_type": "markdown",
      "metadata": {
        "id": "aNkyZdz6IPac"
      },
      "source": [
        "# Variable declaration"
      ]
    },
    {
      "cell_type": "code",
      "execution_count": null,
      "metadata": {
        "id": "7ZBQs9opIPac"
      },
      "outputs": [],
      "source": [
        "############################################\n",
        "# GLOBAL VARIABLES\n",
        "############################################\n",
        "DEBUG = 1                            #General ledger output so you know what's happening.\n",
        "DEBUG_DATA = 1                       #Extremely verbose output, change to zero (0) to supress the volume of output.\n",
        "\n",
        "# CODE CONSTRAINTS\n",
        "VERSION_NAME    = \"SelfClass\"\n",
        "VERSION_ACRONYM = \"SC\"\n",
        "VERSION_MAJOR   = 0\n",
        "VERSION_MINOR   = 0\n",
        "VERSION_RELEASE = 1\n",
        "VERSION_TITLE   = VERSION_NAME + \" (\" + VERSION_ACRONYM + \") \" + str(VERSION_MAJOR) + \".\" + str(VERSION_MINOR) + \".\" + str(VERSION_RELEASE) + \" generated SEED.\"\n",
        "\n",
        "ENCODING  =\"utf-8\"\n",
        "############################################\n",
        "# GLOBAL CONSTANTS\n",
        "############################################\n",
        "\n",
        "\n",
        "############################################\n",
        "# APPLICATION VARIABLES\n",
        "############################################\n",
        "\n",
        "############################################\n",
        "# GLOBAL CONFIGURATION\n",
        "############################################\n",
        "os.environ['PYTHONIOENCODING']=ENCODING\n"
      ]
    },
    {
      "cell_type": "markdown",
      "source": [
        "# Check your library versions"
      ],
      "metadata": {
        "id": "CDOzmwfeIztp"
      }
    },
    {
      "cell_type": "markdown",
      "source": [
        "msg_info(\"Library Diagnostics\")\n",
        "lib_diagnostics()"
      ],
      "metadata": {
        "id": "bNQL-_09I1kg"
      }
    },
    {
      "cell_type": "markdown",
      "metadata": {
        "id": "w1NMQfNyIPac"
      },
      "source": [
        "## self in Python class\n",
        "\n",
        "self represents the instance of the class. By using the “self” keyword we can access the attributes and methods of the class in python. It binds the attributes with the given arguments.\n",
        "\n",
        "The reason you need to use self. is because Python does not use the @ syntax to refer to instance attributes. Python decided to do methods in a way that makes the instance to which the method belongs be passed automatically, but not received automatically: the first parameter of methods is the instance the method is called"
      ]
    },
    {
      "cell_type": "code",
      "execution_count": null,
      "metadata": {
        "id": "AnR-lqQsIPac"
      },
      "outputs": [],
      "source": [
        "#everyone knows what a car is, so let's create a class for one.\n",
        "class car():\n",
        "\n",
        "    # init method or constructor\n",
        "    def __init__(self, model=\"undefined\", color=\"undefined\"):\n",
        "        self.model = model\n",
        "        self.color = color\n",
        "\n",
        "    def show(self):\n",
        "        debug.msg_debug(\"Model is {}\".format(self.model) )\n",
        "        debug.msg_debug(\"Color is {}\".format(self.color) )\n",
        ""
      ]
    },
    {
      "cell_type": "code",
      "execution_count": null,
      "metadata": {
        "id": "PUCZ0D18IPad",
        "outputId": "c44e6f4c-fa51-46aa-afc4-76e6e082e28a"
      },
      "outputs": [
        {
          "name": "stdout",
          "output_type": "stream",
          "text": [
            "[2022-12-28 22:17:59 UTC]    INFO: #####----------------\"Null Car\" \n",
            "[2022-12-28 22:17:59 UTC]   DEBUG: Model is undefined \n",
            "[2022-12-28 22:17:59 UTC]   DEBUG: Color is undefined \n",
            "[2022-12-28 22:18:00 UTC]   DEBUG: My car is a undefined and is undefined color. \n",
            "[2022-12-28 22:18:00 UTC]   DEBUG:  \n",
            "[2022-12-28 22:18:00 UTC]   DEBUG:  \n",
            "[2022-12-28 22:18:00 UTC]    INFO: #####----------------\"Bad Car\" \n",
            "[2022-12-28 22:18:00 UTC] WARNING: Problem encountered while trying to instantiate a NULL car. \n",
            "[2022-12-28 22:18:00 UTC]   EMERG: __init__() got an unexpected keyword argument 'modell' \n",
            "[2022-12-28 22:18:00 UTC]   DEBUG: Model is undefined \n",
            "[2022-12-28 22:18:00 UTC]   DEBUG: Color is undefined \n",
            "[2022-12-28 22:18:00 UTC]   DEBUG: My car is a undefined and is undefined color. \n"
          ]
        }
      ],
      "source": [
        "#let's create a car instance but not tell the class anything about itself (empty constructor)\n",
        "debug.msg_info(\"#####----------------\\\"Null Car\\\"\")\n",
        "try:\n",
        "    #this is going to trip the exception, note that the argument provided is not valid.\n",
        "    #the class intantiates but falls back on an empty constructor\n",
        "    null_car=car()\n",
        "except Exception as e:\n",
        "    debug.msg_warning(\"Problem encountered while trying to instantiate a NULL car.\")\n",
        "    debug.msg_emerg(str(e))\n",
        "finally:\n",
        "    #now, tell me about yourself.\n",
        "    null_car.show()\n",
        "    #better English\n",
        "    debug.msg_debug(\"My car is a {} and is {} color.\".format(null_car.model, null_car.color))\n",
        "\n",
        "debug.msg_debug(\"\")\n",
        "debug.msg_debug(\"\")\n",
        "debug.msg_info(\"#####----------------\\\"Bad Car\\\"\")\n",
        "\n",
        "#let's create a car instance but now let's make a mistake\n",
        "try:\n",
        "    #this is going to trip the exception, note that the argument provided is not valid.\n",
        "    #the class intantiates but falls back on an empty constructor\n",
        "    null_car=car(modell=\"Not a real car\")\n",
        "except Exception as e:\n",
        "    debug.msg_warning(\"Problem encountered while trying to instantiate a NULL car.\")\n",
        "    debug.msg_emerg(str(e))\n",
        "finally:\n",
        "    #now, tell me about yourself.\n",
        "    null_car.show()\n",
        "    #a different way\n",
        "    debug.msg_debug(\"My car is a {} and is {} color.\".format(null_car.model, null_car.color))\n"
      ]
    },
    {
      "cell_type": "code",
      "execution_count": null,
      "metadata": {
        "id": "f0IwrjyHIPad",
        "outputId": "38edd5f4-51a8-4980-d30c-15b3a83144a9"
      },
      "outputs": [
        {
          "name": "stdout",
          "output_type": "stream",
          "text": [
            "[2022-12-28 22:18:00 UTC]    INFO: #####----------------Audi \n",
            "[2022-12-28 22:18:00 UTC]   DEBUG: Model is audi a4 \n",
            "[2022-12-28 22:18:00 UTC]   DEBUG: Color is blue \n",
            "[2022-12-28 22:18:00 UTC]   DEBUG: My car is a audi a4 and is blue color. \n",
            "[2022-12-28 22:18:00 UTC]   DEBUG:  \n",
            "[2022-12-28 22:18:00 UTC]   DEBUG:  \n",
            "[2022-12-28 22:18:00 UTC]    INFO: #####----------------Ferrari \n",
            "[2022-12-28 22:18:00 UTC]   DEBUG: Model is ferrari 488 \n",
            "[2022-12-28 22:18:00 UTC]   DEBUG: Color is green \n",
            "[2022-12-28 22:18:00 UTC]   DEBUG: My car is a ferrari 488 and is green color. \n"
          ]
        }
      ],
      "source": [
        "#let's create some sports cars and then find out about them.\n",
        "\n",
        "debug.msg_info(\"#####----------------Audi\")\n",
        "try:\n",
        "    audi = car(\"audi a4\", \"blue\")\n",
        "except Exception as e:\n",
        "    debug.msg_warning(\"Problem encountered while trying to instantiate an Audi car.\")\n",
        "    debug.msg_emerg(str(e))\n",
        "finally:\n",
        "    #now, tell me about yourself.\n",
        "    audi.show()\n",
        "    #a different way\n",
        "    debug.msg_debug(\"My car is a {} and is {} color.\".format(audi.model, audi.color))\n",
        "\n",
        "debug.msg_debug(\"\")\n",
        "debug.msg_debug(\"\")\n",
        "debug.msg_info(\"#####----------------Ferrari\")\n",
        "try:\n",
        "    ferrari = car(\"ferrari 488\", \"green\")\n",
        "except Exception as e:\n",
        "    debug.msg_warning(\"Problem encountered while trying to instantiate an Ferrari car.\")\n",
        "    debug.msg_emerg(str(e))\n",
        "finally:\n",
        "    #now, tell me about yourself.\n",
        "    ferrari.show()\n",
        "    #a different way\n",
        "    debug.msg_debug(\"My car is a {} and is {} color.\".format(ferrari.model, ferrari.color))\n",
        "\n"
      ]
    }
  ],
  "metadata": {
    "kernelspec": {
      "display_name": "Python 3 (ipykernel)",
      "language": "python",
      "name": "python3"
    },
    "language_info": {
      "codemirror_mode": {
        "name": "ipython",
        "version": 3
      },
      "file_extension": ".py",
      "mimetype": "text/x-python",
      "name": "python",
      "nbconvert_exporter": "python",
      "pygments_lexer": "ipython3",
      "version": "3.9.15"
    },
    "colab": {
      "provenance": []
    }
  },
  "nbformat": 4,
  "nbformat_minor": 0
}