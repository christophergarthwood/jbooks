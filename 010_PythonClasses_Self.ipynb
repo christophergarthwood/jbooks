{
 "cells": [
  {
   "cell_type": "markdown",
   "metadata": {},
   "source": [
    "# Python Classes (OOP) and \"Self\"\n",
    "\n",
    "Reference: https://www.geeksforgeeks.org/self-in-python-class/"
   ]
  },
  {
   "cell_type": "code",
   "execution_count": 10,
   "metadata": {},
   "outputs": [
    {
     "name": "stdout",
     "output_type": "stream",
     "text": [
      "DEBUG LIB LOCATION: .\n"
     ]
    }
   ],
   "source": [
    "# Python 3.7.3\n",
    "############################################\n",
    "# INCLUDES\n",
    "############################################\n",
    "#libraries specific to this example\n",
    "import numpy as np\n",
    "import pandas as pd\n",
    "import scipy as sp\n",
    "import matplotlib as matplt\n",
    "import matplotlib.pyplot as plt\n",
    "\n",
    "#a set of libraries that perhaps should always be in Python source\n",
    "import os \n",
    "import datetime\n",
    "import sys\n",
    "import gc\n",
    "import getopt\n",
    "import inspect\n",
    "import math\n",
    "import warnings\n",
    "\n",
    "#a darn useful library for creating paths and one I recommend you load to your environment\n",
    "from pathlib import Path\n",
    "\n",
    "from pydoc import help                          # can type in the python console `help(name of function)` to get the documentation\n",
    "\n",
    "#Data Science Libraries\n",
    "import numpy as np\n",
    "import pandas as pd\n",
    "import scipy as sp\n",
    "import scipy.ndimage\n",
    "\n",
    "#Plotting libraries\n",
    "import matplotlib as matplt\n",
    "import matplotlib.pyplot as plt\n",
    "\n",
    "#Import a custom library, in this case a fairly useful logging framework\n",
    "if os.environ.get('LIB_LOCATION') is not None:\n",
    "    debug_lib_location = Path(os.getenv('LIB_LOCATION'))\n",
    "else:\n",
    "    debug_lib_location = Path(\"./\")\n",
    "                              \n",
    "if os.environ.get('DATA_LOCATION') is not None:\n",
    "    root_location = os.getenv('DATA_LOCATION')\n",
    "else:\n",
    "    root_location=\"..\" + os.sep + \"data\";                              \n",
    "\n",
    "sys.path.append(str(debug_lib_location))\n",
    "import debug\n",
    "\n",
    "warnings.filterwarnings('ignore')               # don't print out warnings"
   ]
  },
  {
   "cell_type": "code",
   "execution_count": 5,
   "metadata": {},
   "outputs": [],
   "source": [
    "############################################\n",
    "#JUPYTER NOTEBOOK OUTPUT CONTROL / FORMATTING\n",
    "############################################\n",
    "#set floating point to 4 places to things don't run loose\n",
    "pd.options.display.float_format = '{:,.4f}'.format\n",
    "np.set_printoptions(precision=4)"
   ]
  },
  {
   "cell_type": "markdown",
   "metadata": {},
   "source": [
    "# Variable declaration"
   ]
  },
  {
   "cell_type": "code",
   "execution_count": 6,
   "metadata": {},
   "outputs": [],
   "source": [
    "############################################\n",
    "# GLOBAL VARIABLES\n",
    "############################################\n",
    "DEBUG = 1                            #General ledger output so you know what's happening.\n",
    "DEBUG_DATA = 1                       #Extremely verbose output, change to zero (0) to supress the volume of output.\n",
    "\n",
    "# CODE CONSTRAINTS\n",
    "VERSION_NAME    = \"SelfClass\"\n",
    "VERSION_ACRONYM = \"SC\"\n",
    "VERSION_MAJOR   = 0\n",
    "VERSION_MINOR   = 0\n",
    "VERSION_RELEASE = 1\n",
    "VERSION_TITLE   = VERSION_NAME + \" (\" + VERSION_ACRONYM + \") \" + str(VERSION_MAJOR) + \".\" + str(VERSION_MINOR) + \".\" + str(VERSION_RELEASE) + \" generated SEED.\"\n",
    "\n",
    "ENCODING  =\"utf-8\"\n",
    "############################################\n",
    "# GLOBAL CONSTANTS\n",
    "############################################\n",
    "    \n",
    "\n",
    "############################################\n",
    "# APPLICATION VARIABLES\n",
    "############################################\n",
    "\n",
    "############################################\n",
    "# GLOBAL CONFIGURATION\n",
    "############################################\n",
    "os.environ['PYTHONIOENCODING']=ENCODING\n"
   ]
  },
  {
   "cell_type": "markdown",
   "metadata": {},
   "source": [
    "## self in Python class\n",
    "\n",
    "self represents the instance of the class. By using the “self” keyword we can access the attributes and methods of the class in python. It binds the attributes with the given arguments.\n",
    "\n",
    "The reason you need to use self. is because Python does not use the @ syntax to refer to instance attributes. Python decided to do methods in a way that makes the instance to which the method belongs be passed automatically, but not received automatically: the first parameter of methods is the instance the method is called "
   ]
  },
  {
   "cell_type": "code",
   "execution_count": 7,
   "metadata": {},
   "outputs": [],
   "source": [
    "#everyone knows what a car is, so let's create a class for one.\n",
    "class car(): \n",
    "      \n",
    "    # init method or constructor \n",
    "    def __init__(self, model=\"undefined\", color=\"undefined\"): \n",
    "        self.model = model \n",
    "        self.color = color \n",
    "        \n",
    "    def show(self): \n",
    "        debug.msg_debug(\"Model is {}\".format(self.model) ) \n",
    "        debug.msg_debug(\"Color is {}\".format(self.color) ) \n",
    "          "
   ]
  },
  {
   "cell_type": "code",
   "execution_count": 8,
   "metadata": {},
   "outputs": [
    {
     "name": "stdout",
     "output_type": "stream",
     "text": [
      "[2022-12-28 22:17:59 UTC]    INFO: #####----------------\"Null Car\" \n",
      "[2022-12-28 22:17:59 UTC]   DEBUG: Model is undefined \n",
      "[2022-12-28 22:17:59 UTC]   DEBUG: Color is undefined \n",
      "[2022-12-28 22:18:00 UTC]   DEBUG: My car is a undefined and is undefined color. \n",
      "[2022-12-28 22:18:00 UTC]   DEBUG:  \n",
      "[2022-12-28 22:18:00 UTC]   DEBUG:  \n",
      "[2022-12-28 22:18:00 UTC]    INFO: #####----------------\"Bad Car\" \n",
      "[2022-12-28 22:18:00 UTC] WARNING: Problem encountered while trying to instantiate a NULL car. \n",
      "[2022-12-28 22:18:00 UTC]   EMERG: __init__() got an unexpected keyword argument 'modell' \n",
      "[2022-12-28 22:18:00 UTC]   DEBUG: Model is undefined \n",
      "[2022-12-28 22:18:00 UTC]   DEBUG: Color is undefined \n",
      "[2022-12-28 22:18:00 UTC]   DEBUG: My car is a undefined and is undefined color. \n"
     ]
    }
   ],
   "source": [
    "#let's create a car instance but not tell the class anything about itself (empty constructor)\n",
    "debug.msg_info(\"#####----------------\\\"Null Car\\\"\")    \n",
    "try:\n",
    "    #this is going to trip the exception, note that the argument provided is not valid.\n",
    "    #the class intantiates but falls back on an empty constructor\n",
    "    null_car=car()\n",
    "except Exception as e:\n",
    "    debug.msg_warning(\"Problem encountered while trying to instantiate a NULL car.\")\n",
    "    debug.msg_emerg(str(e))\n",
    "finally:\n",
    "    #now, tell me about yourself.\n",
    "    null_car.show()\n",
    "    #better English\n",
    "    debug.msg_debug(\"My car is a {} and is {} color.\".format(null_car.model, null_car.color))\n",
    "\n",
    "debug.msg_debug(\"\")\n",
    "debug.msg_debug(\"\")\n",
    "debug.msg_info(\"#####----------------\\\"Bad Car\\\"\")    \n",
    "\n",
    "#let's create a car instance but now let's make a mistake\n",
    "try:\n",
    "    #this is going to trip the exception, note that the argument provided is not valid.\n",
    "    #the class intantiates but falls back on an empty constructor\n",
    "    null_car=car(modell=\"Not a real car\")\n",
    "except Exception as e:\n",
    "    debug.msg_warning(\"Problem encountered while trying to instantiate a NULL car.\")\n",
    "    debug.msg_emerg(str(e))\n",
    "finally:\n",
    "    #now, tell me about yourself.\n",
    "    null_car.show()\n",
    "    #a different way\n",
    "    debug.msg_debug(\"My car is a {} and is {} color.\".format(null_car.model, null_car.color))    \n"
   ]
  },
  {
   "cell_type": "code",
   "execution_count": 9,
   "metadata": {},
   "outputs": [
    {
     "name": "stdout",
     "output_type": "stream",
     "text": [
      "[2022-12-28 22:18:00 UTC]    INFO: #####----------------Audi \n",
      "[2022-12-28 22:18:00 UTC]   DEBUG: Model is audi a4 \n",
      "[2022-12-28 22:18:00 UTC]   DEBUG: Color is blue \n",
      "[2022-12-28 22:18:00 UTC]   DEBUG: My car is a audi a4 and is blue color. \n",
      "[2022-12-28 22:18:00 UTC]   DEBUG:  \n",
      "[2022-12-28 22:18:00 UTC]   DEBUG:  \n",
      "[2022-12-28 22:18:00 UTC]    INFO: #####----------------Ferrari \n",
      "[2022-12-28 22:18:00 UTC]   DEBUG: Model is ferrari 488 \n",
      "[2022-12-28 22:18:00 UTC]   DEBUG: Color is green \n",
      "[2022-12-28 22:18:00 UTC]   DEBUG: My car is a ferrari 488 and is green color. \n"
     ]
    }
   ],
   "source": [
    "#let's create some sports cars and then find out about them.\n",
    "\n",
    "debug.msg_info(\"#####----------------Audi\")\n",
    "try:\n",
    "    audi = car(\"audi a4\", \"blue\") \n",
    "except Exception as e:\n",
    "    debug.msg_warning(\"Problem encountered while trying to instantiate an Audi car.\")\n",
    "    debug.msg_emerg(str(e))\n",
    "finally:\n",
    "    #now, tell me about yourself.\n",
    "    audi.show()\n",
    "    #a different way\n",
    "    debug.msg_debug(\"My car is a {} and is {} color.\".format(audi.model, audi.color))    \n",
    "\n",
    "debug.msg_debug(\"\")\n",
    "debug.msg_debug(\"\")\n",
    "debug.msg_info(\"#####----------------Ferrari\")    \n",
    "try:\n",
    "    ferrari = car(\"ferrari 488\", \"green\") \n",
    "except Exception as e:\n",
    "    debug.msg_warning(\"Problem encountered while trying to instantiate an Ferrari car.\")\n",
    "    debug.msg_emerg(str(e))\n",
    "finally:\n",
    "    #now, tell me about yourself.\n",
    "    ferrari.show()\n",
    "    #a different way\n",
    "    debug.msg_debug(\"My car is a {} and is {} color.\".format(ferrari.model, ferrari.color))    \n",
    "    \n"
   ]
  }
 ],
 "metadata": {
  "kernelspec": {
   "display_name": "Python 3 (ipykernel)",
   "language": "python",
   "name": "python3"
  },
  "language_info": {
   "codemirror_mode": {
    "name": "ipython",
    "version": 3
   },
   "file_extension": ".py",
   "mimetype": "text/x-python",
   "name": "python",
   "nbconvert_exporter": "python",
   "pygments_lexer": "ipython3",
   "version": "3.9.15"
  }
 },
 "nbformat": 4,
 "nbformat_minor": 4
}
