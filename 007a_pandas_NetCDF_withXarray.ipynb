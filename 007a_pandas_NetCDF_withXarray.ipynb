{
  "cells": [
    {
      "cell_type": "markdown",
      "metadata": {
        "id": "Syw3THS-6lph"
      },
      "source": [
        "# Reading NetCDF's using Xarray to Pandas DataFrame\n",
        "## Satellite Image Processing / BioCAST Seed Creation\n",
        "\n",
        "Includes references to plotting using Matplotlib and related tools.\n",
        "\n",
        "This program reads in two inputs: 1) APS level 4 satellite image 7 Day composite 2) BioCast generated advection product.  Both are NetCDF's.\n",
        "The program's goal is to read the inputs, store them, and perform a union of the data with a basic gaussian smoothing to create a \"full\" image (sometimes a problem due to cloud coverage).\n",
        "Output the data using NetCDF Best Practices, APS meta-data as an authoritative source, and custom meta-data geared towards future requirements.\n",
        "\n",
        "## *Xarray*\n",
        "\n",
        "007 reads a NetCDF via the netCDF4 library which appears to present no real problems.  Whether due to lack of understanding, skill or design moving a NetCDF into a Panda's Dataframe, as presented in this work, is cumbersome.  Xarray is to multi-dimensional data what Pandas is to 1D/2D data.  Xarray provides very strong convenience routines as well.\n",
        "\n",
        "http://xarray.pydata.org/en/stable/index.html\n",
        "\n",
        "xarray: N-D labeled arrays and datasets in Python\n",
        "\n",
        "xarray (formerly xray) is an open source project and Python package that makes working with labelled multi-dimensional arrays simple, efficient, and fun!\n",
        "\n",
        "Xarray introduces labels in the form of dimensions, coordinates and attributes on top of raw NumPy-like arrays, which allows for a more intuitive, more concise, and less error-prone developer experience. The package includes a large and growing library of domain-agnostic functions for advanced analytics and visualization with these data structures.\n",
        "\n",
        "Xarray is inspired by and borrows heavily from pandas, the popular data analysis package focused on labelled tabular data. It is particularly tailored to working with netCDF files, which were the source of xarray’s data model, and integrates tightly with dask for parallel computing."
      ]
    },
    {
      "cell_type": "markdown",
      "source": [
        "## Project Setup"
      ],
      "metadata": {
        "id": "Pe-vEYKj6ypU"
      }
    },
    {
      "cell_type": "code",
      "source": [
        "# Let's define some variables (information holders) for our project overall\n",
        "# If using GCP or a similar Cloud Service Provider (CSP), you might be required\n",
        "# to provide project details.\n",
        "\n",
        "global PROJECT_ID, BUCKET_NAME, LOCATION\n",
        "BUCKET_NAME =\"\"\n",
        "PROJECT_ID  =\"\"\n",
        "LOCATION    =\"\"\n",
        "\n",
        "BOLD_START=\"\\033[1m\"\n",
        "BOLD_END=\"\\033[0m\""
      ],
      "metadata": {
        "id": "JY-vd90h60Bw",
        "executionInfo": {
          "status": "ok",
          "timestamp": 1738789679700,
          "user_tz": 360,
          "elapsed": 164,
          "user": {
            "displayName": "",
            "userId": ""
          }
        }
      },
      "execution_count": 1,
      "outputs": []
    },
    {
      "cell_type": "markdown",
      "source": [
        "Import Base Libraries"
      ],
      "metadata": {
        "id": "-B5bNDLG60ym"
      }
    },
    {
      "cell_type": "code",
      "source": [
        "# Import key libraries necessary to support dynamic installation of additional libraries\n",
        "# Use subprocess to support running operating system commands from the program, using the \"bang\" (!)\n",
        "# symbology is supported, however that does not translate to an actual python script, this is a more\n",
        "# agnostic approach.\n",
        "###########################################\n",
        "#- Minimal imports to start\n",
        "###########################################\n",
        "try:\n",
        "    import sys\n",
        "    import subprocess\n",
        "    import importlib.util\n",
        "    import atexit\n",
        "    import os\n",
        "except ImportError as e:\n",
        "    print(\"There was a problem importing the most basic libraries necessary for this code.\")\n",
        "    print(repr(e))\n",
        "    raise SystemExit(\"Stop right there!\")\n",
        "\n",
        "###########################################\n",
        "#- Final Exit Routine\n",
        "###########################################\n",
        "@atexit.register\n",
        "def goodbye():\n",
        "    print(\"GOODBYE\")"
      ],
      "metadata": {
        "id": "f4KDs-Qd62eO",
        "executionInfo": {
          "status": "ok",
          "timestamp": 1738789680315,
          "user_tz": 360,
          "elapsed": 2,
          "user": {
            "displayName": "",
            "userId": ""
          }
        }
      },
      "execution_count": 2,
      "outputs": []
    },
    {
      "cell_type": "markdown",
      "source": [
        "## Load Minimally Required Libraries"
      ],
      "metadata": {
        "id": "g4B5ndzn65JR"
      }
    },
    {
      "cell_type": "code",
      "source": [
        "libraries=[\"numpy\", \"pandas\", \"scipy\", \"sklearn\", \"matplotlib\", \"seaborn\", \"cartopy\",\n",
        "           \"rich\", \"rich[jupyter]\", \"unidecode\", \"icecream\",\n",
        "           \"polars[all]\", \"dask[complete]\", \"xarray\", \"netCDF4\",\n",
        "           \"tqdm\", \"watermark\",\n",
        "           \"Pillow\",]\n",
        "\n",
        "import importlib.util\n",
        "\n",
        "for library in libraries:\n",
        "    if library == \"Pillow\":\n",
        "      spec = importlib.util.find_spec(\"PIL\")\n",
        "    else:\n",
        "      spec = importlib.util.find_spec(library)\n",
        "    if spec is None:\n",
        "      print(\"Installing library \" + library)\n",
        "      subprocess.run([\"pip\", \"install\" , library, \"--quiet\"])\n",
        "    else:\n",
        "      print(\"Library \" + library + \" already installed.\")"
      ],
      "metadata": {
        "colab": {
          "base_uri": "https://localhost:8080/"
        },
        "id": "1KspHLo168Ke",
        "executionInfo": {
          "status": "ok",
          "timestamp": 1738789696505,
          "user_tz": 360,
          "elapsed": 15599,
          "user": {
            "displayName": "",
            "userId": ""
          }
        },
        "outputId": "2282f513-f156-4496-c5dd-aad739b6cd36"
      },
      "execution_count": 3,
      "outputs": [
        {
          "output_type": "stream",
          "name": "stdout",
          "text": [
            "Library numpy already installed.\n",
            "Library pandas already installed.\n",
            "Library scipy already installed.\n",
            "Library sklearn already installed.\n",
            "Library matplotlib already installed.\n",
            "Library seaborn already installed.\n",
            "Library cartopy already installed.\n",
            "Library rich already installed.\n",
            "Installing library rich[jupyter]\n",
            "Library unidecode already installed.\n",
            "Library icecream already installed.\n",
            "Installing library polars[all]\n",
            "Installing library dask[complete]\n",
            "Library xarray already installed.\n",
            "Library netCDF4 already installed.\n",
            "Library tqdm already installed.\n",
            "Library watermark already installed.\n",
            "Library Pillow already installed.\n"
          ]
        }
      ]
    },
    {
      "cell_type": "markdown",
      "source": [
        "## Environment Check"
      ],
      "metadata": {
        "id": "3gIMOHtO69k6"
      }
    },
    {
      "cell_type": "code",
      "source": [
        "#- Environment Check\n",
        "import datetime\n",
        "import platform\n",
        "\n",
        "RunningInCOLAB = False\n",
        "RunningInCOLAB = 'google.colab' in str(get_ipython())\n",
        "current_time   = datetime.datetime.now()\n",
        "operating_system=platform.system()\n",
        "\n",
        "if RunningInCOLAB:\n",
        "    python_environment=\" Google Colab \"\n",
        "    from IPython.core.interactiveshell import InteractiveShell\n",
        "    InteractiveShell.ast_node_interactivity = \"all\"\n",
        "else:\n",
        "    python_environment=\" Python command-line \"\n",
        "\n",
        "print(f\"You are running this notebook in {python_environment} at {BOLD_START}{current_time}{BOLD_END} on {BOLD_START}{operating_system}{BOLD_END} in the {BOLD_START}{PROJECT_ID}{BOLD_END} lab.\")"
      ],
      "metadata": {
        "colab": {
          "base_uri": "https://localhost:8080/"
        },
        "id": "XqDPOR_j6_BP",
        "executionInfo": {
          "status": "ok",
          "timestamp": 1738789696505,
          "user_tz": 360,
          "elapsed": 5,
          "user": {
            "displayName": "",
            "userId": ""
          }
        },
        "outputId": "a71f0d5a-505a-475a-c47c-f057dd987374"
      },
      "execution_count": 4,
      "outputs": [
        {
          "output_type": "stream",
          "name": "stdout",
          "text": [
            "You are running this notebook in  Google Colab  at \u001b[1m2025-02-05 21:08:16.318826\u001b[0m on \u001b[1mLinux\u001b[0m in the \u001b[1m\u001b[0m lab.\n"
          ]
        }
      ]
    },
    {
      "cell_type": "markdown",
      "source": [
        "## Libraries"
      ],
      "metadata": {
        "id": "LJ3f8Tgx7BRd"
      }
    },
    {
      "cell_type": "code",
      "execution_count": 5,
      "metadata": {
        "id": "iWyV_Kno6lpi",
        "executionInfo": {
          "status": "ok",
          "timestamp": 1738789699399,
          "user_tz": 360,
          "elapsed": 2897,
          "user": {
            "displayName": "",
            "userId": ""
          }
        }
      },
      "outputs": [],
      "source": [
        "############################################\n",
        "#INCLUDES\n",
        "############################################\n",
        "import csv\n",
        "from datetime import datetime, timedelta\n",
        "import fnmatch\n",
        "import statistics\n",
        "import pickle\n",
        "\n",
        "#Generally useful / common libraries\n",
        "import os\n",
        "import subprocess\n",
        "import datetime\n",
        "import sys\n",
        "import gc\n",
        "import getopt\n",
        "import inspect\n",
        "import math\n",
        "import warnings\n",
        "from pathlib import Path\n",
        "\n",
        "#Data Science\n",
        "import numpy as np\n",
        "import pandas as pd\n",
        "import polars as pl\n",
        "import dask as da\n",
        "import xarray as xr\n",
        "import scipy as sp\n",
        "import scipy.ndimage\n",
        "\n",
        "#Pretty Print\n",
        "from rich import print as rprint\n",
        "from icecream import ic\n",
        "from tqdm.notebook import trange, tqdm\n",
        "from watermark import watermark as the_watermark\n",
        "\n",
        "#libraries specific to this example\n",
        "import scipy as sp\n",
        "from sklearn.linear_model import LinearRegression\n",
        "\n",
        "#- Graphics\n",
        "import matplotlib.pyplot as plt\n",
        "import matplotlib as matplt\n",
        "import matplotlib\n",
        "from matplotlib.cbook import get_sample_data\n",
        "from matplotlib.offsetbox import (AnnotationBbox, DrawingArea, OffsetImage,\n",
        "                                  TextArea)\n",
        "from matplotlib.pyplot import imshow\n",
        "from matplotlib.patches import Circle\n",
        "from PIL import Image as PIL_Image\n",
        "import PIL.ImageOps\n",
        "import seaborn as sns\n",
        "import cartopy.crs as ccrs\n",
        "\n",
        "#- Image meta-data for Section 508 compliance\n",
        "import piexif\n",
        "from piexif.helper import UserComment\n",
        "\n",
        "#- Additional libraries for this work\n",
        "import math\n",
        "from base64 import b64decode\n",
        "from IPython.display import Image, Markdown\n",
        "import pandas, IPython.display as display, io, jinja2, base64\n",
        "import requests\n",
        "import unidecode\n",
        "\n",
        "# for NetCDF output\n",
        "import netCDF4 as nc\n",
        "from netCDF4 import Dataset"
      ]
    },
    {
      "cell_type": "markdown",
      "source": [
        "## Functions"
      ],
      "metadata": {
        "id": "U4cL2RDG7IsC"
      }
    },
    {
      "cell_type": "code",
      "source": [
        "# Functions are like legos that do one thing, this function outputs library version history of effort.\n",
        "def lib_diagnostics() -> None:\n",
        "\n",
        "    import pkg_resources\n",
        "\n",
        "    package_name_length=20\n",
        "    package_version_length=10\n",
        "\n",
        "    data_version_release=\"-\".join([str(VERSION_NAME),str(VERSION_MAJOR), str(VERSION_MINOR), str(VERSION_RELEASE)])\n",
        "    rprint(f\"Software Version Information: {data_version_release}\")\n",
        "    rprint(\"\\n\")\n",
        "    # Show notebook details\n",
        "    #%watermark?\n",
        "    #%watermark --github_username christophergwood --email christopher.g.wood@gmail.com --date --time --iso8601 --updated --python --conda --hostname --machine --githash --gitrepo --gitbranch --iversions --gpu\n",
        "    # Watermark\n",
        "    rprint(the_watermark(author=f\"{AUTHOR_NAME}\", github_username=f\"GITHUB_USERNAME\", email=f\"{AUTHOR_EMAIL}\",iso8601=True, datename=True, current_time=True, python=True, updated=True, hostname=True, machine=True, gitrepo=True, gitbranch=True, githash=True))\n",
        "\n",
        "\n",
        "    print(f\"{BOLD_START}Packages:{BOLD_END}\")\n",
        "    print(\"\")\n",
        "    # Get installed packages\n",
        "    the_packages=[\"nltk\", \"numpy\", \"os\", \"pandas\", \"seaborn\"]\n",
        "    installed = {pkg.key: pkg.version for pkg in pkg_resources.working_set}\n",
        "    for package_idx, package_name in enumerate(installed):\n",
        "         if package_name in the_packages:\n",
        "             installed_version = installed[package_name]\n",
        "             rprint(f\"{package_name:<40}#: {str(pkg_resources.parse_version(installed_version)):<20}\")\n",
        "\n",
        "    try:\n",
        "        rprint(f\"{'TensorFlow version':<40}#: {str(tf.__version__):<20}\")\n",
        "        rprint(f\"{'     gpu.count:':<40}#: {str(len(tf.config.experimental.list_physical_devices('GPU')))}\")\n",
        "        rprint(f\"{'     cpu.count:':<40}#: {str(len(tf.config.experimental.list_physical_devices('CPU')))}\")\n",
        "    except Exception as e:\n",
        "        pass\n",
        "\n",
        "    try:\n",
        "        rprint(f\"{'Torch version':<40}#: {str(torch.__version__):<20}\")\n",
        "        rprint(f\"{'     GPUs available?':<40}#: {torch.cuda.is_available()}\")\n",
        "        rprint(f\"{'     count':<40}#: {torch.cuda.device_count()}\")\n",
        "        rprint(f\"{'     current':<40}#: {torch.cuda.current_device()}\")\n",
        "    except Exception as e:\n",
        "        pass\n",
        "\n",
        "\n",
        "    try:\n",
        "      print(f\"{'OpenAI Azure Version':<40}#: {str(the_openai_version):<20}\")\n",
        "    except Exception as e:\n",
        "      pass\n",
        "\n",
        "    return"
      ],
      "metadata": {
        "id": "UA2I18I47JuX",
        "executionInfo": {
          "status": "ok",
          "timestamp": 1738789699399,
          "user_tz": 360,
          "elapsed": 7,
          "user": {
            "displayName": "",
            "userId": ""
          }
        }
      },
      "execution_count": 6,
      "outputs": []
    },
    {
      "cell_type": "code",
      "source": [
        "# Routines designed to support adding ALT text to an image generated through Matplotlib.\n",
        "\n",
        "def capture(figure):\n",
        "   buffer = io.BytesIO()\n",
        "   figure.savefig(buffer)\n",
        "   #return F\"data:image/png;base64,{base64.b64encode(buffer.getvalue()).decode()}\"\n",
        "   return F\"data:image/jpg;base64,{base64.b64encode(buffer.getvalue()).decode()}\"\n",
        "\n",
        "def make_accessible(figure, template, **kwargs):\n",
        "   return display.Markdown(F\"\"\"![]({capture(figure)} \"{template.render(**globals(), **kwargs)}\")\"\"\")\n",
        "\n",
        "\n",
        "# requires JPG's or TIFFs\n",
        "def add_alt_text(image_path, alt_text):\n",
        "    try:\n",
        "        if os.path.isfile(image_path):\n",
        "          img = PIL_Image.open(image_path)\n",
        "          if \"exif\" in img.info:\n",
        "              exif_dict = piexif.load(img.info[\"exif\"])\n",
        "          else:\n",
        "              exif_dict={}\n",
        "\n",
        "          w, h = img.size\n",
        "          if \"0th\" not in exif_dict:\n",
        "            exif_dict[\"0th\"]={}\n",
        "          exif_dict[\"0th\"][piexif.ImageIFD.XResolution] = (w, 1)\n",
        "          exif_dict[\"0th\"][piexif.ImageIFD.YResolution] = (h, 1)\n",
        "\n",
        "          software_version=\" \".join([\"STEM-001 with Python v\", str(sys.version).split(\" \")[0]])\n",
        "          exif_dict[\"0th\"][piexif.ImageIFD.Software]=software_version.encode(\"utf-8\")\n",
        "\n",
        "          if \"Exif\" not in exif_dict:\n",
        "            exif_dict[\"Exif\"]={}\n",
        "          exif_dict[\"Exif\"][piexif.ExifIFD.UserComment] = UserComment.dump(alt_text, encoding=\"unicode\")\n",
        "\n",
        "          exif_bytes = piexif.dump(exif_dict)\n",
        "          img.save(image_path, \"jpeg\", exif=exif_bytes)\n",
        "        else:\n",
        "          rprint(f\"Cound not fine {image_path} for ALT text modification, please check your paths.\")\n",
        "\n",
        "    except (FileExistsError, FileNotFoundError, Exception) as e:\n",
        "        process_exception(e)\n",
        "\n",
        "# Appears to solve a problem associated with GPU use on Colab, see: https://github.com/explosion/spaCy/issues/11909\n",
        "def getpreferredencoding(do_setlocale = True):\n",
        "    return \"UTF-8\"\n"
      ],
      "metadata": {
        "id": "WeND3Umo7LZU",
        "executionInfo": {
          "status": "ok",
          "timestamp": 1738789699399,
          "user_tz": 360,
          "elapsed": 6,
          "user": {
            "displayName": "",
            "userId": ""
          }
        }
      },
      "execution_count": 7,
      "outputs": []
    },
    {
      "cell_type": "code",
      "source": [
        "# this function displays the stack trace on errors from a central location making adjustments to the display on an error easier to manage\n",
        "# functions perform useful solutions for highly repetitive code\n",
        "def process_exception(inc_exception: Exception) -> None:\n",
        "  try:\n",
        "    if DEBUG_STACKTRACE==1:\n",
        "      traceback.print_exc()\n",
        "      console.print_exception(show_locals=True)\n",
        "    else:\n",
        "      rprint(repr(inc_exception))\n",
        "  except Exception as e:\n",
        "    rprint(repr(inc_exception))"
      ],
      "metadata": {
        "id": "UkUPWy6X7N5k",
        "executionInfo": {
          "status": "ok",
          "timestamp": 1738789699399,
          "user_tz": 360,
          "elapsed": 6,
          "user": {
            "displayName": "",
            "userId": ""
          }
        }
      },
      "execution_count": 8,
      "outputs": []
    },
    {
      "cell_type": "code",
      "source": [
        "#library configurations examples using Pandas\n",
        "def setup_libary_configuration() -> None:\n",
        "    options = {\n",
        "        'display': {\n",
        "            'max_columns': None,\n",
        "            'max_colwidth': 25,\n",
        "            'expand_frame_repr': False,  # Don't wrap to multiple pages\n",
        "            'max_rows': 14,\n",
        "            'max_seq_items': 50,         # Max length of printed sequence\n",
        "            'precision': 4,\n",
        "            'show_dimensions': False\n",
        "        },\n",
        "        'mode': {\n",
        "            'chained_assignment': None   # Controls SettingWithCopyWarning\n",
        "        }\n",
        "    }\n",
        "\n",
        "    for category, option in options.items():\n",
        "        for op, value in option.items():\n",
        "            pd.set_option(f'{category}.{op}', value)  # Python 3.6+\n",
        "\n",
        "    #nump equivalent\n",
        "    np.set_printoptions(precision=4)"
      ],
      "metadata": {
        "id": "7SenVYSy7Pd6",
        "executionInfo": {
          "status": "ok",
          "timestamp": 1738789699399,
          "user_tz": 360,
          "elapsed": 6,
          "user": {
            "displayName": "",
            "userId": ""
          }
        }
      },
      "execution_count": 9,
      "outputs": []
    },
    {
      "cell_type": "markdown",
      "metadata": {
        "id": "B_VVYr0R6lpi"
      },
      "source": [
        "# Variable declaration"
      ]
    },
    {
      "cell_type": "code",
      "execution_count": 10,
      "metadata": {
        "id": "HQp-lh8T6lpi",
        "executionInfo": {
          "status": "ok",
          "timestamp": 1738789699399,
          "user_tz": 360,
          "elapsed": 6,
          "user": {
            "displayName": "",
            "userId": ""
          }
        }
      },
      "outputs": [],
      "source": [
        "############################################\n",
        "# GLOBAL VARIABLES\n",
        "############################################\n",
        "DEBUG = 1\n",
        "DEBUG_DATA = 1\n",
        "# used to fully display the error stack, set to 1 if you want to see a ridiculous amount of debugging information\n",
        "DEBUG_STACKTRACE=0\n",
        "\n",
        "VERSION_NAME    = \"XARRAY-READER\"\n",
        "VERSION_ACRONYM = \"XRR\"\n",
        "VERSION_MAJOR   = 0\n",
        "VERSION_MINOR   = 0\n",
        "VERSION_RELEASE = 1\n",
        "VERSION_TITLE   = VERSION_NAME + \" (\" + VERSION_NAME + \") \" + str(VERSION_MAJOR) + \".\" + str(VERSION_MINOR) + \".\" + str(VERSION_RELEASE) + \" generated SEED.\"\n",
        "\n",
        "\n",
        "# API Parameters for things like WordCloud, variables help hold information for later use\n",
        "# The \"constants\" represent variables that we don't anticipate changing over the course of the program.\n",
        "IMG_BACKGROUND=\"black\"     #options are black, white, another color or None\n",
        "IMG_FONT_SIZE_MIN=10\n",
        "IMG_WIDTH=1024\n",
        "IMG_HEIGHT=768\n",
        "IMG_INTERP=\"bilinear\"\n",
        "IMG_ALPHA=0.8\n",
        "IMG_ASPECT=\"equal\"\n",
        "FIGURE_WIDTH=11\n",
        "FIGURE_HEIGHT=8.5\n",
        "WORD_FREQ=10\n",
        "\n",
        "# specify how image formats will be saved\n",
        "IMG_EXT=\".jpg\"\n",
        "\n",
        "# location of our working files\n",
        "WORKING_FOLDER=\"/content/folderOnColab\"\n",
        "SRC_DIR=WORKING_FOLDER\n",
        "\n",
        "# Notebook Author details\n",
        "AUTHOR_NAME=\"Christopher G Wood\"\n",
        "GITHUB_USERNAME=\"christophergarthwood\"\n",
        "AUTHOR_EMAIL=\"christopher.g.wood@gmail.com\"\n",
        "\n",
        "# Encoding\n",
        "ENCODING  =\"utf-8\"\n",
        "os.environ['PYTHONIOENCODING']=ENCODING\n",
        "\n",
        "############################################\n",
        "# CONSTANTS\n",
        "############################################\n",
        "MINIMAL_VALUE=0.0001                  #Normally a _FillValue would be used but different NetCDF implementations\n",
        "                                      #are treating some values differently or don't even have the concept.\n",
        "METADATA_DESCRIPTION = \"Product composite using a daily satellite image coupled with a BioCast background field; used to SEED the optical field.\"\n",
        "METADATA_DISTRIBUTION= \"Distribution Statement A: Approved for public release; distribution unlimited.\"\n",
        "METADATA_REFERENCES  = \"None\"\n",
        "METADATA_INSTITUTION = \"Naval Research Lab (NRL)\"\n",
        "METADATA_SOURCE      = VERSION_NAME + \" (\" + VERSION_ACRONYM + \") \" + str(VERSION_MAJOR) + \".\" + str(VERSION_MINOR) + \".\" + str(VERSION_RELEASE)\n",
        "METADATA_COMMENT     = \"None\"\n",
        "\n",
        "\n",
        "############################################\n",
        "# APPLICATION VARIABLES\n",
        "############################################\n",
        "geospatial_lat_nm='lat'\n",
        "geospatial_lon_nm='lon'\n",
        "aps_lat_nm=\"y\"\n",
        "aps_lon_nm=\"x\"\n",
        "FILL_VALUE=-32767.0\n"
      ]
    },
    {
      "cell_type": "markdown",
      "source": [
        "## Library Invocation"
      ],
      "metadata": {
        "id": "yBIRQONl7kH4"
      }
    },
    {
      "cell_type": "code",
      "source": [
        "rprint(\"Library Diagnostics\")\n",
        "setup_libary_configuration()\n",
        "lib_diagnostics()"
      ],
      "metadata": {
        "colab": {
          "base_uri": "https://localhost:8080/",
          "height": 679
        },
        "id": "jiwSYLs47li5",
        "executionInfo": {
          "status": "ok",
          "timestamp": 1738789699923,
          "user_tz": 360,
          "elapsed": 530,
          "user": {
            "displayName": "",
            "userId": ""
          }
        },
        "outputId": "7ce5b4d9-58fd-4a1a-b0fc-3ce121085d17"
      },
      "execution_count": 11,
      "outputs": [
        {
          "output_type": "display_data",
          "data": {
            "text/plain": [
              "Library Diagnostics\n"
            ],
            "text/html": [
              "<pre style=\"white-space:pre;overflow-x:auto;line-height:normal;font-family:Menlo,'DejaVu Sans Mono',consolas,'Courier New',monospace\">Library Diagnostics\n",
              "</pre>\n"
            ]
          },
          "metadata": {}
        },
        {
          "output_type": "stream",
          "name": "stderr",
          "text": [
            "<ipython-input-6-7a98eaf52e4d>:4: DeprecationWarning: pkg_resources is deprecated as an API. See https://setuptools.pypa.io/en/latest/pkg_resources.html\n",
            "  import pkg_resources\n"
          ]
        },
        {
          "output_type": "display_data",
          "data": {
            "text/plain": [
              "Software Version Information: XARRAY-READER-\u001b[1;36m0\u001b[0m-\u001b[1;36m0\u001b[0m-\u001b[1;36m1\u001b[0m\n"
            ],
            "text/html": [
              "<pre style=\"white-space:pre;overflow-x:auto;line-height:normal;font-family:Menlo,'DejaVu Sans Mono',consolas,'Courier New',monospace\">Software Version Information: XARRAY-READER-<span style=\"color: #008080; text-decoration-color: #008080; font-weight: bold\">0</span>-<span style=\"color: #008080; text-decoration-color: #008080; font-weight: bold\">0</span>-<span style=\"color: #008080; text-decoration-color: #008080; font-weight: bold\">1</span>\n",
              "</pre>\n"
            ]
          },
          "metadata": {}
        },
        {
          "output_type": "display_data",
          "data": {
            "text/plain": [
              "\n",
              "\n"
            ],
            "text/html": [
              "<pre style=\"white-space:pre;overflow-x:auto;line-height:normal;font-family:Menlo,'DejaVu Sans Mono',consolas,'Courier New',monospace\">\n",
              "\n",
              "</pre>\n"
            ]
          },
          "metadata": {}
        },
        {
          "output_type": "display_data",
          "data": {
            "text/plain": [
              "Author: Christopher G Wood\n",
              "\n",
              "Github username: GITHUB_USERNAME\n",
              "\n",
              "Email: christopher.g.wood@gmail.com\n",
              "\n",
              "Last updated: \u001b[1;36m2025\u001b[0m-\u001b[1;36m02\u001b[0m-05T\u001b[1;92m21:08:19\u001b[0m.\u001b[1;36m634017\u001b[0m+\u001b[1;92m00:00\u001b[0m\n",
              "\n",
              "Python implementation: CPython\n",
              "Python version       : \u001b[1;36m3.10\u001b[0m.\u001b[1;36m12\u001b[0m\n",
              "IPython version      : \u001b[1;36m7.34\u001b[0m.\u001b[1;36m0\u001b[0m\n",
              "\n",
              "Compiler    : GCC \u001b[1;36m11.4\u001b[0m.\u001b[1;36m0\u001b[0m\n",
              "OS          : Linux\n",
              "Release     : \u001b[1;36m5.15\u001b[0m.\u001b[1;36m167\u001b[0m+\n",
              "Machine     : x86_64\n",
              "Processor   : x86_64\n",
              "CPU cores   : \u001b[1;36m4\u001b[0m\n",
              "Architecture: 64bit\n",
              "\n",
              "Hostname: 757a20244e36\n",
              "\n",
              "Git hash: \n",
              "\n",
              "Git repo: \n",
              "\n",
              "Git branch: \n",
              "\n"
            ],
            "text/html": [
              "<pre style=\"white-space:pre;overflow-x:auto;line-height:normal;font-family:Menlo,'DejaVu Sans Mono',consolas,'Courier New',monospace\">Author: Christopher G Wood\n",
              "\n",
              "Github username: GITHUB_USERNAME\n",
              "\n",
              "Email: christopher.g.wood@gmail.com\n",
              "\n",
              "Last updated: <span style=\"color: #008080; text-decoration-color: #008080; font-weight: bold\">2025</span>-<span style=\"color: #008080; text-decoration-color: #008080; font-weight: bold\">02</span>-05T<span style=\"color: #00ff00; text-decoration-color: #00ff00; font-weight: bold\">21:08:19</span>.<span style=\"color: #008080; text-decoration-color: #008080; font-weight: bold\">634017</span>+<span style=\"color: #00ff00; text-decoration-color: #00ff00; font-weight: bold\">00:00</span>\n",
              "\n",
              "Python implementation: CPython\n",
              "Python version       : <span style=\"color: #008080; text-decoration-color: #008080; font-weight: bold\">3.10</span>.<span style=\"color: #008080; text-decoration-color: #008080; font-weight: bold\">12</span>\n",
              "IPython version      : <span style=\"color: #008080; text-decoration-color: #008080; font-weight: bold\">7.34</span>.<span style=\"color: #008080; text-decoration-color: #008080; font-weight: bold\">0</span>\n",
              "\n",
              "Compiler    : GCC <span style=\"color: #008080; text-decoration-color: #008080; font-weight: bold\">11.4</span>.<span style=\"color: #008080; text-decoration-color: #008080; font-weight: bold\">0</span>\n",
              "OS          : Linux\n",
              "Release     : <span style=\"color: #008080; text-decoration-color: #008080; font-weight: bold\">5.15</span>.<span style=\"color: #008080; text-decoration-color: #008080; font-weight: bold\">167</span>+\n",
              "Machine     : x86_64\n",
              "Processor   : x86_64\n",
              "CPU cores   : <span style=\"color: #008080; text-decoration-color: #008080; font-weight: bold\">4</span>\n",
              "Architecture: 64bit\n",
              "\n",
              "Hostname: 757a20244e36\n",
              "\n",
              "Git hash: \n",
              "\n",
              "Git repo: \n",
              "\n",
              "Git branch: \n",
              "\n",
              "</pre>\n"
            ]
          },
          "metadata": {}
        },
        {
          "output_type": "stream",
          "name": "stdout",
          "text": [
            "\u001b[1mPackages:\u001b[0m\n",
            "\n"
          ]
        },
        {
          "output_type": "display_data",
          "data": {
            "text/plain": [
              "nltk                                    #: \u001b[1;36m3.9\u001b[0m.\u001b[1;36m1\u001b[0m               \n"
            ],
            "text/html": [
              "<pre style=\"white-space:pre;overflow-x:auto;line-height:normal;font-family:Menlo,'DejaVu Sans Mono',consolas,'Courier New',monospace\">nltk                                    #: <span style=\"color: #008080; text-decoration-color: #008080; font-weight: bold\">3.9</span>.<span style=\"color: #008080; text-decoration-color: #008080; font-weight: bold\">1</span>               \n",
              "</pre>\n"
            ]
          },
          "metadata": {}
        },
        {
          "output_type": "display_data",
          "data": {
            "text/plain": [
              "numpy                                   #: \u001b[1;36m1.26\u001b[0m.\u001b[1;36m4\u001b[0m              \n"
            ],
            "text/html": [
              "<pre style=\"white-space:pre;overflow-x:auto;line-height:normal;font-family:Menlo,'DejaVu Sans Mono',consolas,'Courier New',monospace\">numpy                                   #: <span style=\"color: #008080; text-decoration-color: #008080; font-weight: bold\">1.26</span>.<span style=\"color: #008080; text-decoration-color: #008080; font-weight: bold\">4</span>              \n",
              "</pre>\n"
            ]
          },
          "metadata": {}
        },
        {
          "output_type": "display_data",
          "data": {
            "text/plain": [
              "pandas                                  #: \u001b[1;36m2.2\u001b[0m.\u001b[1;36m2\u001b[0m               \n"
            ],
            "text/html": [
              "<pre style=\"white-space:pre;overflow-x:auto;line-height:normal;font-family:Menlo,'DejaVu Sans Mono',consolas,'Courier New',monospace\">pandas                                  #: <span style=\"color: #008080; text-decoration-color: #008080; font-weight: bold\">2.2</span>.<span style=\"color: #008080; text-decoration-color: #008080; font-weight: bold\">2</span>               \n",
              "</pre>\n"
            ]
          },
          "metadata": {}
        },
        {
          "output_type": "display_data",
          "data": {
            "text/plain": [
              "seaborn                                 #: \u001b[1;36m0.13\u001b[0m.\u001b[1;36m2\u001b[0m              \n"
            ],
            "text/html": [
              "<pre style=\"white-space:pre;overflow-x:auto;line-height:normal;font-family:Menlo,'DejaVu Sans Mono',consolas,'Courier New',monospace\">seaborn                                 #: <span style=\"color: #008080; text-decoration-color: #008080; font-weight: bold\">0.13</span>.<span style=\"color: #008080; text-decoration-color: #008080; font-weight: bold\">2</span>              \n",
              "</pre>\n"
            ]
          },
          "metadata": {}
        }
      ]
    },
    {
      "cell_type": "markdown",
      "source": [
        "## Data Read"
      ],
      "metadata": {
        "id": "oXyX2l-k7oX6"
      }
    },
    {
      "cell_type": "code",
      "source": [
        "target_folder=WORKING_FOLDER\n",
        "\n",
        "target_files=[\"1uYMFrdeVD7_qvG2wRbyu6ir9C6b4wAZC\"]\n",
        "target_filenames=[\"MissBight_2020010900.nc\"]\n",
        "\n",
        "rprint(f\"Creating a folder ({target_folder}) to store project data.\")\n",
        "\n",
        "try:\n",
        "  if os.path.isfile(target_folder):\n",
        "    raise OSError(\"Cannot create your folder a file of the same name already exists there, work with your instructor or remove it yourself.\")\n",
        "  elif os.path.isdir(target_folder):\n",
        "    print(f\"The folder named ({target_folder}) {BOLD_START}already exists{BOLD_END}, we won't try to create a new folder.\")\n",
        "  else:\n",
        "    subprocess.run([\"mkdir\", \"-p\" , target_folder], check=True)\n",
        "except (subprocess.CalledProcessError, Exception) as e:\n",
        "  process_exception(e)\n",
        "\n",
        "for idx, the_name in enumerate(target_files):\n",
        "  try:\n",
        "    rprint(f\"...downloading {target_filenames[idx]}.\")\n",
        "    subprocess.run([\"gdown\", f\"{the_name}\", \"--no-check-certificate\",  \"--continue\", \"-O\", f\"{target_folder}{os.sep}{target_filenames[idx]}\"], check=True)\n",
        "  except (subprocess.CalledProcessError, Exception) as e:\n",
        "    process_exception(e)\n",
        "    raise SystemError\n",
        "\n",
        "rprint(\"Files downloaded:\")\n",
        "cmd=[\"ls \", \"-alR\", f\"{target_folder}{os.sep}*\",]\n",
        "completed_process=subprocess.run(cmd, check=True, shell=True, capture_output=True, text=True)\n",
        "if (completed_process.returncode==0):\n",
        "  rprint(completed_process.stdout)\n",
        "else:\n",
        "  rprint(f\"Command failed with error code of: {completed_process.returncode}\")"
      ],
      "metadata": {
        "colab": {
          "base_uri": "https://localhost:8080/",
          "height": 167
        },
        "id": "JpegPz737pmN",
        "executionInfo": {
          "status": "ok",
          "timestamp": 1738789705071,
          "user_tz": 360,
          "elapsed": 5151,
          "user": {
            "displayName": "",
            "userId": ""
          }
        },
        "outputId": "6cb2ae59-b84a-4bf4-9e27-1e2c50139979"
      },
      "execution_count": 12,
      "outputs": [
        {
          "output_type": "display_data",
          "data": {
            "text/plain": [
              "Creating a folder \u001b[1m(\u001b[0m\u001b[35m/content/\u001b[0m\u001b[95mfolderOnColab\u001b[0m\u001b[1m)\u001b[0m to store project data.\n"
            ],
            "text/html": [
              "<pre style=\"white-space:pre;overflow-x:auto;line-height:normal;font-family:Menlo,'DejaVu Sans Mono',consolas,'Courier New',monospace\">Creating a folder <span style=\"font-weight: bold\">(</span><span style=\"color: #800080; text-decoration-color: #800080\">/content/</span><span style=\"color: #ff00ff; text-decoration-color: #ff00ff\">folderOnColab</span><span style=\"font-weight: bold\">)</span> to store project data.\n",
              "</pre>\n"
            ]
          },
          "metadata": {}
        },
        {
          "output_type": "stream",
          "name": "stdout",
          "text": [
            "The folder named (/content/folderOnColab) \u001b[1malready exists\u001b[0m, we won't try to create a new folder.\n"
          ]
        },
        {
          "output_type": "display_data",
          "data": {
            "text/plain": [
              "\u001b[33m...\u001b[0mdownloading MissBight_2020010900.nc.\n"
            ],
            "text/html": [
              "<pre style=\"white-space:pre;overflow-x:auto;line-height:normal;font-family:Menlo,'DejaVu Sans Mono',consolas,'Courier New',monospace\"><span style=\"color: #808000; text-decoration-color: #808000\">...</span>downloading MissBight_2020010900.nc.\n",
              "</pre>\n"
            ]
          },
          "metadata": {}
        },
        {
          "output_type": "execute_result",
          "data": {
            "text/plain": [
              "CompletedProcess(args=['gdown', '1uYMFrdeVD7_qvG2wRbyu6ir9C6b4wAZC', '--no-check-certificate', '--continue', '-O', '/content/folderOnColab/MissBight_2020010900.nc'], returncode=0)"
            ]
          },
          "metadata": {},
          "execution_count": 12
        },
        {
          "output_type": "display_data",
          "data": {
            "text/plain": [
              "Files downloaded:\n"
            ],
            "text/html": [
              "<pre style=\"white-space:pre;overflow-x:auto;line-height:normal;font-family:Menlo,'DejaVu Sans Mono',consolas,'Courier New',monospace\">Files downloaded:\n",
              "</pre>\n"
            ]
          },
          "metadata": {}
        },
        {
          "output_type": "display_data",
          "data": {
            "text/plain": [
              "All_flo-thru.dat\n",
              "folderOnColab\n",
              "\n"
            ],
            "text/html": [
              "<pre style=\"white-space:pre;overflow-x:auto;line-height:normal;font-family:Menlo,'DejaVu Sans Mono',consolas,'Courier New',monospace\">All_flo-thru.dat\n",
              "folderOnColab\n",
              "\n",
              "</pre>\n"
            ]
          },
          "metadata": {}
        }
      ]
    },
    {
      "cell_type": "code",
      "execution_count": 16,
      "metadata": {
        "colab": {
          "base_uri": "https://localhost:8080/",
          "height": 690
        },
        "id": "yPypVsyu6lpj",
        "executionInfo": {
          "status": "ok",
          "timestamp": 1738789716352,
          "user_tz": 360,
          "elapsed": 168,
          "user": {
            "displayName": "",
            "userId": ""
          }
        },
        "outputId": "2bcba84e-2e4d-4688-e484-009af09b0622"
      },
      "outputs": [
        {
          "output_type": "display_data",
          "data": {
            "text/plain": [
              "Started XARRAY-READER.\n"
            ],
            "text/html": [
              "<pre style=\"white-space:pre;overflow-x:auto;line-height:normal;font-family:Menlo,'DejaVu Sans Mono',consolas,'Courier New',monospace\">Started XARRAY-READER.\n",
              "</pre>\n"
            ]
          },
          "metadata": {}
        },
        {
          "output_type": "display_data",
          "data": {
            "text/plain": [
              " \n"
            ],
            "text/html": [
              "<pre style=\"white-space:pre;overflow-x:auto;line-height:normal;font-family:Menlo,'DejaVu Sans Mono',consolas,'Courier New',monospace\"> \n",
              "</pre>\n"
            ]
          },
          "metadata": {}
        },
        {
          "output_type": "display_data",
          "data": {
            "text/plain": [
              "\u001b[33m...\u001b[0mlibrary versioning output\n"
            ],
            "text/html": [
              "<pre style=\"white-space:pre;overflow-x:auto;line-height:normal;font-family:Menlo,'DejaVu Sans Mono',consolas,'Courier New',monospace\"><span style=\"color: #808000; text-decoration-color: #808000\">...</span>library versioning output\n",
              "</pre>\n"
            ]
          },
          "metadata": {}
        },
        {
          "output_type": "display_data",
          "data": {
            "text/plain": [
              "Software Version Information: XARRAY-READER-\u001b[1;36m0\u001b[0m-\u001b[1;36m0\u001b[0m-\u001b[1;36m1\u001b[0m\n"
            ],
            "text/html": [
              "<pre style=\"white-space:pre;overflow-x:auto;line-height:normal;font-family:Menlo,'DejaVu Sans Mono',consolas,'Courier New',monospace\">Software Version Information: XARRAY-READER-<span style=\"color: #008080; text-decoration-color: #008080; font-weight: bold\">0</span>-<span style=\"color: #008080; text-decoration-color: #008080; font-weight: bold\">0</span>-<span style=\"color: #008080; text-decoration-color: #008080; font-weight: bold\">1</span>\n",
              "</pre>\n"
            ]
          },
          "metadata": {}
        },
        {
          "output_type": "display_data",
          "data": {
            "text/plain": [
              "\n",
              "\n"
            ],
            "text/html": [
              "<pre style=\"white-space:pre;overflow-x:auto;line-height:normal;font-family:Menlo,'DejaVu Sans Mono',consolas,'Courier New',monospace\">\n",
              "\n",
              "</pre>\n"
            ]
          },
          "metadata": {}
        },
        {
          "output_type": "display_data",
          "data": {
            "text/plain": [
              "Author: Christopher G Wood\n",
              "\n",
              "Github username: GITHUB_USERNAME\n",
              "\n",
              "Email: christopher.g.wood@gmail.com\n",
              "\n",
              "Last updated: \u001b[1;36m2025\u001b[0m-\u001b[1;36m02\u001b[0m-05T\u001b[1;92m21:08:36\u001b[0m.\u001b[1;36m179640\u001b[0m+\u001b[1;92m00:00\u001b[0m\n",
              "\n",
              "Python implementation: CPython\n",
              "Python version       : \u001b[1;36m3.10\u001b[0m.\u001b[1;36m12\u001b[0m\n",
              "IPython version      : \u001b[1;36m7.34\u001b[0m.\u001b[1;36m0\u001b[0m\n",
              "\n",
              "Compiler    : GCC \u001b[1;36m11.4\u001b[0m.\u001b[1;36m0\u001b[0m\n",
              "OS          : Linux\n",
              "Release     : \u001b[1;36m5.15\u001b[0m.\u001b[1;36m167\u001b[0m+\n",
              "Machine     : x86_64\n",
              "Processor   : x86_64\n",
              "CPU cores   : \u001b[1;36m4\u001b[0m\n",
              "Architecture: 64bit\n",
              "\n",
              "Hostname: 757a20244e36\n",
              "\n",
              "Git hash: \n",
              "\n",
              "Git repo: \n",
              "\n",
              "Git branch: \n",
              "\n"
            ],
            "text/html": [
              "<pre style=\"white-space:pre;overflow-x:auto;line-height:normal;font-family:Menlo,'DejaVu Sans Mono',consolas,'Courier New',monospace\">Author: Christopher G Wood\n",
              "\n",
              "Github username: GITHUB_USERNAME\n",
              "\n",
              "Email: christopher.g.wood@gmail.com\n",
              "\n",
              "Last updated: <span style=\"color: #008080; text-decoration-color: #008080; font-weight: bold\">2025</span>-<span style=\"color: #008080; text-decoration-color: #008080; font-weight: bold\">02</span>-05T<span style=\"color: #00ff00; text-decoration-color: #00ff00; font-weight: bold\">21:08:36</span>.<span style=\"color: #008080; text-decoration-color: #008080; font-weight: bold\">179640</span>+<span style=\"color: #00ff00; text-decoration-color: #00ff00; font-weight: bold\">00:00</span>\n",
              "\n",
              "Python implementation: CPython\n",
              "Python version       : <span style=\"color: #008080; text-decoration-color: #008080; font-weight: bold\">3.10</span>.<span style=\"color: #008080; text-decoration-color: #008080; font-weight: bold\">12</span>\n",
              "IPython version      : <span style=\"color: #008080; text-decoration-color: #008080; font-weight: bold\">7.34</span>.<span style=\"color: #008080; text-decoration-color: #008080; font-weight: bold\">0</span>\n",
              "\n",
              "Compiler    : GCC <span style=\"color: #008080; text-decoration-color: #008080; font-weight: bold\">11.4</span>.<span style=\"color: #008080; text-decoration-color: #008080; font-weight: bold\">0</span>\n",
              "OS          : Linux\n",
              "Release     : <span style=\"color: #008080; text-decoration-color: #008080; font-weight: bold\">5.15</span>.<span style=\"color: #008080; text-decoration-color: #008080; font-weight: bold\">167</span>+\n",
              "Machine     : x86_64\n",
              "Processor   : x86_64\n",
              "CPU cores   : <span style=\"color: #008080; text-decoration-color: #008080; font-weight: bold\">4</span>\n",
              "Architecture: 64bit\n",
              "\n",
              "Hostname: 757a20244e36\n",
              "\n",
              "Git hash: \n",
              "\n",
              "Git repo: \n",
              "\n",
              "Git branch: \n",
              "\n",
              "</pre>\n"
            ]
          },
          "metadata": {}
        },
        {
          "output_type": "stream",
          "name": "stdout",
          "text": [
            "\u001b[1mPackages:\u001b[0m\n",
            "\n"
          ]
        },
        {
          "output_type": "display_data",
          "data": {
            "text/plain": [
              "nltk                                    #: \u001b[1;36m3.9\u001b[0m.\u001b[1;36m1\u001b[0m               \n"
            ],
            "text/html": [
              "<pre style=\"white-space:pre;overflow-x:auto;line-height:normal;font-family:Menlo,'DejaVu Sans Mono',consolas,'Courier New',monospace\">nltk                                    #: <span style=\"color: #008080; text-decoration-color: #008080; font-weight: bold\">3.9</span>.<span style=\"color: #008080; text-decoration-color: #008080; font-weight: bold\">1</span>               \n",
              "</pre>\n"
            ]
          },
          "metadata": {}
        },
        {
          "output_type": "display_data",
          "data": {
            "text/plain": [
              "numpy                                   #: \u001b[1;36m1.26\u001b[0m.\u001b[1;36m4\u001b[0m              \n"
            ],
            "text/html": [
              "<pre style=\"white-space:pre;overflow-x:auto;line-height:normal;font-family:Menlo,'DejaVu Sans Mono',consolas,'Courier New',monospace\">numpy                                   #: <span style=\"color: #008080; text-decoration-color: #008080; font-weight: bold\">1.26</span>.<span style=\"color: #008080; text-decoration-color: #008080; font-weight: bold\">4</span>              \n",
              "</pre>\n"
            ]
          },
          "metadata": {}
        },
        {
          "output_type": "display_data",
          "data": {
            "text/plain": [
              "pandas                                  #: \u001b[1;36m2.2\u001b[0m.\u001b[1;36m2\u001b[0m               \n"
            ],
            "text/html": [
              "<pre style=\"white-space:pre;overflow-x:auto;line-height:normal;font-family:Menlo,'DejaVu Sans Mono',consolas,'Courier New',monospace\">pandas                                  #: <span style=\"color: #008080; text-decoration-color: #008080; font-weight: bold\">2.2</span>.<span style=\"color: #008080; text-decoration-color: #008080; font-weight: bold\">2</span>               \n",
              "</pre>\n"
            ]
          },
          "metadata": {}
        },
        {
          "output_type": "display_data",
          "data": {
            "text/plain": [
              "seaborn                                 #: \u001b[1;36m0.13\u001b[0m.\u001b[1;36m2\u001b[0m              \n"
            ],
            "text/html": [
              "<pre style=\"white-space:pre;overflow-x:auto;line-height:normal;font-family:Menlo,'DejaVu Sans Mono',consolas,'Courier New',monospace\">seaborn                                 #: <span style=\"color: #008080; text-decoration-color: #008080; font-weight: bold\">0.13</span>.<span style=\"color: #008080; text-decoration-color: #008080; font-weight: bold\">2</span>              \n",
              "</pre>\n"
            ]
          },
          "metadata": {}
        },
        {
          "output_type": "display_data",
          "data": {
            "text/plain": [
              " \n"
            ],
            "text/html": [
              "<pre style=\"white-space:pre;overflow-x:auto;line-height:normal;font-family:Menlo,'DejaVu Sans Mono',consolas,'Courier New',monospace\"> \n",
              "</pre>\n"
            ]
          },
          "metadata": {}
        },
        {
          "output_type": "display_data",
          "data": {
            "text/plain": [
              "APS Filename: \u001b[35m/content/folderOnColab/\u001b[0m\u001b[95mMissBight_2020010900.nc\u001b[0m\n"
            ],
            "text/html": [
              "<pre style=\"white-space:pre;overflow-x:auto;line-height:normal;font-family:Menlo,'DejaVu Sans Mono',consolas,'Courier New',monospace\">APS Filename: <span style=\"color: #800080; text-decoration-color: #800080\">/content/folderOnColab/</span><span style=\"color: #ff00ff; text-decoration-color: #ff00ff\">MissBight_2020010900.nc</span>\n",
              "</pre>\n"
            ]
          },
          "metadata": {}
        }
      ],
      "source": [
        "target_filename    =target_folder+os.sep+\"MissBight_2020010900.nc\"\n",
        "\n",
        "rprint(\"Started \" + str(VERSION_NAME) + \".\")\n",
        "\n",
        "rprint(\" \")\n",
        "rprint(\"...library versioning output\")\n",
        "lib_diagnostics()\n",
        "rprint(\" \")\n",
        "rprint(\"APS Filename: \"+target_filename)"
      ]
    },
    {
      "cell_type": "markdown",
      "metadata": {
        "id": "M3VJV9Ot6lpj"
      },
      "source": [
        "## Read Input NetCDF Files"
      ]
    },
    {
      "cell_type": "code",
      "execution_count": 14,
      "metadata": {
        "colab": {
          "base_uri": "https://localhost:8080/",
          "height": 50
        },
        "id": "8OJM1WM86lpj",
        "executionInfo": {
          "status": "ok",
          "timestamp": 1738789705531,
          "user_tz": 360,
          "elapsed": 254,
          "user": {
            "displayName": "",
            "userId": ""
          }
        },
        "outputId": "4c1b734e-9f2c-468b-c212-b569b1432059"
      },
      "outputs": [
        {
          "output_type": "display_data",
          "data": {
            "text/plain": [
              "\u001b[33m...\u001b[0mreading NetCDF4 \u001b[1m(\u001b[0m\u001b[35m/content/folderOnColab/\u001b[0m\u001b[95mMissBight_2020010900.nc\u001b[0m\u001b[1m)\u001b[0m\n"
            ],
            "text/html": [
              "<pre style=\"white-space:pre;overflow-x:auto;line-height:normal;font-family:Menlo,'DejaVu Sans Mono',consolas,'Courier New',monospace\"><span style=\"color: #808000; text-decoration-color: #808000\">...</span>reading NetCDF4 <span style=\"font-weight: bold\">(</span><span style=\"color: #800080; text-decoration-color: #800080\">/content/folderOnColab/</span><span style=\"color: #ff00ff; text-decoration-color: #ff00ff\">MissBight_2020010900.nc</span><span style=\"font-weight: bold\">)</span>\n",
              "</pre>\n"
            ]
          },
          "metadata": {}
        },
        {
          "output_type": "display_data",
          "data": {
            "text/plain": [
              "\u001b[33m...\u001b[0mreading Xarray \u001b[1m(\u001b[0m\u001b[35m/content/folderOnColab/\u001b[0m\u001b[95mMissBight_2020010900.nc\u001b[0m\u001b[1m)\u001b[0m\n"
            ],
            "text/html": [
              "<pre style=\"white-space:pre;overflow-x:auto;line-height:normal;font-family:Menlo,'DejaVu Sans Mono',consolas,'Courier New',monospace\"><span style=\"color: #808000; text-decoration-color: #808000\">...</span>reading Xarray <span style=\"font-weight: bold\">(</span><span style=\"color: #800080; text-decoration-color: #800080\">/content/folderOnColab/</span><span style=\"color: #ff00ff; text-decoration-color: #ff00ff\">MissBight_2020010900.nc</span><span style=\"font-weight: bold\">)</span>\n",
              "</pre>\n"
            ]
          },
          "metadata": {}
        }
      ],
      "source": [
        "#READ Input NetCDF\n",
        "try:\n",
        "    rprint(f\"...reading NetCDF4 ({target_filename})\")\n",
        "    the_netcdf = Dataset(target_filename, \"r\", format=\"NETCDF4\")\n",
        "except Exception as e:\n",
        "   process_exception(e)\n",
        "\n",
        "try:\n",
        "    rprint(f\"...reading Xarray ({target_filename})\")\n",
        "    the_xarray = xr.open_dataset(target_filename)\n",
        "except Exception as e:\n",
        "    process_exception(e)"
      ]
    },
    {
      "cell_type": "code",
      "execution_count": 15,
      "metadata": {
        "colab": {
          "base_uri": "https://localhost:8080/"
        },
        "id": "xGoJyce06lpj",
        "executionInfo": {
          "status": "ok",
          "timestamp": 1738789705531,
          "user_tz": 360,
          "elapsed": 3,
          "user": {
            "displayName": "",
            "userId": ""
          }
        },
        "outputId": "b6406ad2-63bd-4fe7-c3a2-c9a5f59474a2"
      },
      "outputs": [
        {
          "output_type": "execute_result",
          "data": {
            "text/plain": [
              "<class 'netCDF4.Dataset'>\n",
              "root group (NETCDF3_CLASSIC data model, file format NETCDF3):\n",
              "    source: BioCAST 1.1.5\n",
              "    title: ./MissBight_2020010900.nc\n",
              "    version: 1.1.5\n",
              "    rp_organization: NAVOCEANO\n",
              "    rp_phone: 228-688-5176\n",
              "    rp_email: cso.navo.fct@navy.mil\n",
              "    rp_name: NAVOCEANO CSO\n",
              "    conventions: National System for Geospatial Integlligence (NSG) Meatadata Foundation (NMF), Version 3.0, 2016-08-31 (NGA.STD.0012-3.0)\n",
              "    geoBoundingBox_northBoundLatitude: 31.0065\n",
              "    geoBoundingBox_southBoundLatitude: 28.3900\n",
              "    geoBoundingBox_eastBoundLongitude: -84.5053\n",
              "    geoBoundingBox_westBoundLongitude: -90.5075\n",
              "    geoDescription: Pseudo-Mercator\n",
              "    referenceSystem_code: Geodetic Geographic 3D\n",
              "    referenceSystem_title: EPSG:4326 (WGS 84)\n",
              "    createDate: 2020-03-24 10:59:00\n",
              "    start_date: 2020-01-09\n",
              "    start_time: 00:00:00\n",
              "    stop_date: 2020-01-09\n",
              "    stop_time: 00:00:00\n",
              "    lineage: Generated by BioCAST 1.1.5 using optics seed /export/tods-rt/biocast3D/biocast_data/npp.2020007.0107.2020013.0113.D.L4_7DLP.viirsn.MissBight.v08.750m.nc\n",
              "    ism_NoticeText: Distribution Statement A: Approved for public release; distribution unlimited.\n",
              "    ism_classification: Unclassified\n",
              "    ism_ownerProducer: USA\n",
              "    aps_fileTitle: NRL Level-4 Data\n",
              "    aps_fileVersion: 4.0\n",
              "    aps_cdm_data_type: grid\n",
              "    aps_sensor: sensor\n",
              "    aps_sensorPlatform: npp\n",
              "    aps_sensorType: whishbroom\n",
              "    aps_sensorAgency: IPO\n",
              "    aps_sensorPlatformType: Polar-orbiting Satellite\n",
              "    aps_sensorResolutionInKM: 0.7500\n",
              "    aps_mapProjectionSystem: NRL(USGS)\n",
              "    aps_geospatial_lat_units: degrees_north\n",
              "    aps_geospatial_lon_units: degrees_east\n",
              "    aps_geospatial_lat_max: 31.0065\n",
              "    aps_geospatial_lat_min: 28.3900\n",
              "    aps_geospatial_lon_max: -84.5053\n",
              "    aps_geospatial_lon_min: -90.5075\n",
              "    aps_creator_institution: NRL/SSC/Oceans\n",
              "    aps_creator_name: NRL/SSC/Oceans\n",
              "    aps_creator_email: apssupport@nrlssc.navy.mil\n",
              "    aps_creator_url: http://www7333.nrlssc.navy.mil\n",
              "    aps_inputParameters: -m LAND,ATMFAIL,CLDICE,SPARE3,ATMWARN,MAXAERITER,LOWLW,TRIMPIXEL -T 5 -H chlor_a,vis_lmi_c,vis_lmi_a,vis_lmi_bb,vis_lmi_Kd,Kd_486_lee,Kd_551_lee,bb_551_qaa,bb_486_qaa,c_551_qaa,c_486_qaa,Kd_532,Kd_490,Zeu_lee,Zeu_morel,cloud_albedo,l2_flags,latitude,longi\n",
              "    aps_start_date: 2020-01-06\n",
              "    aps_start_time: 18:54:22\n",
              "    aps_stop_date: 2020-01-13\n",
              "    aps_stop_time: 20:05:18\n",
              "    aps_prodList: chlor_a\n",
              "    dimensions(sizes): lon(800), lat(400), depth(29), time(1)\n",
              "    variables(dimensions): float32 lon(lon), float32 lat(lat), float32 depth(depth), float32 time(time), float32 chlor_a(time, depth, lat, lon)\n",
              "    groups: "
            ]
          },
          "metadata": {},
          "execution_count": 15
        }
      ],
      "source": [
        "#just a quick dump to show the contents of the read, variables are at the bottom of the stack.\n",
        "the_netcdf"
      ]
    },
    {
      "cell_type": "code",
      "execution_count": 17,
      "metadata": {
        "colab": {
          "base_uri": "https://localhost:8080/",
          "height": 321
        },
        "id": "1-IbhfZ16lpj",
        "executionInfo": {
          "status": "ok",
          "timestamp": 1738789726797,
          "user_tz": 360,
          "elapsed": 573,
          "user": {
            "displayName": "",
            "userId": ""
          }
        },
        "outputId": "b6ed5434-306a-4c1f-e57f-161d9c7e191d"
      },
      "outputs": [
        {
          "output_type": "execute_result",
          "data": {
            "text/plain": [
              "<xarray.Dataset> Size: 37MB\n",
              "Dimensions:  (lon: 800, lat: 400, depth: 29, time: 1)\n",
              "Coordinates:\n",
              "  * lon      (lon) float32 3kB -90.5 -90.49 -90.48 ... -84.51 -84.51 -84.5\n",
              "  * lat      (lat) float32 2kB 31.0 30.99 30.99 30.98 ... 28.4 28.4 28.39 28.38\n",
              "  * depth    (depth) float32 116B 1.0 2.0 3.0 4.0 5.0 ... 26.0 27.0 28.0 29.0\n",
              "  * time     (time) datetime64[ns] 8B 2020-01-09\n",
              "Data variables:\n",
              "    chlor_a  (time, depth, lat, lon) float32 37MB ...\n",
              "Attributes: (12/50)\n",
              "    source:                             BioCAST 1.1.5\n",
              "    title:                              ./MissBight_2020010900.nc\n",
              "    version:                            1.1.5\n",
              "    rp_organization:                    NAVOCEANO\n",
              "    rp_phone:                           228-688-5176\n",
              "    rp_email:                           cso.navo.fct@navy.mil\n",
              "    ...                                 ...\n",
              "    aps_inputParameters:                -m LAND,ATMFAIL,CLDICE,SPARE3,ATMWARN...\n",
              "    aps_start_date:                     2020-01-06\n",
              "    aps_start_time:                     18:54:22\n",
              "    aps_stop_date:                      2020-01-13\n",
              "    aps_stop_time:                      20:05:18\n",
              "    aps_prodList:                       chlor_a"
            ],
            "text/html": [
              "<div><svg style=\"position: absolute; width: 0; height: 0; overflow: hidden\">\n",
              "<defs>\n",
              "<symbol id=\"icon-database\" viewBox=\"0 0 32 32\">\n",
              "<path d=\"M16 0c-8.837 0-16 2.239-16 5v4c0 2.761 7.163 5 16 5s16-2.239 16-5v-4c0-2.761-7.163-5-16-5z\"></path>\n",
              "<path d=\"M16 17c-8.837 0-16-2.239-16-5v6c0 2.761 7.163 5 16 5s16-2.239 16-5v-6c0 2.761-7.163 5-16 5z\"></path>\n",
              "<path d=\"M16 26c-8.837 0-16-2.239-16-5v6c0 2.761 7.163 5 16 5s16-2.239 16-5v-6c0 2.761-7.163 5-16 5z\"></path>\n",
              "</symbol>\n",
              "<symbol id=\"icon-file-text2\" viewBox=\"0 0 32 32\">\n",
              "<path d=\"M28.681 7.159c-0.694-0.947-1.662-2.053-2.724-3.116s-2.169-2.030-3.116-2.724c-1.612-1.182-2.393-1.319-2.841-1.319h-15.5c-1.378 0-2.5 1.121-2.5 2.5v27c0 1.378 1.122 2.5 2.5 2.5h23c1.378 0 2.5-1.122 2.5-2.5v-19.5c0-0.448-0.137-1.23-1.319-2.841zM24.543 5.457c0.959 0.959 1.712 1.825 2.268 2.543h-4.811v-4.811c0.718 0.556 1.584 1.309 2.543 2.268zM28 29.5c0 0.271-0.229 0.5-0.5 0.5h-23c-0.271 0-0.5-0.229-0.5-0.5v-27c0-0.271 0.229-0.5 0.5-0.5 0 0 15.499-0 15.5 0v7c0 0.552 0.448 1 1 1h7v19.5z\"></path>\n",
              "<path d=\"M23 26h-14c-0.552 0-1-0.448-1-1s0.448-1 1-1h14c0.552 0 1 0.448 1 1s-0.448 1-1 1z\"></path>\n",
              "<path d=\"M23 22h-14c-0.552 0-1-0.448-1-1s0.448-1 1-1h14c0.552 0 1 0.448 1 1s-0.448 1-1 1z\"></path>\n",
              "<path d=\"M23 18h-14c-0.552 0-1-0.448-1-1s0.448-1 1-1h14c0.552 0 1 0.448 1 1s-0.448 1-1 1z\"></path>\n",
              "</symbol>\n",
              "</defs>\n",
              "</svg>\n",
              "<style>/* CSS stylesheet for displaying xarray objects in jupyterlab.\n",
              " *\n",
              " */\n",
              "\n",
              ":root {\n",
              "  --xr-font-color0: var(--jp-content-font-color0, rgba(0, 0, 0, 1));\n",
              "  --xr-font-color2: var(--jp-content-font-color2, rgba(0, 0, 0, 0.54));\n",
              "  --xr-font-color3: var(--jp-content-font-color3, rgba(0, 0, 0, 0.38));\n",
              "  --xr-border-color: var(--jp-border-color2, #e0e0e0);\n",
              "  --xr-disabled-color: var(--jp-layout-color3, #bdbdbd);\n",
              "  --xr-background-color: var(--jp-layout-color0, white);\n",
              "  --xr-background-color-row-even: var(--jp-layout-color1, white);\n",
              "  --xr-background-color-row-odd: var(--jp-layout-color2, #eeeeee);\n",
              "}\n",
              "\n",
              "html[theme=\"dark\"],\n",
              "html[data-theme=\"dark\"],\n",
              "body[data-theme=\"dark\"],\n",
              "body.vscode-dark {\n",
              "  --xr-font-color0: rgba(255, 255, 255, 1);\n",
              "  --xr-font-color2: rgba(255, 255, 255, 0.54);\n",
              "  --xr-font-color3: rgba(255, 255, 255, 0.38);\n",
              "  --xr-border-color: #1f1f1f;\n",
              "  --xr-disabled-color: #515151;\n",
              "  --xr-background-color: #111111;\n",
              "  --xr-background-color-row-even: #111111;\n",
              "  --xr-background-color-row-odd: #313131;\n",
              "}\n",
              "\n",
              ".xr-wrap {\n",
              "  display: block !important;\n",
              "  min-width: 300px;\n",
              "  max-width: 700px;\n",
              "}\n",
              "\n",
              ".xr-text-repr-fallback {\n",
              "  /* fallback to plain text repr when CSS is not injected (untrusted notebook) */\n",
              "  display: none;\n",
              "}\n",
              "\n",
              ".xr-header {\n",
              "  padding-top: 6px;\n",
              "  padding-bottom: 6px;\n",
              "  margin-bottom: 4px;\n",
              "  border-bottom: solid 1px var(--xr-border-color);\n",
              "}\n",
              "\n",
              ".xr-header > div,\n",
              ".xr-header > ul {\n",
              "  display: inline;\n",
              "  margin-top: 0;\n",
              "  margin-bottom: 0;\n",
              "}\n",
              "\n",
              ".xr-obj-type,\n",
              ".xr-array-name {\n",
              "  margin-left: 2px;\n",
              "  margin-right: 10px;\n",
              "}\n",
              "\n",
              ".xr-obj-type {\n",
              "  color: var(--xr-font-color2);\n",
              "}\n",
              "\n",
              ".xr-sections {\n",
              "  padding-left: 0 !important;\n",
              "  display: grid;\n",
              "  grid-template-columns: 150px auto auto 1fr 0 20px 0 20px;\n",
              "}\n",
              "\n",
              ".xr-section-item {\n",
              "  display: contents;\n",
              "}\n",
              "\n",
              ".xr-section-item input {\n",
              "  display: inline-block;\n",
              "  opacity: 0;\n",
              "  height: 0;\n",
              "}\n",
              "\n",
              ".xr-section-item input + label {\n",
              "  color: var(--xr-disabled-color);\n",
              "}\n",
              "\n",
              ".xr-section-item input:enabled + label {\n",
              "  cursor: pointer;\n",
              "  color: var(--xr-font-color2);\n",
              "}\n",
              "\n",
              ".xr-section-item input:focus + label {\n",
              "  border: 2px solid var(--xr-font-color0);\n",
              "}\n",
              "\n",
              ".xr-section-item input:enabled + label:hover {\n",
              "  color: var(--xr-font-color0);\n",
              "}\n",
              "\n",
              ".xr-section-summary {\n",
              "  grid-column: 1;\n",
              "  color: var(--xr-font-color2);\n",
              "  font-weight: 500;\n",
              "}\n",
              "\n",
              ".xr-section-summary > span {\n",
              "  display: inline-block;\n",
              "  padding-left: 0.5em;\n",
              "}\n",
              "\n",
              ".xr-section-summary-in:disabled + label {\n",
              "  color: var(--xr-font-color2);\n",
              "}\n",
              "\n",
              ".xr-section-summary-in + label:before {\n",
              "  display: inline-block;\n",
              "  content: \"►\";\n",
              "  font-size: 11px;\n",
              "  width: 15px;\n",
              "  text-align: center;\n",
              "}\n",
              "\n",
              ".xr-section-summary-in:disabled + label:before {\n",
              "  color: var(--xr-disabled-color);\n",
              "}\n",
              "\n",
              ".xr-section-summary-in:checked + label:before {\n",
              "  content: \"▼\";\n",
              "}\n",
              "\n",
              ".xr-section-summary-in:checked + label > span {\n",
              "  display: none;\n",
              "}\n",
              "\n",
              ".xr-section-summary,\n",
              ".xr-section-inline-details {\n",
              "  padding-top: 4px;\n",
              "  padding-bottom: 4px;\n",
              "}\n",
              "\n",
              ".xr-section-inline-details {\n",
              "  grid-column: 2 / -1;\n",
              "}\n",
              "\n",
              ".xr-section-details {\n",
              "  display: none;\n",
              "  grid-column: 1 / -1;\n",
              "  margin-bottom: 5px;\n",
              "}\n",
              "\n",
              ".xr-section-summary-in:checked ~ .xr-section-details {\n",
              "  display: contents;\n",
              "}\n",
              "\n",
              ".xr-array-wrap {\n",
              "  grid-column: 1 / -1;\n",
              "  display: grid;\n",
              "  grid-template-columns: 20px auto;\n",
              "}\n",
              "\n",
              ".xr-array-wrap > label {\n",
              "  grid-column: 1;\n",
              "  vertical-align: top;\n",
              "}\n",
              "\n",
              ".xr-preview {\n",
              "  color: var(--xr-font-color3);\n",
              "}\n",
              "\n",
              ".xr-array-preview,\n",
              ".xr-array-data {\n",
              "  padding: 0 5px !important;\n",
              "  grid-column: 2;\n",
              "}\n",
              "\n",
              ".xr-array-data,\n",
              ".xr-array-in:checked ~ .xr-array-preview {\n",
              "  display: none;\n",
              "}\n",
              "\n",
              ".xr-array-in:checked ~ .xr-array-data,\n",
              ".xr-array-preview {\n",
              "  display: inline-block;\n",
              "}\n",
              "\n",
              ".xr-dim-list {\n",
              "  display: inline-block !important;\n",
              "  list-style: none;\n",
              "  padding: 0 !important;\n",
              "  margin: 0;\n",
              "}\n",
              "\n",
              ".xr-dim-list li {\n",
              "  display: inline-block;\n",
              "  padding: 0;\n",
              "  margin: 0;\n",
              "}\n",
              "\n",
              ".xr-dim-list:before {\n",
              "  content: \"(\";\n",
              "}\n",
              "\n",
              ".xr-dim-list:after {\n",
              "  content: \")\";\n",
              "}\n",
              "\n",
              ".xr-dim-list li:not(:last-child):after {\n",
              "  content: \",\";\n",
              "  padding-right: 5px;\n",
              "}\n",
              "\n",
              ".xr-has-index {\n",
              "  font-weight: bold;\n",
              "}\n",
              "\n",
              ".xr-var-list,\n",
              ".xr-var-item {\n",
              "  display: contents;\n",
              "}\n",
              "\n",
              ".xr-var-item > div,\n",
              ".xr-var-item label,\n",
              ".xr-var-item > .xr-var-name span {\n",
              "  background-color: var(--xr-background-color-row-even);\n",
              "  margin-bottom: 0;\n",
              "}\n",
              "\n",
              ".xr-var-item > .xr-var-name:hover span {\n",
              "  padding-right: 5px;\n",
              "}\n",
              "\n",
              ".xr-var-list > li:nth-child(odd) > div,\n",
              ".xr-var-list > li:nth-child(odd) > label,\n",
              ".xr-var-list > li:nth-child(odd) > .xr-var-name span {\n",
              "  background-color: var(--xr-background-color-row-odd);\n",
              "}\n",
              "\n",
              ".xr-var-name {\n",
              "  grid-column: 1;\n",
              "}\n",
              "\n",
              ".xr-var-dims {\n",
              "  grid-column: 2;\n",
              "}\n",
              "\n",
              ".xr-var-dtype {\n",
              "  grid-column: 3;\n",
              "  text-align: right;\n",
              "  color: var(--xr-font-color2);\n",
              "}\n",
              "\n",
              ".xr-var-preview {\n",
              "  grid-column: 4;\n",
              "}\n",
              "\n",
              ".xr-index-preview {\n",
              "  grid-column: 2 / 5;\n",
              "  color: var(--xr-font-color2);\n",
              "}\n",
              "\n",
              ".xr-var-name,\n",
              ".xr-var-dims,\n",
              ".xr-var-dtype,\n",
              ".xr-preview,\n",
              ".xr-attrs dt {\n",
              "  white-space: nowrap;\n",
              "  overflow: hidden;\n",
              "  text-overflow: ellipsis;\n",
              "  padding-right: 10px;\n",
              "}\n",
              "\n",
              ".xr-var-name:hover,\n",
              ".xr-var-dims:hover,\n",
              ".xr-var-dtype:hover,\n",
              ".xr-attrs dt:hover {\n",
              "  overflow: visible;\n",
              "  width: auto;\n",
              "  z-index: 1;\n",
              "}\n",
              "\n",
              ".xr-var-attrs,\n",
              ".xr-var-data,\n",
              ".xr-index-data {\n",
              "  display: none;\n",
              "  background-color: var(--xr-background-color) !important;\n",
              "  padding-bottom: 5px !important;\n",
              "}\n",
              "\n",
              ".xr-var-attrs-in:checked ~ .xr-var-attrs,\n",
              ".xr-var-data-in:checked ~ .xr-var-data,\n",
              ".xr-index-data-in:checked ~ .xr-index-data {\n",
              "  display: block;\n",
              "}\n",
              "\n",
              ".xr-var-data > table {\n",
              "  float: right;\n",
              "}\n",
              "\n",
              ".xr-var-name span,\n",
              ".xr-var-data,\n",
              ".xr-index-name div,\n",
              ".xr-index-data,\n",
              ".xr-attrs {\n",
              "  padding-left: 25px !important;\n",
              "}\n",
              "\n",
              ".xr-attrs,\n",
              ".xr-var-attrs,\n",
              ".xr-var-data,\n",
              ".xr-index-data {\n",
              "  grid-column: 1 / -1;\n",
              "}\n",
              "\n",
              "dl.xr-attrs {\n",
              "  padding: 0;\n",
              "  margin: 0;\n",
              "  display: grid;\n",
              "  grid-template-columns: 125px auto;\n",
              "}\n",
              "\n",
              ".xr-attrs dt,\n",
              ".xr-attrs dd {\n",
              "  padding: 0;\n",
              "  margin: 0;\n",
              "  float: left;\n",
              "  padding-right: 10px;\n",
              "  width: auto;\n",
              "}\n",
              "\n",
              ".xr-attrs dt {\n",
              "  font-weight: normal;\n",
              "  grid-column: 1;\n",
              "}\n",
              "\n",
              ".xr-attrs dt:hover span {\n",
              "  display: inline-block;\n",
              "  background: var(--xr-background-color);\n",
              "  padding-right: 10px;\n",
              "}\n",
              "\n",
              ".xr-attrs dd {\n",
              "  grid-column: 2;\n",
              "  white-space: pre-wrap;\n",
              "  word-break: break-all;\n",
              "}\n",
              "\n",
              ".xr-icon-database,\n",
              ".xr-icon-file-text2,\n",
              ".xr-no-icon {\n",
              "  display: inline-block;\n",
              "  vertical-align: middle;\n",
              "  width: 1em;\n",
              "  height: 1.5em !important;\n",
              "  stroke-width: 0;\n",
              "  stroke: currentColor;\n",
              "  fill: currentColor;\n",
              "}\n",
              "</style><pre class='xr-text-repr-fallback'>&lt;xarray.Dataset&gt; Size: 37MB\n",
              "Dimensions:  (lon: 800, lat: 400, depth: 29, time: 1)\n",
              "Coordinates:\n",
              "  * lon      (lon) float32 3kB -90.5 -90.49 -90.48 ... -84.51 -84.51 -84.5\n",
              "  * lat      (lat) float32 2kB 31.0 30.99 30.99 30.98 ... 28.4 28.4 28.39 28.38\n",
              "  * depth    (depth) float32 116B 1.0 2.0 3.0 4.0 5.0 ... 26.0 27.0 28.0 29.0\n",
              "  * time     (time) datetime64[ns] 8B 2020-01-09\n",
              "Data variables:\n",
              "    chlor_a  (time, depth, lat, lon) float32 37MB ...\n",
              "Attributes: (12/50)\n",
              "    source:                             BioCAST 1.1.5\n",
              "    title:                              ./MissBight_2020010900.nc\n",
              "    version:                            1.1.5\n",
              "    rp_organization:                    NAVOCEANO\n",
              "    rp_phone:                           228-688-5176\n",
              "    rp_email:                           cso.navo.fct@navy.mil\n",
              "    ...                                 ...\n",
              "    aps_inputParameters:                -m LAND,ATMFAIL,CLDICE,SPARE3,ATMWARN...\n",
              "    aps_start_date:                     2020-01-06\n",
              "    aps_start_time:                     18:54:22\n",
              "    aps_stop_date:                      2020-01-13\n",
              "    aps_stop_time:                      20:05:18\n",
              "    aps_prodList:                       chlor_a</pre><div class='xr-wrap' style='display:none'><div class='xr-header'><div class='xr-obj-type'>xarray.Dataset</div></div><ul class='xr-sections'><li class='xr-section-item'><input id='section-8876be33-3e3a-4fcf-9d34-18fd22d4a043' class='xr-section-summary-in' type='checkbox' disabled ><label for='section-8876be33-3e3a-4fcf-9d34-18fd22d4a043' class='xr-section-summary'  title='Expand/collapse section'>Dimensions:</label><div class='xr-section-inline-details'><ul class='xr-dim-list'><li><span class='xr-has-index'>lon</span>: 800</li><li><span class='xr-has-index'>lat</span>: 400</li><li><span class='xr-has-index'>depth</span>: 29</li><li><span class='xr-has-index'>time</span>: 1</li></ul></div><div class='xr-section-details'></div></li><li class='xr-section-item'><input id='section-7435775f-f630-4068-b256-2fed3d2c059a' class='xr-section-summary-in' type='checkbox'  checked><label for='section-7435775f-f630-4068-b256-2fed3d2c059a' class='xr-section-summary' >Coordinates: <span>(4)</span></label><div class='xr-section-inline-details'></div><div class='xr-section-details'><ul class='xr-var-list'><li class='xr-var-item'><div class='xr-var-name'><span class='xr-has-index'>lon</span></div><div class='xr-var-dims'>(lon)</div><div class='xr-var-dtype'>float32</div><div class='xr-var-preview xr-preview'>-90.5 -90.49 ... -84.51 -84.5</div><input id='attrs-2147a1e6-e31e-4990-989b-04736b492f99' class='xr-var-attrs-in' type='checkbox' ><label for='attrs-2147a1e6-e31e-4990-989b-04736b492f99' title='Show/Hide attributes'><svg class='icon xr-icon-file-text2'><use xlink:href='#icon-file-text2'></use></svg></label><input id='data-dad25e71-64c6-4f9b-aea9-5b7f3e09709a' class='xr-var-data-in' type='checkbox'><label for='data-dad25e71-64c6-4f9b-aea9-5b7f3e09709a' title='Show/Hide data repr'><svg class='icon xr-icon-database'><use xlink:href='#icon-database'></use></svg></label><div class='xr-var-attrs'><dl class='xr-attrs'><dt><span>long_name :</span></dt><dd>Longitude</dd><dt><span>units :</span></dt><dd>degrees_east</dd><dt><span>valid_max :</span></dt><dd>-84.497795</dd><dt><span>valid_min :</span></dt><dd>-90.5</dd></dl></div><div class='xr-var-data'><pre>array([-90.5     , -90.492485, -90.48498 , ..., -84.51282 , -84.50531 ,\n",
              "       -84.497795], dtype=float32)</pre></div></li><li class='xr-var-item'><div class='xr-var-name'><span class='xr-has-index'>lat</span></div><div class='xr-var-dims'>(lat)</div><div class='xr-var-dtype'>float32</div><div class='xr-var-preview xr-preview'>31.0 30.99 30.99 ... 28.39 28.38</div><input id='attrs-c5b0137d-2474-457d-b859-c19496919378' class='xr-var-attrs-in' type='checkbox' ><label for='attrs-c5b0137d-2474-457d-b859-c19496919378' title='Show/Hide attributes'><svg class='icon xr-icon-file-text2'><use xlink:href='#icon-file-text2'></use></svg></label><input id='data-efcae17b-920e-46ee-b4ae-138c414c2873' class='xr-var-data-in' type='checkbox'><label for='data-efcae17b-920e-46ee-b4ae-138c414c2873' title='Show/Hide data repr'><svg class='icon xr-icon-database'><use xlink:href='#icon-database'></use></svg></label><div class='xr-var-attrs'><dl class='xr-attrs'><dt><span>long_name :</span></dt><dd>Latitude</dd><dt><span>units :</span></dt><dd>degrees_north</dd><dt><span>valid_max :</span></dt><dd>31.0</dd><dt><span>valid_min :</span></dt><dd>28.383331</dd></dl></div><div class='xr-var-data'><pre>array([31.      , 30.993528, 30.987057, ..., 28.396616, 28.389973, 28.383331],\n",
              "      dtype=float32)</pre></div></li><li class='xr-var-item'><div class='xr-var-name'><span class='xr-has-index'>depth</span></div><div class='xr-var-dims'>(depth)</div><div class='xr-var-dtype'>float32</div><div class='xr-var-preview xr-preview'>1.0 2.0 3.0 4.0 ... 27.0 28.0 29.0</div><input id='attrs-9ca46eb4-13b6-4393-8c98-c702a16bdd8b' class='xr-var-attrs-in' type='checkbox' ><label for='attrs-9ca46eb4-13b6-4393-8c98-c702a16bdd8b' title='Show/Hide attributes'><svg class='icon xr-icon-file-text2'><use xlink:href='#icon-file-text2'></use></svg></label><input id='data-3927343f-5628-483e-8877-20446e5b9714' class='xr-var-data-in' type='checkbox'><label for='data-3927343f-5628-483e-8877-20446e5b9714' title='Show/Hide data repr'><svg class='icon xr-icon-database'><use xlink:href='#icon-database'></use></svg></label><div class='xr-var-attrs'><dl class='xr-attrs'><dt><span>long_name :</span></dt><dd>Depth</dd><dt><span>units :</span></dt><dd>sigma_levels</dd></dl></div><div class='xr-var-data'><pre>array([ 1.,  2.,  3.,  4.,  5.,  6.,  7.,  8.,  9., 10., 11., 12., 13., 14.,\n",
              "       15., 16., 17., 18., 19., 20., 21., 22., 23., 24., 25., 26., 27., 28.,\n",
              "       29.], dtype=float32)</pre></div></li><li class='xr-var-item'><div class='xr-var-name'><span class='xr-has-index'>time</span></div><div class='xr-var-dims'>(time)</div><div class='xr-var-dtype'>datetime64[ns]</div><div class='xr-var-preview xr-preview'>2020-01-09</div><input id='attrs-cf872755-cf8a-4ee8-b117-9c330040f368' class='xr-var-attrs-in' type='checkbox' ><label for='attrs-cf872755-cf8a-4ee8-b117-9c330040f368' title='Show/Hide attributes'><svg class='icon xr-icon-file-text2'><use xlink:href='#icon-file-text2'></use></svg></label><input id='data-086f07cb-57a8-46db-affb-9f2914fcac95' class='xr-var-data-in' type='checkbox'><label for='data-086f07cb-57a8-46db-affb-9f2914fcac95' title='Show/Hide data repr'><svg class='icon xr-icon-database'><use xlink:href='#icon-database'></use></svg></label><div class='xr-var-attrs'><dl class='xr-attrs'><dt><span>long_name :</span></dt><dd>Time</dd></dl></div><div class='xr-var-data'><pre>array([&#x27;2020-01-09T00:00:00.000000000&#x27;], dtype=&#x27;datetime64[ns]&#x27;)</pre></div></li></ul></div></li><li class='xr-section-item'><input id='section-c459e60a-7191-4452-b3de-ee5216910afd' class='xr-section-summary-in' type='checkbox'  checked><label for='section-c459e60a-7191-4452-b3de-ee5216910afd' class='xr-section-summary' >Data variables: <span>(1)</span></label><div class='xr-section-inline-details'></div><div class='xr-section-details'><ul class='xr-var-list'><li class='xr-var-item'><div class='xr-var-name'><span>chlor_a</span></div><div class='xr-var-dims'>(time, depth, lat, lon)</div><div class='xr-var-dtype'>float32</div><div class='xr-var-preview xr-preview'>...</div><input id='attrs-7897971d-e332-432a-85d8-c0dfb2b83f8f' class='xr-var-attrs-in' type='checkbox' ><label for='attrs-7897971d-e332-432a-85d8-c0dfb2b83f8f' title='Show/Hide attributes'><svg class='icon xr-icon-file-text2'><use xlink:href='#icon-file-text2'></use></svg></label><input id='data-98d122aa-0f66-4ad1-b8de-3ff3fdfb8ed3' class='xr-var-data-in' type='checkbox'><label for='data-98d122aa-0f66-4ad1-b8de-3ff3fdfb8ed3' title='Show/Hide data repr'><svg class='icon xr-icon-database'><use xlink:href='#icon-database'></use></svg></label><div class='xr-var-attrs'><dl class='xr-attrs'><dt><span>long_name :</span></dt><dd>Chlorophyll Concentration, OCI Algorithm</dd><dt><span>productName :</span></dt><dd>Chlorophyll Concentration, OCI Algorithm</dd><dt><span>units :</span></dt><dd>mg m^-3</dd><dt><span>productUnits :</span></dt><dd>mg m^-3</dd><dt><span>display_scale :</span></dt><dd>linear</dd></dl></div><div class='xr-var-data'><pre>[9280000 values with dtype=float32]</pre></div></li></ul></div></li><li class='xr-section-item'><input id='section-f5e9fc64-182e-4c1f-b491-65815fb24dcb' class='xr-section-summary-in' type='checkbox'  ><label for='section-f5e9fc64-182e-4c1f-b491-65815fb24dcb' class='xr-section-summary' >Indexes: <span>(4)</span></label><div class='xr-section-inline-details'></div><div class='xr-section-details'><ul class='xr-var-list'><li class='xr-var-item'><div class='xr-index-name'><div>lon</div></div><div class='xr-index-preview'>PandasIndex</div><input type='checkbox' disabled/><label></label><input id='index-2757b86d-d1ef-4450-a699-c9f3d3e18f8c' class='xr-index-data-in' type='checkbox'/><label for='index-2757b86d-d1ef-4450-a699-c9f3d3e18f8c' title='Show/Hide index repr'><svg class='icon xr-icon-database'><use xlink:href='#icon-database'></use></svg></label><div class='xr-index-data'><pre>PandasIndex(Index([             -90.5, -90.49248504638672, -90.48497772216797,\n",
              "       -90.47746276855469,  -90.4699478149414, -90.46244049072266,\n",
              "       -90.45492553710938, -90.44741821289062, -90.43990325927734,\n",
              "       -90.43238830566406,\n",
              "       ...\n",
              "        -84.5654067993164, -84.55789184570312, -84.55038452148438,\n",
              "        -84.5428695678711, -84.53535461425781, -84.52784729003906,\n",
              "       -84.52033233642578,  -84.5128173828125, -84.50531005859375,\n",
              "       -84.49779510498047],\n",
              "      dtype=&#x27;float32&#x27;, name=&#x27;lon&#x27;, length=800))</pre></div></li><li class='xr-var-item'><div class='xr-index-name'><div>lat</div></div><div class='xr-index-preview'>PandasIndex</div><input type='checkbox' disabled/><label></label><input id='index-c2d48869-f48d-4104-9f89-4e35710d2e06' class='xr-index-data-in' type='checkbox'/><label for='index-c2d48869-f48d-4104-9f89-4e35710d2e06' title='Show/Hide index repr'><svg class='icon xr-icon-database'><use xlink:href='#icon-database'></use></svg></label><div class='xr-index-data'><pre>PandasIndex(Index([              31.0, 30.993528366088867, 30.987056732177734,\n",
              "         30.9805850982666, 30.974111557006836,  30.96763801574707,\n",
              "       30.961164474487305,  30.95469093322754, 30.948217391967773,\n",
              "       30.941741943359375,\n",
              "       ...\n",
              "       28.443105697631836, 28.436466217041016, 28.429824829101562,\n",
              "        28.42318344116211, 28.416542053222656, 28.409900665283203,\n",
              "        28.40325927734375, 28.396615982055664, 28.389972686767578,\n",
              "       28.383331298828125],\n",
              "      dtype=&#x27;float32&#x27;, name=&#x27;lat&#x27;, length=400))</pre></div></li><li class='xr-var-item'><div class='xr-index-name'><div>depth</div></div><div class='xr-index-preview'>PandasIndex</div><input type='checkbox' disabled/><label></label><input id='index-4d8a94f0-0092-4016-850a-cb93b93a9862' class='xr-index-data-in' type='checkbox'/><label for='index-4d8a94f0-0092-4016-850a-cb93b93a9862' title='Show/Hide index repr'><svg class='icon xr-icon-database'><use xlink:href='#icon-database'></use></svg></label><div class='xr-index-data'><pre>PandasIndex(Index([ 1.0,  2.0,  3.0,  4.0,  5.0,  6.0,  7.0,  8.0,  9.0, 10.0, 11.0, 12.0,\n",
              "       13.0, 14.0, 15.0, 16.0, 17.0, 18.0, 19.0, 20.0, 21.0, 22.0, 23.0, 24.0,\n",
              "       25.0, 26.0, 27.0, 28.0, 29.0],\n",
              "      dtype=&#x27;float32&#x27;, name=&#x27;depth&#x27;))</pre></div></li><li class='xr-var-item'><div class='xr-index-name'><div>time</div></div><div class='xr-index-preview'>PandasIndex</div><input type='checkbox' disabled/><label></label><input id='index-d3ba2a08-2076-4128-a374-f822bdd5e9a2' class='xr-index-data-in' type='checkbox'/><label for='index-d3ba2a08-2076-4128-a374-f822bdd5e9a2' title='Show/Hide index repr'><svg class='icon xr-icon-database'><use xlink:href='#icon-database'></use></svg></label><div class='xr-index-data'><pre>PandasIndex(DatetimeIndex([&#x27;2020-01-09&#x27;], dtype=&#x27;datetime64[ns]&#x27;, name=&#x27;time&#x27;, freq=None))</pre></div></li></ul></div></li><li class='xr-section-item'><input id='section-fc0b4da7-a73e-4e2b-b94e-fcac01e7f76d' class='xr-section-summary-in' type='checkbox'  ><label for='section-fc0b4da7-a73e-4e2b-b94e-fcac01e7f76d' class='xr-section-summary' >Attributes: <span>(50)</span></label><div class='xr-section-inline-details'></div><div class='xr-section-details'><dl class='xr-attrs'><dt><span>source :</span></dt><dd>BioCAST 1.1.5</dd><dt><span>title :</span></dt><dd>./MissBight_2020010900.nc</dd><dt><span>version :</span></dt><dd>1.1.5</dd><dt><span>rp_organization :</span></dt><dd>NAVOCEANO</dd><dt><span>rp_phone :</span></dt><dd>228-688-5176</dd><dt><span>rp_email :</span></dt><dd>cso.navo.fct@navy.mil</dd><dt><span>rp_name :</span></dt><dd>NAVOCEANO CSO</dd><dt><span>conventions :</span></dt><dd>National System for Geospatial Integlligence (NSG) Meatadata Foundation (NMF), Version 3.0, 2016-08-31 (NGA.STD.0012-3.0)</dd><dt><span>geoBoundingBox_northBoundLatitude :</span></dt><dd>31.0065</dd><dt><span>geoBoundingBox_southBoundLatitude :</span></dt><dd>28.3900</dd><dt><span>geoBoundingBox_eastBoundLongitude :</span></dt><dd>-84.5053</dd><dt><span>geoBoundingBox_westBoundLongitude :</span></dt><dd>-90.5075</dd><dt><span>geoDescription :</span></dt><dd>Pseudo-Mercator</dd><dt><span>referenceSystem_code :</span></dt><dd>Geodetic Geographic 3D</dd><dt><span>referenceSystem_title :</span></dt><dd>EPSG:4326 (WGS 84)</dd><dt><span>createDate :</span></dt><dd>2020-03-24 10:59:00</dd><dt><span>start_date :</span></dt><dd>2020-01-09</dd><dt><span>start_time :</span></dt><dd>00:00:00</dd><dt><span>stop_date :</span></dt><dd>2020-01-09</dd><dt><span>stop_time :</span></dt><dd>00:00:00</dd><dt><span>lineage :</span></dt><dd>Generated by BioCAST 1.1.5 using optics seed /export/tods-rt/biocast3D/biocast_data/npp.2020007.0107.2020013.0113.D.L4_7DLP.viirsn.MissBight.v08.750m.nc</dd><dt><span>ism_NoticeText :</span></dt><dd>Distribution Statement A: Approved for public release; distribution unlimited.</dd><dt><span>ism_classification :</span></dt><dd>Unclassified</dd><dt><span>ism_ownerProducer :</span></dt><dd>USA</dd><dt><span>aps_fileTitle :</span></dt><dd>NRL Level-4 Data</dd><dt><span>aps_fileVersion :</span></dt><dd>4.0</dd><dt><span>aps_cdm_data_type :</span></dt><dd>grid</dd><dt><span>aps_sensor :</span></dt><dd>sensor</dd><dt><span>aps_sensorPlatform :</span></dt><dd>npp</dd><dt><span>aps_sensorType :</span></dt><dd>whishbroom</dd><dt><span>aps_sensorAgency :</span></dt><dd>IPO</dd><dt><span>aps_sensorPlatformType :</span></dt><dd>Polar-orbiting Satellite</dd><dt><span>aps_sensorResolutionInKM :</span></dt><dd>0.7500</dd><dt><span>aps_mapProjectionSystem :</span></dt><dd>NRL(USGS)</dd><dt><span>aps_geospatial_lat_units :</span></dt><dd>degrees_north</dd><dt><span>aps_geospatial_lon_units :</span></dt><dd>degrees_east</dd><dt><span>aps_geospatial_lat_max :</span></dt><dd>31.0065</dd><dt><span>aps_geospatial_lat_min :</span></dt><dd>28.3900</dd><dt><span>aps_geospatial_lon_max :</span></dt><dd>-84.5053</dd><dt><span>aps_geospatial_lon_min :</span></dt><dd>-90.5075</dd><dt><span>aps_creator_institution :</span></dt><dd>NRL/SSC/Oceans</dd><dt><span>aps_creator_name :</span></dt><dd>NRL/SSC/Oceans</dd><dt><span>aps_creator_email :</span></dt><dd>apssupport@nrlssc.navy.mil</dd><dt><span>aps_creator_url :</span></dt><dd>http://www7333.nrlssc.navy.mil</dd><dt><span>aps_inputParameters :</span></dt><dd>-m LAND,ATMFAIL,CLDICE,SPARE3,ATMWARN,MAXAERITER,LOWLW,TRIMPIXEL -T 5 -H chlor_a,vis_lmi_c,vis_lmi_a,vis_lmi_bb,vis_lmi_Kd,Kd_486_lee,Kd_551_lee,bb_551_qaa,bb_486_qaa,c_551_qaa,c_486_qaa,Kd_532,Kd_490,Zeu_lee,Zeu_morel,cloud_albedo,l2_flags,latitude,longi</dd><dt><span>aps_start_date :</span></dt><dd>2020-01-06</dd><dt><span>aps_start_time :</span></dt><dd>18:54:22</dd><dt><span>aps_stop_date :</span></dt><dd>2020-01-13</dd><dt><span>aps_stop_time :</span></dt><dd>20:05:18</dd><dt><span>aps_prodList :</span></dt><dd>chlor_a</dd></dl></div></li></ul></div></div>"
            ]
          },
          "metadata": {},
          "execution_count": 17
        }
      ],
      "source": [
        "#display of XARRAY\n",
        "the_xarray"
      ]
    },
    {
      "cell_type": "markdown",
      "metadata": {
        "id": "mCBf8YzQ6lpj"
      },
      "source": [
        "## Get a Quick view of the data (netCDF4 libs)"
      ]
    },
    {
      "cell_type": "code",
      "execution_count": 18,
      "metadata": {
        "colab": {
          "base_uri": "https://localhost:8080/",
          "height": 63
        },
        "id": "R3cc3-f16lpj",
        "executionInfo": {
          "status": "ok",
          "timestamp": 1738789807368,
          "user_tz": 360,
          "elapsed": 493,
          "user": {
            "displayName": "",
            "userId": ""
          }
        },
        "outputId": "67e33124-ed50-49a3-c79f-17ab660761be"
      },
      "outputs": [
        {
          "output_type": "display_data",
          "data": {
            "text/plain": [
              "Next display is a NetCDF Native Read and plot of Chlorophyll-A for the Gulf of Mexico's MS Bight region after \n",
              "merging data files, saving results to \u001b[35m/content/folderOnColab/\u001b[0m\u001b[95m007a_netcdf.jpg.\u001b[0m\n"
            ],
            "text/html": [
              "<pre style=\"white-space:pre;overflow-x:auto;line-height:normal;font-family:Menlo,'DejaVu Sans Mono',consolas,'Courier New',monospace\">Next display is a NetCDF Native Read and plot of Chlorophyll-A for the Gulf of Mexico's MS Bight region after \n",
              "merging data files, saving results to <span style=\"color: #800080; text-decoration-color: #800080\">/content/folderOnColab/</span><span style=\"color: #ff00ff; text-decoration-color: #ff00ff\">007a_netcdf.jpg.</span>\n",
              "</pre>\n"
            ]
          },
          "metadata": {}
        }
      ],
      "source": [
        "matplt.use('Agg')\n",
        "\n",
        "from matplotlib import pyplot as plt\n",
        "fig, axes = plt.subplots(figsize=(FIGURE_WIDTH,FIGURE_HEIGHT));\n",
        "\n",
        "# Save the plot to a file that can be pulled up at a later date.\n",
        "target_filename=target_folder+os.sep+f\"007a_netcdf{IMG_EXT}\";\n",
        "\n",
        "# Create ALT text describing the image.\n",
        "caption_text=f\"NetCDF Native Read and plot of Chlorophyll-A for the Gulf of Mexico's MS Bight region after merging data files, saving results to {target_filename}.\";\n",
        "\n",
        "#notice the indexing of the array [time, depth, lat, lon], the \":\" means everything\n",
        "plt.imshow(the_netcdf[\"chlor_a\"][0][0][:][:],cmap='nipy_spectral')\n",
        "\n",
        "plt.savefig(target_filename);\n",
        "add_alt_text(target_folder+os.sep+f\"007a_netcdf{IMG_EXT}\", caption_text);\n",
        "rprint(\"Next display is a \" + caption_text);"
      ]
    },
    {
      "cell_type": "code",
      "source": [
        "# Display Section 508 compliant image on the scrren with ALT text\n",
        "try:\n",
        "  make_accessible(plt, jinja2.Template(caption_text), len=len)\n",
        "  rprint(\"\\n\")\n",
        "  rprint(caption_text)\n",
        "except (NameError, Exception) as e:\n",
        "  process_exception(e)"
      ],
      "metadata": {
        "colab": {
          "base_uri": "https://localhost:8080/",
          "height": 966
        },
        "id": "YLDEfm4H8u05",
        "executionInfo": {
          "status": "ok",
          "timestamp": 1738789817370,
          "user_tz": 360,
          "elapsed": 395,
          "user": {
            "displayName": "",
            "userId": ""
          }
        },
        "outputId": "91b4cf51-9bc7-4a02-a220-8489b9b5b4bb"
      },
      "execution_count": 19,
      "outputs": [
        {
          "output_type": "execute_result",
          "data": {
            "text/plain": [
              "<IPython.core.display.Markdown object>"
            ],
            "text/markdown": "![](data:image/jpg;base64,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 \"NetCDF Native Read and plot of Chlorophyll-A for the Gulf of Mexico's MS Bight region after merging data files, saving results to /content/folderOnColab/007a_netcdf.jpg.\")"
          },
          "metadata": {},
          "execution_count": 19
        },
        {
          "output_type": "display_data",
          "data": {
            "text/plain": [
              "\n",
              "\n"
            ],
            "text/html": [
              "<pre style=\"white-space:pre;overflow-x:auto;line-height:normal;font-family:Menlo,'DejaVu Sans Mono',consolas,'Courier New',monospace\">\n",
              "\n",
              "</pre>\n"
            ]
          },
          "metadata": {}
        },
        {
          "output_type": "display_data",
          "data": {
            "text/plain": [
              "NetCDF Native Read and plot of Chlorophyll-A for the Gulf of Mexico's MS Bight region after merging data files, \n",
              "saving results to \u001b[35m/content/folderOnColab/\u001b[0m\u001b[95m007a_netcdf.jpg.\u001b[0m\n"
            ],
            "text/html": [
              "<pre style=\"white-space:pre;overflow-x:auto;line-height:normal;font-family:Menlo,'DejaVu Sans Mono',consolas,'Courier New',monospace\">NetCDF Native Read and plot of Chlorophyll-A for the Gulf of Mexico's MS Bight region after merging data files, \n",
              "saving results to <span style=\"color: #800080; text-decoration-color: #800080\">/content/folderOnColab/</span><span style=\"color: #ff00ff; text-decoration-color: #ff00ff\">007a_netcdf.jpg.</span>\n",
              "</pre>\n"
            ]
          },
          "metadata": {}
        }
      ]
    },
    {
      "cell_type": "markdown",
      "metadata": {
        "id": "JJqae9Sa6lpj"
      },
      "source": [
        "## Get a Quick view of the data (Xarray libs)"
      ]
    },
    {
      "cell_type": "code",
      "execution_count": 20,
      "metadata": {
        "colab": {
          "base_uri": "https://localhost:8080/",
          "height": 63
        },
        "id": "IR6wXzZP6lpj",
        "executionInfo": {
          "status": "ok",
          "timestamp": 1738789874547,
          "user_tz": 360,
          "elapsed": 399,
          "user": {
            "displayName": "",
            "userId": ""
          }
        },
        "outputId": "9d943685-1a38-4daa-b918-08e1b0b83c1a"
      },
      "outputs": [
        {
          "output_type": "display_data",
          "data": {
            "text/plain": [
              "Next display is a Xarray Native Read, of the NetCDF, and plot of Chlorophyll-A for the Gulf of Mexico's MS Bight \n",
              "region after merging data files, saving results to \u001b[35m/content/folderOnColab/\u001b[0m\u001b[95m007a_xarray.jpg.\u001b[0m\n"
            ],
            "text/html": [
              "<pre style=\"white-space:pre;overflow-x:auto;line-height:normal;font-family:Menlo,'DejaVu Sans Mono',consolas,'Courier New',monospace\">Next display is a Xarray Native Read, of the NetCDF, and plot of Chlorophyll-A for the Gulf of Mexico's MS Bight \n",
              "region after merging data files, saving results to <span style=\"color: #800080; text-decoration-color: #800080\">/content/folderOnColab/</span><span style=\"color: #ff00ff; text-decoration-color: #ff00ff\">007a_xarray.jpg.</span>\n",
              "</pre>\n"
            ]
          },
          "metadata": {}
        }
      ],
      "source": [
        "matplt.use('Agg')\n",
        "\n",
        "from matplotlib import pyplot as plt\n",
        "fig, axes = plt.subplots(figsize=(FIGURE_WIDTH,FIGURE_HEIGHT));\n",
        "\n",
        "# Save the plot to a file that can be pulled up at a later date.\n",
        "target_filename=target_folder+os.sep+f\"007a_xarray{IMG_EXT}\";\n",
        "\n",
        "# Create ALT text describing the image.\n",
        "caption_text=f\"Xarray Native Read, of the NetCDF, and plot of Chlorophyll-A for the Gulf of Mexico's MS Bight region after merging data files, saving results to {target_filename}.\";\n",
        "\n",
        "#notice the indexing of the array [time, depth, lat, lon], the \":\" means everything\n",
        "plt.imshow(the_xarray[\"chlor_a\"][0][0][:][:],cmap='nipy_spectral')\n",
        "\n",
        "plt.savefig(target_filename);\n",
        "add_alt_text(target_folder+os.sep+f\"007a_xarray{IMG_EXT}\", caption_text);\n",
        "rprint(\"Next display is a \" + caption_text);\n"
      ]
    },
    {
      "cell_type": "code",
      "source": [
        "# Display Section 508 compliant image on the scrren with ALT text\n",
        "try:\n",
        "  make_accessible(plt, jinja2.Template(caption_text), len=len)\n",
        "  rprint(\"\\n\")\n",
        "  rprint(caption_text)\n",
        "except (NameError, Exception) as e:\n",
        "  process_exception(e)"
      ],
      "metadata": {
        "colab": {
          "base_uri": "https://localhost:8080/",
          "height": 966
        },
        "id": "v7LMO7z79CFr",
        "executionInfo": {
          "status": "ok",
          "timestamp": 1738789890906,
          "user_tz": 360,
          "elapsed": 393,
          "user": {
            "displayName": "",
            "userId": ""
          }
        },
        "outputId": "88a98850-9575-4e55-c6d4-7e2496432587"
      },
      "execution_count": 21,
      "outputs": [
        {
          "output_type": "execute_result",
          "data": {
            "text/plain": [
              "<IPython.core.display.Markdown object>"
            ],
            "text/markdown": "![](data:image/jpg;base64,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 \"Xarray Native Read, of the NetCDF, and plot of Chlorophyll-A for the Gulf of Mexico's MS Bight region after merging data files, saving results to /content/folderOnColab/007a_xarray.jpg.\")"
          },
          "metadata": {},
          "execution_count": 21
        },
        {
          "output_type": "display_data",
          "data": {
            "text/plain": [
              "\n",
              "\n"
            ],
            "text/html": [
              "<pre style=\"white-space:pre;overflow-x:auto;line-height:normal;font-family:Menlo,'DejaVu Sans Mono',consolas,'Courier New',monospace\">\n",
              "\n",
              "</pre>\n"
            ]
          },
          "metadata": {}
        },
        {
          "output_type": "display_data",
          "data": {
            "text/plain": [
              "Xarray Native Read, of the NetCDF, and plot of Chlorophyll-A for the Gulf of Mexico's MS Bight region after merging\n",
              "data files, saving results to \u001b[35m/content/folderOnColab/\u001b[0m\u001b[95m007a_xarray.jpg.\u001b[0m\n"
            ],
            "text/html": [
              "<pre style=\"white-space:pre;overflow-x:auto;line-height:normal;font-family:Menlo,'DejaVu Sans Mono',consolas,'Courier New',monospace\">Xarray Native Read, of the NetCDF, and plot of Chlorophyll-A for the Gulf of Mexico's MS Bight region after merging\n",
              "data files, saving results to <span style=\"color: #800080; text-decoration-color: #800080\">/content/folderOnColab/</span><span style=\"color: #ff00ff; text-decoration-color: #ff00ff\">007a_xarray.jpg.</span>\n",
              "</pre>\n"
            ]
          },
          "metadata": {}
        }
      ]
    },
    {
      "cell_type": "markdown",
      "metadata": {
        "id": "ePFh5EiF6lpj"
      },
      "source": [
        "## Pandas Integration (this is why you use Xarray)"
      ]
    },
    {
      "cell_type": "code",
      "execution_count": 22,
      "metadata": {
        "id": "rzoT4NCJ6lpj",
        "executionInfo": {
          "status": "ok",
          "timestamp": 1738789904892,
          "user_tz": 360,
          "elapsed": 439,
          "user": {
            "displayName": "",
            "userId": ""
          }
        }
      },
      "outputs": [],
      "source": [
        "df=the_xarray.to_dataframe()"
      ]
    },
    {
      "cell_type": "code",
      "execution_count": 23,
      "metadata": {
        "colab": {
          "base_uri": "https://localhost:8080/",
          "height": 425
        },
        "id": "0qSpo1Tj6lpj",
        "executionInfo": {
          "status": "ok",
          "timestamp": 1738789906458,
          "user_tz": 360,
          "elapsed": 2,
          "user": {
            "displayName": "",
            "userId": ""
          }
        },
        "outputId": "8aa2370e-b3d9-4d57-cd89-0bec5f3e0cd3"
      },
      "outputs": [
        {
          "output_type": "execute_result",
          "data": {
            "text/plain": [
              "                                   chlor_a\n",
              "lon      lat     depth time               \n",
              "-90.5000 31.0000 1.0   2020-01-09      NaN\n",
              "                 2.0   2020-01-09      NaN\n",
              "                 3.0   2020-01-09      NaN\n",
              "                 4.0   2020-01-09      NaN\n",
              "                 5.0   2020-01-09      NaN\n",
              "...                                    ...\n",
              "-84.4978 28.3833 25.0  2020-01-09   0.3237\n",
              "                 26.0  2020-01-09   0.3237\n",
              "                 27.0  2020-01-09   0.3237\n",
              "                 28.0  2020-01-09   0.3237\n",
              "                 29.0  2020-01-09   0.3237"
            ],
            "text/html": [
              "\n",
              "  <div id=\"df-6f9fcb02-b63d-4e17-bb64-44c9cb0091bf\" class=\"colab-df-container\">\n",
              "    <div>\n",
              "<style scoped>\n",
              "    .dataframe tbody tr th:only-of-type {\n",
              "        vertical-align: middle;\n",
              "    }\n",
              "\n",
              "    .dataframe tbody tr th {\n",
              "        vertical-align: top;\n",
              "    }\n",
              "\n",
              "    .dataframe thead th {\n",
              "        text-align: right;\n",
              "    }\n",
              "</style>\n",
              "<table border=\"1\" class=\"dataframe\">\n",
              "  <thead>\n",
              "    <tr style=\"text-align: right;\">\n",
              "      <th></th>\n",
              "      <th></th>\n",
              "      <th></th>\n",
              "      <th></th>\n",
              "      <th>chlor_a</th>\n",
              "    </tr>\n",
              "    <tr>\n",
              "      <th>lon</th>\n",
              "      <th>lat</th>\n",
              "      <th>depth</th>\n",
              "      <th>time</th>\n",
              "      <th></th>\n",
              "    </tr>\n",
              "  </thead>\n",
              "  <tbody>\n",
              "    <tr>\n",
              "      <th rowspan=\"5\" valign=\"top\">-90.5000</th>\n",
              "      <th rowspan=\"5\" valign=\"top\">31.0000</th>\n",
              "      <th>1.0</th>\n",
              "      <th>2020-01-09</th>\n",
              "      <td>NaN</td>\n",
              "    </tr>\n",
              "    <tr>\n",
              "      <th>2.0</th>\n",
              "      <th>2020-01-09</th>\n",
              "      <td>NaN</td>\n",
              "    </tr>\n",
              "    <tr>\n",
              "      <th>3.0</th>\n",
              "      <th>2020-01-09</th>\n",
              "      <td>NaN</td>\n",
              "    </tr>\n",
              "    <tr>\n",
              "      <th>4.0</th>\n",
              "      <th>2020-01-09</th>\n",
              "      <td>NaN</td>\n",
              "    </tr>\n",
              "    <tr>\n",
              "      <th>5.0</th>\n",
              "      <th>2020-01-09</th>\n",
              "      <td>NaN</td>\n",
              "    </tr>\n",
              "    <tr>\n",
              "      <th>...</th>\n",
              "      <th>...</th>\n",
              "      <th>...</th>\n",
              "      <th>...</th>\n",
              "      <td>...</td>\n",
              "    </tr>\n",
              "    <tr>\n",
              "      <th rowspan=\"5\" valign=\"top\">-84.4978</th>\n",
              "      <th rowspan=\"5\" valign=\"top\">28.3833</th>\n",
              "      <th>25.0</th>\n",
              "      <th>2020-01-09</th>\n",
              "      <td>0.3237</td>\n",
              "    </tr>\n",
              "    <tr>\n",
              "      <th>26.0</th>\n",
              "      <th>2020-01-09</th>\n",
              "      <td>0.3237</td>\n",
              "    </tr>\n",
              "    <tr>\n",
              "      <th>27.0</th>\n",
              "      <th>2020-01-09</th>\n",
              "      <td>0.3237</td>\n",
              "    </tr>\n",
              "    <tr>\n",
              "      <th>28.0</th>\n",
              "      <th>2020-01-09</th>\n",
              "      <td>0.3237</td>\n",
              "    </tr>\n",
              "    <tr>\n",
              "      <th>29.0</th>\n",
              "      <th>2020-01-09</th>\n",
              "      <td>0.3237</td>\n",
              "    </tr>\n",
              "  </tbody>\n",
              "</table>\n",
              "</div>\n",
              "    <div class=\"colab-df-buttons\">\n",
              "\n",
              "  <div class=\"colab-df-container\">\n",
              "    <button class=\"colab-df-convert\" onclick=\"convertToInteractive('df-6f9fcb02-b63d-4e17-bb64-44c9cb0091bf')\"\n",
              "            title=\"Convert this dataframe to an interactive table.\"\n",
              "            style=\"display:none;\">\n",
              "\n",
              "  <svg xmlns=\"http://www.w3.org/2000/svg\" height=\"24px\" viewBox=\"0 -960 960 960\">\n",
              "    <path d=\"M120-120v-720h720v720H120Zm60-500h600v-160H180v160Zm220 220h160v-160H400v160Zm0 220h160v-160H400v160ZM180-400h160v-160H180v160Zm440 0h160v-160H620v160ZM180-180h160v-160H180v160Zm440 0h160v-160H620v160Z\"/>\n",
              "  </svg>\n",
              "    </button>\n",
              "\n",
              "  <style>\n",
              "    .colab-df-container {\n",
              "      display:flex;\n",
              "      gap: 12px;\n",
              "    }\n",
              "\n",
              "    .colab-df-convert {\n",
              "      background-color: #E8F0FE;\n",
              "      border: none;\n",
              "      border-radius: 50%;\n",
              "      cursor: pointer;\n",
              "      display: none;\n",
              "      fill: #1967D2;\n",
              "      height: 32px;\n",
              "      padding: 0 0 0 0;\n",
              "      width: 32px;\n",
              "    }\n",
              "\n",
              "    .colab-df-convert:hover {\n",
              "      background-color: #E2EBFA;\n",
              "      box-shadow: 0px 1px 2px rgba(60, 64, 67, 0.3), 0px 1px 3px 1px rgba(60, 64, 67, 0.15);\n",
              "      fill: #174EA6;\n",
              "    }\n",
              "\n",
              "    .colab-df-buttons div {\n",
              "      margin-bottom: 4px;\n",
              "    }\n",
              "\n",
              "    [theme=dark] .colab-df-convert {\n",
              "      background-color: #3B4455;\n",
              "      fill: #D2E3FC;\n",
              "    }\n",
              "\n",
              "    [theme=dark] .colab-df-convert:hover {\n",
              "      background-color: #434B5C;\n",
              "      box-shadow: 0px 1px 3px 1px rgba(0, 0, 0, 0.15);\n",
              "      filter: drop-shadow(0px 1px 2px rgba(0, 0, 0, 0.3));\n",
              "      fill: #FFFFFF;\n",
              "    }\n",
              "  </style>\n",
              "\n",
              "    <script>\n",
              "      const buttonEl =\n",
              "        document.querySelector('#df-6f9fcb02-b63d-4e17-bb64-44c9cb0091bf button.colab-df-convert');\n",
              "      buttonEl.style.display =\n",
              "        google.colab.kernel.accessAllowed ? 'block' : 'none';\n",
              "\n",
              "      async function convertToInteractive(key) {\n",
              "        const element = document.querySelector('#df-6f9fcb02-b63d-4e17-bb64-44c9cb0091bf');\n",
              "        const dataTable =\n",
              "          await google.colab.kernel.invokeFunction('convertToInteractive',\n",
              "                                                    [key], {});\n",
              "        if (!dataTable) return;\n",
              "\n",
              "        const docLinkHtml = 'Like what you see? Visit the ' +\n",
              "          '<a target=\"_blank\" href=https://colab.research.google.com/notebooks/data_table.ipynb>data table notebook</a>'\n",
              "          + ' to learn more about interactive tables.';\n",
              "        element.innerHTML = '';\n",
              "        dataTable['output_type'] = 'display_data';\n",
              "        await google.colab.output.renderOutput(dataTable, element);\n",
              "        const docLink = document.createElement('div');\n",
              "        docLink.innerHTML = docLinkHtml;\n",
              "        element.appendChild(docLink);\n",
              "      }\n",
              "    </script>\n",
              "  </div>\n",
              "\n",
              "\n",
              "<div id=\"df-26110425-29b4-46e4-8044-31023943a7c6\">\n",
              "  <button class=\"colab-df-quickchart\" onclick=\"quickchart('df-26110425-29b4-46e4-8044-31023943a7c6')\"\n",
              "            title=\"Suggest charts\"\n",
              "            style=\"display:none;\">\n",
              "\n",
              "<svg xmlns=\"http://www.w3.org/2000/svg\" height=\"24px\"viewBox=\"0 0 24 24\"\n",
              "     width=\"24px\">\n",
              "    <g>\n",
              "        <path d=\"M19 3H5c-1.1 0-2 .9-2 2v14c0 1.1.9 2 2 2h14c1.1 0 2-.9 2-2V5c0-1.1-.9-2-2-2zM9 17H7v-7h2v7zm4 0h-2V7h2v10zm4 0h-2v-4h2v4z\"/>\n",
              "    </g>\n",
              "</svg>\n",
              "  </button>\n",
              "\n",
              "<style>\n",
              "  .colab-df-quickchart {\n",
              "      --bg-color: #E8F0FE;\n",
              "      --fill-color: #1967D2;\n",
              "      --hover-bg-color: #E2EBFA;\n",
              "      --hover-fill-color: #174EA6;\n",
              "      --disabled-fill-color: #AAA;\n",
              "      --disabled-bg-color: #DDD;\n",
              "  }\n",
              "\n",
              "  [theme=dark] .colab-df-quickchart {\n",
              "      --bg-color: #3B4455;\n",
              "      --fill-color: #D2E3FC;\n",
              "      --hover-bg-color: #434B5C;\n",
              "      --hover-fill-color: #FFFFFF;\n",
              "      --disabled-bg-color: #3B4455;\n",
              "      --disabled-fill-color: #666;\n",
              "  }\n",
              "\n",
              "  .colab-df-quickchart {\n",
              "    background-color: var(--bg-color);\n",
              "    border: none;\n",
              "    border-radius: 50%;\n",
              "    cursor: pointer;\n",
              "    display: none;\n",
              "    fill: var(--fill-color);\n",
              "    height: 32px;\n",
              "    padding: 0;\n",
              "    width: 32px;\n",
              "  }\n",
              "\n",
              "  .colab-df-quickchart:hover {\n",
              "    background-color: var(--hover-bg-color);\n",
              "    box-shadow: 0 1px 2px rgba(60, 64, 67, 0.3), 0 1px 3px 1px rgba(60, 64, 67, 0.15);\n",
              "    fill: var(--button-hover-fill-color);\n",
              "  }\n",
              "\n",
              "  .colab-df-quickchart-complete:disabled,\n",
              "  .colab-df-quickchart-complete:disabled:hover {\n",
              "    background-color: var(--disabled-bg-color);\n",
              "    fill: var(--disabled-fill-color);\n",
              "    box-shadow: none;\n",
              "  }\n",
              "\n",
              "  .colab-df-spinner {\n",
              "    border: 2px solid var(--fill-color);\n",
              "    border-color: transparent;\n",
              "    border-bottom-color: var(--fill-color);\n",
              "    animation:\n",
              "      spin 1s steps(1) infinite;\n",
              "  }\n",
              "\n",
              "  @keyframes spin {\n",
              "    0% {\n",
              "      border-color: transparent;\n",
              "      border-bottom-color: var(--fill-color);\n",
              "      border-left-color: var(--fill-color);\n",
              "    }\n",
              "    20% {\n",
              "      border-color: transparent;\n",
              "      border-left-color: var(--fill-color);\n",
              "      border-top-color: var(--fill-color);\n",
              "    }\n",
              "    30% {\n",
              "      border-color: transparent;\n",
              "      border-left-color: var(--fill-color);\n",
              "      border-top-color: var(--fill-color);\n",
              "      border-right-color: var(--fill-color);\n",
              "    }\n",
              "    40% {\n",
              "      border-color: transparent;\n",
              "      border-right-color: var(--fill-color);\n",
              "      border-top-color: var(--fill-color);\n",
              "    }\n",
              "    60% {\n",
              "      border-color: transparent;\n",
              "      border-right-color: var(--fill-color);\n",
              "    }\n",
              "    80% {\n",
              "      border-color: transparent;\n",
              "      border-right-color: var(--fill-color);\n",
              "      border-bottom-color: var(--fill-color);\n",
              "    }\n",
              "    90% {\n",
              "      border-color: transparent;\n",
              "      border-bottom-color: var(--fill-color);\n",
              "    }\n",
              "  }\n",
              "</style>\n",
              "\n",
              "  <script>\n",
              "    async function quickchart(key) {\n",
              "      const quickchartButtonEl =\n",
              "        document.querySelector('#' + key + ' button');\n",
              "      quickchartButtonEl.disabled = true;  // To prevent multiple clicks.\n",
              "      quickchartButtonEl.classList.add('colab-df-spinner');\n",
              "      try {\n",
              "        const charts = await google.colab.kernel.invokeFunction(\n",
              "            'suggestCharts', [key], {});\n",
              "      } catch (error) {\n",
              "        console.error('Error during call to suggestCharts:', error);\n",
              "      }\n",
              "      quickchartButtonEl.classList.remove('colab-df-spinner');\n",
              "      quickchartButtonEl.classList.add('colab-df-quickchart-complete');\n",
              "    }\n",
              "    (() => {\n",
              "      let quickchartButtonEl =\n",
              "        document.querySelector('#df-26110425-29b4-46e4-8044-31023943a7c6 button');\n",
              "      quickchartButtonEl.style.display =\n",
              "        google.colab.kernel.accessAllowed ? 'block' : 'none';\n",
              "    })();\n",
              "  </script>\n",
              "</div>\n",
              "\n",
              "  <div id=\"id_37a134fd-f8ea-49fc-9f11-c5c110cc1fab\">\n",
              "    <style>\n",
              "      .colab-df-generate {\n",
              "        background-color: #E8F0FE;\n",
              "        border: none;\n",
              "        border-radius: 50%;\n",
              "        cursor: pointer;\n",
              "        display: none;\n",
              "        fill: #1967D2;\n",
              "        height: 32px;\n",
              "        padding: 0 0 0 0;\n",
              "        width: 32px;\n",
              "      }\n",
              "\n",
              "      .colab-df-generate:hover {\n",
              "        background-color: #E2EBFA;\n",
              "        box-shadow: 0px 1px 2px rgba(60, 64, 67, 0.3), 0px 1px 3px 1px rgba(60, 64, 67, 0.15);\n",
              "        fill: #174EA6;\n",
              "      }\n",
              "\n",
              "      [theme=dark] .colab-df-generate {\n",
              "        background-color: #3B4455;\n",
              "        fill: #D2E3FC;\n",
              "      }\n",
              "\n",
              "      [theme=dark] .colab-df-generate:hover {\n",
              "        background-color: #434B5C;\n",
              "        box-shadow: 0px 1px 3px 1px rgba(0, 0, 0, 0.15);\n",
              "        filter: drop-shadow(0px 1px 2px rgba(0, 0, 0, 0.3));\n",
              "        fill: #FFFFFF;\n",
              "      }\n",
              "    </style>\n",
              "    <button class=\"colab-df-generate\" onclick=\"generateWithVariable('df')\"\n",
              "            title=\"Generate code using this dataframe.\"\n",
              "            style=\"display:none;\">\n",
              "\n",
              "  <svg xmlns=\"http://www.w3.org/2000/svg\" height=\"24px\"viewBox=\"0 0 24 24\"\n",
              "       width=\"24px\">\n",
              "    <path d=\"M7,19H8.4L18.45,9,17,7.55,7,17.6ZM5,21V16.75L18.45,3.32a2,2,0,0,1,2.83,0l1.4,1.43a1.91,1.91,0,0,1,.58,1.4,1.91,1.91,0,0,1-.58,1.4L9.25,21ZM18.45,9,17,7.55Zm-12,3A5.31,5.31,0,0,0,4.9,8.1,5.31,5.31,0,0,0,1,6.5,5.31,5.31,0,0,0,4.9,4.9,5.31,5.31,0,0,0,6.5,1,5.31,5.31,0,0,0,8.1,4.9,5.31,5.31,0,0,0,12,6.5,5.46,5.46,0,0,0,6.5,12Z\"/>\n",
              "  </svg>\n",
              "    </button>\n",
              "    <script>\n",
              "      (() => {\n",
              "      const buttonEl =\n",
              "        document.querySelector('#id_37a134fd-f8ea-49fc-9f11-c5c110cc1fab button.colab-df-generate');\n",
              "      buttonEl.style.display =\n",
              "        google.colab.kernel.accessAllowed ? 'block' : 'none';\n",
              "\n",
              "      buttonEl.onclick = () => {\n",
              "        google.colab.notebook.generateWithVariable('df');\n",
              "      }\n",
              "      })();\n",
              "    </script>\n",
              "  </div>\n",
              "\n",
              "    </div>\n",
              "  </div>\n"
            ]
          },
          "metadata": {},
          "execution_count": 23
        }
      ],
      "source": [
        "#quick view to show what's inside\n",
        "df"
      ]
    },
    {
      "cell_type": "code",
      "execution_count": 25,
      "metadata": {
        "colab": {
          "base_uri": "https://localhost:8080/",
          "height": 99
        },
        "id": "34pECdCm6lpj",
        "executionInfo": {
          "status": "ok",
          "timestamp": 1738789976397,
          "user_tz": 360,
          "elapsed": 6,
          "user": {
            "displayName": "",
            "userId": ""
          }
        },
        "outputId": "3b688aec-2730-4158-d5f1-d9e35676d1d5"
      },
      "outputs": [
        {
          "output_type": "display_data",
          "data": {
            "text/plain": [
              "Closing out NetCDF files.\n"
            ],
            "text/html": [
              "<pre style=\"white-space:pre;overflow-x:auto;line-height:normal;font-family:Menlo,'DejaVu Sans Mono',consolas,'Courier New',monospace\">Closing out NetCDF files.\n",
              "</pre>\n"
            ]
          },
          "metadata": {}
        },
        {
          "output_type": "display_data",
          "data": {
            "text/plain": [
              "Closing NetCDF.\n"
            ],
            "text/html": [
              "<pre style=\"white-space:pre;overflow-x:auto;line-height:normal;font-family:Menlo,'DejaVu Sans Mono',consolas,'Courier New',monospace\">Closing NetCDF.\n",
              "</pre>\n"
            ]
          },
          "metadata": {}
        },
        {
          "output_type": "display_data",
          "data": {
            "text/plain": [
              "\u001b[1;35mRuntimeError\u001b[0m\u001b[1m(\u001b[0m\u001b[32m'NetCDF: Not a valid ID'\u001b[0m\u001b[1m)\u001b[0m\n"
            ],
            "text/html": [
              "<pre style=\"white-space:pre;overflow-x:auto;line-height:normal;font-family:Menlo,'DejaVu Sans Mono',consolas,'Courier New',monospace\"><span style=\"color: #800080; text-decoration-color: #800080; font-weight: bold\">RuntimeError</span><span style=\"font-weight: bold\">(</span><span style=\"color: #008000; text-decoration-color: #008000\">'NetCDF: Not a valid ID'</span><span style=\"font-weight: bold\">)</span>\n",
              "</pre>\n"
            ]
          },
          "metadata": {}
        },
        {
          "output_type": "display_data",
          "data": {
            "text/plain": [
              "Closing Xarray.\n"
            ],
            "text/html": [
              "<pre style=\"white-space:pre;overflow-x:auto;line-height:normal;font-family:Menlo,'DejaVu Sans Mono',consolas,'Courier New',monospace\">Closing Xarray.\n",
              "</pre>\n"
            ]
          },
          "metadata": {}
        },
        {
          "output_type": "display_data",
          "data": {
            "text/plain": [
              "Finished XARRAY-READER.\n"
            ],
            "text/html": [
              "<pre style=\"white-space:pre;overflow-x:auto;line-height:normal;font-family:Menlo,'DejaVu Sans Mono',consolas,'Courier New',monospace\">Finished XARRAY-READER.\n",
              "</pre>\n"
            ]
          },
          "metadata": {}
        }
      ],
      "source": [
        "#CLOSE ALL FILES\n",
        "rprint(\"Closing out NetCDF files.\")\n",
        "try:\n",
        "    rprint(\"Closing NetCDF.\")\n",
        "    the_netcdf.close()\n",
        "except Exception as e:\n",
        "    process_exception(e)\n",
        "\n",
        "try:\n",
        "    rprint(\"Closing Xarray.\")\n",
        "    the_xarray.close()\n",
        "except Exception as e:\n",
        "    process_exception(e)\n",
        "\n",
        "\n",
        "rprint(\"Finished \" + str(VERSION_NAME) + \".\")"
      ]
    },
    {
      "cell_type": "code",
      "source": [],
      "metadata": {
        "id": "7-ZOsmCr9VOZ"
      },
      "execution_count": null,
      "outputs": []
    }
  ],
  "metadata": {
    "kernelspec": {
      "display_name": "Python 3 (ipykernel)",
      "language": "python",
      "name": "python3"
    },
    "language_info": {
      "codemirror_mode": {
        "name": "ipython",
        "version": 3
      },
      "file_extension": ".py",
      "mimetype": "text/x-python",
      "name": "python",
      "nbconvert_exporter": "python",
      "pygments_lexer": "ipython3",
      "version": "3.9.15"
    },
    "colab": {
      "provenance": []
    }
  },
  "nbformat": 4,
  "nbformat_minor": 0
}