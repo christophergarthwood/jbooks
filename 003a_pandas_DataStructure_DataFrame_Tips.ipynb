{
 "cells": [
  {
   "cell_type": "markdown",
   "metadata": {},
   "source": [
    "# Jupyter Notebook Example using Pandas\n",
    "\n",
    "Early notebook with far less Markdown commentary than later notebooks but intention is to show use of Pandas through example.  Read the comments in the code itself for guidance.\n"
   ]
  },
  {
   "cell_type": "markdown",
   "metadata": {},
   "source": [
    "# DataFrame is a 2-dimensional labeled data structure with columns of potentially different types. You can think of it like a spreadsheet or SQL table, or a dict of Series objects. It is generally the most commonly used pandas object."
   ]
  },
  {
   "cell_type": "code",
   "execution_count": 5,
   "metadata": {},
   "outputs": [
    {
     "name": "stdout",
     "output_type": "stream",
     "text": [
      "Define a dictionary of Series, one with an integer and float array.\n",
      "################################################################################################################\n",
      "\n",
      "Transform that dictinary of Series into a DataFrame\n",
      "################################################################################################################\n",
      "Simply calling print on the data frame shows the contents as two columns, one for each dictionary element\n",
      "   array_one  array_two\n",
      "0          1        1.0\n",
      "1          2        2.0\n",
      "2          3        3.0\n",
      "3          4        4.0\n",
      "4          5        5.0\n",
      "5          6        6.0\n",
      "6          7        7.0\n",
      "7          8        8.0\n",
      "8          9        9.0\n",
      "\n",
      "Note that if the dictionaries are not the same size, they are uniond and 'NaN' padded for missing values.\n"
     ]
    }
   ],
   "source": [
    "#DataFrame is a 2-dimensional labeled data structure with columns of potentially different types. You can think of it like a spreadsheet or SQL table, or a dict of Series objects. It is generally the most commonly used pandas object.\n",
    "import pandas as pd\n",
    "\n",
    "print(\"Define a dictionary of Series, one with an integer and float array.\")\n",
    "print(\"################################################################################################################\")\n",
    "my_dictionary = {'array_one': pd.Series([1,2,3,4,5,6,7,8,9]),\n",
    "                 'array_two': pd.Series([1.0,2.0,3.0,4.0,5.0,6.0,7.0,8.0,9.0])}\n",
    "print(\"\")\n",
    "print(\"Transform that dictinary of Series into a DataFrame\")\n",
    "my_dataframe=pd.DataFrame(my_dictionary)\n",
    "\n",
    "print(\"################################################################################################################\")\n",
    "print(\"Simply calling print on the data frame shows the contents as two columns, one for each dictionary element\")\n",
    "print(my_dataframe)\n",
    "print(\"\")\n",
    "print(\"Note that if the dictionaries are not the same size, they are uniond and 'NaN' padded for missing values.\")\n",
    "\n",
    "            "
   ]
  },
  {
   "cell_type": "code",
   "execution_count": 6,
   "metadata": {},
   "outputs": [
    {
     "name": "stdout",
     "output_type": "stream",
     "text": [
      "Adding a column is as simple as declaring another dictionary element\n",
      "################################################################################################################\n",
      "\n",
      "After performing a multiplication of array_one and array_two, you should see an square floating point result\n",
      "################################################################################################################\n",
      "   array_one  array_two  array_three\n",
      "0          1        1.0          1.0\n",
      "1          2        2.0          4.0\n",
      "2          3        3.0          9.0\n",
      "3          4        4.0         16.0\n",
      "4          5        5.0         25.0\n",
      "5          6        6.0         36.0\n",
      "6          7        7.0         49.0\n",
      "7          8        8.0         64.0\n",
      "8          9        9.0         81.0\n",
      "\n",
      "Now we show algorithmic decisions for a 'flag' column for values that aren't even\n",
      "################################################################################################################\n",
      "   array_one  array_two  array_three   flag\n",
      "0          1        1.0          1.0   True\n",
      "1          2        2.0          4.0  False\n",
      "2          3        3.0          9.0   True\n",
      "3          4        4.0         16.0  False\n",
      "4          5        5.0         25.0   True\n",
      "5          6        6.0         36.0  False\n",
      "6          7        7.0         49.0   True\n",
      "7          8        8.0         64.0  False\n",
      "8          9        9.0         81.0   True\n",
      "\n",
      "Now we remove the 'flag' column\n",
      "################################################################################################################\n"
     ]
    },
    {
     "data": {
      "text/plain": [
       "0     True\n",
       "1    False\n",
       "2     True\n",
       "3    False\n",
       "4     True\n",
       "5    False\n",
       "6     True\n",
       "7    False\n",
       "8     True\n",
       "Name: flag, dtype: bool"
      ]
     },
     "execution_count": 6,
     "metadata": {},
     "output_type": "execute_result"
    }
   ],
   "source": [
    "print(\"Adding a column is as simple as declaring another dictionary element\")\n",
    "print(\"################################################################################################################\")\n",
    "my_dataframe['array_three']= my_dataframe['array_one'] * my_dataframe['array_two']\n",
    "print(\"\")\n",
    "print(\"After performing a multiplication of array_one and array_two, you should see an square floating point result\")\n",
    "print(\"################################################################################################################\")\n",
    "print(my_dataframe)\n",
    "print(\"\")\n",
    "print(\"Now we show algorithmic decisions for a 'flag' column for values that aren't even\")\n",
    "print(\"################################################################################################################\")\n",
    "my_dataframe['flag']=my_dataframe['array_three'] % 2 != 0\n",
    "print(my_dataframe)\n",
    "print(\"\")\n",
    "print(\"Now we remove the 'flag' column\")\n",
    "print(\"################################################################################################################\")\n",
    "my_dataframe.pop('flag')"
   ]
  },
  {
   "cell_type": "markdown",
   "metadata": {},
   "source": [
    "# Pro-tips for Pandas Use"
   ]
  },
  {
   "cell_type": "code",
   "execution_count": 9,
   "metadata": {},
   "outputs": [
    {
     "name": "stdout",
     "output_type": "stream",
     "text": [
      "Data has:Index(['array_one', 'array_two', 'array_three'], dtype='object')\n",
      "    size:27\n",
      "    shape:(9, 3)\n",
      "    ndim:2\n",
      "    column size:3\n"
     ]
    }
   ],
   "source": [
    "#examples of extracting data in various ways\n",
    "\n",
    "print(\"Data has:\" + str(my_dataframe.columns))\n",
    "print(\"    size:\" + str(my_dataframe.size))\n",
    "print(\"    shape:\" + str(my_dataframe.shape))\n",
    "print(\"    ndim:\" + str(my_dataframe.ndim))\n",
    "print(\"    column size:\" + str(my_dataframe.columns.size))\n"
   ]
  },
  {
   "cell_type": "markdown",
   "metadata": {},
   "source": [
    "# Data Science type description of your Pandas Dataframe"
   ]
  },
  {
   "cell_type": "code",
   "execution_count": 10,
   "metadata": {},
   "outputs": [
    {
     "name": "stdout",
     "output_type": "stream",
     "text": [
      "<class 'pandas.core.frame.DataFrame'>\n",
      "RangeIndex: 9 entries, 0 to 8\n",
      "Data columns (total 3 columns):\n",
      " #   Column       Non-Null Count  Dtype  \n",
      "---  ------       --------------  -----  \n",
      " 0   array_one    9 non-null      int64  \n",
      " 1   array_two    9 non-null      float64\n",
      " 2   array_three  9 non-null      float64\n",
      "dtypes: float64(2), int64(1)\n",
      "memory usage: 344.0 bytes\n"
     ]
    }
   ],
   "source": [
    "my_dataframe.info()"
   ]
  },
  {
   "cell_type": "markdown",
   "metadata": {},
   "source": [
    "# Just show the top records"
   ]
  },
  {
   "cell_type": "code",
   "execution_count": 11,
   "metadata": {},
   "outputs": [
    {
     "data": {
      "text/html": [
       "<div>\n",
       "<style scoped>\n",
       "    .dataframe tbody tr th:only-of-type {\n",
       "        vertical-align: middle;\n",
       "    }\n",
       "\n",
       "    .dataframe tbody tr th {\n",
       "        vertical-align: top;\n",
       "    }\n",
       "\n",
       "    .dataframe thead th {\n",
       "        text-align: right;\n",
       "    }\n",
       "</style>\n",
       "<table border=\"1\" class=\"dataframe\">\n",
       "  <thead>\n",
       "    <tr style=\"text-align: right;\">\n",
       "      <th></th>\n",
       "      <th>array_one</th>\n",
       "      <th>array_two</th>\n",
       "      <th>array_three</th>\n",
       "    </tr>\n",
       "  </thead>\n",
       "  <tbody>\n",
       "    <tr>\n",
       "      <th>0</th>\n",
       "      <td>1</td>\n",
       "      <td>1.0</td>\n",
       "      <td>1.0</td>\n",
       "    </tr>\n",
       "    <tr>\n",
       "      <th>1</th>\n",
       "      <td>2</td>\n",
       "      <td>2.0</td>\n",
       "      <td>4.0</td>\n",
       "    </tr>\n",
       "  </tbody>\n",
       "</table>\n",
       "</div>"
      ],
      "text/plain": [
       "   array_one  array_two  array_three\n",
       "0          1        1.0          1.0\n",
       "1          2        2.0          4.0"
      ]
     },
     "execution_count": 11,
     "metadata": {},
     "output_type": "execute_result"
    }
   ],
   "source": [
    "my_dataframe.head(2)"
   ]
  },
  {
   "cell_type": "markdown",
   "metadata": {},
   "source": [
    "# Or you can get an array of column names and a generic type returned"
   ]
  },
  {
   "cell_type": "code",
   "execution_count": 12,
   "metadata": {},
   "outputs": [
    {
     "name": "stdout",
     "output_type": "stream",
     "text": [
      "Index(['array_one', 'array_two', 'array_three'], dtype='object')\n"
     ]
    }
   ],
   "source": [
    "#show column header names.\n",
    "print(my_dataframe.columns)"
   ]
  },
  {
   "cell_type": "markdown",
   "metadata": {},
   "source": [
    "# Want Stats...Pandas has them"
   ]
  },
  {
   "cell_type": "code",
   "execution_count": 13,
   "metadata": {},
   "outputs": [
    {
     "data": {
      "text/html": [
       "<div>\n",
       "<style scoped>\n",
       "    .dataframe tbody tr th:only-of-type {\n",
       "        vertical-align: middle;\n",
       "    }\n",
       "\n",
       "    .dataframe tbody tr th {\n",
       "        vertical-align: top;\n",
       "    }\n",
       "\n",
       "    .dataframe thead th {\n",
       "        text-align: right;\n",
       "    }\n",
       "</style>\n",
       "<table border=\"1\" class=\"dataframe\">\n",
       "  <thead>\n",
       "    <tr style=\"text-align: right;\">\n",
       "      <th></th>\n",
       "      <th>array_one</th>\n",
       "      <th>array_two</th>\n",
       "      <th>array_three</th>\n",
       "    </tr>\n",
       "  </thead>\n",
       "  <tbody>\n",
       "    <tr>\n",
       "      <th>count</th>\n",
       "      <td>9.000000</td>\n",
       "      <td>9.000000</td>\n",
       "      <td>9.000000</td>\n",
       "    </tr>\n",
       "    <tr>\n",
       "      <th>mean</th>\n",
       "      <td>5.000000</td>\n",
       "      <td>5.000000</td>\n",
       "      <td>31.666667</td>\n",
       "    </tr>\n",
       "    <tr>\n",
       "      <th>std</th>\n",
       "      <td>2.738613</td>\n",
       "      <td>2.738613</td>\n",
       "      <td>28.080242</td>\n",
       "    </tr>\n",
       "    <tr>\n",
       "      <th>min</th>\n",
       "      <td>1.000000</td>\n",
       "      <td>1.000000</td>\n",
       "      <td>1.000000</td>\n",
       "    </tr>\n",
       "    <tr>\n",
       "      <th>25%</th>\n",
       "      <td>3.000000</td>\n",
       "      <td>3.000000</td>\n",
       "      <td>9.000000</td>\n",
       "    </tr>\n",
       "    <tr>\n",
       "      <th>50%</th>\n",
       "      <td>5.000000</td>\n",
       "      <td>5.000000</td>\n",
       "      <td>25.000000</td>\n",
       "    </tr>\n",
       "    <tr>\n",
       "      <th>75%</th>\n",
       "      <td>7.000000</td>\n",
       "      <td>7.000000</td>\n",
       "      <td>49.000000</td>\n",
       "    </tr>\n",
       "    <tr>\n",
       "      <th>max</th>\n",
       "      <td>9.000000</td>\n",
       "      <td>9.000000</td>\n",
       "      <td>81.000000</td>\n",
       "    </tr>\n",
       "  </tbody>\n",
       "</table>\n",
       "</div>"
      ],
      "text/plain": [
       "       array_one  array_two  array_three\n",
       "count   9.000000   9.000000     9.000000\n",
       "mean    5.000000   5.000000    31.666667\n",
       "std     2.738613   2.738613    28.080242\n",
       "min     1.000000   1.000000     1.000000\n",
       "25%     3.000000   3.000000     9.000000\n",
       "50%     5.000000   5.000000    25.000000\n",
       "75%     7.000000   7.000000    49.000000\n",
       "max     9.000000   9.000000    81.000000"
      ]
     },
     "execution_count": 13,
     "metadata": {},
     "output_type": "execute_result"
    }
   ],
   "source": [
    "my_dataframe.describe()"
   ]
  },
  {
   "cell_type": "markdown",
   "metadata": {},
   "source": [
    "# Column name changes are a joke\n",
    "\n",
    "## Just remember that the old columns will remain so you'll want to remove them"
   ]
  },
  {
   "cell_type": "code",
   "execution_count": 14,
   "metadata": {},
   "outputs": [],
   "source": [
    "my_dataframe['A_new_column'] = my_dataframe['array_one'] * 10"
   ]
  },
  {
   "cell_type": "code",
   "execution_count": 15,
   "metadata": {},
   "outputs": [
    {
     "data": {
      "text/html": [
       "<div>\n",
       "<style scoped>\n",
       "    .dataframe tbody tr th:only-of-type {\n",
       "        vertical-align: middle;\n",
       "    }\n",
       "\n",
       "    .dataframe tbody tr th {\n",
       "        vertical-align: top;\n",
       "    }\n",
       "\n",
       "    .dataframe thead th {\n",
       "        text-align: right;\n",
       "    }\n",
       "</style>\n",
       "<table border=\"1\" class=\"dataframe\">\n",
       "  <thead>\n",
       "    <tr style=\"text-align: right;\">\n",
       "      <th></th>\n",
       "      <th>array_one</th>\n",
       "      <th>array_two</th>\n",
       "      <th>array_three</th>\n",
       "      <th>A_new_column</th>\n",
       "    </tr>\n",
       "  </thead>\n",
       "  <tbody>\n",
       "    <tr>\n",
       "      <th>count</th>\n",
       "      <td>9.000000</td>\n",
       "      <td>9.000000</td>\n",
       "      <td>9.000000</td>\n",
       "      <td>9.000000</td>\n",
       "    </tr>\n",
       "    <tr>\n",
       "      <th>mean</th>\n",
       "      <td>5.000000</td>\n",
       "      <td>5.000000</td>\n",
       "      <td>31.666667</td>\n",
       "      <td>50.000000</td>\n",
       "    </tr>\n",
       "    <tr>\n",
       "      <th>std</th>\n",
       "      <td>2.738613</td>\n",
       "      <td>2.738613</td>\n",
       "      <td>28.080242</td>\n",
       "      <td>27.386128</td>\n",
       "    </tr>\n",
       "    <tr>\n",
       "      <th>min</th>\n",
       "      <td>1.000000</td>\n",
       "      <td>1.000000</td>\n",
       "      <td>1.000000</td>\n",
       "      <td>10.000000</td>\n",
       "    </tr>\n",
       "    <tr>\n",
       "      <th>25%</th>\n",
       "      <td>3.000000</td>\n",
       "      <td>3.000000</td>\n",
       "      <td>9.000000</td>\n",
       "      <td>30.000000</td>\n",
       "    </tr>\n",
       "    <tr>\n",
       "      <th>50%</th>\n",
       "      <td>5.000000</td>\n",
       "      <td>5.000000</td>\n",
       "      <td>25.000000</td>\n",
       "      <td>50.000000</td>\n",
       "    </tr>\n",
       "    <tr>\n",
       "      <th>75%</th>\n",
       "      <td>7.000000</td>\n",
       "      <td>7.000000</td>\n",
       "      <td>49.000000</td>\n",
       "      <td>70.000000</td>\n",
       "    </tr>\n",
       "    <tr>\n",
       "      <th>max</th>\n",
       "      <td>9.000000</td>\n",
       "      <td>9.000000</td>\n",
       "      <td>81.000000</td>\n",
       "      <td>90.000000</td>\n",
       "    </tr>\n",
       "  </tbody>\n",
       "</table>\n",
       "</div>"
      ],
      "text/plain": [
       "       array_one  array_two  array_three  A_new_column\n",
       "count   9.000000   9.000000     9.000000      9.000000\n",
       "mean    5.000000   5.000000    31.666667     50.000000\n",
       "std     2.738613   2.738613    28.080242     27.386128\n",
       "min     1.000000   1.000000     1.000000     10.000000\n",
       "25%     3.000000   3.000000     9.000000     30.000000\n",
       "50%     5.000000   5.000000    25.000000     50.000000\n",
       "75%     7.000000   7.000000    49.000000     70.000000\n",
       "max     9.000000   9.000000    81.000000     90.000000"
      ]
     },
     "execution_count": 15,
     "metadata": {},
     "output_type": "execute_result"
    }
   ],
   "source": [
    "my_dataframe.describe()"
   ]
  },
  {
   "cell_type": "markdown",
   "metadata": {},
   "source": [
    "# Do we need to remove a column?"
   ]
  },
  {
   "cell_type": "code",
   "execution_count": 17,
   "metadata": {},
   "outputs": [],
   "source": [
    "my_dataframe.drop(columns=['A_new_column' ], inplace=True)"
   ]
  },
  {
   "cell_type": "code",
   "execution_count": 18,
   "metadata": {},
   "outputs": [
    {
     "data": {
      "text/html": [
       "<div>\n",
       "<style scoped>\n",
       "    .dataframe tbody tr th:only-of-type {\n",
       "        vertical-align: middle;\n",
       "    }\n",
       "\n",
       "    .dataframe tbody tr th {\n",
       "        vertical-align: top;\n",
       "    }\n",
       "\n",
       "    .dataframe thead th {\n",
       "        text-align: right;\n",
       "    }\n",
       "</style>\n",
       "<table border=\"1\" class=\"dataframe\">\n",
       "  <thead>\n",
       "    <tr style=\"text-align: right;\">\n",
       "      <th></th>\n",
       "      <th>array_one</th>\n",
       "      <th>array_two</th>\n",
       "      <th>array_three</th>\n",
       "    </tr>\n",
       "  </thead>\n",
       "  <tbody>\n",
       "    <tr>\n",
       "      <th>count</th>\n",
       "      <td>9.000000</td>\n",
       "      <td>9.000000</td>\n",
       "      <td>9.000000</td>\n",
       "    </tr>\n",
       "    <tr>\n",
       "      <th>mean</th>\n",
       "      <td>5.000000</td>\n",
       "      <td>5.000000</td>\n",
       "      <td>31.666667</td>\n",
       "    </tr>\n",
       "    <tr>\n",
       "      <th>std</th>\n",
       "      <td>2.738613</td>\n",
       "      <td>2.738613</td>\n",
       "      <td>28.080242</td>\n",
       "    </tr>\n",
       "    <tr>\n",
       "      <th>min</th>\n",
       "      <td>1.000000</td>\n",
       "      <td>1.000000</td>\n",
       "      <td>1.000000</td>\n",
       "    </tr>\n",
       "    <tr>\n",
       "      <th>25%</th>\n",
       "      <td>3.000000</td>\n",
       "      <td>3.000000</td>\n",
       "      <td>9.000000</td>\n",
       "    </tr>\n",
       "    <tr>\n",
       "      <th>50%</th>\n",
       "      <td>5.000000</td>\n",
       "      <td>5.000000</td>\n",
       "      <td>25.000000</td>\n",
       "    </tr>\n",
       "    <tr>\n",
       "      <th>75%</th>\n",
       "      <td>7.000000</td>\n",
       "      <td>7.000000</td>\n",
       "      <td>49.000000</td>\n",
       "    </tr>\n",
       "    <tr>\n",
       "      <th>max</th>\n",
       "      <td>9.000000</td>\n",
       "      <td>9.000000</td>\n",
       "      <td>81.000000</td>\n",
       "    </tr>\n",
       "  </tbody>\n",
       "</table>\n",
       "</div>"
      ],
      "text/plain": [
       "       array_one  array_two  array_three\n",
       "count   9.000000   9.000000     9.000000\n",
       "mean    5.000000   5.000000    31.666667\n",
       "std     2.738613   2.738613    28.080242\n",
       "min     1.000000   1.000000     1.000000\n",
       "25%     3.000000   3.000000     9.000000\n",
       "50%     5.000000   5.000000    25.000000\n",
       "75%     7.000000   7.000000    49.000000\n",
       "max     9.000000   9.000000    81.000000"
      ]
     },
     "execution_count": 18,
     "metadata": {},
     "output_type": "execute_result"
    }
   ],
   "source": [
    "my_dataframe.describe()"
   ]
  },
  {
   "cell_type": "markdown",
   "metadata": {},
   "source": [
    "# Example Lambda Expression and Bulk Modification"
   ]
  },
  {
   "cell_type": "code",
   "execution_count": 19,
   "metadata": {},
   "outputs": [],
   "source": [
    "#delete values for a very specific record\n",
    "#df['Annual_Zero'] = df.apply(lambda row: row.Annual - df.loc[0,'Annual'], axis=1)\n",
    "\n",
    "my_dataframe['array_one_ZERO'] = my_dataframe.apply(lambda row: row.array_one - row.array_one, axis=1)\n",
    "\n",
    "my_dataframe['array_one_MINUS_10_PERCENT'] = my_dataframe['array_one'] - (my_dataframe['array_one'] * 0.10)"
   ]
  },
  {
   "cell_type": "code",
   "execution_count": 20,
   "metadata": {},
   "outputs": [
    {
     "data": {
      "text/html": [
       "<div>\n",
       "<style scoped>\n",
       "    .dataframe tbody tr th:only-of-type {\n",
       "        vertical-align: middle;\n",
       "    }\n",
       "\n",
       "    .dataframe tbody tr th {\n",
       "        vertical-align: top;\n",
       "    }\n",
       "\n",
       "    .dataframe thead th {\n",
       "        text-align: right;\n",
       "    }\n",
       "</style>\n",
       "<table border=\"1\" class=\"dataframe\">\n",
       "  <thead>\n",
       "    <tr style=\"text-align: right;\">\n",
       "      <th></th>\n",
       "      <th>array_one</th>\n",
       "      <th>array_two</th>\n",
       "      <th>array_three</th>\n",
       "      <th>array_one_ZERO</th>\n",
       "      <th>array_one_MINUS_10_PERCENT</th>\n",
       "    </tr>\n",
       "  </thead>\n",
       "  <tbody>\n",
       "    <tr>\n",
       "      <th>count</th>\n",
       "      <td>9.000000</td>\n",
       "      <td>9.000000</td>\n",
       "      <td>9.000000</td>\n",
       "      <td>9.0</td>\n",
       "      <td>9.000000</td>\n",
       "    </tr>\n",
       "    <tr>\n",
       "      <th>mean</th>\n",
       "      <td>5.000000</td>\n",
       "      <td>5.000000</td>\n",
       "      <td>31.666667</td>\n",
       "      <td>0.0</td>\n",
       "      <td>4.500000</td>\n",
       "    </tr>\n",
       "    <tr>\n",
       "      <th>std</th>\n",
       "      <td>2.738613</td>\n",
       "      <td>2.738613</td>\n",
       "      <td>28.080242</td>\n",
       "      <td>0.0</td>\n",
       "      <td>2.464752</td>\n",
       "    </tr>\n",
       "    <tr>\n",
       "      <th>min</th>\n",
       "      <td>1.000000</td>\n",
       "      <td>1.000000</td>\n",
       "      <td>1.000000</td>\n",
       "      <td>0.0</td>\n",
       "      <td>0.900000</td>\n",
       "    </tr>\n",
       "    <tr>\n",
       "      <th>25%</th>\n",
       "      <td>3.000000</td>\n",
       "      <td>3.000000</td>\n",
       "      <td>9.000000</td>\n",
       "      <td>0.0</td>\n",
       "      <td>2.700000</td>\n",
       "    </tr>\n",
       "    <tr>\n",
       "      <th>50%</th>\n",
       "      <td>5.000000</td>\n",
       "      <td>5.000000</td>\n",
       "      <td>25.000000</td>\n",
       "      <td>0.0</td>\n",
       "      <td>4.500000</td>\n",
       "    </tr>\n",
       "    <tr>\n",
       "      <th>75%</th>\n",
       "      <td>7.000000</td>\n",
       "      <td>7.000000</td>\n",
       "      <td>49.000000</td>\n",
       "      <td>0.0</td>\n",
       "      <td>6.300000</td>\n",
       "    </tr>\n",
       "    <tr>\n",
       "      <th>max</th>\n",
       "      <td>9.000000</td>\n",
       "      <td>9.000000</td>\n",
       "      <td>81.000000</td>\n",
       "      <td>0.0</td>\n",
       "      <td>8.100000</td>\n",
       "    </tr>\n",
       "  </tbody>\n",
       "</table>\n",
       "</div>"
      ],
      "text/plain": [
       "       array_one  array_two  array_three  array_one_ZERO  \\\n",
       "count   9.000000   9.000000     9.000000             9.0   \n",
       "mean    5.000000   5.000000    31.666667             0.0   \n",
       "std     2.738613   2.738613    28.080242             0.0   \n",
       "min     1.000000   1.000000     1.000000             0.0   \n",
       "25%     3.000000   3.000000     9.000000             0.0   \n",
       "50%     5.000000   5.000000    25.000000             0.0   \n",
       "75%     7.000000   7.000000    49.000000             0.0   \n",
       "max     9.000000   9.000000    81.000000             0.0   \n",
       "\n",
       "       array_one_MINUS_10_PERCENT  \n",
       "count                    9.000000  \n",
       "mean                     4.500000  \n",
       "std                      2.464752  \n",
       "min                      0.900000  \n",
       "25%                      2.700000  \n",
       "50%                      4.500000  \n",
       "75%                      6.300000  \n",
       "max                      8.100000  "
      ]
     },
     "execution_count": 20,
     "metadata": {},
     "output_type": "execute_result"
    }
   ],
   "source": [
    "my_dataframe.describe()"
   ]
  }
 ],
 "metadata": {
  "kernelspec": {
   "display_name": "Python 3 (ipykernel)",
   "language": "python",
   "name": "python3"
  },
  "language_info": {
   "codemirror_mode": {
    "name": "ipython",
    "version": 3
   },
   "file_extension": ".py",
   "mimetype": "text/x-python",
   "name": "python",
   "nbconvert_exporter": "python",
   "pygments_lexer": "ipython3",
   "version": "3.9.15"
  }
 },
 "nbformat": 4,
 "nbformat_minor": 4
}
