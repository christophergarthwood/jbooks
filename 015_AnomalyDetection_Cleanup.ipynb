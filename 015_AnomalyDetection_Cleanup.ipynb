{
 "cells": [
  {
   "cell_type": "markdown",
   "metadata": {},
   "source": [
    "# Identifiying Multivariate Outliers using Machine Learning Algorithms"
   ]
  },
  {
   "cell_type": "markdown",
   "metadata": {},
   "source": [
    "### Introduction"
   ]
  },
  {
   "cell_type": "markdown",
   "metadata": {},
   "source": [
    "Built by Alea Dorsey-Tyler leveraging [DataCamp's Anomaly Detection Course](https://www.datacamp.com/courses/anomaly-detection-in-python). It's highly recommended to read [Introduction to Anomaly Detection]( https://www.datacamp.com/tutorial/introduction-to-anomaly-detection) and [pyOD's Outlier Detection 101](https://pyod.readthedocs.io/en/latest/relevant_knowledge.html) before starting. \n",
    "\n",
    "This tool can be used during data preparation to identify anomalies that may be outliers. These potential outliers are identified based on a combined probability score produced by the multiple instances of the [Isolation Forest](https://en.wikipedia.org/wiki/Isolation_forest), [K Nearest Neighbor (KNN)](https://en.wikipedia.org/wiki/K-nearest_neighbors_algorithm#k-NN_outlier), and [Local Outlier Factor (LOF)](https://en.wikipedia.org/wiki/Local_outlier_factor) statistical models.  "
   ]
  },
  {
   "cell_type": "markdown",
   "metadata": {},
   "source": [
    "### Downloading Libraries"
   ]
  },
  {
   "cell_type": "markdown",
   "metadata": {},
   "source": [
    "To begin, ensure you have the necessary libraries installed and loaded. This tool relies primarily on the [PyOD library](https://pyod.readthedocs.io/en/latest/index.html) and [Scikit-Learn](https://scikit-learn.org/stable/index.html), but we've also included [StatsModels Seasonal_Decompose](https://www.statsmodels.org/dev/generated/statsmodels.tsa.seasonal.seasonal_decompose.html) which can check the dataset for seasonality."
   ]
  },
  {
   "cell_type": "markdown",
   "metadata": {},
   "source": [
    "import pandas as pd\n",
    "import numpy as np\n",
    "import matplotlib.pyplot as plt\n",
    "\n",
    "from sklearn.preprocessing import OrdinalEncoder\n",
    "from sklearn.preprocessing import QuantileTransformer\n",
    "\n",
    "from statsmodels.tsa.seasonal import seasonal_decompose\n",
    "\n",
    "from pyod.models.knn import KNN\n",
    "from pyod.models.iforest import IForest\n",
    "from pyod.models.lof import LOF"
   ]
  },
  {
   "cell_type": "code",
   "execution_count": 13,
   "metadata": {},
   "outputs": [],
   "source": [
    "############################################\n",
    "# INCLUDES\n",
    "############################################\n",
    "#libraries specific to this example\n",
    "import numpy as np\n",
    "import pandas as pd\n",
    "import scipy as sp\n",
    "from sklearn.linear_model import LinearRegression\n",
    "import matplotlib as matplt\n",
    "import matplotlib.pyplot as plt\n",
    "\n",
    "#a set of libraries that perhaps should always be in Python source\n",
    "import os \n",
    "import datetime\n",
    "import sys\n",
    "import gc\n",
    "import getopt\n",
    "import inspect\n",
    "import math\n",
    "import warnings\n",
    "\n",
    "#a darn useful library for creating paths and one I recommend you load to your environment\n",
    "from pathlib import Path\n",
    "\n",
    "#Import a custom library, in this case a fairly useful logging framework\n",
    "if os.environ.get('LIB_LOCATION') is not None:\n",
    "    debug_lib_location = Path(os.getenv('LIB_LOCATION'))\n",
    "else:\n",
    "    debug_lib_location = Path(\"./\")\n",
    "                              \n",
    "if os.environ.get('DATA_LOCATION') is not None:\n",
    "    root_location = os.getenv('DATA_LOCATION')\n",
    "else:\n",
    "    root_location=\".\" + os.sep + \"data\";                              \n",
    "\n",
    "sys.path.append(str(debug_lib_location))\n",
    "import debug"
   ]
  },
  {
   "cell_type": "markdown",
   "metadata": {},
   "source": [
    "### Pandas / Numpy Format Management"
   ]
  },
  {
   "cell_type": "code",
   "execution_count": 15,
   "metadata": {},
   "outputs": [],
   "source": [
    "############################################\n",
    "#JUPYTER NOTEBOOK OUTPUT CONTROL / FORMATTING\n",
    "############################################\n",
    "#pandas set floating point to 4 places to things don't run loose\n",
    "pd.options.display.float_format = '{:,.4f}'.format\n",
    "np.set_printoptions(precision=4)"
   ]
  },
  {
   "cell_type": "markdown",
   "metadata": {},
   "source": [
    "### Know Library Versions"
   ]
  },
  {
   "cell_type": "code",
   "execution_count": 16,
   "metadata": {},
   "outputs": [],
   "source": [
    "def lib_diagnostics():\n",
    "    debug.msg_debug(\"System version    #:{:>12}\".format(sys.version))\n",
    "    debug.msg_debug(\"Matplotlib version#:{:>12}\".format(matplt.__version__))\n",
    "    debug.msg_debug(\"Numpy version     #:{:>12}\".format(np.__version__))\n",
    "    debug.msg_debug(\"Pandas version    #:{:>12}\".format(pd.__version__))\n",
    "    debug.msg_debug(\"SciPy version     #:{:>12}\".format(sp.__version__))\n",
    "\n",
    "    return"
   ]
  },
  {
   "cell_type": "code",
   "execution_count": 17,
   "metadata": {},
   "outputs": [
    {
     "name": "stdout",
     "output_type": "stream",
     "text": [
      "[2024-05-15 21:39:37 UTC]   DEBUG: System version    #:3.9.18 | packaged by conda-forge | (main, Aug 30 2023, 03:49:32) \n",
      "[GCC 12.3.0] \n",
      "[2024-05-15 21:39:37 UTC]   DEBUG: Matplotlib version#:       3.8.1 \n",
      "[2024-05-15 21:39:37 UTC]   DEBUG: Numpy version     #:      1.24.3 \n",
      "[2024-05-15 21:39:37 UTC]   DEBUG: Pandas version    #:       2.1.2 \n",
      "[2024-05-15 21:39:37 UTC]   DEBUG: SciPy version     #:      1.11.3 \n"
     ]
    }
   ],
   "source": [
    "lib_diagnostics()"
   ]
  },
  {
   "cell_type": "markdown",
   "metadata": {},
   "source": [
    "### Identifying the Source Data"
   ]
  },
  {
   "cell_type": "markdown",
   "metadata": {},
   "source": [
    "In the following code block, import your data into a dataframe. If implementing this tool into an existing process, note that this tool will be converting datatypes and scaling all numeric variables to a normal distribution. It's advised to make a copy of the dataframe solely for the identification of anomalies so that further analysis can be done on their properties, source, etc."
   ]
  },
  {
   "cell_type": "code",
   "execution_count": 18,
   "metadata": {},
   "outputs": [],
   "source": [
    "# Importing from a file\n",
    "#path = r'C:\\Users\\AleaDorseyTyler\\OneDrive - USDA\\Desktop\\Alea Detail\\CIO Detail\\Prompt Injection\\Data Sources\\VENICE_VIIRS_PICKLE_VENICE_VIIRS_2.csv'\n",
    "#df = pd.read_csv(path, parse_dates=[\"Datetime\"], index_col = \"Index\")\n",
    "\n",
    "#READ DATA IN\n",
    "the_filename = \"/projects/data/intro_data/MULTIVARIATE/ISIIS_1_BigCam_TT_5JUL23.csv\"\n",
    "the_delimiter= \",\"\n",
    "#filename = os.path.join(root_location, \"mooring_data.txt\")\n",
    "\n",
    "if os.path.isfile(the_filename):\n",
    "    try:\n",
    "        df=pd.read_csv(the_filename, delimiter=the_delimiter, engine='python')\n",
    "        df_anom = df.copy()\n",
    "    except OSError as e:\n",
    "        debug.msg_error(f\"Exception found: {e}\")\n",
    "        debug.msg_error(f\"Unable to filename ({fname}) in code at {__name__}.{inspect.stack()[0][3]}.\")  #note fname provided by Exception OSError\n",
    "        debug.msg_error(\"Please check your paths and restart.\")   \n",
    "else:\n",
    "    debug.msg_error(f\"Unable to filename ({the_filename}) in code at {__name__}.{inspect.stack()[0][3]}.\")\n",
    "    debug.msg_error(\"Please check your paths and restart.\")\n"
   ]
  },
  {
   "cell_type": "markdown",
   "metadata": {},
   "source": [
    "### Know Your DataSet"
   ]
  },
  {
   "cell_type": "code",
   "execution_count": 19,
   "metadata": {},
   "outputs": [
    {
     "data": {
      "text/html": [
       "<div>\n",
       "<style scoped>\n",
       "    .dataframe tbody tr th:only-of-type {\n",
       "        vertical-align: middle;\n",
       "    }\n",
       "\n",
       "    .dataframe tbody tr th {\n",
       "        vertical-align: top;\n",
       "    }\n",
       "\n",
       "    .dataframe thead th {\n",
       "        text-align: right;\n",
       "    }\n",
       "</style>\n",
       "<table border=\"1\" class=\"dataframe\">\n",
       "  <thead>\n",
       "    <tr style=\"text-align: right;\">\n",
       "      <th></th>\n",
       "      <th>Time</th>\n",
       "      <th>Pres(dbar)</th>\n",
       "      <th>Temp(C)</th>\n",
       "      <th>Cond(S/m)</th>\n",
       "      <th>Sal(PSU)</th>\n",
       "      <th>c399.3</th>\n",
       "      <th>c402.8</th>\n",
       "      <th>c406.2</th>\n",
       "      <th>c409.8</th>\n",
       "      <th>c413.2</th>\n",
       "      <th>...</th>\n",
       "      <th>Chla435nm</th>\n",
       "      <th>Chlbc454nm</th>\n",
       "      <th>Chlb469nm</th>\n",
       "      <th>PPC492nm</th>\n",
       "      <th>PSC523nm</th>\n",
       "      <th>Chlc585nm</th>\n",
       "      <th>Chla617nm</th>\n",
       "      <th>Chlc639nm</th>\n",
       "      <th>Chla661nm</th>\n",
       "      <th>Chla675nm</th>\n",
       "    </tr>\n",
       "  </thead>\n",
       "  <tbody>\n",
       "    <tr>\n",
       "      <th>0</th>\n",
       "      <td>28-Apr-2018 01:02:29.696</td>\n",
       "      <td>1.1710</td>\n",
       "      <td>9.8797</td>\n",
       "      <td>3.5408</td>\n",
       "      <td>32.3758</td>\n",
       "      <td>1.5288</td>\n",
       "      <td>1.4982</td>\n",
       "      <td>1.4640</td>\n",
       "      <td>1.4241</td>\n",
       "      <td>1.3887</td>\n",
       "      <td>...</td>\n",
       "      <td>0.0066</td>\n",
       "      <td>0.0006</td>\n",
       "      <td>0.0012</td>\n",
       "      <td>0.0058</td>\n",
       "      <td>0.0004</td>\n",
       "      <td>0.0000</td>\n",
       "      <td>0.0000</td>\n",
       "      <td>0.0005</td>\n",
       "      <td>0.0003</td>\n",
       "      <td>0.0104</td>\n",
       "    </tr>\n",
       "    <tr>\n",
       "      <th>1</th>\n",
       "      <td>28-Apr-2018 01:02:29.821</td>\n",
       "      <td>1.1559</td>\n",
       "      <td>9.8791</td>\n",
       "      <td>3.5408</td>\n",
       "      <td>32.3769</td>\n",
       "      <td>1.5838</td>\n",
       "      <td>1.5598</td>\n",
       "      <td>1.5046</td>\n",
       "      <td>1.4800</td>\n",
       "      <td>1.4469</td>\n",
       "      <td>...</td>\n",
       "      <td>0.0066</td>\n",
       "      <td>0.0006</td>\n",
       "      <td>0.0012</td>\n",
       "      <td>0.0058</td>\n",
       "      <td>0.0004</td>\n",
       "      <td>0.0000</td>\n",
       "      <td>0.0000</td>\n",
       "      <td>0.0005</td>\n",
       "      <td>0.0003</td>\n",
       "      <td>0.0104</td>\n",
       "    </tr>\n",
       "    <tr>\n",
       "      <th>2</th>\n",
       "      <td>28-Apr-2018 01:02:29.940</td>\n",
       "      <td>1.1683</td>\n",
       "      <td>9.8775</td>\n",
       "      <td>3.5407</td>\n",
       "      <td>32.3766</td>\n",
       "      <td>1.5596</td>\n",
       "      <td>1.5390</td>\n",
       "      <td>1.4889</td>\n",
       "      <td>1.4558</td>\n",
       "      <td>1.4211</td>\n",
       "      <td>...</td>\n",
       "      <td>0.0066</td>\n",
       "      <td>0.0006</td>\n",
       "      <td>0.0012</td>\n",
       "      <td>0.0058</td>\n",
       "      <td>0.0004</td>\n",
       "      <td>0.0000</td>\n",
       "      <td>0.0000</td>\n",
       "      <td>0.0005</td>\n",
       "      <td>0.0003</td>\n",
       "      <td>0.0104</td>\n",
       "    </tr>\n",
       "    <tr>\n",
       "      <th>3</th>\n",
       "      <td>28-Apr-2018 01:02:30.047</td>\n",
       "      <td>1.1796</td>\n",
       "      <td>9.8768</td>\n",
       "      <td>3.5406</td>\n",
       "      <td>32.3762</td>\n",
       "      <td>1.5299</td>\n",
       "      <td>1.5094</td>\n",
       "      <td>1.4670</td>\n",
       "      <td>1.4235</td>\n",
       "      <td>1.3878</td>\n",
       "      <td>...</td>\n",
       "      <td>0.0066</td>\n",
       "      <td>0.0006</td>\n",
       "      <td>0.0012</td>\n",
       "      <td>0.0058</td>\n",
       "      <td>0.0004</td>\n",
       "      <td>0.0000</td>\n",
       "      <td>0.0000</td>\n",
       "      <td>0.0005</td>\n",
       "      <td>0.0003</td>\n",
       "      <td>0.0104</td>\n",
       "    </tr>\n",
       "    <tr>\n",
       "      <th>4</th>\n",
       "      <td>28-Apr-2018 01:02:30.158</td>\n",
       "      <td>1.1781</td>\n",
       "      <td>9.8770</td>\n",
       "      <td>3.5406</td>\n",
       "      <td>32.3764</td>\n",
       "      <td>1.5277</td>\n",
       "      <td>1.5061</td>\n",
       "      <td>1.4638</td>\n",
       "      <td>1.4187</td>\n",
       "      <td>1.3836</td>\n",
       "      <td>...</td>\n",
       "      <td>0.0066</td>\n",
       "      <td>0.0006</td>\n",
       "      <td>0.0012</td>\n",
       "      <td>0.0058</td>\n",
       "      <td>0.0004</td>\n",
       "      <td>0.0000</td>\n",
       "      <td>0.0000</td>\n",
       "      <td>0.0005</td>\n",
       "      <td>0.0003</td>\n",
       "      <td>0.0104</td>\n",
       "    </tr>\n",
       "    <tr>\n",
       "      <th>...</th>\n",
       "      <td>...</td>\n",
       "      <td>...</td>\n",
       "      <td>...</td>\n",
       "      <td>...</td>\n",
       "      <td>...</td>\n",
       "      <td>...</td>\n",
       "      <td>...</td>\n",
       "      <td>...</td>\n",
       "      <td>...</td>\n",
       "      <td>...</td>\n",
       "      <td>...</td>\n",
       "      <td>...</td>\n",
       "      <td>...</td>\n",
       "      <td>...</td>\n",
       "      <td>...</td>\n",
       "      <td>...</td>\n",
       "      <td>...</td>\n",
       "      <td>...</td>\n",
       "      <td>...</td>\n",
       "      <td>...</td>\n",
       "      <td>...</td>\n",
       "    </tr>\n",
       "    <tr>\n",
       "      <th>235574</th>\n",
       "      <td>28-Apr-2018 08:43:18.959</td>\n",
       "      <td>0.9225</td>\n",
       "      <td>9.6446</td>\n",
       "      <td>3.5920</td>\n",
       "      <td>33.1121</td>\n",
       "      <td>1.0068</td>\n",
       "      <td>0.9760</td>\n",
       "      <td>0.9396</td>\n",
       "      <td>0.9036</td>\n",
       "      <td>0.8712</td>\n",
       "      <td>...</td>\n",
       "      <td>0.0067</td>\n",
       "      <td>0.0008</td>\n",
       "      <td>0.0014</td>\n",
       "      <td>0.0087</td>\n",
       "      <td>0.0004</td>\n",
       "      <td>0.0000</td>\n",
       "      <td>0.0000</td>\n",
       "      <td>0.0008</td>\n",
       "      <td>0.0003</td>\n",
       "      <td>0.0158</td>\n",
       "    </tr>\n",
       "    <tr>\n",
       "      <th>235575</th>\n",
       "      <td>28-Apr-2018 08:43:19.086</td>\n",
       "      <td>0.9477</td>\n",
       "      <td>9.6443</td>\n",
       "      <td>3.5919</td>\n",
       "      <td>33.1119</td>\n",
       "      <td>1.0078</td>\n",
       "      <td>0.9759</td>\n",
       "      <td>0.9441</td>\n",
       "      <td>0.9034</td>\n",
       "      <td>0.8757</td>\n",
       "      <td>...</td>\n",
       "      <td>0.0067</td>\n",
       "      <td>0.0008</td>\n",
       "      <td>0.0014</td>\n",
       "      <td>0.0087</td>\n",
       "      <td>0.0004</td>\n",
       "      <td>0.0000</td>\n",
       "      <td>0.0000</td>\n",
       "      <td>0.0008</td>\n",
       "      <td>0.0003</td>\n",
       "      <td>0.0158</td>\n",
       "    </tr>\n",
       "    <tr>\n",
       "      <th>235576</th>\n",
       "      <td>28-Apr-2018 08:43:19.193</td>\n",
       "      <td>0.9580</td>\n",
       "      <td>9.6439</td>\n",
       "      <td>3.5919</td>\n",
       "      <td>33.1119</td>\n",
       "      <td>1.0032</td>\n",
       "      <td>0.9794</td>\n",
       "      <td>0.9457</td>\n",
       "      <td>0.9089</td>\n",
       "      <td>0.8784</td>\n",
       "      <td>...</td>\n",
       "      <td>0.0067</td>\n",
       "      <td>0.0008</td>\n",
       "      <td>0.0014</td>\n",
       "      <td>0.0087</td>\n",
       "      <td>0.0004</td>\n",
       "      <td>0.0000</td>\n",
       "      <td>0.0000</td>\n",
       "      <td>0.0008</td>\n",
       "      <td>0.0003</td>\n",
       "      <td>0.0159</td>\n",
       "    </tr>\n",
       "    <tr>\n",
       "      <th>235577</th>\n",
       "      <td>28-Apr-2018 08:43:19.308</td>\n",
       "      <td>0.9755</td>\n",
       "      <td>9.6435</td>\n",
       "      <td>3.5918</td>\n",
       "      <td>33.1117</td>\n",
       "      <td>1.0039</td>\n",
       "      <td>0.9787</td>\n",
       "      <td>0.9466</td>\n",
       "      <td>0.9096</td>\n",
       "      <td>0.8792</td>\n",
       "      <td>...</td>\n",
       "      <td>0.0067</td>\n",
       "      <td>0.0008</td>\n",
       "      <td>0.0014</td>\n",
       "      <td>0.0087</td>\n",
       "      <td>0.0004</td>\n",
       "      <td>0.0000</td>\n",
       "      <td>0.0000</td>\n",
       "      <td>0.0008</td>\n",
       "      <td>0.0003</td>\n",
       "      <td>0.0159</td>\n",
       "    </tr>\n",
       "    <tr>\n",
       "      <th>235578</th>\n",
       "      <td>28-Apr-2018 08:43:19.413</td>\n",
       "      <td>0.9935</td>\n",
       "      <td>9.6429</td>\n",
       "      <td>3.5918</td>\n",
       "      <td>33.1115</td>\n",
       "      <td>1.0014</td>\n",
       "      <td>0.9831</td>\n",
       "      <td>0.9411</td>\n",
       "      <td>0.9044</td>\n",
       "      <td>0.8740</td>\n",
       "      <td>...</td>\n",
       "      <td>0.0068</td>\n",
       "      <td>0.0008</td>\n",
       "      <td>0.0014</td>\n",
       "      <td>0.0087</td>\n",
       "      <td>0.0004</td>\n",
       "      <td>0.0000</td>\n",
       "      <td>0.0000</td>\n",
       "      <td>0.0008</td>\n",
       "      <td>0.0003</td>\n",
       "      <td>0.0160</td>\n",
       "    </tr>\n",
       "  </tbody>\n",
       "</table>\n",
       "<p>235579 rows × 224 columns</p>\n",
       "</div>"
      ],
      "text/plain": [
       "                            Time  Pres(dbar)  Temp(C)  Cond(S/m)  Sal(PSU)  \\\n",
       "0       28-Apr-2018 01:02:29.696      1.1710   9.8797     3.5408   32.3758   \n",
       "1       28-Apr-2018 01:02:29.821      1.1559   9.8791     3.5408   32.3769   \n",
       "2       28-Apr-2018 01:02:29.940      1.1683   9.8775     3.5407   32.3766   \n",
       "3       28-Apr-2018 01:02:30.047      1.1796   9.8768     3.5406   32.3762   \n",
       "4       28-Apr-2018 01:02:30.158      1.1781   9.8770     3.5406   32.3764   \n",
       "...                          ...         ...      ...        ...       ...   \n",
       "235574  28-Apr-2018 08:43:18.959      0.9225   9.6446     3.5920   33.1121   \n",
       "235575  28-Apr-2018 08:43:19.086      0.9477   9.6443     3.5919   33.1119   \n",
       "235576  28-Apr-2018 08:43:19.193      0.9580   9.6439     3.5919   33.1119   \n",
       "235577  28-Apr-2018 08:43:19.308      0.9755   9.6435     3.5918   33.1117   \n",
       "235578  28-Apr-2018 08:43:19.413      0.9935   9.6429     3.5918   33.1115   \n",
       "\n",
       "        c399.3  c402.8  c406.2  c409.8  c413.2  ...  Chla435nm  Chlbc454nm  \\\n",
       "0       1.5288  1.4982  1.4640  1.4241  1.3887  ...     0.0066      0.0006   \n",
       "1       1.5838  1.5598  1.5046  1.4800  1.4469  ...     0.0066      0.0006   \n",
       "2       1.5596  1.5390  1.4889  1.4558  1.4211  ...     0.0066      0.0006   \n",
       "3       1.5299  1.5094  1.4670  1.4235  1.3878  ...     0.0066      0.0006   \n",
       "4       1.5277  1.5061  1.4638  1.4187  1.3836  ...     0.0066      0.0006   \n",
       "...        ...     ...     ...     ...     ...  ...        ...         ...   \n",
       "235574  1.0068  0.9760  0.9396  0.9036  0.8712  ...     0.0067      0.0008   \n",
       "235575  1.0078  0.9759  0.9441  0.9034  0.8757  ...     0.0067      0.0008   \n",
       "235576  1.0032  0.9794  0.9457  0.9089  0.8784  ...     0.0067      0.0008   \n",
       "235577  1.0039  0.9787  0.9466  0.9096  0.8792  ...     0.0067      0.0008   \n",
       "235578  1.0014  0.9831  0.9411  0.9044  0.8740  ...     0.0068      0.0008   \n",
       "\n",
       "        Chlb469nm  PPC492nm  PSC523nm  Chlc585nm  Chla617nm  Chlc639nm  \\\n",
       "0          0.0012    0.0058    0.0004     0.0000     0.0000     0.0005   \n",
       "1          0.0012    0.0058    0.0004     0.0000     0.0000     0.0005   \n",
       "2          0.0012    0.0058    0.0004     0.0000     0.0000     0.0005   \n",
       "3          0.0012    0.0058    0.0004     0.0000     0.0000     0.0005   \n",
       "4          0.0012    0.0058    0.0004     0.0000     0.0000     0.0005   \n",
       "...           ...       ...       ...        ...        ...        ...   \n",
       "235574     0.0014    0.0087    0.0004     0.0000     0.0000     0.0008   \n",
       "235575     0.0014    0.0087    0.0004     0.0000     0.0000     0.0008   \n",
       "235576     0.0014    0.0087    0.0004     0.0000     0.0000     0.0008   \n",
       "235577     0.0014    0.0087    0.0004     0.0000     0.0000     0.0008   \n",
       "235578     0.0014    0.0087    0.0004     0.0000     0.0000     0.0008   \n",
       "\n",
       "        Chla661nm  Chla675nm  \n",
       "0          0.0003     0.0104  \n",
       "1          0.0003     0.0104  \n",
       "2          0.0003     0.0104  \n",
       "3          0.0003     0.0104  \n",
       "4          0.0003     0.0104  \n",
       "...           ...        ...  \n",
       "235574     0.0003     0.0158  \n",
       "235575     0.0003     0.0158  \n",
       "235576     0.0003     0.0159  \n",
       "235577     0.0003     0.0159  \n",
       "235578     0.0003     0.0160  \n",
       "\n",
       "[235579 rows x 224 columns]"
      ]
     },
     "execution_count": 19,
     "metadata": {},
     "output_type": "execute_result"
    }
   ],
   "source": [
    "df"
   ]
  },
  {
   "cell_type": "markdown",
   "metadata": {},
   "source": [
    "### Head"
   ]
  },
  {
   "cell_type": "code",
   "execution_count": 23,
   "metadata": {
    "scrolled": true
   },
   "outputs": [
    {
     "data": {
      "text/html": [
       "<div>\n",
       "<style scoped>\n",
       "    .dataframe tbody tr th:only-of-type {\n",
       "        vertical-align: middle;\n",
       "    }\n",
       "\n",
       "    .dataframe tbody tr th {\n",
       "        vertical-align: top;\n",
       "    }\n",
       "\n",
       "    .dataframe thead th {\n",
       "        text-align: right;\n",
       "    }\n",
       "</style>\n",
       "<table border=\"1\" class=\"dataframe\">\n",
       "  <thead>\n",
       "    <tr style=\"text-align: right;\">\n",
       "      <th></th>\n",
       "      <th>Time</th>\n",
       "      <th>Pres(dbar)</th>\n",
       "      <th>Temp(C)</th>\n",
       "      <th>Cond(S/m)</th>\n",
       "      <th>Sal(PSU)</th>\n",
       "      <th>c399.3</th>\n",
       "      <th>c402.8</th>\n",
       "      <th>c406.2</th>\n",
       "      <th>c409.8</th>\n",
       "      <th>c413.2</th>\n",
       "      <th>...</th>\n",
       "      <th>Chla435nm</th>\n",
       "      <th>Chlbc454nm</th>\n",
       "      <th>Chlb469nm</th>\n",
       "      <th>PPC492nm</th>\n",
       "      <th>PSC523nm</th>\n",
       "      <th>Chlc585nm</th>\n",
       "      <th>Chla617nm</th>\n",
       "      <th>Chlc639nm</th>\n",
       "      <th>Chla661nm</th>\n",
       "      <th>Chla675nm</th>\n",
       "    </tr>\n",
       "  </thead>\n",
       "  <tbody>\n",
       "    <tr>\n",
       "      <th>0</th>\n",
       "      <td>28-Apr-2018 01:02:29.696</td>\n",
       "      <td>1.1710</td>\n",
       "      <td>9.8797</td>\n",
       "      <td>3.5408</td>\n",
       "      <td>32.3758</td>\n",
       "      <td>1.5288</td>\n",
       "      <td>1.4982</td>\n",
       "      <td>1.4640</td>\n",
       "      <td>1.4241</td>\n",
       "      <td>1.3887</td>\n",
       "      <td>...</td>\n",
       "      <td>0.0066</td>\n",
       "      <td>0.0006</td>\n",
       "      <td>0.0012</td>\n",
       "      <td>0.0058</td>\n",
       "      <td>0.0004</td>\n",
       "      <td>0.0000</td>\n",
       "      <td>0.0000</td>\n",
       "      <td>0.0005</td>\n",
       "      <td>0.0003</td>\n",
       "      <td>0.0104</td>\n",
       "    </tr>\n",
       "    <tr>\n",
       "      <th>1</th>\n",
       "      <td>28-Apr-2018 01:02:29.821</td>\n",
       "      <td>1.1559</td>\n",
       "      <td>9.8791</td>\n",
       "      <td>3.5408</td>\n",
       "      <td>32.3769</td>\n",
       "      <td>1.5838</td>\n",
       "      <td>1.5598</td>\n",
       "      <td>1.5046</td>\n",
       "      <td>1.4800</td>\n",
       "      <td>1.4469</td>\n",
       "      <td>...</td>\n",
       "      <td>0.0066</td>\n",
       "      <td>0.0006</td>\n",
       "      <td>0.0012</td>\n",
       "      <td>0.0058</td>\n",
       "      <td>0.0004</td>\n",
       "      <td>0.0000</td>\n",
       "      <td>0.0000</td>\n",
       "      <td>0.0005</td>\n",
       "      <td>0.0003</td>\n",
       "      <td>0.0104</td>\n",
       "    </tr>\n",
       "    <tr>\n",
       "      <th>2</th>\n",
       "      <td>28-Apr-2018 01:02:29.940</td>\n",
       "      <td>1.1683</td>\n",
       "      <td>9.8775</td>\n",
       "      <td>3.5407</td>\n",
       "      <td>32.3766</td>\n",
       "      <td>1.5596</td>\n",
       "      <td>1.5390</td>\n",
       "      <td>1.4889</td>\n",
       "      <td>1.4558</td>\n",
       "      <td>1.4211</td>\n",
       "      <td>...</td>\n",
       "      <td>0.0066</td>\n",
       "      <td>0.0006</td>\n",
       "      <td>0.0012</td>\n",
       "      <td>0.0058</td>\n",
       "      <td>0.0004</td>\n",
       "      <td>0.0000</td>\n",
       "      <td>0.0000</td>\n",
       "      <td>0.0005</td>\n",
       "      <td>0.0003</td>\n",
       "      <td>0.0104</td>\n",
       "    </tr>\n",
       "    <tr>\n",
       "      <th>3</th>\n",
       "      <td>28-Apr-2018 01:02:30.047</td>\n",
       "      <td>1.1796</td>\n",
       "      <td>9.8768</td>\n",
       "      <td>3.5406</td>\n",
       "      <td>32.3762</td>\n",
       "      <td>1.5299</td>\n",
       "      <td>1.5094</td>\n",
       "      <td>1.4670</td>\n",
       "      <td>1.4235</td>\n",
       "      <td>1.3878</td>\n",
       "      <td>...</td>\n",
       "      <td>0.0066</td>\n",
       "      <td>0.0006</td>\n",
       "      <td>0.0012</td>\n",
       "      <td>0.0058</td>\n",
       "      <td>0.0004</td>\n",
       "      <td>0.0000</td>\n",
       "      <td>0.0000</td>\n",
       "      <td>0.0005</td>\n",
       "      <td>0.0003</td>\n",
       "      <td>0.0104</td>\n",
       "    </tr>\n",
       "    <tr>\n",
       "      <th>4</th>\n",
       "      <td>28-Apr-2018 01:02:30.158</td>\n",
       "      <td>1.1781</td>\n",
       "      <td>9.8770</td>\n",
       "      <td>3.5406</td>\n",
       "      <td>32.3764</td>\n",
       "      <td>1.5277</td>\n",
       "      <td>1.5061</td>\n",
       "      <td>1.4638</td>\n",
       "      <td>1.4187</td>\n",
       "      <td>1.3836</td>\n",
       "      <td>...</td>\n",
       "      <td>0.0066</td>\n",
       "      <td>0.0006</td>\n",
       "      <td>0.0012</td>\n",
       "      <td>0.0058</td>\n",
       "      <td>0.0004</td>\n",
       "      <td>0.0000</td>\n",
       "      <td>0.0000</td>\n",
       "      <td>0.0005</td>\n",
       "      <td>0.0003</td>\n",
       "      <td>0.0104</td>\n",
       "    </tr>\n",
       "  </tbody>\n",
       "</table>\n",
       "<p>5 rows × 224 columns</p>\n",
       "</div>"
      ],
      "text/plain": [
       "                       Time  Pres(dbar)  Temp(C)  Cond(S/m)  Sal(PSU)  c399.3  \\\n",
       "0  28-Apr-2018 01:02:29.696      1.1710   9.8797     3.5408   32.3758  1.5288   \n",
       "1  28-Apr-2018 01:02:29.821      1.1559   9.8791     3.5408   32.3769  1.5838   \n",
       "2  28-Apr-2018 01:02:29.940      1.1683   9.8775     3.5407   32.3766  1.5596   \n",
       "3  28-Apr-2018 01:02:30.047      1.1796   9.8768     3.5406   32.3762  1.5299   \n",
       "4  28-Apr-2018 01:02:30.158      1.1781   9.8770     3.5406   32.3764  1.5277   \n",
       "\n",
       "   c402.8  c406.2  c409.8  c413.2  ...  Chla435nm  Chlbc454nm  Chlb469nm  \\\n",
       "0  1.4982  1.4640  1.4241  1.3887  ...     0.0066      0.0006     0.0012   \n",
       "1  1.5598  1.5046  1.4800  1.4469  ...     0.0066      0.0006     0.0012   \n",
       "2  1.5390  1.4889  1.4558  1.4211  ...     0.0066      0.0006     0.0012   \n",
       "3  1.5094  1.4670  1.4235  1.3878  ...     0.0066      0.0006     0.0012   \n",
       "4  1.5061  1.4638  1.4187  1.3836  ...     0.0066      0.0006     0.0012   \n",
       "\n",
       "   PPC492nm  PSC523nm  Chlc585nm  Chla617nm  Chlc639nm  Chla661nm  Chla675nm  \n",
       "0    0.0058    0.0004     0.0000     0.0000     0.0005     0.0003     0.0104  \n",
       "1    0.0058    0.0004     0.0000     0.0000     0.0005     0.0003     0.0104  \n",
       "2    0.0058    0.0004     0.0000     0.0000     0.0005     0.0003     0.0104  \n",
       "3    0.0058    0.0004     0.0000     0.0000     0.0005     0.0003     0.0104  \n",
       "4    0.0058    0.0004     0.0000     0.0000     0.0005     0.0003     0.0104  \n",
       "\n",
       "[5 rows x 224 columns]"
      ]
     },
     "execution_count": 23,
     "metadata": {},
     "output_type": "execute_result"
    }
   ],
   "source": [
    "#Display the first few rows of the dataset\n",
    "df.head()"
   ]
  },
  {
   "cell_type": "markdown",
   "metadata": {},
   "source": [
    "### Describe"
   ]
  },
  {
   "cell_type": "code",
   "execution_count": 22,
   "metadata": {},
   "outputs": [
    {
     "data": {
      "text/html": [
       "<div>\n",
       "<style scoped>\n",
       "    .dataframe tbody tr th:only-of-type {\n",
       "        vertical-align: middle;\n",
       "    }\n",
       "\n",
       "    .dataframe tbody tr th {\n",
       "        vertical-align: top;\n",
       "    }\n",
       "\n",
       "    .dataframe thead th {\n",
       "        text-align: right;\n",
       "    }\n",
       "</style>\n",
       "<table border=\"1\" class=\"dataframe\">\n",
       "  <thead>\n",
       "    <tr style=\"text-align: right;\">\n",
       "      <th></th>\n",
       "      <th>Pres(dbar)</th>\n",
       "      <th>Temp(C)</th>\n",
       "      <th>Cond(S/m)</th>\n",
       "      <th>Sal(PSU)</th>\n",
       "      <th>c399.3</th>\n",
       "      <th>c402.8</th>\n",
       "      <th>c406.2</th>\n",
       "      <th>c409.8</th>\n",
       "      <th>c413.2</th>\n",
       "      <th>c416.7</th>\n",
       "      <th>...</th>\n",
       "      <th>Chla435nm</th>\n",
       "      <th>Chlbc454nm</th>\n",
       "      <th>Chlb469nm</th>\n",
       "      <th>PPC492nm</th>\n",
       "      <th>PSC523nm</th>\n",
       "      <th>Chlc585nm</th>\n",
       "      <th>Chla617nm</th>\n",
       "      <th>Chlc639nm</th>\n",
       "      <th>Chla661nm</th>\n",
       "      <th>Chla675nm</th>\n",
       "    </tr>\n",
       "  </thead>\n",
       "  <tbody>\n",
       "    <tr>\n",
       "      <th>count</th>\n",
       "      <td>235,579.0000</td>\n",
       "      <td>235,579.0000</td>\n",
       "      <td>235,579.0000</td>\n",
       "      <td>235,579.0000</td>\n",
       "      <td>235,579.0000</td>\n",
       "      <td>235,579.0000</td>\n",
       "      <td>235,579.0000</td>\n",
       "      <td>235,579.0000</td>\n",
       "      <td>235,579.0000</td>\n",
       "      <td>235,579.0000</td>\n",
       "      <td>...</td>\n",
       "      <td>235,579.0000</td>\n",
       "      <td>235,579.0000</td>\n",
       "      <td>235,579.0000</td>\n",
       "      <td>235,579.0000</td>\n",
       "      <td>235,579.0000</td>\n",
       "      <td>235,579.0000</td>\n",
       "      <td>235,579.0000</td>\n",
       "      <td>235,579.0000</td>\n",
       "      <td>235,579.0000</td>\n",
       "      <td>235,579.0000</td>\n",
       "    </tr>\n",
       "    <tr>\n",
       "      <th>mean</th>\n",
       "      <td>22.4083</td>\n",
       "      <td>8.1263</td>\n",
       "      <td>3.4437</td>\n",
       "      <td>32.9692</td>\n",
       "      <td>1.3134</td>\n",
       "      <td>1.2819</td>\n",
       "      <td>1.2420</td>\n",
       "      <td>1.2050</td>\n",
       "      <td>1.1685</td>\n",
       "      <td>1.1311</td>\n",
       "      <td>...</td>\n",
       "      <td>0.0056</td>\n",
       "      <td>0.0005</td>\n",
       "      <td>0.0010</td>\n",
       "      <td>0.0059</td>\n",
       "      <td>0.0003</td>\n",
       "      <td>0.0000</td>\n",
       "      <td>0.0000</td>\n",
       "      <td>0.0011</td>\n",
       "      <td>0.0005</td>\n",
       "      <td>0.0163</td>\n",
       "    </tr>\n",
       "    <tr>\n",
       "      <th>std</th>\n",
       "      <td>13.8985</td>\n",
       "      <td>0.7364</td>\n",
       "      <td>0.0577</td>\n",
       "      <td>0.2900</td>\n",
       "      <td>0.2869</td>\n",
       "      <td>0.2851</td>\n",
       "      <td>0.2841</td>\n",
       "      <td>0.2821</td>\n",
       "      <td>0.2796</td>\n",
       "      <td>0.2788</td>\n",
       "      <td>...</td>\n",
       "      <td>0.0014</td>\n",
       "      <td>0.0002</td>\n",
       "      <td>0.0004</td>\n",
       "      <td>0.0015</td>\n",
       "      <td>0.0002</td>\n",
       "      <td>0.0000</td>\n",
       "      <td>0.0001</td>\n",
       "      <td>0.0005</td>\n",
       "      <td>0.0002</td>\n",
       "      <td>0.0060</td>\n",
       "    </tr>\n",
       "    <tr>\n",
       "      <th>min</th>\n",
       "      <td>0.6981</td>\n",
       "      <td>7.0932</td>\n",
       "      <td>3.3565</td>\n",
       "      <td>32.3081</td>\n",
       "      <td>0.8247</td>\n",
       "      <td>0.8003</td>\n",
       "      <td>0.7632</td>\n",
       "      <td>0.7315</td>\n",
       "      <td>0.7005</td>\n",
       "      <td>0.6671</td>\n",
       "      <td>...</td>\n",
       "      <td>0.0013</td>\n",
       "      <td>0.0001</td>\n",
       "      <td>0.0002</td>\n",
       "      <td>0.0021</td>\n",
       "      <td>0.0000</td>\n",
       "      <td>0.0000</td>\n",
       "      <td>0.0000</td>\n",
       "      <td>0.0000</td>\n",
       "      <td>0.0000</td>\n",
       "      <td>0.0069</td>\n",
       "    </tr>\n",
       "    <tr>\n",
       "      <th>25%</th>\n",
       "      <td>10.8045</td>\n",
       "      <td>7.5637</td>\n",
       "      <td>3.3978</td>\n",
       "      <td>32.7396</td>\n",
       "      <td>0.9903</td>\n",
       "      <td>0.9604</td>\n",
       "      <td>0.9218</td>\n",
       "      <td>0.8871</td>\n",
       "      <td>0.8536</td>\n",
       "      <td>0.8173</td>\n",
       "      <td>...</td>\n",
       "      <td>0.0047</td>\n",
       "      <td>0.0004</td>\n",
       "      <td>0.0008</td>\n",
       "      <td>0.0049</td>\n",
       "      <td>0.0002</td>\n",
       "      <td>0.0000</td>\n",
       "      <td>0.0000</td>\n",
       "      <td>0.0008</td>\n",
       "      <td>0.0003</td>\n",
       "      <td>0.0118</td>\n",
       "    </tr>\n",
       "    <tr>\n",
       "      <th>50%</th>\n",
       "      <td>20.9710</td>\n",
       "      <td>7.7136</td>\n",
       "      <td>3.4200</td>\n",
       "      <td>32.9549</td>\n",
       "      <td>1.4080</td>\n",
       "      <td>1.3757</td>\n",
       "      <td>1.3356</td>\n",
       "      <td>1.2977</td>\n",
       "      <td>1.2604</td>\n",
       "      <td>1.2226</td>\n",
       "      <td>...</td>\n",
       "      <td>0.0053</td>\n",
       "      <td>0.0005</td>\n",
       "      <td>0.0010</td>\n",
       "      <td>0.0058</td>\n",
       "      <td>0.0002</td>\n",
       "      <td>0.0000</td>\n",
       "      <td>0.0000</td>\n",
       "      <td>0.0010</td>\n",
       "      <td>0.0004</td>\n",
       "      <td>0.0145</td>\n",
       "    </tr>\n",
       "    <tr>\n",
       "      <th>75%</th>\n",
       "      <td>32.3486</td>\n",
       "      <td>8.7478</td>\n",
       "      <td>3.4898</td>\n",
       "      <td>33.2013</td>\n",
       "      <td>1.5413</td>\n",
       "      <td>1.5083</td>\n",
       "      <td>1.4677</td>\n",
       "      <td>1.4288</td>\n",
       "      <td>1.3904</td>\n",
       "      <td>1.3526</td>\n",
       "      <td>...</td>\n",
       "      <td>0.0064</td>\n",
       "      <td>0.0006</td>\n",
       "      <td>0.0011</td>\n",
       "      <td>0.0066</td>\n",
       "      <td>0.0003</td>\n",
       "      <td>0.0000</td>\n",
       "      <td>0.0000</td>\n",
       "      <td>0.0014</td>\n",
       "      <td>0.0006</td>\n",
       "      <td>0.0206</td>\n",
       "    </tr>\n",
       "    <tr>\n",
       "      <th>max</th>\n",
       "      <td>60.6588</td>\n",
       "      <td>9.9833</td>\n",
       "      <td>3.6009</td>\n",
       "      <td>33.6317</td>\n",
       "      <td>2.0715</td>\n",
       "      <td>2.0586</td>\n",
       "      <td>2.0197</td>\n",
       "      <td>1.9723</td>\n",
       "      <td>1.9296</td>\n",
       "      <td>1.8888</td>\n",
       "      <td>...</td>\n",
       "      <td>0.0193</td>\n",
       "      <td>0.0031</td>\n",
       "      <td>0.0046</td>\n",
       "      <td>0.0157</td>\n",
       "      <td>0.0032</td>\n",
       "      <td>0.0001</td>\n",
       "      <td>0.0035</td>\n",
       "      <td>0.0045</td>\n",
       "      <td>0.0033</td>\n",
       "      <td>0.0550</td>\n",
       "    </tr>\n",
       "  </tbody>\n",
       "</table>\n",
       "<p>8 rows × 223 columns</p>\n",
       "</div>"
      ],
      "text/plain": [
       "        Pres(dbar)      Temp(C)    Cond(S/m)     Sal(PSU)       c399.3  \\\n",
       "count 235,579.0000 235,579.0000 235,579.0000 235,579.0000 235,579.0000   \n",
       "mean       22.4083       8.1263       3.4437      32.9692       1.3134   \n",
       "std        13.8985       0.7364       0.0577       0.2900       0.2869   \n",
       "min         0.6981       7.0932       3.3565      32.3081       0.8247   \n",
       "25%        10.8045       7.5637       3.3978      32.7396       0.9903   \n",
       "50%        20.9710       7.7136       3.4200      32.9549       1.4080   \n",
       "75%        32.3486       8.7478       3.4898      33.2013       1.5413   \n",
       "max        60.6588       9.9833       3.6009      33.6317       2.0715   \n",
       "\n",
       "            c402.8       c406.2       c409.8       c413.2       c416.7  ...  \\\n",
       "count 235,579.0000 235,579.0000 235,579.0000 235,579.0000 235,579.0000  ...   \n",
       "mean        1.2819       1.2420       1.2050       1.1685       1.1311  ...   \n",
       "std         0.2851       0.2841       0.2821       0.2796       0.2788  ...   \n",
       "min         0.8003       0.7632       0.7315       0.7005       0.6671  ...   \n",
       "25%         0.9604       0.9218       0.8871       0.8536       0.8173  ...   \n",
       "50%         1.3757       1.3356       1.2977       1.2604       1.2226  ...   \n",
       "75%         1.5083       1.4677       1.4288       1.3904       1.3526  ...   \n",
       "max         2.0586       2.0197       1.9723       1.9296       1.8888  ...   \n",
       "\n",
       "         Chla435nm   Chlbc454nm    Chlb469nm     PPC492nm     PSC523nm  \\\n",
       "count 235,579.0000 235,579.0000 235,579.0000 235,579.0000 235,579.0000   \n",
       "mean        0.0056       0.0005       0.0010       0.0059       0.0003   \n",
       "std         0.0014       0.0002       0.0004       0.0015       0.0002   \n",
       "min         0.0013       0.0001       0.0002       0.0021       0.0000   \n",
       "25%         0.0047       0.0004       0.0008       0.0049       0.0002   \n",
       "50%         0.0053       0.0005       0.0010       0.0058       0.0002   \n",
       "75%         0.0064       0.0006       0.0011       0.0066       0.0003   \n",
       "max         0.0193       0.0031       0.0046       0.0157       0.0032   \n",
       "\n",
       "         Chlc585nm    Chla617nm    Chlc639nm    Chla661nm    Chla675nm  \n",
       "count 235,579.0000 235,579.0000 235,579.0000 235,579.0000 235,579.0000  \n",
       "mean        0.0000       0.0000       0.0011       0.0005       0.0163  \n",
       "std         0.0000       0.0001       0.0005       0.0002       0.0060  \n",
       "min         0.0000       0.0000       0.0000       0.0000       0.0069  \n",
       "25%         0.0000       0.0000       0.0008       0.0003       0.0118  \n",
       "50%         0.0000       0.0000       0.0010       0.0004       0.0145  \n",
       "75%         0.0000       0.0000       0.0014       0.0006       0.0206  \n",
       "max         0.0001       0.0035       0.0045       0.0033       0.0550  \n",
       "\n",
       "[8 rows x 223 columns]"
      ]
     },
     "execution_count": 22,
     "metadata": {},
     "output_type": "execute_result"
    }
   ],
   "source": [
    "#Summary statistics\n",
    "df.describe()"
   ]
  },
  {
   "cell_type": "markdown",
   "metadata": {},
   "source": [
    "### Column Names"
   ]
  },
  {
   "cell_type": "code",
   "execution_count": 40,
   "metadata": {},
   "outputs": [
    {
     "name": "stdout",
     "output_type": "stream",
     "text": [
      "['Time' 'Pres(dbar)' 'Temp(C)' 'Cond(S/m)' 'Sal(PSU)' 'c399.3' 'c402.8'\n",
      " 'c406.2' 'c409.8' 'c413.2' 'c416.7' 'c421.0' 'c425.1' 'c429.3' 'c433.3'\n",
      " 'c437.1' 'c441.2' 'c445.6' 'c450.2' 'c454.8' 'c458.9' 'c462.9' 'c467.3'\n",
      " 'c472.0' 'c476.8' 'c481.3' 'c486.0' 'c490.4' 'c494.6' 'c498.9' 'c503.5'\n",
      " 'c508.0' 'c512.8' 'c517.7' 'c522.5' 'c526.8' 'c531.1' 'c535.4' 'c539.7'\n",
      " 'c544.0' 'c548.5' 'c552.9' 'c557.4' 'c561.6' 'c566.1' 'c570.2' 'c574.1'\n",
      " 'c578.1' 'c581.9' 'c586.8' 'c591.0' 'c595.5' 'c600.1' 'c604.8' 'c609.2'\n",
      " 'c613.9' 'c618.2' 'c622.9' 'c627.0' 'c631.4' 'c635.8' 'c640.0' 'c644.5'\n",
      " 'c648.8' 'c653.2' 'c657.8' 'c662.3' 'c666.8' 'c671.1' 'c675.7' 'c679.9'\n",
      " 'c684.2' 'c688.4' 'c692.4' 'c696.5' 'c700.5' 'c704.4' 'c708.4' 'c712.3'\n",
      " 'c716.1' 'c720.1' 'c723.8' 'c727.5' 'c731.3' 'c735.0' 'c738.3' 'c741.9'\n",
      " 'a398.2' 'a401.8' 'a405.1' 'a408.9' 'a412.1' 'a415.5' 'a419.2' 'a423.5'\n",
      " 'a427.6' 'a431.7' 'a435.4' 'a439.1' 'a443.3' 'a447.8' 'a452.2' 'a456.6'\n",
      " 'a460.4' 'a464.7' 'a469.0' 'a473.8' 'a478.3' 'a483.2' 'a487.4' 'a491.6'\n",
      " 'a495.8' 'a500.1' 'a504.7' 'a509.4' 'a514.0' 'a518.9' 'a523.4' 'a527.9'\n",
      " 'a532.0' 'a536.3' 'a540.4' 'a544.7' 'a549.0' 'a553.4' 'a557.7' 'a562.1'\n",
      " 'a566.2' 'a570.3' 'a574.2' 'a578.0' 'a583.0' 'a587.1' 'a591.3' 'a595.5'\n",
      " 'a600.1' 'a604.5' 'a609.2' 'a613.7' 'a618.2' 'a622.5' 'a626.7' 'a630.7'\n",
      " 'a635.0' 'a639.3' 'a643.5' 'a647.9' 'a652.6' 'a656.7' 'a661.1' 'a665.5'\n",
      " 'a670.0' 'a674.2' 'a678.5' 'a682.7' 'a686.8' 'a691.0' 'a694.9' 'a698.7'\n",
      " 'a702.5' 'a706.5' 'a710.3' 'a714.0' 'a717.7' 'a721.7' 'a725.4' 'a729.1'\n",
      " 'a732.6' 'a736.1' 'Beta(470)' 'BetaP(470)' 'bbP(470)' 'bb(470)'\n",
      " 'Beta(532)' 'BetaP(532)' 'bbP(532)' 'bb(532)' 'Beta(650)' 'BetaP(650)'\n",
      " 'bbP(650)' 'bb(650)' 'Ed(412.2)' 'Ed(443.5)' 'Ed(490.7)' 'Ed(532.7)'\n",
      " 'Ed(555.6)' 'Ed(669.8)' 'Ed(705.4)' 'CTD_TEMPERATURE_DEG_C' 'DEPTH_M'\n",
      " 'FLOR' 'O2_MG_PER_L' 'O2_VDC' 'PAR_UE_PER_M2' 'PAR_VDC' 'SALINITY_PPT'\n",
      " 'TS_LATITUDE_DEG' 'TS_LONGITUDE_DEG' 'unknown' 'copepod' 'hydromedusae'\n",
      " 'snow' 'appendicularian' 'diatom' 'chaeto' 'veliger' 'cteno' 'shrimp'\n",
      " 'siphon' 'invert' 'Density(kg/m^3)' 'Spiciness(kg/m^3)'\n",
      " 'Absorption_Line_Height(m^-1)' 'Pressure' 'Chla435nm' 'Chlbc454nm'\n",
      " 'Chlb469nm' 'PPC492nm' 'PSC523nm' 'Chlc585nm' 'Chla617nm' 'Chlc639nm'\n",
      " 'Chla661nm' 'Chla675nm']\n"
     ]
    }
   ],
   "source": [
    "print(df.columns.values)"
   ]
  },
  {
   "cell_type": "markdown",
   "metadata": {},
   "source": [
    "### Information About the DataFrame"
   ]
  },
  {
   "cell_type": "code",
   "execution_count": 41,
   "metadata": {},
   "outputs": [
    {
     "name": "stdout",
     "output_type": "stream",
     "text": [
      "<class 'pandas.core.frame.DataFrame'>\n",
      "RangeIndex: 235579 entries, 0 to 235578\n",
      "Columns: 224 entries, Time to Chla675nm\n",
      "dtypes: float64(222), int64(1), object(1)\n",
      "memory usage: 402.6+ MB\n",
      "None\n"
     ]
    }
   ],
   "source": [
    "#Information about the dataset\n",
    "print(df.info())"
   ]
  },
  {
   "cell_type": "markdown",
   "metadata": {},
   "source": [
    "### Poor Outlier Check"
   ]
  },
  {
   "cell_type": "code",
   "execution_count": 27,
   "metadata": {},
   "outputs": [
    {
     "data": {
      "text/plain": [
       "'\\nQ1 = df[\"column_name\"].quantile(0.25)\\nQ3 = df[\"column_name\"].quantile(0.75)\\nIQR = Q3 - Q1\\nlower_bound = Q1 - 1.5 * IQR\\nupper_bound = Q3 + 1.5 * IQR\\ndf = df[df[\"column_name\"].between(lower_bound, upper_bound)]\\n'"
      ]
     },
     "execution_count": 27,
     "metadata": {},
     "output_type": "execute_result"
    }
   ],
   "source": [
    "#Using median calculations and IQR, outliers are identified and these data points should be removed\n",
    "#maybe loop through all df.columns and perform this calculation.\n",
    "\n",
    "\"\"\"\n",
    "Q1 = df[\"column_name\"].quantile(0.25)\n",
    "Q3 = df[\"column_name\"].quantile(0.75)\n",
    "IQR = Q3 - Q1\n",
    "lower_bound = Q1 - 1.5 * IQR\n",
    "upper_bound = Q3 + 1.5 * IQR\n",
    "df = df[df[\"column_name\"].between(lower_bound, upper_bound)]\n",
    "\"\"\""
   ]
  },
  {
   "cell_type": "markdown",
   "metadata": {},
   "source": [
    "### Identify Unique Columns that require Management"
   ]
  },
  {
   "cell_type": "code",
   "execution_count": 73,
   "metadata": {},
   "outputs": [],
   "source": [
    "field_datetime=\"Time\"\n",
    "#field_target=\"Temp(C)\"\n",
    "field_target=\"copepod\""
   ]
  },
  {
   "cell_type": "markdown",
   "metadata": {},
   "source": [
    "### Preprocessing the Dataset"
   ]
  },
  {
   "cell_type": "markdown",
   "metadata": {},
   "source": [
    "This section will use skikit's [OrdinalEncoder](https://scikit-learn.org/stable/modules/generated/sklearn.preprocessing.OrdinalEncoder.html) and [QuantileTransformer](https://scikit-learn.org/stable/modules/generated/sklearn.preprocessing.QuantileTransformer.html) to prepare the data for anomaly detection.\n",
    "\n",
    "OrdinalEncoder will assign categories to a number (0 to n-1). Like Scikit, [pyOD needs all values to be numerical](https://github.com/yzhao062/pyod/issues/366).\n",
    "\n",
    "Use the first code block to prepare your data for scaling. How much preparation is required will vary, but here are some recommended best practices:\n",
    "- All categorical fields are numerically encoded \n",
    "- All date-time fields have additional 'day_of_week', 'month', 'day' decompositions added so variation such as seasonality is easier to identify."
   ]
  },
  {
   "cell_type": "code",
   "execution_count": 74,
   "metadata": {},
   "outputs": [],
   "source": [
    "###################################### Check data types, make any conversions necessary\n",
    "df_anom.dtypes\n",
    "\n",
    "#convert appropriate fields to appropriate types, inpsect your column output.\n",
    "df_anom[field_datetime] = pd.to_datetime(df[field_datetime])\n",
    "###################################### Break out date fields\n",
    "## IMPORTANT! Treat these fields as ordinal categorical, do not scale in the next step\n",
    "df_anom['day_of_week'] = df_anom[field_datetime].dt.day_of_week\n",
    "\n",
    "df_anom['month'] = df_anom[field_datetime].dt.month\n",
    "\n",
    "df_anom['day'] = df_anom[field_datetime].dt.day\n",
    "\n",
    "###################################### Encode categorical variables, including date fields\n",
    "# Initialize the encoder\n",
    "oe = OrdinalEncoder()\n",
    "\n",
    "# Extract the categorical feature names\n",
    "cats = df_anom.select_dtypes(include= [\"category\",\"datetime\"]).columns.tolist()\n",
    "\n",
    "# Encode the categorical features\n",
    "cats_encoded = oe.fit_transform(df_anom[cats])\n",
    "\n",
    "# Replace the old values with encoded values\n",
    "df_anom.loc[:, cats] = cats_encoded\n"
   ]
  },
  {
   "cell_type": "markdown",
   "metadata": {},
   "source": [
    "Now identify the columns that need to be scaled. Depending on your dataset it might be easier to select by datatype, hardcode via those included, or hardcode via those not included. QuantileTransformer will apply a non-linear transformation on the selected columns. Each feature will be mapped to a Gaussian (normal) distribution. This is important for increasing anomaly detection accuracy in proximity-based algorithms like KNN and LOF especially, because they ensure that instances compared to each other are at the same scale. \n",
    "\n",
    "<span style=\"color:orange\">Note:</span><br/>\n",
    "While these recommendations may improve the accuracy of anomaly detection in most cases, you are the expert of your own data. Compare results when more or fewer numeric fields are scaled."
   ]
  },
  {
   "cell_type": "code",
   "execution_count": 75,
   "metadata": {},
   "outputs": [],
   "source": [
    "###################################### Selected by datatype\n",
    "to_scale = df_anom.select_dtypes(include=\"float\").columns.tolist()\n",
    "#print(to_scale)\n",
    "\n",
    "###################################### Hardcoded by those included/not included\n",
    "#to_scale = []\n",
    "\n",
    "# Additional cleanup as needed\n",
    "to_scale = to_scale[2:]\n",
    "#print(to_scale)\n"
   ]
  },
  {
   "cell_type": "markdown",
   "metadata": {},
   "source": [
    "Finally, we'll run QuantileTransformer to scale these columns"
   ]
  },
  {
   "cell_type": "code",
   "execution_count": 76,
   "metadata": {},
   "outputs": [],
   "source": [
    "# Initiate the transformer\n",
    "qt = QuantileTransformer(output_distribution = \"normal\")\n",
    "\n",
    "# Scale the columns and replace the columns in the original\n",
    "df_anom.loc[:,to_scale] = qt.fit_transform(df_anom[to_scale])\n",
    "\n",
    "#df_anom.head"
   ]
  },
  {
   "cell_type": "markdown",
   "metadata": {},
   "source": [
    "### <span style=\"color:orange\">[Optional]</span> Analyzing Data for Seasonality & Running Univariate Detection on Residuals"
   ]
  },
  {
   "cell_type": "markdown",
   "metadata": {},
   "source": [
    "If you have a datetime field, you can run [Seasonal Decompose](https://www.statsmodels.org/dev/generated/statsmodels.tsa.seasonal.seasonal_decompose.html) to get an idea how much your predicted variable is impacted by seasonality. This works best if the datetime field is set to the index, but is compatible without."
   ]
  },
  {
   "cell_type": "code",
   "execution_count": 77,
   "metadata": {},
   "outputs": [],
   "source": [
    "# Identify Y variable and period\n",
    "target_col_name = field_target\n",
    "target = df_anom[target_col_name]\n",
    "period = 365 \n",
    "\n",
    "# Run the decomposition\n",
    "results = seasonal_decompose(target, period = period)"
   ]
  },
  {
   "cell_type": "markdown",
   "metadata": {},
   "source": [
    "The next codeblock will print out the results of the model, including the original variation over time, the [seasonality, trend, and residuals](https://towardsdatascience.com/time-series-diy-seasonal-decomposition-f0b469afed44).\n",
    "\n",
    "- **Seasonality** refers to the variation in the variable that correspond with patterns in time.\n",
    "- **Trend** refers to the general variation in the variable over time, it's a rolling average of many data points \n",
    "- **Residual** refers to variation in the variable that can't be attributed to the trend or seasonality. "
   ]
  },
  {
   "cell_type": "code",
   "execution_count": 78,
   "metadata": {},
   "outputs": [
    {
     "data": {
      "image/png": "[encoded data removed]",
      "text/plain": [
       "<Figure size 1200x800 with 4 Axes>"
      ]
     },
     "metadata": {},
     "output_type": "display_data"
    }
   ],
   "source": [
    "# plot the seasonality, trend, and residuals\n",
    "\n",
    "fig = results.plot()\n",
    "fig.set_figwidth(12)\n",
    "fig.set_figheight(8)\n",
    "plt.show()"
   ]
  },
  {
   "cell_type": "markdown",
   "metadata": {},
   "source": [
    "One method of outlier detection by fitting the residuals using the [Mean Absolute Deviation (MAD)](https://www.khanacademy.org/math/statistics-probability/summarizing-quantitative-data/other-measures-of-spread/a/mean-absolute-deviation-mad-review) measure of variability, a univariate [i.e. only looks at one variable] way of identifying outliers. \n",
    "\n",
    "Running a MAD fit on a variable based on the residuals can help make inferences on what might be outliers, though it tends to overcorrect. Overall, it's best to use this methodlogy when conducting exploratory analysis and to provide context for other anomaly detection results, such as when estimating contamination."
   ]
  },
  {
   "cell_type": "code",
   "execution_count": 55,
   "metadata": {},
   "outputs": [
    {
     "name": "stdout",
     "output_type": "stream",
     "text": [
      "Number of outliers found using MAD to fit variable Temp(C) on residuals: 31937\n"
     ]
    }
   ],
   "source": [
    "from pyod.models.mad import MAD\n",
    "\n",
    "# Pull and reshape the residuals\n",
    "residuals = results.resid\n",
    "residuals = residuals.values.reshape(-1,1) \n",
    "\n",
    "#fit a variable to the residuals using MAD\n",
    "mad = MAD().fit(residuals)\n",
    "\n",
    "# Like all pyOD models, once fit you can ask MAD to predict outliers using labels_\n",
    "# Make a boolean for outliers MAD predicted\n",
    "is_outlier = mad.labels_ == 1\n",
    "\n",
    "# Pull predicted outliers from the dataframe \n",
    "outliers = df_anom[is_outlier]\n",
    "\n",
    "# How many outliers did this method find?\n",
    "print(\"Number of outliers found using MAD to fit variable\", target_col_name, \"on residuals:\", len(outliers))"
   ]
  },
  {
   "cell_type": "markdown",
   "metadata": {},
   "source": [
    "### Identifying Anomalies Using Multiple Models"
   ]
  },
  {
   "cell_type": "markdown",
   "metadata": {},
   "source": [
    "#### Selecting Hyperparameters"
   ]
  },
  {
   "cell_type": "markdown",
   "metadata": {},
   "source": [
    "In order to effectively use this tool, it's imperative have a surface-level understanding of how each anomaly detection model works. This includes how it determines anomaly probability, what hyperparameters are available to tune the model, and what to consider when tuning those values."
   ]
  },
  {
   "cell_type": "markdown",
   "metadata": {},
   "source": [
    "**<span style=\"color:orange\">Across Models: Probability Threshold</span>**\n",
    "\n",
    "Perhaps the simplest hyperparamater to understand is the probability threshold: according to your modelset, how likely is it that this observation is an outlier? This is going to depend on your use case, with some industries flagging anything above 50% and others - like the financial and medical fields - going as high as 90%. The best way to determine the appropriate threshold is to balance the cost of leaving outliers in versus the risk in taking them out. Having too many outliers in your data can hinder model results, but overculling datasets might make the model miss out on key insights.\n",
    "\n",
    "When in doubt, it's recommended to begin at the default value (75%) and rerun the test at higher and lower thresholds. You can even create a variation on an [efficient frontier](https://en.wikipedia.org/wiki/Efficient_frontier) to help your stakeholders understand the options.\n",
    "\n",
    "This parameter is applied after all models are run, and thus only has to be set once."
   ]
  },
  {
   "cell_type": "code",
   "execution_count": 56,
   "metadata": {},
   "outputs": [],
   "source": [
    "#Set the probability threshold\n",
    "probability_threshold = .75"
   ]
  },
  {
   "cell_type": "markdown",
   "metadata": {},
   "source": [
    "**<span style=\"color:orange\">All Models: Contamination & n_jobs</span>**\n",
    "\n",
    "Contamination refers to the amount of outliers in a dataset. Which is mighty *unhandy* as a hyperparameter in a model meant to tell us how many outliers are in our dataset. In addition to trial and error, there are some ways to make more-informed guesses. Univariate anomaly detection (such as the MAD we ran on a variable's residuals) tends to overcount anomalies as it cannot contextualize column-level variation with patterns throughout the dataset. This makes it a relatively ok tool to get a general idea of what the maximum number of anomalies may be. Running a few univariate tests and dividing the results by the nrows in a dataset is a good way to create an estimated upper bound of contamination.\n",
    "\n",
    "The default contamination setting for pyOD models is 10%, but that doesn't mean it's applicable to all [or most] use cases. When in doubt, this is a hyperparameter that can be experimented with; have your final estimator list include models set to different contamination levels between .001 and roughly the max estimated from your univariate analysis.\n",
    "\n",
    "n_jobs refers to the number of jobs being run concurrently. It's recommended to set this to -1 for all models so the number of jobs running parallel is equal to the number of cores available."
   ]
  },
  {
   "cell_type": "markdown",
   "metadata": {},
   "source": [
    "**<span style=\"color:orange\">Isolation Forest: n_estimators, max_features, & max_samples</span>**\n",
    "\n",
    "[Isolation Forest](https://en.wikipedia.org/wiki/Isolation_forest) uses binary decision trees to add random 'slices' to the dataset, counting how many slices it takes for a value to be completely isolated from the rest of the sample. It works on the concerpt that anomalous data points tend to be outside the clusters of datapoints, and thus take fewer slices to isolate.\n",
    "\n",
    "In addition to contamination, you have the option of tuning how many base estimators, features, and samples the IForest model trains on. You can read about these hyperparameters [here](https://pyod.readthedocs.io/en/latest/pyod.models.html#module-pyod.models.iforest). It may seen like maximising the estimators, samples, and features would make the most reobust model, but that runs a major risk of overfitting. \n",
    "\n",
    "When in doubt, set multiple IForest models with some combinations of n_estimators varying from a center of 100, and max_samples and max_features <= 1.0,"
   ]
  },
  {
   "cell_type": "markdown",
   "metadata": {},
   "source": [
    "**<span style=\"color:orange\">K Nearest Neighbor and Local Outlier Factor: </span>** \n",
    "\n",
    "[KNN](https://pyod.readthedocs.io/en/latest/pyod.models.html#module-pyod.models.knn) compares a datapoint's distance from its nearest neighbors. It works on the assumption that points far away from all their neighbors tend to be outliers. Perhaps the most important hyperparameters to consider are n_neighbors and method. n_neighbors refers to the number of neighbors the datapoint is compared to. Method decides how the distance is recorded; either the largest distance found (default), the mean of all distances, or the median of all distances.\n",
    "\n",
    "[LOF](https://pyod.readthedocs.io/en/latest/pyod.models.html#module-pyod.models.lof) builds on KNN to compared the local density of a value to the local density of its neighbors. Samples that have significantly lower density than their neighbors are given a highter Local Outlier Factor Score. Of the hyperparamters listed, it's fine to keep most default except n_neighbors.\n",
    "\n",
    "When in doubt, have multiple instances of each model, with a mix of methods and n_neighbors set in variations between 5 and 20."
   ]
  },
  {
   "cell_type": "markdown",
   "metadata": {},
   "source": [
    "#### Setting the Models\n",
    "\n",
    "In the code block below, experiment with the number of models and hyperparameter settings. Remember that too many models running may lead to overfitting and computation issues."
   ]
  },
  {
   "cell_type": "code",
   "execution_count": 57,
   "metadata": {},
   "outputs": [],
   "source": [
    "anom_estimators = [\n",
    "    KNN(n_neighbors = 5, method = 'median', n_jobs = -1), \n",
    "    #KNN(n_neighbors = 15, method = 'mean', n_jobs = -1),\n",
    "    KNN(n_jobs = -1),\n",
    "    LOF(n_neighbors = 20, n_jobs = -1), \n",
    "    LOF(n_neighbors = 15, n_jobs = -1), \n",
    "    IForest(n_estimators= 50, n_jobs = -1), \n",
    "    #IForest(max_samples = .8, max_features = .8, n_jobs = -1),\n",
    "    IForest(n_estimators = 200, n_jobs= -1)\n",
    "    ]"
   ]
  },
  {
   "cell_type": "markdown",
   "metadata": {},
   "source": [
    "#### Running the Models and Recording Results"
   ]
  },
  {
   "cell_type": "markdown",
   "metadata": {},
   "source": [
    "Once you've chosen the models and hyperparameters they're set at, the rest of the code will run and record the estimated probabilities and return a list of predicted outliers. As with all models, there is an element of randomness that comes to play in the final results - it's always best practices to run the process a few time to get a sense of min-max predictions."
   ]
  },
  {
   "cell_type": "code",
   "execution_count": 58,
   "metadata": {},
   "outputs": [
    {
     "name": "stderr",
     "output_type": "stream",
     "text": [
      "/projects/app/anaconda/envs/machine_learning_gpu/lib/python3.9/site-packages/sklearn/base.py:458: UserWarning: X has feature names, but IsolationForest was fitted without feature names\n",
      "  warnings.warn(\n",
      "/projects/app/anaconda/envs/machine_learning_gpu/lib/python3.9/site-packages/sklearn/base.py:458: UserWarning: X has feature names, but IsolationForest was fitted without feature names\n",
      "  warnings.warn(\n"
     ]
    }
   ],
   "source": [
    "# Create an array to store the outlier probabilities\n",
    "shape = (len(df_anom), len(anom_estimators))\n",
    "probability_scores = np.empty(shape = shape)\n",
    "\n",
    "# Run each model for each row, record the estimated probability the row is an outlier\n",
    "for index, est in enumerate(anom_estimators):\n",
    "    est.fit(df_anom)\n",
    "    probs = est.predict_proba(df_anom)\n",
    "    probability_scores [:, index] = probs[:,1]\n",
    "\n",
    "# Calulate the mean estimated probability and add it to the dataframe\n",
    "## NOTE: Can also use median\n",
    "mean_scores = np.mean(probability_scores, axis = 1)\n",
    "df_anom['mean_outlier_score'] = mean_scores\n",
    "\n",
    "#Create a filter based on your stated confidence level\n",
    "is_outlier = mean_scores > probability_threshold\n",
    "outliers = df_anom[is_outlier]\n"
   ]
  },
  {
   "cell_type": "code",
   "execution_count": 62,
   "metadata": {},
   "outputs": [
    {
     "name": "stdout",
     "output_type": "stream",
     "text": [
      "0 anomalies were detected using 6 models at 0.75 confidence\n"
     ]
    }
   ],
   "source": [
    "#Print the results in a statement\n",
    "print(len(outliers), \"anomalies were detected using\", len(anom_estimators),\"models at\", probability_threshold, \"confidence\")"
   ]
  },
  {
   "cell_type": "markdown",
   "metadata": {},
   "source": [
    "You can then print out the list of anomalies, with the final column being the value's mean outlier score:"
   ]
  },
  {
   "cell_type": "code",
   "execution_count": 65,
   "metadata": {},
   "outputs": [
    {
     "name": "stdout",
     "output_type": "stream",
     "text": [
      "Empty DataFrame\n",
      "Columns: [Time, Pres(dbar), Temp(C), Cond(S/m), Sal(PSU), c399.3, c402.8, c406.2, c409.8, c413.2, c416.7, c421.0, c425.1, c429.3, c433.3, c437.1, c441.2, c445.6, c450.2, c454.8, c458.9, c462.9, c467.3, c472.0, c476.8, c481.3, c486.0, c490.4, c494.6, c498.9, c503.5, c508.0, c512.8, c517.7, c522.5, c526.8, c531.1, c535.4, c539.7, c544.0, c548.5, c552.9, c557.4, c561.6, c566.1, c570.2, c574.1, c578.1, c581.9, c586.8, c591.0, c595.5, c600.1, c604.8, c609.2, c613.9, c618.2, c622.9, c627.0, c631.4, c635.8, c640.0, c644.5, c648.8, c653.2, c657.8, c662.3, c666.8, c671.1, c675.7, c679.9, c684.2, c688.4, c692.4, c696.5, c700.5, c704.4, c708.4, c712.3, c716.1, c720.1, c723.8, c727.5, c731.3, c735.0, c738.3, c741.9, a398.2, a401.8, a405.1, a408.9, a412.1, a415.5, a419.2, a423.5, a427.6, a431.7, a435.4, a439.1, a443.3, ...]\n",
      "Index: []\n"
     ]
    }
   ],
   "source": [
    "print(outliers)"
   ]
  },
  {
   "cell_type": "markdown",
   "metadata": {},
   "source": [
    "You can also investigate the results of each individual model:"
   ]
  },
  {
   "cell_type": "code",
   "execution_count": 66,
   "metadata": {},
   "outputs": [
    {
     "name": "stdout",
     "output_type": "stream",
     "text": [
      "Empty DataFrame\n",
      "Columns: [0, 1, 2, 3, 4, 5, mean_score]\n",
      "Index: []\n"
     ]
    }
   ],
   "source": [
    "#Take the data made in the for loop\n",
    "df_scores = pd.DataFrame(probability_scores)\n",
    "\n",
    "#calculate mean\n",
    "df_scores['mean_score'] = df_scores.mean(axis=1)\n",
    "\n",
    "#filter by confidence threshold\n",
    "is_outlier2 = df_scores['mean_score'] > probability_threshold\n",
    "\n",
    "#print filtered version\n",
    "print(df_scores[is_outlier2])"
   ]
  },
  {
   "cell_type": "markdown",
   "metadata": {},
   "source": [
    "### Scaling vs. Normalization: What's the difference?\n",
    "\n",
    "\n",
    "One of the reasons that it's easy to get confused between scaling and normalization is because the terms are ssometimes used interchangeably and, to make it even more confusing, they are very similar! In both cases, you're transforming the values of numeric variables so that the transformed data points have specific helpful properties:\r",
    "+ sn scaling, you're changing the range of your data, wh\n",
    "  i+ \n",
    "in normalization, you're changing the shape of the distribution of your dions."
   ]
  },
  {
   "cell_type": "markdown",
   "metadata": {},
   "source": [
    "### Scaling\n",
    "\n",
    "This means that you're transforming your data so that it fits within a specific scale, like 0-100 or 0-1. You want to scale data when you're using methods based on measures of how far apart data points are, like support vector machines (SVM) or k-nearest neighbors (KNN). With these algorithms, a change of \"1\" in any numeric feature is given the same importance.\n",
    "\n",
    "For example, you might be looking at the prices of some products in both Yen and US Dollars. One US Dollar is worth about 100 Yen, but if you don't scale your prices, methods like SVM or KNN will consider a difference in price of 1 Yen as important as a difference of 1 US Dollar! This clearly doesn't fit with our intuitions of the world. With currency, you can convert between currencies. But what about if you're looking at something like height and weight? It's not entirely clear how many pounds should equal one inch (or how many kilograms should equal one meter).\n",
    "\n",
    "By scaling your variables, you can help compare different variables on equal footing. "
   ]
  },
  {
   "cell_type": "code",
   "execution_count": 69,
   "metadata": {},
   "outputs": [
    {
     "name": "stdout",
     "output_type": "stream",
     "text": [
      "Collecting mlxtend\n",
      "  Downloading mlxtend-0.23.1-py3-none-any.whl.metadata (7.3 kB)\n",
      "Requirement already satisfied: scipy>=1.2.1 in /projects/app/anaconda/envs/machine_learning_gpu/lib/python3.9/site-packages (from mlxtend) (1.11.3)\n",
      "Requirement already satisfied: numpy>=1.16.2 in /projects/app/.local/lib/python3.9/site-packages (from mlxtend) (1.24.3)\n",
      "Requirement already satisfied: pandas>=0.24.2 in /projects/app/anaconda/envs/machine_learning_gpu/lib/python3.9/site-packages (from mlxtend) (2.1.2)\n",
      "Requirement already satisfied: scikit-learn>=1.0.2 in /projects/app/anaconda/envs/machine_learning_gpu/lib/python3.9/site-packages (from mlxtend) (1.3.2)\n",
      "Requirement already satisfied: matplotlib>=3.0.0 in /projects/app/anaconda/envs/machine_learning_gpu/lib/python3.9/site-packages (from mlxtend) (3.8.1)\n",
      "Requirement already satisfied: joblib>=0.13.2 in /projects/app/anaconda/envs/machine_learning_gpu/lib/python3.9/site-packages (from mlxtend) (1.3.2)\n",
      "Requirement already satisfied: contourpy>=1.0.1 in /projects/app/anaconda/envs/machine_learning_gpu/lib/python3.9/site-packages (from matplotlib>=3.0.0->mlxtend) (1.1.1)\n",
      "Requirement already satisfied: cycler>=0.10 in /projects/app/anaconda/envs/machine_learning_gpu/lib/python3.9/site-packages (from matplotlib>=3.0.0->mlxtend) (0.12.1)\n",
      "Requirement already satisfied: fonttools>=4.22.0 in /projects/app/anaconda/envs/machine_learning_gpu/lib/python3.9/site-packages (from matplotlib>=3.0.0->mlxtend) (4.44.0)\n",
      "Requirement already satisfied: kiwisolver>=1.3.1 in /projects/app/anaconda/envs/machine_learning_gpu/lib/python3.9/site-packages (from matplotlib>=3.0.0->mlxtend) (1.4.5)\n",
      "Requirement already satisfied: packaging>=20.0 in /projects/app/.local/lib/python3.9/site-packages (from matplotlib>=3.0.0->mlxtend) (23.2)\n",
      "Requirement already satisfied: pillow>=8 in /projects/app/anaconda/envs/machine_learning_gpu/lib/python3.9/site-packages (from matplotlib>=3.0.0->mlxtend) (10.3.0)\n",
      "Requirement already satisfied: pyparsing>=2.3.1 in /projects/app/anaconda/envs/machine_learning_gpu/lib/python3.9/site-packages (from matplotlib>=3.0.0->mlxtend) (3.1.1)\n",
      "Requirement already satisfied: python-dateutil>=2.7 in /projects/app/anaconda/envs/machine_learning_gpu/lib/python3.9/site-packages (from matplotlib>=3.0.0->mlxtend) (2.8.2)\n",
      "Requirement already satisfied: importlib-resources>=3.2.0 in /projects/app/anaconda/envs/machine_learning_gpu/lib/python3.9/site-packages (from matplotlib>=3.0.0->mlxtend) (6.1.0)\n",
      "Requirement already satisfied: pytz>=2020.1 in /projects/app/anaconda/envs/machine_learning_gpu/lib/python3.9/site-packages (from pandas>=0.24.2->mlxtend) (2023.3.post1)\n",
      "Requirement already satisfied: tzdata>=2022.1 in /projects/app/anaconda/envs/machine_learning_gpu/lib/python3.9/site-packages (from pandas>=0.24.2->mlxtend) (2023.3)\n",
      "Requirement already satisfied: threadpoolctl>=2.0.0 in /projects/app/anaconda/envs/machine_learning_gpu/lib/python3.9/site-packages (from scikit-learn>=1.0.2->mlxtend) (3.2.0)\n",
      "Requirement already satisfied: zipp>=3.1.0 in /projects/app/.local/lib/python3.9/site-packages (from importlib-resources>=3.2.0->matplotlib>=3.0.0->mlxtend) (3.17.0)\n",
      "Requirement already satisfied: six>=1.5 in /projects/app/anaconda/envs/machine_learning_gpu/lib/python3.9/site-packages (from python-dateutil>=2.7->matplotlib>=3.0.0->mlxtend) (1.12.0)\n",
      "Downloading mlxtend-0.23.1-py3-none-any.whl (1.4 MB)\n",
      "\u001b[2K   \u001b[90m━━━━━━━━━━━━━━━━━━━━━━━━━━━━━━━━━━━━━━━━\u001b[0m \u001b[32m1.4/1.4 MB\u001b[0m \u001b[31m41.0 MB/s\u001b[0m eta \u001b[36m0:00:00\u001b[0m00:01\u001b[0m\n",
      "\u001b[?25h\u001b[33mDEPRECATION: textract 1.6.5 has a non-standard dependency specifier extract-msg<=0.29.*. pip 24.0 will enforce this behaviour change. A possible replacement is to upgrade to a newer version of textract or contact the author to suggest that they release a version with a conforming dependency specifiers. Discussion can be found at https://github.com/pypa/pip/issues/12063\u001b[0m\u001b[33m\n",
      "\u001b[0mInstalling collected packages: mlxtend\n",
      "Successfully installed mlxtend-0.23.1\n"
     ]
    }
   ],
   "source": [
    "!pip install mlxtend"
   ]
  },
  {
   "cell_type": "code",
   "execution_count": 71,
   "metadata": {},
   "outputs": [
    {
     "data": {
      "image/png": "[encoded data removed]",
      "text/plain": [
       "<Figure size 1500x300 with 2 Axes>"
      ]
     },
     "metadata": {},
     "output_type": "display_data"
    }
   ],
   "source": [
    "# modules we'll use\n",
    "import pandas as pd\n",
    "import numpy as np\n",
    "\n",
    "# for Box-Cox Transformation\n",
    "from scipy import stats\n",
    "\n",
    "# for min_max scaling\n",
    "from mlxtend.preprocessing import minmax_scaling\n",
    "\n",
    "# plotting modules\n",
    "import seaborn as sns\n",
    "import matplotlib.pyplot as plt\n",
    "\n",
    "# set seed for repr\n",
    "\n",
    "# generate 1000 data points randomly drawn from an exponential distribution\n",
    "original_data = df[field_target].values\n",
    "\n",
    "# mix-max scale the data between 0 and 1\n",
    "scaled_data = minmax_scaling(original_data, columns=[0])\n",
    "\n",
    "# plot both together to compare\n",
    "fig, ax = plt.subplots(1, 2, figsize=(15, 3))\n",
    "sns.histplot(original_data, ax=ax[0], kde=True, legend=False)\n",
    "ax[0].set_title(\"Original Data\")\n",
    "sns.histplot(scaled_data, ax=ax[1], kde=True, legend=False)\n",
    "ax[1].set_title(\"Scaled data\")\n",
    "plt.show()"
   ]
  },
  {
   "cell_type": "markdown",
   "metadata": {},
   "source": [
    "### Normalization\n",
    "\r\n",
    "Scaling just changes the range of your data. Normalization is a more radical transformation. The point of normalization is to change your observations so that they can be described as a normal distribution.\r\n",
    "\r\n",
    "Normal distribution: Also known as the \"bell curve\", this is a specific statistical distribution where a roughly equal observations fall above and below the mean, the mean and the median are the same, and there are more observations closer to the mean. The normal distribution is also known as the Gaussian distribution.\r\n",
    "\r\n",
    "In general, you'll normalize your data if you're going to be using a machine learning or statistics technique that assumes your data is normally distributed. Some examples of these include linear discriminant analysis (LDA) and Gaussian naive Bayes. (Pro tip: any method with \"Gaussian\" in the name probably assumes normality.)\r\n",
    "\r\n",
    "The method we're using to normalize here is called the Box-Cox Transformation. Let's take a quick peek at what normalizing some data looks like:"
   ]
  },
  {
   "cell_type": "code",
   "execution_count": 72,
   "metadata": {},
   "outputs": [
    {
     "data": {
      "image/png": "[encoded data removed]",
      "text/plain": [
       "<Figure size 1500x300 with 2 Axes>"
      ]
     },
     "metadata": {},
     "output_type": "display_data"
    }
   ],
   "source": [
    "# normalize the exponential data with boxcox\n",
    "normalized_data = stats.boxcox(original_data)\n",
    "\n",
    "# plot both together to compare\n",
    "fig, ax=plt.subplots(1, 2, figsize=(15, 3))\n",
    "sns.histplot(original_data, ax=ax[0], kde=True, legend=False)\n",
    "ax[0].set_title(\"Original Data\")\n",
    "sns.histplot(normalized_data[0], ax=ax[1], kde=True, legend=False)\n",
    "ax[1].set_title(\"Normalized data\")\n",
    "plt.show()"
   ]
  },
  {
   "cell_type": "markdown",
   "metadata": {},
   "source": [
    "### String Encoding"
   ]
  },
  {
   "cell_type": "code",
   "execution_count": 7,
   "metadata": {},
   "outputs": [],
   "source": [
    "# helpful character encoding module\n",
    "import charset_normalizer"
   ]
  },
  {
   "cell_type": "code",
   "execution_count": 8,
   "metadata": {},
   "outputs": [
    {
     "name": "stdout",
     "output_type": "stream",
     "text": [
      "This is the euro symbol: ?\n"
     ]
    }
   ],
   "source": [
    "# start with a string\n",
    "before = \"This is the euro symbol: €\"\n",
    "\n",
    "# encode it to a different encoding, replacing characters that raise errors\n",
    "after = before.encode(\"ascii\", errors = \"replace\")\n",
    "\n",
    "# convert it back to utf-8\n",
    "print(after.decode(\"ascii\"))\n",
    "\n",
    "# We've lost the original underlying byte string! It's been \n",
    "# replaced with the underlying byte string for the unknown character :("
   ]
  },
  {
   "cell_type": "code",
   "execution_count": null,
   "metadata": {},
   "outputs": [],
   "source": [
    "# look at the first ten thousand bytes to guess the character encoding\n",
    "with open(\"../input/kickstarter-projects/ks-projects-201801.csv\", 'rb') as rawdata:\n",
    "    result = charset_normalizer.detect(rawdata.read(10000))\n",
    "\n",
    "# check what the character encoding might be\n",
    "print(result)"
   ]
  },
  {
   "cell_type": "code",
   "execution_count": null,
   "metadata": {},
   "outputs": [],
   "source": [
    "# read in the file with the encoding detected by charset_normalizer\n",
    "kickstarter_2016 = pd.read_csv(\"../input/kickstarter-projects/ks-projects-201612.csv\", encoding='Windows-1252')\n",
    "\n",
    "# look at the first few lines\n",
    "kickstarter_2016.head()"
   ]
  },
  {
   "cell_type": "markdown",
   "metadata": {},
   "source": [
    "# Clean Up Some Data"
   ]
  },
  {
   "cell_type": "code",
   "execution_count": null,
   "metadata": {},
   "outputs": [],
   "source": [
    "print(df.isnull())\n",
    "print(df.isnull().sum())\n",
    "\n",
    "# Exploring the Pandas .dropna() method\n",
    "df.dropna(\n",
    "    axis=0,         # Whether to drop rows or columns\n",
    "    how='any',      # Whether to drop records if 'all' or 'any' records are missing\n",
    "    thresh=None,    # How many columns/rows must be missing to drop\n",
    "    subset=None,    # Which rows/columns to consider\n",
    "    inplace=False   # Whether to drop in place (i.e., without needing to re-assign)\n",
    ")\n",
    "\n",
    "# Dropping Records Only if All Records are Missing\n",
    "df = df.dropna(how='all')\n",
    "print(df)\n",
    "\n",
    "# Using .fillna() to Fill Missing Data\n",
    "df = df.fillna(0)\n",
    "print(df)\n",
    "#filling NA with discrete values\n",
    "df = df.fillna({'Name': 'Someone', 'Age': 25, 'Location': 'USA'})\n",
    "print(df)\n",
    "#OR\n",
    "# Imputing a Missing Value\n",
    "df['Age'] = df['Age'].fillna(df['Age'].mean())\n",
    "print(df)\n",
    "\n",
    "#duplicated data\n",
    "print(df.duplicated().sum())\n",
    "# The Pandas .drop_duplicates() method\n",
    "df.drop_duplicates(\n",
    "    subset=None,            # Which columns to consider \n",
    "    keep='first',           # Which duplicate record to keep\n",
    "    inplace=False,          # Whether to drop in place\n",
    "    ignore_index=False      # Whether to relabel the index\n",
    ")\n",
    "# Dropping Based on a Subset of Columns\n",
    "df = df.sort_values(by='Date Modified', ascending=False)\n",
    "df = df.drop_duplicates(subset=['Name', 'Age'], keep='first')\n",
    "print(df)\n",
    "\n",
    "# Trimming Whitespace from a Pandas Column\n",
    "df['Favorite Color'] = df['Favorite Color'].str.strip()\n",
    "print(df)\n",
    "# Splitting a Column into Two Columns\n",
    "df[['Last Name', 'First Name']] = df['Name'].str.split(',', expand=True)\n",
    "# Replacing a Substring in Pandas\n",
    "df['Region'] = df['Region'].str.replace('Region ', '')\n",
    "print(df)\n",
    "\n",
    "# Changing Text to Title Case in Pandas (.upper(), .lower(), .title())\n",
    "df['Location'] = df['Location'].str.title()\n",
    "print(df)\n",
    "\n",
    "#Convert 'Column1' to float\n",
    "df['Column1'] = df['Column1'].astype(float)\n",
    "\n",
    "\n",
    "\n",
    "try:\n",
    "        debug.msg_info(\"......dropping N/A's\")\n",
    "        the_current_df.dropna(how=\"any\", inplace=True)\n",
    "    except Exception as e:\n",
    "        debug.msg_error(\n",
    "            f\"FAILED {the_filename} to dropna().  Aborting this load.  See exception: {e}\"\n",
    "        )\n",
    "        return pd.DataFrame()\n",
    "\n",
    "\n",
    "  try:\n",
    "        debug.msg_info(\n",
    "            \"......filtering data for all optics columns < 0.0 out...dropping rows\"\n",
    "        )\n",
    "        #        for idx, var_name in enumerate(inc_col_names[4:-1:1]):\n",
    "        for idx, var_name in enumerate(inc_col_names[4:]):\n",
    "            the_records = the_current_df.where(the_current_df[var_name] < 0.0)\n",
    "            # the_current_df.drop(\n",
    "            #    the_current_df[the_current_df[var_name] < 0.0].index, inplace=True\n",
    "            # )\n",
    "            the_indexes = the_current_df[the_current_df[var_name] < 0.0].index\n",
    "            the_current_df.drop(the_indexes, inplace=True)\n",
    "            debug.msg_debug(\n",
    "                \"......dropped rows for {} < 0.0 - {} rows remain\".format(\n",
    "                    var_name, the_current_df.shape[0]\n",
    "                )\n",
    "            )\n",
    "\n",
    "    except Exception as e:\n",
    "        debug.msg_error(\n",
    "            f\"FAILED {the_filename} to clean data for values < 0.0.  Aborting this load.  See exception: {e}\"\n",
    "        )\n",
    "        return pd.DataFrame()\n",
    "\n",
    "    try:\n",
    "        # now, perform the final cleanse 1: Perform a inf/-inf cleaning and 2: apply SAVANT min/max limits\n",
    "        debug.msg_debug(\"......applying -inf/inf cleaning procedure.\")\n",
    "        the_current_df.replace([np.inf, -np.inf, 0.0], np.nan, inplace=True)\n",
    "    except Exception as e:\n",
    "        debug.msg_error(\n",
    "            f\"FAILED {the_filename} to clean data for NaN/Inf.  Aborting this load.  See exception: {e}\"\n",
    "        )\n",
    "        return pd.DataFrame()\n",
    "\n",
    "\n",
    "#min/max check\n",
    "#find values and replace\n",
    "for x in df.index:\n",
    "  if df.loc[x, \"Duration\"] > 120:\n",
    "    df.loc[x, \"Duration\"] = 120\n",
    "#OR remove rows\n",
    "for x in df.index:\n",
    "  if df.loc[x, \"Duration\"] > 120:\n",
    "    df.drop(x, inplace = True)\n",
    "      \n",
    "#physical reality check:Quit!"
   ]
  },
  {
   "cell_type": "markdown",
   "metadata": {},
   "source": [
    "### References\n",
    "\n",
    "+ https://realpython.com/python-data-cleaning-numpy-pandas/\n",
    "+ https://www.w3schools.com/python/pandas/pandas_cleaning_wrong_data.asp\n",
    "+ https://www.analyticsvidhya.com/blog/2021/06/data-cleaning-using-pandas/#What_Is_Data_Cleaning?\n",
    "+ https://www.kaggle.com/learn/data-cleaning?ref=datascientyst.com\n",
    "+ https://www.kaggle.com/code/alexisbcook/character-encodings\n",
    "\n",
    "+ Put in PYOD, profiling, and aquetis\n",
    "\n",
    "  Do data cleanup first, then perform anomaly detection, profile, aquetis"
   ]
  },
  {
   "cell_type": "code",
   "execution_count": null,
   "metadata": {},
   "outputs": [],
   "source": []
  }
 ],
 "metadata": {
  "kernelspec": {
   "display_name": "Python 3 (ipykernel)",
   "language": "python",
   "name": "python3"
  },
  "language_info": {
   "codemirror_mode": {
    "name": "ipython",
    "version": 3
   },
   "file_extension": ".py",
   "mimetype": "text/x-python",
   "name": "python",
   "nbconvert_exporter": "python",
   "pygments_lexer": "ipython3",
   "version": "3.9.18"
  }
 },
 "nbformat": 4,
 "nbformat_minor": 4
}
